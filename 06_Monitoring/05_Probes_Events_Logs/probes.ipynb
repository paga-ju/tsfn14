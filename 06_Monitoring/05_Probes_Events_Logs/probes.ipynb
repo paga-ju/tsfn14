{
 "cells": [
  {
   "cell_type": "markdown",
   "metadata": {},
   "source": [
    "## Here's a Recap on Monitoring and Self-Healing with Probes\n",
    "\n",
    "- On each node in a kubernetes cluster, the **kubelet** monitors the **health of Pods** and re-starts them when necessary.\n",
    "\n",
    "<img src=../notebook_images/pod_crash_restart.png width=\"600\" height=\"200\" style=\"margin: 1em\" />\n",
    "\n",
    "- But the **kubelet** can't determine the **health of a container running inside a Pod** without additional help.\n",
    "\n",
    "<img src=../notebook_images/container_crash_no_restart.png width=\"600\" height=\"200\" style=\"margin: 1em\" />\n",
    "\n",
    "- In the **containers** section of a Pod (or Pod template) definition, each container can define three different types of **Probes**.\n",
    "  - <span style=\"color:#DDDD00;font-weight:bold\">startupProbe</span> : used to determine if the container's microservice is considered initialzed and **started**.\n",
    "    - A **failed startup probe** will **restart the container**.\n",
    "  - <span style=\"color:#00C800;font-weight:bold\">readinessProbe</span> : used to determine if the container's microservice is considered  **ready to accept traffic**.\n",
    "    - A **failed readiness probe** will **stop the container from receiving traffic** (it will not restart the container).\n",
    "  - <span style=\"color:#6688FF;font-weight:bold\">livenessProbe</span> : used to determine if the container's microservice is considered **alive**.\n",
    "    - A **failed liveness probe** will **restart the container**.\n",
    "\n",
    "<img src=../notebook_images/pod_with_probes.png width=\"900\" height=\"500\" style=\"margin: 1em\" />\n",
    "\n",
    "- The **kubelet** will **use the probes to determine a container's health** (or more importantly, the **health of the microservice** it contains).\n",
    "  - The **kubelet** checks a container periodically using the configured **probes**.\n",
    "  - The **kubelet** will **restart a Pod** who's container's **liveness proble** is considered **failed**.\n",
    "\n",
    "<img src=../notebook_images/kubelet_container_probing.png width=\"300\" height=\"150\" style=\"margin: 1em\" />\n",
    "\n",
    "- Each probe can be configured to use one of three **probe actions**.\n",
    "  - <span style=\"color:#DDDD00;font-weight:bold\">exec</span> action will execute a command inside the container.\n",
    "    - The action **succeeds** if the commands **exit code is 0**.\n",
    "    - The action **fails** if the commands **exit code is not 0**.\n",
    "  - <span style=\"color:#00C800;font-weight:bold\">tcpSocket</span> action will Check if a TCP port is open in the container.\n",
    "    - The action **succeeds** if the TCP **port is open**.\n",
    "    - The action **fails** if the TCP **port is not open**.\n",
    "  - <span style=\"color:#6688FF;font-weight:bold\">httpGet</span> action will issue an HTTP GET request against a specific port and path in the container.\n",
    "    - The action **succeeds** if the **HTTP response code is between 200 and 400** (e.g. **200**).\n",
    "    - The action **fails** if the **HTTP response code is not between 200 and 400** (e.g. **500**).\n",
    "\n",
    "<img src=../notebook_images/pod_with_probe_actions.png width=\"800\" height=\"500\" style=\"margin: 1em\" />\n",
    "\n",
    "- Also notice the following settings each probe can define:\n",
    "  - **initialDelaySeconds** is the initial delay in seconds between the container starting and the probing commencing.\n",
    "  - **periodSeconds** is the time in seconds between each successive probe.\n",
    "  - **failureThreshold** is the number of times the probe can be unsuccessful before the probe is considered failed.\n",
    "    - E.g. `initialDelaySeconds: 5`. `periodSeconds: 2`, `failureThreshold: 3` means:\n",
    "      - The probing by the `kubelet` commences `5` seconds after the container starts.\n",
    "      - The `kubelet` will run the probe every `2` seconds after the initial delay.\n",
    "      - If the probe is unsuccessful `3` times, the probe is considered failed.\n",
    "      - The first time the probe is run is `initialDeplySeconds + periodSeconds`, i.e. `5 + 2 = 7` seconds.\n",
    "  - Note that:\n",
    "    - The first time a probe is run is `initialDeplySeconds + periodSeconds`.\n",
    "    - The **readinessProbe** and the **livenessProbe** won't run until the **startupProbe** succeeds.\n",
    "    - A probe is considered **failed** after **failureThreashold** number of **unsuccessful attempts**.\n",
    "    - A failed **startupProbe** or **livenessProbe** will **restart** the Pod.\n",
    "    - A failed **readinessProbe** will **not restart** the Pod, but will **stop traffic** being sent to the Pod."
   ]
  },
  {
   "cell_type": "markdown",
   "metadata": {},
   "source": [
    "## Ensure a Kubenetes cluster is running\n",
    "\n",
    "- Use any Kubernetes cluster.\n",
    "  - In this example, a Minikube cluster with 3 nodes is used: `minikube start --nodes 3`.\n",
    "\n",
    "**Note! If you are running an Azure Kubernetes Service (AKS), you will also need an Azure Container Registry.**"
   ]
  },
  {
   "cell_type": "markdown",
   "metadata": {},
   "source": [
    "## Build `probe-example` Docker Image\n",
    "\n",
    "- Let's build a Docker image of the sample microservice in the folder `probe-example`.\n",
    "  - The code is in the file `probe-example/src/index.js`.\n",
    "\n",
    "- The microservice is a Node.js Express Web Server that does the following:\n",
    "  1. Set timestamp `startupTimestamp` of when the microservice started.\n",
    "  2. Wait (sleep) for `10` seconds to simulate startup time (initializing the microservice).\n",
    "  3. Write file `/tmp/started` to indicate the microservice has started.\n",
    "     - This is what the `startupProbe` checks.\n",
    "  4. Wait (sleep) for `10` seconds to simulate a delay before the microservice is ready to accept traffic.\n",
    "  5. Start the Express Web Server listening on port `3000` to indicate the microservie is ready to accept traffic\n",
    "     - This is what the `readinessProbe` checks.\n",
    "  6. Respond to HTTP GET requests on route (path) `/healthz` to indicate a state of liveness\n",
    "     - This is what the `livenessProbe` checks.\n",
    "     - If within `40` seconds of the microservice's `startupTimestamp`, return status `200` (ok).\n",
    "     - If **not** within `40` seconds of the microservice's `startupTimestamp`, return status `500` (internal server error).\n",
    "- The file `probe-example/src/index.js` also outputs log information using `console.log()` and `console.error()`.\n",
    "\n",
    "**Note! If you are running an Azure Kubernetes Service (AKS), you will need to change the Container Registy's URL below**\n",
    "\n",
    "- **E.g. use `-t $CONTAINER_REGISTRY_LOGIN_SERVER/probe-example` but with your own Container Registry's details**"
   ]
  },
  {
   "cell_type": "code",
   "execution_count": 1,
   "metadata": {},
   "outputs": [
    {
     "name": "stdout",
     "output_type": "stream",
     "text": [
      "failed to fetch metadata: fork/exec /usr/local/lib/docker/cli-plugins/docker-buildx: no such file or directory\n",
      "\n",
      "DEPRECATED: The legacy builder is deprecated and will be removed in a future release.\n",
      "            Install the buildx component to build images with BuildKit:\n",
      "            https://docs.docker.com/go/buildx/\n",
      "\n",
      "Sending build context to Docker daemon  50.69kB\n",
      "Step 1/6 : FROM node:19.9.0-alpine\n",
      " ---> e2a8cc97f817\n",
      "Step 2/6 : WORKDIR /usr/src/app\n",
      " ---> Using cache\n",
      " ---> 4cb91cb53a6b\n",
      "Step 3/6 : COPY package*.json ./\n",
      " ---> Using cache\n",
      " ---> d9668cc525c6\n",
      "Step 4/6 : RUN npm ci --omit=dev\n",
      " ---> Using cache\n",
      " ---> 2b7a3518da79\n",
      "Step 5/6 : COPY ./src ./src\n",
      " ---> 9c81cc664e77\n",
      "Step 6/6 : CMD npm start\n",
      " ---> Running in 686f12714795\n",
      "Removing intermediate container 686f12714795\n",
      " ---> 4238337156c2\n",
      "Successfully built 4238337156c2\n",
      "Successfully tagged probe-example:latest\n"
     ]
    }
   ],
   "source": [
    "!docker build -t probe-example -f probe-example/Dockerfile probe-example/."
   ]
  },
  {
   "cell_type": "markdown",
   "metadata": {},
   "source": [
    "## Load the Docker image from the host machine into the Minikube nodes\n",
    "\n",
    "- The command below will load the image from your host machine into the Minikube nodes.\n",
    "\n",
    "**Note! If you are using an Azure Kubernetes Service (AKS), you need to push the image to the Container Registry**\n",
    "\n",
    "- **E.g., issue the equivalent commands below (but use your own Container Registry's details)**\n",
    "  ```bash\n",
    "  docker login $CONTAINER_REGISTRY_LOGIN_SERVER -u $CONTAINER_REGISTRY_USERNAME -p $CONTAINER_REGISTRY_PASSWORD\n",
    "  docker push $CONTAINER_REGISTRY_LOGIN_SERVER/probe-example\n",
    "  ```\n",
    "\n",
    "**Note! If you are using another Kubernetes cluster (besides Minikube or AKS), you need to make the image avaialble there**"
   ]
  },
  {
   "cell_type": "code",
   "execution_count": 2,
   "metadata": {},
   "outputs": [
    {
     "name": "stdout",
     "output_type": "stream",
     "text": [
      "docker.io/library/probe-example:latest\n"
     ]
    }
   ],
   "source": [
    "!minikube image load probe-example:latest\n",
    "!minikube image ls | grep probe-example"
   ]
  },
  {
   "cell_type": "markdown",
   "metadata": {},
   "source": [
    "## Remove `probe-example` Docker Image on Host Machine\n",
    "\n",
    "- The command below will remove the Docker image on the host machine.\n",
    "\n",
    "**Note! If you are using an Azure Kubernetes Service (AKS), you need to use the Container Registry's tag**\n",
    "\n",
    "- **E.g., issue the equivalent command below (but use your own Container Registry's details)**\n",
    "  ```bash\n",
    "  docker rmi $CONTAINER_REGISTRY_LOGIN_SERVER/probe-example\n",
    "  ```\n",
    "\n",
    "**Note! If you are using another Kubernetes cluster (besides Minikube or AKS), you need to use that Container Registry's tag**"
   ]
  },
  {
   "cell_type": "code",
   "execution_count": 3,
   "metadata": {},
   "outputs": [
    {
     "name": "stdout",
     "output_type": "stream",
     "text": [
      "Untagged: probe-example:latest\n",
      "Deleted: sha256:4238337156c2a30a0a77cfa47b428a4da5df476cbd9080a921000381dda87d40\n",
      "Deleted: sha256:9c81cc664e77e6c45e5d471a709f14b55920bfe1d61b350b6b49b699401d21bb\n",
      "Deleted: sha256:e9c640899a8aa2a858aa85ba79f59852edf0b0d47b8fe7ce63d9e40c79e6acc1\n"
     ]
    }
   ],
   "source": [
    "!docker rmi probe-example"
   ]
  },
  {
   "cell_type": "markdown",
   "metadata": {},
   "source": [
    "## Watch Events produced by the `probe-example` Pod\n",
    "\n",
    "- Run this command in a terminal (won't work from a notebook cell)\n",
    "\n",
    "```bash\n",
    "\n",
    "# Monitor (watch) events produced by the \"probe-example\" Pod\n",
    "kubectl get events --watch --field-selector involvedObject.name=probe-example\n",
    "```"
   ]
  },
  {
   "cell_type": "markdown",
   "metadata": {},
   "source": [
    "## Deploy the Pod `probe-example`\n",
    "\n",
    "- The definition of the Pod is in the file `manifests/probe-example.yaml`.\n",
    "- The Pod is named `probe-example`.\n",
    "- It's container uses the Docker image `probe-example` (that we built above).\n",
    "  \n",
    "  - It listens on port `3000`.\n",
    "  - It defines three probes `startupProbe`, `readinessProbe` and `livenessProbe` as below:\n",
    "\n",
    "    ```bash\n",
    "    startupProbe:              # The startupProbe checks for (lists) the file /tmp/started\n",
    "      exec:\n",
    "        command:\n",
    "        - cat\n",
    "        - /tmp/started\n",
    "      initialDelaySeconds: 5   # The initial startupProbe is run 5 + 4 = 9 seconds after the Pod starts\n",
    "      periodSeconds: 4         # After the initial startupProbe, the startupProbe is run every 4 seconds\n",
    "      failureThreshold: 10     # If the startupProbe in unsuccessful 10 times => startupProbe failed (Pod restarted)\n",
    "    \n",
    "    readinessProbe:            # The readinessProbe checks if TCP port 3000 is open\n",
    "      tcpSocket:\n",
    "        port: 3000\n",
    "      initialDelaySeconds: 5   # The initial readinessProbe is run 5 + 2 = 7 seconds after the startupProbe succeeds\n",
    "      periodSeconds: 2         # After the initial readinessProbe, the readinessProbe is run every 2 seconds\n",
    "      failureThreshold: 10     # If the readinessProbe in unsuccessful 10 times => readinessProbe failed (traffic stopped)\n",
    "    \n",
    "    livenessProbe:             # The livenessProbe issues HTTP GET request to path /healthz on port 3000\n",
    "      httpGet:\n",
    "        path: /healthz\n",
    "        port: 3000\n",
    "      initialDelaySeconds: 25  # The initial livenessProbe is run 25 + 2 = 7 seconds after the startupProbe succeeds\n",
    "      periodSeconds: 2         # After the initial livenessProbe, the livenessProbe is run every 2 seconds\n",
    "      failureThreshold: 6      # If the livenessProbe in unsuccessful 6 times => livenessProbe has failed (Pod restarted)\n",
    "      ```"
   ]
  },
  {
   "cell_type": "code",
   "execution_count": 4,
   "metadata": {},
   "outputs": [
    {
     "name": "stdout",
     "output_type": "stream",
     "text": [
      "pod/probe-example created\n"
     ]
    }
   ],
   "source": [
    "!kubectl apply -f manifests/probe-example.yaml"
   ]
  },
  {
   "cell_type": "markdown",
   "metadata": {},
   "source": [
    "## Watch Information produced by the `probe-example` Pod\n",
    "\n",
    "- Run this command in a terminal (won't work from a notebook cell)\n",
    "\n",
    "```bash\n",
    "\n",
    "# Monitor (watch) logs (stdout, stderr) produced by the \"probe-example\" Pod\n",
    "kubectl get pod probe-example -o wide  --watch\n",
    "```"
   ]
  },
  {
   "cell_type": "markdown",
   "metadata": {},
   "source": [
    "## Watch Logs produced by the `probe-example` Pod\n",
    "\n",
    "- Run this command in a terminal (won't work from a notebook cell)\n",
    "- The command `kubectl logs probe-example --follow` will watch (follow) the log continuously.\n",
    "- The command `kubectl logs probe-example --follow --tail 10` will only show the latest `10` log lines.\n",
    "\n",
    "```bash\n",
    "\n",
    "# Monitor (watch) logs (stdout, stderr) produced by the \"probe-example\" Pod\n",
    "kubectl logs probe-example --follow\n",
    "```"
   ]
  },
  {
   "cell_type": "markdown",
   "metadata": {},
   "source": [
    "## Check the Events produced by `probe-example` Pod in the terminal\n",
    "\n",
    "- You should see something similar to the output below\n",
    "  - First the `probe-example` image is pulled from its Container Registry (if necessary).\n",
    "  - Then the `probe-example` container is created and started.\n",
    "  - The `kubelet` starts runing the `startupProbe` after `initialDelaySeconds + periodSeconds`, and then every `periodSeconds`.\n",
    "  - Initially, the file `/tmp/started` doesn't exist in the container, so the `startupProbe` is unsuccessful.\n",
    "    - The `kubelet` will retry the `startupProbe` at most `failureThreshold` times (then restart the Pod).\n",
    "  - Eventually, the `startupProbe` succeeds (the number of attempts never reaches `failureThreshold`).\n",
    "    - The `kubelet` starts running the `readinessProbe` and `livenessProbe`.\n",
    "      - The `kubelet` starts runing the `readinessProbe` after `initialDelaySeconds + periodSeconds`, and then every `periodSeconds`.\n",
    "      - The `kubelet` starts runing the `livenessProbe` after `initialDelaySeconds + periodSeconds`, and then every `periodSeconds`.\n",
    "  - Initially, TCP port `3000` isn't open in the container, so the `readinessProbe` is unsuccessful.\n",
    "    - The `kubelet` will retry the `readinessProbe` at most `failureThreshold` times (then stop sending traffic to the Pod).\n",
    "  - Eventually, the `readinessProbe` succeeds (the number of attempts never reaches `failureThreshold`).\n",
    "  - Initially, the HTTP GET request to route (path) `/healthz` on port `3000` for the `livenessProbe` is successful (no event registered).\n",
    "  - Eventually, the `livenessProbe` is unsuccessfull.\n",
    "    - The `kubelet` will retry the `livenessProbe` at most `failureThreshold` times (then restart the Pod).\n",
    "    - Since the `failureThreshold` is reached, the `kubelet` restarts the Pod.\n",
    "  - This pattern then keeps repeating.\n",
    "\n",
    "```bash\n",
    "LAST SEEN   TYPE      REASON      OBJECT              MESSAGE\n",
    "0s          Normal    Scheduled   pod/probe-example   Successfully assigned default/probe-example to minikube-m02\n",
    "\n",
    "0s          Normal    Pulled      pod/probe-example   Container image \"probe-example:latest\" already present on machine\n",
    "0s          Normal    Created     pod/probe-example   Created container probe-example\n",
    "0s          Normal    Started     pod/probe-example   Started container probe-example\n",
    "0s          Warning   Unhealthy   pod/probe-example   Startup probe failed: cat: can't open '/tmp/started'\n",
    "0s          Warning   Unhealthy   pod/probe-example   Startup probe failed: cat: can't open '/tmp/started'\n",
    "0s          Warning   Unhealthy   pod/probe-example   Readiness probe failed: dial tcp 10.244.1.8:3000: connection refused\n",
    "0s          Warning   Unhealthy   pod/probe-example   Readiness probe failed: dial tcp 10.244.1.8:3000: connection refused\n",
    "0s          Warning   Unhealthy   pod/probe-example   Readiness probe failed: dial tcp 10.244.1.8:3000: connection refused\n",
    "0s          Warning   Unhealthy   pod/probe-example   Readiness probe failed: dial tcp 10.244.1.8:3000: connection refused\n",
    "0s          Warning   Unhealthy   pod/probe-example   Liveness probe failed: HTTP probe failed with statuscode: 500\n",
    "0s          Warning   Unhealthy   pod/probe-example   Liveness probe failed: HTTP probe failed with statuscode: 500\n",
    "0s          Warning   Unhealthy   pod/probe-example   Liveness probe failed: HTTP probe failed with statuscode: 500\n",
    "0s          Warning   Unhealthy   pod/probe-example   Liveness probe failed: HTTP probe failed with statuscode: 500\n",
    "0s          Warning   Unhealthy   pod/probe-example   Liveness probe failed: HTTP probe failed with statuscode: 500\n",
    "0s          Warning   Unhealthy   pod/probe-example   Liveness probe failed: HTTP probe failed with statuscode: 500\n",
    "0s          Normal    Killing     pod/probe-example   Container probe-example failed liveness probe, will be restarted\n",
    "\n",
    "0s          Normal    Pulled      pod/probe-example   Container image \"probe-example:latest\" already present on machine\n",
    "0s          Normal    Created     pod/probe-example   Created container probe-example\n",
    "0s          Normal    Started     pod/probe-example   Started container probe-example\n",
    "0s          Warning   Unhealthy   pod/probe-example   Startup probe failed: cat: can't open '/tmp/started'\n",
    "0s          Warning   Unhealthy   pod/probe-example   Startup probe failed: cat: can't open '/tmp/started'\n",
    "0s          Warning   Unhealthy   pod/probe-example   Readiness probe failed: dial tcp 10.244.1.8:3000: connection refused\n",
    "0s          Warning   Unhealthy   pod/probe-example   Readiness probe failed: dial tcp 10.244.1.8:3000: connection refused\n",
    "0s          Warning   Unhealthy   pod/probe-example   Readiness probe failed: dial tcp 10.244.1.8:3000: connection refused\n",
    "0s          Warning   Unhealthy   pod/probe-example   Readiness probe failed: dial tcp 10.244.1.8:3000: connection refused\n",
    "```"
   ]
  },
  {
   "cell_type": "markdown",
   "metadata": {},
   "source": [
    "## Describe the Pod (detailed Pod information)\n",
    "\n",
    "- The description of a Pod contains similar `event` information as above at the bottom of its listing."
   ]
  },
  {
   "cell_type": "code",
   "execution_count": 2,
   "metadata": {},
   "outputs": [
    {
     "name": "stdout",
     "output_type": "stream",
     "text": [
      "Name:             probe-example\n",
      "Namespace:        default\n",
      "Priority:         0\n",
      "Service Account:  default\n",
      "Node:             minikube-m02/192.168.49.3\n",
      "Start Time:       Wed, 14 Feb 2024 13:49:30 +0100\n",
      "Labels:           app=probe-example\n",
      "Annotations:      <none>\n",
      "Status:           Running\n",
      "IP:               10.244.1.8\n",
      "IPs:\n",
      "  IP:  10.244.1.8\n",
      "Containers:\n",
      "  probe-example:\n",
      "    Container ID:   docker://a7d623951e6be0a4dd822d8b4534e757bc697381ebe5e7c9fbd60412b2a49c99\n",
      "    Image:          probe-example:latest\n",
      "    Image ID:       docker://sha256:4238337156c2a30a0a77cfa47b428a4da5df476cbd9080a921000381dda87d40\n",
      "    Port:           3000/TCP\n",
      "    Host Port:      0/TCP\n",
      "    State:          Running\n",
      "      Started:      Wed, 14 Feb 2024 13:50:25 +0100\n",
      "    Last State:     Terminated\n",
      "      Reason:       Error\n",
      "      Exit Code:    1\n",
      "      Started:      Wed, 14 Feb 2024 13:49:30 +0100\n",
      "      Finished:     Wed, 14 Feb 2024 13:50:25 +0100\n",
      "    Ready:          False\n",
      "    Restart Count:  1\n",
      "    Limits:\n",
      "      cpu:     250m\n",
      "      memory:  256Mi\n",
      "    Requests:\n",
      "      cpu:        100m\n",
      "      memory:     128Mi\n",
      "    Liveness:     http-get http://:3000/healthz delay=25s timeout=1s period=2s #success=1 #failure=6\n",
      "    Readiness:    tcp-socket :3000 delay=5s timeout=1s period=2s #success=1 #failure=10\n",
      "    Startup:      exec [cat /tmp/started] delay=5s timeout=1s period=4s #success=1 #failure=10\n",
      "    Environment:  <none>\n",
      "    Mounts:\n",
      "      /var/run/secrets/kubernetes.io/serviceaccount from kube-api-access-fz6sc (ro)\n",
      "Conditions:\n",
      "  Type              Status\n",
      "  Initialized       True \n",
      "  Ready             False \n",
      "  ContainersReady   False \n",
      "  PodScheduled      True \n",
      "Volumes:\n",
      "  kube-api-access-fz6sc:\n",
      "    Type:                    Projected (a volume that contains injected data from multiple sources)\n",
      "    TokenExpirationSeconds:  3607\n",
      "    ConfigMapName:           kube-root-ca.crt\n",
      "    ConfigMapOptional:       <nil>\n",
      "    DownwardAPI:             true\n",
      "QoS Class:                   Burstable\n",
      "Node-Selectors:              <none>\n",
      "Tolerations:                 node.kubernetes.io/not-ready:NoExecute op=Exists for 300s\n",
      "                             node.kubernetes.io/unreachable:NoExecute op=Exists for 300s\n",
      "Events:\n",
      "  Type     Reason     Age                From               Message\n",
      "  ----     ------     ----               ----               -------\n",
      "  Normal   Scheduled  60s                default-scheduler  Successfully assigned default/probe-example to minikube-m02\n",
      "  Warning  Unhealthy  48s (x2 over 52s)  kubelet            Startup probe failed: cat: can't open '/tmp/started': No such file or directory\n",
      "  Warning  Unhealthy  38s (x4 over 44s)  kubelet            Readiness probe failed: dial tcp 10.244.1.8:3000: connect: connection refused\n",
      "  Warning  Unhealthy  6s (x6 over 16s)   kubelet            Liveness probe failed: HTTP probe failed with statuscode: 500\n",
      "  Normal   Killing    6s                 kubelet            Container probe-example failed liveness probe, will be restarted\n",
      "  Normal   Pulled     5s (x2 over 60s)   kubelet            Container image \"probe-example:latest\" already present on machine\n",
      "  Normal   Created    5s (x2 over 60s)   kubelet            Created container probe-example\n",
      "  Normal   Started    5s (x2 over 60s)   kubelet            Started container probe-example\n"
     ]
    }
   ],
   "source": [
    "!kubectl describe pod probe-example"
   ]
  },
  {
   "cell_type": "markdown",
   "metadata": {},
   "source": [
    "## Check the Information produced by `probe-example` Pod in the terminal\n",
    "\n",
    "- You should see something similar to the output below\n",
    "  - Initially then the `probe-example` Pod is started, `0` of `1` container (`0/1`) is `READY`.\n",
    "    - This is because the `probes` aren't successfull until roughly `24` seconds after the Pod has started.\n",
    "  - Eventually, `1` of `1` container (`1/1`) is `READY`.\n",
    "    - This is because the `probes` are successfull at roughly `24` seconds after the Pod has started.\n",
    "  - Lastly, `0` of `1` container (`0/1`) is once again `READY`.\n",
    "    - SInce the `livenessProbe` has failed `failureThreshold` number of times at roughly `55` seconds after the Pod started.\n",
    "  - The `kubelet` restarts the Pod.\n",
    "  - This pattern then keeps repeating.\n",
    "  - When the Pod has been restarted `5` times (`RESTARTS`), its `STATUS` becomes `CrashLoopBackOff`.\n",
    "    - The `kubelet` waits roughtly `1` minute before restarting the Pod.\n",
    "    - The second `CrashLoopBackOff` waits roughly `2` minutes before restarting the Pod.\n",
    "    - Each successive `CrashLoopBackOff` waits roughly `4` minutes before restarting the Pod.\n",
    "\n",
    "```bash\n",
    "NAME            READY   STATUS             RESTARTS         AGE     IP           NODE\n",
    "probe-example   0/1     Running            0                1s      10.244.1.8   minikube-m02\n",
    "probe-example   0/1     Running            0                16s     10.244.1.8   minikube-m02\n",
    "probe-example   1/1     Running            0                24s     10.244.1.8   minikube-m02\n",
    "probe-example   0/1     Running            1 (0s ago)       55s     10.244.1.8   minikube-m02\n",
    "probe-example   0/1     Running            1 (13s ago)      68s     10.244.1.8   minikube-m02\n",
    "probe-example   1/1     Running            1 (23s ago)      78s     10.244.1.8   minikube-m02\n",
    "probe-example   0/1     Running            2 (0s ago)       109s    10.244.1.8   minikube-m02\n",
    "probe-example   0/1     Running            2 (15s ago)      2m4s    10.244.1.8   minikube-m02\n",
    "probe-example   1/1     Running            2 (23s ago)      2m12s   10.244.1.8   minikube-m02\n",
    "probe-example   0/1     Running            3 (1s ago)       2m44s   10.244.1.8   minikube-m02\n",
    "probe-example   0/1     Running            3 (13s ago)      2m56s   10.244.1.8   minikube-m02\n",
    "probe-example   1/1     Running            3 (23s ago)      3m6s    10.244.1.8   minikube-m02\n",
    "probe-example   0/1     Running            4 (0s ago)       3m37s   10.244.1.8   minikube-m02\n",
    "probe-example   0/1     Running            4 (15s ago)      3m52s   10.244.1.8   minikube-m02\n",
    "probe-example   1/1     Running            4 (23s ago)      4m      10.244.1.8   minikube-m02\n",
    "probe-example   0/1     Running            5 (0s ago)       4m31s   10.244.1.8   minikube-m02\n",
    "probe-example   0/1     Running            5 (13s ago)      4m44s   10.244.1.8   minikube-m02\n",
    "probe-example   1/1     Running            5 (23s ago)      4m54s   10.244.1.8   minikube-m02\n",
    "probe-example   0/1     CrashLoopBackOff   5 (0s ago)       5m25s   10.244.1.8   minikube-m02\n",
    "probe-example   0/1     Running            6 (85s ago)      6m50s   10.244.1.8   minikube-m02\n",
    "probe-example   0/1     Running            6 (99s ago)      7m4s    10.244.1.8   minikube-m02\n",
    "probe-example   1/1     Running            6 (109s ago)     7m14s   10.244.1.8   minikube-m02\n",
    "probe-example   0/1     CrashLoopBackOff   6 (0s ago)       7m45s   10.244.1.8   minikube-m02\n",
    "probe-example   0/1     Running            7 (2m49s ago)    10m     10.244.1.8   minikube-m02\n",
    "probe-example   0/1     Running            7 (3m3s ago)     10m     10.244.1.8   minikube-m02\n",
    "probe-example   1/1     Running            7 (3m13s ago)    10m     10.244.1.8   minikube-m02\n",
    "probe-example   0/1     CrashLoopBackOff   7 (0s ago)       11m     10.244.1.8   minikube-m02\n",
    "probe-example   0/1     Running            8 (5m13s ago)    16m     10.244.1.8   minikube-m02\n",
    "probe-example   0/1     Running            8 (5m27s ago)    16m     10.244.1.8   minikube-m02\n",
    "probe-example   1/1     Running            8 (5m37s ago)    17m     10.244.1.8   minikube-m02\n",
    "probe-example   0/1     Running            9 (0s ago)       17m     10.244.1.8   minikube-m02\n",
    "probe-example   0/1     Running            9 (15s ago)      17m     10.244.1.8   minikube-m02\n",
    "probe-example   1/1     Running            9 (23s ago)      18m     10.244.1.8   minikube-m02\n",
    "probe-example   0/1     CrashLoopBackOff   9 (1s ago)       18m     10.244.1.8   minikube-m02\n",
    "probe-example   0/1     Running            10 (5m4s ago)    23m     10.244.1.8   minikube-m02\n",
    "probe-example   0/1     Running            10 (5m21s ago)   23m     10.244.1.8   minikube-m02\n",
    "probe-example   1/1     Running            10 (5m29s ago)   24m     10.244.1.8   minikube-m02\n",
    "probe-example   0/1     Running            11 (0s ago)      24m     10.244.1.8   minikube-m02\n",
    "probe-example   0/1     Running            11 (13s ago)     24m     10.244.1.8   minikube-m02\n",
    "probe-example   1/1     Running            11 (23s ago)     24m     10.244.1.8   minikube-m02\n",
    "probe-example   0/1     CrashLoopBackOff   11 (0s ago)      25m     10.244.1.8   minikube-m02```"
   ]
  },
  {
   "cell_type": "markdown",
   "metadata": {},
   "source": [
    "## Check the Logs produced by `probe-example` Pod in the terminal\n",
    "\n",
    "- Logs are generated from output to `stdout` (`console.log()`) and `stderr` (`console.error()`) in the microservice's code.\n",
    "- You should see something similar to the output below.\n",
    "  - The Microservice is started.\n",
    "  - An Express Web Service instance is created.\n",
    "  - The constant `startupTimestamp` is set to the current time.\n",
    "  - The microservice sleeps for `10000` milliseconds.\n",
    "  - The file `/tmp/started` is written.\n",
    "  - The microservice sleeps for `10000` milliseconds.\n",
    "  - The Express Web Server starts listening on port `3000`.\n",
    "  - The HTTP GET route `/healthz` is called.\n",
    "    - With a 200 response up until `40` seconds have elaspsed since startup (`startupTimestamp`).\n",
    "    - With a 500 response thereafter.\n",
    "  - The final `npm` messages are received when the `kubelet` restarts (shuts down) the Pod.\n",
    "\n",
    "```bash\n",
    "> probe-example@1.0.0 start\n",
    "> node ./src/index.js\n",
    "\n",
    "Microservice started.\n",
    "Created express web server.\n",
    "Set startupTimestamp to 12:49:34\n",
    "Sleeping for 10000 milliseconds\n",
    "Wrote file /tmp/started.\n",
    "Sleeping for 10000 milliseconds\n",
    "Started listening on port 3000.\n",
    "Route /healthz hit at time 12:49:56, Seconds since startup: 22.53\n",
    "Route /healthz returning status 200\n",
    "Route /healthz hit at time 12:49:58, Seconds since startup: 24.53\n",
    "Route /healthz returning status 200\n",
    "Route /healthz hit at time 12:50:00, Seconds since startup: 26.53\n",
    "Route /healthz returning status 200\n",
    "Route /healthz hit at time 12:50:02, Seconds since startup: 28.53\n",
    "Route /healthz returning status 200\n",
    "Route /healthz hit at time 12:50:04, Seconds since startup: 30.53\n",
    "Route /healthz returning status 200\n",
    "Route /healthz hit at time 12:50:06, Seconds since startup: 32.53\n",
    "Route /healthz returning status 200\n",
    "Route /healthz hit at time 12:50:08, Seconds since startup: 34.53\n",
    "Route /healthz returning status 200\n",
    "Route /healthz hit at time 12:50:10, Seconds since startup: 36.53\n",
    "Route /healthz returning status 200\n",
    "Route /healthz hit at time 12:50:12, Seconds since startup: 38.53\n",
    "Route /healthz returning status 200\n",
    "Route /healthz hit at time 12:50:14, Seconds since startup: 40.53\n",
    "Route /healthz returning status 500\n",
    "Route /healthz hit at time 12:50:16, Seconds since startup: 42.53\n",
    "Route /healthz returning status 500\n",
    "Route /healthz hit at time 12:50:18, Seconds since startup: 44.53\n",
    "Route /healthz returning status 500\n",
    "Route /healthz hit at time 12:50:20, Seconds since startup: 46.53\n",
    "Route /healthz returning status 500\n",
    "Route /healthz hit at time 12:50:22, Seconds since startup: 48.53\n",
    "Route /healthz returning status 500\n",
    "Route /healthz hit at time 12:50:24, Seconds since startup: 50.53\n",
    "Route /healthz returning status 500\n",
    "npm ERR! path /usr/src/app\n",
    "npm ERR! command failed\n",
    "npm ERR! signal SIGTERM\n",
    "npm ERR! command sh -c node ./src/index.js\n",
    "\n",
    "npm ERR! A complete log of this run can be found in: /root/.npm/_logs/2024-02-14T12_49_33_205Z-debug-0.log\n",
    "```"
   ]
  },
  {
   "cell_type": "markdown",
   "metadata": {},
   "source": [
    "## Check the Events, Information and Logs for Pod `probe-example` in K9s\n",
    "\n",
    "- Open K9s in a new Terminal by typing `k9s` in the terminal.\n",
    "- Type `:events /probe-example` to open the Events view for the `probe-example` Pod.\n",
    "  - Press `shift + l` to sort the events in descreasing order (`LastSeen`).\n",
    "- Type `:pod /probe-example` to open the Pods view for the `probe-example` Pod.\n",
    "  - The latest information about the Pod will be shown on one line.\n",
    "  - Notice the `STATUS` for the `probe-example` Pod is (eventuall) `CrashLoopBackoff`.\n",
    "- With the `probe-example` Pod selected in the Pods view, press `l` (for `logs`).\n",
    "  - The logs for the `probe-example` Pod are displayed.\n",
    "- Type `:popeye` to open \"Popeye\" with a status overview of cluster resources.\n",
    "  - Notice the `probe-example` Pod is failing (`ERROR`).\n",
    "- Press `ctrl + c` to close K9s."
   ]
  },
  {
   "cell_type": "markdown",
   "metadata": {},
   "source": [
    "## Delete the Pod"
   ]
  },
  {
   "cell_type": "code",
   "execution_count": 3,
   "metadata": {},
   "outputs": [
    {
     "name": "stdout",
     "output_type": "stream",
     "text": [
      "\u001b[33;1mWarning:\u001b[0m Immediate deletion does not wait for confirmation that the running resource has been terminated. The resource may continue to run on the cluster indefinitely.\n",
      "pod \"probe-example\" force deleted\n"
     ]
    }
   ],
   "source": [
    "!kubectl delete -f manifests/probe-example.yaml --force --grace-period=0"
   ]
  },
  {
   "cell_type": "markdown",
   "metadata": {},
   "source": [
    "## Stop watching for events produced by the `probe-example` Pod\n",
    "\n",
    "- Press `ctrl + c` in the terminal watching for events."
   ]
  },
  {
   "cell_type": "markdown",
   "metadata": {},
   "source": [
    "## Stop watching for Information produced by the `probe-example` Pod\n",
    "\n",
    "- If the Pod has been restarted, the terminal will have stopped watching for logs (since the last instance exited).\n",
    "- Otherwise, press `ctrl + c` in the terminal watching for information."
   ]
  },
  {
   "cell_type": "markdown",
   "metadata": {},
   "source": [
    "## Stop watching for logs produced by the `probe-example` Pod\n",
    "\n",
    "- Press `ctrl + c` in the terminal watching for logs."
   ]
  },
  {
   "cell_type": "markdown",
   "metadata": {},
   "source": []
  }
 ],
 "metadata": {
  "kernelspec": {
   "display_name": "Python 3",
   "language": "python",
   "name": "python3"
  },
  "language_info": {
   "codemirror_mode": {
    "name": "ipython",
    "version": 3
   },
   "file_extension": ".py",
   "mimetype": "text/x-python",
   "name": "python",
   "nbconvert_exporter": "python",
   "pygments_lexer": "ipython3",
   "version": "3.10.13"
  }
 },
 "nbformat": 4,
 "nbformat_minor": 2
}
