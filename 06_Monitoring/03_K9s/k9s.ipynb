{
 "cells": [
  {
   "cell_type": "markdown",
   "metadata": {},
   "source": [
    "## K9s\n",
    "\n",
    "<img src=\"../notebook_images/k9s.png\" alt=\"K9s\" width=\"600\" height=\"300\" style=\"margin-bottom:2em;float:right\" />\n",
    "\n",
    "- K9s is a Kubernetes dashboard in the terminal\n",
    "  - Github: https://github.com/derailed/k9s\n",
    "  - Documentation: https://k9scli.io\n",
    "  - Install: https://k9scli.io/topics/install\n",
    "\n",
    "- To instlal on Windows (either of)\n",
    "  - `choco install k9s`\n",
    "  - `scoop install k9s`\n",
    "\n",
    "- To install on Mac (either of)\n",
    "  - `brew install --cask k9s`\n",
    "  - `sudo port install k9s`\n",
    "\n",
    "- To install on Linux/Ubuntu (either of)\n",
    "  - `sudo snap install k9s –devmode`\n",
    "  - or ...\n",
    "    ```bash\n",
    "    bash -c \"$(curl -fsSL https://raw.githubusercontent.com/Homebrew/install/HEAD/install.sh)\" && \\\n",
    "    brew install derailed/k9s/k9s\n",
    "    ```\n",
    "\n",
    "<img src=\"../notebook_images/k9s_overview.png\" alt=\"K9s\" width=\"600\" height=\"300\" style=\"margin-bottom:2em;float:right\" />\n",
    "\n",
    "- The upper left of the UI displays information about:\n",
    "  - Context, Cluster and User (current kubectl context)\n",
    "  - K9s Rev and K8s Rev (K8s and K8s version)\n",
    "  - CPU and MEM (CPU and Memory utilization)\n",
    "- The upper middle-right of the UI displays shortcut commands for:\n",
    "  - Choosing namespace.\n",
    "  - Deleting, describing and editing a resource.\n",
    "  - Viewing a Pod's (container's) logs.\n",
    "  - Port-forwarding.\n",
    "  - Opening an interactive shell to a Pod (container).\n",
    "  - Editing the YAML of a resource.\n",
    "- The bottom of the UI displays resource instances.\n",
    "  - To change resource type displayed, type `:<resourceType>`\n",
    "\n",
    "- You can select a Pod by typing `:pods` + `<Enter>` and then using the arrows keys, then:\n",
    "  - Press `s` (for shell) to open an interactive shell to the Pod (bottom, left).\n",
    "  - Press `Shift` + `f` (for forward) to port-forward to the Pod/Deployment (bottom, middle).\n",
    "  - Press `l` (for logs) to view the Pod's logs (bottom, right).\n",
    "\n",
    "<img src=\"../notebook_images/k9s_shell.png\" alt=\"K9s\" width=\"350\" height=\"200\" style=\"right-bottom:2em\" />\n",
    "<img src=\"../notebook_images/k9s_logs.png\" alt=\"K9s\" width=\"350\" height=\"200\" style=\"right-bottom:2em\" />\n",
    "<img src=\"../notebook_images/k9s_port_forward.png\" alt=\"K9s\" width=\"350\" height=\"200\" />\n",
    "\n",
    "- You can see what commands are available in K9s here: https://k9scli.io/topics/commands"
   ]
  },
  {
   "cell_type": "markdown",
   "metadata": {},
   "source": [
    "## Ensure a Kubenetes cluster is running\n",
    "\n",
    "- Use any Kubernetes cluster.\n",
    "  - In this example, a Minikube cluster with 3 nodes is used: `minikube start --nodes 3`."
   ]
  },
  {
   "cell_type": "markdown",
   "metadata": {},
   "source": [
    "## Install K9s (https://k9scli.io)\n",
    "\n",
    "- **Windows** (if you have Chocolatey installed): `choco install k9s`\n",
    "\n",
    "- **macOS** (if you have Brew installed): `brew install k9s`\n",
    "\n",
    "- **Linux/WSL2** (https://k9scli.io/topics/install)\n",
    "\n",
    "    ```bash    \n",
    "    # Install Homebrew\n",
    "    /bin/bash -c \"$(curl -fsSL https://raw.githubusercontent.com/Homebrew/install/HEAD/install.sh)\"\n",
    "\n",
    "    # Add Homebew shell environment variables to `.bashrc`\n",
    "    (echo; echo 'eval \"$(/home/linuxbrew/.linuxbrew/bin/brew shellenv)\"') >> ~/.bashrc && source ~/.bashrc\n",
    "\n",
    "    # Install k9s\n",
    "    brew install derailed/k9s/k9s\n",
    "    ```"
   ]
  },
  {
   "cell_type": "markdown",
   "metadata": {},
   "source": [
    "## Launch K9s\n",
    "\n",
    "- Open a terminal and run the command `k9s`"
   ]
  },
  {
   "cell_type": "markdown",
   "metadata": {},
   "source": [
    "## Deploy the Deployment called `nginx-dep`\n",
    "\n",
    "- The Deployment definition is in the YAML file `manifests/nginx-deployment.yaml`\n",
    "- The deployment is called `nginx-dep` and it creates `3 replicas` of the `nginx:alpine` image."
   ]
  },
  {
   "cell_type": "code",
   "execution_count": 1,
   "metadata": {},
   "outputs": [
    {
     "name": "stdout",
     "output_type": "stream",
     "text": [
      "deployment.apps/nginx-dep created\n"
     ]
    }
   ],
   "source": [
    "!kubectl create -f manifests/nginx-deployment.yaml"
   ]
  },
  {
   "cell_type": "markdown",
   "metadata": {},
   "source": [
    "## K9s dashboard\n",
    "\n",
    "- When K9s starts, you will see the terminal-based user interface.\n",
    "  - Change to a specific resource (object) view by\n",
    "    - Pressing the colon `:` key.\n",
    "    - Then type the name of the resource (object) type and press the `Enter` key.\n",
    "    - E.g.:\n",
    "      - `:pods` for the **Pods** view (notice **3 Pods** are running).\n",
    "      - `:deployments` for the **Deployments** view (notice **1 Deployment** is running).\n",
    "      - `:replicasets` for the **ReplicaSets** view (notice **1 ReplicaSet** is running).\n",
    "- Choose the `:pods` view by entering `:pods` into the UI.\n",
    "  - You will see the **Pods** view, displaying 3 **Pods**.\n",
    "- Delete a pod using the UI\n",
    "  - Choose the `:pods` view, and select one of the **pods** using the **up/down arrow keys**.\n",
    "  - Press **Ctrl + d**.\n",
    "  - Select **OK** in the pop-up window.\n",
    "  - You'll notice that the **pod** will be replaced almost immediately.\n",
    "- Increase the number of replicas\n",
    "  - Choose the `:deployments` view, and select the only **deployment** using the **up/down arrow keys**.\n",
    "  - Press **e**.\n",
    "  - In the editor (your shell's default editor) that opens, change **replicas** (under **spec**) to **4**.\n",
    "  - When done, save the file (using you shell's default editor's command to save the file).\n",
    "  - Finally, Choose the `:pods` view, which should now show **4** **Pods** running.\n",
    "- Show detailed information about a resource\n",
    "  - Choose the `:pods` view, and select one of the **pods** using the **up/down arrow keys**.\n",
    "  - Press **d**.\n",
    "  - Detailed information about the **Pod** is shown.\n",
    "  - Press **Escape** to exit the detailed information.\n",
    "- Open an interactive shell to a **Pod**\n",
    "- - Choose the `:pods` view, and select one of the **pods** using the **up/down arrow keys**.\n",
    "  - Press **s**.\n",
    "  - In the shell that opens at the bottom of the screen run the command **ls** to list files in the container.\n",
    "  - Finally, run the command **exit** to exit the interactive shell.\n",
    "- View the **logs** for a resource\n",
    "  - - Choose the `:pods` view, and select one of the **pods** using the **up/down arrow keys**.\n",
    "  - Press **l**.\n",
    "  - The **logs** for the **Pod** are shown.\n",
    "  - Press **Escape** to exit the logs."
   ]
  },
  {
   "cell_type": "markdown",
   "metadata": {},
   "source": [
    "## Delete the Deployment\n",
    "- Notice that the **Deployment** with its **ReplicaSet** and **Pods** are no longer shown in the **Dashboard**."
   ]
  },
  {
   "cell_type": "code",
   "execution_count": 2,
   "metadata": {},
   "outputs": [
    {
     "name": "stdout",
     "output_type": "stream",
     "text": [
      "deployment.apps \"nginx-dep\" deleted\n"
     ]
    }
   ],
   "source": [
    "!kubectl delete -f manifests/nginx-deployment.yaml"
   ]
  },
  {
   "cell_type": "markdown",
   "metadata": {},
   "source": [
    "## Close K9s\n",
    "\n",
    "- Press **Ctrl + C** in the terminal running **K9s**."
   ]
  },
  {
   "cell_type": "markdown",
   "metadata": {},
   "source": []
  }
 ],
 "metadata": {
  "kernelspec": {
   "display_name": "Python 3",
   "language": "python",
   "name": "python3"
  },
  "language_info": {
   "codemirror_mode": {
    "name": "ipython",
    "version": 3
   },
   "file_extension": ".py",
   "mimetype": "text/x-python",
   "name": "python",
   "nbconvert_exporter": "python",
   "pygments_lexer": "ipython3",
   "version": "3.10.13"
  }
 },
 "nbformat": 4,
 "nbformat_minor": 2
}
