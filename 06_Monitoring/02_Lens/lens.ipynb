{
 "cells": [
  {
   "cell_type": "markdown",
   "metadata": {},
   "source": [
    "## Lens\n",
    "\n",
    "<img src=\"../notebook_images/lens.png\" alt=\"Lens\" width=\"600\" height=\"300\" style=\"margin-bottom:2em;float:right\" />\n",
    "\n",
    "- Lens is a Kubernetes IDE\n",
    "  - Desktop application.\n",
    "  - Runs locally on Mac, Windows and Linux.\n",
    "\n",
    "- Features\n",
    "  - Manage multiple clusters.\n",
    "  - View Resources (objects).\n",
    "  - YAML editor.\n",
    "  - Built-in terminal.\n",
    "\n",
    "- Maintained by Mirantis\n",
    "  - Website: https://k8slens.dev\n",
    "  - Install: https://docs.k8slens.dev/getting-started/install-lens\n",
    "\n",
    "<img src=\"../notebook_images/lens_overview.png\" alt=\"Lens\" width=\"600\" height=\"300\" style=\"margin-bottom:2em;float:right\" />\n",
    "\n",
    "- The Workloads Overview Dashboard shows running:\n",
    "  - Pods\n",
    "  - Deployments\n",
    "  - Stateful Sets\n",
    "  - Daemon Sets\n",
    "  - Jobs\n",
    "  - Cron Jobs\n",
    "- It also shows Events for various resources with information about e.g.:\n",
    "  - Message (event message)\n",
    "  - Namespace\n",
    "  - Type (resource type)\n",
    "  - Involved Object (resouce/object)\n",
    "  - Source (cluster)\n",
    "  - Count\n",
    "  - Age\n",
    "\n",
    "<img src=\"../notebook_images/lens_resource.png\" alt=\"Lens\" width=\"600\" height=\"300\" style=\"margin-bottom:2em;float:right\" />\n",
    "\n",
    "- Each Resource View shows information about a resource Type\n",
    "  - A specific resource type can be selected in the left margin.\n",
    "  - The resource instances are the show to the right.\n",
    "  - A resource instance can be selected.\n",
    "  - A windows pops up to the right showing detailed information.\n",
    "- A resource instance's details window has icons in the top right, for:\n",
    "  - Viewing the resource.\n",
    "  - Editing the resource.\n",
    "  - Deleting the resource.\n",
    "\n",
    "- Lens has:\n",
    "  - A built-in YAML editor (below, left).\n",
    "  - A built-in Terminal (below, right).\n",
    "\n",
    "<img src=\"../notebook_images/lens_edit.png\" alt=\"Lens\" width=\"550\" height=\"280\" style=\"margin-right:1em\" />\n",
    "<img src=\"../notebook_images/lens_terminal.png\" alt=\"Lens\" width=\"550\" height=\"280\" />"
   ]
  },
  {
   "cell_type": "markdown",
   "metadata": {},
   "source": [
    "## Ensure a Kubenetes cluster is running\n",
    "\n",
    "- Use any Kubernetes cluster.\n",
    "  - In this example, a Minikube cluster with 3 nodes is used: `minikube start --nodes 3`."
   ]
  },
  {
   "cell_type": "markdown",
   "metadata": {},
   "source": [
    "## Install Lens\n",
    "\n",
    "- **Windows** (if you have Chocolatey installed): `choco install lens`\n",
    "\n",
    "- **macOS** (if you have Brew installed): `brew install --cask lens`\n",
    "\n",
    "- **Linux/WSL2** (https://k8slens.dev)\n",
    "\n",
    "    ```bash\n",
    "    curl -fsSL https://downloads.k8slens.dev/keys/gpg \\\n",
    "    | gpg --dearmor | sudo tee /usr/share/keyrings/lens-archive-keyring.gpg > /dev/null\n",
    "\n",
    "    echo \"deb [arch=amd64 signed-by=/usr/share/keyrings/lens-archive-keyring.gpg] \\\n",
    "    https://downloads.k8slens.dev/apt/debian stable main\" \n",
    "    | sudo tee /etc/apt/sources.list.d/lens.list > /dev/null\n",
    "\n",
    "    sudo apt update && sudo apt install –y lens\n",
    "    ```"
   ]
  },
  {
   "cell_type": "markdown",
   "metadata": {},
   "source": [
    "## Launch Lens\n",
    "\n",
    "- **Linux/WSL2**: Open a terminal and run the command `lens-desktop`\n",
    "- Click the **Catalog (app)** icon (under the **Home** icon) in the left margin and choose **Clusters**.\n",
    "- Then click on the **minikube** cluster to view it.\n",
    "- Finally, click **Overview** under **Workloads**\n",
    "  - Notice that no workloads (Deployment, Pods, ReplicaSets, etc.) are running.\n",
    "\n",
    "Note, that you can add more clusters to Lens by clicking on the **hamburger menu** and chosing **File -> Add Cluster**."
   ]
  },
  {
   "cell_type": "markdown",
   "metadata": {},
   "source": [
    "## Deploy the Deployment called `nginx-dep`\n",
    "\n",
    "- The Deployment definition is in the YAML file `manifests/nginx-deployment.yaml`\n",
    "- The deployment is called `nginx-dep` and it creates `3 replicas` of the `nginx:alpine` image."
   ]
  },
  {
   "cell_type": "code",
   "execution_count": 1,
   "metadata": {},
   "outputs": [
    {
     "name": "stdout",
     "output_type": "stream",
     "text": [
      "deployment.apps/nginx-dep created\n"
     ]
    }
   ],
   "source": [
    "!kubectl create -f manifests/nginx-deployment.yaml"
   ]
  },
  {
   "cell_type": "markdown",
   "metadata": {},
   "source": [
    "## Lens dashboard\n",
    "\n",
    "- In the **Overview** under **Workloads**, notice that 1 **Deployment**, 1 **ReplicaSet** and 3 **Pods** are running.\n",
    "- You can look at the individual resources (objects) by clicking **Pods**, **Deployments**, **ReplicaSets**, etc.\n",
    "  - Either in the left margin, or in the top menu under **Workloads**.\n",
    "- Delete a pod using the UI\n",
    "  - Click on the **Pods** view, check the checkbox next to one of the **pod**, and delete it.\n",
    "    - Either by clicking on the **ellipse** icon (to the right of the screen) or the **Delete** icon (at the bottom of the screen).\n",
    "    - Select **Remove** in the pop-up window.\n",
    "  - You'll notice that the **pod** will be replaced almost immediately.\n",
    "- Open a terminal\n",
    "  - At the bottom of the screen, you will see a link called **Terminal**.\n",
    "  - Click on it to open the built-in terminal.\n",
    "- Delete a **pod** using the terminal\n",
    "  - Copy a **[podName]** (called something like `nginx-dep-<random name>`) and delete the **Pod** using the terminal\n",
    "    - `kubectl delete pod [podName]`\n",
    "- Increase the number of replicas\n",
    "  - Click on the **Deployment** view and check the checkbox next to the **Deployment**.\n",
    "  - Then click on the **ellipse** icon (to the right of the screen) and choose **Edit**.\n",
    "  - In the YAML editor that opens in the bottom on the screen, change **replicas** (under **spec**) from 3 to **4**.\n",
    "  - When done, click the **Save and Close** button.\n",
    "  - Finally, click on the **Pods** view, which should now show **4** **Pods** running.\n",
    "- Show detailed information about a resource\n",
    "  - Click on one of the **pods** in the **Pods** view.\n",
    "  - A window opens with detailed information about the **Pod**\n",
    "    - Notice the icons along the top of the window, which you can use to open a shell, etc.\n",
    "- Open an interactive shell to a **Pod**\n",
    "  - Check the checkbox next to one of the **pods** in the **Pods** view.\n",
    "  - Then click on the **ellipse** icon (to the right of the screen) and choose **Shell**.\n",
    "  - In the shell that opens at the bottom of the screen run the command **ls** to list files in the container.\n",
    "  - Finally, run the command **exit** to exit the interactive shell.\n",
    "- View the **logs** for a resource\n",
    "  - Check the checkbox next to one of the **pods** in the **Pods** view.\n",
    "  - Then click on the **ellipse** icon (to the right of the screen) and choose **Logs**.\n",
    "  - The **logs** for the **Pod** are shown In a window that opens at the bottom of the screen."
   ]
  },
  {
   "cell_type": "markdown",
   "metadata": {},
   "source": [
    "## Delete the Deployment\n",
    "- Notice that the **Deployment** with its **ReplicaSet** and **Pods** are no longer shown in the **Dashboard**."
   ]
  },
  {
   "cell_type": "code",
   "execution_count": 2,
   "metadata": {},
   "outputs": [
    {
     "name": "stdout",
     "output_type": "stream",
     "text": [
      "deployment.apps \"nginx-dep\" deleted\n"
     ]
    }
   ],
   "source": [
    "!kubectl delete -f manifests/nginx-deployment.yaml"
   ]
  },
  {
   "cell_type": "markdown",
   "metadata": {},
   "source": [
    "## Close Lens\n",
    "\n",
    "- From the **hamburger menu**, choose **File -> Quit** to exit **Lens**."
   ]
  },
  {
   "cell_type": "markdown",
   "metadata": {},
   "source": []
  }
 ],
 "metadata": {
  "kernelspec": {
   "display_name": "Python 3",
   "language": "python",
   "name": "python3"
  },
  "language_info": {
   "codemirror_mode": {
    "name": "ipython",
    "version": 3
   },
   "file_extension": ".py",
   "mimetype": "text/x-python",
   "name": "python",
   "nbconvert_exporter": "python",
   "pygments_lexer": "ipython3",
   "version": "3.10.13"
  }
 },
 "nbformat": 4,
 "nbformat_minor": 2
}
