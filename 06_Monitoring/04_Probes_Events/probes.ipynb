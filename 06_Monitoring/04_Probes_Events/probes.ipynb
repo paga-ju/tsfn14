{
 "cells": [
  {
   "cell_type": "markdown",
   "metadata": {
    "vscode": {
     "languageId": "shellscript"
    }
   },
   "source": [
    "## Monitoring and Self-Healing with Probes\n",
    "\n",
    "- On each node in a kubernetes cluster, the **kubelet** monitors the **health of Pods** and re-starts them when necessary.\n",
    "\n",
    "<img src=../notebook_images/pod_crash_restart.png width=\"600\" height=\"200\" style=\"margin: 1em\" />\n",
    "\n",
    "- But the **kubelet** can't determine the **health of a container running inside a Pod** without additional help.\n",
    "\n",
    "<img src=../notebook_images/container_crash_no_restart.png width=\"600\" height=\"200\" style=\"margin: 1em\" />\n",
    "\n",
    "- In the **containers** section of a Pod (or Pod template) definition, each container can define three different types of **Probes**.\n",
    "  - <span style=\"color:#DDDD00;font-weight:bold\">startupProbe</span> : used to determine if the container's microservice is considered initialzed and **started**.\n",
    "    - A **failed startup probe** will **restart the container**.\n",
    "  - <span style=\"color:#00C800;font-weight:bold\">readinessProbe</span> : used to determine if the container's microservice is considered  **ready to accept traffic**.\n",
    "    - A **failed readiness probe** will **stop the container from receiving traffic** (it will not restart the container).\n",
    "  - <span style=\"color:#6688FF;font-weight:bold\">livenessProbe</span> : used to determine if the container's microservice is considered **alive**.\n",
    "    - A **failed liveness probe** will **restart the container**.\n",
    "\n",
    "<img src=../notebook_images/pod_with_probes.png width=\"900\" height=\"500\" style=\"margin: 1em\" />\n",
    "\n",
    "- The **kubelet** will **use the probes to determine a container's health** (or more importantly, the **health of the microservice** it contains).\n",
    "  - The **kubelet** checks a container periodically using the configured **probes**.\n",
    "  - The **kubelet** will **restart a Pod** who's container's **liveness proble** is considered **failed**.\n",
    "\n",
    "<img src=../notebook_images/kubelet_container_probing.png width=\"300\" height=\"150\" style=\"margin: 1em\" />\n",
    "\n",
    "- Each probe can be configured to use one of three **probe actions**.\n",
    "  - <span style=\"color:#DDDD00;font-weight:bold\">exec</span> action will execute a command inside the container.\n",
    "    - The action **succeeds** if the commands **exit code is 0**.\n",
    "    - The action **fails** if the commands **exit code is not 0**.\n",
    "  - <span style=\"color:#00C800;font-weight:bold\">tcpSocket</span> action will Check if a TCP port is open in the container.\n",
    "    - The action **succeeds** if the TCP **port is open**.\n",
    "    - The action **fails** if the TCP **port is not open**.\n",
    "  - <span style=\"color:#6688FF;font-weight:bold\">httpGet</span> action will issue an HTTP GET request against a specific port and path in the container.\n",
    "    - The action **succeeds** if the **HTTP response code is between 200 and 400** (e.g. **200**).\n",
    "    - The action **fails** if the **HTTP response code is not between 200 and 400** (e.g. **500**).\n",
    "\n",
    "<img src=../notebook_images/pod_with_probe_actions.png width=\"800\" height=\"500\" style=\"margin: 1em\" />\n",
    "\n",
    "- Also notice the following settings each probe can define:\n",
    "  - **initialDelaySeconds** is the initial delay in seconds between the container starting and the probing commencing.\n",
    "  - **periodSeconds** is the time in seconds between each successive probe.\n",
    "  - **failureThreshold** is the number of times the probe can be unsuccessful before the probe is considered failed.\n",
    "    - E.g. `initialDelaySeconds: 5`. `periodSeconds: 2`, `failureThreshold: 3` means:\n",
    "      - The probing by the `kubelet` commences `5` seconds after the container starts.\n",
    "      - The `kubelet` will run the probe every `2` seconds after the initial delay.\n",
    "      - If the probe is unsuccessful `3` times, the probe is considered failed.\n",
    "      - The first time the probe is run is `initialDeplySeconds + periodSeconds`, i.e. `5 + 2 = 7` seconds.\n",
    "  - Note that:\n",
    "    - The first time a probe is run is `initialDeplySeconds + periodSeconds`.\n",
    "    - The **readinessProbe** and the **livenessProbe** won't run until the **startupProbe** succeeds.\n",
    "    - A probe is considered **failed** after **failureThreashold** number of **unsuccessful attempts**.\n",
    "    - A failed **startupProbe** or **livenessProbe** will **restart** the Pod.\n",
    "    - A failed **readinessProbe** will **not restart** the Pod, but will **stop traffic** being sent to the Pod."
   ]
  },
  {
   "cell_type": "markdown",
   "metadata": {},
   "source": [
    "## Ensure a Kubenetes cluster is running\n",
    "\n",
    "- Use any Kubernetes cluster.\n",
    "  - In this example, a Minikube cluster with 3 nodes is used: `minikube start --nodes 3`."
   ]
  },
  {
   "cell_type": "markdown",
   "metadata": {},
   "source": [
    "## Start watching Events produced by the `liveness-example` Pod\n",
    "\n",
    "- Run this command in a terminal (it won't work from a notebook cell).\n",
    "- The command will continuously:\n",
    "  -  Listen for Events produced by a resource named `liveness-example`.\n",
    "  -  Output a new line to the terminal with Event information every time an Event occurs.\n",
    "\n",
    "  ```bash\n",
    "  # Monitor (watch) events produced by the \"liveness-example\" Pod\n",
    "  kubectl get events --watch --field-selector involvedObject.name=liveness-example\n",
    "  ```"
   ]
  },
  {
   "cell_type": "markdown",
   "metadata": {},
   "source": [
    "## Deploy Pod called `liveness-example`\n",
    "\n",
    "- The Pod definition is in the file `manifests/liveness-example`.\n",
    "- It defines a Pod named `liveness-example`.\n",
    "- It uses the `busybox` image, and runs the command below when the container starts\n",
    "  - The command will:\n",
    "    -  Create the file `/tmp/healthy` (in the container).\n",
    "    -  Sleep for `15 seconds`.\n",
    "    -  Delete the file `/tmp/healthy`.\n",
    "    -  Sleep for `3600 seconds`.\n",
    "\n",
    "  ```bash\n",
    "  args:\n",
    "      - /bin/sh\n",
    "      - -c\n",
    "      - touch /tmp/healthy; sleep 15; rm -rf /tmp/healthy; sleep 3600\n",
    "  ```\n",
    "\n",
    "- It defines a **livenessProbe** as below:\n",
    "  - The first time the probe runs is `initialDelaySeconds + periodSeconds = 5 + 5 = 10` seconds after the container starts.\n",
    "  - After the initial probe has been run, the probe runs every `periodSeconds = 5` seconds.\n",
    "  - he probe uses the `exec` action to execute a command in the container-\n",
    "  - Each time the probe is run, the command tries to list the contents of the file `/tmp/healthy` (in the container).\n",
    "    - If the command's exit code is 0 (i.e. it managed to list the file's contents), the probe attempt is sucessful.\n",
    "    - If the command's exit code is not 0 (i.e. it failed to list the file's contents), the probe attempt is unsucessful.\n",
    "  - If `failureThreshold = 2` probling attempts are unsucessful, the probe is considered a failure.\n",
    "    - This will cause the `kubelet` to restart the Pod.\n",
    "\n",
    "  ```bash\n",
    "  livenessProbe:\n",
    "        exec:\n",
    "          command:\n",
    "          - cat\n",
    "          - /tmp/healthy\n",
    "        initialDelaySeconds: 5\n",
    "        periodSeconds: 5\n",
    "        failureThreshold: 2\n",
    "  ```"
   ]
  },
  {
   "cell_type": "code",
   "execution_count": 1,
   "metadata": {},
   "outputs": [
    {
     "name": "stdout",
     "output_type": "stream",
     "text": [
      "pod/liveness-example created\n"
     ]
    }
   ],
   "source": [
    "!kubectl apply -f manifests/liveness-example.yaml"
   ]
  },
  {
   "cell_type": "markdown",
   "metadata": {},
   "source": [
    "## Check the Events produced by `liveness-example` Pod in the terminal\n",
    "\n",
    "- You should see something similar to the output below\n",
    "  - First the `busybox` image is pulled from DockerHub.\n",
    "  - Then the `busybox` container `liveness` is created and started.\n",
    "    - At first the probe is successful, since the probe command is successful.\n",
    "    - This is because the `busybox` container has created the the file `/tmp/healthy`.\n",
    "  - Eventually the `livenessProbe` fails **twice** (`failureThreshold: 2`)\n",
    "    - The error message from the probe command run in the container is: `cat: can't open '/tmp/healthy': No such file`.\n",
    "    - This is because the `busybox` container has deleted the file `/tmp/healthy` after `15` seconds-\n",
    "  -  The `kubelet` restarts the Pod.\n",
    "  - This pattern then keeps repeating.\n",
    "\n",
    "```bash\n",
    "0s  Normal   Scheduled  pod/liveness-example  Successfully assigned default/liveness-example to minikube-m02\n",
    "\n",
    "0s  Normal   Pulling    pod/liveness-example  Pulling image \"busybox\"\n",
    "0s  Normal   Pulled     pod/liveness-example  Successfully pulled image \"busybox\" in 1.349s\n",
    "0s  Normal   Created    pod/liveness-example  Created container liveness\n",
    "0s  Normal   Started    pod/liveness-example  Started container liveness\n",
    "0s  Warning  Unhealthy  pod/liveness-example  Liveness probe failed: cat: can't open '/tmp/healthy': No such file\n",
    "0s  Warning  Unhealthy  pod/liveness-example  Liveness probe failed: cat: can't open '/tmp/healthy': No such file\n",
    "0s  Normal   Killing    pod/liveness-example  Container liveness failed liveness probe, will be restarted\n",
    "\n",
    "0s  Normal   Pulling    pod/liveness-example  Pulling image \"busybox\"\n",
    "0s  Normal   Pulled     pod/liveness-example  Successfully pulled image \"busybox\" in 1.16s\n",
    "0s  Normal   Created    pod/liveness-example  Created container liveness\n",
    "0s  Normal   Started    pod/liveness-example  Started container liveness\n",
    "0s  Warning  Unhealthy  pod/liveness-example  Liveness probe failed: cat: can't open '/tmp/healthy': No such file\n",
    "0s  Warning  Unhealthy  pod/liveness-example  Liveness probe failed: cat: can't open '/tmp/healthy': No such file\n",
    "0s  Normal   Killing    pod/liveness-example  Container liveness failed liveness probe, will be restarted\n",
    "```"
   ]
  },
  {
   "cell_type": "markdown",
   "metadata": {},
   "source": [
    "## Describe the Pod (detailed Pod information)\n",
    "\n",
    "- The description of a Pod contains similar `event` information as above at the bottom of its listing.\n",
    "- You should see something similar to the output below.\n",
    "\n",
    "\n",
    "  ```bash\n",
    "  Events:\n",
    "    Type     Reason     Age                From               Message\n",
    "    ----     ------     ----               ----               -------\n",
    "    Normal   Scheduled  37s                default-scheduler  Successfully assigned default/liveness-example to minikube-m02\n",
    "    Normal   Pulling    37s                kubelet            Pulling image \"busybox\"\n",
    "    Normal   Pulled     36s                kubelet            Successfully pulled image \"busybox\" in 1.2s\n",
    "    Normal   Created    36s                kubelet            Created container liveness\n",
    "    Normal   Started    36s                kubelet            Started container liveness\n",
    "    Warning  Unhealthy  12s (x2 over 17s)  kubelet            Liveness probe failed: cat: can't open '/tmp/healthy'\n",
    "    Normal   Killing    12s                kubelet            Container liveness failed liveness probe, will be restarted\n",
    "  ```"
   ]
  },
  {
   "cell_type": "code",
   "execution_count": 2,
   "metadata": {},
   "outputs": [
    {
     "name": "stdout",
     "output_type": "stream",
     "text": [
      "Name:             liveness-example\n",
      "Namespace:        default\n",
      "Priority:         0\n",
      "Service Account:  default\n",
      "Node:             minikube-m02/192.168.49.3\n",
      "Start Time:       Wed, 14 Feb 2024 13:21:03 +0100\n",
      "Labels:           test=liveness\n",
      "Annotations:      <none>\n",
      "Status:           Running\n",
      "IP:               10.244.1.4\n",
      "IPs:\n",
      "  IP:  10.244.1.4\n",
      "Containers:\n",
      "  liveness:\n",
      "    Container ID:  docker://a86b9fd70cbf0060aa785b4d3d95b22c0afd0413c60338ec8fc674686e94528d\n",
      "    Image:         busybox\n",
      "    Image ID:      docker-pullable://busybox@sha256:6d9ac9237a84afe1516540f40a0fafdc86859b2141954b4d643af7066d598b74\n",
      "    Port:          <none>\n",
      "    Host Port:     <none>\n",
      "    Args:\n",
      "      /bin/sh\n",
      "      -c\n",
      "      touch /tmp/healthy; sleep 15; rm -rf /tmp/healthy; sleep 3600\n",
      "    State:          Running\n",
      "      Started:      Wed, 14 Feb 2024 13:21:05 +0100\n",
      "    Ready:          True\n",
      "    Restart Count:  0\n",
      "    Limits:\n",
      "      cpu:     250m\n",
      "      memory:  256Mi\n",
      "    Requests:\n",
      "      cpu:        100m\n",
      "      memory:     128Mi\n",
      "    Liveness:     exec [cat /tmp/healthy] delay=5s timeout=1s period=5s #success=1 #failure=2\n",
      "    Environment:  <none>\n",
      "    Mounts:\n",
      "      /var/run/secrets/kubernetes.io/serviceaccount from kube-api-access-hbb6p (ro)\n",
      "Conditions:\n",
      "  Type              Status\n",
      "  Initialized       True \n",
      "  Ready             True \n",
      "  ContainersReady   True \n",
      "  PodScheduled      True \n",
      "Volumes:\n",
      "  kube-api-access-hbb6p:\n",
      "    Type:                    Projected (a volume that contains injected data from multiple sources)\n",
      "    TokenExpirationSeconds:  3607\n",
      "    ConfigMapName:           kube-root-ca.crt\n",
      "    ConfigMapOptional:       <nil>\n",
      "    DownwardAPI:             true\n",
      "QoS Class:                   Burstable\n",
      "Node-Selectors:              <none>\n",
      "Tolerations:                 node.kubernetes.io/not-ready:NoExecute op=Exists for 300s\n",
      "                             node.kubernetes.io/unreachable:NoExecute op=Exists for 300s\n",
      "Events:\n",
      "  Type     Reason     Age                From               Message\n",
      "  ----     ------     ----               ----               -------\n",
      "  Normal   Scheduled  46s                default-scheduler  Successfully assigned default/liveness-example to minikube-m02\n",
      "  Normal   Pulling    46s                kubelet            Pulling image \"busybox\"\n",
      "  Normal   Pulled     45s                kubelet            Successfully pulled image \"busybox\" in 1.167s (1.167s including waiting)\n",
      "  Normal   Created    45s                kubelet            Created container liveness\n",
      "  Normal   Started    45s                kubelet            Started container liveness\n",
      "  Warning  Unhealthy  21s (x2 over 26s)  kubelet            Liveness probe failed: cat: can't open '/tmp/healthy': No such file or directory\n",
      "  Normal   Killing    21s                kubelet            Container liveness failed liveness probe, will be restarted\n"
     ]
    }
   ],
   "source": [
    "!kubectl describe pod liveness-example"
   ]
  },
  {
   "cell_type": "markdown",
   "metadata": {},
   "source": [
    "## Check the Events for Pod `liveness-example` in K9s\n",
    "\n",
    "- Open K9s in a new Terminal by typing `k9s` in the terminal.\n",
    "- Type `:events /liveness-example` to open the Events view for the `liveness-example` Pod.\n",
    "  - Press `shift + l` to sort the events in descreasing order (`LastSeen`).\n",
    "- Type `:popeye` to open \"Popeye\" with a status overview of cluster resources.\n",
    "  - Notice the `liveness-example` Pod is failing (`ERROR`).\n",
    "- Type `:pods` to open the Pods view.\n",
    "  - Notice the `STATUS` for the `liveness-example` Pod is `CrashLoopBackoff`.\n",
    "- Press `ctrl + c` to close K9s."
   ]
  },
  {
   "cell_type": "markdown",
   "metadata": {},
   "source": [
    "## Delete the Pod"
   ]
  },
  {
   "cell_type": "code",
   "execution_count": 3,
   "metadata": {},
   "outputs": [
    {
     "name": "stdout",
     "output_type": "stream",
     "text": [
      "\u001b[33;1mWarning:\u001b[0m Immediate deletion does not wait for confirmation that the running resource has been terminated. The resource may continue to run on the cluster indefinitely.\n",
      "pod \"liveness-example\" force deleted\n"
     ]
    }
   ],
   "source": [
    "!kubectl delete -f manifests/liveness-example.yaml --force --grace-period=0"
   ]
  },
  {
   "cell_type": "markdown",
   "metadata": {},
   "source": [
    "## Stop watching for events produced by the `liveness-example` Pod\n",
    "\n",
    "- Press `ctrl + c` in the terminal watching for events."
   ]
  },
  {
   "cell_type": "markdown",
   "metadata": {},
   "source": [
    "## Deploy the Pod called `liveness-example` again"
   ]
  },
  {
   "cell_type": "code",
   "execution_count": 4,
   "metadata": {},
   "outputs": [
    {
     "name": "stdout",
     "output_type": "stream",
     "text": [
      "pod/liveness-example created\n"
     ]
    }
   ],
   "source": [
    "!kubectl apply -f manifests/liveness-example.yaml"
   ]
  },
  {
   "cell_type": "markdown",
   "metadata": {},
   "source": [
    "## Watch Pod information\n",
    "\n",
    "- You can also use the `--watch` option with the `kubectl get` command.\n",
    "- Run the command below in a new terminal (it won't work in a notebook cell).\n",
    "  - Notice the command will output a new line every time information about the Pod changes.\n",
    "    - The `kubelet` will try restarting the Pod after the `livenessProbe` fails.\n",
    "    - Eventually the Pod's `STATUS` will change to `CrashLoopBackOff` after to many failed restarts.\n",
    "    - This pattern repeats.\n",
    "\n",
    "  ```bash\n",
    "  kubectl get pod liveness-example -o wide --watch\n",
    "  ```\n",
    "\n",
    "  - You should see something similar to the output below.\n",
    "\n",
    "    ```bash\n",
    "    NAME               READY   STATUS              RESTARTS        AGE     IP           NODE\n",
    "    liveness-example   0/1     ContainerCreating   0                  2s   <none>       minikube-m02\n",
    "    liveness-example   1/1     Running             0                  2s   10.244.1.3   minikube-m02\n",
    "    liveness-example   1/1     Running             1 (2s ago)        57s   10.244.1.3   minikube-m02\n",
    "    liveness-example   1/1     Running             2 (2s ago)       112s   10.244.1.3   minikube-m02\n",
    "    liveness-example   1/1     Running             3 (2s ago)      2m47s   10.244.1.3   minikube-m02\n",
    "    liveness-example   1/1     Running             4 (2s ago)      3m42s   10.244.1.3   minikube-m02\n",
    "    liveness-example   1/1     Running             5 (2s ago)      4m37s   10.244.1.3   minikube-m02\n",
    "    liveness-example   0/1     CrashLoopBackOff    5 (0s ago)      5m30s   10.244.1.3   minikube-m02\n",
    "    liveness-example   1/1     Running             6 (83s ago)     6m53s   10.244.1.3   minikube-m02\n",
    "    liveness-example   0/1     CrashLoopBackOff    6 (0s ago)      7m45s   10.244.1.3   minikube-m02\n",
    "    liveness-example   1/1     Running             7 (2m47s ago)   10m     10.244.1.3   minikube-m02\n",
    "    liveness-example   0/1     CrashLoopBackOff    7 (1s ago)      11m     10.244.1.3   minikube-m02\n",
    "    ``` "
   ]
  },
  {
   "cell_type": "markdown",
   "metadata": {},
   "source": [
    "## Delete the Pod"
   ]
  },
  {
   "cell_type": "code",
   "execution_count": 5,
   "metadata": {},
   "outputs": [
    {
     "name": "stdout",
     "output_type": "stream",
     "text": [
      "\u001b[33;1mWarning:\u001b[0m Immediate deletion does not wait for confirmation that the running resource has been terminated. The resource may continue to run on the cluster indefinitely.\n",
      "pod \"liveness-example\" force deleted\n"
     ]
    }
   ],
   "source": [
    "!kubectl delete -f manifests/liveness-example.yaml --force --grace-period=0"
   ]
  },
  {
   "cell_type": "markdown",
   "metadata": {},
   "source": [
    "## Stop watching information for the `liveness-example` Pod\n",
    "\n",
    "- Press `ctrl + c` in the terminal watching for Pod information."
   ]
  },
  {
   "cell_type": "code",
   "execution_count": null,
   "metadata": {},
   "outputs": [],
   "source": []
  }
 ],
 "metadata": {
  "kernelspec": {
   "display_name": "Python 3",
   "language": "python",
   "name": "python3"
  },
  "language_info": {
   "codemirror_mode": {
    "name": "ipython",
    "version": 3
   },
   "file_extension": ".py",
   "mimetype": "text/x-python",
   "name": "python",
   "nbconvert_exporter": "python",
   "pygments_lexer": "ipython3",
   "version": "3.10.13"
  }
 },
 "nbformat": 4,
 "nbformat_minor": 2
}
