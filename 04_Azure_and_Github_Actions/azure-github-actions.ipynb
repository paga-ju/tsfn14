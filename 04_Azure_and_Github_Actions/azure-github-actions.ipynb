{
 "cells": [
  {
   "cell_type": "markdown",
   "metadata": {},
   "source": [
    "## This example shows how to set up a Microservices Monorepo in GitHub\n",
    "\n",
    "- The Monorepo contains two Node.js microservices using the Express Web Server packaged in Docker Images:\n",
    "- - `video-streaming` that communicates with a Web Browser and the `video-storage` microservice.\n",
    "  - `video-storage` that communicates with the `video-streaming` microservice and an Azure Storage Container.\n",
    "- The `video-streaming` microservice has its own GitHub Actions Workflow in the Monorepo:\n",
    "  - The microservice's GitHub Actions Workflow is only triggered on pushes to the microservices subfolder in the Monorepo, and.\n",
    "    - Runs Jest unit tests.\n",
    "    - Builds a Docker Container containing the microservice.\n",
    "    - Pushes the Docker Container to an Azure COntainer Registry.\n",
    "    - Deploys a Kubernetes YAML manifest file containing a Deployment and a LoadBalancer Service.\n",
    "- The `video-storage` microservice has its own GitHub Actions Workflow in the Monorepo:\n",
    "  - The microservice's GitHub Actions Workflow is only triggered on pushes to the microservices subfolder in the Monorepo, and.\n",
    "    - Runs Jest unit tests.\n",
    "    - Builds a Docker Container containing the microservice.\n",
    "    - Pushes the Docker Container to an Azure COntainer Registry.\n",
    "    - Deploys a Kubernetes YAML manifest file containing a Deployment and a ClusterIP Service.\n",
    "- The deployed microservice application works as follows:\n",
    "  - The URL `http://EXTERNAL-IP/video?id=SampleVideo_1280x720_1mb.mp4` is entered into a web browser.\n",
    "    - The browser sends an HTTP GET request to the `video-streaming` microservice's GET route for the `/video` path.\n",
    "    - The `video-streaming` microservice:\n",
    "      - Extracts the `id` from the querystring.\n",
    "      - Sends an HTTP GET request to the `video-storage` microservice's GET route for the `/video` path with `id=SampleVideo_1280x720_1mb.mp4`.\n",
    "    - The `video-storage` microservice:\n",
    "      - Extracts the `id` from the querystring.\n",
    "      - Fetches the video from the Azure Storage Container `videos` by using the `id` to find the file.\n",
    "    - The video is:\n",
    "      - Streamed from the `video-storage` microservice to the `video-streaming` microservice.\n",
    "      - Streamed from the `video-streaming` microservice to the web browser.\n",
    "- Feel free to check the code for teh microservices:\n",
    "  - The code for the `video-storage` microservice is in the file `video-storage/src/index.js`.\n",
    "  - The code for the `video-streaming` microservice is in the file `video-streaming/src/index.js`."
   ]
  },
  {
   "cell_type": "markdown",
   "metadata": {},
   "source": [
    "## Login to GitHub via the CLI\n",
    "\n",
    "### Run the command below in a separate terminal and follow the instructions\n",
    "\n",
    "```bash\n",
    "gh auth login --hostname github.com --git-protocol https --web\n",
    "```"
   ]
  },
  {
   "cell_type": "markdown",
   "metadata": {},
   "source": [
    "## Authorize running the Delete Repository Command\n",
    "\n",
    "### Run the command below in a separate terminal and follow the instructions\n",
    "\n",
    "```bash\n",
    "gh auth refresh -h github.com -s delete_repo\n",
    "```"
   ]
  },
  {
   "cell_type": "markdown",
   "metadata": {},
   "source": [
    "## Change the Terraform variable `app_name`\n",
    "\n",
    "- Open the file `variables.tf` in the subfolder `terraform`, and give your Terraform variable `app_name` a unique value.\n",
    "\n",
    "  ```bash\n",
    "  variable \"app_name\" {\n",
    "    default = \"tsfn14g00\" # <--- change this value to something unique\n",
    "  }\n",
    "  ```"
   ]
  },
  {
   "cell_type": "markdown",
   "metadata": {},
   "source": [
    "## Create a GitHub Repository\n",
    "\n",
    "- These set of commands will:\n",
    "  - Create a subfolder `monorepo` and copy over:\n",
    "    - The `terraform` subfolder that contains Terraform `.tf` files for setting up resources in Azure:\n",
    "      - Resource Group, Storage Account, Storage Container, Container Registry, Azure Kubernetes Service, Network Watcher.\n",
    "    - The two subfolders for each microservice `video-storage` and `video-streaming`, where each contains:\n",
    "      - A `kubernetes` subfolder with a kubernetes YAML manifest file `deploy.yaml` for deploying a Deployment and a Service.\n",
    "      - A `src` subfolder with with the microservices code file `index.js` and a Jest test file `index.test.js`.\n",
    "      - A `.dockerignore` and `.gitignore` file for the microservice.\n",
    "      - A `Dockerfile` for the microservice.\n",
    "      - A Jest config file `jest.config.js`.\n",
    "      - A `package.json` and a `package-lock.json` file with information about the Node.js application and npm packages.\n",
    "    - The `workflows` subfolder the two microservices' GitHub Actions Workflow files `video-storage.yaml` and `video-streaming.yaml`.\n",
    "    - A `.gitignore` file for the Terraform files.\n",
    "    - A `LICENSE` file.\n",
    "    - A `README.md` file.\n",
    "  - Run `git init`, `git all -A` and `git commit` in the `monorepo` subfolder.\n",
    "  - Use the GitHub CLI tool `gh` to create a new GitHub Repository on your GitHub account from the `monorepo` subfolder.\n",
    "- Check your GitHub account after running this cell, and you will find a new Repository called `monorepo`."
   ]
  },
  {
   "cell_type": "code",
   "execution_count": 1,
   "metadata": {
    "vscode": {
     "languageId": "shellscript"
    }
   },
   "outputs": [
    {
     "data": {
      "text/plain": [
       "['Initialized empty Git repository in /home/patrick/projects/tsfn14/tsfn14/04_Azure_and_Github_Actions/monorepo/.git/',\n",
       " 'https://github.com/paga-ju/monorepo',\n",
       " 'To https://github.com/paga-ju/monorepo.git',\n",
       " ' * [new branch]      HEAD -> master',\n",
       " \"Branch 'master' set up to track remote branch 'master' from 'origin'.\"]"
      ]
     },
     "execution_count": 1,
     "metadata": {},
     "output_type": "execute_result"
    }
   ],
   "source": [
    "%%system\n",
    "\n",
    "mkdir -p monorepo/.github\n",
    "cp -r terraform video-storage video-streaming LICENSE README.md .gitignore monorepo\n",
    "cp -r workflows monorepo/.github\n",
    "cd monorepo\n",
    "\n",
    "git init\n",
    "git add -A\n",
    "git commit --quiet -m \"initial commit\"\n",
    "\n",
    "gh repo create monorepo \\\n",
    "--public \\\n",
    "--description \"Microservices Monorepo\" \\\n",
    "--source=. \\\n",
    "--remote=origin \\\n",
    "--push\n",
    "\n",
    "cd .."
   ]
  },
  {
   "cell_type": "markdown",
   "metadata": {},
   "source": [
    "## Get the Terraform variable `app_name` in the monorepo"
   ]
  },
  {
   "cell_type": "code",
   "execution_count": 30,
   "metadata": {
    "vscode": {
     "languageId": "shellscript"
    }
   },
   "outputs": [
    {
     "name": "stdout",
     "output_type": "stream",
     "text": [
      "APP_NAME: tsfn14g00\n"
     ]
    }
   ],
   "source": [
    "# Store app_name in a Python variable so we can use it later in this notebook\n",
    "APP_NAME=!terraform -chdir=monorepo/terraform output\n",
    "APP_NAME = APP_NAME[0].split('\"')[1]\n",
    "print(f\"APP_NAME: {APP_NAME}\")"
   ]
  },
  {
   "cell_type": "markdown",
   "metadata": {},
   "source": [
    "## Terraform Init and Terraform Apply\n",
    "\n",
    "- Create the Azure infrastructure from the `terraform` folder inte `monorepo` subfolder."
   ]
  },
  {
   "cell_type": "code",
   "execution_count": 3,
   "metadata": {
    "vscode": {
     "languageId": "shellscript"
    }
   },
   "outputs": [
    {
     "data": {
      "text/plain": [
       "['',\n",
       " '\\x1b[0m\\x1b[1mInitializing the backend...\\x1b[0m',\n",
       " '',\n",
       " '\\x1b[0m\\x1b[1mInitializing provider plugins...\\x1b[0m',\n",
       " '- Finding hashicorp/azurerm versions matching \"3.90.0\"...',\n",
       " '- Installing hashicorp/azurerm v3.90.0...',\n",
       " '- Installed hashicorp/azurerm v3.90.0 (signed by HashiCorp)',\n",
       " '',\n",
       " 'Terraform has created a lock file \\x1b[1m.terraform.lock.hcl\\x1b[0m to record the provider',\n",
       " 'selections it made above. Include this file in your version control repository',\n",
       " 'so that Terraform can guarantee to make the same selections by default when',\n",
       " 'you run \"terraform init\" in the future.\\x1b[0m',\n",
       " '',\n",
       " '\\x1b[0m\\x1b[1m\\x1b[32mTerraform has been successfully initialized!\\x1b[0m\\x1b[32m\\x1b[0m',\n",
       " '\\x1b[0m\\x1b[32m',\n",
       " 'You may now begin working with Terraform. Try running \"terraform plan\" to see',\n",
       " 'any changes that are required for your infrastructure. All Terraform commands',\n",
       " 'should now work.',\n",
       " '',\n",
       " 'If you ever set or change modules or backend configuration for Terraform,',\n",
       " 'rerun this command to reinitialize your working directory. If you forget, other',\n",
       " 'commands will detect it and remind you to do so if necessary.\\x1b[0m',\n",
       " '',\n",
       " 'Terraform used the selected providers to generate the following execution',\n",
       " 'plan. Resource actions are indicated with the following symbols:',\n",
       " '  \\x1b[32m+\\x1b[0m create\\x1b[0m',\n",
       " '',\n",
       " 'Terraform will perform the following actions:',\n",
       " '',\n",
       " '\\x1b[1m  # azurerm_container_registry.main\\x1b[0m will be created',\n",
       " '\\x1b[0m  \\x1b[32m+\\x1b[0m\\x1b[0m resource \"azurerm_container_registry\" \"main\" {',\n",
       " '      \\x1b[32m+\\x1b[0m\\x1b[0m admin_enabled                 = true',\n",
       " '      \\x1b[32m+\\x1b[0m\\x1b[0m admin_password                = (sensitive value)',\n",
       " '      \\x1b[32m+\\x1b[0m\\x1b[0m admin_username                = (known after apply)',\n",
       " '      \\x1b[32m+\\x1b[0m\\x1b[0m encryption                    = (known after apply)',\n",
       " '      \\x1b[32m+\\x1b[0m\\x1b[0m export_policy_enabled         = true',\n",
       " '      \\x1b[32m+\\x1b[0m\\x1b[0m id                            = (known after apply)',\n",
       " '      \\x1b[32m+\\x1b[0m\\x1b[0m location                      = \"westeurope\"',\n",
       " '      \\x1b[32m+\\x1b[0m\\x1b[0m login_server                  = (known after apply)',\n",
       " '      \\x1b[32m+\\x1b[0m\\x1b[0m name                          = \"tsfn14g00\"',\n",
       " '      \\x1b[32m+\\x1b[0m\\x1b[0m network_rule_bypass_option    = \"AzureServices\"',\n",
       " '      \\x1b[32m+\\x1b[0m\\x1b[0m network_rule_set              = (known after apply)',\n",
       " '      \\x1b[32m+\\x1b[0m\\x1b[0m public_network_access_enabled = true',\n",
       " '      \\x1b[32m+\\x1b[0m\\x1b[0m resource_group_name           = \"tsfn14g00\"',\n",
       " '      \\x1b[32m+\\x1b[0m\\x1b[0m retention_policy              = (known after apply)',\n",
       " '      \\x1b[32m+\\x1b[0m\\x1b[0m sku                           = \"Basic\"',\n",
       " '      \\x1b[32m+\\x1b[0m\\x1b[0m trust_policy                  = (known after apply)',\n",
       " '      \\x1b[32m+\\x1b[0m\\x1b[0m zone_redundancy_enabled       = false',\n",
       " '    }',\n",
       " '',\n",
       " '\\x1b[1m  # azurerm_kubernetes_cluster.main\\x1b[0m will be created',\n",
       " '\\x1b[0m  \\x1b[32m+\\x1b[0m\\x1b[0m resource \"azurerm_kubernetes_cluster\" \"main\" {',\n",
       " '      \\x1b[32m+\\x1b[0m\\x1b[0m api_server_authorized_ip_ranges     = (known after apply)',\n",
       " '      \\x1b[32m+\\x1b[0m\\x1b[0m dns_prefix                          = \"tsfn14g00\"',\n",
       " '      \\x1b[32m+\\x1b[0m\\x1b[0m fqdn                                = (known after apply)',\n",
       " '      \\x1b[32m+\\x1b[0m\\x1b[0m http_application_routing_zone_name  = (known after apply)',\n",
       " '      \\x1b[32m+\\x1b[0m\\x1b[0m id                                  = (known after apply)',\n",
       " '      \\x1b[32m+\\x1b[0m\\x1b[0m image_cleaner_enabled               = false',\n",
       " '      \\x1b[32m+\\x1b[0m\\x1b[0m image_cleaner_interval_hours        = 48',\n",
       " '      \\x1b[32m+\\x1b[0m\\x1b[0m kube_admin_config                   = (sensitive value)',\n",
       " '      \\x1b[32m+\\x1b[0m\\x1b[0m kube_admin_config_raw               = (sensitive value)',\n",
       " '      \\x1b[32m+\\x1b[0m\\x1b[0m kube_config                         = (sensitive value)',\n",
       " '      \\x1b[32m+\\x1b[0m\\x1b[0m kube_config_raw                     = (sensitive value)',\n",
       " '      \\x1b[32m+\\x1b[0m\\x1b[0m kubernetes_version                  = \"1.27.7\"',\n",
       " '      \\x1b[32m+\\x1b[0m\\x1b[0m location                            = \"westeurope\"',\n",
       " '      \\x1b[32m+\\x1b[0m\\x1b[0m name                                = \"tsfn14g00\"',\n",
       " '      \\x1b[32m+\\x1b[0m\\x1b[0m node_resource_group                 = (known after apply)',\n",
       " '      \\x1b[32m+\\x1b[0m\\x1b[0m node_resource_group_id              = (known after apply)',\n",
       " '      \\x1b[32m+\\x1b[0m\\x1b[0m oidc_issuer_url                     = (known after apply)',\n",
       " '      \\x1b[32m+\\x1b[0m\\x1b[0m portal_fqdn                         = (known after apply)',\n",
       " '      \\x1b[32m+\\x1b[0m\\x1b[0m private_cluster_enabled             = false',\n",
       " '      \\x1b[32m+\\x1b[0m\\x1b[0m private_cluster_public_fqdn_enabled = false',\n",
       " '      \\x1b[32m+\\x1b[0m\\x1b[0m private_dns_zone_id                 = (known after apply)',\n",
       " '      \\x1b[32m+\\x1b[0m\\x1b[0m private_fqdn                        = (known after apply)',\n",
       " '      \\x1b[32m+\\x1b[0m\\x1b[0m public_network_access_enabled       = true',\n",
       " '      \\x1b[32m+\\x1b[0m\\x1b[0m resource_group_name                 = \"tsfn14g00\"',\n",
       " '      \\x1b[32m+\\x1b[0m\\x1b[0m role_based_access_control_enabled   = true',\n",
       " '      \\x1b[32m+\\x1b[0m\\x1b[0m run_command_enabled                 = true',\n",
       " '      \\x1b[32m+\\x1b[0m\\x1b[0m sku_tier                            = \"Free\"',\n",
       " '      \\x1b[32m+\\x1b[0m\\x1b[0m support_plan                        = \"KubernetesOfficial\"',\n",
       " '      \\x1b[32m+\\x1b[0m\\x1b[0m workload_identity_enabled           = false',\n",
       " '',\n",
       " '      \\x1b[32m+\\x1b[0m\\x1b[0m default_node_pool {',\n",
       " '          \\x1b[32m+\\x1b[0m\\x1b[0m kubelet_disk_type    = (known after apply)',\n",
       " '          \\x1b[32m+\\x1b[0m\\x1b[0m max_pods             = (known after apply)',\n",
       " '          \\x1b[32m+\\x1b[0m\\x1b[0m name                 = \"default\"',\n",
       " '          \\x1b[32m+\\x1b[0m\\x1b[0m node_count           = 1',\n",
       " '          \\x1b[32m+\\x1b[0m\\x1b[0m node_labels          = (known after apply)',\n",
       " '          \\x1b[32m+\\x1b[0m\\x1b[0m orchestrator_version = (known after apply)',\n",
       " '          \\x1b[32m+\\x1b[0m\\x1b[0m os_disk_size_gb      = (known after apply)',\n",
       " '          \\x1b[32m+\\x1b[0m\\x1b[0m os_disk_type         = \"Managed\"',\n",
       " '          \\x1b[32m+\\x1b[0m\\x1b[0m os_sku               = (known after apply)',\n",
       " '          \\x1b[32m+\\x1b[0m\\x1b[0m scale_down_mode      = \"Delete\"',\n",
       " '          \\x1b[32m+\\x1b[0m\\x1b[0m type                 = \"VirtualMachineScaleSets\"',\n",
       " '          \\x1b[32m+\\x1b[0m\\x1b[0m ultra_ssd_enabled    = false',\n",
       " '          \\x1b[32m+\\x1b[0m\\x1b[0m vm_size              = \"Standard_B2s\"',\n",
       " '          \\x1b[32m+\\x1b[0m\\x1b[0m workload_runtime     = (known after apply)',\n",
       " '        }',\n",
       " '',\n",
       " '      \\x1b[32m+\\x1b[0m\\x1b[0m identity {',\n",
       " '          \\x1b[32m+\\x1b[0m\\x1b[0m principal_id = (known after apply)',\n",
       " '          \\x1b[32m+\\x1b[0m\\x1b[0m tenant_id    = (known after apply)',\n",
       " '          \\x1b[32m+\\x1b[0m\\x1b[0m type         = \"SystemAssigned\"',\n",
       " '        }',\n",
       " '    }',\n",
       " '',\n",
       " '\\x1b[1m  # azurerm_network_watcher.networkwatcher\\x1b[0m will be created',\n",
       " '\\x1b[0m  \\x1b[32m+\\x1b[0m\\x1b[0m resource \"azurerm_network_watcher\" \"networkwatcher\" {',\n",
       " '      \\x1b[32m+\\x1b[0m\\x1b[0m id                  = (known after apply)',\n",
       " '      \\x1b[32m+\\x1b[0m\\x1b[0m location            = \"westeurope\"',\n",
       " '      \\x1b[32m+\\x1b[0m\\x1b[0m name                = \"NetworkWatcher_westeurope\"',\n",
       " '      \\x1b[32m+\\x1b[0m\\x1b[0m resource_group_name = \"NetworkWatcherRG\"',\n",
       " '    }',\n",
       " '',\n",
       " '\\x1b[1m  # azurerm_resource_group.main\\x1b[0m will be created',\n",
       " '\\x1b[0m  \\x1b[32m+\\x1b[0m\\x1b[0m resource \"azurerm_resource_group\" \"main\" {',\n",
       " '      \\x1b[32m+\\x1b[0m\\x1b[0m id       = (known after apply)',\n",
       " '      \\x1b[32m+\\x1b[0m\\x1b[0m location = \"westeurope\"',\n",
       " '      \\x1b[32m+\\x1b[0m\\x1b[0m name     = \"tsfn14g00\"',\n",
       " '    }',\n",
       " '',\n",
       " '\\x1b[1m  # azurerm_resource_group.networkwatcher\\x1b[0m will be created',\n",
       " '\\x1b[0m  \\x1b[32m+\\x1b[0m\\x1b[0m resource \"azurerm_resource_group\" \"networkwatcher\" {',\n",
       " '      \\x1b[32m+\\x1b[0m\\x1b[0m id       = (known after apply)',\n",
       " '      \\x1b[32m+\\x1b[0m\\x1b[0m location = \"westeurope\"',\n",
       " '      \\x1b[32m+\\x1b[0m\\x1b[0m name     = \"NetworkWatcherRG\"',\n",
       " '    }',\n",
       " '',\n",
       " '\\x1b[1m  # azurerm_role_assignment.main\\x1b[0m will be created',\n",
       " '\\x1b[0m  \\x1b[32m+\\x1b[0m\\x1b[0m resource \"azurerm_role_assignment\" \"main\" {',\n",
       " '      \\x1b[32m+\\x1b[0m\\x1b[0m id                               = (known after apply)',\n",
       " '      \\x1b[32m+\\x1b[0m\\x1b[0m name                             = (known after apply)',\n",
       " '      \\x1b[32m+\\x1b[0m\\x1b[0m principal_id                     = (known after apply)',\n",
       " '      \\x1b[32m+\\x1b[0m\\x1b[0m principal_type                   = (known after apply)',\n",
       " '      \\x1b[32m+\\x1b[0m\\x1b[0m role_definition_id               = (known after apply)',\n",
       " '      \\x1b[32m+\\x1b[0m\\x1b[0m role_definition_name             = \"AcrPull\"',\n",
       " '      \\x1b[32m+\\x1b[0m\\x1b[0m scope                            = (known after apply)',\n",
       " '      \\x1b[32m+\\x1b[0m\\x1b[0m skip_service_principal_aad_check = true',\n",
       " '    }',\n",
       " '',\n",
       " '\\x1b[1m  # azurerm_storage_account.main\\x1b[0m will be created',\n",
       " '\\x1b[0m  \\x1b[32m+\\x1b[0m\\x1b[0m resource \"azurerm_storage_account\" \"main\" {',\n",
       " '      \\x1b[32m+\\x1b[0m\\x1b[0m access_tier                        = (known after apply)',\n",
       " '      \\x1b[32m+\\x1b[0m\\x1b[0m account_kind                       = \"StorageV2\"',\n",
       " '      \\x1b[32m+\\x1b[0m\\x1b[0m account_replication_type           = \"LRS\"',\n",
       " '      \\x1b[32m+\\x1b[0m\\x1b[0m account_tier                       = \"Standard\"',\n",
       " '      \\x1b[32m+\\x1b[0m\\x1b[0m allow_nested_items_to_be_public    = true',\n",
       " '      \\x1b[32m+\\x1b[0m\\x1b[0m cross_tenant_replication_enabled   = true',\n",
       " '      \\x1b[32m+\\x1b[0m\\x1b[0m default_to_oauth_authentication    = false',\n",
       " '      \\x1b[32m+\\x1b[0m\\x1b[0m enable_https_traffic_only          = true',\n",
       " '      \\x1b[32m+\\x1b[0m\\x1b[0m id                                 = (known after apply)',\n",
       " '      \\x1b[32m+\\x1b[0m\\x1b[0m infrastructure_encryption_enabled  = false',\n",
       " '      \\x1b[32m+\\x1b[0m\\x1b[0m is_hns_enabled                     = false',\n",
       " '      \\x1b[32m+\\x1b[0m\\x1b[0m large_file_share_enabled           = (known after apply)',\n",
       " '      \\x1b[32m+\\x1b[0m\\x1b[0m location                           = \"westeurope\"',\n",
       " '      \\x1b[32m+\\x1b[0m\\x1b[0m min_tls_version                    = \"TLS1_2\"',\n",
       " '      \\x1b[32m+\\x1b[0m\\x1b[0m name                               = \"tsfn14g00\"',\n",
       " '      \\x1b[32m+\\x1b[0m\\x1b[0m nfsv3_enabled                      = false',\n",
       " '      \\x1b[32m+\\x1b[0m\\x1b[0m primary_access_key                 = (sensitive value)',\n",
       " '      \\x1b[32m+\\x1b[0m\\x1b[0m primary_blob_connection_string     = (sensitive value)',\n",
       " '      \\x1b[32m+\\x1b[0m\\x1b[0m primary_blob_endpoint              = (known after apply)',\n",
       " '      \\x1b[32m+\\x1b[0m\\x1b[0m primary_blob_host                  = (known after apply)',\n",
       " '      \\x1b[32m+\\x1b[0m\\x1b[0m primary_blob_internet_endpoint     = (known after apply)',\n",
       " '      \\x1b[32m+\\x1b[0m\\x1b[0m primary_blob_internet_host         = (known after apply)',\n",
       " '      \\x1b[32m+\\x1b[0m\\x1b[0m primary_blob_microsoft_endpoint    = (known after apply)',\n",
       " '      \\x1b[32m+\\x1b[0m\\x1b[0m primary_blob_microsoft_host        = (known after apply)',\n",
       " '      \\x1b[32m+\\x1b[0m\\x1b[0m primary_connection_string          = (sensitive value)',\n",
       " '      \\x1b[32m+\\x1b[0m\\x1b[0m primary_dfs_endpoint               = (known after apply)',\n",
       " '      \\x1b[32m+\\x1b[0m\\x1b[0m primary_dfs_host                   = (known after apply)',\n",
       " '      \\x1b[32m+\\x1b[0m\\x1b[0m primary_dfs_internet_endpoint      = (known after apply)',\n",
       " '      \\x1b[32m+\\x1b[0m\\x1b[0m primary_dfs_internet_host          = (known after apply)',\n",
       " '      \\x1b[32m+\\x1b[0m\\x1b[0m primary_dfs_microsoft_endpoint     = (known after apply)',\n",
       " '      \\x1b[32m+\\x1b[0m\\x1b[0m primary_dfs_microsoft_host         = (known after apply)',\n",
       " '      \\x1b[32m+\\x1b[0m\\x1b[0m primary_file_endpoint              = (known after apply)',\n",
       " '      \\x1b[32m+\\x1b[0m\\x1b[0m primary_file_host                  = (known after apply)',\n",
       " '      \\x1b[32m+\\x1b[0m\\x1b[0m primary_file_internet_endpoint     = (known after apply)',\n",
       " '      \\x1b[32m+\\x1b[0m\\x1b[0m primary_file_internet_host         = (known after apply)',\n",
       " '      \\x1b[32m+\\x1b[0m\\x1b[0m primary_file_microsoft_endpoint    = (known after apply)',\n",
       " '      \\x1b[32m+\\x1b[0m\\x1b[0m primary_file_microsoft_host        = (known after apply)',\n",
       " '      \\x1b[32m+\\x1b[0m\\x1b[0m primary_location                   = (known after apply)',\n",
       " '      \\x1b[32m+\\x1b[0m\\x1b[0m primary_queue_endpoint             = (known after apply)',\n",
       " '      \\x1b[32m+\\x1b[0m\\x1b[0m primary_queue_host                 = (known after apply)',\n",
       " '      \\x1b[32m+\\x1b[0m\\x1b[0m primary_queue_microsoft_endpoint   = (known after apply)',\n",
       " '      \\x1b[32m+\\x1b[0m\\x1b[0m primary_queue_microsoft_host       = (known after apply)',\n",
       " '      \\x1b[32m+\\x1b[0m\\x1b[0m primary_table_endpoint             = (known after apply)',\n",
       " '      \\x1b[32m+\\x1b[0m\\x1b[0m primary_table_host                 = (known after apply)',\n",
       " '      \\x1b[32m+\\x1b[0m\\x1b[0m primary_table_microsoft_endpoint   = (known after apply)',\n",
       " '      \\x1b[32m+\\x1b[0m\\x1b[0m primary_table_microsoft_host       = (known after apply)',\n",
       " '      \\x1b[32m+\\x1b[0m\\x1b[0m primary_web_endpoint               = (known after apply)',\n",
       " '      \\x1b[32m+\\x1b[0m\\x1b[0m primary_web_host                   = (known after apply)',\n",
       " '      \\x1b[32m+\\x1b[0m\\x1b[0m primary_web_internet_endpoint      = (known after apply)',\n",
       " '      \\x1b[32m+\\x1b[0m\\x1b[0m primary_web_internet_host          = (known after apply)',\n",
       " '      \\x1b[32m+\\x1b[0m\\x1b[0m primary_web_microsoft_endpoint     = (known after apply)',\n",
       " '      \\x1b[32m+\\x1b[0m\\x1b[0m primary_web_microsoft_host         = (known after apply)',\n",
       " '      \\x1b[32m+\\x1b[0m\\x1b[0m public_network_access_enabled      = true',\n",
       " '      \\x1b[32m+\\x1b[0m\\x1b[0m queue_encryption_key_type          = \"Service\"',\n",
       " '      \\x1b[32m+\\x1b[0m\\x1b[0m resource_group_name                = \"tsfn14g00\"',\n",
       " '      \\x1b[32m+\\x1b[0m\\x1b[0m secondary_access_key               = (sensitive value)',\n",
       " '      \\x1b[32m+\\x1b[0m\\x1b[0m secondary_blob_connection_string   = (sensitive value)',\n",
       " '      \\x1b[32m+\\x1b[0m\\x1b[0m secondary_blob_endpoint            = (known after apply)',\n",
       " '      \\x1b[32m+\\x1b[0m\\x1b[0m secondary_blob_host                = (known after apply)',\n",
       " '      \\x1b[32m+\\x1b[0m\\x1b[0m secondary_blob_internet_endpoint   = (known after apply)',\n",
       " '      \\x1b[32m+\\x1b[0m\\x1b[0m secondary_blob_internet_host       = (known after apply)',\n",
       " '      \\x1b[32m+\\x1b[0m\\x1b[0m secondary_blob_microsoft_endpoint  = (known after apply)',\n",
       " '      \\x1b[32m+\\x1b[0m\\x1b[0m secondary_blob_microsoft_host      = (known after apply)',\n",
       " '      \\x1b[32m+\\x1b[0m\\x1b[0m secondary_connection_string        = (sensitive value)',\n",
       " '      \\x1b[32m+\\x1b[0m\\x1b[0m secondary_dfs_endpoint             = (known after apply)',\n",
       " '      \\x1b[32m+\\x1b[0m\\x1b[0m secondary_dfs_host                 = (known after apply)',\n",
       " '      \\x1b[32m+\\x1b[0m\\x1b[0m secondary_dfs_internet_endpoint    = (known after apply)',\n",
       " '      \\x1b[32m+\\x1b[0m\\x1b[0m secondary_dfs_internet_host        = (known after apply)',\n",
       " '      \\x1b[32m+\\x1b[0m\\x1b[0m secondary_dfs_microsoft_endpoint   = (known after apply)',\n",
       " '      \\x1b[32m+\\x1b[0m\\x1b[0m secondary_dfs_microsoft_host       = (known after apply)',\n",
       " '      \\x1b[32m+\\x1b[0m\\x1b[0m secondary_file_endpoint            = (known after apply)',\n",
       " '      \\x1b[32m+\\x1b[0m\\x1b[0m secondary_file_host                = (known after apply)',\n",
       " '      \\x1b[32m+\\x1b[0m\\x1b[0m secondary_file_internet_endpoint   = (known after apply)',\n",
       " '      \\x1b[32m+\\x1b[0m\\x1b[0m secondary_file_internet_host       = (known after apply)',\n",
       " '      \\x1b[32m+\\x1b[0m\\x1b[0m secondary_file_microsoft_endpoint  = (known after apply)',\n",
       " '      \\x1b[32m+\\x1b[0m\\x1b[0m secondary_file_microsoft_host      = (known after apply)',\n",
       " '      \\x1b[32m+\\x1b[0m\\x1b[0m secondary_location                 = (known after apply)',\n",
       " '      \\x1b[32m+\\x1b[0m\\x1b[0m secondary_queue_endpoint           = (known after apply)',\n",
       " '      \\x1b[32m+\\x1b[0m\\x1b[0m secondary_queue_host               = (known after apply)',\n",
       " '      \\x1b[32m+\\x1b[0m\\x1b[0m secondary_queue_microsoft_endpoint = (known after apply)',\n",
       " '      \\x1b[32m+\\x1b[0m\\x1b[0m secondary_queue_microsoft_host     = (known after apply)',\n",
       " '      \\x1b[32m+\\x1b[0m\\x1b[0m secondary_table_endpoint           = (known after apply)',\n",
       " '      \\x1b[32m+\\x1b[0m\\x1b[0m secondary_table_host               = (known after apply)',\n",
       " '      \\x1b[32m+\\x1b[0m\\x1b[0m secondary_table_microsoft_endpoint = (known after apply)',\n",
       " '      \\x1b[32m+\\x1b[0m\\x1b[0m secondary_table_microsoft_host     = (known after apply)',\n",
       " '      \\x1b[32m+\\x1b[0m\\x1b[0m secondary_web_endpoint             = (known after apply)',\n",
       " '      \\x1b[32m+\\x1b[0m\\x1b[0m secondary_web_host                 = (known after apply)',\n",
       " '      \\x1b[32m+\\x1b[0m\\x1b[0m secondary_web_internet_endpoint    = (known after apply)',\n",
       " '      \\x1b[32m+\\x1b[0m\\x1b[0m secondary_web_internet_host        = (known after apply)',\n",
       " '      \\x1b[32m+\\x1b[0m\\x1b[0m secondary_web_microsoft_endpoint   = (known after apply)',\n",
       " '      \\x1b[32m+\\x1b[0m\\x1b[0m secondary_web_microsoft_host       = (known after apply)',\n",
       " '      \\x1b[32m+\\x1b[0m\\x1b[0m sftp_enabled                       = false',\n",
       " '      \\x1b[32m+\\x1b[0m\\x1b[0m shared_access_key_enabled          = true',\n",
       " '      \\x1b[32m+\\x1b[0m\\x1b[0m table_encryption_key_type          = \"Service\"',\n",
       " '    }',\n",
       " '',\n",
       " '\\x1b[1m  # azurerm_storage_container.main\\x1b[0m will be created',\n",
       " '\\x1b[0m  \\x1b[32m+\\x1b[0m\\x1b[0m resource \"azurerm_storage_container\" \"main\" {',\n",
       " '      \\x1b[32m+\\x1b[0m\\x1b[0m container_access_type   = \"private\"',\n",
       " '      \\x1b[32m+\\x1b[0m\\x1b[0m has_immutability_policy = (known after apply)',\n",
       " '      \\x1b[32m+\\x1b[0m\\x1b[0m has_legal_hold          = (known after apply)',\n",
       " '      \\x1b[32m+\\x1b[0m\\x1b[0m id                      = (known after apply)',\n",
       " '      \\x1b[32m+\\x1b[0m\\x1b[0m metadata                = (known after apply)',\n",
       " '      \\x1b[32m+\\x1b[0m\\x1b[0m name                    = \"videos\"',\n",
       " '      \\x1b[32m+\\x1b[0m\\x1b[0m resource_manager_id     = (known after apply)',\n",
       " '      \\x1b[32m+\\x1b[0m\\x1b[0m storage_account_name    = \"tsfn14g00\"',\n",
       " '    }',\n",
       " '',\n",
       " '\\x1b[1mPlan:\\x1b[0m 8 to add, 0 to change, 0 to destroy.',\n",
       " '\\x1b[0m\\x1b[0m\\x1b[1mazurerm_resource_group.networkwatcher: Creating...\\x1b[0m\\x1b[0m',\n",
       " '\\x1b[0m\\x1b[1mazurerm_resource_group.main: Creating...\\x1b[0m\\x1b[0m',\n",
       " '\\x1b[0m\\x1b[1mazurerm_resource_group.networkwatcher: Creation complete after 1s [id=/subscriptions/dc438970-aa32-41b3-8fe2-f587309a0208/resourceGroups/NetworkWatcherRG]\\x1b[0m',\n",
       " '\\x1b[0m\\x1b[1mazurerm_network_watcher.networkwatcher: Creating...\\x1b[0m\\x1b[0m',\n",
       " '\\x1b[0m\\x1b[1mazurerm_resource_group.main: Creation complete after 1s [id=/subscriptions/dc438970-aa32-41b3-8fe2-f587309a0208/resourceGroups/tsfn14g00]\\x1b[0m',\n",
       " '\\x1b[0m\\x1b[1mazurerm_container_registry.main: Creating...\\x1b[0m\\x1b[0m',\n",
       " '\\x1b[0m\\x1b[1mazurerm_storage_account.main: Creating...\\x1b[0m\\x1b[0m',\n",
       " '\\x1b[0m\\x1b[1mazurerm_kubernetes_cluster.main: Creating...\\x1b[0m\\x1b[0m',\n",
       " '\\x1b[0m\\x1b[1mazurerm_network_watcher.networkwatcher: Creation complete after 1s [id=/subscriptions/dc438970-aa32-41b3-8fe2-f587309a0208/resourceGroups/NetworkWatcherRG/providers/Microsoft.Network/networkWatchers/NetworkWatcher_westeurope]\\x1b[0m',\n",
       " '\\x1b[0m\\x1b[1mazurerm_container_registry.main: Still creating... [10s elapsed]\\x1b[0m\\x1b[0m',\n",
       " '\\x1b[0m\\x1b[1mazurerm_storage_account.main: Still creating... [10s elapsed]\\x1b[0m\\x1b[0m',\n",
       " '\\x1b[0m\\x1b[1mazurerm_kubernetes_cluster.main: Still creating... [10s elapsed]\\x1b[0m\\x1b[0m',\n",
       " '\\x1b[0m\\x1b[1mazurerm_container_registry.main: Creation complete after 20s [id=/subscriptions/dc438970-aa32-41b3-8fe2-f587309a0208/resourceGroups/tsfn14g00/providers/Microsoft.ContainerRegistry/registries/tsfn14g00]\\x1b[0m',\n",
       " '\\x1b[0m\\x1b[1mazurerm_storage_account.main: Still creating... [20s elapsed]\\x1b[0m\\x1b[0m',\n",
       " '\\x1b[0m\\x1b[1mazurerm_kubernetes_cluster.main: Still creating... [20s elapsed]\\x1b[0m\\x1b[0m',\n",
       " '\\x1b[0m\\x1b[1mazurerm_storage_account.main: Creation complete after 24s [id=/subscriptions/dc438970-aa32-41b3-8fe2-f587309a0208/resourceGroups/tsfn14g00/providers/Microsoft.Storage/storageAccounts/tsfn14g00]\\x1b[0m',\n",
       " '\\x1b[0m\\x1b[1mazurerm_storage_container.main: Creating...\\x1b[0m\\x1b[0m',\n",
       " '\\x1b[0m\\x1b[1mazurerm_storage_container.main: Creation complete after 0s [id=https://tsfn14g00.blob.core.windows.net/videos]\\x1b[0m',\n",
       " '\\x1b[0m\\x1b[1mazurerm_kubernetes_cluster.main: Still creating... [30s elapsed]\\x1b[0m\\x1b[0m',\n",
       " '\\x1b[0m\\x1b[1mazurerm_kubernetes_cluster.main: Still creating... [40s elapsed]\\x1b[0m\\x1b[0m',\n",
       " '\\x1b[0m\\x1b[1mazurerm_kubernetes_cluster.main: Still creating... [50s elapsed]\\x1b[0m\\x1b[0m',\n",
       " '\\x1b[0m\\x1b[1mazurerm_kubernetes_cluster.main: Still creating... [1m0s elapsed]\\x1b[0m\\x1b[0m',\n",
       " '\\x1b[0m\\x1b[1mazurerm_kubernetes_cluster.main: Still creating... [1m10s elapsed]\\x1b[0m\\x1b[0m',\n",
       " '\\x1b[0m\\x1b[1mazurerm_kubernetes_cluster.main: Still creating... [1m20s elapsed]\\x1b[0m\\x1b[0m',\n",
       " '\\x1b[0m\\x1b[1mazurerm_kubernetes_cluster.main: Still creating... [1m30s elapsed]\\x1b[0m\\x1b[0m',\n",
       " '\\x1b[0m\\x1b[1mazurerm_kubernetes_cluster.main: Still creating... [1m40s elapsed]\\x1b[0m\\x1b[0m',\n",
       " '\\x1b[0m\\x1b[1mazurerm_kubernetes_cluster.main: Still creating... [1m50s elapsed]\\x1b[0m\\x1b[0m',\n",
       " '\\x1b[0m\\x1b[1mazurerm_kubernetes_cluster.main: Still creating... [2m0s elapsed]\\x1b[0m\\x1b[0m',\n",
       " '\\x1b[0m\\x1b[1mazurerm_kubernetes_cluster.main: Still creating... [2m10s elapsed]\\x1b[0m\\x1b[0m',\n",
       " '\\x1b[0m\\x1b[1mazurerm_kubernetes_cluster.main: Still creating... [2m20s elapsed]\\x1b[0m\\x1b[0m',\n",
       " '\\x1b[0m\\x1b[1mazurerm_kubernetes_cluster.main: Still creating... [2m30s elapsed]\\x1b[0m\\x1b[0m',\n",
       " '\\x1b[0m\\x1b[1mazurerm_kubernetes_cluster.main: Still creating... [2m40s elapsed]\\x1b[0m\\x1b[0m',\n",
       " '\\x1b[0m\\x1b[1mazurerm_kubernetes_cluster.main: Still creating... [2m50s elapsed]\\x1b[0m\\x1b[0m',\n",
       " '\\x1b[0m\\x1b[1mazurerm_kubernetes_cluster.main: Still creating... [3m0s elapsed]\\x1b[0m\\x1b[0m',\n",
       " '\\x1b[0m\\x1b[1mazurerm_kubernetes_cluster.main: Still creating... [3m10s elapsed]\\x1b[0m\\x1b[0m',\n",
       " '\\x1b[0m\\x1b[1mazurerm_kubernetes_cluster.main: Still creating... [3m20s elapsed]\\x1b[0m\\x1b[0m',\n",
       " '\\x1b[0m\\x1b[1mazurerm_kubernetes_cluster.main: Still creating... [3m30s elapsed]\\x1b[0m\\x1b[0m',\n",
       " '\\x1b[0m\\x1b[1mazurerm_kubernetes_cluster.main: Still creating... [3m40s elapsed]\\x1b[0m\\x1b[0m',\n",
       " '\\x1b[0m\\x1b[1mazurerm_kubernetes_cluster.main: Still creating... [3m50s elapsed]\\x1b[0m\\x1b[0m',\n",
       " '\\x1b[0m\\x1b[1mazurerm_kubernetes_cluster.main: Still creating... [4m0s elapsed]\\x1b[0m\\x1b[0m',\n",
       " '\\x1b[0m\\x1b[1mazurerm_kubernetes_cluster.main: Still creating... [4m10s elapsed]\\x1b[0m\\x1b[0m',\n",
       " '\\x1b[0m\\x1b[1mazurerm_kubernetes_cluster.main: Creation complete after 4m14s [id=/subscriptions/dc438970-aa32-41b3-8fe2-f587309a0208/resourceGroups/tsfn14g00/providers/Microsoft.ContainerService/managedClusters/tsfn14g00]\\x1b[0m',\n",
       " '\\x1b[0m\\x1b[1mazurerm_role_assignment.main: Creating...\\x1b[0m\\x1b[0m',\n",
       " '\\x1b[0m\\x1b[1mazurerm_role_assignment.main: Still creating... [10s elapsed]\\x1b[0m\\x1b[0m',\n",
       " '\\x1b[0m\\x1b[1mazurerm_role_assignment.main: Still creating... [20s elapsed]\\x1b[0m\\x1b[0m',\n",
       " '\\x1b[0m\\x1b[1mazurerm_role_assignment.main: Creation complete after 26s [id=/subscriptions/dc438970-aa32-41b3-8fe2-f587309a0208/resourceGroups/tsfn14g00/providers/Microsoft.ContainerRegistry/registries/tsfn14g00/providers/Microsoft.Authorization/roleAssignments/68dcf0ff-2565-2787-bbff-34ad0d41c6e7]\\x1b[0m',\n",
       " '\\x1b[0m\\x1b[1m\\x1b[32m',\n",
       " 'Apply complete! Resources: 8 added, 0 changed, 0 destroyed.',\n",
       " '\\x1b[0m']"
      ]
     },
     "execution_count": 3,
     "metadata": {},
     "output_type": "execute_result"
    }
   ],
   "source": [
    "%%system\n",
    "\n",
    "cd monorepo/terraform\n",
    "\n",
    "terraform init\n",
    "terraform apply -auto-approve\n",
    "\n",
    "cd ../.."
   ]
  },
  {
   "cell_type": "markdown",
   "metadata": {},
   "source": [
    "## "
   ]
  },
  {
   "cell_type": "markdown",
   "metadata": {},
   "source": [
    "## List Azure Resource Groups\n",
    "\n",
    "- We see that two Azure Resource Groups were created from the `terraform` folder.\n",
    "  - An additional Azure Resource Group was created by Azure, but will be deleted when we run `terraform destroy`."
   ]
  },
  {
   "cell_type": "code",
   "execution_count": 4,
   "metadata": {
    "vscode": {
     "languageId": "shellscript"
    }
   },
   "outputs": [
    {
     "name": "stdout",
     "output_type": "stream",
     "text": [
      "Name                               Location    Status\n",
      "---------------------------------  ----------  ---------\n",
      "tsfn14g00                          westeurope  Succeeded\n",
      "NetworkWatcherRG                   westeurope  Succeeded\n",
      "MC_tsfn14g00_tsfn14g00_westeurope  westeurope  Succeeded\n"
     ]
    }
   ],
   "source": [
    "!az group list -o table"
   ]
  },
  {
   "cell_type": "markdown",
   "metadata": {},
   "source": [
    "## List Azure Kubernetes Services\n",
    "\n",
    "- We see that an Azure Kubernetes Service was created from the `terraform` folder."
   ]
  },
  {
   "cell_type": "code",
   "execution_count": 42,
   "metadata": {
    "vscode": {
     "languageId": "shellscript"
    }
   },
   "outputs": [
    {
     "name": "stdout",
     "output_type": "stream",
     "text": [
      "Name       Location    ResourceGroup    KubernetesVersion    CurrentKubernetesVersion    ProvisioningState    Fqdn\n",
      "---------  ----------  ---------------  -------------------  --------------------------  -------------------  -------------------------------------------\n",
      "tsfn14g00  westeurope  tsfn14g00        1.27.7               1.27.7                      Succeeded            tsfn14g00-dzhwwmas.hcp.westeurope.azmk8s.io\n"
     ]
    }
   ],
   "source": [
    "!az aks list -o table"
   ]
  },
  {
   "cell_type": "markdown",
   "metadata": {},
   "source": [
    "## List Azure Container Registries\n",
    "\n",
    "- We see that an Azure Container Registry was created from the `terraform` folder."
   ]
  },
  {
   "cell_type": "code",
   "execution_count": 5,
   "metadata": {
    "vscode": {
     "languageId": "shellscript"
    }
   },
   "outputs": [
    {
     "name": "stdout",
     "output_type": "stream",
     "text": [
      "NAME       RESOURCE GROUP    LOCATION    SKU    LOGIN SERVER          CREATION DATE         ADMIN ENABLED\n",
      "---------  ----------------  ----------  -----  --------------------  --------------------  ---------------\n",
      "tsfn14g00  tsfn14g00         westeurope  Basic  tsfn14g00.azurecr.io  2024-02-11T18:43:27Z  True\n"
     ]
    }
   ],
   "source": [
    "!az acr list -o table"
   ]
  },
  {
   "cell_type": "markdown",
   "metadata": {},
   "source": [
    "## List Azure Storage Accounts\n",
    "\n",
    "- We see that an Azure Storage Account was created from the `terraform` folder.\n",
    "  - It also creates an Storage Container called `videos` under the Azure Storage Account."
   ]
  },
  {
   "cell_type": "code",
   "execution_count": 43,
   "metadata": {
    "vscode": {
     "languageId": "shellscript"
    }
   },
   "outputs": [
    {
     "name": "stdout",
     "output_type": "stream",
     "text": [
      "AccessTier    AllowBlobPublicAccess    AllowCrossTenantReplication    AllowSharedKeyAccess    CreationTime                      DefaultToOAuthAuthentication    EnableHttpsTrafficOnly    EnableNfsV3    IsHnsEnabled    IsSftpEnabled    Kind       Location    MinimumTlsVersion    Name       PrimaryLocation    ProvisioningState    PublicNetworkAccess    ResourceGroup    StatusOfPrimary\n",
      "------------  -----------------------  -----------------------------  ----------------------  --------------------------------  ------------------------------  ------------------------  -------------  --------------  ---------------  ---------  ----------  -------------------  ---------  -----------------  -------------------  ---------------------  ---------------  -----------------\n",
      "Hot           True                     True                           True                    2024-02-11T18:43:25.634026+00:00  False                           True                      False          False           False            StorageV2  westeurope  TLS1_2               tsfn14g00  westeurope         Succeeded            Enabled                tsfn14g00        available\n"
     ]
    }
   ],
   "source": [
    "!az storage account list -o table"
   ]
  },
  {
   "cell_type": "markdown",
   "metadata": {},
   "source": [
    "## Get Access Information for the Azure Container Registry\n",
    "\n",
    "- We need this information to configure our microservices and kubernetes deployments."
   ]
  },
  {
   "cell_type": "code",
   "execution_count": 44,
   "metadata": {
    "vscode": {
     "languageId": "shellscript"
    }
   },
   "outputs": [
    {
     "name": "stdout",
     "output_type": "stream",
     "text": [
      "CONTAINER_REGISTRY_LOGIN_SERVER: tsfn14g00.azurecr.io\n",
      "CONTAINER_REGISTRY_USERNAME: tsfn14g00\n",
      "CONTAINER_REGISTRY_PASSWORD: OScUqKmZRLfAUwSk9hufQ+wwVdb80j6l2ZnK5Nv5CS+ACRDH4k+m\n"
     ]
    }
   ],
   "source": [
    "# Let's store the LOGIN SERVER, USERNAME and PASSWORD in Python variables so we can use them later in this notebook\n",
    "CONTAINER_REGISTRY_LOGIN_SERVER=!az acr show -n {APP_NAME} --query loginServer -o tsv\n",
    "CONTAINER_REGISTRY_LOGIN_SERVER=CONTAINER_REGISTRY_LOGIN_SERVER[0]\n",
    "CONTAINER_REGISTRY_USERNAME=!az acr credential show -n {APP_NAME} --query username -o tsv\n",
    "CONTAINER_REGISTRY_USERNAME=CONTAINER_REGISTRY_USERNAME[0]\n",
    "CONTAINER_REGISTRY_PASSWORD=!az acr credential show -n {APP_NAME} --query passwords[0].value -o tsv\n",
    "CONTAINER_REGISTRY_PASSWORD=CONTAINER_REGISTRY_PASSWORD[0]\n",
    "\n",
    "print(f\"CONTAINER_REGISTRY_LOGIN_SERVER: {CONTAINER_REGISTRY_LOGIN_SERVER}\")\n",
    "print(f\"CONTAINER_REGISTRY_USERNAME: {CONTAINER_REGISTRY_USERNAME}\")\n",
    "print(f\"CONTAINER_REGISTRY_PASSWORD: {CONTAINER_REGISTRY_PASSWORD}\")"
   ]
  },
  {
   "cell_type": "markdown",
   "metadata": {},
   "source": [
    "## Get Access Information for Azure Storage Account\n",
    "\n",
    "- We need this information to configure our microservices and kubernetes deployments."
   ]
  },
  {
   "cell_type": "code",
   "execution_count": 45,
   "metadata": {
    "vscode": {
     "languageId": "shellscript"
    }
   },
   "outputs": [
    {
     "name": "stdout",
     "output_type": "stream",
     "text": [
      "STORAGE_ACCOUNT_NAME: tsfn14g00\n",
      "STORAGE_ACCESS_KEY: rpOdcDPu8T4SoMEH+CAHkEZj3QlFnghP1ol15KfpwTppkiUsNcxxvb2gck4XBgWIqHs6OEY7KwT3+AStoCibnA==\n"
     ]
    }
   ],
   "source": [
    "# Let's store the STORAGE ACCOUNT NAME and STORAGE ACCES KEY in Python variables so we can use them later in this notebook\n",
    "STORAGE_ACCOUNT_NAME=!az storage account list --query [0].name -o tsv\n",
    "STORAGE_ACCOUNT_NAME=STORAGE_ACCOUNT_NAME[0]\n",
    "STORAGE_ACCESS_KEY=!az storage account keys list --account-name tsfn14g00 --resource-group tsfn14g00 --query [0].value -o tsv\n",
    "STORAGE_ACCESS_KEY=STORAGE_ACCESS_KEY[0]\n",
    "\n",
    "print(f\"STORAGE_ACCOUNT_NAME: {STORAGE_ACCOUNT_NAME}\")\n",
    "print(f\"STORAGE_ACCESS_KEY: {STORAGE_ACCESS_KEY}\")"
   ]
  },
  {
   "cell_type": "markdown",
   "metadata": {},
   "source": [
    "## Upload a file to Container `videos` in Storage Container\n",
    "\n",
    "- The microservices application doesn't have a front-end, so we can't upload a file to the Storage Container via a web interface.\n",
    "- Here we manually upload the file `SampleVideo_1280x720_1mb.mp4` from the `videos` subfolder to the Storage Container.\n",
    "  - We do this so the `video-storage` microservice will find the file when we test the applciation."
   ]
  },
  {
   "cell_type": "code",
   "execution_count": 95,
   "metadata": {
    "vscode": {
     "languageId": "shellscript"
    }
   },
   "outputs": [
    {
     "name": "stdout",
     "output_type": "stream",
     "text": [
      "Finished[#############################################################]  100.0000%\n",
      "Client_request_id                     Content_md5               Date                       LastModified               Request_id                            Request_server_encrypted    Version\n",
      "------------------------------------  ------------------------  -------------------------  -------------------------  ------------------------------------  --------------------------  ----------\n",
      "07a0cdf4-c924-11ee-ad81-fff0521565fd  1Vvd+NYpEIee2fYFUiFJqA==  2024-02-11T21:25:09+00:00  2024-02-11T21:25:09+00:00  2151a53a-f01e-0063-3830-5d7999000000  True                        2022-11-02\n",
      "Name                          Blob Type    Blob Tier    Length    Content Type    Last Modified              Snapshot\n",
      "----------------------------  -----------  -----------  --------  --------------  -------------------------  ----------\n",
      "SampleVideo_1280x720_1mb.mp4  BlockBlob    Hot          1055736   video/mp4       2024-02-11T21:25:09+00:00\n"
     ]
    }
   ],
   "source": [
    "!az storage blob upload --container-name videos --name SampleVideo_1280x720_1mb.mp4 --file videos/SampleVideo_1280x720_1mb.mp4 --account-name {STORAGE_ACCOUNT_NAME} --account-key {STORAGE_ACCESS_KEY} -o table\n",
    "!az storage blob list --container-name videos --account-name {STORAGE_ACCOUNT_NAME} --account-key {STORAGE_ACCESS_KEY} -o table "
   ]
  },
  {
   "cell_type": "markdown",
   "metadata": {},
   "source": [
    "## Add Azure Kubernetes Cluster Info. to Local Kubectl Config File\n",
    "\n",
    "- We need to fetch the configuration information from our Azure Kubernetes Service (AKS) and update our kubectl's config file.\n",
    "- Here we are creating a backup of our current kubectl config file, before repalcing it will the AKS config file.\n",
    "- Finally, we ensure we are using the AKS context when issuing kubectl commands."
   ]
  },
  {
   "cell_type": "code",
   "execution_count": 102,
   "metadata": {
    "vscode": {
     "languageId": "shellscript"
    }
   },
   "outputs": [
    {
     "data": {
      "text/plain": [
       "['WARNING: Merged \"tsfn14g00\" as current context in /home/patrick/.kube/config',\n",
       " 'tsfn14g00']"
      ]
     },
     "execution_count": 102,
     "metadata": {},
     "output_type": "execute_result"
    }
   ],
   "source": [
    "%%system\n",
    "\n",
    "cp ~/.kube/config ~/.kube/config.bak\n",
    "rm ~/.kube/config\n",
    "az aks get-credentials --name {APP_NAME} --resource-group {APP_NAME}\n",
    "kubectl config current-context\n",
    "\n",
    "# The command below attaches the Azure Kubernetes Cluster to the Azure Container Registry so that\n",
    "# the Azure Kubernetes Cluster can pull images from the Azure Container Registry, but we don't\n",
    "# have to do this explicitly here, since we do it in the Terraform file \"kubernetes-cluster.tf\".\n",
    "#az aks update -n {APP_NAME} -g {APP_NAME} --attach-acr {APP_NAME} -o table"
   ]
  },
  {
   "cell_type": "markdown",
   "metadata": {},
   "source": [
    "## Get Base64 Encoded Kubectl Config File\n",
    "\n",
    "- We need one final piece of information to configure our GitHub Actions workflow:\n",
    "  - A Base64-encoded version of your kubectl config file.\n",
    "  - This is needed by the GitHub Actions workflow running which will be issuing kubectl commands against the AKS cluster."
   ]
  },
  {
   "cell_type": "code",
   "execution_count": 79,
   "metadata": {
    "vscode": {
     "languageId": "shellscript"
    }
   },
   "outputs": [
    {
     "name": "stdout",
     "output_type": "stream",
     "text": [
      "KUBE_CONFIG:\n",
      "YXBpVmVyc2lvbjogdjEKY2x1c3RlcnM6Ci0gY2x1c3RlcjoKICAgIGNlcnRpZmljYXRlLWF1dGhvcml0eS1kYXRhOiBMUzB0TFMxQ1JVZEpUaUJEUlZKVVNVWkpRMEZVUlMwdExTMHRDazFKU1VVMlJFTkRRWFJEWjBGM1NVSkJaMGxSUm1VNVR5dDRSMnN6VEU1WGRHZzJaVEpMY1VOelZFRk9RbWRyY1docmFVYzVkekJDUVZGelJrRkVRVTRLVFZGemQwTlJXVVJXVVZGRVJYZEthbGxVUVdkR2R6QjVUa1JCZVUxVVJYaFBSRTB3VFVSV1lVZEJPSGxOUkZVd1RVUkplRTFVUlRST1JGRjNUbFp2ZHdwRVZFVk1UVUZyUjBFeFZVVkJlRTFEV1RKRmQyZG5TV2xOUVRCSFExTnhSMU5KWWpORVVVVkNRVkZWUVVFMFNVTkVkMEYzWjJkSlMwRnZTVU5CVVVSTUNtOUtlazlIWm5VcmQxUkdRMmRIVVZnemJUZE9SWGwxYkZSTFdWSkVaVEpXUnpSRVlXOVRMMUpoUms5dFNWY3lVbkJMWkZaWlJGZzNUbFJ6WkVaaVprVUthM2R2WmpKS1pVaEpVVmsyTkVsNGNqQnJiMUYxVlhsMU56ZDRUMjVsVEZOT1dGQmxORkFyYTBFd1VVbERRMmRHUW5GRGRTc3ZjbEIwUVZSc1ZGUktWUXBCWTJsNldFRXpTMmhNYUVKWk5rOWxSWHB3T1M5NGNFZHFiSGhIZWs1MlkwRlJiRFZJYlVzeU5sSTVjazFaZGk5T2JHcGxaMlpMVkhsT2JrVkpiRmhzQ2t3MUswdDJRWEpLTm5neFFVcGxRbTUwV0dveUsxaGpaMWhyVWxFdmMwaEZhRVpqU0dvM1dXUlVSM0YxZWtNdk5XSXlRVlIxTUdwNllYbFhlVU5wVTJZS04yMHhhbWQ0UzI1NVJWSllkSEZKZGsxSFZqUkhjMmxDUTNoMVpUQXhkWFU0YmtoRlJscGlUMmd5VEZGMlNWWmtLMkV2VjJSR09FSlZOekk1UkRkak9BcHlORmQxVFVOQ1ZHSldObEF6U1RBdlFUZzVhSFIzYVVjM1FsSnZlRXA0ZUhnd1pXMWplRzQ1UkRack9WcFNNMlY2TTNSaE1XdG5TWEJGYjJwaFIzVTFDbkJ3TVZsUFRFcFhaVlkxTnpWcFNHSTJUbkYyU2prd2VWZFJTREJLU1RWTFQwTk5XVFpFYkhWSWEzSjVPR0kxYUdwcEszVldXa3RsTUdsclYzQlFRM2dLYmtZeU0yUnpVR0U0VHpCUmRuRkZXVU5FVjBWV1VtbEZaa1JtVjI1NFNuVXhRVTl6U3k5M2EzTTBXRloyZUM4MlZWUjFUVkIxU1dZMFdVMDVhWE5KS3dveUwxSnpTM0owWXk5T1UzUm1OMUkwU0ZaS1YwaFNNVXRDVjBab2JHUmhZWGRHWlVFM2NtMXNhMU5SVlZoQlZVUXpkMUU1Y1hORU1sWm9iV2Q2UlVOQ0NucFBVMUppUVVsMFZubzVlVWxXVlZBM09YQnBka05wUkVkYWNYcEhkbXd5YWxkMll6SnhMMUZ0Um1Wa1RXSlpSV3hvY1RoMVkwa3ZiMDlCTjBwVGJtRUtaR0ZaTmxkdlV6YzVjR1EzTVZRMU1sRnFlVnBOVXpCSk16WmFSME5QVDB4R1pFRmlVamxOWTFGM1NVUkJVVUZDYnpCSmQxRkVRVTlDWjA1V1NGRTRRZ3BCWmpoRlFrRk5RMEZ4VVhkRWQxbEVWbEl3VkVGUlNDOUNRVlYzUVhkRlFpOTZRV1JDWjA1V1NGRTBSVVpuVVZVeGMwSnFSMlUxTjBGbFZsTnlVVzg0Q21NM0wzQnFOMkpETlVWSmQwUlJXVXBMYjFwSmFIWmpUa0ZSUlV4Q1VVRkVaMmRKUWtGRk0yTlVWbXhvVFdsS2MwdFFha1ZSUjNodk5UQmtOblIzZVVJS01uZzNkMnhCTWxod1JVTndOVVEwWmtWVFRsbDZZek5LVkVkdWNITnhZMVZ4WW5WWVkya3paMUp2YUcxRFVVaHViMjU2WmpWcE1UVlFVMHhUZWxOVlNRcDNSMHhtWlhGRlZETkxXRzR5YTBRemRuUlNXazE2VEUxQlZVUmxTRTB6UjFsUVRIUjFRekJGZGt0a1FVTkdMemRtUWtaTmJsTjFaeXRXUlM4MVVFaG9DbTl2UkhScmJreDJheTlvUmpGVlIwUllla1pGV0RFeGRGRnNRMk13U0RWbGF6QlRPRU5ESzJKbGNqSndUVWxDY0dwa1pYWkZTMFZsVjNvM2FVSlJWSGNLTkhkS05EWmpjV1JRWWxGcFJtVTBiblJITldFNE5YWnRRbGxITWtNMU5sWm9RMWRTYURRd1pUZDFPRk5OTUZOV04xQnZTVTFSVnprNE0wcHFaSFp6VWdwb1pWZENiM2hOTms1a1YyOXljbm80TkdGRlZISkROVlJOUm1wWVZISnhiR1F5UmtadldGcHJZMGxGVUdWaGNUWnhNbGRaVlZsSWJFeFljRTVZYWtGWENqQXdSRnBvTUZScmVsaDBiRFZTVURScWVHZDVSbWhYZGtWRFpUVXJPRzVpUmxSRk1YZGhhSEpqU0ZJdlkxY3hkbHBGUm5WSFdrUlJURWxKZDBaSFEzQUtVMFZ2YUdSMlRFWlBNWGxvTUdwWFJWQkZaWFphUkVGb1ltRldlbWQyUjFvclpFVnVUVGtyYTFveWFsbDVNMjk0UTFKVWNsQmtlSFpJT0ZaRmVXWTFaQXBqWm5NcldrNVBjM1U0YTNWR1lqWTRaRUp5ZVRjdmVFTlFMMGN4WVZWUVNYSnlRMDg0VTNOM09YcERjVUpHV1ZoblJURjBURGw1Wkc1clVuVTVhRGxrQ25SaFJETlFTWEJJTmpkVVlubFFUREEwYVhFMVRsVllSazR6WkZadWQyTkZkM05wYUdGNlNIZzFibHBuWjB4RVMwVkhkWFJtYlVwWlVIazJUMDlVU1ZFS1VsRjZTVTFJY0M5dFpEZ3hSbTVLVlVwallWUmpNakZSYW1OSmMwRm5TMGQxVEdoa01VWmxTeTl3WVZSRWRtUlVjRE5DTjB0NmRteG1TVVUyZW5wMWJBcFpTa0kzU25CQlozQXhSREZKZVRCRkNpMHRMUzB0UlU1RUlFTkZVbFJKUmtsRFFWUkZMUzB0TFMwSwogICAgc2VydmVyOiBodHRwczovL3RzZm4xNGcwMC1kemh3d21hcy5oY3Aud2VzdGV1cm9wZS5hem1rOHMuaW86NDQzCiAgbmFtZTogdHNmbjE0ZzAwCmNvbnRleHRzOgotIGNvbnRleHQ6CiAgICBjbHVzdGVyOiB0c2ZuMTRnMDAKICAgIHVzZXI6IGNsdXN0ZXJVc2VyX3RzZm4xNGcwMF90c2ZuMTRnMDAKICBuYW1lOiB0c2ZuMTRnMDAKY3VycmVudC1jb250ZXh0OiB0c2ZuMTRnMDAKa2luZDogQ29uZmlnCnByZWZlcmVuY2VzOiB7fQp1c2VyczoKLSBuYW1lOiBjbHVzdGVyVXNlcl90c2ZuMTRnMDBfdHNmbjE0ZzAwCiAgdXNlcjoKICAgIGNsaWVudC1jZXJ0aWZpY2F0ZS1kYXRhOiBMUzB0TFMxQ1JVZEpUaUJEUlZKVVNVWkpRMEZVUlMwdExTMHRDazFKU1VaSVZFTkRRWGRYWjBGM1NVSkJaMGxSUWk5b1N6UjBhVmRQZEU5VFIzVmtiRTByV0VsRmFrRk9RbWRyY1docmFVYzVkekJDUVZGelJrRkVRVTRLVFZGemQwTlJXVVJXVVZGRVJYZEthbGxVUVdWR2R6QjVUa1JCZVUxVVJYaFBSRTB3VFVSV1lVWjNNSGxPYWtGNVRWUkZlRTlFVVRCTlJGWmhUVVJCZUFwR2VrRldRbWRPVmtKQmIxUkViazQxWXpOU2JHSlVjSFJaV0U0d1dsaEtlazFTVlhkRmQxbEVWbEZSUkVWM2VIUlpXRTR3V2xoS2FtSkhiR3hpYmxGM0NtZG5TV2xOUVRCSFExTnhSMU5KWWpORVVVVkNRVkZWUVVFMFNVTkVkMEYzWjJkSlMwRnZTVU5CVVVSVU4wdDNXblJuV1dZNWVuQktMMGRXVEd4c1pVc0taSFZqU0RWNmRHdDNhMlZoWjA5YWRtWlhUMUYyV0hWVGNYSkRWSGs0VWpoWmRYVXZTMUV6TXpSUFdIZExTWEV4T0VsTE1uTTNTMlFyZVVoelJ6WnpZUXBTZVVsMllqRnVVVGMwZERZeE1VaENPVEZ1VG1VeVkwNTRNVkJyYVhWamFGcExOMlJZV0M5YU4yRTNjMDV6YjBoV1dteHJMMWQwY0hGaWJVWldRMm9yQ2psVE9TdEpUaXRzTmxOMGMwbERVamhwU1Rsdk5saFdVRVp2YldreGVrcHBORXhHVTNjdmVsRnJaa3QyYTFWR2NVOW5ObEZTYTBVM1pUQTRObWhWUkd3S1dXeEdlVGx6V1ZwWlNGYzBOWE53VWtOR2QwSXlhRGRKWVhCNmJHNVpXREo0TTFwR2NGcGtRVVZpY25CdGNuazVla1ZhZWxSWmFYZFVTV2g0Um01T05RcG5Ta2c1WTBFMlRuQnRNSFV3U2xSaGFEa3hRMU5CWXpGaGVIaGtOVTVRZVZKR2FtZHZZamt6TVc5eFJqTlRNMWRuTkRaSFYzRnhaWGxpUjJGbGNtVkZDbTlNVjBJMk1uSmFSRFZQZFZKWE5sUm5hVkIzTkc1RE1FVk5kRnBoWWpoaGJHSXpZMHg2Ym5KVk4wWmpjV2MyTUhsMllrRTNaV2hCVVUxQmVVdEJPVGNLVDNsQ2EyWTRRMUowVEZsNGRuZ3ZPRmQ0TW5WWU1GUnFLemRqU0VkNmFrNTNZVTR6T0ZneWNHbzNaMFJhV1cxMGNVVlNhVEp5YUhoTVNrOVRXWGhyTUFwQlpUbHRaMlUxWjBka2JpdHJUR0ZGWVdGS00zWlBTV2hqWm1oVU5YTjBOMWxUVGpSUk5rNU1WbXQ1U25aR1JHMHhiVlp5UW1aMlFVeHdXVVJRUkRadkNtVlFVbkZDUlZOaVR6WnJUM3BaVEhWb1RIZ3hNR0VyWkVkMlFXNDJhWGgyY3lzM1NrdDFkRmRDYjA1VWJFcDJaRkp0TTJwc2MxVXpNVGxNTTNSYWFtWUtSWEpCZEVFd1UzUk9SMDVpTldKQloyZFVUa3d5YlVkMlExWXdOblZrVkdaTVZUbFlla05xUVZoc1kyUllPRWxHWVc1eE1FNXNZMUJvSzAxa1JITjJMd3BJZFZBM0szRkhXVkoxWm1oYVVIRnBXVUZLTDNwUlNVUkJVVUZDYnpGWmQxWkVRVTlDWjA1V1NGRTRRa0ZtT0VWQ1FVMURRbUZCZDBWM1dVUldVakJzQ2tKQmQzZERaMWxKUzNkWlFrSlJWVWhCZDBsM1JFRlpSRlpTTUZSQlVVZ3ZRa0ZKZDBGRVFXWkNaMDVXU0ZOTlJVZEVRVmRuUWxSWGQwZE5XamR1YzBJS05WWkxkRU5xZUhwMksyMVFkSE5NYTFGcVFVNUNaMnR4YUd0cFJ6bDNNRUpCVVhOR1FVRlBRMEZuUlVGM1UweFZRazR2WkUwMGFEWkZWVmRzTlRkUmFncEJWVGRLZDFWMmVWQkJOMUl3UkVsRFRqTmFlbXgwT1N0clZHNXBkRmhtTTJzdlFrZ3ZjVEZGT0haTEt6SktNekZJWm14c2FFTTRjMlpOUlhSNFlVZEhDbGhLVUUxdWNHaEdkVFZsYzJGTk4wZzNPWFJuTHk5eFJHMUZkMGRZTm1GMk5IRm5XRk53YVROMFRFODBZVWxJWlVWNk1tOVVTRWxSV0VGVFZtTlhSbk1LV0ZwTFUxRjViM1owWTBWaFFVVnZWV05RU0ZORldIUk5lVGN4YnpkMWJtMXhUblJEVG1aNVJEQklSRE01YlhsSFJFZG1Wak0xV2t4R1JXNURPRVJLYkFweU1UbGtLMEpPVTFKU1FUTkRZbkZ5V0hWaFUwOHhWMmMxV0cxM1ZYbzVkVUpNTmt4dWJUWnVVWFEyZEhBeWFYRlhhWFowVFhWa1JXazJaRnBGUlZGWkNqaHdTMjlEZFZaWFZsWjZZWFJHVlhGU00wMDRRekYyYXpNdlZtWXdORUZzUWtsNk1rOWpSQzl5Ylc5UVJITkZNeXRZTUVodFRYQlBjblZKTXpKWVpHSUtMMHRGWjBzNVNuWkVaMWhVYkRoTlZYTXhhRTg1Y0hNNE0wSkJZbU5GWkRKeFNrcG1SbEZEYjFZd2RITnNTM1pVYkZaaFZ6QmtRaXR2WWtaNmNGTkVOZ3BIY214cFNVazBTRkpRUW5Sekt6WmhNVXhZZEdKWlN6RkxUMVpKVFZRM2EydzVSVkVyT1hsTGFXVm5ibXRtUVZGRFN6UkhRMlJWWnpScVUxTlNjMlJUQ2tKdWEwTjVSMjkzUnpWNWJXeEJTMHBKYkZweGNXTXZPQzlOVlVoelRHTTVZMnQxVVZRdlpEWndNV1ExV0hneFpYZGlWRlJ0WkZwaVYxRjZkbEF3YUVFS1QwaFZZMUpKWmxaR1dVZG1iR0ZRTDFaQ1VXMXdWbkZuUWxoUFRFWTVZV1pETVdGNVMwdGxaM2hpVTJaNVUxSkxXRmx2WTNrNVJsbHFTSHBsTjNCWU13cDRNamhMYzNwamRHdFVTbVpVTWxwVWNHTnViRzkzUVVOWllXaG1aWHBzU2tnckwwODBkVEZQTDNoc1VHdFZkVE5ZT1dwVWRtNWtMMjF0WkZWRE5UWlBDazlNUlhrd05sUnNaV1ZIWm05MVJIWTNkeXROWVVGdlBRb3RMUzB0TFVWT1JDQkRSVkpVU1VaSlEwRlVSUzB0TFMwdENnPT0KICAgIGNsaWVudC1rZXktZGF0YTogTFMwdExTMUNSVWRKVGlCU1UwRWdVRkpKVmtGVVJTQkxSVmt0TFMwdExRcE5TVWxLUzBGSlFrRkJTME5CWjBWQk1DdDVjMGRpV1VkSUwyTTJVMlo0YkZNMVdsaHBibUp1UWl0ak4xcE5Ta2h0YjBSdFlqTXhhbXRNTVRkcmNYRjNDbXM0ZGtWbVIweHlkbmxyVGprclJHdzRRMmxMZEdaRFEzUnlUM2x1Wm5Ob04wSjFja2RyWTJsTU1qbGFNRThyVEdWMFpGSjNabVJhZWxoMGJrUmpaRlFLTlVseWJrbFhVM1V6VmpFdk1tVXlkVGRFWWt0Q01WZGFXbEF4Y21GaGJUVm9WbEZ2TDNaVmRtWnBSR1p3Wld0eVlrTkJhMlpKYVZCaFQyd3hWSGhoU2dwdmRHTjVXWFZEZUZWelVEZ3dTa2g1Y2pWR1FtRnFiMDlyUlZwQ1R6TjBVRTl2VmtFMVYwcFNZM1ppUjBkWFFqRjFUMkpMVlZGb1kwRmtiMlY1UjNGakNqVmFNa1k1YzJReVVtRlhXRkZDUnpZMlduRTRkbU40UjJNd01rbHpSWGxKWTFKYWVtVlpRMUl2V0VGUGFtRmFkRXgwUTFVeWIyWmtVV3RuU0U1WGMyTUtXR1ZVVkRoclVsazBTMGN2WkRsaFMyaGtNSFF4YjA5UGFHeHhjVzV6YlhodGJuRXphRXRETVdkbGRIRXlVU3RVY210V2RXczBTV280VDBwM2RFSkVUQXBYVjIwdlIzQlhPVE5ET0RVMk1VOTRXRXR2VDNSTmNqSjNUek52VVVWRVFVMXBaMUJsZW5ObldrZ3ZRV3RpVXpKTllqaG1MMFp6WkhKc09VVTBMM1V6Q2tKNGN6UjZZMGRxWkM5R09YRlpLelJCTWxkS2NtRm9SVmwwY1RSalUzbFVhMjFOV2s1QlNIWmFiMGgxV1VKdVdpOXdRekpvUjIxcFpEZDZhVWxZU0RRS1ZTdGlUR1V5UldwbFJVOXFVekZhVFdsaWVGRTFkRnBzWVhkWU4zZERObGRCZW5jcmNVaHFNR0ZuVWtWdGVuVndSSE15UXpkdlV6aGtaRWQyYmxKeWR3cEtLMjl6WWpkUWRYbFRjbkpXWjJGRVZUVlRZak5WV25RME5XSkdUamxtVXprM1Yxa3plRXQzVEZGT1JYSlVVbXBYSzFkM1NVbEZlbE01Y0doeWQyeGtDazl5YmxVemVURlFWamgzYjNkR05WaElWaTlEUWxkd05uUkVXbGhFTkdacVNGRTNUQzk0TjJvckwzRm9iVVZpYmpSWFZEWnZiVUZEWmpnd1EwRjNSVUVLUVZGTFEwRm5RbVZDVFhKYVdWVk1XVmhoVGxSbVdrVnRPWEF3UW5obWVEZExhQzlWWkUxcE1XZ3JaM3B2UTNCVE5WY3hNRkpTZFhab2FVRXliWFZDUWdvek5raGtlbUl6VmxSUVl6QXZiVE5RVW0xMlFUUk9RazAwYmpKSVZ5OVhWRzA0THpVdlRIZG9iRWhOYlVoWGJVOHlkV1FyVjIxamFYQnRhMmxFU0haNkNtOHlOVGhNV2tkRlNrVTFLemhJTDNOTFR6TkdXVGxJTVdvM0wyTldUVkp6VEZsT2NrcE5XSEEwTVhsemFuZ3diMmw1U2t4SmVFZFBNU3N2TTI4dk1tNEtXRmRJUlRKdGMxUmlkSEphYlUxWmNsSmhMMlJDY21wQmJYRjFUekpKTmxBNVYwVjJhM1ppU0ZGRlUxUnlTMU01UVZweVZXbFZMM2RKYmtaNllWVjRWUXBYT0VZNVdVTkNVRlZUU0ZwQ2F6Vm1RM2N2VVZCNlVIUkVLM1pPUWt4bkx5dHlNMHRLUVV0bFYxWlZaMjFzVVZRcmMyRlFPRmRSVmxZNVlXSjZZWGx6Q21jM1dHaEpZVWt3THpCdk9YVkJSemhKTWpnNGIxQnBWazB3Y0VVd2NrUjZieTl1YWtoWU5GTk1RVFoyT1N0Q1VrMVRhM1Z5VTBsMEwzWk1UWGg0U2xJS0sxUXliMHRvZDJ0S1prNW1hRE5KUWxoT1RIVkpRbTQyZFVoUmEzVlVlRUZqWjJoaFdXaHJUM0pxSzJWcldrcHFZelpMUlZWMk0yWlhZM2RKVkhwb1Z3cFNkRW8wZDNReGNFSjBjU3Q0UW05eE1rSkNhekpPTUdadU1UWm9OVkpSVkRCU1lraFBlVmhIVlc1MGQzTTBVWGxpUkc5VWFVaDJkVGxPTUZKaWFuRlVDbGxvVDBWQlJtVmpUWFZKWVVoU01rZzNVMHhxUTNWTVNXSkhjQzltWVZaalQxRkxSVEk1WlZad0t6ZEdkbXQwWVVGTWVFOUVSRVp2VVRoR2VEWlljMFlLT1ZNNFEzcHZWa2xhTUZKbEszWkZORWw0VTNsaE5reFNNR3MyVUhsUU1VOWplV2w1UTBJM01UWTRlREZsWm5ZMlZWWTVMemRDY0dWM2FVaFdVbll3U0FwNk1uRjBiSFp6UVVKNVNDdFFlbkpOUjA5dlJTOUNZV0oxTldKT2EyNDNkMEZ5UkhkMVVuUndLelpFU3pKQ1EyOVdVVXREUVZGRlFTdFJPSE01WVZGcENrYzFNVTl4TUZaNlUwMWFkekJaYkRoMFRVVkZZalpyWkVoTWVVOVpUV0o2VEc1NGFISlhkREppYzI1cFdtVnZabVZzTTIxclpqbExUMEptTHk5b1ZXVUtiemxTTUc5Q2JYQlJiVU5OSzNnNFJUTk5NRVpYZEVsdE1tSnRZVVJPZUhReVRVaHFkazlSUW5RMGJGRlFiRkJNVVV4U1VYRnNSWFVyY2pRNE5tOVhhd3BTUWpNMlIxWnFSVkJ2UlVGcUsyaHpOM0oxVTJSWFMydFlWa3Q2VTFGVVV5OVVPSGx1VTFWWVoxTXlRVUp3UkZGQ1oxUkxjMDVxUm5waFoySklibk5vQ2s4eFltSTBOM0JOTkVvMWQyZHRPWEJOZWxabU1raHJOelZzVm5KM2FWUm5TazlpV1cxck4xTTFVVWN4TmxkTFpuWk1NelZDUWtFclVXOUxiV0k1TVZFS1ZqQnNOV0Z3U1U1Wk5ITjJUakJyUkV3d0wzcGxVMWRSTTBJNGRYWkhkM2R5ZFdsbFQwTndhamt2YUdGS2RVWlhNMWw1Y1d4dFpXMVNjRlowV1VoM1ZRcHVPSEoxVjJFek9FWkhaemgzZDB0RFFWRkZRVEprVTFOYVJrMXZNRzlNYVU1cVJXNHlRbHBPZW1NMmEzVkxjMVZxTUhSS2RpOXlXRkJ4U25WMVRYQnFDa1prZG1aT05FaG1XbFZZVWs5VFEyTTFNVlUwVDI1NFdXeFNSMHB2ZWxORWVVSk5WRmRTZURGMkwzVkJlblJNYURRNE1VRTJTMFU1WjNoRVpGSTNVRWdLZUVWMldrbzBhRk5tVDBSMGVYWlhMM0prZUhoNVlXWkxZVkJFWTNSdVYzVk5ZMXB3WTFGSGVYY3hRWGRMV25adWVDdDZiekUwTHpoeWJXOU1jVnBtWVFwWFEydzRVbTVCZVhKcU9YVnNTSE5LT0VaeVRrUldURXRMVjJ0SWJqVTVjSEZFUm1kWFFUazBLMnRuV1VGa1ZESm9PWG8xY25WWGVUUnVWa1JPY2xkQ0NraENPVW96YjNaS1pXUkZXbFozV0c5blVsbFVjRUZsV21RMFNrTm5VRVI0U1d3M1UzQjFTbmMzUTJ0TWNqbGlTbGN5VXpGUGNteDBORzlDSzNGUFluUUtlVE5sYW5OTmEwZGpXUzlxTkU5TldYbHdMMDQ1YzJGa1l6Qm9WRXRuZUdOUWJVMU9kbTh6U1V4M1MwTkJVVUpSYUZSMEx6TjVVek13VFM5VFVqUXpVd3BDV0ZsTlEwZHpjemxSYnl0SU1uRjFSVGRtYTFObE0zUktXVVpsTURsT2FWWm9jUzgwUlZZeFFtczJOQzlPVVRrNWJWSnZMMDlNTDBSSWVqUkdaRkJJQ2tKbVowOWhRMVJ0VkdSS2FGaHVaalZDUTNoME5VRlpVR2RtTDJrelkxSkJWbXRDTDBwb1FXTlNlU3RrU1UxdlZHWjBWM0UzVEVsRE5EYzBjakkyY2pJS2JXcGFXVlZGYVVoc2JGUjJXbTlxUmsxNWRVeGxLMlpMZDBabVdYWnNhM1pDYTNKU01VcGxjMjF1WmpsWVRtWXlaVlppY2t3NWRUWnNORnBZZUdFNU9RcEllbmMwY2pGU1VHNW1NM2wxY0RsSVFrYzNiVkZaTTBZMFIzY3JNWGxWVUhKT1NHNU9iRGt5V1dWVVZVUXplRkptU0ZCaGVuRTFaWGxtTldKSFoxVkRDa2hqYlZORmFWUmFZM1oyUVU5M2FuVlpXbG95YWtoUVp6SkpkblZzUzFoc1ZWbEhlaXRFTldoUGF6QmpaWG8wYVhFNFZFVTBUbWsyU1VveVYyMU5NV0VLZFRacFNrRnZTVUpCU0hGNVpsQTRZbmhIZGtoSk5IQnZOVGgxVlhwTFFqTnVSbk5WY1hCRlNWWklUbG8xVEVrMFNtMTJZVkJFVUUweFNTOWpha3QyY2dwNGNUQkxSRXhrVmxScldFeFZjelJ6ZDJJeE0xVkNPVGRrZWs5RWFqSlFhbFUyZFhOS01tSTRZakp3V205R09XRlBXRzkzTjNZMVNIaDJjVFJyT1ZsYUNtdElaalZOY3pOSk1WTk9SV0YzVUhaWlJFMDJWMFJPWWxWdWN5OHZTMUk1V0RWUFoyRk5PRFZTTDBwaUwxaFdNRGhFY2tnclZXOWtia0V6UmtaNFkwWUtWR1JGS3l0T2N6RkhhbXM1THk5bFVsaExWSGd3ZWpkV1ExUkxlRVJJUkZZclVXWllTVVZLY0VkM09FUXZWalJJZEZOT01ESXhUM1UwUW05R00xTm1UQXAxZURGRmFUZEdhV05SS3pnMVFtNXVLMjVRVFhjNVlXSlhUVm81TWtOT09TOHdTVGxzY3k5MlEzaEpXRGR4YUdSMmJuQXZSVlZVUW10RFpEbEtRemhHQ2xsT1QwVjBObk41Ykc0MVFsa3JSRk40VmpGNU9YVmhRbEIyVjNSM1UzTkRaMmRGUWtGUGJsWnBhMDVEVlVkclVDOVhPR1k1VTBNMk5HZE1ZMjV1YTNFS1RGUndaV1V3TmtWdGFVcFZkbVYzSzJ4eVpGVnBWV2d6ZVc5aFlrTjFLMlZNTTFCSlJFOXJlVEEwVjA1aGRrNW9kblF6TkRjM04wWTFXVFF3VkZNMFlRcFVkVXd6VEZWak4ycEZTWG8zZG1KT1ZubFdVV2xxWm0xaFRtSTFZeTloVFZkMGNqQllabkJGYUUxUVpUbDNZMFJ5ZW1sS1ZWQTVTVmhwTmxreWIwWlRDamw2YVcxWWFDOXRUblIzZWk4M0swMDFSbGhOYjJ4RlZYRnhlbFZ1UVRFNGRsbDRSRzlXVkhCTWNFcDFWV3cwY2xNMVZXdGljbWszYm05eVVTdDFRVUVLYW05VkwwRXJiRVpvTVVrNWEyaG5UWFpsWW00eFZXOVRhQ3RTYWs1V05tUmlVazB4ZG5kbE1sQnJhSFZhVTJoelNIZHpLMlpRWlZsellYVndNVUl3WWdwdWNtNVhVRkUyV1VjMllVdHNRMWx1TlRSV09VSnBNRzF4Y2xGUlIxZDVRWEp1UnpKb09XbHFlR2hEWVRRNVRXbGFWVlF2ZFdkdEsweHdRVDBLTFMwdExTMUZUa1FnVWxOQklGQlNTVlpCVkVVZ1MwVlpMUzB0TFMwSwogICAgdG9rZW46IDNpaDJqcHgwYzY2eGV4NnVvbDlneXlieDhtYTluMTB2dm9veWxobG04ZHN2ZHo1ejd3c2I1NTJrYXk1b3R3dHZsaGl2b2x5NmZoM3V4ZG5xeHU3cHUxMGFtOHoyd2d6enQycDh0aGJzaW45aDNnaGc2Z253cG0xNWo5MjJlMjRiCg==\n"
     ]
    }
   ],
   "source": [
    "# Let's store the Base64-encoded kubectl config file in a Python variable so we can use it later in this notebook\n",
    "KUBE_CONFIG=!cat ~/.kube/config | base64 -w 0\n",
    "KUBE_CONFIG=KUBE_CONFIG[0]\n",
    "\n",
    "print(f\"KUBE_CONFIG:\\n{KUBE_CONFIG}\")"
   ]
  },
  {
   "cell_type": "markdown",
   "metadata": {},
   "source": [
    "## Set GitHub Actions Repository Secrets\n",
    "\n",
    "- We can add \"secret\" key-value pairs to our GitHub Repository, which can be accessed by our GitHub Actions Workflows.\n",
    "- We do this so we don't hard-code sensitive information into our GitHub Actions Workflow files.\n",
    "- You can do this manually in GitHub by:\n",
    " - Clicking on your `monorepo` Respository in GitHub.\n",
    " - Clicking on the `Settings` tab near the top of the web page.\n",
    " - Expanding the `Secrets and Values` combobox in the left margin on the web page and choosing `Actions`.\n",
    " - Clicking the button `New repository secret` under `Repository secrets`.\n",
    " - Entering a `Name` and a `Secret`, followed by clicking `Add secret`.\n",
    " - Repeat the previous step for all the necesary key-value pairs for the keys.\n",
    "   - `CONTAINER_REGISTRY_LOGIN_SERVER`\n",
    "   - `CONTAINER_REGISTRY_USERNAME`\n",
    "   - `CONTAINER_REGISTRY_PASSWORD`\n",
    "   - `STORAGE_ACCOUNT_NAME`\n",
    "   - `STORAGE_ACCESS_KEY`\n",
    "   - `KUBE_CONFIG`\n",
    "- The values (secrets) you need to enter for these keys (names) are repeated below."
   ]
  },
  {
   "cell_type": "code",
   "execution_count": null,
   "metadata": {
    "vscode": {
     "languageId": "shellscript"
    }
   },
   "outputs": [],
   "source": [
    "print(f\"CONTAINER_REGISTRY_LOGIN_SERVER: {CONTAINER_REGISTRY_LOGIN_SERVER}\")\n",
    "print(f\"CONTAINER_REGISTRY_USERNAME: {CONTAINER_REGISTRY_USERNAME}\")\n",
    "print(f\"CONTAINER_REGISTRY_PASSWORD: {CONTAINER_REGISTRY_PASSWORD}\")\n",
    "print(f\"STORAGE_ACCOUNT_NAME: {STORAGE_ACCOUNT_NAME}\")\n",
    "print(f\"STORAGE_ACCESS_KEY: {STORAGE_ACCESS_KEY}\")\n",
    "print(f\"KUBE_CONFIG: {KUBE_CONFIG}\")"
   ]
  },
  {
   "cell_type": "markdown",
   "metadata": {},
   "source": [
    "## Set the key-value (name-secret) pairs using the GitHub CLI\n",
    "\n",
    "- Alternatively, we can set the GitHub Actions Name-Secret pairs using the GitHub CLI below."
   ]
  },
  {
   "cell_type": "code",
   "execution_count": 80,
   "metadata": {
    "vscode": {
     "languageId": "shellscript"
    }
   },
   "outputs": [
    {
     "data": {
      "text/plain": [
       "['CONTAINER_REGISTRY_LOGIN_SERVER\\t2024-02-11T20:18:56Z',\n",
       " 'CONTAINER_REGISTRY_PASSWORD\\t2024-02-11T20:18:57Z',\n",
       " 'CONTAINER_REGISTRY_USERNAME\\t2024-02-11T20:18:56Z',\n",
       " 'KUBE_CONFIG\\t2024-02-11T20:18:59Z',\n",
       " 'STORAGE_ACCESS_KEY\\t2024-02-11T20:18:58Z',\n",
       " 'STORAGE_ACCOUNT_NAME\\t2024-02-11T20:18:58Z']"
      ]
     },
     "execution_count": 80,
     "metadata": {},
     "output_type": "execute_result"
    }
   ],
   "source": [
    "%%system\n",
    "\n",
    "cd monorepo\n",
    "\n",
    "gh secret set CONTAINER_REGISTRY_LOGIN_SERVER --body {CONTAINER_REGISTRY_LOGIN_SERVER}\n",
    "gh secret set CONTAINER_REGISTRY_USERNAME --body {CONTAINER_REGISTRY_USERNAME}\n",
    "gh secret set CONTAINER_REGISTRY_PASSWORD --body {CONTAINER_REGISTRY_PASSWORD}\n",
    "gh secret set STORAGE_ACCOUNT_NAME --body {STORAGE_ACCOUNT_NAME}\n",
    "gh secret set STORAGE_ACCESS_KEY --body {STORAGE_ACCESS_KEY}\n",
    "gh secret set KUBE_CONFIG --body {KUBE_CONFIG}\n",
    "\n",
    "gh secret list\n",
    "\n",
    "cd .."
   ]
  },
  {
   "cell_type": "markdown",
   "metadata": {},
   "source": [
    "## List GitHub Actions Workflows in Repository\n",
    "\n",
    "- Let's use the GitHub CLI to list the GitHub Actions Workflows we have in our `monorepo` repository.\n",
    "- We see two Workflows, one for each of our two microservices.\n",
    "- If you look at the workflow for the `video-storage` microservice, you will see:\n",
    "  - How the \"secrets\" we just added are accessed in the workflow, e.g. `secrets.CONTAINER_REGISTRY_LOGIN_SERVER`.\n",
    "  - How the `paths` setting is used to only trigger the workflow when a `git push` is make to the `video-storage`subfolder:\n",
    "\n",
    "    ```bash\n",
    "    push:\n",
    "        branches:\n",
    "          - master\n",
    "        paths:\n",
    "          - 'video-storage/**' # Only trigger on push to video-storage subfolder.\n",
    "    ```\n",
    "\n",
    "  - How the `working-directory` setting is used to make all `run` commands execute in the `video-storage` subfolder:\n",
    "  - \n",
    "    ```bash\n",
    "    jobs:\n",
    "      video-storage:\n",
    "        runs-on: ubuntu-latest\n",
    "        defaults:\n",
    "          run:\n",
    "            working-directory: 'video-storage' # Sets default path for \"run\" commands to the video-storage subfolder.\n",
    "    ```\n",
    "\n",
    "  - How the `cache-dependency-path` setting is used to reference the `package-lock.json` file in the `video-streaming` subfolder:\n",
    "  - \n",
    "    ```bash\n",
    "    # Installs Node.js.\n",
    "          - uses: actions/setup-node@v4\n",
    "            with:\n",
    "              node-version: 19.9.0\n",
    "              cache: 'npm'\n",
    "              cache-dependency-path: 'video-storage/package-lock.json' # Path to package-lock.json in video-storage.\n",
    "    ```\n",
    "  - How the hash SHA (Secure Hash Algoritm) is used for the latest commit to set the version for the Docker Image:\n",
    "\n",
    "    ```bash\n",
    "    VERSION: ${{ github.sha }} # Quick and dirty way to automatically set the next version for the Docker Image\n",
    "    ```"
   ]
  },
  {
   "cell_type": "code",
   "execution_count": 82,
   "metadata": {
    "vscode": {
     "languageId": "shellscript"
    }
   },
   "outputs": [
    {
     "data": {
      "text/plain": [
       "['Deploy video-storage microservice\\tactive\\t85670852',\n",
       " 'Deploy video-streaming microservice\\tactive\\t85670853']"
      ]
     },
     "execution_count": 82,
     "metadata": {},
     "output_type": "execute_result"
    }
   ],
   "source": [
    "%%system\n",
    "\n",
    "cd monorepo\n",
    "gh workflow list\n",
    "cd .."
   ]
  },
  {
   "cell_type": "markdown",
   "metadata": {},
   "source": [
    "## Run GitHub Actions Workflows in Repository\n",
    "\n",
    "- Let's trigger our first run of the two workflows manually.\n",
    "- After running the cell below, check the workflows in action on GitHub, where each workflow will:\n",
    "  - Run Jest tests for the microservice.\n",
    "  - Build a Docker Image for the microservice (with a new version tag).\n",
    "  - Push the Docker image to the Azure Container Registry.\n",
    "  - Deploy the microservice's YAML manifest file using kubectl."
   ]
  },
  {
   "cell_type": "code",
   "execution_count": 93,
   "metadata": {
    "vscode": {
     "languageId": "shellscript"
    }
   },
   "outputs": [
    {
     "data": {
      "text/plain": [
       "[]"
      ]
     },
     "execution_count": 93,
     "metadata": {},
     "output_type": "execute_result"
    }
   ],
   "source": [
    "%%system\n",
    "\n",
    "cd monorepo\n",
    "#gh workflow enable \"Deploy video-storage microservice\"\n",
    "#gh workflow enable \"Deploy video-streaming microservice\"\n",
    "gh workflow run \"Deploy video-storage microservice\"\n",
    "gh workflow run \"Deploy video-streaming microservice\"\n",
    "cd .."
   ]
  },
  {
   "cell_type": "markdown",
   "metadata": {},
   "source": [
    "## Get Load Balancer Public IP Address\n",
    "\n",
    "- The `video-streaming` microservice has a kubenetes Service of type Loadbalancer.\n",
    "- Let's get the Service's public IP address so we can access teh kubernetes cluster over the internet."
   ]
  },
  {
   "cell_type": "code",
   "execution_count": 99,
   "metadata": {
    "vscode": {
     "languageId": "shellscript"
    }
   },
   "outputs": [
    {
     "name": "stdout",
     "output_type": "stream",
     "text": [
      "LOAD_BALANCER_PUBLIC_IP: 20.8.200.178\n"
     ]
    }
   ],
   "source": [
    "# Let's store the Load Balancer's EXTERNAL-IP (public IP) in a Python variable so we can use it later in this notebook\n",
    "LOAD_BALANCER_PUBLIC_IP=!kubectl get service video-streaming -o jsonpath='{.status.loadBalancer.ingress[0].ip}'\n",
    "LOAD_BALANCER_PUBLIC_IP=LOAD_BALANCER_PUBLIC_IP[0]\n",
    "\n",
    "print(f\"LOAD_BALANCER_PUBLIC_IP: {LOAD_BALANCER_PUBLIC_IP}\")"
   ]
  },
  {
   "cell_type": "markdown",
   "metadata": {},
   "source": [
    "## Test the Microservice Application in the Kubernetes Cluster\n",
    "\n",
    "- Open a browser and enter the URL `http://EXTERNAL-IP/video?id=SampleVideo_1280x720_1mb.mp4`, where `EXTERNAL-IP` is the IP address above.\n",
    "  - The browser sends an HTTP GET request to the video-streaming microservice's GET route for the `/video` path.\n",
    "  - The video-streaming microservice:\n",
    "    - Extracts the `id` from the querystring.\n",
    "    - Sends an HTTP GET request to the video-storage microservice's GET route for the `/video` path with `id=SampleVideo_1280x720_1mb.mp4`.\n",
    "  - The video-storage microservice:\n",
    "    - Extracts the `id` from the querystring.\n",
    "    - Fetches the video from the Azure Storage Container `videos` by using the `id` to find the file.\n",
    "  - The video is:\n",
    "    - Streamed from the video-storage microservice to the video-streaming microservice.\n",
    "    - Streamed from the video-streaming microservice to the web browser.\n",
    "- You should see a video being played in your broswer."
   ]
  },
  {
   "cell_type": "code",
   "execution_count": 138,
   "metadata": {
    "vscode": {
     "languageId": "shellscript"
    }
   },
   "outputs": [
    {
     "name": "stdout",
     "output_type": "stream",
     "text": [
      "[GFX1-]: glxtest: ManageChildProcess failed\n",
      "\n"
     ]
    }
   ],
   "source": [
    "!firefox http://{LOAD_BALANCER_PUBLIC_IP}/video?id=SampleVideo_1280x720_1mb.mp4"
   ]
  },
  {
   "cell_type": "markdown",
   "metadata": {},
   "source": [
    "## Get image name of current video-streaming Pod\n",
    "\n",
    "- Let's get the name of the Docker image used by the `video-streaming` Pod.\n",
    "- Notice the version tag at the very end on the image name.\n",
    "  - This is the hash (SHA) automatically set by the GitHub Actions Workflow."
   ]
  },
  {
   "cell_type": "code",
   "execution_count": 118,
   "metadata": {
    "vscode": {
     "languageId": "shellscript"
    }
   },
   "outputs": [
    {
     "name": "stdout",
     "output_type": "stream",
     "text": [
      "tsfn14g00.azurecr.io/video-streaming:0d3a38c521c322bdabfb3446ba62246239841f80"
     ]
    }
   ],
   "source": [
    "!kubectl get deployment video-streaming -o=jsonpath='{$.spec.template.spec.containers[0].image}'"
   ]
  },
  {
   "cell_type": "markdown",
   "metadata": {},
   "source": [
    "## Modify file in video-streamning microservice and push changes to GitHub\n",
    "\n",
    "- Now, let's change the file `index.js` for the `video-streaming` microservice in the `monorepo` repository.\n",
    "  - Followed by a `git add`, a `git commit` and a `git push`.\n",
    "- Since we are chaning a file in the `video-streaming` subfolder, only the `video-streaming` GitHub Actions Workflow will be triggered.\n",
    "- This will result in a new Docker image, with a new version tag, being deployed to the Container Registry.\n",
    "  - Followed by a new `kubectl apply` to the updated YAML manifest file for the `video-streaming` microservice.\n",
    "- After running the cell below, make sure the GitHub Actions `video-streaming` Workflow on GitHub has completed before continuing."
   ]
  },
  {
   "cell_type": "code",
   "execution_count": 137,
   "metadata": {
    "vscode": {
     "languageId": "shellscript"
    }
   },
   "outputs": [
    {
     "data": {
      "text/plain": [
       "['[master 7cf0c7f] Update index.js',\n",
       " ' 1 file changed, 1 insertion(+)',\n",
       " 'To https://github.com/paga-ju/monorepo.git',\n",
       " '   79c1188..7cf0c7f  master -> master']"
      ]
     },
     "execution_count": 137,
     "metadata": {},
     "output_type": "execute_result"
    }
   ],
   "source": [
    "%%system\n",
    "\n",
    "cd monorepo\n",
    "\n",
    "echo '// Comment' >> video-streaming/src/index.js\n",
    "git add video-streaming/src/index.js\n",
    "git commit -m \"Update index.js\"\n",
    "git push\n",
    "\n",
    "cd .."
   ]
  },
  {
   "cell_type": "markdown",
   "metadata": {},
   "source": [
    "## Get image name of current video-streaming Pod\n",
    "\n",
    "- Let's get the name of the Docker image used by the `video-streaming` Pod again.\n",
    "- Notice the version tag at the very end on the image name.\n",
    "  - We see a new hash (SHA) version tag value for the Docker image."
   ]
  },
  {
   "cell_type": "code",
   "execution_count": 135,
   "metadata": {
    "vscode": {
     "languageId": "shellscript"
    }
   },
   "outputs": [
    {
     "name": "stdout",
     "output_type": "stream",
     "text": [
      "tsfn14g00.azurecr.io/video-streaming:79c1188a7051f18f7bdf1f11b39405433f790bd6"
     ]
    }
   ],
   "source": [
    "!kubectl get deployment video-streaming -o=jsonpath='{$.spec.template.spec.containers[0].image}'"
   ]
  },
  {
   "cell_type": "markdown",
   "metadata": {},
   "source": [
    "## Ensure the Kubectl Context is set to the Minikube Cluster\n",
    "\n",
    "- Let's restore our local kubectl config file.\n",
    "- The cell below will replace the existing kubectl config file with the backup we made before.\n",
    "  - Followed by changing the context to `minikube`.\n",
    "    - If you aren't using minikube, use `unset current-context` below instead of `use-context`."
   ]
  },
  {
   "cell_type": "code",
   "execution_count": 139,
   "metadata": {
    "vscode": {
     "languageId": "shellscript"
    }
   },
   "outputs": [
    {
     "data": {
      "text/plain": [
       "['Switched to context \"minikube\".', 'minikube']"
      ]
     },
     "execution_count": 139,
     "metadata": {},
     "output_type": "execute_result"
    }
   ],
   "source": [
    "%%system\n",
    "\n",
    "cp ~/.kube/config.bak ~/.kube/config\n",
    "kubectl config use-context minikube\n",
    "#kubectl config unset current-context\n",
    "kubectl config current-context"
   ]
  },
  {
   "cell_type": "markdown",
   "metadata": {},
   "source": [
    "## Terraform Destroy\n",
    "\n",
    "- Let's destroy our infrastructure on Azure by running `terraform destroy` in the `terraform` folder in the `monorepo` subfolder."
   ]
  },
  {
   "cell_type": "code",
   "execution_count": null,
   "metadata": {
    "vscode": {
     "languageId": "shellscript"
    }
   },
   "outputs": [
    {
     "name": "stdout",
     "output_type": "stream",
     "text": [
      "\u001b[0m\u001b[1mazurerm_resource_group.main: Refreshing state... [id=/subscriptions/dc438970-aa32-41b3-8fe2-f587309a0208/resourceGroups/tsfn14g00]\u001b[0m\n",
      "\u001b[0m\u001b[1mazurerm_container_registry.main: Refreshing state... [id=/subscriptions/dc438970-aa32-41b3-8fe2-f587309a0208/resourceGroups/tsfn14g00/providers/Microsoft.ContainerRegistry/registries/tsfn14g00]\u001b[0m\n",
      "\u001b[0m\u001b[1mazurerm_storage_account.main: Refreshing state... [id=/subscriptions/dc438970-aa32-41b3-8fe2-f587309a0208/resourceGroups/tsfn14g00/providers/Microsoft.Storage/storageAccounts/tsfn14g00]\u001b[0m\n",
      "\u001b[0m\u001b[1mazurerm_storage_container.main: Refreshing state... [id=https://tsfn14g00.blob.core.windows.net/videos]\u001b[0m\n",
      "\n",
      "Terraform used the selected providers to generate the following execution plan.\n",
      "Resource actions are indicated with the following symbols:\n",
      "  \u001b[31m-\u001b[0m destroy\u001b[0m\n",
      "\n",
      "Terraform will perform the following actions:\n",
      "\n",
      "\u001b[1m  # azurerm_container_registry.main\u001b[0m will be \u001b[1m\u001b[31mdestroyed\u001b[0m\n",
      "\u001b[0m  \u001b[31m-\u001b[0m\u001b[0m resource \"azurerm_container_registry\" \"main\" {\n",
      "      \u001b[31m-\u001b[0m\u001b[0m admin_enabled                 = true \u001b[90m-> null\u001b[0m\u001b[0m\n",
      "      \u001b[31m-\u001b[0m\u001b[0m admin_password                = (sensitive value) \u001b[90m-> null\u001b[0m\u001b[0m\n",
      "      \u001b[31m-\u001b[0m\u001b[0m admin_username                = \"tsfn14g00\" \u001b[90m-> null\u001b[0m\u001b[0m\n",
      "      \u001b[31m-\u001b[0m\u001b[0m anonymous_pull_enabled        = false \u001b[90m-> null\u001b[0m\u001b[0m\n",
      "      \u001b[31m-\u001b[0m\u001b[0m data_endpoint_enabled         = false \u001b[90m-> null\u001b[0m\u001b[0m\n",
      "      \u001b[31m-\u001b[0m\u001b[0m encryption                    = [\n",
      "          \u001b[31m-\u001b[0m\u001b[0m {\n",
      "              \u001b[31m-\u001b[0m\u001b[0m enabled            = false\n",
      "              \u001b[31m-\u001b[0m\u001b[0m identity_client_id = \"\"\n",
      "              \u001b[31m-\u001b[0m\u001b[0m key_vault_key_id   = \"\"\n",
      "            },\n",
      "        ] \u001b[90m-> null\u001b[0m\u001b[0m\n",
      "      \u001b[31m-\u001b[0m\u001b[0m export_policy_enabled         = true \u001b[90m-> null\u001b[0m\u001b[0m\n",
      "      \u001b[31m-\u001b[0m\u001b[0m id                            = \"/subscriptions/dc438970-aa32-41b3-8fe2-f587309a0208/resourceGroups/tsfn14g00/providers/Microsoft.ContainerRegistry/registries/tsfn14g00\" \u001b[90m-> null\u001b[0m\u001b[0m\n",
      "      \u001b[31m-\u001b[0m\u001b[0m location                      = \"westeurope\" \u001b[90m-> null\u001b[0m\u001b[0m\n",
      "      \u001b[31m-\u001b[0m\u001b[0m login_server                  = \"tsfn14g00.azurecr.io\" \u001b[90m-> null\u001b[0m\u001b[0m\n",
      "      \u001b[31m-\u001b[0m\u001b[0m name                          = \"tsfn14g00\" \u001b[90m-> null\u001b[0m\u001b[0m\n",
      "      \u001b[31m-\u001b[0m\u001b[0m network_rule_bypass_option    = \"AzureServices\" \u001b[90m-> null\u001b[0m\u001b[0m\n",
      "      \u001b[31m-\u001b[0m\u001b[0m network_rule_set              = [] \u001b[90m-> null\u001b[0m\u001b[0m\n",
      "      \u001b[31m-\u001b[0m\u001b[0m public_network_access_enabled = true \u001b[90m-> null\u001b[0m\u001b[0m\n",
      "      \u001b[31m-\u001b[0m\u001b[0m quarantine_policy_enabled     = false \u001b[90m-> null\u001b[0m\u001b[0m\n",
      "      \u001b[31m-\u001b[0m\u001b[0m resource_group_name           = \"tsfn14g00\" \u001b[90m-> null\u001b[0m\u001b[0m\n",
      "      \u001b[31m-\u001b[0m\u001b[0m retention_policy              = [\n",
      "          \u001b[31m-\u001b[0m\u001b[0m {\n",
      "              \u001b[31m-\u001b[0m\u001b[0m days    = 7\n",
      "              \u001b[31m-\u001b[0m\u001b[0m enabled = false\n",
      "            },\n",
      "        ] \u001b[90m-> null\u001b[0m\u001b[0m\n",
      "      \u001b[31m-\u001b[0m\u001b[0m sku                           = \"Basic\" \u001b[90m-> null\u001b[0m\u001b[0m\n",
      "      \u001b[31m-\u001b[0m\u001b[0m tags                          = {} \u001b[90m-> null\u001b[0m\u001b[0m\n",
      "      \u001b[31m-\u001b[0m\u001b[0m trust_policy                  = [\n",
      "          \u001b[31m-\u001b[0m\u001b[0m {\n",
      "              \u001b[31m-\u001b[0m\u001b[0m enabled = false\n",
      "            },\n",
      "        ] \u001b[90m-> null\u001b[0m\u001b[0m\n",
      "      \u001b[31m-\u001b[0m\u001b[0m zone_redundancy_enabled       = false \u001b[90m-> null\u001b[0m\u001b[0m\n",
      "    }\n",
      "\n",
      "\u001b[1m  # azurerm_resource_group.main\u001b[0m will be \u001b[1m\u001b[31mdestroyed\u001b[0m\n",
      "\u001b[0m  \u001b[31m-\u001b[0m\u001b[0m resource \"azurerm_resource_group\" \"main\" {\n",
      "      \u001b[31m-\u001b[0m\u001b[0m id       = \"/subscriptions/dc438970-aa32-41b3-8fe2-f587309a0208/resourceGroups/tsfn14g00\" \u001b[90m-> null\u001b[0m\u001b[0m\n",
      "      \u001b[31m-\u001b[0m\u001b[0m location = \"westeurope\" \u001b[90m-> null\u001b[0m\u001b[0m\n",
      "      \u001b[31m-\u001b[0m\u001b[0m name     = \"tsfn14g00\" \u001b[90m-> null\u001b[0m\u001b[0m\n",
      "      \u001b[31m-\u001b[0m\u001b[0m tags     = {} \u001b[90m-> null\u001b[0m\u001b[0m\n",
      "    }\n",
      "\n",
      "\u001b[1m  # azurerm_storage_account.main\u001b[0m will be \u001b[1m\u001b[31mdestroyed\u001b[0m\n",
      "\u001b[0m  \u001b[31m-\u001b[0m\u001b[0m resource \"azurerm_storage_account\" \"main\" {\n",
      "      \u001b[31m-\u001b[0m\u001b[0m access_tier                       = \"Hot\" \u001b[90m-> null\u001b[0m\u001b[0m\n",
      "      \u001b[31m-\u001b[0m\u001b[0m account_kind                      = \"StorageV2\" \u001b[90m-> null\u001b[0m\u001b[0m\n",
      "      \u001b[31m-\u001b[0m\u001b[0m account_replication_type          = \"LRS\" \u001b[90m-> null\u001b[0m\u001b[0m\n",
      "      \u001b[31m-\u001b[0m\u001b[0m account_tier                      = \"Standard\" \u001b[90m-> null\u001b[0m\u001b[0m\n",
      "      \u001b[31m-\u001b[0m\u001b[0m allow_nested_items_to_be_public   = true \u001b[90m-> null\u001b[0m\u001b[0m\n",
      "      \u001b[31m-\u001b[0m\u001b[0m cross_tenant_replication_enabled  = true \u001b[90m-> null\u001b[0m\u001b[0m\n",
      "      \u001b[31m-\u001b[0m\u001b[0m default_to_oauth_authentication   = false \u001b[90m-> null\u001b[0m\u001b[0m\n",
      "      \u001b[31m-\u001b[0m\u001b[0m enable_https_traffic_only         = true \u001b[90m-> null\u001b[0m\u001b[0m\n",
      "      \u001b[31m-\u001b[0m\u001b[0m id                                = \"/subscriptions/dc438970-aa32-41b3-8fe2-f587309a0208/resourceGroups/tsfn14g00/providers/Microsoft.Storage/storageAccounts/tsfn14g00\" \u001b[90m-> null\u001b[0m\u001b[0m\n",
      "      \u001b[31m-\u001b[0m\u001b[0m infrastructure_encryption_enabled = false \u001b[90m-> null\u001b[0m\u001b[0m\n",
      "      \u001b[31m-\u001b[0m\u001b[0m is_hns_enabled                    = false \u001b[90m-> null\u001b[0m\u001b[0m\n",
      "      \u001b[31m-\u001b[0m\u001b[0m location                          = \"westeurope\" \u001b[90m-> null\u001b[0m\u001b[0m\n",
      "      \u001b[31m-\u001b[0m\u001b[0m min_tls_version                   = \"TLS1_2\" \u001b[90m-> null\u001b[0m\u001b[0m\n",
      "      \u001b[31m-\u001b[0m\u001b[0m name                              = \"tsfn14g00\" \u001b[90m-> null\u001b[0m\u001b[0m\n",
      "      \u001b[31m-\u001b[0m\u001b[0m nfsv3_enabled                     = false \u001b[90m-> null\u001b[0m\u001b[0m\n",
      "      \u001b[31m-\u001b[0m\u001b[0m primary_access_key                = (sensitive value) \u001b[90m-> null\u001b[0m\u001b[0m\n",
      "      \u001b[31m-\u001b[0m\u001b[0m primary_blob_connection_string    = (sensitive value) \u001b[90m-> null\u001b[0m\u001b[0m\n",
      "      \u001b[31m-\u001b[0m\u001b[0m primary_blob_endpoint             = \"https://tsfn14g00.blob.core.windows.net/\" \u001b[90m-> null\u001b[0m\u001b[0m\n",
      "      \u001b[31m-\u001b[0m\u001b[0m primary_blob_host                 = \"tsfn14g00.blob.core.windows.net\" \u001b[90m-> null\u001b[0m\u001b[0m\n",
      "      \u001b[31m-\u001b[0m\u001b[0m primary_connection_string         = (sensitive value) \u001b[90m-> null\u001b[0m\u001b[0m\n",
      "      \u001b[31m-\u001b[0m\u001b[0m primary_dfs_endpoint              = \"https://tsfn14g00.dfs.core.windows.net/\" \u001b[90m-> null\u001b[0m\u001b[0m\n",
      "      \u001b[31m-\u001b[0m\u001b[0m primary_dfs_host                  = \"tsfn14g00.dfs.core.windows.net\" \u001b[90m-> null\u001b[0m\u001b[0m\n",
      "      \u001b[31m-\u001b[0m\u001b[0m primary_file_endpoint             = \"https://tsfn14g00.file.core.windows.net/\" \u001b[90m-> null\u001b[0m\u001b[0m\n",
      "      \u001b[31m-\u001b[0m\u001b[0m primary_file_host                 = \"tsfn14g00.file.core.windows.net\" \u001b[90m-> null\u001b[0m\u001b[0m\n",
      "      \u001b[31m-\u001b[0m\u001b[0m primary_location                  = \"westeurope\" \u001b[90m-> null\u001b[0m\u001b[0m\n",
      "      \u001b[31m-\u001b[0m\u001b[0m primary_queue_endpoint            = \"https://tsfn14g00.queue.core.windows.net/\" \u001b[90m-> null\u001b[0m\u001b[0m\n",
      "      \u001b[31m-\u001b[0m\u001b[0m primary_queue_host                = \"tsfn14g00.queue.core.windows.net\" \u001b[90m-> null\u001b[0m\u001b[0m\n",
      "      \u001b[31m-\u001b[0m\u001b[0m primary_table_endpoint            = \"https://tsfn14g00.table.core.windows.net/\" \u001b[90m-> null\u001b[0m\u001b[0m\n",
      "      \u001b[31m-\u001b[0m\u001b[0m primary_table_host                = \"tsfn14g00.table.core.windows.net\" \u001b[90m-> null\u001b[0m\u001b[0m\n",
      "      \u001b[31m-\u001b[0m\u001b[0m primary_web_endpoint              = \"https://tsfn14g00.z6.web.core.windows.net/\" \u001b[90m-> null\u001b[0m\u001b[0m\n",
      "      \u001b[31m-\u001b[0m\u001b[0m primary_web_host                  = \"tsfn14g00.z6.web.core.windows.net\" \u001b[90m-> null\u001b[0m\u001b[0m\n",
      "      \u001b[31m-\u001b[0m\u001b[0m public_network_access_enabled     = true \u001b[90m-> null\u001b[0m\u001b[0m\n",
      "      \u001b[31m-\u001b[0m\u001b[0m queue_encryption_key_type         = \"Service\" \u001b[90m-> null\u001b[0m\u001b[0m\n",
      "      \u001b[31m-\u001b[0m\u001b[0m resource_group_name               = \"tsfn14g00\" \u001b[90m-> null\u001b[0m\u001b[0m\n",
      "      \u001b[31m-\u001b[0m\u001b[0m secondary_access_key              = (sensitive value) \u001b[90m-> null\u001b[0m\u001b[0m\n",
      "      \u001b[31m-\u001b[0m\u001b[0m secondary_connection_string       = (sensitive value) \u001b[90m-> null\u001b[0m\u001b[0m\n",
      "      \u001b[31m-\u001b[0m\u001b[0m sftp_enabled                      = false \u001b[90m-> null\u001b[0m\u001b[0m\n",
      "      \u001b[31m-\u001b[0m\u001b[0m shared_access_key_enabled         = true \u001b[90m-> null\u001b[0m\u001b[0m\n",
      "      \u001b[31m-\u001b[0m\u001b[0m table_encryption_key_type         = \"Service\" \u001b[90m-> null\u001b[0m\u001b[0m\n",
      "      \u001b[31m-\u001b[0m\u001b[0m tags                              = {} \u001b[90m-> null\u001b[0m\u001b[0m\n",
      "\n",
      "      \u001b[31m-\u001b[0m\u001b[0m blob_properties {\n",
      "          \u001b[31m-\u001b[0m\u001b[0m change_feed_enabled           = false \u001b[90m-> null\u001b[0m\u001b[0m\n",
      "          \u001b[31m-\u001b[0m\u001b[0m change_feed_retention_in_days = 0 \u001b[90m-> null\u001b[0m\u001b[0m\n",
      "          \u001b[31m-\u001b[0m\u001b[0m last_access_time_enabled      = false \u001b[90m-> null\u001b[0m\u001b[0m\n",
      "          \u001b[31m-\u001b[0m\u001b[0m versioning_enabled            = false \u001b[90m-> null\u001b[0m\u001b[0m\n",
      "        }\n",
      "\n",
      "      \u001b[31m-\u001b[0m\u001b[0m network_rules {\n",
      "          \u001b[31m-\u001b[0m\u001b[0m bypass                     = [\n",
      "              \u001b[31m-\u001b[0m\u001b[0m \"AzureServices\",\n",
      "            ] \u001b[90m-> null\u001b[0m\u001b[0m\n",
      "          \u001b[31m-\u001b[0m\u001b[0m default_action             = \"Allow\" \u001b[90m-> null\u001b[0m\u001b[0m\n",
      "          \u001b[31m-\u001b[0m\u001b[0m ip_rules                   = [] \u001b[90m-> null\u001b[0m\u001b[0m\n",
      "          \u001b[31m-\u001b[0m\u001b[0m virtual_network_subnet_ids = [] \u001b[90m-> null\u001b[0m\u001b[0m\n",
      "        }\n",
      "\n",
      "      \u001b[31m-\u001b[0m\u001b[0m queue_properties {\n",
      "          \u001b[31m-\u001b[0m\u001b[0m hour_metrics {\n",
      "              \u001b[31m-\u001b[0m\u001b[0m enabled               = true \u001b[90m-> null\u001b[0m\u001b[0m\n",
      "              \u001b[31m-\u001b[0m\u001b[0m include_apis          = true \u001b[90m-> null\u001b[0m\u001b[0m\n",
      "              \u001b[31m-\u001b[0m\u001b[0m retention_policy_days = 7 \u001b[90m-> null\u001b[0m\u001b[0m\n",
      "              \u001b[31m-\u001b[0m\u001b[0m version               = \"1.0\" \u001b[90m-> null\u001b[0m\u001b[0m\n",
      "            }\n",
      "          \u001b[31m-\u001b[0m\u001b[0m logging {\n",
      "              \u001b[31m-\u001b[0m\u001b[0m delete                = false \u001b[90m-> null\u001b[0m\u001b[0m\n",
      "              \u001b[31m-\u001b[0m\u001b[0m read                  = false \u001b[90m-> null\u001b[0m\u001b[0m\n",
      "              \u001b[31m-\u001b[0m\u001b[0m retention_policy_days = 0 \u001b[90m-> null\u001b[0m\u001b[0m\n",
      "              \u001b[31m-\u001b[0m\u001b[0m version               = \"1.0\" \u001b[90m-> null\u001b[0m\u001b[0m\n",
      "              \u001b[31m-\u001b[0m\u001b[0m write                 = false \u001b[90m-> null\u001b[0m\u001b[0m\n",
      "            }\n",
      "          \u001b[31m-\u001b[0m\u001b[0m minute_metrics {\n",
      "              \u001b[31m-\u001b[0m\u001b[0m enabled               = false \u001b[90m-> null\u001b[0m\u001b[0m\n",
      "              \u001b[31m-\u001b[0m\u001b[0m include_apis          = false \u001b[90m-> null\u001b[0m\u001b[0m\n",
      "              \u001b[31m-\u001b[0m\u001b[0m retention_policy_days = 0 \u001b[90m-> null\u001b[0m\u001b[0m\n",
      "              \u001b[31m-\u001b[0m\u001b[0m version               = \"1.0\" \u001b[90m-> null\u001b[0m\u001b[0m\n",
      "            }\n",
      "        }\n",
      "\n",
      "      \u001b[31m-\u001b[0m\u001b[0m share_properties {\n",
      "          \u001b[31m-\u001b[0m\u001b[0m retention_policy {\n",
      "              \u001b[31m-\u001b[0m\u001b[0m days = 7 \u001b[90m-> null\u001b[0m\u001b[0m\n",
      "            }\n",
      "        }\n",
      "    }\n",
      "\n",
      "\u001b[1m  # azurerm_storage_container.main\u001b[0m will be \u001b[1m\u001b[31mdestroyed\u001b[0m\n",
      "\u001b[0m  \u001b[31m-\u001b[0m\u001b[0m resource \"azurerm_storage_container\" \"main\" {\n",
      "      \u001b[31m-\u001b[0m\u001b[0m container_access_type   = \"private\" \u001b[90m-> null\u001b[0m\u001b[0m\n",
      "      \u001b[31m-\u001b[0m\u001b[0m has_immutability_policy = false \u001b[90m-> null\u001b[0m\u001b[0m\n",
      "      \u001b[31m-\u001b[0m\u001b[0m has_legal_hold          = false \u001b[90m-> null\u001b[0m\u001b[0m\n",
      "      \u001b[31m-\u001b[0m\u001b[0m id                      = \"https://tsfn14g00.blob.core.windows.net/videos\" \u001b[90m-> null\u001b[0m\u001b[0m\n",
      "      \u001b[31m-\u001b[0m\u001b[0m metadata                = {} \u001b[90m-> null\u001b[0m\u001b[0m\n",
      "      \u001b[31m-\u001b[0m\u001b[0m name                    = \"videos\" \u001b[90m-> null\u001b[0m\u001b[0m\n",
      "      \u001b[31m-\u001b[0m\u001b[0m resource_manager_id     = \"/subscriptions/dc438970-aa32-41b3-8fe2-f587309a0208/resourceGroups/tsfn14g00/providers/Microsoft.Storage/storageAccounts/tsfn14g00/blobServices/default/containers/videos\" \u001b[90m-> null\u001b[0m\u001b[0m\n",
      "      \u001b[31m-\u001b[0m\u001b[0m storage_account_name    = \"tsfn14g00\" \u001b[90m-> null\u001b[0m\u001b[0m\n",
      "    }\n",
      "\n",
      "\u001b[1mPlan:\u001b[0m 0 to add, 0 to change, 4 to destroy.\n",
      "\u001b[0m\u001b[0m\u001b[1mazurerm_storage_container.main: Destroying... [id=https://tsfn14g00.blob.core.windows.net/videos]\u001b[0m\u001b[0m\n",
      "\u001b[0m\u001b[1mazurerm_container_registry.main: Destroying... [id=/subscriptions/dc438970-aa32-41b3-8fe2-f587309a0208/resourceGroups/tsfn14g00/providers/Microsoft.ContainerRegistry/registries/tsfn14g00]\u001b[0m\u001b[0m\n",
      "\u001b[0m\u001b[1mazurerm_storage_container.main: Destruction complete after 1s\u001b[0m\n",
      "\u001b[0m\u001b[1mazurerm_storage_account.main: Destroying... [id=/subscriptions/dc438970-aa32-41b3-8fe2-f587309a0208/resourceGroups/tsfn14g00/providers/Microsoft.Storage/storageAccounts/tsfn14g00]\u001b[0m\u001b[0m\n",
      "\u001b[0m\u001b[1mazurerm_storage_account.main: Destruction complete after 3s\u001b[0m\n",
      "\u001b[0m\u001b[1mazurerm_container_registry.main: Still destroying... [id=/subscriptions/dc438970-aa32-41b3-8fe2-...ContainerRegistry/registries/tsfn14g00, 10s elapsed]\u001b[0m\u001b[0m\n",
      "\u001b[0m\u001b[1mazurerm_container_registry.main: Destruction complete after 14s\u001b[0m\n",
      "\u001b[0m\u001b[1mazurerm_resource_group.main: Destroying... [id=/subscriptions/dc438970-aa32-41b3-8fe2-f587309a0208/resourceGroups/tsfn14g00]\u001b[0m\u001b[0m\n",
      "\u001b[0m\u001b[1mazurerm_resource_group.main: Still destroying... [id=/subscriptions/dc438970-aa32-41b3-8fe2-f587309a0208/resourceGroups/tsfn14g00, 10s elapsed]\u001b[0m\u001b[0m\n",
      "\u001b[0m\u001b[1mazurerm_resource_group.main: Destruction complete after 16s\u001b[0m\n",
      "\u001b[0m\u001b[1m\u001b[32m\n",
      "Destroy complete! Resources: 4 destroyed.\n",
      "\u001b[0m"
     ]
    }
   ],
   "source": [
    "%%system\n",
    "\n",
    "cd monorepo/terraform\n",
    "terraform destroy -auto-approve\n",
    "cd ../.."
   ]
  },
  {
   "cell_type": "markdown",
   "metadata": {},
   "source": [
    "## Delete GitHub Repository\n",
    "\n",
    "- Now we can delete the `monorepo` GitHub repository and the `monorepo` subfolder to clean things up."
   ]
  },
  {
   "cell_type": "code",
   "execution_count": 140,
   "metadata": {
    "vscode": {
     "languageId": "shellscript"
    }
   },
   "outputs": [
    {
     "data": {
      "text/plain": [
       "[]"
      ]
     },
     "execution_count": 140,
     "metadata": {},
     "output_type": "execute_result"
    }
   ],
   "source": [
    "%%system\n",
    "\n",
    "cd monorepo\n",
    "gh repo delete monorepo --yes\n",
    "cd ..\n",
    "\n",
    "rm -rf monorepo"
   ]
  },
  {
   "cell_type": "markdown",
   "metadata": {},
   "source": [
    "## List Azure Storage Accounts\n",
    "\n",
    "- We see the Azure Storage Account has been destroyed."
   ]
  },
  {
   "cell_type": "code",
   "execution_count": null,
   "metadata": {
    "vscode": {
     "languageId": "shellscript"
    }
   },
   "outputs": [
    {
     "name": "stdout",
     "output_type": "stream",
     "text": [
      "AccessTier    AllowBlobPublicAccess    AllowCrossTenantReplication    AllowSharedKeyAccess    CreationTime                      DefaultToOAuthAuthentication    EnableHttpsTrafficOnly    EnableNfsV3    IsHnsEnabled    IsSftpEnabled    Kind       Location    MinimumTlsVersion    Name       PrimaryLocation    ProvisioningState    PublicNetworkAccess    ResourceGroup    StatusOfPrimary\n",
      "------------  -----------------------  -----------------------------  ----------------------  --------------------------------  ------------------------------  ------------------------  -------------  --------------  ---------------  ---------  ----------  -------------------  ---------  -----------------  -------------------  ---------------------  ---------------  -----------------\n",
      "Hot           True                     True                           True                    2024-02-11T18:43:25.634026+00:00  False                           True                      False          False           False            StorageV2  westeurope  TLS1_2               tsfn14g00  westeurope         Succeeded            Enabled                tsfn14g00        available\n"
     ]
    }
   ],
   "source": [
    "!az storage account list -o table"
   ]
  },
  {
   "cell_type": "markdown",
   "metadata": {},
   "source": [
    "## List Azure Container Registries\n",
    "\n",
    "- We see the Azure Container Registry has been destroyed."
   ]
  },
  {
   "cell_type": "code",
   "execution_count": null,
   "metadata": {
    "vscode": {
     "languageId": "shellscript"
    }
   },
   "outputs": [
    {
     "name": "stdout",
     "output_type": "stream",
     "text": [
      "NAME       RESOURCE GROUP    LOCATION    SKU    LOGIN SERVER          CREATION DATE         ADMIN ENABLED\n",
      "---------  ----------------  ----------  -----  --------------------  --------------------  ---------------\n",
      "tsfn14g00  tsfn14g00         westeurope  Basic  tsfn14g00.azurecr.io  2024-02-11T18:43:27Z  True\n"
     ]
    }
   ],
   "source": [
    "!az acr list -o table"
   ]
  },
  {
   "cell_type": "markdown",
   "metadata": {},
   "source": [
    "## List Azure Kubernetes Services\n",
    "\n",
    "- We see the Azure Kubernetes Service has been destroyed."
   ]
  },
  {
   "cell_type": "code",
   "execution_count": null,
   "metadata": {
    "vscode": {
     "languageId": "shellscript"
    }
   },
   "outputs": [
    {
     "name": "stdout",
     "output_type": "stream",
     "text": [
      "Name       Location    ResourceGroup    KubernetesVersion    CurrentKubernetesVersion    ProvisioningState    Fqdn\n",
      "---------  ----------  ---------------  -------------------  --------------------------  -------------------  -------------------------------------------\n",
      "tsfn14g00  westeurope  tsfn14g00        1.27.7               1.27.7                      Succeeded            tsfn14g00-dzhwwmas.hcp.westeurope.azmk8s.io\n"
     ]
    }
   ],
   "source": [
    "!az aks list -o table"
   ]
  },
  {
   "cell_type": "markdown",
   "metadata": {},
   "source": [
    "## List Azure Resource Groups\n",
    "\n",
    "- We see the Azure Resource Groups have been destroyed."
   ]
  },
  {
   "cell_type": "code",
   "execution_count": null,
   "metadata": {
    "vscode": {
     "languageId": "shellscript"
    }
   },
   "outputs": [
    {
     "name": "stdout",
     "output_type": "stream",
     "text": [
      "Name                               Location    Status\n",
      "---------------------------------  ----------  ---------\n",
      "tsfn14g00                          westeurope  Succeeded\n",
      "NetworkWatcherRG                   westeurope  Succeeded\n",
      "MC_tsfn14g00_tsfn14g00_westeurope  westeurope  Succeeded\n"
     ]
    }
   ],
   "source": [
    "!az group list -o table"
   ]
  }
 ],
 "metadata": {
  "kernelspec": {
   "display_name": "Python 3",
   "language": "python",
   "name": "python3"
  },
  "language_info": {
   "codemirror_mode": {
    "name": "ipython",
    "version": 3
   },
   "file_extension": ".py",
   "mimetype": "text/x-python",
   "name": "python",
   "nbconvert_exporter": "python",
   "pygments_lexer": "ipython3",
   "version": "3.10.13"
  }
 },
 "nbformat": 4,
 "nbformat_minor": 2
}
