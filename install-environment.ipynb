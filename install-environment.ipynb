{
 "cells": [
  {
   "cell_type": "markdown",
   "metadata": {},
   "source": [
    "## Install Git\n",
    "\n",
    "- Home: https://git-scm.com\n",
    "- Documentation: https://git-scm.com/doc\n",
    "- Getting Started: https://docs.github.com/en/get-started/getting-started-with-git/set-up-git\n",
    "- Install: https://git-scm.com/downloads \n",
    "  \n",
    "  - Windows: https://git-scm.com/download/win\n",
    "  - Mac: https://git-scm.com/download/mac\n",
    "  - **Linux/WSL2**: https://git-scm.com/download/linux\n",
    "\n",
    "    ```bash\n",
    "    sudo apt install -y git\n",
    "    git config --global user.name \"John Doe\"\n",
    "    git config --global user.email john.doe@ju.se\n",
    "    git config --list --show-origin\n",
    "    git --version\n",
    "    ```"
   ]
  },
  {
   "cell_type": "code",
   "execution_count": 4,
   "metadata": {
    "vscode": {
     "languageId": "shellscript"
    }
   },
   "outputs": [
    {
     "name": "stdout",
     "output_type": "stream",
     "text": [
      "git version 2.25.1\n"
     ]
    }
   ],
   "source": [
    "git --version"
   ]
  },
  {
   "cell_type": "markdown",
   "metadata": {},
   "source": [
    "## Install Github CLI\n",
    "\n",
    "- Manual: https://cli.github.com/manual\n",
    "- Download: https://cli.github.com\n",
    "- Install: https://github.com/cli/cli#installation\n",
    "  \n",
    "  - **Linux/WSL2**: https://github.com/cli/cli/blob/trunk/docs/install_linux.md\n",
    "  \n",
    "    ```bash\n",
    "    type -p curl >/dev/null || (sudo apt update && sudo apt install curl -y)\n",
    "    curl -fsSL https://cli.github.com/packages/githubcli-archive-keyring.gpg | sudo dd of=/usr/share/keyrings/githubcli-archive-keyring.gpg \\\n",
    "    && sudo chmod go+r /usr/share/keyrings/githubcli-archive-keyring.gpg \\\n",
    "    && echo \"deb [arch=$(dpkg --print-architecture) signed-by=/usr/share/keyrings/githubcli-archive-keyring.gpg] https://cli.github.com/packages stable main\" | sudo tee /etc/apt/sources.list.d/github-cli.list > /dev/null \\\n",
    "    && sudo apt update \\\n",
    "    && sudo apt install gh -y \\\n",
    "    && gh --version\n",
    "    ```"
   ]
  },
  {
   "cell_type": "code",
   "execution_count": 5,
   "metadata": {
    "vscode": {
     "languageId": "shellscript"
    }
   },
   "outputs": [
    {
     "name": "stdout",
     "output_type": "stream",
     "text": [
      "gh version 2.43.1 (2024-01-31)\n",
      "https://github.com/cli/cli/releases/tag/v2.43.1\n"
     ]
    }
   ],
   "source": [
    "gh --version"
   ]
  },
  {
   "cell_type": "markdown",
   "metadata": {},
   "source": [
    "## Login to GitHub via the CLI\n",
    "\n",
    "### Run the command below and follow the instructions\n",
    "\n",
    "```bash\n",
    "gh auth login --hostname github.com --git-protocol https --web\n",
    "```\n",
    "\n",
    "- Authenticate Git with your Github credentials? (Y/n) Y\n",
    "- ! First copy your one-time code: G89B-41D\n",
    "- Press Enter to open github.com in your browser...\n",
    "\n",
    "### Authentication complete.\n",
    "\n",
    "- gh config set -h github.com git_protocol https\n",
    "- ✓ Configured git protocol\n",
    "- ✓ Authentication credentials saved in gpg\n",
    "- ✓ Logged in as paga-ju"
   ]
  },
  {
   "cell_type": "markdown",
   "metadata": {},
   "source": [
    "## Authorize running the Delete Repository Command\n",
    "\n",
    "### Run the command below and follow the instructions\n",
    "\n",
    "```bash\n",
    "gh auth refresh -h github.com -s delete_repo\n",
    "```\n",
    "\n",
    "- ! First copy your one-time code: 42BA-CFB6\n",
    "- Press Enter to open github.com in your browser...\n",
    "\n",
    "### Authentication complete.\n",
    "\n",
    "- ✓ Authentication complete."
   ]
  },
  {
   "cell_type": "markdown",
   "metadata": {},
   "source": [
    "## Create an Azure for Students Account\n",
    "\n",
    "### Follow the instructions here:\n",
    "\n",
    "- https://azure.microsoft.com/en-us/free/students\n",
    "- https://ju.se/it-helpdesk/faq---manualer/program/hemanvandning.html\n",
    "- https://ju.se/download/18.7b7bf6ee18aa221171551e52/1695901523783/AzureDevToolsGuideSwe.pdf"
   ]
  },
  {
   "cell_type": "markdown",
   "metadata": {},
   "source": [
    "## Install Azure CLI\n",
    "\n",
    "- Install: https://learn.microsoft.com/en-us/cli/azure/install-azure-cli\n",
    "  \n",
    "  - Windows: https://learn.microsoft.com/en-us/cli/azure/install-azure-cli-windows?tabs=azure-cli\n",
    "  - macOS: https://learn.microsoft.com/en-us/cli/azure/install-azure-cli-macos\n",
    "  - **Linux/WSL2**: https://learn.microsoft.com/en-us/cli/azure/install-azure-cli-linux?pivots=apt\n",
    "    ```bash\n",
    "    curl -sL https://aka.ms/InstallAzureCLIDeb | sudo bash\n",
    "    az --version\n",
    "    ```"
   ]
  },
  {
   "cell_type": "code",
   "execution_count": 3,
   "metadata": {
    "vscode": {
     "languageId": "shellscript"
    }
   },
   "outputs": [
    {
     "name": "stdout",
     "output_type": "stream",
     "text": [
      "azure-cli                         2.56.0\n",
      "\n",
      "core                              2.56.0\n",
      "telemetry                          1.1.0\n",
      "\n",
      "Dependencies:\n",
      "msal                            1.24.0b2\n",
      "azure-mgmt-resource             23.1.0b2\n",
      "\n",
      "Python location '/opt/az/bin/python3'\n",
      "Extensions directory '/home/patrick/.azure/cliextensions'\n",
      "\n",
      "Python (Linux) 3.11.5 (main, Jan  8 2024, 09:08:51) [GCC 9.4.0]\n",
      "\n",
      "Legal docs and information: aka.ms/AzureCliLegal\n",
      "\n",
      "\n",
      "Your CLI is up-to-date.\n"
     ]
    }
   ],
   "source": [
    "az --version"
   ]
  },
  {
   "cell_type": "markdown",
   "metadata": {},
   "source": [
    "## Login to Azure"
   ]
  },
  {
   "cell_type": "code",
   "execution_count": 1,
   "metadata": {
    "vscode": {
     "languageId": "shellscript"
    }
   },
   "outputs": [
    {
     "name": "stdout",
     "output_type": "stream",
     "text": [
      "\u001b[93mA web browser has been opened at https://login.microsoftonline.com/organizations/oauth2/v2.0/authorize. Please continue the login in the web browser. If no web browser is available or if the web browser fails to open, use device code flow with `az login --use-device-code`.\u001b[0m\n",
      "\u001b[93mThe following tenants don't contain accessible subscriptions. Use 'az login --allow-no-subscriptions' to have tenant level access.\u001b[0m\n",
      "\u001b[93me67b7062-be5f-4baf-b0bd-3f61695a1c9d 'Science Park Jönköping AB'\u001b[0m\n"
     ]
    }
   ],
   "source": [
    "az login -o None\n",
    "# az account list -o table\n",
    "# az account show -o table\n",
    "# az account set --subscription='Azure for Students' -o table"
   ]
  },
  {
   "cell_type": "markdown",
   "metadata": {},
   "source": [
    "## Install Terraform\n",
    "\n",
    "- Install: https://developer.hashicorp.com/terraform/tutorials/aws-get-started/install-cli\n",
    "  - **Linux/WSL2**\n",
    "\n",
    "    ```bash\n",
    "    sudo apt update && sudo apt install -y gnupg software-properties-common\n",
    "    \n",
    "    wget -O- https://apt.releases.hashicorp.com/gpg | \\\n",
    "    gpg --dearmor | \\\n",
    "    sudo tee /usr/share/keyrings/hashicorp-archive-keyring.gpg\n",
    "\n",
    "    echo \"deb [signed-by=/usr/share/keyrings/hashicorp-archive-keyring.gpg] \\\n",
    "    https://apt.releases.hashicorp.com $(lsb_release -cs) main\" | \\\n",
    "    sudo tee /etc/apt/sources.list.d/hashicorp.list\n",
    "\n",
    "    sudo apt update && sudo apt-get install -y terraform\n",
    "\n",
    "    terraform -install-autocomplete\n",
    "\n",
    "    terraform --version\n",
    "    ```"
   ]
  },
  {
   "cell_type": "code",
   "execution_count": 2,
   "metadata": {
    "vscode": {
     "languageId": "shellscript"
    }
   },
   "outputs": [
    {
     "name": "stdout",
     "output_type": "stream",
     "text": [
      "Terraform v1.7.2\n",
      "on linux_amd64\n"
     ]
    }
   ],
   "source": [
    "terraform --version"
   ]
  },
  {
   "cell_type": "markdown",
   "metadata": {},
   "source": [
    "## Install Docker Engine\n",
    "\n",
    "- Install: https://docs.docker.com/engine/install\n",
    "  - **Linux/WSL2**: https://docs.docker.com/engine/install/ubuntu\n",
    "      ```bash\n",
    "      # Add Docker's official GPG key:\n",
    "      sudo apt update\n",
    "      sudo apt install ca-certificates curl\n",
    "      sudo install -m 0755 -d /etc/apt/keyrings\n",
    "      sudo curl -fsSL https://download.docker.com/linux/ubuntu/gpg -o /etc/apt/keyrings/docker.asc\n",
    "      sudo chmod a+r /etc/apt/keyrings/docker.asc\n",
    "\n",
    "      # Add the repository to Apt sources:\n",
    "      echo \\\n",
    "        \"deb [arch=$(dpkg --print-architecture) signed-by=/etc/apt/keyrings/docker.asc] https://download.docker.com/linux/ubuntu \\\n",
    "        $(. /etc/os-release && echo \"$VERSION_CODENAME\") stable\" | \\\n",
    "        sudo tee /etc/apt/sources.list.d/docker.list > /dev/null\n",
    "      sudo apt update\n",
    "\n",
    "      sudo apt install -y docker-ce docker-ce-cli containerd.io docker-buildx-plugin docker-compose-plugin\n",
    "\n",
    "      docker --version\n",
    "      ```"
   ]
  },
  {
   "cell_type": "code",
   "execution_count": 6,
   "metadata": {
    "vscode": {
     "languageId": "shellscript"
    }
   },
   "outputs": [
    {
     "name": "stdout",
     "output_type": "stream",
     "text": [
      "Docker version 24.0.7, build afdd53b\n"
     ]
    }
   ],
   "source": [
    "docker --version"
   ]
  },
  {
   "cell_type": "markdown",
   "metadata": {},
   "source": [
    "## Install kubectl\n",
    "\n",
    "- Install: https://kubernetes.io/docs/tasks/tools\n",
    "- \n",
    "  - Windows: https://kubernetes.io/docs/tasks/tools/install-kubectl-windows\n",
    "  - macOS: https://kubernetes.io/docs/tasks/tools/install-kubectl-macos\n",
    "  - **Linux/WSL2**: https://kubernetes.io/docs/tasks/tools/install-kubectl-linux\n",
    "\n",
    "    ```bash\n",
    "    sudo apt update && sudo apt install -y apt-transport-https ca-certificates curl\n",
    "\n",
    "    curl -fsSL https://pkgs.k8s.io/core:/stable:/v1.29/deb/Release.key | sudo gpg --dearmor -o /etc/apt/keyrings/kubernetes-apt-keyring.gpg\n",
    "\n",
    "    echo 'deb [signed-by=/etc/apt/keyrings/kubernetes-apt-keyring.gpg] https://pkgs.k8s.io/core:/stable:/v1.29/deb/ /' | sudo tee /etc/apt/sources.list.d/kubernetes.list\n",
    "\n",
    "    sudo apt update && sudo apt install -y kubectl\n",
    "\n",
    "    sudo apt install -y bash-completion\n",
    "\n",
    "    echo 'source <(kubectl completion bash)' >> ~/.bashrc\n",
    "\n",
    "    kubectl version --short\n",
    "    ```"
   ]
  },
  {
   "cell_type": "code",
   "execution_count": 13,
   "metadata": {
    "vscode": {
     "languageId": "shellscript"
    }
   },
   "outputs": [
    {
     "name": "stdout",
     "output_type": "stream",
     "text": [
      "Flag --short has been deprecated, and will be removed in the future. The --short output will become the default.\n",
      "Client Version: v1.27.8-dispatcher\n",
      "Kustomize Version: v5.0.1\n",
      "Unable to connect to the server: dial tcp: lookup tsfn14g00-bpeqnomc.hcp.westeurope.azmk8s.io on 172.21.128.1:53: no such host\n"
     ]
    },
    {
     "ename": "",
     "evalue": "1",
     "output_type": "error",
     "traceback": []
    }
   ],
   "source": [
    "kubectl version --short"
   ]
  },
  {
   "cell_type": "markdown",
   "metadata": {},
   "source": [
    "## Install Minikube\n",
    "\n",
    "- Install: https://minikube.sigs.k8s.io/docs/start\n",
    "  - **Linux/WSL2**\n",
    "    ```bash\n",
    "    curl -LO https://storage.googleapis.com/minikube/releases/latest/minikube_latest_amd64.deb\n",
    "    sudo dpkg -i minikube_latest_amd64.deb\n",
    "    minikube version\n",
    "    ```"
   ]
  },
  {
   "cell_type": "code",
   "execution_count": 17,
   "metadata": {
    "vscode": {
     "languageId": "shellscript"
    }
   },
   "outputs": [
    {
     "name": "stdout",
     "output_type": "stream",
     "text": [
      "minikube version: v1.32.0\n",
      "commit: 8220a6eb95f0a4d75f7f2d7b14cef975f050512d\n"
     ]
    }
   ],
   "source": [
    "minikube version"
   ]
  },
  {
   "cell_type": "markdown",
   "metadata": {},
   "source": [
    "## Install Nodejs\n",
    "\n",
    "- Install: https://nodejs.org/en/download\n",
    "- **Linux/WSL2**\n",
    "\n",
    "  ```bash\n",
    "  sudo mkdir -p /etc/apt/keyrings\n",
    "\n",
    "  curl -fsSL https://deb.nodesource.com/gpgkey/nodesource-repo.gpg.key | sudo gpg --dearmor -o /etc/apt/keyrings/nodesource.gpg\n",
    "  \n",
    "  NODE_MAJOR=20\n",
    "  echo \"deb [signed-by=/etc/apt/keyrings/nodesource.gpg] https://deb.nodesource.com/node_$NODE_MAJOR.x nodistro main\" | sudo tee /etc/apt/sources.list.d/nodesource.list\n",
    "\n",
    "  sudo apt update && sudo apt install -y nodejs\n",
    "\n",
    "  node --version\n",
    "  npm --version\n",
    "  ```"
   ]
  },
  {
   "cell_type": "code",
   "execution_count": 21,
   "metadata": {
    "vscode": {
     "languageId": "shellscript"
    }
   },
   "outputs": [
    {
     "name": "stdout",
     "output_type": "stream",
     "text": [
      "v19.9.0\n",
      "9.6.3\n"
     ]
    }
   ],
   "source": [
    "node --version\n",
    "npm --version"
   ]
  },
  {
   "cell_type": "markdown",
   "metadata": {},
   "source": [
    "## Install Visual Studio Code Extensions"
   ]
  },
  {
   "cell_type": "code",
   "execution_count": 32,
   "metadata": {
    "vscode": {
     "languageId": "shellscript"
    }
   },
   "outputs": [
    {
     "name": "stdout",
     "output_type": "stream",
     "text": [
      "Installing extensions on WSL: Ubuntu-20.04...\n",
      "Extension 'ms-vscode.vscode-node-azure-pack' v1.2.0 is already installed. Use '--force' option to update to latest version or provide '@<version>' to install a specific version, for example: 'ms-vscode.vscode-node-azure-pack@1.2.3'.\n",
      "Installing extensions on WSL: Ubuntu-20.04...\n",
      "Extension 'ms-azuretools.vscode-docker' v1.28.0 is already installed. Use '--force' option to update to latest version or provide '@<version>' to install a specific version, for example: 'ms-azuretools.vscode-docker@1.2.3'.\n",
      "Installing extensions on WSL: Ubuntu-20.04...\n",
      "Extension 'ms-kubernetes-tools.vscode-kubernetes-tools' v1.3.15 is already installed. Use '--force' option to update to latest version or provide '@<version>' to install a specific version, for example: 'ms-kubernetes-tools.vscode-kubernetes-tools@1.2.3'.\n",
      "Installing extensions on WSL: Ubuntu-20.04...\n",
      "Extension '4ops.terraform' v0.2.5 is already installed. Use '--force' option to update to latest version or provide '@<version>' to install a specific version, for example: '4ops.terraform@1.2.3'.\n",
      "Installing extensions on WSL: Ubuntu-20.04...\n",
      "Extension 'ms-python.python' v2024.0.0 is already installed. Use '--force' option to update to latest version or provide '@<version>' to install a specific version, for example: 'ms-python.python@1.2.3'.\n",
      "Installing extensions on WSL: Ubuntu-20.04...\n",
      "Extension 'ms-toolsai.jupyter' v2024.1.0 is already installed. Use '--force' option to update to latest version or provide '@<version>' to install a specific version, for example: 'ms-toolsai.jupyter@1.2.3'.\n",
      "Installing extensions on WSL: Ubuntu-20.04...\n",
      "Extension 'redhat.vscode-yaml' v1.14.0 is already installed. Use '--force' option to update to latest version or provide '@<version>' to install a specific version, for example: 'redhat.vscode-yaml@1.2.3'.\n",
      "Installing extensions on WSL: Ubuntu-20.04...\n",
      "Extension 'yzhang.markdown-all-in-one' v3.6.2 is already installed. Use '--force' option to update to latest version or provide '@<version>' to install a specific version, for example: 'yzhang.markdown-all-in-one@1.2.3'.\n",
      "Installing extensions on WSL: Ubuntu-20.04...\n",
      "Extension 'davidanson.vscode-markdownlint' v0.54.0 is already installed. Use '--force' option to update to latest version or provide '@<version>' to install a specific version, for example: 'davidanson.vscode-markdownlint@1.2.3'.\n"
     ]
    }
   ],
   "source": [
    "code --install-extension ms-vscode.vscode-node-azure-pack\n",
    "code --install-extension ms-azuretools.vscode-docker\n",
    "code --install-extension ms-kubernetes-tools.vscode-kubernetes-tools\n",
    "code --install-extension 4ops.terraform\n",
    "code --install-extension ms-python.python\n",
    "code --install-extension ms-toolsai.jupyter\n",
    "code --install-extension redhat.vscode-yaml\n",
    "code --install-extension yzhang.markdown-all-in-one\n",
    "code --install-extension davidanson.vscode-markdownlint"
   ]
  }
 ],
 "metadata": {
  "kernelspec": {
   "display_name": "Bash",
   "language": "bash",
   "name": "bash"
  },
  "language_info": {
   "codemirror_mode": "shell",
   "file_extension": ".sh",
   "mimetype": "text/x-sh",
   "name": "bash"
  }
 },
 "nbformat": 4,
 "nbformat_minor": 2
}
