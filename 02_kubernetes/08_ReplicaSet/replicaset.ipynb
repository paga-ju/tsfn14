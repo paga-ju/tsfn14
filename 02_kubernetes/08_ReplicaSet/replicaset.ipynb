{
 "cells": [
  {
   "cell_type": "markdown",
   "metadata": {},
   "source": [
    "## Ensure a Minikube cluster is running\n",
    "\n",
    "- If you created a Minikube cluster with the command `minikube start --nodes 3` and it is still running:\n",
    "  - Do nothing\n",
    "- If you have a stopped (not deleted) Minikube cluster that was created with the command `minikube start --nodes 3`:\n",
    "  - Run the command `minikube start`\n",
    "- If you don't have a Minikube cluster (or deleted your previous one):\n",
    "  - Run the command `minikube start --nodes 3`  "
   ]
  },
  {
   "cell_type": "markdown",
   "metadata": {},
   "source": [
    "## Create a ReplicaSet called `rs-example`\n",
    "\n",
    "- The ReplicaSet definition is in the YAML file `manifests/rs-example-yaml`."
   ]
  },
  {
   "cell_type": "code",
   "execution_count": 1,
   "metadata": {},
   "outputs": [
    {
     "name": "stdout",
     "output_type": "stream",
     "text": [
      "replicaset.apps/rs-example created\n"
     ]
    }
   ],
   "source": [
    "!kubectl apply -f manifests/rs-example.yaml"
   ]
  },
  {
   "cell_type": "markdown",
   "metadata": {},
   "source": [
    "## Let's look at the ReplicaSet's YAML\n",
    "\n",
    "**Note:**\n",
    "\n",
    "- The number of replicas is set to 3.\n",
    "- The ReplicaSet's matchLabels match the Pod template's labels.\n",
    "- The Pod template's containers are based on the nginx image.\n",
    "- The Pod template's containers are listening on port 80.\n",
    "\n",
    "```bash\n",
    "apiVersion: apps/v1\n",
    "kind: ReplicaSet\n",
    "metadata:\n",
    "  name: rs-example           # the replicaset's name\n",
    "spec:\n",
    "  replicas: 3                # the number of replicas\n",
    "  selector:\n",
    "    matchLabels:\n",
    "      app: nginx             # the replicaset's matchLabels are defined as (and match the Pod template's labels below):\n",
    "      type: front-end        # app = nginx and type = front-end\n",
    "  template: \n",
    "    metadata:\n",
    "      labels:\n",
    "        app: nginx           # the Pod template's labels are defined as:\n",
    "        type: front-end      # app = nginx and type = front-end\n",
    "    spec:\n",
    "      containers:\n",
    "      - name: nginx          # the container's name\n",
    "        image: nginx:alpine  # the image the container is based on\n",
    "        resources:\n",
    "          requests:\n",
    "            cpu: 100m\n",
    "            memory: 128Mi\n",
    "          limits:\n",
    "            cpu: 250m\n",
    "            memory: 256Mi \n",
    "        ports:\n",
    "        - containerPort: 80   # the container is listening on port 80\n",
    "```"
   ]
  },
  {
   "cell_type": "code",
   "execution_count": 2,
   "metadata": {},
   "outputs": [
    {
     "name": "stdout",
     "output_type": "stream",
     "text": [
      "apiVersion: apps/v1\n",
      "kind: ReplicaSet\n",
      "metadata:\n",
      "  name: rs-example\n",
      "spec:\n",
      "  replicas: 3\n",
      "  selector:\n",
      "    matchLabels:\n",
      "      app: nginx\n",
      "      type: front-end\n",
      "  template: \n",
      "    metadata:\n",
      "      labels:\n",
      "        app: nginx\n",
      "        type: front-end\n",
      "    spec:\n",
      "      containers:\n",
      "      - name: nginx\n",
      "        image: nginx:alpine\n",
      "        resources:\n",
      "          requests:\n",
      "            cpu: 100m\n",
      "            memory: 128Mi\n",
      "          limits:\n",
      "            cpu: 250m\n",
      "            memory: 256Mi \n",
      "        ports:\n",
      "        - containerPort: 80"
     ]
    }
   ],
   "source": [
    "#!cat manifests/rs-example.yaml # use this in Windows\n",
    "!cat manifests/rs-example.yaml"
   ]
  },
  {
   "cell_type": "markdown",
   "metadata": {},
   "source": [
    "## List Pods\n",
    "\n",
    "- Notice the name of each Pod replica consists of the ReplicaSet name `rs-example` and a randomly generated suffix."
   ]
  },
  {
   "cell_type": "code",
   "execution_count": 3,
   "metadata": {},
   "outputs": [
    {
     "name": "stdout",
     "output_type": "stream",
     "text": [
      "NAME               READY   STATUS    RESTARTS   AGE   IP            NODE           NOMINATED NODE   READINESS GATES\n",
      "rs-example-6kkgg   1/1     Running   0          17s   10.244.0.8    minikube       <none>           <none>\n",
      "rs-example-lfckg   1/1     Running   0          17s   10.244.1.18   minikube-m02   <none>           <none>\n",
      "rs-example-vrgjv   1/1     Running   0          18s   10.244.2.17   minikube-m03   <none>           <none>\n"
     ]
    }
   ],
   "source": [
    "#!kubectl get po -o wide\n",
    "!kubectl get pods -o wide"
   ]
  },
  {
   "cell_type": "markdown",
   "metadata": {},
   "source": [
    "## List ReplicaSets\n",
    "\n",
    "- Notice the current number of replicas is the same as the desired number of replicas (and they are all ready)."
   ]
  },
  {
   "cell_type": "code",
   "execution_count": 4,
   "metadata": {},
   "outputs": [
    {
     "name": "stdout",
     "output_type": "stream",
     "text": [
      "NAME         DESIRED   CURRENT   READY   AGE   CONTAINERS   IMAGES         SELECTOR\n",
      "rs-example   3         3         3       27s   nginx        nginx:alpine   app=nginx,type=front-end\n"
     ]
    }
   ],
   "source": [
    "#!kubectl get rs -o wide\n",
    "!kubectl get replicasets -o wide"
   ]
  },
  {
   "cell_type": "markdown",
   "metadata": {},
   "source": [
    "## Describe the ReplicaSet (detailed info.)\n",
    "\n",
    "- Notice the `Pods Status` tells us 3 Pod replicas are running."
   ]
  },
  {
   "cell_type": "code",
   "execution_count": 5,
   "metadata": {},
   "outputs": [
    {
     "name": "stdout",
     "output_type": "stream",
     "text": [
      "Name:         rs-example\n",
      "Namespace:    default\n",
      "Selector:     app=nginx,type=front-end\n",
      "Labels:       <none>\n",
      "Annotations:  <none>\n",
      "Replicas:     3 current / 3 desired\n",
      "Pods Status:  3 Running / 0 Waiting / 0 Succeeded / 0 Failed\n",
      "Pod Template:\n",
      "  Labels:  app=nginx\n",
      "           type=front-end\n",
      "  Containers:\n",
      "   nginx:\n",
      "    Image:      nginx:alpine\n",
      "    Port:       80/TCP\n",
      "    Host Port:  0/TCP\n",
      "    Limits:\n",
      "      cpu:     250m\n",
      "      memory:  256Mi\n",
      "    Requests:\n",
      "      cpu:        100m\n",
      "      memory:     128Mi\n",
      "    Environment:  <none>\n",
      "    Mounts:       <none>\n",
      "  Volumes:        <none>\n",
      "Events:\n",
      "  Type    Reason            Age   From                   Message\n",
      "  ----    ------            ----  ----                   -------\n",
      "  Normal  SuccessfulCreate  32s   replicaset-controller  Created pod: rs-example-vrgjv\n",
      "  Normal  SuccessfulCreate  32s   replicaset-controller  Created pod: rs-example-lfckg\n",
      "  Normal  SuccessfulCreate  32s   replicaset-controller  Created pod: rs-example-6kkgg\n"
     ]
    }
   ],
   "source": [
    "#!kubectl describe rs rs-example\n",
    "!kubectl describe replicaset rs-example"
   ]
  },
  {
   "cell_type": "markdown",
   "metadata": {},
   "source": [
    "## Delete the ReplicaSet"
   ]
  },
  {
   "cell_type": "code",
   "execution_count": 6,
   "metadata": {},
   "outputs": [
    {
     "name": "stdout",
     "output_type": "stream",
     "text": [
      "replicaset.apps \"rs-example\" deleted\n"
     ]
    }
   ],
   "source": [
    "!kubectl delete -f manifests/rs-example.yaml"
   ]
  },
  {
   "cell_type": "markdown",
   "metadata": {},
   "source": [
    "## List ReplicaSets and Pods\n",
    "\n",
    "- We see the ReplicaSet and Pods have been deleted."
   ]
  },
  {
   "cell_type": "code",
   "execution_count": 7,
   "metadata": {},
   "outputs": [
    {
     "name": "stdout",
     "output_type": "stream",
     "text": [
      "No resources found in default namespace.\n",
      "No resources found in default namespace.\n"
     ]
    }
   ],
   "source": [
    "#!kubectl get rs\n",
    "#!kubectl get po\n",
    "!kubectl get replicasets\n",
    "!kubectl get pods"
   ]
  },
  {
   "cell_type": "code",
   "execution_count": null,
   "metadata": {},
   "outputs": [],
   "source": []
  }
 ],
 "metadata": {
  "kernelspec": {
   "display_name": "Python 3",
   "language": "python",
   "name": "python3"
  },
  "language_info": {
   "codemirror_mode": {
    "name": "ipython",
    "version": 3
   },
   "file_extension": ".py",
   "mimetype": "text/x-python",
   "name": "python",
   "nbconvert_exporter": "python",
   "pygments_lexer": "ipython3",
   "version": "3.10.13"
  }
 },
 "nbformat": 4,
 "nbformat_minor": 2
}
