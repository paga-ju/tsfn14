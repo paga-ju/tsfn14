{
 "cells": [
  {
   "cell_type": "markdown",
   "metadata": {},
   "source": [
    "## Ensure a Minikube cluster is running\n",
    "\n",
    "- If you created a Minikube cluster with the command `minikube start --nodes 3` and it is still running:\n",
    "  - Do nothing\n",
    "- If you have a stopped (not deleted) Minikube cluster that was created with the command `minikube start --nodes 3`:\n",
    "  - Run the command `minikube start`\n",
    "- If you don't have a Minikube cluster (or deleted your previous one):\n",
    "  - Run the command `minikube start --nodes 3`  "
   ]
  },
  {
   "cell_type": "markdown",
   "metadata": {},
   "source": [
    "## Create a Deployment\n",
    "\n",
    "- The Deployment definition is in the YAML file `manifests/deploy-example.yaml`"
   ]
  },
  {
   "cell_type": "code",
   "execution_count": 1,
   "metadata": {},
   "outputs": [
    {
     "name": "stdout",
     "output_type": "stream",
     "text": [
      "deployment.apps/deploy-example created\n"
     ]
    }
   ],
   "source": [
    "!kubectl apply -f manifests/deploy-example.yaml"
   ]
  },
  {
   "cell_type": "markdown",
   "metadata": {},
   "source": [
    "## Let's look at the Deployment's YAML\n",
    "\n",
    "**Note:**\n",
    "\n",
    "- The number of `replicas` is set to 3.\n",
    "- The Pod template's container is listening on `containerPort` 80.\n",
    "- The Pod template's `labels` are `app: nginx` and `type: prod`\n",
    "  - The Deployment's `matchLabels` match these labels\n",
    "    - Therefore, the Deployment will create 3 replicas from the Pod template.\n",
    "\n",
    "```bash\n",
    "apiVersion: apps/v1\n",
    "kind: Deployment\n",
    "metadata:\n",
    "  name: deploy-example           # the deployment's name is deploy-example\n",
    "spec:\n",
    "  replicas: 3                    # the deployment defines three replicas\n",
    "  revisionHistoryLimit: 3        # the deployment defines a maximum of three revisions in the history list\n",
    "  selector:\n",
    "    matchLabels:\n",
    "      app: nginx                 # the deployment has two matchLabels that match the Pod template's labels below\n",
    "      type: prod                 # app = nginx and type = prod\n",
    "  template:\n",
    "    metadata:\n",
    "      name: myapp-pod\n",
    "      labels:\n",
    "        app: nginx               # the Pod template has two labels defined:\n",
    "        type: prod               # app = nginx and type = prod\n",
    "    spec:\n",
    "      containers:\n",
    "      - name: nginx-container    # the container's name is nginx-container\n",
    "        image: nginx-container   # the container is based on the nginx:alpine image\n",
    "        resources:\n",
    "          requests:\n",
    "            cpu: 100m\n",
    "            memory: 128Mi\n",
    "          limits:\n",
    "            cpu: 250m\n",
    "            memory: 256Mi    \n",
    "        ports:\n",
    "        - containerPort: 80      # the Pod template's container is listening on containerPort 80\n",
    "```"
   ]
  },
  {
   "cell_type": "code",
   "execution_count": 2,
   "metadata": {},
   "outputs": [
    {
     "name": "stdout",
     "output_type": "stream",
     "text": [
      "apiVersion: apps/v1\n",
      "kind: Deployment\n",
      "metadata:\n",
      "  name: deploy-example\n",
      "spec:\n",
      "  replicas: 3\n",
      "  revisionHistoryLimit: 3\n",
      "  selector:\n",
      "    matchLabels:\n",
      "      app: nginx\n",
      "      env: prod\n",
      "  template:\n",
      "    metadata:\n",
      "      labels:\n",
      "        app: nginx\n",
      "        env: prod\n",
      "    spec:\n",
      "      containers:\n",
      "      - name: nginx\n",
      "        image: nginx:alpine\n",
      "        resources:\n",
      "          requests:\n",
      "            cpu: 100m\n",
      "            memory: 128Mi\n",
      "          limits:\n",
      "            cpu: 250m\n",
      "            memory: 256Mi        \n",
      "        ports:\n",
      "        - containerPort: 80"
     ]
    }
   ],
   "source": [
    "#!type manifests/deploy-example.yaml # use this in Windows\n",
    "!cat manifests/deploy-example.yaml"
   ]
  },
  {
   "cell_type": "markdown",
   "metadata": {},
   "source": [
    "## List Deployments"
   ]
  },
  {
   "cell_type": "code",
   "execution_count": 3,
   "metadata": {},
   "outputs": [
    {
     "name": "stdout",
     "output_type": "stream",
     "text": [
      "NAME             READY   UP-TO-DATE   AVAILABLE   AGE   CONTAINERS   IMAGES         SELECTOR\n",
      "deploy-example   3/3     3            3           6s    nginx        nginx:alpine   app=nginx,env=prod\n"
     ]
    }
   ],
   "source": [
    "#!kubectl get deploy -o wide\n",
    "!kubectl get deployments -o wide"
   ]
  },
  {
   "cell_type": "markdown",
   "metadata": {},
   "source": [
    "## Get detailed info. about the Deployment\n",
    "\n",
    "- Notice `Replicas` tells us there are 3 desired, 3 updated, 3 total and 3 available Pod replicas."
   ]
  },
  {
   "cell_type": "code",
   "execution_count": 4,
   "metadata": {},
   "outputs": [
    {
     "name": "stdout",
     "output_type": "stream",
     "text": [
      "Name:                   deploy-example\n",
      "Namespace:              default\n",
      "CreationTimestamp:      Thu, 08 Feb 2024 03:57:47 +0100\n",
      "Labels:                 <none>\n",
      "Annotations:            deployment.kubernetes.io/revision: 1\n",
      "Selector:               app=nginx,env=prod\n",
      "Replicas:               3 desired | 3 updated | 3 total | 3 available | 0 unavailable\n",
      "StrategyType:           RollingUpdate\n",
      "MinReadySeconds:        0\n",
      "RollingUpdateStrategy:  25% max unavailable, 25% max surge\n",
      "Pod Template:\n",
      "  Labels:  app=nginx\n",
      "           env=prod\n",
      "  Containers:\n",
      "   nginx:\n",
      "    Image:      nginx:alpine\n",
      "    Port:       80/TCP\n",
      "    Host Port:  0/TCP\n",
      "    Limits:\n",
      "      cpu:     250m\n",
      "      memory:  256Mi\n",
      "    Requests:\n",
      "      cpu:        100m\n",
      "      memory:     128Mi\n",
      "    Environment:  <none>\n",
      "    Mounts:       <none>\n",
      "  Volumes:        <none>\n",
      "Conditions:\n",
      "  Type           Status  Reason\n",
      "  ----           ------  ------\n",
      "  Available      True    MinimumReplicasAvailable\n",
      "  Progressing    True    NewReplicaSetAvailable\n",
      "OldReplicaSets:  <none>\n",
      "NewReplicaSet:   deploy-example-7b944585d7 (3/3 replicas created)\n",
      "Events:\n",
      "  Type    Reason             Age   From                   Message\n",
      "  ----    ------             ----  ----                   -------\n",
      "  Normal  ScalingReplicaSet  8s    deployment-controller  Scaled up replica set deploy-example-7b944585d7 to 3\n"
     ]
    }
   ],
   "source": [
    "#!kubectl describe deploy deploy-example\n",
    "!kubectl describe deployment deploy-example"
   ]
  },
  {
   "cell_type": "markdown",
   "metadata": {},
   "source": [
    "## List ReplicaSets\n",
    "\n",
    "- Notice the name of the ReplicaSet consists of the Deployment name `deploy-example` and a randomly generated suffix."
   ]
  },
  {
   "cell_type": "code",
   "execution_count": 5,
   "metadata": {},
   "outputs": [
    {
     "name": "stdout",
     "output_type": "stream",
     "text": [
      "NAME                        DESIRED   CURRENT   READY   AGE   CONTAINERS   IMAGES         SELECTOR\n",
      "deploy-example-7b944585d7   3         3         3       11s   nginx        nginx:alpine   app=nginx,env=prod,pod-template-hash=7b944585d7\n"
     ]
    }
   ],
   "source": [
    "#!kubectl get rs -o wide\n",
    "!kubectl get replicasets -o wide"
   ]
  },
  {
   "cell_type": "markdown",
   "metadata": {},
   "source": [
    "## Get detailed info. about all ReplicaSets\n",
    "\n",
    "- Notice that we get detailed information about all ReplicaSets if we don't explicitly specify a replicaset."
   ]
  },
  {
   "cell_type": "code",
   "execution_count": 6,
   "metadata": {},
   "outputs": [
    {
     "name": "stdout",
     "output_type": "stream",
     "text": [
      "Name:           deploy-example-7b944585d7\n",
      "Namespace:      default\n",
      "Selector:       app=nginx,env=prod,pod-template-hash=7b944585d7\n",
      "Labels:         app=nginx\n",
      "                env=prod\n",
      "                pod-template-hash=7b944585d7\n",
      "Annotations:    deployment.kubernetes.io/desired-replicas: 3\n",
      "                deployment.kubernetes.io/max-replicas: 4\n",
      "                deployment.kubernetes.io/revision: 1\n",
      "Controlled By:  Deployment/deploy-example\n",
      "Replicas:       3 current / 3 desired\n",
      "Pods Status:    3 Running / 0 Waiting / 0 Succeeded / 0 Failed\n",
      "Pod Template:\n",
      "  Labels:  app=nginx\n",
      "           env=prod\n",
      "           pod-template-hash=7b944585d7\n",
      "  Containers:\n",
      "   nginx:\n",
      "    Image:      nginx:alpine\n",
      "    Port:       80/TCP\n",
      "    Host Port:  0/TCP\n",
      "    Limits:\n",
      "      cpu:     250m\n",
      "      memory:  256Mi\n",
      "    Requests:\n",
      "      cpu:        100m\n",
      "      memory:     128Mi\n",
      "    Environment:  <none>\n",
      "    Mounts:       <none>\n",
      "  Volumes:        <none>\n",
      "Events:\n",
      "  Type    Reason            Age   From                   Message\n",
      "  ----    ------            ----  ----                   -------\n",
      "  Normal  SuccessfulCreate  13s   replicaset-controller  Created pod: deploy-example-7b944585d7-549hh\n",
      "  Normal  SuccessfulCreate  13s   replicaset-controller  Created pod: deploy-example-7b944585d7-8t5cb\n",
      "  Normal  SuccessfulCreate  13s   replicaset-controller  Created pod: deploy-example-7b944585d7-lbx6l\n"
     ]
    }
   ],
   "source": [
    "#!kubectl describe rs\n",
    "!kubectl describe replicasets"
   ]
  },
  {
   "cell_type": "markdown",
   "metadata": {},
   "source": [
    "## List Pods\n",
    "\n",
    "- Notice the name of the Pods consists of:\n",
    "  - The Deployment name `deploy-example`\n",
    "  - Followed by the ReplicaSet suffix\n",
    "  - And finally a randomly generated suffix."
   ]
  },
  {
   "cell_type": "code",
   "execution_count": 7,
   "metadata": {},
   "outputs": [
    {
     "name": "stdout",
     "output_type": "stream",
     "text": [
      "NAME                              READY   STATUS    RESTARTS   AGE   IP            NODE           NOMINATED NODE   READINESS GATES\n",
      "deploy-example-7b944585d7-549hh   1/1     Running   0          16s   10.244.2.22   minikube-m03   <none>           <none>\n",
      "deploy-example-7b944585d7-8t5cb   1/1     Running   0          16s   10.244.1.23   minikube-m02   <none>           <none>\n",
      "deploy-example-7b944585d7-lbx6l   1/1     Running   0          16s   10.244.0.13   minikube       <none>           <none>\n"
     ]
    }
   ],
   "source": [
    "#!kubectl get po -o wide\n",
    "!kubectl get pods -o wide"
   ]
  },
  {
   "cell_type": "markdown",
   "metadata": {},
   "source": [
    "## Get detailed info. about the Pods\n",
    "\n",
    "- Notice the name of the deployment is used here, so all three pods are described."
   ]
  },
  {
   "cell_type": "code",
   "execution_count": 8,
   "metadata": {},
   "outputs": [
    {
     "name": "stdout",
     "output_type": "stream",
     "text": [
      "Name:             deploy-example-7b944585d7-549hh\n",
      "Namespace:        default\n",
      "Priority:         0\n",
      "Service Account:  default\n",
      "Node:             minikube-m03/192.168.49.4\n",
      "Start Time:       Thu, 08 Feb 2024 03:57:47 +0100\n",
      "Labels:           app=nginx\n",
      "                  env=prod\n",
      "                  pod-template-hash=7b944585d7\n",
      "Annotations:      <none>\n",
      "Status:           Running\n",
      "IP:               10.244.2.22\n",
      "IPs:\n",
      "  IP:           10.244.2.22\n",
      "Controlled By:  ReplicaSet/deploy-example-7b944585d7\n",
      "Containers:\n",
      "  nginx:\n",
      "    Container ID:   docker://4cd6bd691a548f560865c503bfdc3d4f278302d9a921d4d3a90ce809fd961202\n",
      "    Image:          nginx:alpine\n",
      "    Image ID:       docker-pullable://nginx@sha256:f2802c2a9d09c7aa3ace27445dfc5656ff24355da28e7b958074a0111e3fc076\n",
      "    Port:           80/TCP\n",
      "    Host Port:      0/TCP\n",
      "    State:          Running\n",
      "      Started:      Thu, 08 Feb 2024 03:57:47 +0100\n",
      "    Ready:          True\n",
      "    Restart Count:  0\n",
      "    Limits:\n",
      "      cpu:     250m\n",
      "      memory:  256Mi\n",
      "    Requests:\n",
      "      cpu:        100m\n",
      "      memory:     128Mi\n",
      "    Environment:  <none>\n",
      "    Mounts:\n",
      "      /var/run/secrets/kubernetes.io/serviceaccount from kube-api-access-fwf59 (ro)\n",
      "Conditions:\n",
      "  Type              Status\n",
      "  Initialized       True \n",
      "  Ready             True \n",
      "  ContainersReady   True \n",
      "  PodScheduled      True \n",
      "Volumes:\n",
      "  kube-api-access-fwf59:\n",
      "    Type:                    Projected (a volume that contains injected data from multiple sources)\n",
      "    TokenExpirationSeconds:  3607\n",
      "    ConfigMapName:           kube-root-ca.crt\n",
      "    ConfigMapOptional:       <nil>\n",
      "    DownwardAPI:             true\n",
      "QoS Class:                   Burstable\n",
      "Node-Selectors:              <none>\n",
      "Tolerations:                 node.kubernetes.io/not-ready:NoExecute op=Exists for 300s\n",
      "                             node.kubernetes.io/unreachable:NoExecute op=Exists for 300s\n",
      "Events:\n",
      "  Type    Reason     Age   From               Message\n",
      "  ----    ------     ----  ----               -------\n",
      "  Normal  Scheduled  19s   default-scheduler  Successfully assigned default/deploy-example-7b944585d7-549hh to minikube-m03\n",
      "  Normal  Pulled     19s   kubelet            Container image \"nginx:alpine\" already present on machine\n",
      "  Normal  Created    19s   kubelet            Created container nginx\n",
      "  Normal  Started    19s   kubelet            Started container nginx\n",
      "\n",
      "Name:             deploy-example-7b944585d7-8t5cb\n",
      "Namespace:        default\n",
      "Priority:         0\n",
      "Service Account:  default\n",
      "Node:             minikube-m02/192.168.49.3\n",
      "Start Time:       Thu, 08 Feb 2024 03:57:47 +0100\n",
      "Labels:           app=nginx\n",
      "                  env=prod\n",
      "                  pod-template-hash=7b944585d7\n",
      "Annotations:      <none>\n",
      "Status:           Running\n",
      "IP:               10.244.1.23\n",
      "IPs:\n",
      "  IP:           10.244.1.23\n",
      "Controlled By:  ReplicaSet/deploy-example-7b944585d7\n",
      "Containers:\n",
      "  nginx:\n",
      "    Container ID:   docker://c49dc0bcb1a6556b4c28ab62ca791e26f00bfee06fd5c5e68fca12b6ec3071d7\n",
      "    Image:          nginx:alpine\n",
      "    Image ID:       docker-pullable://nginx@sha256:f2802c2a9d09c7aa3ace27445dfc5656ff24355da28e7b958074a0111e3fc076\n",
      "    Port:           80/TCP\n",
      "    Host Port:      0/TCP\n",
      "    State:          Running\n",
      "      Started:      Thu, 08 Feb 2024 03:57:47 +0100\n",
      "    Ready:          True\n",
      "    Restart Count:  0\n",
      "    Limits:\n",
      "      cpu:     250m\n",
      "      memory:  256Mi\n",
      "    Requests:\n",
      "      cpu:        100m\n",
      "      memory:     128Mi\n",
      "    Environment:  <none>\n",
      "    Mounts:\n",
      "      /var/run/secrets/kubernetes.io/serviceaccount from kube-api-access-gbb4j (ro)\n",
      "Conditions:\n",
      "  Type              Status\n",
      "  Initialized       True \n",
      "  Ready             True \n",
      "  ContainersReady   True \n",
      "  PodScheduled      True \n",
      "Volumes:\n",
      "  kube-api-access-gbb4j:\n",
      "    Type:                    Projected (a volume that contains injected data from multiple sources)\n",
      "    TokenExpirationSeconds:  3607\n",
      "    ConfigMapName:           kube-root-ca.crt\n",
      "    ConfigMapOptional:       <nil>\n",
      "    DownwardAPI:             true\n",
      "QoS Class:                   Burstable\n",
      "Node-Selectors:              <none>\n",
      "Tolerations:                 node.kubernetes.io/not-ready:NoExecute op=Exists for 300s\n",
      "                             node.kubernetes.io/unreachable:NoExecute op=Exists for 300s\n",
      "Events:\n",
      "  Type    Reason     Age   From               Message\n",
      "  ----    ------     ----  ----               -------\n",
      "  Normal  Scheduled  19s   default-scheduler  Successfully assigned default/deploy-example-7b944585d7-8t5cb to minikube-m02\n",
      "  Normal  Pulled     19s   kubelet            Container image \"nginx:alpine\" already present on machine\n",
      "  Normal  Created    19s   kubelet            Created container nginx\n",
      "  Normal  Started    19s   kubelet            Started container nginx\n",
      "\n",
      "Name:             deploy-example-7b944585d7-lbx6l\n",
      "Namespace:        default\n",
      "Priority:         0\n",
      "Service Account:  default\n",
      "Node:             minikube/192.168.49.2\n",
      "Start Time:       Thu, 08 Feb 2024 03:57:47 +0100\n",
      "Labels:           app=nginx\n",
      "                  env=prod\n",
      "                  pod-template-hash=7b944585d7\n",
      "Annotations:      <none>\n",
      "Status:           Running\n",
      "IP:               10.244.0.13\n",
      "IPs:\n",
      "  IP:           10.244.0.13\n",
      "Controlled By:  ReplicaSet/deploy-example-7b944585d7\n",
      "Containers:\n",
      "  nginx:\n",
      "    Container ID:   docker://516682881a4019178602d9a3fc87933805a4aef7bd2658ed5b24fae674ea164a\n",
      "    Image:          nginx:alpine\n",
      "    Image ID:       docker-pullable://nginx@sha256:f2802c2a9d09c7aa3ace27445dfc5656ff24355da28e7b958074a0111e3fc076\n",
      "    Port:           80/TCP\n",
      "    Host Port:      0/TCP\n",
      "    State:          Running\n",
      "      Started:      Thu, 08 Feb 2024 03:57:47 +0100\n",
      "    Ready:          True\n",
      "    Restart Count:  0\n",
      "    Limits:\n",
      "      cpu:     250m\n",
      "      memory:  256Mi\n",
      "    Requests:\n",
      "      cpu:        100m\n",
      "      memory:     128Mi\n",
      "    Environment:  <none>\n",
      "    Mounts:\n",
      "      /var/run/secrets/kubernetes.io/serviceaccount from kube-api-access-nvb5p (ro)\n",
      "Conditions:\n",
      "  Type              Status\n",
      "  Initialized       True \n",
      "  Ready             True \n",
      "  ContainersReady   True \n",
      "  PodScheduled      True \n",
      "Volumes:\n",
      "  kube-api-access-nvb5p:\n",
      "    Type:                    Projected (a volume that contains injected data from multiple sources)\n",
      "    TokenExpirationSeconds:  3607\n",
      "    ConfigMapName:           kube-root-ca.crt\n",
      "    ConfigMapOptional:       <nil>\n",
      "    DownwardAPI:             true\n",
      "QoS Class:                   Burstable\n",
      "Node-Selectors:              <none>\n",
      "Tolerations:                 node.kubernetes.io/not-ready:NoExecute op=Exists for 300s\n",
      "                             node.kubernetes.io/unreachable:NoExecute op=Exists for 300s\n",
      "Events:\n",
      "  Type    Reason     Age   From               Message\n",
      "  ----    ------     ----  ----               -------\n",
      "  Normal  Scheduled  19s   default-scheduler  Successfully assigned default/deploy-example-7b944585d7-lbx6l to minikube\n",
      "  Normal  Pulled     19s   kubelet            Container image \"nginx:alpine\" already present on machine\n",
      "  Normal  Created    19s   kubelet            Created container nginx\n",
      "  Normal  Started    19s   kubelet            Started container nginx\n",
      "\n"
     ]
    }
   ],
   "source": [
    "#!kubectl describe po deploy-example\n",
    "!kubectl describe pod deploy-example"
   ]
  },
  {
   "cell_type": "markdown",
   "metadata": {},
   "source": [
    "## Delete the Deployment"
   ]
  },
  {
   "cell_type": "code",
   "execution_count": 9,
   "metadata": {},
   "outputs": [
    {
     "name": "stdout",
     "output_type": "stream",
     "text": [
      "deployment.apps \"deploy-example\" deleted\n"
     ]
    }
   ],
   "source": [
    "!kubectl delete -f manifests/deploy-example.yaml"
   ]
  },
  {
   "cell_type": "markdown",
   "metadata": {},
   "source": [
    "## List Deployments, ReplicaSets and Pods\n",
    "\n",
    "- Notice that deleting the Deployment also deleted the ReplicaSet and the Pods defined in the Deployment."
   ]
  },
  {
   "cell_type": "code",
   "execution_count": 10,
   "metadata": {},
   "outputs": [
    {
     "name": "stdout",
     "output_type": "stream",
     "text": [
      "No resources found in default namespace.\n",
      "No resources found in default namespace.\n",
      "No resources found in default namespace.\n"
     ]
    }
   ],
   "source": [
    "!kubectl get deploy\n",
    "!kubectl get rs\n",
    "!kubectl get po\n",
    "#!kubectl get deployments\n",
    "#!kubectl get replicasets\n",
    "#!kubectl get pods"
   ]
  },
  {
   "cell_type": "code",
   "execution_count": null,
   "metadata": {},
   "outputs": [],
   "source": []
  }
 ],
 "metadata": {
  "kernelspec": {
   "display_name": "Python 3",
   "language": "python",
   "name": "python3"
  },
  "language_info": {
   "codemirror_mode": {
    "name": "ipython",
    "version": 3
   },
   "file_extension": ".py",
   "mimetype": "text/x-python",
   "name": "python",
   "nbconvert_exporter": "python",
   "pygments_lexer": "ipython3",
   "version": "3.10.13"
  }
 },
 "nbformat": 4,
 "nbformat_minor": 2
}
