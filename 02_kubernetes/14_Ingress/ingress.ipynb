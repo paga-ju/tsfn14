{
 "cells": [
  {
   "cell_type": "markdown",
   "metadata": {},
   "source": [
    "## Ensure a Minikube cluster is running\n",
    "\n",
    "- If you created a Minikube cluster with the command `minikube start --nodes 3` and it is still running:\n",
    "  - Do nothing\n",
    "- If you have a stopped (not deleted) Minikube cluster that was created with the command `minikube start --nodes 3`:\n",
    "  - Run the command `minikube start`\n",
    "- If you don't have a Minikube cluster (or deleted your previous one):\n",
    "  - Run the command `minikube start --nodes 3`  "
   ]
  },
  {
   "cell_type": "markdown",
   "metadata": {},
   "source": [
    "## Enable the Ingress addon"
   ]
  },
  {
   "cell_type": "code",
   "execution_count": 1,
   "metadata": {},
   "outputs": [
    {
     "name": "stdout",
     "output_type": "stream",
     "text": [
      "💡  ingress is an addon maintained by Kubernetes. For any concerns contact minikube on GitHub.\n",
      "You can view the list of minikube maintainers at: https://github.com/kubernetes/minikube/blob/master/OWNERS\n",
      "    ▪ Using image registry.k8s.io/ingress-nginx/kube-webhook-certgen:v20231011-8b53cabe0\n",
      "    ▪ Using image registry.k8s.io/ingress-nginx/kube-webhook-certgen:v20231011-8b53cabe0\n",
      "    ▪ Using image registry.k8s.io/ingress-nginx/controller:v1.9.4\n",
      "🔎  Verifying ingress addon...\n",
      "🌟  The 'ingress' addon is enabled\n"
     ]
    }
   ],
   "source": [
    "!minikube addons enable ingress"
   ]
  },
  {
   "cell_type": "markdown",
   "metadata": {},
   "source": [
    "## Deploy two Delopyments\n",
    "\n",
    "- The first deployment:\n",
    "  - Is called `web` and has `replicas` set to 1.\n",
    "  - Has a Pod template with a container:\n",
    "    - Listening on `containerPort` 8080\n",
    "    - Based on the image `gcr.io/google-samples/hello-app:1.0`.\n",
    "  - The image hosts a web server with a default web page that returns:\n",
    "    - `Hello, World!`\n",
    "    - `Version: 1.0.0`\n",
    "- The second deployment:\n",
    "  - Is called `web2` and has `replicas` set to 1.\n",
    "  - Has a Pod template with a container:\n",
    "    - Listening on `containerPort` 8080\n",
    "    - Based on the image `gcr.io/google-samples/hello-app:2.0`.\n",
    "  - The image hosts a web server with a default web page that returns:\n",
    "    - `Hello, World!`\n",
    "    - `Version: 2.0.0`\n",
    "- Both images are pulled from Google's container registry `gcr.io`."
   ]
  },
  {
   "cell_type": "code",
   "execution_count": 2,
   "metadata": {},
   "outputs": [
    {
     "name": "stdout",
     "output_type": "stream",
     "text": [
      "deployment.apps/web created\n",
      "deployment.apps/web2 created\n"
     ]
    }
   ],
   "source": [
    "!kubectl create deployment web --image=gcr.io/google-samples/hello-app:1.0\n",
    "!kubectl create deployment web2 --image=gcr.io/google-samples/hello-app:2.0"
   ]
  },
  {
   "cell_type": "markdown",
   "metadata": {},
   "source": [
    "## List Deployments\n",
    "\n",
    "- We see both Deployments running.\n",
    "  - The `web` Deployment is using image `gcr.io/google-samples/hello-app:1.0`.\n",
    "  - The `web2` Deployment is using image `gcr.io/google-samples/hello-app:2.0`."
   ]
  },
  {
   "cell_type": "code",
   "execution_count": 3,
   "metadata": {},
   "outputs": [
    {
     "name": "stdout",
     "output_type": "stream",
     "text": [
      "NAME   READY   UP-TO-DATE   AVAILABLE   AGE   CONTAINERS   IMAGES                                SELECTOR\n",
      "web    1/1     1            1           10s   hello-app    gcr.io/google-samples/hello-app:1.0   app=web\n",
      "web2   1/1     1            1           10s   hello-app    gcr.io/google-samples/hello-app:2.0   app=web2\n"
     ]
    }
   ],
   "source": [
    "#!kubectl get deploy -o wide\n",
    "!kubectl get deployments -o wide"
   ]
  },
  {
   "cell_type": "markdown",
   "metadata": {},
   "source": [
    "## Get Pods\n",
    "\n",
    "- We see that two Pods are running."
   ]
  },
  {
   "cell_type": "code",
   "execution_count": 4,
   "metadata": {},
   "outputs": [
    {
     "name": "stdout",
     "output_type": "stream",
     "text": [
      "NAME                    READY   STATUS    RESTARTS   AGE   IP            NODE           NOMINATED NODE   READINESS GATES\n",
      "web-57f46db77f-w8gmc    1/1     Running   0          33s   10.244.2.9    minikube-m03   <none>           <none>\n",
      "web2-866dc4bcc8-lfdt2   1/1     Running   0          33s   10.244.1.11   minikube-m02   <none>           <none>\n"
     ]
    }
   ],
   "source": [
    "#!kubectl get po -o wide\n",
    "!kubectl get pods -o wide"
   ]
  },
  {
   "cell_type": "markdown",
   "metadata": {},
   "source": [
    "## Deploy a ClusterIP Service for each Deployment\n",
    "\n",
    "- Each Service:\n",
    "  - Is of type `ClusterIP`.\n",
    "  - Listens on `port` 8080.\n",
    "  - Redirects traffic to `targetPort` 8080."
   ]
  },
  {
   "cell_type": "code",
   "execution_count": 5,
   "metadata": {},
   "outputs": [
    {
     "name": "stdout",
     "output_type": "stream",
     "text": [
      "service/web exposed\n",
      "service/web2 exposed\n"
     ]
    }
   ],
   "source": [
    "!kubectl expose deployment web --type ClusterIP --port 8080 --target-port 8080\n",
    "!kubectl expose deployment web2 --type ClusterIP --port 8080 --target-port 8080"
   ]
  },
  {
   "cell_type": "markdown",
   "metadata": {},
   "source": [
    "## List Services\n",
    "\n",
    "- We see the two `ClusterIP` Services for `web` and `web2`."
   ]
  },
  {
   "cell_type": "code",
   "execution_count": 6,
   "metadata": {},
   "outputs": [
    {
     "name": "stdout",
     "output_type": "stream",
     "text": [
      "NAME         TYPE        CLUSTER-IP      EXTERNAL-IP   PORT(S)    AGE   SELECTOR\n",
      "kubernetes   ClusterIP   10.96.0.1       <none>        443/TCP    11h   <none>\n",
      "web          ClusterIP   10.99.20.12     <none>        8080/TCP   5s    app=web\n",
      "web2         ClusterIP   10.105.160.27   <none>        8080/TCP   5s    app=web2\n"
     ]
    }
   ],
   "source": [
    "#!kubectl get svc -o wide\n",
    "!kubectl get services -o wide"
   ]
  },
  {
   "cell_type": "markdown",
   "metadata": {},
   "source": [
    "## Deploy an Ingress\n",
    "\n",
    "- The Ingress' definition is in the YAML file `manifests/ingress.yaml`."
   ]
  },
  {
   "cell_type": "code",
   "execution_count": 7,
   "metadata": {},
   "outputs": [
    {
     "name": "stdout",
     "output_type": "stream",
     "text": [
      "ingress.networking.k8s.io/example-ingress created\n"
     ]
    }
   ],
   "source": [
    "!kubectl apply -f manifests/ingress.yaml"
   ]
  },
  {
   "cell_type": "markdown",
   "metadata": {},
   "source": [
    "## Let's look at the Ingress' YAML\n",
    "\n",
    "```bash\n",
    "apiVersion: networking.k8s.io/v1\n",
    "kind: Ingress\n",
    "metadata:\n",
    "  name: example-ingress                               # the ingress' name\n",
    "  annotations:\n",
    "    nginx.ingress.kubernetes.io/rewrite-target: /$1   # this rewrites the target so that it is prefixed with a slash /\n",
    "spec:\n",
    "  rules:\n",
    "  - host: hello-world.info   # the host determines which domain the ingress triggers on (\"Host\" in the request header)\n",
    "    http:\n",
    "      paths:\n",
    "\n",
    "      - path: /                # this path is taken if the URL has the default path as a prefix\n",
    "        pathType: Prefix\n",
    "        backend:\n",
    "          service:\n",
    "            name: web          # the name of the ClusterIP service to redirect to  (the \"web\" service in this case)\n",
    "            port:\n",
    "              number: 8080     # the port to redirect the traffic to (8080)\n",
    "      \n",
    "      - path: /v2                   # this path is taken if the URL has the path /v2 as a prefix\n",
    "        pathType: Prefix\n",
    "        backend:\n",
    "          service:\n",
    "            name: web2              # the name of the ClusterIP service to redirect to  (the \"web2\" service in this case)\n",
    "            port:\n",
    "              number: 8080          # the port to redirect the traffic to (8080)\n",
    "```"
   ]
  },
  {
   "cell_type": "code",
   "execution_count": 8,
   "metadata": {},
   "outputs": [
    {
     "name": "stdout",
     "output_type": "stream",
     "text": [
      "apiVersion: networking.k8s.io/v1\n",
      "kind: Ingress\n",
      "metadata:\n",
      "  name: example-ingress\n",
      "  annotations:\n",
      "    nginx.ingress.kubernetes.io/rewrite-target: /$1\n",
      "spec:\n",
      "  rules:\n",
      "  - host: hello-world.info\n",
      "    http:\n",
      "      paths:\n",
      "      - path: /\n",
      "        pathType: Prefix\n",
      "        backend:\n",
      "          service:\n",
      "            name: web\n",
      "            port:\n",
      "              number: 8080\n",
      "      - path: /v2\n",
      "        pathType: Prefix\n",
      "        backend:\n",
      "          service:\n",
      "            name: web2\n",
      "            port:\n",
      "              number: 8080"
     ]
    }
   ],
   "source": [
    "#!type manifests/ingress.yaml #use this on Windows\n",
    "!cat manifests/ingress.yaml"
   ]
  },
  {
   "cell_type": "markdown",
   "metadata": {},
   "source": [
    "## List Ingresses\n",
    "\n",
    "- We see that the Ingress triggers on\n",
    "  - Host `hello-world.info` (`HOSTS`).\n",
    "  - Port 80 (`PORTS`)."
   ]
  },
  {
   "cell_type": "code",
   "execution_count": 9,
   "metadata": {},
   "outputs": [
    {
     "name": "stdout",
     "output_type": "stream",
     "text": [
      "NAME              CLASS   HOSTS              ADDRESS   PORTS   AGE\n",
      "example-ingress   nginx   hello-world.info             80      13s\n"
     ]
    }
   ],
   "source": [
    "!kubectl get ingress"
   ]
  },
  {
   "cell_type": "markdown",
   "metadata": {},
   "source": [
    "## Access the first Application via the Ingress\n",
    "\n",
    "- The Ingres redirects the traffic to the first application if:\n",
    "  - The `Host` header is `hello-world.info`.\n",
    "  - The `path` is the deault path (`/`).\n",
    "- The first application is based on the image `gcr.io/google-samples/hello-app:1.0`."
   ]
  },
  {
   "cell_type": "code",
   "execution_count": 10,
   "metadata": {},
   "outputs": [
    {
     "name": "stdout",
     "output_type": "stream",
     "text": [
      "Hello, world!\n",
      "Version: 1.0.0\n",
      "Hostname: web-57f46db77f-w8gmc\n"
     ]
    }
   ],
   "source": [
    "#!curl --resolve \"hello-world.info:80:$( minikube ip )\" -i http://hello-world.info\n",
    "!curl -H \"Host: hello-world.info\" \"http://$( minikube ip)\""
   ]
  },
  {
   "cell_type": "markdown",
   "metadata": {},
   "source": [
    "## Access the second Application via the Ingress\n",
    "\n",
    "- The Ingres redirects the traffic to the econdsecond application if:\n",
    "  - The `Host` header is `hello-world.info`.\n",
    "  - The `path` is (`/v2`).\n",
    "- The first application is based on the image `gcr.io/google-samples/hello-app:2.0`."
   ]
  },
  {
   "cell_type": "code",
   "execution_count": 11,
   "metadata": {},
   "outputs": [
    {
     "name": "stdout",
     "output_type": "stream",
     "text": [
      "Hello, world!\n",
      "Version: 2.0.0\n",
      "Hostname: web2-866dc4bcc8-lfdt2\n"
     ]
    }
   ],
   "source": [
    "#!curl --resolve \"hello-world.info:80:$( minikube ip )\" -i http://hello-world.info/v2\n",
    "!curl -H \"Host: hello-world.info\" \"http://$( minikube ip)/v2\""
   ]
  },
  {
   "cell_type": "markdown",
   "metadata": {},
   "source": [
    "## Delete the Ingress, Services and Deployments"
   ]
  },
  {
   "cell_type": "code",
   "execution_count": 12,
   "metadata": {},
   "outputs": [
    {
     "name": "stdout",
     "output_type": "stream",
     "text": [
      "ingress.networking.k8s.io \"example-ingress\" deleted\n",
      "service \"web\" deleted\n",
      "service \"web2\" deleted\n",
      "deployment.apps \"web\" deleted\n",
      "deployment.apps \"web2\" deleted\n"
     ]
    }
   ],
   "source": [
    "!kubectl delete -f manifests/ingress.yaml\n",
    "!kubectl delete service web\n",
    "!kubectl delete service web2\n",
    "!kubectl delete deployment web\n",
    "!kubectl delete deployment web2"
   ]
  },
  {
   "cell_type": "markdown",
   "metadata": {},
   "source": [
    "## List Ingresses, Services, Deployments and Pods\n",
    "\n",
    "- We see that the Ingress, ClusterIP Services and Deployments with associated Pods have been deleted."
   ]
  },
  {
   "cell_type": "code",
   "execution_count": 13,
   "metadata": {},
   "outputs": [
    {
     "name": "stdout",
     "output_type": "stream",
     "text": [
      "No resources found in default namespace.\n",
      "NAME         TYPE        CLUSTER-IP   EXTERNAL-IP   PORT(S)   AGE\n",
      "kubernetes   ClusterIP   10.96.0.1    <none>        443/TCP   11h\n",
      "No resources found in default namespace.\n",
      "No resources found in default namespace.\n"
     ]
    }
   ],
   "source": [
    "!kubectl get ingress\n",
    "!kubectl get services\n",
    "!kubectl get deployments\n",
    "!kubectl get pods"
   ]
  },
  {
   "cell_type": "code",
   "execution_count": null,
   "metadata": {},
   "outputs": [],
   "source": []
  }
 ],
 "metadata": {
  "kernelspec": {
   "display_name": "Python 3",
   "language": "python",
   "name": "python3"
  },
  "language_info": {
   "codemirror_mode": {
    "name": "ipython",
    "version": 3
   },
   "file_extension": ".py",
   "mimetype": "text/x-python",
   "name": "python",
   "nbconvert_exporter": "python",
   "pygments_lexer": "ipython3",
   "version": "3.10.13"
  }
 },
 "nbformat": 4,
 "nbformat_minor": 2
}
