{
 "cells": [
  {
   "cell_type": "markdown",
   "metadata": {},
   "source": [
    "## Ensure a Minikube cluster is running\n",
    "\n",
    "- If you created a Minikube cluster with the command `minikube start --nodes 3` and it is still running:\n",
    "  - Do nothing\n",
    "- If you have a stopped (not deleted) Minikube cluster that was created with the command `minikube start --nodes 3`:\n",
    "  - Run the command `minikube start`\n",
    "- If you don't have a Minikube cluster (or deleted your previous one):\n",
    "  - Run the command `minikube start --nodes 3`  "
   ]
  },
  {
   "cell_type": "markdown",
   "metadata": {},
   "source": [
    "## Deploy a Service\n",
    "\n",
    "- The Service definition is in the YAML file `manifets/clusterip.yaml`"
   ]
  },
  {
   "cell_type": "code",
   "execution_count": 1,
   "metadata": {},
   "outputs": [
    {
     "name": "stdout",
     "output_type": "stream",
     "text": [
      "service/svc-example created\n"
     ]
    }
   ],
   "source": [
    "!kubectl apply -f manifests/clusterip.yaml"
   ]
  },
  {
   "cell_type": "markdown",
   "metadata": {},
   "source": [
    "## Let's look at the Service's YAML\n",
    "\n",
    "**Note:**\n",
    "\n",
    "- The service's name is `svc-example`.\n",
    "- The service's is:\n",
    "  - Listening on `port` 8080.\n",
    "  - Redirecting traffic to `targetPort` 80.\n",
    "- The servie's `selector` defines two labels:\n",
    "  - `app: app-example` and `env: prod`\n",
    "\n",
    "```bash\n",
    "apiVersion: v1\n",
    "kind: Service\n",
    "metadata:\n",
    "  name: svc-example   # the Service's name\n",
    "spec:\n",
    "  ports:\n",
    "  - port: 8080        # the Service is listening on port 8080\n",
    "    targetPort: 80    # the Service is redirecting traffic to targetPort 80\n",
    "  selector:\n",
    "    app: app-example  # the Service's selector defines two labels\n",
    "    env: prod         # app = app-example and env = prod\n",
    "```"
   ]
  },
  {
   "cell_type": "code",
   "execution_count": 2,
   "metadata": {},
   "outputs": [
    {
     "name": "stdout",
     "output_type": "stream",
     "text": [
      "/bin/bash: line 0: type: manifests/clusterip.yaml: not found\n",
      "apiVersion: v1\n",
      "kind: Service\n",
      "metadata:\n",
      "  name: svc-example\n",
      "spec:\n",
      "  ports:\n",
      "  - port: 8080\n",
      "    targetPort: 80\n",
      "  selector:\n",
      "    app: app-example\n",
      "    env: prod"
     ]
    }
   ],
   "source": [
    "!type manifests/clusterip.yaml # use this on Windows\n",
    "!cat manifests/clusterip.yaml"
   ]
  },
  {
   "cell_type": "markdown",
   "metadata": {},
   "source": [
    "## Deploy a Deployment\n",
    "\n",
    "-The Deployment definition is in the YAML file `manifests/deploy-app.yaml`."
   ]
  },
  {
   "cell_type": "code",
   "execution_count": 3,
   "metadata": {},
   "outputs": [
    {
     "name": "stdout",
     "output_type": "stream",
     "text": [
      "deployment.apps/deploy-example created\n"
     ]
    }
   ],
   "source": [
    "!kubectl apply -f manifests/deploy-app.yaml"
   ]
  },
  {
   "cell_type": "markdown",
   "metadata": {},
   "source": [
    "## Let's look at the Deployment's YAML\n",
    "\n",
    "**Note:**\n",
    "\n",
    "- The number of `replicas` is set to 3.\n",
    "- The `revisionHistoryLimit` is set to 3.\n",
    "- The Pod template's container is listening on `containerPort` 80.\n",
    "- The Pod template's `labels` are `app: app-example` and `type: prod`\n",
    "  - The Deployment's `matchLabels` match these labels\n",
    "    - Therefore, the Deployment will create 3 replicas from the Pod template.\n",
    "  - The Service's `selector` matches these labels\n",
    "    - Therefore, the Service will load balance between the three Pod replicas.\n",
    "\n",
    "```bash\n",
    "apiVersion: apps/v1\n",
    "kind: Deployment\n",
    "metadata:\n",
    "  name: deploy-example        # the deployment is named deploy-example\n",
    "spec:\n",
    "  replicas: 3                 # the deployment defines three replicas\n",
    "  revisionHistoryLimit: 3     # the deployment defines a maximum of three ReplicaSet revisions to store in history\n",
    "  selector:\n",
    "    matchLabels:\n",
    "      app: app-example        # the deployment has two matchLabels that match the Pod template's labels below\n",
    "      type: prod              # app = app-example and type = prod\n",
    "  template:\n",
    "    metadata:\n",
    "      name: myapp-pod\n",
    "      labels:\n",
    "        app: app-example       # the Pod template has two labels defined (the Service's selector matches these two labels):\n",
    "        type: prod             # app = myapp and type = front-end\n",
    "    spec:\n",
    "      containers:\n",
    "      - name: nginx\n",
    "        image: nginx:alpine    # the container is based onthe nginx:alpine image\n",
    "        resources:\n",
    "          requests:\n",
    "            cpu: 100m\n",
    "            memory: 128Mi\n",
    "          limits:\n",
    "            cpu: 250m\n",
    "            memory: 256Mi    \n",
    "        ports:\n",
    "        - containerPort: 80    # the Pod template's container is listening on containerPort 80\n",
    "```"
   ]
  },
  {
   "cell_type": "code",
   "execution_count": 4,
   "metadata": {},
   "outputs": [
    {
     "name": "stdout",
     "output_type": "stream",
     "text": [
      "apiVersion: apps/v1\n",
      "kind: Deployment\n",
      "metadata:\n",
      "  name: deploy-example\n",
      "spec:\n",
      "  replicas: 3\n",
      "  revisionHistoryLimit: 3\n",
      "  selector:\n",
      "    matchLabels:\n",
      "      app: app-example\n",
      "      env: prod\n",
      "  template:\n",
      "    metadata:\n",
      "      labels:\n",
      "        app: app-example\n",
      "        env: prod\n",
      "    spec:\n",
      "      containers:\n",
      "      - name: nginx\n",
      "        image: nginx:alpine\n",
      "        resources:\n",
      "          requests:\n",
      "            cpu: 100m\n",
      "            memory: 128Mi\n",
      "          limits:\n",
      "            cpu: 250m\n",
      "            memory: 256Mi\n",
      "        ports:\n",
      "        - containerPort: 80"
     ]
    }
   ],
   "source": [
    "#!type manifests/deploy-app.yaml # use this on Windows\n",
    "!cat manifests/deploy-app.yaml"
   ]
  },
  {
   "cell_type": "markdown",
   "metadata": {},
   "source": [
    "## Deploy a Busybox Pod\n",
    "\n",
    "- The Pod definition is in the YAML file `manifests/pod.yaml`."
   ]
  },
  {
   "cell_type": "code",
   "execution_count": 5,
   "metadata": {},
   "outputs": [
    {
     "name": "stdout",
     "output_type": "stream",
     "text": [
      "pod/mybox created\n"
     ]
    }
   ],
   "source": [
    "!kubectl apply -f manifests/pod.yaml"
   ]
  },
  {
   "cell_type": "markdown",
   "metadata": {},
   "source": [
    "## Let's look at the BusyBox Pos's YAML\n",
    "\n",
    "**Note:**\n",
    "\n",
    "- The Pods name is `mybox`.\n",
    "- The container's name is `mybox`.\n",
    "- The container is based on the `busybox` image.\n",
    "  - This image contains numerous useful tools pre-installed.\n",
    "- The container executes the command `sleep 3600` when it starts.\n",
    "  - This is jsut to give us enough time (3600 seconds) to remote in to it before it terminates.\n",
    "\n",
    "```bash\n",
    "apiVersion: v1\n",
    "kind: Pod\n",
    "metadata:\n",
    "  name: mybox              # the Pod's name is mybox\n",
    "spec:\n",
    "  restartPolicy: Always\n",
    "  containers:\n",
    "  - name: mybox            # the containers's name is mybox\n",
    "    image: busybox         # the containers is based on the image busybox\n",
    "    resources:\n",
    "      requests:\n",
    "        cpu: 100m\n",
    "        memory: 128Mi\n",
    "      limits:\n",
    "        cpu: 250m\n",
    "        memory: 256Mi    \n",
    "    command:                # the container executes the command 'sleep 3600' when it starts\n",
    "      - sleep\n",
    "      - \"3600\"\n",
    "```"
   ]
  },
  {
   "cell_type": "code",
   "execution_count": 6,
   "metadata": {},
   "outputs": [
    {
     "name": "stdout",
     "output_type": "stream",
     "text": [
      "apiVersion: v1\n",
      "kind: Pod\n",
      "metadata:\n",
      "  name: mybox\n",
      "spec:\n",
      "  restartPolicy: Always\n",
      "  containers:\n",
      "  - name: mybox\n",
      "    image: busybox\n",
      "    resources:\n",
      "      requests:\n",
      "        cpu: 100m\n",
      "        memory: 128Mi\n",
      "      limits:\n",
      "        cpu: 250m\n",
      "        memory: 256Mi    \n",
      "    command:\n",
      "      - sleep\n",
      "      - \"3600\""
     ]
    }
   ],
   "source": [
    "#!type manifests/pod.yaml #use this on Windows\n",
    "!cat manifests/pod.yaml"
   ]
  },
  {
   "cell_type": "markdown",
   "metadata": {},
   "source": [
    "## List Pods\n",
    "\n",
    "- We see that 4 Pods are running:\n",
    "  - 3 Pods, that were defined in the Deployment, are running containers based on the `nginx:alpine` image.\n",
    "  - 1 Pod is running a container based on the `nginx:busybox` image."
   ]
  },
  {
   "cell_type": "code",
   "execution_count": 7,
   "metadata": {},
   "outputs": [
    {
     "name": "stdout",
     "output_type": "stream",
     "text": [
      "NAME                              READY   STATUS    RESTARTS   AGE   IP           NODE           NOMINATED NODE   READINESS GATES\n",
      "deploy-example-7b9798d5cf-dvllc   1/1     Running   0          24s   10.244.0.8   minikube       <none>           <none>\n",
      "deploy-example-7b9798d5cf-krh9n   1/1     Running   0          24s   10.244.2.6   minikube-m03   <none>           <none>\n",
      "deploy-example-7b9798d5cf-vwmnb   1/1     Running   0          24s   10.244.1.6   minikube-m02   <none>           <none>\n",
      "mybox                             1/1     Running   0          14s   10.244.1.7   minikube-m02   <none>           <none>\n"
     ]
    }
   ],
   "source": [
    "#!kubectl get po -o wide\n",
    "!kubectl get pods -o wide"
   ]
  },
  {
   "cell_type": "markdown",
   "metadata": {},
   "source": [
    "## List Services\n",
    "\n",
    "- Notice the `TYPE` is `ClusterIP` for the `svc-example` Service.\n",
    "  - This means that the Service has a private IP address that can only be accessed within the cluster.\n",
    "  - This is the default setting for a Service if no service type is explicitly defined.\n",
    "- We also see that the Service is listening on port 8080."
   ]
  },
  {
   "cell_type": "code",
   "execution_count": 8,
   "metadata": {},
   "outputs": [
    {
     "name": "stdout",
     "output_type": "stream",
     "text": [
      "NAME          TYPE        CLUSTER-IP      EXTERNAL-IP   PORT(S)    AGE   SELECTOR\n",
      "kubernetes    ClusterIP   10.96.0.1       <none>        443/TCP    11h   <none>\n",
      "svc-example   ClusterIP   10.111.64.120   <none>        8080/TCP   42s   app=app-example,env=prod\n"
     ]
    }
   ],
   "source": [
    "#!kubectl get svc -o wide\n",
    "!kubectl get services -o wide"
   ]
  },
  {
   "cell_type": "markdown",
   "metadata": {},
   "source": [
    "## Check the Service Endpoint\n",
    "\n",
    "- Notice the Service's `ENDPOINTS` contains three IP addresses.\n",
    "  - The service's `selector` finds three Pods with the labels `app: app-example` and `type: prod`.\n",
    "  - This is because the Pod template's labels in the Deployment are `app: app-example` and `type: prod`.\n",
    "- The Service will (round robin) load balance between these three IP addresses."
   ]
  },
  {
   "cell_type": "code",
   "execution_count": 9,
   "metadata": {},
   "outputs": [
    {
     "name": "stdout",
     "output_type": "stream",
     "text": [
      "NAME          ENDPOINTS                                   AGE\n",
      "svc-example   10.244.0.8:80,10.244.1.6:80,10.244.2.6:80   58s\n"
     ]
    }
   ],
   "source": [
    "#!kubectl get ep svc-example\n",
    "!kubectl get endpoints svc-example"
   ]
  },
  {
   "cell_type": "markdown",
   "metadata": {},
   "source": [
    "## Change the Nginx default web page in the Pod's containers\n",
    "\n",
    "- Let's set the default Nginx web page for\n",
    "  - the first Pod's container to `Hello World 1`\n",
    "  - the second Pod's container to `Hello World 2`.\n",
    "  - the third Pod's container to `Hello World 3`.\n",
    "- Now we should be able to see the Service (round robin) load balancing between the three Pod replicas."
   ]
  },
  {
   "cell_type": "code",
   "execution_count": 11,
   "metadata": {},
   "outputs": [],
   "source": [
    "POD_NAME_1 = !kubectl get pods -o jsonpath='{.items[0].metadata.name}'\n",
    "POD_NAME_2 = !kubectl get pods -o jsonpath='{.items[1].metadata.name}'\n",
    "POD_NAME_3 = !kubectl get pods -o jsonpath='{.items[2].metadata.name}'\n",
    "POD_NAME_1 = POD_NAME_1[0]\n",
    "POD_NAME_2 = POD_NAME_2[0]\n",
    "POD_NAME_3 = POD_NAME_3[0]\n",
    "!kubectl exec {POD_NAME_1} -- sh -c \"echo 'Hello World 1' > /usr/share/nginx/html/index.html\"\n",
    "!kubectl exec {POD_NAME_2} -- sh -c \"echo 'Hello World 2' > /usr/share/nginx/html/index.html\"\n",
    "!kubectl exec {POD_NAME_3} -- sh -c \"echo 'Hello World 3' > /usr/share/nginx/html/index.html\""
   ]
  },
  {
   "cell_type": "markdown",
   "metadata": {},
   "source": [
    "## Get Nginx default web page through service via the BusyBox container\n",
    "\n",
    "- Traffic Flow:  BusyBox Pod's container (80) <--> Service (8080) <--> (round robin load balancing) Deployment Pod's Container (80).\n",
    "- The Deployment Pod's containers are running an nginx web server on port 80 (that serves the default web page).\n",
    "\n",
    "### Run these commands in a terminal (won't work from a notebook cell)\n",
    "\n",
    "```bash\n",
    "# Connect to the BusyBox container via an interactive session\n",
    "kubectl exec mybox -it -- /bin/sh\n",
    "\n",
    "# --- output ---\n",
    "# / #\n",
    "# --------------\n",
    "\n",
    "# Get the Nginx home page through the ClusterIP service called \"svc-example\" listening on port 8080\n",
    "wget -qO- http://svc-example:8080\n",
    "\n",
    "# --- output ---\n",
    "# Hello World 1\n",
    "# --------------\n",
    "\n",
    "# Get the Nginx home page through the ClusterIP service again\n",
    "wget -qO- http://svc-example:8080\n",
    "\n",
    "# --- output ---\n",
    "# Hello World 2\n",
    "# --------------\n",
    "\n",
    "# Get the Nginx home page through the ClusterIP service again\n",
    "wget -qO- http://svc-example:8080\n",
    "\n",
    "# --- output ---\n",
    "# Hello World 3\n",
    "# --------------\n",
    "\n",
    "# Get the Nginx home page through the ClusterIP service again\n",
    "wget -qO- http://svc-example:8080\n",
    "\n",
    "# --- output ---\n",
    "# Hello World 1\n",
    "# --------------\n",
    "\n",
    "# Exit the interactive session\n",
    "exit\n",
    "\n",
    "# --- output ---\n",
    "# -\n",
    "# --------------\n",
    "```"
   ]
  },
  {
   "cell_type": "markdown",
   "metadata": {},
   "source": [
    "## Delete Service, Deployment and BusyBox Pod"
   ]
  },
  {
   "cell_type": "code",
   "execution_count": 12,
   "metadata": {},
   "outputs": [
    {
     "name": "stdout",
     "output_type": "stream",
     "text": [
      "service \"svc-example\" deleted\n",
      "deployment.apps \"deploy-example\" deleted\n",
      "pod \"mybox\" deleted\n"
     ]
    }
   ],
   "source": [
    "!kubectl delete -f manifests/clusterip.yaml\n",
    "!kubectl delete -f manifests/deploy-app.yaml\n",
    "!kubectl delete -f manifests/pod.yaml --grace-period=0"
   ]
  },
  {
   "cell_type": "markdown",
   "metadata": {},
   "source": [
    "## List Services, Deployments and Pods\n",
    "\n",
    "- We see that the Service, Deployment and Pods have been deleted."
   ]
  },
  {
   "cell_type": "code",
   "execution_count": 13,
   "metadata": {},
   "outputs": [
    {
     "name": "stdout",
     "output_type": "stream",
     "text": [
      "NAME         TYPE        CLUSTER-IP   EXTERNAL-IP   PORT(S)   AGE\n",
      "kubernetes   ClusterIP   10.96.0.1    <none>        443/TCP   11h\n",
      "No resources found in default namespace.\n",
      "No resources found in default namespace.\n"
     ]
    }
   ],
   "source": [
    "#!kubectl get svc\n",
    "#!kubectl get deploy\n",
    "#!kubectl get po\n",
    "!kubectl get services\n",
    "!kubectl get deployments\n",
    "!kubectl get pods"
   ]
  },
  {
   "cell_type": "code",
   "execution_count": null,
   "metadata": {},
   "outputs": [],
   "source": []
  }
 ],
 "metadata": {
  "kernelspec": {
   "display_name": "Python 3",
   "language": "python",
   "name": "python3"
  },
  "language_info": {
   "codemirror_mode": {
    "name": "ipython",
    "version": 3
   },
   "file_extension": ".py",
   "mimetype": "text/x-python",
   "name": "python",
   "nbconvert_exporter": "python",
   "pygments_lexer": "ipython3",
   "version": "3.10.13"
  }
 },
 "nbformat": 4,
 "nbformat_minor": 2
}
