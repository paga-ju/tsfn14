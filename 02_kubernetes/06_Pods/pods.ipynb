{
 "cells": [
  {
   "cell_type": "markdown",
   "metadata": {},
   "source": [
    "## Ensure a Minikube cluster is running\n",
    "\n",
    "- If you created a Minikube cluster with the command `minikube start --nodes 3` and it is still running:\n",
    "  - Do nothing\n",
    "- If you have a stopped (not deleted) Minikube cluster that was created with the command `minikube start --nodes 3`:\n",
    "  - Run the command `minikube start`\n",
    "- If you don't have a Minikube cluster (or deleted your previous one):\n",
    "  - Run the command `minikube start --nodes 3`  "
   ]
  },
  {
   "cell_type": "markdown",
   "metadata": {},
   "source": [
    "## Create a Pod using the imperative approach\n",
    "\n",
    "- A Pod is the smallest unit of work in a kubernetes cluster.\n",
    "  - In contains one or more Containers.\n",
    "  - Usually there is only one Container per Pod.\n",
    "- The command `kubectl run [PodName] --image=[ImageName]`:\n",
    "  - Creates a Pod with name [PodName].\n",
    "  - Running a container based on the Docker image `[ImageName]`.\n",
    "- In this case the Pod is called `mynginx` and is running a container based on the `nginx` image."
   ]
  },
  {
   "cell_type": "code",
   "execution_count": 1,
   "metadata": {
    "vscode": {
     "languageId": "shellscript"
    }
   },
   "outputs": [
    {
     "name": "stdout",
     "output_type": "stream",
     "text": [
      "pod/mynginx created\n"
     ]
    }
   ],
   "source": [
    "!kubectl run mynginx --image=nginx"
   ]
  },
  {
   "cell_type": "markdown",
   "metadata": {},
   "source": [
    "## List Pods\n",
    "\n",
    "- The command `kubectl get pods` lists Pods running in the cluster.\n",
    "\n",
    "The information about a Pod is:\n",
    "- `NAME` : The unique name of the Pod (`mynginx`).\n",
    "- `READY` : The number of Containers (out of the total number of Containers) in the Pod that are ready and running (`1/1`).\n",
    "- `STATUS` : The status of the Pod (`Running`).\n",
    "- `RESTARTS` : How many times the Pods has restarted (`0`).\n",
    "- `AGE` : since the creation of the Pod (in seconds).\n",
    "\n",
    "The `STATUS` of a Pod can be:\n",
    "- `Pending` : The Pod has been created but its containers are not yet running.\n",
    "- `Running` : The Pod is running  with at least one container in a running state.\n",
    "- `Succeeded` : All containers in the Pod have terminated successfully (with an exit status of 0).\n",
    "- `Failed` : One or more containers in the Pod have terminated with a non-zero exit status (error).\n",
    "- `Unknown` : The state of the Pod cannot be determined and is typically temporary due to Node failures or network issues.\n",
    "- `CrashLoopBackOff` : One or more containers in the Pod started, then crashed and restarted over and over again."
   ]
  },
  {
   "cell_type": "code",
   "execution_count": 2,
   "metadata": {
    "vscode": {
     "languageId": "shellscript"
    }
   },
   "outputs": [
    {
     "name": "stdout",
     "output_type": "stream",
     "text": [
      "NAME      READY   STATUS    RESTARTS   AGE\n",
      "mynginx   1/1     Running   0          6s\n"
     ]
    }
   ],
   "source": [
    "#!kubectl get po\n",
    "!kubectl get pods"
   ]
  },
  {
   "cell_type": "markdown",
   "metadata": {},
   "source": [
    "## List Pods (with additional information)\n",
    "\n",
    "- The `-o wide` option displays additional information.\n",
    "\n",
    "The additonal information about a Pod is:\n",
    "- `IP` : The Pod's IP address (in the cluster's internal/private network).\n",
    "- `NODE` : The Node where the Pod is currently running.\n",
    "- `NOMINATED NODE` : The preferred Node to run the Pod on, identified by the kube-scheduler based on the Pod’s resource requirements.\n",
    "- `READiNESS GATES` : The conditions that must be satisfied for the Pod to be considered ready."
   ]
  },
  {
   "cell_type": "code",
   "execution_count": 3,
   "metadata": {
    "vscode": {
     "languageId": "shellscript"
    }
   },
   "outputs": [
    {
     "name": "stdout",
     "output_type": "stream",
     "text": [
      "NAME      READY   STATUS    RESTARTS   AGE   IP            NODE           NOMINATED NODE   READINESS GATES\n",
      "mynginx   1/1     Running   0          10s   10.244.2.10   minikube-m03   <none>           <none>\n"
     ]
    }
   ],
   "source": [
    "#!kubectl get po -o wide\n",
    "!kubectl get pods -o wide"
   ]
  },
  {
   "cell_type": "markdown",
   "metadata": {},
   "source": [
    "## List a specific Pod\n",
    "\n",
    "- The command `kubectl get pod [PodName]` lists a Pod with name `[PodName]`.\n",
    "- Here we are listing the Pod with name `mynginx`."
   ]
  },
  {
   "cell_type": "code",
   "execution_count": 4,
   "metadata": {
    "vscode": {
     "languageId": "shellscript"
    }
   },
   "outputs": [
    {
     "name": "stdout",
     "output_type": "stream",
     "text": [
      "NAME      READY   STATUS    RESTARTS   AGE   IP            NODE           NOMINATED NODE   READINESS GATES\n",
      "mynginx   1/1     Running   0          14s   10.244.2.10   minikube-m03   <none>           <none>\n"
     ]
    }
   ],
   "source": [
    "#!kubectl get po mynginx\n",
    "#!kubectl get pod mynginx\n",
    "#!kubectl get po mynginx -o wide\n",
    "!kubectl get pod mynginx -o wide"
   ]
  },
  {
   "cell_type": "markdown",
   "metadata": {},
   "source": [
    "## Get the YAML for a Pod\n",
    "\n",
    "- The command `kubectl get pod [PodName] -o yaml` returns the YAML for a Pod with name `[PodName]`.\n",
    "  - The YAML also contains status information about the Pod.\n",
    "- Here we are getting the YAML for the Pod with name `mynginx`."
   ]
  },
  {
   "cell_type": "code",
   "execution_count": 5,
   "metadata": {
    "vscode": {
     "languageId": "shellscript"
    }
   },
   "outputs": [
    {
     "name": "stdout",
     "output_type": "stream",
     "text": [
      "apiVersion: v1\n",
      "kind: Pod\n",
      "metadata:\n",
      "  creationTimestamp: \"2024-02-07T21:44:32Z\"\n",
      "  labels:\n",
      "    run: mynginx\n",
      "  name: mynginx\n",
      "  namespace: default\n",
      "  resourceVersion: \"8948\"\n",
      "  uid: c104126c-577c-4534-8ad6-6f2a1a3bc00e\n",
      "spec:\n",
      "  containers:\n",
      "  - image: nginx\n",
      "    imagePullPolicy: Always\n",
      "    name: mynginx\n",
      "    resources: {}\n",
      "    terminationMessagePath: /dev/termination-log\n",
      "    terminationMessagePolicy: File\n",
      "    volumeMounts:\n",
      "    - mountPath: /var/run/secrets/kubernetes.io/serviceaccount\n",
      "      name: kube-api-access-x9cwc\n",
      "      readOnly: true\n",
      "  dnsPolicy: ClusterFirst\n",
      "  enableServiceLinks: true\n",
      "  nodeName: minikube-m03\n",
      "  preemptionPolicy: PreemptLowerPriority\n",
      "  priority: 0\n",
      "  restartPolicy: Always\n",
      "  schedulerName: default-scheduler\n",
      "  securityContext: {}\n",
      "  serviceAccount: default\n",
      "  serviceAccountName: default\n",
      "  terminationGracePeriodSeconds: 30\n",
      "  tolerations:\n",
      "  - effect: NoExecute\n",
      "    key: node.kubernetes.io/not-ready\n",
      "    operator: Exists\n",
      "    tolerationSeconds: 300\n",
      "  - effect: NoExecute\n",
      "    key: node.kubernetes.io/unreachable\n",
      "    operator: Exists\n",
      "    tolerationSeconds: 300\n",
      "  volumes:\n",
      "  - name: kube-api-access-x9cwc\n",
      "    projected:\n",
      "      defaultMode: 420\n",
      "      sources:\n",
      "      - serviceAccountToken:\n",
      "          expirationSeconds: 3607\n",
      "          path: token\n",
      "      - configMap:\n",
      "          items:\n",
      "          - key: ca.crt\n",
      "            path: ca.crt\n",
      "          name: kube-root-ca.crt\n",
      "      - downwardAPI:\n",
      "          items:\n",
      "          - fieldRef:\n",
      "              apiVersion: v1\n",
      "              fieldPath: metadata.namespace\n",
      "            path: namespace\n",
      "status:\n",
      "  conditions:\n",
      "  - lastProbeTime: null\n",
      "    lastTransitionTime: \"2024-02-07T21:44:32Z\"\n",
      "    status: \"True\"\n",
      "    type: Initialized\n",
      "  - lastProbeTime: null\n",
      "    lastTransitionTime: \"2024-02-07T21:44:35Z\"\n",
      "    status: \"True\"\n",
      "    type: Ready\n",
      "  - lastProbeTime: null\n",
      "    lastTransitionTime: \"2024-02-07T21:44:35Z\"\n",
      "    status: \"True\"\n",
      "    type: ContainersReady\n",
      "  - lastProbeTime: null\n",
      "    lastTransitionTime: \"2024-02-07T21:44:32Z\"\n",
      "    status: \"True\"\n",
      "    type: PodScheduled\n",
      "  containerStatuses:\n",
      "  - containerID: docker://532ae6e1bed3f4380f7b1f088312491cd6e0245f6dc88af7817fef434c433e9b\n",
      "    image: nginx:latest\n",
      "    imageID: docker-pullable://nginx@sha256:84c52dfd55c467e12ef85cad6a252c0990564f03c4850799bf41dd738738691f\n",
      "    lastState: {}\n",
      "    name: mynginx\n",
      "    ready: true\n",
      "    restartCount: 0\n",
      "    started: true\n",
      "    state:\n",
      "      running:\n",
      "        startedAt: \"2024-02-07T21:44:34Z\"\n",
      "  hostIP: 192.168.49.4\n",
      "  phase: Running\n",
      "  podIP: 10.244.2.10\n",
      "  podIPs:\n",
      "  - ip: 10.244.2.10\n",
      "  qosClass: BestEffort\n",
      "  startTime: \"2024-02-07T21:44:32Z\"\n"
     ]
    }
   ],
   "source": [
    "#!kubectl get po mynginx -o yaml\n",
    "!kubectl get pod mynginx -o yaml"
   ]
  },
  {
   "cell_type": "markdown",
   "metadata": {},
   "source": [
    "## Describe a Pod\n",
    "\n",
    "- The command `kubectl describe pod [PodName]` returns detailed information about a Pod with name `[PodName]`.\n",
    "  - The description of a Pod contains the same inforamtion as the YAML listing above, but also includes additional information.\n",
    "  - At the very bottom of the description, important Pod `Events` are given, e.g.:\n",
    "\n",
    "    ```bash\n",
    "    Events:\n",
    "      Type    Reason     Age   From               Message\n",
    "      ----    ------     ----  ----               -------\n",
    "      Normal  Scheduled  7s    default-scheduler  Successfully assigned default/mynginx to minikube-m02\n",
    "      Normal  Pulling    7s    kubelet            Pulling image \"nginx\"\n",
    "      Normal  Pulled     6s    kubelet            Successfully pulled image \"nginx\" in 1.311s (1.311s including waiting)\n",
    "      Normal  Created    6s    kubelet            Created container mynginx\n",
    "      Normal  Started    6s    kubelet            Started container mynginx\n",
    "    ```\n",
    "\n",
    "- Here we are describing the Pod named `mynginx`."
   ]
  },
  {
   "cell_type": "code",
   "execution_count": 6,
   "metadata": {
    "vscode": {
     "languageId": "shellscript"
    }
   },
   "outputs": [
    {
     "name": "stdout",
     "output_type": "stream",
     "text": [
      "Name:             mynginx\n",
      "Namespace:        default\n",
      "Priority:         0\n",
      "Service Account:  default\n",
      "Node:             minikube-m03/192.168.49.4\n",
      "Start Time:       Wed, 07 Feb 2024 22:44:32 +0100\n",
      "Labels:           run=mynginx\n",
      "Annotations:      <none>\n",
      "Status:           Running\n",
      "IP:               10.244.2.10\n",
      "IPs:\n",
      "  IP:  10.244.2.10\n",
      "Containers:\n",
      "  mynginx:\n",
      "    Container ID:   docker://532ae6e1bed3f4380f7b1f088312491cd6e0245f6dc88af7817fef434c433e9b\n",
      "    Image:          nginx\n",
      "    Image ID:       docker-pullable://nginx@sha256:84c52dfd55c467e12ef85cad6a252c0990564f03c4850799bf41dd738738691f\n",
      "    Port:           <none>\n",
      "    Host Port:      <none>\n",
      "    State:          Running\n",
      "      Started:      Wed, 07 Feb 2024 22:44:34 +0100\n",
      "    Ready:          True\n",
      "    Restart Count:  0\n",
      "    Environment:    <none>\n",
      "    Mounts:\n",
      "      /var/run/secrets/kubernetes.io/serviceaccount from kube-api-access-x9cwc (ro)\n",
      "Conditions:\n",
      "  Type              Status\n",
      "  Initialized       True \n",
      "  Ready             True \n",
      "  ContainersReady   True \n",
      "  PodScheduled      True \n",
      "Volumes:\n",
      "  kube-api-access-x9cwc:\n",
      "    Type:                    Projected (a volume that contains injected data from multiple sources)\n",
      "    TokenExpirationSeconds:  3607\n",
      "    ConfigMapName:           kube-root-ca.crt\n",
      "    ConfigMapOptional:       <nil>\n",
      "    DownwardAPI:             true\n",
      "QoS Class:                   BestEffort\n",
      "Node-Selectors:              <none>\n",
      "Tolerations:                 node.kubernetes.io/not-ready:NoExecute op=Exists for 300s\n",
      "                             node.kubernetes.io/unreachable:NoExecute op=Exists for 300s\n",
      "Events:\n",
      "  Type    Reason     Age   From               Message\n",
      "  ----    ------     ----  ----               -------\n",
      "  Normal  Scheduled  24s   default-scheduler  Successfully assigned default/mynginx to minikube-m03\n",
      "  Normal  Pulling    24s   kubelet            Pulling image \"nginx\"\n",
      "  Normal  Pulled     22s   kubelet            Successfully pulled image \"nginx\" in 1.405s (1.405s including waiting)\n",
      "  Normal  Created    22s   kubelet            Created container mynginx\n",
      "  Normal  Started    22s   kubelet            Started container mynginx\n"
     ]
    }
   ],
   "source": [
    "#!kubectl describe po mynginx\n",
    "!kubectl describe pod mynginx"
   ]
  },
  {
   "cell_type": "markdown",
   "metadata": {},
   "source": [
    "## Show the Logs for a Pod\n",
    "\n",
    "- The command `kubectl logs [PodName]` shows the logs for the Pod named `[PodName]`.\n",
    "  - The logs contain anything written to the standard output and error streams (`stdout`, `stderr`) by a Pod's containers.\n",
    "- In this case the logs are displayed for the Pod `mynginx`."
   ]
  },
  {
   "cell_type": "code",
   "execution_count": 7,
   "metadata": {
    "vscode": {
     "languageId": "shellscript"
    }
   },
   "outputs": [
    {
     "name": "stdout",
     "output_type": "stream",
     "text": [
      "/docker-entrypoint.sh: /docker-entrypoint.d/ is not empty, will attempt to perform configuration\n",
      "/docker-entrypoint.sh: Looking for shell scripts in /docker-entrypoint.d/\n",
      "/docker-entrypoint.sh: Launching /docker-entrypoint.d/10-listen-on-ipv6-by-default.sh\n",
      "10-listen-on-ipv6-by-default.sh: info: Getting the checksum of /etc/nginx/conf.d/default.conf\n",
      "10-listen-on-ipv6-by-default.sh: info: Enabled listen on IPv6 in /etc/nginx/conf.d/default.conf\n",
      "/docker-entrypoint.sh: Sourcing /docker-entrypoint.d/15-local-resolvers.envsh\n",
      "/docker-entrypoint.sh: Launching /docker-entrypoint.d/20-envsubst-on-templates.sh\n",
      "/docker-entrypoint.sh: Launching /docker-entrypoint.d/30-tune-worker-processes.sh\n",
      "/docker-entrypoint.sh: Configuration complete; ready for start up\n",
      "2024/02/07 21:44:34 [notice] 1#1: using the \"epoll\" event method\n",
      "2024/02/07 21:44:34 [notice] 1#1: nginx/1.25.3\n",
      "2024/02/07 21:44:34 [notice] 1#1: built by gcc 12.2.0 (Debian 12.2.0-14) \n",
      "2024/02/07 21:44:34 [notice] 1#1: OS: Linux 5.15.133.1-microsoft-standard-WSL2\n",
      "2024/02/07 21:44:34 [notice] 1#1: getrlimit(RLIMIT_NOFILE): 1048576:1048576\n",
      "2024/02/07 21:44:34 [notice] 1#1: start worker processes\n",
      "2024/02/07 21:44:34 [notice] 1#1: start worker process 29\n",
      "2024/02/07 21:44:34 [notice] 1#1: start worker process 30\n",
      "2024/02/07 21:44:34 [notice] 1#1: start worker process 31\n",
      "2024/02/07 21:44:34 [notice] 1#1: start worker process 32\n",
      "2024/02/07 21:44:34 [notice] 1#1: start worker process 33\n",
      "2024/02/07 21:44:34 [notice] 1#1: start worker process 34\n",
      "2024/02/07 21:44:34 [notice] 1#1: start worker process 35\n",
      "2024/02/07 21:44:34 [notice] 1#1: start worker process 36\n",
      "2024/02/07 21:44:34 [notice] 1#1: start worker process 37\n",
      "2024/02/07 21:44:34 [notice] 1#1: start worker process 38\n",
      "2024/02/07 21:44:34 [notice] 1#1: start worker process 39\n",
      "2024/02/07 21:44:34 [notice] 1#1: start worker process 40\n",
      "2024/02/07 21:44:34 [notice] 1#1: start worker process 41\n",
      "2024/02/07 21:44:34 [notice] 1#1: start worker process 42\n",
      "2024/02/07 21:44:34 [notice] 1#1: start worker process 43\n",
      "2024/02/07 21:44:34 [notice] 1#1: start worker process 44\n"
     ]
    }
   ],
   "source": [
    "!kubectl logs mynginx"
   ]
  },
  {
   "cell_type": "markdown",
   "metadata": {},
   "source": [
    "## Delete a Pod\n",
    "\n",
    "- The command `kubectl delete pod [PodName]`deletes the Pod with the name `[PodName]`:\n",
    "  - In this case the Pod `mynginx` is deleted."
   ]
  },
  {
   "cell_type": "code",
   "execution_count": 8,
   "metadata": {
    "vscode": {
     "languageId": "shellscript"
    }
   },
   "outputs": [
    {
     "name": "stdout",
     "output_type": "stream",
     "text": [
      "pod \"mynginx\" deleted\n"
     ]
    }
   ],
   "source": [
    "#!kubectl delete po mynginx\n",
    "!kubectl delete pod mynginx"
   ]
  },
  {
   "cell_type": "markdown",
   "metadata": {},
   "source": [
    "## List Pods\n",
    "\n",
    "- We see the Pod has been deleted."
   ]
  },
  {
   "cell_type": "code",
   "execution_count": 9,
   "metadata": {
    "vscode": {
     "languageId": "shellscript"
    }
   },
   "outputs": [
    {
     "name": "stdout",
     "output_type": "stream",
     "text": [
      "No resources found in default namespace.\n"
     ]
    }
   ],
   "source": [
    "#!kubectl get po\n",
    "!kubectl get pods"
   ]
  },
  {
   "cell_type": "markdown",
   "metadata": {},
   "source": [
    "## Create a pod running a BusyBox container, with an interactive shell\n",
    "\n",
    "### Run these command in a terminal (won't work from a notebook cell)\n",
    "\n",
    "```bash\n",
    "# Create a pod running a BusyBox container, in interactive mode (i.e. attach an interactive shell)\n",
    "kubectl run mybox --image=busybox -it -- /bin/sh\n",
    "\n",
    "# --- Output ---\n",
    "# if you don't see a command prompt, try pressing enter.\n",
    "# / # \n",
    "# / # \n",
    "# / # \n",
    "# --------------\n",
    "\n",
    "# List folders in the container\n",
    "ls\n",
    "\n",
    "# --- Output ---\n",
    "# bin    dev    etc    home   lib    lib64  proc   root   sys    tmp    usr    var\n",
    "# / #\n",
    "# --------------\n",
    "\n",
    "# Issue a command in the container\n",
    "echo -n 'A Secret' | base64\n",
    "\n",
    "# --- Output ---\n",
    "# QSBTZWNyZXQ=\n",
    "# / #\n",
    "# --------------\n",
    "\n",
    "# Exit the interactive shell in the container\n",
    "exit\n",
    "\n",
    "# --- Output ---\n",
    "# Session ended, resume using 'kubectl attach mybox -c mybox -i -t' command when the pod is running\n",
    "# --------------\n",
    "\n",
    "```"
   ]
  },
  {
   "cell_type": "markdown",
   "metadata": {},
   "source": [
    "## Delete a Pod immediately\n",
    "\n",
    "- The command `kubectl delete pod [PodName]` deletes as Pod named `[PodName]` (in this case `mybox`).\n",
    "  - The `--grace-period 0` option starts deleting the Pod immediately (the default grace period is 30 seconds).\n",
    "  - The `--force` option deletes a Pod immediately."
   ]
  },
  {
   "cell_type": "code",
   "execution_count": 10,
   "metadata": {
    "vscode": {
     "languageId": "shellscript"
    }
   },
   "outputs": [
    {
     "name": "stdout",
     "output_type": "stream",
     "text": [
      "pod \"mybox\" deleted\n"
     ]
    }
   ],
   "source": [
    "!kubectl delete pod mybox --grace-period 0\n",
    "#!kubectl delete pod mybox --grace-period 0 --force\n",
    "#!kubectl delete pod mybox"
   ]
  },
  {
   "cell_type": "markdown",
   "metadata": {},
   "source": [
    "## Create a Pod using the declarative approach\n",
    "\n",
    "- The command `kubectl apply -f [PodYAMLFile]` creates (or updates) the Pod defined in the YAML file `[PodYAMLFile]`.\n",
    "  - The `-f` option gives the path to the YAML file.\n",
    "  - Alternatively the command `kubectl create -f [PodYAMLFile]` can be used to create a Pod.\n",
    "\n",
    "- The Pod definition is in the YAML file `manifests/myapp.yaml`"
   ]
  },
  {
   "cell_type": "code",
   "execution_count": 11,
   "metadata": {
    "vscode": {
     "languageId": "shellscript"
    }
   },
   "outputs": [
    {
     "name": "stdout",
     "output_type": "stream",
     "text": [
      "pod/myapp-pod created\n"
     ]
    }
   ],
   "source": [
    "#!kubectl create -f manifests/myapp.yaml\n",
    "!kubectl apply -f manifests/myapp.yaml"
   ]
  },
  {
   "cell_type": "markdown",
   "metadata": {},
   "source": [
    "## Let's look at the Pod's YAML file\n",
    "\n",
    "The YAML file contains:\n",
    "\n",
    "```bash\n",
    "apiVersion: v1          # the version of the API used to define the resource\n",
    "kind: Pod               # the resource type being defined , i.e. Pod\n",
    "metadata:               # the map of metadata for the Pod starts here\n",
    "  name: myapp-pod         # the name of the Pod\n",
    "  labels:                 # the map of labels to define for the Pod starts here\n",
    "    app: myapp              # a label with name \"app\" and value \"myapp\"\n",
    "    type: front-end         # a label with name \"type\" and value \"front-end\"\n",
    "spec:                   # the Pod's specification starts here\n",
    "  containers:                 # the list of containers to run in the Pod starts here (in this case only one)\n",
    "  - name: nginx-container       # the name of the container\n",
    "    image: nginx                # the image to base the container on    \n",
    "    ports:                      # the list of ports the container will listen on starts here (in this case only one)\n",
    "    - containerPort: 80           # the port's number\n",
    "      name: http                  # the port's name\n",
    "      protocol: TCP               # the port's protocol\n",
    "    env:                        # the list of container environment variables to set starts here (in this case only one)\n",
    "    - name: DBCON                 # the environment variable's name\n",
    "      value: myconnectionstring   # the environment variable's value\n",
    "    resources:                  # the map of resource specifications for the container starts here\n",
    "      requests:                   # the map of requested resources for the container starts here\n",
    "        cpu: 100m                   # requested CPU in \"millicores\" (1m is 1/1000 of a CPU core, 1000m is 1 CPU core)\n",
    "        memory: 128Mi               # requested RAM in \"mebibytes\" (1Mi is 1 048 576 bytes, 1Ki is 1024 bytes)\n",
    "      limits:                     # the map of maximum resources for the container starts here\n",
    "        cpu: 250m                   # maximum CPU in \"millicores\" (1m is 1/1000 of a CPU core, 1000m is 1 CPU core)\n",
    "        memory: 256Mi               # maximum RAM in \"mebibytes\" (1Mi is 1 048 576 bytes, 1Ki is 1024 bytes)\n",
    "```\n",
    "\n",
    "**Note:**\n",
    "- If `resources` (`cpu` and `memory`) aren't specified for a container:\n",
    "  - The container is free to use an unlimited amount of CPU and RAM on the node it is running on.\n",
    "- `requests` is the amount of resources (`cpu` and `memory`) the container is asking for.\n",
    "- `limmits` is the maximum amount of resources (`cpu` and `memory`) the container is asking to boost to if needed.\n",
    "- In order to use a `Horizontal Pod Autoscaler (HPA)`, `resources` must be specified for a container."
   ]
  },
  {
   "cell_type": "code",
   "execution_count": 12,
   "metadata": {
    "vscode": {
     "languageId": "shellscript"
    }
   },
   "outputs": [
    {
     "name": "stdout",
     "output_type": "stream",
     "text": [
      "apiVersion: v1\n",
      "kind: Pod\n",
      "metadata:\n",
      "  name: myapp-pod\n",
      "  labels:\n",
      "    app: myapp\n",
      "    type: front-end\n",
      "spec:\n",
      "  containers:\n",
      "  - name: nginx-container\n",
      "    image: nginx\n",
      "    resources:\n",
      "      requests:\n",
      "        cpu: 100m\n",
      "        memory: 128Mi\n",
      "      limits:\n",
      "        cpu: 250m\n",
      "        memory: 256Mi    \n",
      "    ports:\n",
      "    - containerPort: 80\n",
      "      name: http\n",
      "      protocol: TCP\n",
      "    env:\n",
      "    - name: DBCON\n",
      "      value: myconnectionstring"
     ]
    }
   ],
   "source": [
    "#!type manifests/myapp.yaml # Use this in Windows\n",
    "!cat manifests/myapp.yaml"
   ]
  },
  {
   "cell_type": "markdown",
   "metadata": {},
   "source": [
    "## List Pods\n",
    "\n",
    "- We see the Pod is running."
   ]
  },
  {
   "cell_type": "code",
   "execution_count": 13,
   "metadata": {
    "vscode": {
     "languageId": "shellscript"
    }
   },
   "outputs": [
    {
     "name": "stdout",
     "output_type": "stream",
     "text": [
      "NAME        READY   STATUS    RESTARTS   AGE   IP            NODE           NOMINATED NODE   READINESS GATES\n",
      "myapp-pod   1/1     Running   0          7s    10.244.2.11   minikube-m03   <none>           <none>\n"
     ]
    }
   ],
   "source": [
    "#!kubectl get po -o wide\n",
    "!kubectl get pods -o wide"
   ]
  },
  {
   "cell_type": "markdown",
   "metadata": {},
   "source": [
    "## Attach an interative terminal to the pod (container)"
   ]
  },
  {
   "cell_type": "markdown",
   "metadata": {},
   "source": [
    "### Run these command in a terminal (won't work from a notebook cell)\n",
    "\n",
    "```bash\n",
    "# Attach to an interactive terminal in the pod (container)\n",
    "kubectl exec -it myapp-pod -- bash\n",
    "\n",
    "# --- Output ---\n",
    "# root@myapp-pod:/#\n",
    "# --------------\n",
    "\n",
    "# Print the DBCON environment variable (set in the YAML file) in the container\n",
    "echo $DBCON\n",
    "\n",
    "# --- Output ---\n",
    "# myconnectionstring\n",
    "# root@myapp-pod:/#\n",
    "# --------------\n",
    "\n",
    "# Detach from the container\n",
    "exit\n",
    "\n",
    "# --- Output ---\n",
    "# exit\n",
    "# --------------\n",
    "```"
   ]
  },
  {
   "cell_type": "markdown",
   "metadata": {},
   "source": [
    "## Delete the pod\n",
    "\n",
    "- The command `kubectl delete -f [PodYAMLFile]` deletes the Pod defined in the YAML file `[PodYAMLFile]`.\n",
    "  - In this case the Pod defined in the YAML file `myapp.yaml` is deleted."
   ]
  },
  {
   "cell_type": "code",
   "execution_count": 14,
   "metadata": {
    "vscode": {
     "languageId": "shellscript"
    }
   },
   "outputs": [
    {
     "name": "stdout",
     "output_type": "stream",
     "text": [
      "pod \"myapp-pod\" deleted\n"
     ]
    }
   ],
   "source": [
    "!kubectl delete -f manifests/myapp.yaml"
   ]
  },
  {
   "cell_type": "markdown",
   "metadata": {},
   "source": [
    "## List Pods\n",
    "\n",
    "- We see that the Pod has been deleted."
   ]
  },
  {
   "cell_type": "code",
   "execution_count": 15,
   "metadata": {
    "vscode": {
     "languageId": "shellscript"
    }
   },
   "outputs": [
    {
     "name": "stdout",
     "output_type": "stream",
     "text": [
      "No resources found in default namespace.\n"
     ]
    }
   ],
   "source": [
    "#!kubectl get po\n",
    "!kubectl get pods"
   ]
  },
  {
   "cell_type": "markdown",
   "metadata": {},
   "source": []
  }
 ],
 "metadata": {
  "kernelspec": {
   "display_name": "Python 3",
   "language": "python",
   "name": "python3"
  },
  "language_info": {
   "codemirror_mode": {
    "name": "ipython",
    "version": 3
   },
   "file_extension": ".py",
   "mimetype": "text/x-python",
   "name": "python",
   "nbconvert_exporter": "python",
   "pygments_lexer": "ipython3",
   "version": "3.10.13"
  }
 },
 "nbformat": 4,
 "nbformat_minor": 2
}
