{
 "cells": [
  {
   "cell_type": "markdown",
   "metadata": {},
   "source": [
    "## Ensure a Minikube cluster is running\n",
    "\n",
    "- If you created a Minikube cluster with the command `minikube start --nodes 3` and it is still running:\n",
    "  - Do nothing\n",
    "- If you have a stopped (not deleted) Minikube cluster that was created with the command `minikube start --nodes 3`:\n",
    "  - Run the command `minikube start`\n",
    "- If you don't have a Minikube cluster (or deleted your previous one):\n",
    "  - Run the command `minikube start --nodes 3`  "
   ]
  },
  {
   "cell_type": "markdown",
   "metadata": {},
   "source": [
    "## Deploy a Pod\n",
    "\n",
    "- The Pod is defined in the YAML file `manifests/myapp.yaml`"
   ]
  },
  {
   "cell_type": "code",
   "execution_count": 1,
   "metadata": {},
   "outputs": [
    {
     "name": "stdout",
     "output_type": "stream",
     "text": [
      "pod/myapp-pod created\n"
     ]
    }
   ],
   "source": [
    "!kubectl apply -f manifests/myapp.yaml"
   ]
  },
  {
   "cell_type": "markdown",
   "metadata": {},
   "source": [
    "## Let's look at the Pod's YAML\n",
    "\n",
    "**Note:**\n",
    "\n",
    "- The Pod's container is listening on `containerPort` 80.\n",
    "- The Pod's `labels` are `app: myapp` and `type: front-end`.\n",
    "\n",
    "```bash\n",
    "apiVersion: v1\n",
    "kind: Pod            # we are defining a Pod\n",
    "metadata:\n",
    "  name: myapp-pod    # the Pod's name is myapp-pod\n",
    "  labels:\n",
    "    app: myapp       # the Pod has two labels defined:\n",
    "    type: front-end  # app = myapp and type = front-end\n",
    "spec:\n",
    "  containers:\n",
    "  - name: nginx-container  # the name of the container (running in the Pod)\n",
    "    image: nginx           # the image the container is based on\n",
    "    resources:\n",
    "      requests:            # minimum requested CPU/RAM for the container\n",
    "        cpu: 100m\n",
    "        memory: 128Mi\n",
    "      limits:              # maximum allowable CPU/RAM for the container\n",
    "        cpu: 250m\n",
    "        memory: 256Mi    \n",
    "    ports:\n",
    "    - containerPort: 80    # the container is listening on port 80\n",
    "```"
   ]
  },
  {
   "cell_type": "code",
   "execution_count": 2,
   "metadata": {},
   "outputs": [
    {
     "name": "stdout",
     "output_type": "stream",
     "text": [
      "apiVersion: v1\n",
      "kind: Pod\n",
      "metadata:\n",
      "  name: myapp-pod\n",
      "  labels:\n",
      "    app: myapp # change this to: myapp2\n",
      "    type: front-end\n",
      "spec:\n",
      "  containers:\n",
      "  - name: nginx-container\n",
      "    image: nginx\n",
      "    resources:\n",
      "      requests:\n",
      "        cpu: 100m\n",
      "        memory: 128Mi\n",
      "      limits:\n",
      "        cpu: 250m\n",
      "        memory: 256Mi    \n",
      "    ports:\n",
      "    - containerPort: 80"
     ]
    }
   ],
   "source": [
    "#!type manifests/myapp.yaml # use this on Windows\n",
    "!cat manifests/myapp.yaml"
   ]
  },
  {
   "cell_type": "markdown",
   "metadata": {},
   "source": [
    "## Deploy a Service\n",
    "\n",
    "- The Service is defined in the YAML file `manifests/myservice.yaml`"
   ]
  },
  {
   "cell_type": "code",
   "execution_count": 3,
   "metadata": {},
   "outputs": [
    {
     "name": "stdout",
     "output_type": "stream",
     "text": [
      "service/myservice created\n"
     ]
    }
   ],
   "source": [
    "!kubectl apply -f manifests/myservice.yaml"
   ]
  },
  {
   "cell_type": "markdown",
   "metadata": {},
   "source": [
    "## Let's look at the Pod's YAML\n",
    "\n",
    "**Note:**\n",
    "\n",
    "- The Service is listening on `port` 80 (on its own IP address) and redirects traffic to `targetPort` 80 (on another IP address).\n",
    "- The Service's `targetPort` matches the Pod's `containerPort`.\n",
    "  - The Service will output traffic to port 80 (`targetPort`).\n",
    "  - The Pod's container is listening on port 80 (`containerPort`).\n",
    "- The Service's `selector` labels match the Pod's `labels` (`app: myapp` and `type: front-end`)\n",
    "  - Therefore, the Service will redirect traffic to the Pod (and its container).\n",
    "  - If more Pod's had the same `labels`, the Service would (round robin) load balance between all matching Pods.\n",
    "\n",
    "```bash\n",
    "apiVersion: v1\n",
    "kind: Service         # we are defining a Service\n",
    "metadata:\n",
    "  name: myservice     # the Service's name is myservice\n",
    "spec:\n",
    "  ports:\n",
    "  - port: 80          # the service is listening on port 80\n",
    "    targetPort: 80    # the service is redirecting traffic to port 80\n",
    "  selector:\n",
    "    app: myapp        # the Service is selecting Pods that have two labels defined:\n",
    "    type: front-end   # app = myapp and type = front-end\n",
    "```"
   ]
  },
  {
   "cell_type": "code",
   "execution_count": 4,
   "metadata": {},
   "outputs": [
    {
     "name": "stdout",
     "output_type": "stream",
     "text": [
      "apiVersion: v1\n",
      "kind: Service\n",
      "metadata:\n",
      "  name: myservice\n",
      "spec:\n",
      "  ports:\n",
      "  - port: 80\n",
      "    targetPort: 80\n",
      "  selector:\n",
      "    app: myapp\n",
      "    type: front-end"
     ]
    }
   ],
   "source": [
    "#!type manifests/myservice.yaml # use this on Windows\n",
    "!cat manifests/myservice.yaml"
   ]
  },
  {
   "cell_type": "markdown",
   "metadata": {},
   "source": [
    "## List Pods\n",
    "\n",
    "- Notice the `IP` address of the pod."
   ]
  },
  {
   "cell_type": "code",
   "execution_count": 5,
   "metadata": {},
   "outputs": [
    {
     "name": "stdout",
     "output_type": "stream",
     "text": [
      "NAME        READY   STATUS    RESTARTS   AGE   IP            NODE           NOMINATED NODE   READINESS GATES\n",
      "myapp-pod   1/1     Running   0          13s   10.244.1.16   minikube-m02   <none>           <none>\n"
     ]
    }
   ],
   "source": [
    "!kubectl get po -o wide\n",
    "#!kubectl get pods -o wide"
   ]
  },
  {
   "cell_type": "markdown",
   "metadata": {},
   "source": [
    "## List Pod's container name and containerPort\n",
    "\n",
    "- Notice the `containerPort` the container is listening on."
   ]
  },
  {
   "cell_type": "code",
   "execution_count": 6,
   "metadata": {},
   "outputs": [
    {
     "name": "stdout",
     "output_type": "stream",
     "text": [
      "name: nginx-container, containerPort: 80\n"
     ]
    }
   ],
   "source": [
    "!kubectl get pod myapp-pod -o jsonpath='{range .spec.containers[*]}name: {.name}, containerPort: {.ports[*].containerPort}{\"\\n\"}{end}'"
   ]
  },
  {
   "cell_type": "markdown",
   "metadata": {},
   "source": [
    "## List Service Endpoints (ep)\n",
    "\n",
    "- If the Service is connected to the Pod, the Service Endpoint will point to the Pod's IP address.\n",
    "- Notice the Service Endpoint (`ENDPOINTS`)\n",
    "  - Matches the Pod IP address (`IP`) above.\n",
    "  - Matches the container's port (`containerPort`) above.\n",
    "- If the Service was load balancing between multiple Pods, there would be more IP addresses listed under `ENDPOINTS`."
   ]
  },
  {
   "cell_type": "code",
   "execution_count": 7,
   "metadata": {},
   "outputs": [
    {
     "name": "stdout",
     "output_type": "stream",
     "text": [
      "NAME        ENDPOINTS        AGE\n",
      "myservice   10.244.1.16:80   17s\n"
     ]
    }
   ],
   "source": [
    "#!kubectl get ep myservice\n",
    "!kubectl get endpoints myservice"
   ]
  },
  {
   "cell_type": "markdown",
   "metadata": {},
   "source": [
    "## List Services\n",
    "\n",
    "- Our Service is called `myservice`.\n",
    "- Under `PORT(S)` we see it is listening on port 80."
   ]
  },
  {
   "cell_type": "code",
   "execution_count": 8,
   "metadata": {},
   "outputs": [
    {
     "name": "stdout",
     "output_type": "stream",
     "text": [
      "NAME         TYPE        CLUSTER-IP      EXTERNAL-IP   PORT(S)   AGE     SELECTOR\n",
      "kubernetes   ClusterIP   10.96.0.1       <none>        443/TCP   6h42m   <none>\n",
      "myservice    ClusterIP   10.105.34.114   <none>        80/TCP    21s     app=myapp,type=front-end\n"
     ]
    }
   ],
   "source": [
    "#!kubectl get svc -o wide\n",
    "!kubectl get services -o wide"
   ]
  },
  {
   "cell_type": "markdown",
   "metadata": {},
   "source": [
    "## Port forward your host machine's port 8080 to the service's port 80\n",
    "\n",
    "- Traffic Flow:  Hostmachine (8080) <--> Service (80) <--> Pod's Container (80).\n",
    "- The container is running an nginx web server on port 80 (that serves a default web page).\n",
    "\n",
    "### Run these commands in a terminal (won't work from a notebook cell)\n",
    "\n",
    "```bash\n",
    "# Port forward to the service\n",
    "kubectl port-forward service/myservice 8080:80\n",
    "\n",
    "# --- Output ---\n",
    "# Forwarding from 127.0.0.1:8080 -> 80\n",
    "# Forwarding from [::1]:8080 -> 80\n",
    "# --------------\n",
    "\n",
    "# Open a browser and enter the URL http://localhost:8080\n",
    "# or open a new terminal (on Ubuntu/masOS) an run the command below:\n",
    "curl http://localhost:8080\n",
    "\n",
    "# --- Output ---\n",
    "# <!DOCTYPE html>\n",
    "# <html>\n",
    "# <head>\n",
    "# <title>Welcome to nginx!</title>\n",
    "# <style>\n",
    "# html { color-scheme: light dark; }\n",
    "# body { width: 35em; margin: 0 auto;\n",
    "# font-family: Tahoma, Verdana, Arial, sans-serif; }\n",
    "# </style>\n",
    "# </head>\n",
    "# <body>\n",
    "# <h1>Welcome to nginx!</h1>\n",
    "# <p>If you see this page, the nginx web server is successfully installed and\n",
    "# working. Further configuration is required.</p>\n",
    "# \n",
    "# <p>For online documentation and support please refer to\n",
    "# <a href=\"http://nginx.org/\">nginx.org</a>.<br/>\n",
    "# Commercial support is available at\n",
    "# <a href=\"http://nginx.com/\">nginx.com</a>.</p>\n",
    "# \n",
    "# <p><em>Thank you for using nginx.</em></p>\n",
    "# </body>\n",
    "# </html>\n",
    "# --------------\n",
    "\n",
    "# Stop the port forward by typing Ctrl + C in the terminal\n",
    "\n",
    "# --- Output ---\n",
    "# ^C\n",
    "# --------------\n",
    "```"
   ]
  },
  {
   "cell_type": "markdown",
   "metadata": {},
   "source": [
    "## Edit the Pod's YAML file\n",
    "\n",
    "- Open the Pod's YAML file `manifests/myapp.yaml`.\n",
    "- Change the `app` label to `myapp2`.\n",
    "- Save the file.\n",
    "\n",
    "```bash\n",
    "apiVersion: v1\n",
    "kind: Pod\n",
    "metadata:\n",
    "  name: myapp-pod\n",
    "  labels:\n",
    "    app: myapp2 # change this to: myapp2\n",
    "    type: front-end\n",
    "spec:\n",
    "  containers:\n",
    "  - name: nginx-container\n",
    "    image: nginx\n",
    "    resources:\n",
    "      requests:\n",
    "        cpu: 100m\n",
    "        memory: 128Mi\n",
    "      limits:\n",
    "        cpu: 250m\n",
    "        memory: 256Mi    \n",
    "    ports:\n",
    "    - containerPort: 80\n",
    "```"
   ]
  },
  {
   "cell_type": "markdown",
   "metadata": {},
   "source": [
    "## Deploy (apply) the Pod's modified YAML file"
   ]
  },
  {
   "cell_type": "code",
   "execution_count": 9,
   "metadata": {},
   "outputs": [
    {
     "name": "stdout",
     "output_type": "stream",
     "text": [
      "pod/myapp-pod configured\n"
     ]
    }
   ],
   "source": [
    "!kubectl apply -f manifests/myapp.yaml"
   ]
  },
  {
   "cell_type": "markdown",
   "metadata": {},
   "source": [
    "## Check the Service Endpoint again\n",
    "\n",
    "- Notice the Service's `ENDPOINTS` is empty (`<none>`).\n",
    "  - The service's `selector` can't find any Pods with the labels `app: myapp` and `type: front-end`.\n",
    "  - This is because the Pod's labels are now  `app: myapp2` and `type: front-end`."
   ]
  },
  {
   "cell_type": "code",
   "execution_count": 10,
   "metadata": {},
   "outputs": [
    {
     "name": "stdout",
     "output_type": "stream",
     "text": [
      "NAME        ENDPOINTS   AGE\n",
      "myservice   <none>      78s\n"
     ]
    }
   ],
   "source": [
    "#!kubectl get ep myservice\n",
    "!kubectl get endpoints myservice"
   ]
  },
  {
   "cell_type": "markdown",
   "metadata": {},
   "source": [
    "## Try to port forward to the Service again"
   ]
  },
  {
   "cell_type": "markdown",
   "metadata": {},
   "source": [
    "### Run these commands in a terminal (won't work from a notebook cell)\n",
    "\n",
    "```bash\n",
    "## Port forward port 8080 to the service (that's listening on port 80)\n",
    "kubectl port-forward service/myservice 8080:80\n",
    "\n",
    "# --- Output ---\n",
    "# error: timed out waiting for the condition\n",
    "# --------------\n",
    "\n",
    "# If not stopped, stop the port forward by typing **Ctrl-C** in the terminal\n",
    "\n",
    "# --- Output ---\n",
    "# ^C\n",
    "# --------------\n",
    "```"
   ]
  },
  {
   "cell_type": "markdown",
   "metadata": {},
   "source": [
    "## Edit the Pod's YAML file\n",
    "\n",
    "- Open the Pod's YAML file `manifests/myapp.yaml`.\n",
    "- Change the `app` label back to `myapp`.\n",
    "- Save the file.\n",
    "\n",
    "```bash\n",
    "apiVersion: v1\n",
    "kind: Pod\n",
    "metadata:\n",
    "  name: myapp-pod\n",
    "  labels:\n",
    "    app: myapp # change this to: myapp\n",
    "    type: front-end\n",
    "spec:\n",
    "  containers:\n",
    "  - name: nginx-container\n",
    "    image: nginx\n",
    "    resources:\n",
    "      requests:\n",
    "        cpu: 100m\n",
    "        memory: 128Mi\n",
    "      limits:\n",
    "        cpu: 250m\n",
    "        memory: 256Mi    \n",
    "    ports:\n",
    "    - containerPort: 80\n",
    "```"
   ]
  },
  {
   "cell_type": "markdown",
   "metadata": {},
   "source": [
    "## Deploy (apply) the Pod's modified YAML file"
   ]
  },
  {
   "cell_type": "code",
   "execution_count": 11,
   "metadata": {},
   "outputs": [
    {
     "name": "stdout",
     "output_type": "stream",
     "text": [
      "pod/myapp-pod configured\n"
     ]
    }
   ],
   "source": [
    "!kubectl apply -f manifests/myapp.yaml"
   ]
  },
  {
   "cell_type": "markdown",
   "metadata": {},
   "source": [
    "## Check the Service Endpoint again\n",
    "\n",
    "- Notice the Service's `ENDPOINTS` once again contains an IP address.\n",
    "  - The service's `selector` once again finds a Pod with the labels `app: myapp` and `type: front-end`.\n",
    "  - This is because the Pod's labels are now  `app: myapp` and `type: front-end`."
   ]
  },
  {
   "cell_type": "code",
   "execution_count": 12,
   "metadata": {},
   "outputs": [
    {
     "name": "stdout",
     "output_type": "stream",
     "text": [
      "NAME        ENDPOINTS        AGE\n",
      "myservice   10.244.1.16:80   111s\n"
     ]
    }
   ],
   "source": [
    "#!kubectl get ep myservice\n",
    "!kubectl get endpoints myservice"
   ]
  },
  {
   "cell_type": "markdown",
   "metadata": {},
   "source": [
    "## Delete the Service and Pod"
   ]
  },
  {
   "cell_type": "code",
   "execution_count": 13,
   "metadata": {},
   "outputs": [
    {
     "name": "stdout",
     "output_type": "stream",
     "text": [
      "service \"myservice\" deleted\n",
      "pod \"myapp-pod\" deleted\n"
     ]
    }
   ],
   "source": [
    "!kubectl delete -f manifests/myservice.yaml\n",
    "!kubectl delete -f manifests/myapp.yaml"
   ]
  },
  {
   "cell_type": "markdown",
   "metadata": {},
   "source": [
    "## List Services and Pods\n",
    "\n",
    "- We see that the Service and Pods have been deleted."
   ]
  },
  {
   "cell_type": "code",
   "execution_count": 14,
   "metadata": {},
   "outputs": [
    {
     "name": "stdout",
     "output_type": "stream",
     "text": [
      "NAME         TYPE        CLUSTER-IP   EXTERNAL-IP   PORT(S)   AGE\n",
      "kubernetes   ClusterIP   10.96.0.1    <none>        443/TCP   6h44m\n",
      "No resources found in default namespace.\n"
     ]
    }
   ],
   "source": [
    "#!kubectl get svc\n",
    "#!kubectl get po\n",
    "!kubectl get services\n",
    "!kubectl get pods"
   ]
  },
  {
   "cell_type": "code",
   "execution_count": null,
   "metadata": {},
   "outputs": [],
   "source": []
  }
 ],
 "metadata": {
  "kernelspec": {
   "display_name": "Python 3",
   "language": "python",
   "name": "python3"
  },
  "language_info": {
   "codemirror_mode": {
    "name": "ipython",
    "version": 3
   },
   "file_extension": ".py",
   "mimetype": "text/x-python",
   "name": "python",
   "nbconvert_exporter": "python",
   "pygments_lexer": "ipython3",
   "version": "3.10.13"
  }
 },
 "nbformat": 4,
 "nbformat_minor": 2
}
