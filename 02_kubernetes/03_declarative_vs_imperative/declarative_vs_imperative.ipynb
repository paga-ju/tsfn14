{
 "cells": [
  {
   "cell_type": "markdown",
   "metadata": {},
   "source": [
    "## Ensure a Minikube cluster is running\n",
    "\n",
    "- If you created a Minikube cluster with the command `minikube start --nodes 3` and it is still running:\n",
    "  - Do nothing\n",
    "- If you have a stopped (not deleted) Minikube cluster that was created with the command `minikube start --nodes 3`:\n",
    "  - Run the command `minikube start`\n",
    "- If you don't have a Minikube cluster (or deleted your previous one):\n",
    "  - Run the command `minikube start --nodes 3`  "
   ]
  },
  {
   "cell_type": "markdown",
   "metadata": {},
   "source": [
    "## Imperative and Declarative Approach\n",
    "\n",
    "- There are two ways to change the state of a kubernetes cluster:\n",
    "  - Using an imperative approach, i.e. issuing one `kubectl` command after another.\n",
    "  - Using a declarative approach, i.e. applying YAML files containing resource definitions."
   ]
  },
  {
   "cell_type": "markdown",
   "metadata": {},
   "source": [
    "## Deploy a Deployment using an imperative approach\n",
    "\n",
    "- The command `kubectl create deployment [DeploymentName] --image=[ImageName]` is used to:\n",
    "  - Create a resource of type `deployment` with the name `[DeploymentName]`.\n",
    "  - Using a Docker image called `[ImageName]` (which is downloaded from DockerHub).\n",
    "- In this example a `deployment` called `mynginx1` is created using an `nginx` image."
   ]
  },
  {
   "cell_type": "code",
   "execution_count": 1,
   "metadata": {},
   "outputs": [
    {
     "name": "stdout",
     "output_type": "stream",
     "text": [
      "deployment.apps/mynginx1 created\n"
     ]
    }
   ],
   "source": [
    "#!kubectl create deploy mynginx1 --image=nginx\n",
    "!kubectl create deployment mynginx1 --image=nginx"
   ]
  },
  {
   "cell_type": "markdown",
   "metadata": {},
   "source": [
    "## Deploy a Deployment using a declarative approach\n",
    "\n",
    "- The command `kubectl apply -f [DeploymentYAMLFile]` is used to:\n",
    "  - Create or update a `deployment` defined in the YAML file `[DeploymentYAMLFile]`.\n",
    "  - The `-f` option determines the path to the YAML file.\n",
    "- In this example the `deployment` defined in the YAML file `manifests/deployment.yaml` is created.\n",
    "\n",
    "\n",
    "**Note**:\n",
    "- The command `kubectl apply -f [DeploymentYAMLFile]` can also be used to **update** the existing resource if the YAML file is modified.\n",
    "- The command `kubectl create -f [DeploymentYAMLFile]` can also be used to **create**, but **not update**, the resource."
   ]
  },
  {
   "cell_type": "code",
   "execution_count": 2,
   "metadata": {},
   "outputs": [
    {
     "name": "stdout",
     "output_type": "stream",
     "text": [
      "deployment.apps/mynginx2 created\n"
     ]
    }
   ],
   "source": [
    "#!kubectl create -f manifests/deployment.yaml\n",
    "!kubectl apply -f manifests/deployment.yaml"
   ]
  },
  {
   "cell_type": "markdown",
   "metadata": {},
   "source": [
    "## Let's look at some basic properties of the YAML file we just applied\n",
    "\n",
    "- Every manifest (resource definition) YAML file contains:\n",
    "  - `apiVersion` which tells us the version of the API used to define the resource (a `apps/v1` in this case)..\n",
    "  - `kind` which tells us the type of resouce being defined (a `Deployment` in this case).\n",
    "  - `metadata.name` which contains the name of the resource instance (`mynginx2` in this case).\n",
    "  - `spec` which contains the specification for the resouce (the `spec` contents differ depending on type of resouce).\n",
    "- Additionally, a `metadata.namespace` can be defined, which tells us what namespace the resource will be defined in.\n",
    "  - If no `metadata.namespace` is given, the resouce is placed in a namespace called `default`.\n",
    "    - Most resources are so called **namespaced** resouces, i.e. they must be placed in a namespace.\n",
    "    - Some resources (there aren't many) are not namespaced, i.e. they don't belong to any specific namespace.\n",
    "- In this case, the Docker image `nginx` is used (specifeid in `spec.template.spec.containers.image`)."
   ]
  },
  {
   "cell_type": "code",
   "execution_count": 3,
   "metadata": {},
   "outputs": [
    {
     "name": "stdout",
     "output_type": "stream",
     "text": [
      "apiVersion: apps/v1\n",
      "kind: Deployment\n",
      "metadata:\n",
      "  name: mynginx2\n",
      "spec:\n",
      "  replicas: 1\n",
      "  selector:\n",
      "    matchLabels:\n",
      "      app: mynginx2\n",
      "  template:\n",
      "    metadata:\n",
      "      labels:\n",
      "        app: mynginx2\n",
      "    spec:\n",
      "      containers:\n",
      "      - name: nginx\n",
      "        image: nginx"
     ]
    }
   ],
   "source": [
    "#!type manifests/deployment.yaml # use this on Windows\n",
    "!cat manifests/deployment.yaml"
   ]
  },
  {
   "cell_type": "markdown",
   "metadata": {},
   "source": [
    "## List Deployments\n",
    "\n",
    "- The command `kubectl get deployments` lists all resources of type `deployment` running in the kubernetes cluster.\n",
    "  - The `-o wide` option produces additional information about the resource.\n",
    "  - Here we see the two deployments (`mynginx1` and `mynginx2`) we created above.\n",
    "-  The `READY` column tells us that both deployments are running (`1/1`)."
   ]
  },
  {
   "cell_type": "code",
   "execution_count": 4,
   "metadata": {},
   "outputs": [
    {
     "name": "stdout",
     "output_type": "stream",
     "text": [
      "NAME       READY   UP-TO-DATE   AVAILABLE   AGE   CONTAINERS   IMAGES   SELECTOR\n",
      "mynginx1   1/1     1            1           7s    nginx        nginx    app=mynginx1\n",
      "mynginx2   1/1     1            1           4s    nginx        nginx    app=mynginx2\n"
     ]
    }
   ],
   "source": [
    "#!kubectl get deploy\n",
    "#!kubectl get deploy -o wide\n",
    "#!kubectl get deployments\n",
    "!kubectl get deployments -o wide"
   ]
  },
  {
   "cell_type": "markdown",
   "metadata": {},
   "source": [
    "## Delete a Deployment using an imperative approach\n",
    "\n",
    "- The command `kubectl delete deployment [DeploymentName]` is used to delete a `deployment` called `[DeploymentName]`.\n",
    "- In this example we are deleting the `deployment` called `mynginx1`."
   ]
  },
  {
   "cell_type": "code",
   "execution_count": 5,
   "metadata": {},
   "outputs": [
    {
     "name": "stdout",
     "output_type": "stream",
     "text": [
      "deployment.apps \"mynginx1\" deleted\n"
     ]
    }
   ],
   "source": [
    "#!kubectl delete deploy mynginx1\n",
    "!kubectl delete deployment mynginx1"
   ]
  },
  {
   "cell_type": "markdown",
   "metadata": {},
   "source": [
    "## Delete a Deployment using a declarative approach\n",
    "\n",
    "\n",
    "- In this example a `deployment` is created using the YAML file `manifests/deployment.yaml`.\n",
    "\n",
    "- The command `kubectl delete -f [DeploymentYAMLFile]` is used to:\n",
    "  - Delete a `deployment` defined in the YAML file `[DeploymentYAMLFile]`.\n",
    "  - The `-f` option determines the path to the YAML file.\n",
    "- In this example the `deployment` defined in the YAML file `manifests/deployment.yaml` is deleted."
   ]
  },
  {
   "cell_type": "code",
   "execution_count": 6,
   "metadata": {},
   "outputs": [
    {
     "name": "stdout",
     "output_type": "stream",
     "text": [
      "deployment.apps \"mynginx2\" deleted\n"
     ]
    }
   ],
   "source": [
    "!kubectl delete -f manifests/deployment.yaml"
   ]
  },
  {
   "cell_type": "markdown",
   "metadata": {},
   "source": [
    "## List Deployments again\n",
    "\n",
    "- We see that both deployment have been deleted from the kubernetes cluster."
   ]
  },
  {
   "cell_type": "code",
   "execution_count": 7,
   "metadata": {},
   "outputs": [
    {
     "name": "stdout",
     "output_type": "stream",
     "text": [
      "No resources found in default namespace.\n"
     ]
    }
   ],
   "source": [
    "#!kubectl get deploy -o wide\n",
    "!kubectl get deployments -o wide"
   ]
  },
  {
   "cell_type": "markdown",
   "metadata": {},
   "source": []
  }
 ],
 "metadata": {
  "kernelspec": {
   "display_name": "Python 3",
   "language": "python",
   "name": "python3"
  },
  "language_info": {
   "codemirror_mode": {
    "name": "ipython",
    "version": 3
   },
   "file_extension": ".py",
   "mimetype": "text/x-python",
   "name": "python",
   "nbconvert_exporter": "python",
   "pygments_lexer": "ipython3",
   "version": "3.10.13"
  }
 },
 "nbformat": 4,
 "nbformat_minor": 2
}
