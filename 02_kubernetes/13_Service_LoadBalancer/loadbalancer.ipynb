{
 "cells": [
  {
   "cell_type": "markdown",
   "metadata": {},
   "source": [
    "## Ensure a Minikube cluster is running\n",
    "\n",
    "- If you created a Minikube cluster with the command `minikube start --nodes 3` and it is still running:\n",
    "  - Do nothing\n",
    "- If you have a stopped (not deleted) Minikube cluster that was created with the command `minikube start --nodes 3`:\n",
    "  - Run the command `minikube start`\n",
    "- If you don't have a Minikube cluster (or deleted your previous one):\n",
    "  - Run the command `minikube start --nodes 3`  "
   ]
  },
  {
   "cell_type": "markdown",
   "metadata": {},
   "source": [
    "## Enable the Metallb addon"
   ]
  },
  {
   "cell_type": "code",
   "execution_count": 1,
   "metadata": {},
   "outputs": [
    {
     "name": "stdout",
     "output_type": "stream",
     "text": [
      "❗  metallb is a 3rd party addon and is not maintained or verified by minikube maintainers, enable at your own risk.\n",
      "❗  metallb does not currently have an associated maintainer.\n",
      "    ▪ Using image quay.io/metallb/speaker:v0.9.6\n",
      "    ▪ Using image quay.io/metallb/controller:v0.9.6\n",
      "🌟  The 'metallb' addon is enabled\n"
     ]
    }
   ],
   "source": [
    "!minikube addons enable metallb"
   ]
  },
  {
   "cell_type": "markdown",
   "metadata": {},
   "source": [
    "## List Nodes"
   ]
  },
  {
   "cell_type": "code",
   "execution_count": 2,
   "metadata": {},
   "outputs": [
    {
     "name": "stdout",
     "output_type": "stream",
     "text": [
      "NAME           STATUS   ROLES           AGE   VERSION   INTERNAL-IP    EXTERNAL-IP   OS-IMAGE             KERNEL-VERSION                       CONTAINER-RUNTIME\n",
      "minikube       Ready    control-plane   11h   v1.28.3   192.168.49.2   <none>        Ubuntu 22.04.3 LTS   5.15.133.1-microsoft-standard-WSL2   docker://24.0.7\n",
      "minikube-m02   Ready    <none>          13m   v1.28.3   192.168.49.3   <none>        Ubuntu 22.04.3 LTS   5.15.133.1-microsoft-standard-WSL2   docker://24.0.7\n",
      "minikube-m03   Ready    <none>          12m   v1.28.3   192.168.49.4   <none>        Ubuntu 22.04.3 LTS   5.15.133.1-microsoft-standard-WSL2   docker://24.0.7\n"
     ]
    }
   ],
   "source": [
    "!kubectl get nodes -o wide"
   ]
  },
  {
   "cell_type": "markdown",
   "metadata": {},
   "source": [
    "## Get the Metallb ConfigMap YAML\n",
    "\n",
    "- This will extract the Metallb ConfigMap from the cluster and store it in your file system under `manifests/configmap.yaml`."
   ]
  },
  {
   "cell_type": "code",
   "execution_count": 3,
   "metadata": {},
   "outputs": [],
   "source": [
    "!kubectl get cm -n metallb-system -o yaml > manifests/configmap.yaml\n",
    "!kubectl get configmap -n metallb-system -o yaml > manifests/configmap.yaml"
   ]
  },
  {
   "cell_type": "markdown",
   "metadata": {},
   "source": [
    "## Edit the Metallb ConfigMap\n",
    "\n",
    "- Open the file `manifests/configmap.yaml`.\n",
    "- Add an IP address range for `addresses` under `items.config.address-pools`.\n",
    "  - Look at your nodes' `INTERNAL-IP` addreses above and choose an IP address range outside this range (but with teh same CIDR).\n",
    "    - In my case, teh node's IP addressses were `192.168.49.2-192.168.49.4`\n",
    "      - So I chose the range `192.168.49.200-192.168.49.220` for the `addresses` setting below.\n",
    "  - Minikube will assign an avaialbe IP address from this range to any Service with `type: LoadBalancer`.\n",
    "- Save the file.\n",
    "\n",
    "```bash\n",
    "items:\n",
    "- apiVersion: v1\n",
    "  data:\n",
    "    config: |\n",
    "      address-pools:\n",
    "      - name: default\n",
    "        protocol: layer2\n",
    "        addresses:\n",
    "        - 192.168.49.200-192.168.49.220  # add an IP range for the Metallb LoadBalancer here\n",
    "```"
   ]
  },
  {
   "cell_type": "markdown",
   "metadata": {},
   "source": [
    "## Deploy the updated Metallb ConfigMap"
   ]
  },
  {
   "cell_type": "code",
   "execution_count": 4,
   "metadata": {},
   "outputs": [
    {
     "name": "stdout",
     "output_type": "stream",
     "text": [
      "configmap/config configured\n",
      "Warning: resource configmaps/kube-root-ca.crt is missing the kubectl.kubernetes.io/last-applied-configuration annotation which is required by kubectl apply. kubectl apply should only be used on resources created declaratively by either kubectl create --save-config or kubectl apply. The missing annotation will be patched automatically.\n",
      "configmap/kube-root-ca.crt configured\n"
     ]
    }
   ],
   "source": [
    "!kubectl apply -f manifests/configmap.yaml"
   ]
  },
  {
   "cell_type": "markdown",
   "metadata": {},
   "source": [
    "## Deploy a Deployment\n",
    "\n",
    "- The Deployment definition is in the YAML file `manifests/deploy-app.yaml`."
   ]
  },
  {
   "cell_type": "code",
   "execution_count": 5,
   "metadata": {},
   "outputs": [
    {
     "name": "stdout",
     "output_type": "stream",
     "text": [
      "deployment.apps/deploy-nginx created\n"
     ]
    }
   ],
   "source": [
    "!kubectl apply -f manifests/deploy-app.yaml"
   ]
  },
  {
   "cell_type": "markdown",
   "metadata": {},
   "source": [
    "## Let's look at the Deployment's YAML\n",
    "\n",
    "**Note:**\n",
    "\n",
    "- The number of `replicas` is set to 3.\n",
    "- The `revisionHistoryLimit` is set to 3.\n",
    "- The Pod template's container is listening on `containerPort` 80.\n",
    "- The Pod template's `labels` are `app: nginx` and `env: prod`\n",
    "  - The Deployment's `matchLabels` match these labels\n",
    "    - Therefore, the Deployment will create 3 replicas from the Pod template.\n",
    "  - The Service's `selector` matches these labels\n",
    "    - Therefore, the Service will load balance between the three Pod replicas.\n",
    "\n",
    "```bash\n",
    "apiVersion: apps/v1\n",
    "kind: Deployment\n",
    "metadata:\n",
    "  name: deploy-nginx         # the deployment is named deploy-nginx\n",
    "spec:\n",
    "  replicas: 3                 # the deployment defines three replicas\n",
    "  revisionHistoryLimit: 3     # the deployment defines a maximum of three ReplicaSet revisions to store in history\n",
    "  selector:\n",
    "    matchLabels:\n",
    "      app: nginx              # the deployment has two matchLabels that match the Pod template's labels below\n",
    "      env: prod               # app = nginx and env = prod\n",
    "  template:\n",
    "    metadata:\n",
    "      name: myapp-pod\n",
    "      labels:\n",
    "        app: nginx             # the Pod template has two labels defined (the Service's selector matches these two labels):\n",
    "        env: prod              # app = nginx and env = prod\n",
    "    spec:\n",
    "      containers:\n",
    "      - name: nginx\n",
    "        image: nginx:alpine    # the container is based on the nginx:alpine image\n",
    "        resources:\n",
    "          requests:\n",
    "            cpu: 100m\n",
    "            memory: 128Mi\n",
    "          limits:\n",
    "            cpu: 250m\n",
    "            memory: 256Mi    \n",
    "        ports:\n",
    "        - containerPort: 80    # the Pod template's container is listening on containerPort 80\n",
    "```"
   ]
  },
  {
   "cell_type": "code",
   "execution_count": 6,
   "metadata": {},
   "outputs": [
    {
     "name": "stdout",
     "output_type": "stream",
     "text": [
      "apiVersion: apps/v1\n",
      "kind: Deployment\n",
      "metadata:\n",
      "  name: deploy-nginx\n",
      "  labels:\n",
      "    app: nginx\n",
      "    env: prod\n",
      "spec:\n",
      "  replicas: 3\n",
      "  revisionHistoryLimit: 3\n",
      "  selector:\n",
      "    matchLabels:\n",
      "      app: nginx\n",
      "      env: prod\n",
      "  template:\n",
      "    metadata:\n",
      "      labels:\n",
      "        app: nginx\n",
      "        env: prod\n",
      "    spec:\n",
      "      containers:\n",
      "      - name: nginx\n",
      "        image: nginx:alpine\n",
      "        ports:\n",
      "        - containerPort: 80\n",
      "        resources:\n",
      "          requests:\n",
      "            cpu: 100m\n",
      "            memory: 128Mi\n",
      "          limits:\n",
      "            cpu: 250m\n",
      "            memory: 256Mi"
     ]
    }
   ],
   "source": [
    "#!type manifests/deploy-app.yaml #use this on Windows\n",
    "!cat manifests/deploy-app.yaml"
   ]
  },
  {
   "cell_type": "markdown",
   "metadata": {},
   "source": [
    "## Deploy a Service\n",
    "\n",
    "- The Service definition is in the YAML file `manifests/loadbalancer.yaml`."
   ]
  },
  {
   "cell_type": "code",
   "execution_count": 7,
   "metadata": {},
   "outputs": [
    {
     "name": "stdout",
     "output_type": "stream",
     "text": [
      "service/svc-example created\n"
     ]
    }
   ],
   "source": [
    "!kubectl apply -f manifests/loadbalancer.yaml"
   ]
  },
  {
   "cell_type": "markdown",
   "metadata": {},
   "source": [
    "## Let's look at the Service's YAML\n",
    "\n",
    "**Note:**\n",
    "\n",
    "- The service's name is `svc-example`.\n",
    "- The service's is:\n",
    "  - Of type `LoadBalancer` which means it will be assigned an external (public) IP address.\n",
    "  - Listening on `port` 8080.\n",
    "  - Redirecting traffic to `targetPort` 80.\n",
    "- The servie's `selector` defines two labels (that match the Pod template's labels for the Deployment):\n",
    "  - `app: nginx` and `env: prod`\n",
    "  - This means the Service will (round robin) load balance between the three Pods in the Deployment's ReplicaSet.\n",
    "\n",
    "```bash\n",
    "apiVersion: v1\n",
    "kind: Service\n",
    "metadata:\n",
    "  name: svc-example    # the Service's name is svc-example\n",
    "spec:\n",
    "  type: LoadBalancer   # the Service's type is LoadBalancer\n",
    "  selector:\n",
    "    app: nginx         # the Service's selector defines two labels (the Service's selector matches the Pod template's two labels):\n",
    "    env: prod          # app = nginx and env = prod\n",
    "  ports:\n",
    "  - protocol: TCP      # the Service's protocol is TCP\n",
    "    port: 8080         # the Service is listening for internal (private) traffic on port 8080\n",
    "    targetPort: 80     # the Service is redirecting traffic to targetPort 80\n",
    "```"
   ]
  },
  {
   "cell_type": "code",
   "execution_count": 8,
   "metadata": {},
   "outputs": [
    {
     "name": "stdout",
     "output_type": "stream",
     "text": [
      "apiVersion: v1\n",
      "kind: Service\n",
      "metadata:\n",
      "  name: svc-example\n",
      "spec:\n",
      "  type: LoadBalancer\n",
      "  selector:\n",
      "    app: nginx\n",
      "    env: prod\n",
      "  ports:\n",
      "  - protocol: TCP\n",
      "    port: 8080\n",
      "    targetPort: 80"
     ]
    }
   ],
   "source": [
    "#!type manifests/loadbalancer.yaml #use this on Windows\n",
    "!cat manifests/loadbalancer.yaml"
   ]
  },
  {
   "cell_type": "markdown",
   "metadata": {},
   "source": [
    "## Get Pods\n",
    "\n",
    "- We see that 3 Pods are running."
   ]
  },
  {
   "cell_type": "code",
   "execution_count": 9,
   "metadata": {},
   "outputs": [
    {
     "name": "stdout",
     "output_type": "stream",
     "text": [
      "NAME                            READY   STATUS    RESTARTS   AGE   IP            NODE           NOMINATED NODE   READINESS GATES\n",
      "deploy-nginx-7b944585d7-gpslf   1/1     Running   0          25s   10.244.2.8    minikube-m03   <none>           <none>\n",
      "deploy-nginx-7b944585d7-l5dr7   1/1     Running   0          25s   10.244.0.10   minikube       <none>           <none>\n",
      "deploy-nginx-7b944585d7-xl8kd   1/1     Running   0          25s   10.244.1.10   minikube-m02   <none>           <none>\n"
     ]
    }
   ],
   "source": [
    "#!kubectl get po -o wide\n",
    "!kubectl get pods -o wide"
   ]
  },
  {
   "cell_type": "markdown",
   "metadata": {},
   "source": [
    "## Get Services\n",
    "\n",
    "- Notice the `TYPE` is `LoadBalancer` for the `svc-example` Service.\n",
    "- Notice the `EXTERNAL-IP` and `PORT` 8080 used by the `Loadbalancer`."
   ]
  },
  {
   "cell_type": "code",
   "execution_count": 10,
   "metadata": {},
   "outputs": [
    {
     "name": "stdout",
     "output_type": "stream",
     "text": [
      "NAME          TYPE           CLUSTER-IP       EXTERNAL-IP      PORT(S)          AGE   SELECTOR\n",
      "kubernetes    ClusterIP      10.96.0.1        <none>           443/TCP          11h   <none>\n",
      "svc-example   LoadBalancer   10.100.112.197   192.168.49.200   8080:32469/TCP   16s   app=nginx,env=prod\n"
     ]
    }
   ],
   "source": [
    "#!kubectl get svc -o wide\n",
    "!kubectl get services -o wide"
   ]
  },
  {
   "cell_type": "markdown",
   "metadata": {},
   "source": [
    "## Access the Load Balancer Service\n",
    "\n",
    "- Use the Load Balancer Service's assigned `EXTERNAL-IP` address above and the Service's port number 8080: `http://EXTERNAL-IP:8080`\n",
    "- When using a cloud provider, you would use the cloud provider's LoadBalancer external IP address and your Service's port number."
   ]
  },
  {
   "cell_type": "code",
   "execution_count": 11,
   "metadata": {},
   "outputs": [
    {
     "name": "stdout",
     "output_type": "stream",
     "text": [
      "<!DOCTYPE html>\n",
      "<html>\n",
      "<head>\n",
      "<title>Welcome to nginx!</title>\n",
      "<style>\n",
      "html { color-scheme: light dark; }\n",
      "body { width: 35em; margin: 0 auto;\n",
      "font-family: Tahoma, Verdana, Arial, sans-serif; }\n",
      "</style>\n",
      "</head>\n",
      "<body>\n",
      "<h1>Welcome to nginx!</h1>\n",
      "<p>If you see this page, the nginx web server is successfully installed and\n",
      "working. Further configuration is required.</p>\n",
      "\n",
      "<p>For online documentation and support please refer to\n",
      "<a href=\"http://nginx.org/\">nginx.org</a>.<br/>\n",
      "Commercial support is available at\n",
      "<a href=\"http://nginx.com/\">nginx.com</a>.</p>\n",
      "\n",
      "<p><em>Thank you for using nginx.</em></p>\n",
      "</body>\n",
      "</html>\n"
     ]
    }
   ],
   "source": [
    "!curl http://192.168.49.200:8080"
   ]
  },
  {
   "cell_type": "markdown",
   "metadata": {},
   "source": [
    "## Delete the Service and the Deployment"
   ]
  },
  {
   "cell_type": "code",
   "execution_count": 12,
   "metadata": {},
   "outputs": [
    {
     "name": "stdout",
     "output_type": "stream",
     "text": [
      "service \"svc-example\" deleted\n",
      "deployment.apps \"deploy-nginx\" deleted\n"
     ]
    }
   ],
   "source": [
    "!kubectl delete -f manifests/loadbalancer.yaml\n",
    "!kubectl delete -f manifests/deploy-app.yaml"
   ]
  },
  {
   "cell_type": "markdown",
   "metadata": {},
   "source": [
    "## List Services, Deployments and Pods\n",
    "\n",
    "- We see that the Service and Deployment with associated Pods were deleted."
   ]
  },
  {
   "cell_type": "code",
   "execution_count": 13,
   "metadata": {},
   "outputs": [
    {
     "name": "stdout",
     "output_type": "stream",
     "text": [
      "NAME         TYPE        CLUSTER-IP   EXTERNAL-IP   PORT(S)   AGE\n",
      "kubernetes   ClusterIP   10.96.0.1    <none>        443/TCP   11h\n",
      "No resources found in default namespace.\n",
      "No resources found in default namespace.\n"
     ]
    }
   ],
   "source": [
    "#!kubectl get svc\n",
    "#!kubectl get deploy\n",
    "#!kubectl get po\n",
    "!kubectl get services\n",
    "!kubectl get deployments\n",
    "!kubectl get pods"
   ]
  },
  {
   "cell_type": "markdown",
   "metadata": {},
   "source": [
    "## Disable the Metallb addon"
   ]
  },
  {
   "cell_type": "code",
   "execution_count": 14,
   "metadata": {},
   "outputs": [
    {
     "name": "stdout",
     "output_type": "stream",
     "text": [
      "🌑  \"The 'metallb' addon is disabled\n"
     ]
    }
   ],
   "source": [
    "!minikube addons disable metallb"
   ]
  },
  {
   "cell_type": "code",
   "execution_count": null,
   "metadata": {},
   "outputs": [],
   "source": []
  }
 ],
 "metadata": {
  "kernelspec": {
   "display_name": "Python 3",
   "language": "python",
   "name": "python3"
  },
  "language_info": {
   "codemirror_mode": {
    "name": "ipython",
    "version": 3
   },
   "file_extension": ".py",
   "mimetype": "text/x-python",
   "name": "python",
   "nbconvert_exporter": "python",
   "pygments_lexer": "ipython3",
   "version": "3.10.13"
  }
 },
 "nbformat": 4,
 "nbformat_minor": 2
}
