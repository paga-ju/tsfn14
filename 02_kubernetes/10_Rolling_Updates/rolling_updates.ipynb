{
 "cells": [
  {
   "cell_type": "markdown",
   "metadata": {},
   "source": [
    "## Ensure a Minikube cluster is running\n",
    "\n",
    "- If you created a Minikube cluster with the command `minikube start --nodes 3` and it is still running:\n",
    "  - Do nothing\n",
    "- If you have a stopped (not deleted) Minikube cluster that was created with the command `minikube start --nodes 3`:\n",
    "  - Run the command `minikube start`\n",
    "- If you don't have a Minikube cluster (or deleted your previous one):\n",
    "  - Run the command `minikube start --nodes 3`  "
   ]
  },
  {
   "cell_type": "markdown",
   "metadata": {},
   "source": [
    "## Build custom Docker images on the host machine\n",
    "\n",
    "- Builds a Docker image `hello-app:1.0` from the subfolder `v1`\n",
    "  - The Dockerfile uses `nginx:latest` as the base image, and sets the default web page to `Hello (version 1)`.\n",
    "- Builds a Docker image `hello-app:2.0` from the subfolder `v2`\n",
    "  - The Dockerfile uses `nginx:latest` as the base image, and sets the default web page to `Hello (version 2)`."
   ]
  },
  {
   "cell_type": "code",
   "execution_count": 1,
   "metadata": {},
   "outputs": [
    {
     "name": "stdout",
     "output_type": "stream",
     "text": [
      "failed to fetch metadata: fork/exec /usr/local/lib/docker/cli-plugins/docker-buildx: no such file or directory\n",
      "\n",
      "DEPRECATED: The legacy builder is deprecated and will be removed in a future release.\n",
      "            Install the buildx component to build images with BuildKit:\n",
      "            https://docs.docker.com/go/buildx/\n",
      "\n",
      "Sending build context to Docker daemon  3.072kB\n",
      "Step 1/3 : FROM nginx:latest\n",
      " ---> a8758716bb6a\n",
      "Step 2/3 : WORKDIR /usr/share/nginx/html\n",
      " ---> Running in a9038fe0eb31\n",
      "Removing intermediate container a9038fe0eb31\n",
      " ---> 472a5c4fdb53\n",
      "Step 3/3 : COPY index.html index.html\n",
      " ---> 6bb0f5603201\n",
      "Successfully built 6bb0f5603201\n",
      "Successfully tagged hello-app:1.0\n",
      "failed to fetch metadata: fork/exec /usr/local/lib/docker/cli-plugins/docker-buildx: no such file or directory\n",
      "\n",
      "DEPRECATED: The legacy builder is deprecated and will be removed in a future release.\n",
      "            Install the buildx component to build images with BuildKit:\n",
      "            https://docs.docker.com/go/buildx/\n",
      "\n",
      "Sending build context to Docker daemon  3.072kB\n",
      "Step 1/3 : FROM nginx:latest\n",
      " ---> a8758716bb6a\n",
      "Step 2/3 : WORKDIR /usr/share/nginx/html\n",
      " ---> Using cache\n",
      " ---> 472a5c4fdb53\n",
      "Step 3/3 : COPY index.html index.html\n",
      " ---> dedea9c40e98\n",
      "Successfully built dedea9c40e98\n",
      "Successfully tagged hello-app:2.0\n",
      "hello-app                              2.0             dedea9c40e98   Less than a second ago   187MB\n",
      "hello-app                              1.0             6bb0f5603201   1 second ago             187MB\n"
     ]
    }
   ],
   "source": [
    "!docker build -t hello-app:1.0 -f v1/Dockerfile v1/.\n",
    "!docker build -t hello-app:2.0 -f v2/Dockerfile v2/.\n",
    "!docker image ls | grep hello-app"
   ]
  },
  {
   "cell_type": "markdown",
   "metadata": {},
   "source": [
    "## Load the Docker images from the host machine into the Minikube nodes."
   ]
  },
  {
   "cell_type": "code",
   "execution_count": 2,
   "metadata": {},
   "outputs": [
    {
     "name": "stdout",
     "output_type": "stream",
     "text": [
      "gcr.io/google-samples/hello-app:2.0\n",
      "gcr.io/google-samples/hello-app:1.0\n",
      "docker.io/library/hello-app:2.0\n",
      "docker.io/library/hello-app:1.0\n"
     ]
    }
   ],
   "source": [
    "!minikube image load hello-app:1.0\n",
    "!minikube image load hello-app:2.0\n",
    "!minikube image ls | grep hello-app"
   ]
  },
  {
   "cell_type": "markdown",
   "metadata": {},
   "source": [
    "## Create a Deployment (version 1)\n",
    "\n",
    "- The Deployment definition is in the YAML file `manifests/hello-deployment.yaml`."
   ]
  },
  {
   "cell_type": "code",
   "execution_count": 3,
   "metadata": {},
   "outputs": [
    {
     "name": "stdout",
     "output_type": "stream",
     "text": [
      "deployment.apps/hello-dep created\n"
     ]
    }
   ],
   "source": [
    "!kubectl create -f manifests/hello-deployment.yaml"
   ]
  },
  {
   "cell_type": "markdown",
   "metadata": {},
   "source": [
    "## Let's look at the Deployment's YAML.\n",
    "\n",
    "**Note:**\n",
    "\n",
    "- The number of `replicas` is set to 3.\n",
    "- The Pod template's `labels` are `app: hello-dep`\n",
    "  - The Deployment's `matchLabels` match these labels\n",
    "    - Therefore, the Deployment will create 3 replicas from the Pod template.\n",
    "  - The Deployment uses a `RollingUpdate` `strategy` `type` with `maxSurge` and `maxUnavailable` set to 1.\n",
    "    - Therefore, there can exist:\n",
    "      - A maximum of 4 (`replicas` + `maxSurege`) Pod instances during the update.\n",
    "      - A minimum of 2 (`replicas` - `maxUnavailable`) Pod instances during the update.\n",
    "- The Deployment uses a `revisionHistoryLimit` of 3.\n",
    "  - Therefore, a maximum of 3 ReplicaSet versions will be kept in the revistion history.\n",
    "- The Pod template's containers are:\n",
    "  - Based on the Docker `hello-app:1.0` image (version 1).\n",
    "  - Listening on `containerPort` 8080.\n",
    "\n",
    "```bash\n",
    "apiVersion: apps/v1\n",
    "kind: Deployment\n",
    "metadata:\n",
    "  name: hello-dep                # the Deployment's name\n",
    "  namespace: default\n",
    "spec:\n",
    "  replicas: 3                    # the Deployment defines three Pod replicas\n",
    "  revisionHistoryLimit: 3        # the Deployment defines a maximum number of ReplicaSet revisions in history to 3\n",
    "  strategy:\n",
    "    type: RollingUpdate          # the Deployment uses a RollingUpdate strategy\n",
    "    rollingUpdate:\n",
    "      maxSurge: 1                # a maximum of 3+1 Pod instances can exist during the update\n",
    "      maxUnavailable: 1          # a minimum of 3-1 Pod instances can exist during the update\n",
    "  selector:\n",
    "    matchLabels:\n",
    "      app: hello-dep             # the Deployment's matchLabels match the Pod template's labels below\n",
    "  template:\n",
    "    metadata:\n",
    "      labels:\n",
    "        app: hello-dep           # the Pod template defines one label (app: hello-dep)\n",
    "    spec:\n",
    "      containers:\n",
    "      - image: hello-app:1.0     # the Pod template's containers are based on the hello-app:1.0 image (version 1)\n",
    "        resources:\n",
    "          requests:\n",
    "            cpu: 100m\n",
    "            memory: 128Mi\n",
    "          limits:\n",
    "            cpu: 250m\n",
    "            memory: 256Mi      \n",
    "        imagePullPolicy: Never\n",
    "        name: hello-dep          # the container's name\n",
    "        ports:\n",
    "        - containerPort: 8080    # the containers are listening on port 8080\n",
    "```"
   ]
  },
  {
   "cell_type": "code",
   "execution_count": 4,
   "metadata": {},
   "outputs": [
    {
     "name": "stdout",
     "output_type": "stream",
     "text": [
      "apiVersion: apps/v1\n",
      "kind: Deployment\n",
      "metadata:\n",
      "  name: hello-dep\n",
      "  namespace: default\n",
      "spec:\n",
      "  replicas: 3\n",
      "  revisionHistoryLimit: 3\n",
      "  strategy:\n",
      "    type: RollingUpdate\n",
      "    rollingUpdate:\n",
      "      maxSurge: 1\n",
      "      maxUnavailable: 1\n",
      "  selector:\n",
      "    matchLabels:\n",
      "      app: hello-dep\n",
      "  template:\n",
      "    metadata:\n",
      "      labels:\n",
      "        app: hello-dep\n",
      "    spec:\n",
      "      containers:\n",
      "      - image: hello-app:1.0 # change this to: hello-app:2.0\n",
      "        resources:\n",
      "          requests:\n",
      "            cpu: 100m\n",
      "            memory: 128Mi\n",
      "          limits:\n",
      "            cpu: 250m\n",
      "            memory: 256Mi      \n",
      "        imagePullPolicy: Never\n",
      "        name: hello-dep\n",
      "        ports:\n",
      "        - containerPort: 8080"
     ]
    }
   ],
   "source": [
    "!cat manifests/hello-deployment.yaml"
   ]
  },
  {
   "cell_type": "markdown",
   "metadata": {},
   "source": [
    "## Get Deployment rollout status\n",
    "\n",
    "- Note that the Deployment was rolled out successfully."
   ]
  },
  {
   "cell_type": "code",
   "execution_count": 5,
   "metadata": {},
   "outputs": [
    {
     "name": "stdout",
     "output_type": "stream",
     "text": [
      "deployment \"hello-dep\" successfully rolled out\n"
     ]
    }
   ],
   "source": [
    "!kubectl rollout status deployment/hello-dep"
   ]
  },
  {
   "cell_type": "markdown",
   "metadata": {},
   "source": [
    "## List Pods\n",
    "\n",
    "- We see that 3 Pod replicas are running."
   ]
  },
  {
   "cell_type": "code",
   "execution_count": 6,
   "metadata": {},
   "outputs": [
    {
     "name": "stdout",
     "output_type": "stream",
     "text": [
      "NAME                         READY   STATUS    RESTARTS   AGE   IP           NODE           NOMINATED NODE   READINESS GATES\n",
      "hello-dep-59dffcc68d-rnz5h   1/1     Running   0          27s   10.244.2.3   minikube-m03   <none>           <none>\n",
      "hello-dep-59dffcc68d-smkks   1/1     Running   0          27s   10.244.1.3   minikube-m02   <none>           <none>\n",
      "hello-dep-59dffcc68d-x9zzn   1/1     Running   0          27s   10.244.0.5   minikube       <none>           <none>\n"
     ]
    }
   ],
   "source": [
    "#!kubectl get po -o wide\n",
    "!kubectl get pods -o wide"
   ]
  },
  {
   "cell_type": "markdown",
   "metadata": {},
   "source": [
    "## Get the default web page in one of the pods\n",
    "\n",
    "- Use one of the pod names (above) to execute the command `-- curl http://localhost` in its container.\n",
    "- We see that the default web page returns `Hello (version 1)` as defined in image `hello-app:1.0`."
   ]
  },
  {
   "cell_type": "code",
   "execution_count": 7,
   "metadata": {},
   "outputs": [
    {
     "name": "stdout",
     "output_type": "stream",
     "text": [
      "  % Total    % Received % Xferd  Average Speed   Time    Time     Time  Current\n",
      "                                 Dload  Upload   Total   Spent    Left  Speed\n",
      "100    17  100    17    0     0  36796      0 --:--:-- --:--:-- --:--:-- 17000\n",
      "Hello (version 1)"
     ]
    }
   ],
   "source": [
    "POD_NAME = !kubectl get pods -o jsonpath='{.items[0].metadata.name}'\n",
    "POD_NAME = POD_NAME[0]\n",
    "!kubectl exec {POD_NAME} -- curl http://localhost"
   ]
  },
  {
   "cell_type": "markdown",
   "metadata": {},
   "source": [
    "## List ReplicaSets\n",
    "\n",
    "- We see that the ReplicaSet contains 3 Pod replicas with containers based on image `hello-app:1.0`."
   ]
  },
  {
   "cell_type": "code",
   "execution_count": 8,
   "metadata": {},
   "outputs": [
    {
     "name": "stdout",
     "output_type": "stream",
     "text": [
      "NAME                   DESIRED   CURRENT   READY   AGE   CONTAINERS   IMAGES          SELECTOR\n",
      "hello-dep-59dffcc68d   3         3         3       39s   hello-dep    hello-app:1.0   app=hello-dep,pod-template-hash=59dffcc68d\n"
     ]
    }
   ],
   "source": [
    "#!kubectl get rs -o wide\n",
    "!kubectl get replicasets -o wide"
   ]
  },
  {
   "cell_type": "markdown",
   "metadata": {},
   "source": [
    "## Create a Deployment (version 2)\n",
    "\n",
    "- Open the YAML file `manifests/hello-deployment.yaml`.\n",
    "- Change the image version from `1.0` to `2.0`.\n",
    "- Save the file.\n",
    "\n",
    "```bash\n",
    "apiVersion: apps/v1\n",
    "kind: Deployment\n",
    "metadata:\n",
    "  name: hello-dep\n",
    "  namespace: default\n",
    "spec:\n",
    "  replicas: 3\n",
    "  revisionHistoryLimit: 3\n",
    "  strategy:\n",
    "    type: RollingUpdate\n",
    "    rollingUpdate:\n",
    "      maxSurge: 1\n",
    "      maxUnavailable: 1\n",
    "  selector:\n",
    "    matchLabels:\n",
    "      app: hello-dep\n",
    "  template:\n",
    "    metadata:\n",
    "      labels:\n",
    "        app: hello-dep\n",
    "    spec:\n",
    "      containers:\n",
    "      - image: hello-app:2.0 # change this to: hello-app:2.0\n",
    "        resources:\n",
    "          requests:\n",
    "            cpu: 100m\n",
    "            memory: 128Mi\n",
    "          limits:\n",
    "            cpu: 250m\n",
    "            memory: 256Mi      \n",
    "        imagePullPolicy: Never\n",
    "        name: hello-dep\n",
    "        ports:\n",
    "        - containerPort: 8080\n",
    "```"
   ]
  },
  {
   "cell_type": "code",
   "execution_count": 9,
   "metadata": {},
   "outputs": [
    {
     "name": "stdout",
     "output_type": "stream",
     "text": [
      "apiVersion: apps/v1\n",
      "kind: Deployment\n",
      "metadata:\n",
      "  name: hello-dep\n",
      "  namespace: default\n",
      "spec:\n",
      "  replicas: 3\n",
      "  revisionHistoryLimit: 3\n",
      "  strategy:\n",
      "    type: RollingUpdate\n",
      "    rollingUpdate:\n",
      "      maxSurge: 1\n",
      "      maxUnavailable: 1\n",
      "  selector:\n",
      "    matchLabels:\n",
      "      app: hello-dep\n",
      "  template:\n",
      "    metadata:\n",
      "      labels:\n",
      "        app: hello-dep\n",
      "    spec:\n",
      "      containers:\n",
      "      - image: hello-app:2.0 # change this to: hello-app:2.0\n",
      "        resources:\n",
      "          requests:\n",
      "            cpu: 100m\n",
      "            memory: 128Mi\n",
      "          limits:\n",
      "            cpu: 250m\n",
      "            memory: 256Mi      \n",
      "        imagePullPolicy: Never\n",
      "        name: hello-dep\n",
      "        ports:\n",
      "        - containerPort: 8080"
     ]
    }
   ],
   "source": [
    "!cat manifests/hello-deployment.yaml"
   ]
  },
  {
   "cell_type": "markdown",
   "metadata": {},
   "source": [
    "## Deploy the updated Deployment's YAML file"
   ]
  },
  {
   "cell_type": "code",
   "execution_count": 10,
   "metadata": {},
   "outputs": [
    {
     "name": "stdout",
     "output_type": "stream",
     "text": [
      "Warning: resource deployments/hello-dep is missing the kubectl.kubernetes.io/last-applied-configuration annotation which is required by kubectl apply. kubectl apply should only be used on resources created declaratively by either kubectl create --save-config or kubectl apply. The missing annotation will be patched automatically.\n",
      "deployment.apps/hello-dep configured\n"
     ]
    }
   ],
   "source": [
    "!kubectl apply -f manifests/hello-deployment.yaml"
   ]
  },
  {
   "cell_type": "markdown",
   "metadata": {},
   "source": [
    "## Get Deployment rollout status\n",
    "\n",
    "- We see that the updated Deployment's YAML definition was rolled out successfully."
   ]
  },
  {
   "cell_type": "code",
   "execution_count": 11,
   "metadata": {},
   "outputs": [
    {
     "name": "stdout",
     "output_type": "stream",
     "text": [
      "deployment \"hello-dep\" successfully rolled out\n"
     ]
    }
   ],
   "source": [
    "!kubectl rollout status deployment/hello-dep"
   ]
  },
  {
   "cell_type": "markdown",
   "metadata": {},
   "source": [
    "## List Pods\n",
    "\n",
    "- We see that three Pods are running."
   ]
  },
  {
   "cell_type": "code",
   "execution_count": 12,
   "metadata": {},
   "outputs": [
    {
     "name": "stdout",
     "output_type": "stream",
     "text": [
      "NAME                         READY   STATUS    RESTARTS   AGE   IP           NODE           NOMINATED NODE   READINESS GATES\n",
      "hello-dep-64bb85f9cc-b8gwm   1/1     Running   0          14s   10.244.1.4   minikube-m02   <none>           <none>\n",
      "hello-dep-64bb85f9cc-fj2nj   1/1     Running   0          15s   10.244.2.4   minikube-m03   <none>           <none>\n",
      "hello-dep-64bb85f9cc-zsxsr   1/1     Running   0          15s   10.244.0.6   minikube       <none>           <none>\n"
     ]
    }
   ],
   "source": [
    "#!kubectl get po -o wide\n",
    "!kubectl get pods -o wide"
   ]
  },
  {
   "cell_type": "markdown",
   "metadata": {},
   "source": [
    "## Get the default web page in one of the pods\n",
    "\n",
    "- Use one of the pod names (above) to execute the command `-- curl http://localhost` in its container.\n",
    "- We see that the default web page returns `Hello (version 2)` as defined in image `hello-app:2.0`."
   ]
  },
  {
   "cell_type": "code",
   "execution_count": 13,
   "metadata": {},
   "outputs": [
    {
     "name": "stdout",
     "output_type": "stream",
     "text": [
      "Hello (version 2)  % Total    % Received % Xferd  Average Speed   Time    Time     Time  Current\n",
      "                                 Dload  Upload   Total   Spent    Left  Speed\n",
      "100    17  100    17    0     0  48433      0 --:--:-- --:--:-- --:--:-- 17000\n"
     ]
    }
   ],
   "source": [
    "POD_NAME = !kubectl get pods -o jsonpath='{.items[0].metadata.name}'\n",
    "POD_NAME = POD_NAME[0]\n",
    "!kubectl exec {POD_NAME} -- curl http://localhost"
   ]
  },
  {
   "cell_type": "markdown",
   "metadata": {},
   "source": [
    "## List ReplicaSets\n",
    "\n",
    "- Notice that:\n",
    "  - The current ReplicaSet contains 3 Pod replicas with containers based on image `hello-app:2.0`.\n",
    "  - The previous ReplicaSet is kept in the revision history with `DESIRED`, `CURRENT` and `READY` set to 0 (no Pods running).\n",
    "    - This is because `revisionHistoryLimit` is set to 3 in the Deployment's YAML file."
   ]
  },
  {
   "cell_type": "code",
   "execution_count": 14,
   "metadata": {},
   "outputs": [
    {
     "name": "stdout",
     "output_type": "stream",
     "text": [
      "NAME                   DESIRED   CURRENT   READY   AGE   CONTAINERS   IMAGES          SELECTOR\n",
      "hello-dep-59dffcc68d   0         0         0       92s   hello-dep    hello-app:1.0   app=hello-dep,pod-template-hash=59dffcc68d\n",
      "hello-dep-64bb85f9cc   3         3         3       30s   hello-dep    hello-app:2.0   app=hello-dep,pod-template-hash=64bb85f9cc\n"
     ]
    }
   ],
   "source": [
    "#!kubectl get rs -o wide\n",
    "!kubectl get replicasets -o wide"
   ]
  },
  {
   "cell_type": "markdown",
   "metadata": {},
   "source": [
    "## Rollback the Deployment\n",
    "\n",
    "- Here we are using `--to-revision 1` to roll back the Deployment to version 1."
   ]
  },
  {
   "cell_type": "code",
   "execution_count": 15,
   "metadata": {},
   "outputs": [
    {
     "name": "stdout",
     "output_type": "stream",
     "text": [
      "deployment.apps/hello-dep rolled back\n"
     ]
    }
   ],
   "source": [
    "#!kubectl rollout undo deployment/hello-dep\n",
    "!kubectl rollout undo deployment/hello-dep --to-revision 1"
   ]
  },
  {
   "cell_type": "markdown",
   "metadata": {},
   "source": [
    "## Get Deployment rollout status\n",
    "\n",
    "- We see that the rolled back Deployment was rolled out successfully."
   ]
  },
  {
   "cell_type": "code",
   "execution_count": 16,
   "metadata": {},
   "outputs": [
    {
     "name": "stdout",
     "output_type": "stream",
     "text": [
      "deployment \"hello-dep\" successfully rolled out\n"
     ]
    }
   ],
   "source": [
    "!kubectl rollout status deployment/hello-dep"
   ]
  },
  {
   "cell_type": "markdown",
   "metadata": {},
   "source": [
    "## List Pods\n",
    "\n",
    "- We see that 3 Pods are running."
   ]
  },
  {
   "cell_type": "code",
   "execution_count": 17,
   "metadata": {},
   "outputs": [
    {
     "name": "stdout",
     "output_type": "stream",
     "text": [
      "NAME                         READY   STATUS    RESTARTS   AGE   IP           NODE           NOMINATED NODE   READINESS GATES\n",
      "hello-dep-59dffcc68d-6vzq8   1/1     Running   0          14s   10.244.1.5   minikube-m02   <none>           <none>\n",
      "hello-dep-59dffcc68d-rr6q2   1/1     Running   0          13s   10.244.0.7   minikube       <none>           <none>\n",
      "hello-dep-59dffcc68d-zbg6p   1/1     Running   0          14s   10.244.2.5   minikube-m03   <none>           <none>\n"
     ]
    }
   ],
   "source": [
    "#!kubectl get po -o wide\n",
    "!kubectl get pods -o wide"
   ]
  },
  {
   "cell_type": "markdown",
   "metadata": {},
   "source": [
    "## Get the default web page in one of the pods\n",
    "\n",
    "- Use one of the pod names (above) to execute the command `-- curl http://localhost` in its container.\n",
    "- We see that the default web page returns `Hello (version 1)` as defined in image `hello-app:1.0`."
   ]
  },
  {
   "cell_type": "code",
   "execution_count": 18,
   "metadata": {},
   "outputs": [
    {
     "name": "stdout",
     "output_type": "stream",
     "text": [
      "  % Total    % Received % Xferd  Average Speed   Time    Time     Time  Current\n",
      "                                 Dload  Upload   Total   Spent    Left  Speed\n",
      "100    17  100    17    0     0  41262      0 --:--:-- --:--:-- --:--:-- 17000Hello (version 1)\n"
     ]
    }
   ],
   "source": [
    "POD_NAME = !kubectl get pods -o jsonpath='{.items[0].metadata.name}'\n",
    "POD_NAME = POD_NAME[0]\n",
    "!kubectl exec {POD_NAME} -- curl http://localhost"
   ]
  },
  {
   "cell_type": "markdown",
   "metadata": {},
   "source": [
    "## List ReplicaSets\n",
    "\n",
    "- We see that the ReplicaSet contains 3 Pod replicas with containers based on image `hello-app:1.0`."
   ]
  },
  {
   "cell_type": "code",
   "execution_count": 19,
   "metadata": {},
   "outputs": [
    {
     "name": "stdout",
     "output_type": "stream",
     "text": [
      "NAME                   DESIRED   CURRENT   READY   AGE     CONTAINERS   IMAGES          SELECTOR\n",
      "hello-dep-59dffcc68d   3         3         3       2m11s   hello-dep    hello-app:1.0   app=hello-dep,pod-template-hash=59dffcc68d\n",
      "hello-dep-64bb85f9cc   0         0         0       69s     hello-dep    hello-app:2.0   app=hello-dep,pod-template-hash=64bb85f9cc\n"
     ]
    }
   ],
   "source": [
    "#!kubectl get rs -o wide\n",
    "!kubectl get replicasets -o wide"
   ]
  },
  {
   "cell_type": "markdown",
   "metadata": {},
   "source": [
    "## Delete the Deployment"
   ]
  },
  {
   "cell_type": "code",
   "execution_count": 20,
   "metadata": {},
   "outputs": [
    {
     "name": "stdout",
     "output_type": "stream",
     "text": [
      "deployment.apps \"hello-dep\" deleted\n"
     ]
    }
   ],
   "source": [
    "!kubectl delete -f manifests/hello-deployment.yaml"
   ]
  },
  {
   "cell_type": "markdown",
   "metadata": {},
   "source": [
    "## List Deployments, ReplicaSets and Pods\n",
    "\n",
    "- We see that deleting the Deployment also deleted its associated ReplicaSet and Pods."
   ]
  },
  {
   "cell_type": "code",
   "execution_count": 21,
   "metadata": {},
   "outputs": [
    {
     "name": "stdout",
     "output_type": "stream",
     "text": [
      "No resources found in default namespace.\n",
      "No resources found in default namespace.\n",
      "No resources found in default namespace.\n"
     ]
    }
   ],
   "source": [
    "#!kubectl get deploy\n",
    "#!kubectl get rs\n",
    "#!kubectl get po\n",
    "!kubectl get deployments\n",
    "!kubectl get replicasets\n",
    "!kubectl get pods"
   ]
  },
  {
   "cell_type": "markdown",
   "metadata": {},
   "source": [
    "## Remove the Docker images from the Minikube nodes"
   ]
  },
  {
   "cell_type": "code",
   "execution_count": 22,
   "metadata": {},
   "outputs": [
    {
     "name": "stdout",
     "output_type": "stream",
     "text": [
      "gcr.io/google-samples/hello-app:2.0\n",
      "gcr.io/google-samples/hello-app:1.0\n"
     ]
    }
   ],
   "source": [
    "!minikube image rm hello-app:1.0\n",
    "!minikube image rm hello-app:2.0\n",
    "!minikube image ls | grep hello-app"
   ]
  },
  {
   "cell_type": "markdown",
   "metadata": {},
   "source": [
    "## Delete the custom Docker images from the host machine"
   ]
  },
  {
   "cell_type": "code",
   "execution_count": 23,
   "metadata": {},
   "outputs": [
    {
     "name": "stdout",
     "output_type": "stream",
     "text": [
      "Untagged: hello-app:1.0\n",
      "Deleted: sha256:6bb0f5603201854bbba4e8f7fb121ecf2c275ccb538dcd26313981bae8a218f0\n",
      "Deleted: sha256:4772c4ca6d3534ac11bd62de02a330dc68e1a94245dc7105b524e574b0b3e05f\n",
      "Untagged: hello-app:2.0\n",
      "Deleted: sha256:dedea9c40e981b4ce1a5e02f87eeda24fb4a377a58c07e37701dbb492b1be24c\n",
      "Deleted: sha256:f4f7496c3a2f79756d76413953aecbe8b909be493aacc5c7bd0b5d5d66f3e1e3\n",
      "Deleted: sha256:472a5c4fdb53522ba0a83f110f4a842e1a937da705171fd3918ae2acbc226572\n"
     ]
    }
   ],
   "source": [
    "!docker rmi hello-app:1.0\n",
    "!docker rmi hello-app:2.0\n",
    "!docker image ls | grep hello-app"
   ]
  },
  {
   "cell_type": "code",
   "execution_count": null,
   "metadata": {},
   "outputs": [],
   "source": []
  }
 ],
 "metadata": {
  "kernelspec": {
   "display_name": "Python 3",
   "language": "python",
   "name": "python3"
  },
  "language_info": {
   "codemirror_mode": {
    "name": "ipython",
    "version": 3
   },
   "file_extension": ".py",
   "mimetype": "text/x-python",
   "name": "python",
   "nbconvert_exporter": "python",
   "pygments_lexer": "ipython3",
   "version": "3.10.13"
  }
 },
 "nbformat": 4,
 "nbformat_minor": 2
}
