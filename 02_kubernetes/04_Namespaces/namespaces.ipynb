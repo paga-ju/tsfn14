{
 "cells": [
  {
   "cell_type": "markdown",
   "metadata": {},
   "source": [
    "## Ensure a Minikube cluster is running\n",
    "\n",
    "- If you created a Minikube cluster with the command `minikube start --nodes 3` and it is still running:\n",
    "  - Do nothing\n",
    "- If you have a stopped (not deleted) Minikube cluster that was created with the command `minikube start --nodes 3`:\n",
    "  - Run the command `minikube start`\n",
    "- If you don't have a Minikube cluster (or deleted your previous one):\n",
    "  - Run the command `minikube start --nodes 3`  "
   ]
  },
  {
   "cell_type": "markdown",
   "metadata": {},
   "source": [
    "## List Namespaces\n",
    "\n",
    "- A namespace is used to group resources logically in a kubernetes cluster.\n",
    "- The command `kubectl get namesapces` returns all namespaces in the kubernetes cluster.\n",
    "  - In this case the cluster contains 4 namespaces."
   ]
  },
  {
   "cell_type": "code",
   "execution_count": 1,
   "metadata": {
    "vscode": {
     "languageId": "shellscript"
    }
   },
   "outputs": [
    {
     "name": "stdout",
     "output_type": "stream",
     "text": [
      "NAME              STATUS   AGE\n",
      "default           Active   86m\n",
      "kube-node-lease   Active   86m\n",
      "kube-public       Active   86m\n",
      "kube-system       Active   86m\n"
     ]
    }
   ],
   "source": [
    "#!kubectl get ns\n",
    "!kubectl get namespaces"
   ]
  },
  {
   "cell_type": "markdown",
   "metadata": {},
   "source": [
    "## Get current namespace\n",
    "\n",
    "- The current namespace is the namespace `kubectl` uses if no namespace is explicitly specified to the command.\n",
    "- We can get the current namespace setting in kubectl's `config` file:\n",
    "  - The command `kubectl config view --minify -o jsonpath='{..namespace}{\"\\n\"}'` does this.\n",
    "- In this case we see the current namespace is the `default` namespace."
   ]
  },
  {
   "cell_type": "code",
   "execution_count": 2,
   "metadata": {
    "vscode": {
     "languageId": "shellscript"
    }
   },
   "outputs": [
    {
     "name": "stdout",
     "output_type": "stream",
     "text": [
      "default\n"
     ]
    }
   ],
   "source": [
    "!kubectl config view --minify -o jsonpath='{..namespace}{\"\\n\"}'"
   ]
  },
  {
   "cell_type": "markdown",
   "metadata": {},
   "source": [
    "## List Pods in the current namespace\n",
    "\n",
    "- The command `kubectl get pods` is used to list Pods running in a kubernetes cluster.\n",
    "  - The `-o wide` option returns additional information.\n",
    "- Only the Pods in the `default` namespace are shown (since `default` is the current namespace).\n",
    "  - If we don't explicitly ask for a specific namespace, the current namespace is assumed.\n",
    "  - In this case, there are no Pods running in the `default` namespace."
   ]
  },
  {
   "cell_type": "code",
   "execution_count": 3,
   "metadata": {
    "vscode": {
     "languageId": "shellscript"
    }
   },
   "outputs": [
    {
     "name": "stdout",
     "output_type": "stream",
     "text": [
      "No resources found in default namespace.\n"
     ]
    }
   ],
   "source": [
    "#!kubectl get pods\n",
    "!kubectl get pods -o wide"
   ]
  },
  {
   "cell_type": "markdown",
   "metadata": {},
   "source": [
    "## List Pods in a specific namespace\n",
    "\n",
    "- We can explicitly state which namespace we are interested in with the `--namespace` option.\n",
    "- In this case we are listing Pods running in namespace `kube-system`.\n",
    "  - Namespace `kube-system` contains resouces used internally by the kubernetes system such as Control Plane Pods."
   ]
  },
  {
   "cell_type": "code",
   "execution_count": 4,
   "metadata": {
    "vscode": {
     "languageId": "shellscript"
    }
   },
   "outputs": [
    {
     "name": "stdout",
     "output_type": "stream",
     "text": [
      "NAME                               READY   STATUS    RESTARTS      AGE   IP             NODE           NOMINATED NODE   READINESS GATES\n",
      "coredns-5dd5756b68-pmwn8           1/1     Running   1 (86m ago)   86m   10.244.0.2     minikube       <none>           <none>\n",
      "etcd-minikube                      1/1     Running   0             86m   192.168.49.2   minikube       <none>           <none>\n",
      "kindnet-gzl4d                      1/1     Running   0             86m   192.168.49.3   minikube-m02   <none>           <none>\n",
      "kindnet-klhk4                      1/1     Running   0             86m   192.168.49.2   minikube       <none>           <none>\n",
      "kindnet-pfbtg                      1/1     Running   0             85m   192.168.49.4   minikube-m03   <none>           <none>\n",
      "kube-apiserver-minikube            1/1     Running   0             86m   192.168.49.2   minikube       <none>           <none>\n",
      "kube-controller-manager-minikube   1/1     Running   0             86m   192.168.49.2   minikube       <none>           <none>\n",
      "kube-proxy-tjv98                   1/1     Running   0             85m   192.168.49.4   minikube-m03   <none>           <none>\n",
      "kube-proxy-wttjh                   1/1     Running   0             86m   192.168.49.2   minikube       <none>           <none>\n",
      "kube-proxy-xb5z4                   1/1     Running   0             86m   192.168.49.3   minikube-m02   <none>           <none>\n",
      "kube-scheduler-minikube            1/1     Running   0             86m   192.168.49.2   minikube       <none>           <none>\n",
      "storage-provisioner                1/1     Running   0             86m   192.168.49.2   minikube       <none>           <none>\n"
     ]
    }
   ],
   "source": [
    "#!kubectl get pods -n kube-system -o wide\n",
    "!kubectl get pods --namespace=kube-system -o wide"
   ]
  },
  {
   "cell_type": "markdown",
   "metadata": {},
   "source": [
    "## List Pods in all namespaces\n",
    "\n",
    "- We can list Pods running in all namespaces with the `--all-namespaces` option."
   ]
  },
  {
   "cell_type": "code",
   "execution_count": 5,
   "metadata": {
    "vscode": {
     "languageId": "shellscript"
    }
   },
   "outputs": [
    {
     "name": "stdout",
     "output_type": "stream",
     "text": [
      "NAMESPACE     NAME                               READY   STATUS    RESTARTS      AGE   IP             NODE           NOMINATED NODE   READINESS GATES\n",
      "kube-system   coredns-5dd5756b68-pmwn8           1/1     Running   1 (86m ago)   86m   10.244.0.2     minikube       <none>           <none>\n",
      "kube-system   etcd-minikube                      1/1     Running   0             86m   192.168.49.2   minikube       <none>           <none>\n",
      "kube-system   kindnet-gzl4d                      1/1     Running   0             86m   192.168.49.3   minikube-m02   <none>           <none>\n",
      "kube-system   kindnet-klhk4                      1/1     Running   0             86m   192.168.49.2   minikube       <none>           <none>\n",
      "kube-system   kindnet-pfbtg                      1/1     Running   0             86m   192.168.49.4   minikube-m03   <none>           <none>\n",
      "kube-system   kube-apiserver-minikube            1/1     Running   0             86m   192.168.49.2   minikube       <none>           <none>\n",
      "kube-system   kube-controller-manager-minikube   1/1     Running   0             86m   192.168.49.2   minikube       <none>           <none>\n",
      "kube-system   kube-proxy-tjv98                   1/1     Running   0             86m   192.168.49.4   minikube-m03   <none>           <none>\n",
      "kube-system   kube-proxy-wttjh                   1/1     Running   0             86m   192.168.49.2   minikube       <none>           <none>\n",
      "kube-system   kube-proxy-xb5z4                   1/1     Running   0             86m   192.168.49.3   minikube-m02   <none>           <none>\n",
      "kube-system   kube-scheduler-minikube            1/1     Running   0             86m   192.168.49.2   minikube       <none>           <none>\n",
      "kube-system   storage-provisioner                1/1     Running   0             86m   192.168.49.2   minikube       <none>           <none>\n"
     ]
    }
   ],
   "source": [
    "#!kubectl get pods -A -o wide\n",
    "!kubectl get pods --all-namespaces -o wide"
   ]
  },
  {
   "cell_type": "markdown",
   "metadata": {},
   "source": [
    "## Change the current namespace\n",
    "\n",
    "- We can change the current namespace setting in kubectl's `config` file:\n",
    "  - The command `kubectl config set-context --current --namespace=[NamespaceName]` does this.\n",
    "    -`[NamespaceName]` is the name of the namespace we want to set as the current namespace.\n",
    "    - In this case we are choosing namespace `kube-system`."
   ]
  },
  {
   "cell_type": "code",
   "execution_count": 6,
   "metadata": {
    "vscode": {
     "languageId": "shellscript"
    }
   },
   "outputs": [
    {
     "name": "stdout",
     "output_type": "stream",
     "text": [
      "Context \"minikube\" modified.\n"
     ]
    }
   ],
   "source": [
    "!kubectl config set-context --current --namespace=kube-system"
   ]
  },
  {
   "cell_type": "markdown",
   "metadata": {},
   "source": [
    "## Get current namespace\n",
    "\n",
    "- We see the current namespace is now the `kube-system` namespace."
   ]
  },
  {
   "cell_type": "code",
   "execution_count": 7,
   "metadata": {
    "vscode": {
     "languageId": "shellscript"
    }
   },
   "outputs": [
    {
     "name": "stdout",
     "output_type": "stream",
     "text": [
      "kube-system\n"
     ]
    }
   ],
   "source": [
    "!kubectl config view --minify -o jsonpath='{..namespace}{\"\\n\"}'"
   ]
  },
  {
   "cell_type": "markdown",
   "metadata": {},
   "source": [
    "## List pods in the current namespace\n",
    "\n",
    "- Now if we list the Pods without explicitly specifying a namespace, the namespace `kube-system` is assumed.\n",
    "  - Since the current namespace is now the `kube-system` namespace."
   ]
  },
  {
   "cell_type": "code",
   "execution_count": 8,
   "metadata": {
    "vscode": {
     "languageId": "shellscript"
    }
   },
   "outputs": [
    {
     "name": "stdout",
     "output_type": "stream",
     "text": [
      "NAME                               READY   STATUS    RESTARTS      AGE   IP             NODE           NOMINATED NODE   READINESS GATES\n",
      "coredns-5dd5756b68-pmwn8           1/1     Running   1 (86m ago)   86m   10.244.0.2     minikube       <none>           <none>\n",
      "etcd-minikube                      1/1     Running   0             86m   192.168.49.2   minikube       <none>           <none>\n",
      "kindnet-gzl4d                      1/1     Running   0             86m   192.168.49.3   minikube-m02   <none>           <none>\n",
      "kindnet-klhk4                      1/1     Running   0             86m   192.168.49.2   minikube       <none>           <none>\n",
      "kindnet-pfbtg                      1/1     Running   0             86m   192.168.49.4   minikube-m03   <none>           <none>\n",
      "kube-apiserver-minikube            1/1     Running   0             86m   192.168.49.2   minikube       <none>           <none>\n",
      "kube-controller-manager-minikube   1/1     Running   0             86m   192.168.49.2   minikube       <none>           <none>\n",
      "kube-proxy-tjv98                   1/1     Running   0             86m   192.168.49.4   minikube-m03   <none>           <none>\n",
      "kube-proxy-wttjh                   1/1     Running   0             86m   192.168.49.2   minikube       <none>           <none>\n",
      "kube-proxy-xb5z4                   1/1     Running   0             86m   192.168.49.3   minikube-m02   <none>           <none>\n",
      "kube-scheduler-minikube            1/1     Running   0             86m   192.168.49.2   minikube       <none>           <none>\n",
      "storage-provisioner                1/1     Running   0             86m   192.168.49.2   minikube       <none>           <none>\n"
     ]
    }
   ],
   "source": [
    "#!kubectl get pods\n",
    "!kubectl get pods -o wide"
   ]
  },
  {
   "cell_type": "markdown",
   "metadata": {},
   "source": [
    "## Change the current namespace\n",
    "\n",
    "- Let's change the current namespace back to the `default` namespace."
   ]
  },
  {
   "cell_type": "code",
   "execution_count": 9,
   "metadata": {
    "vscode": {
     "languageId": "shellscript"
    }
   },
   "outputs": [
    {
     "name": "stdout",
     "output_type": "stream",
     "text": [
      "Context \"minikube\" modified.\n"
     ]
    }
   ],
   "source": [
    "!kubectl config set-context --current --namespace=default"
   ]
  },
  {
   "cell_type": "markdown",
   "metadata": {},
   "source": [
    "## Get current namespace\n",
    "\n",
    "- We see the current namespace is now the `default` namespace."
   ]
  },
  {
   "cell_type": "code",
   "execution_count": 10,
   "metadata": {
    "vscode": {
     "languageId": "shellscript"
    }
   },
   "outputs": [
    {
     "name": "stdout",
     "output_type": "stream",
     "text": [
      "default\n"
     ]
    }
   ],
   "source": [
    "!kubectl config view --minify -o jsonpath='{..namespace}{\"\\n\"}'"
   ]
  },
  {
   "cell_type": "markdown",
   "metadata": {},
   "source": [
    "## List pods in the current namespace\n",
    "\n",
    "- Now if we list the Pods without explicitly specifying a namespace, the namespace `default` is assumed.\n",
    "  - Since the current namespace is now the `default` namespace."
   ]
  },
  {
   "cell_type": "code",
   "execution_count": 11,
   "metadata": {
    "vscode": {
     "languageId": "shellscript"
    }
   },
   "outputs": [
    {
     "name": "stdout",
     "output_type": "stream",
     "text": [
      "No resources found in default namespace.\n"
     ]
    }
   ],
   "source": [
    "#!kubectl get pods\n",
    "!kubectl get pods -o wide"
   ]
  },
  {
   "cell_type": "markdown",
   "metadata": {},
   "source": [
    "## Create a Namespace\n",
    "\n",
    "- The command `kubectl create namespace [NamespaceName]` creates a namespace with the name `[NamespaceName]`.\n",
    "- Here we are creating the namespace `my-namespace`."
   ]
  },
  {
   "cell_type": "code",
   "execution_count": 12,
   "metadata": {
    "vscode": {
     "languageId": "shellscript"
    }
   },
   "outputs": [
    {
     "name": "stdout",
     "output_type": "stream",
     "text": [
      "namespace/my-namespace created\n"
     ]
    }
   ],
   "source": [
    "#!kubectl create ns my-namespace\n",
    "!kubectl create namespace my-namespace"
   ]
  },
  {
   "cell_type": "markdown",
   "metadata": {},
   "source": [
    "## List Namespaces\n",
    "\n",
    "- We see that the new namespace has been created."
   ]
  },
  {
   "cell_type": "code",
   "execution_count": 13,
   "metadata": {
    "vscode": {
     "languageId": "shellscript"
    }
   },
   "outputs": [
    {
     "name": "stdout",
     "output_type": "stream",
     "text": [
      "NAME              STATUS   AGE\n",
      "default           Active   86m\n",
      "kube-node-lease   Active   86m\n",
      "kube-public       Active   86m\n",
      "kube-system       Active   86m\n",
      "my-namespace      Active   2s\n"
     ]
    }
   ],
   "source": [
    "!kubectl get ns"
   ]
  },
  {
   "cell_type": "markdown",
   "metadata": {},
   "source": [
    "## Create a resource in a specific namespace\n",
    "\n",
    "- We can create a resource in a specific namespace by using the `-n` option.\n",
    "- Let's create a `deployment` in namespace `my-namespace`."
   ]
  },
  {
   "cell_type": "code",
   "execution_count": 14,
   "metadata": {
    "vscode": {
     "languageId": "shellscript"
    }
   },
   "outputs": [
    {
     "name": "stdout",
     "output_type": "stream",
     "text": [
      "deployment.apps/mynginx created\n"
     ]
    }
   ],
   "source": [
    "!kubectl create deployment mynginx --image=nginx --namespace my-namespace"
   ]
  },
  {
   "cell_type": "markdown",
   "metadata": {},
   "source": [
    "## List Deployments in all namespaces\n",
    "\n",
    "- We see our `mynginx` deployment was created in namespace `my-namespace`."
   ]
  },
  {
   "cell_type": "code",
   "execution_count": 15,
   "metadata": {
    "vscode": {
     "languageId": "shellscript"
    }
   },
   "outputs": [
    {
     "name": "stdout",
     "output_type": "stream",
     "text": [
      "NAMESPACE      NAME      READY   UP-TO-DATE   AVAILABLE   AGE\n",
      "kube-system    coredns   1/1     1            1           86m\n",
      "my-namespace   mynginx   0/1     1            0           2s\n"
     ]
    }
   ],
   "source": [
    "#!kubectl get deployments -A\n",
    "!kubectl get deployments --all-namespaces"
   ]
  },
  {
   "cell_type": "markdown",
   "metadata": {},
   "source": [
    "## Delete Namespace\n",
    "\n",
    "- The command `kubectl delete namespace [NamespaceName]` deletes the namespace with name `[NameSpaceName]`.\n",
    "- Here we are deleting the namespace `my-namespace`.\n",
    "- **Note! Deleting a namespace will delete all resources contained in the namespace.**"
   ]
  },
  {
   "cell_type": "code",
   "execution_count": 16,
   "metadata": {
    "vscode": {
     "languageId": "shellscript"
    }
   },
   "outputs": [
    {
     "name": "stdout",
     "output_type": "stream",
     "text": [
      "namespace \"my-namespace\" deleted\n"
     ]
    }
   ],
   "source": [
    "#!kubectl delete ns my-namespace\n",
    "!kubectl delete namespace my-namespace"
   ]
  },
  {
   "cell_type": "markdown",
   "metadata": {},
   "source": [
    "## List Namespaces\n",
    "\n",
    "- We see that the namespace has been deleted."
   ]
  },
  {
   "cell_type": "code",
   "execution_count": 17,
   "metadata": {
    "vscode": {
     "languageId": "shellscript"
    }
   },
   "outputs": [
    {
     "name": "stdout",
     "output_type": "stream",
     "text": [
      "NAME              STATUS   AGE\n",
      "default           Active   87m\n",
      "kube-node-lease   Active   87m\n",
      "kube-public       Active   87m\n",
      "kube-system       Active   87m\n"
     ]
    }
   ],
   "source": [
    "!kubectl get ns"
   ]
  },
  {
   "cell_type": "markdown",
   "metadata": {
    "vscode": {
     "languageId": "shellscript"
    }
   },
   "source": [
    "## List Deployments in all namespaces\n",
    "\n",
    "- We see our `mynginx` deployment was deleted when we deleted namespace `my-namespace`.\n",
    "  - Since namespace `my-namespace` contained deployment `mynginx`."
   ]
  },
  {
   "cell_type": "code",
   "execution_count": 18,
   "metadata": {
    "vscode": {
     "languageId": "shellscript"
    }
   },
   "outputs": [
    {
     "name": "stdout",
     "output_type": "stream",
     "text": [
      "NAMESPACE     NAME      READY   UP-TO-DATE   AVAILABLE   AGE\n",
      "kube-system   coredns   1/1     1            1           87m\n"
     ]
    }
   ],
   "source": [
    "#!kubectl get deployments -A\n",
    "!kubectl get deployments --all-namespaces"
   ]
  },
  {
   "cell_type": "markdown",
   "metadata": {
    "vscode": {
     "languageId": "shellscript"
    }
   },
   "source": [
    "## List all resources in all namespaes\n",
    "\n",
    "- The command `kubectl get all --all-namespaces` lists all resources in all namespaces."
   ]
  },
  {
   "cell_type": "code",
   "execution_count": 19,
   "metadata": {},
   "outputs": [
    {
     "name": "stdout",
     "output_type": "stream",
     "text": [
      "NAMESPACE     NAME                                   READY   STATUS    RESTARTS      AGE\n",
      "kube-system   pod/coredns-5dd5756b68-pmwn8           1/1     Running   1 (86m ago)   86m\n",
      "kube-system   pod/etcd-minikube                      1/1     Running   0             87m\n",
      "kube-system   pod/kindnet-gzl4d                      1/1     Running   0             86m\n",
      "kube-system   pod/kindnet-klhk4                      1/1     Running   0             86m\n",
      "kube-system   pod/kindnet-pfbtg                      1/1     Running   0             86m\n",
      "kube-system   pod/kube-apiserver-minikube            1/1     Running   0             87m\n",
      "kube-system   pod/kube-controller-manager-minikube   1/1     Running   0             87m\n",
      "kube-system   pod/kube-proxy-tjv98                   1/1     Running   0             86m\n",
      "kube-system   pod/kube-proxy-wttjh                   1/1     Running   0             86m\n",
      "kube-system   pod/kube-proxy-xb5z4                   1/1     Running   0             86m\n",
      "kube-system   pod/kube-scheduler-minikube            1/1     Running   0             87m\n",
      "kube-system   pod/storage-provisioner                1/1     Running   0             87m\n",
      "\n",
      "NAMESPACE     NAME                 TYPE        CLUSTER-IP   EXTERNAL-IP   PORT(S)                  AGE\n",
      "default       service/kubernetes   ClusterIP   10.96.0.1    <none>        443/TCP                  87m\n",
      "kube-system   service/kube-dns     ClusterIP   10.96.0.10   <none>        53/UDP,53/TCP,9153/TCP   87m\n",
      "\n",
      "NAMESPACE     NAME                        DESIRED   CURRENT   READY   UP-TO-DATE   AVAILABLE   NODE SELECTOR            AGE\n",
      "kube-system   daemonset.apps/kindnet      3         3         3       3            3           <none>                   87m\n",
      "kube-system   daemonset.apps/kube-proxy   3         3         3       3            3           kubernetes.io/os=linux   87m\n",
      "\n",
      "NAMESPACE     NAME                      READY   UP-TO-DATE   AVAILABLE   AGE\n",
      "kube-system   deployment.apps/coredns   1/1     1            1           87m\n",
      "\n",
      "NAMESPACE     NAME                                 DESIRED   CURRENT   READY   AGE\n",
      "kube-system   replicaset.apps/coredns-5dd5756b68   1         1         1       86m\n"
     ]
    }
   ],
   "source": [
    "#!kubectl get all -A\n",
    "!kubectl get all --all-namespaces"
   ]
  },
  {
   "cell_type": "code",
   "execution_count": null,
   "metadata": {},
   "outputs": [],
   "source": []
  }
 ],
 "metadata": {
  "kernelspec": {
   "display_name": "Python 3",
   "language": "python",
   "name": "python3"
  },
  "language_info": {
   "codemirror_mode": {
    "name": "ipython",
    "version": 3
   },
   "file_extension": ".py",
   "mimetype": "text/x-python",
   "name": "python",
   "nbconvert_exporter": "python",
   "pygments_lexer": "ipython3",
   "version": "3.10.13"
  }
 },
 "nbformat": 4,
 "nbformat_minor": 2
}
