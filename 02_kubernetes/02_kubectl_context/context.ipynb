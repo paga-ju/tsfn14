{
 "cells": [
  {
   "cell_type": "markdown",
   "metadata": {},
   "source": [
    "## Ensure a Minikube cluster is running\n",
    "\n",
    "- If you created a Minikube cluster with the command `minikube start --nodes 3` and it is still running:\n",
    "  - Do nothing\n",
    "- If you have a stopped (not deleted) Minikube cluster that was created with the command `minikube start --nodes 3`:\n",
    "  - Run the command `minikube start`\n",
    "- If you don't have a Minikube cluster (or deleted your previous one):\n",
    "  - Run the command `minikube start --nodes 3`  "
   ]
  },
  {
   "cell_type": "markdown",
   "metadata": {},
   "source": [
    "## Get current context\n",
    "\n",
    "- kubectl stores information about clusters, contexts and users in its config file.\n",
    "  - On Linux, this is stored in the file `~/.kube/config`.\n",
    "  - The file contains a setting `current-context` that decides which kubernets cluster `kubectl` commands are issued against.\n",
    "- The command `kubectl config current-context` returns the current context `kubectl` is using.\n",
    "  - In this case the context is `minikube`, i.e. `kubectl` commands are run against the `minikube` cluster."
   ]
  },
  {
   "cell_type": "code",
   "execution_count": 1,
   "metadata": {
    "vscode": {
     "languageId": "shellscript"
    }
   },
   "outputs": [
    {
     "name": "stdout",
     "output_type": "stream",
     "text": [
      "minikube\n"
     ]
    }
   ],
   "source": [
    "!kubectl config current-context"
   ]
  },
  {
   "cell_type": "markdown",
   "metadata": {},
   "source": [
    "## List all contexts\n",
    "\n",
    "- kubectl's config file can store information about multiple kubernetes clusters\n",
    "  - For example, a Minikube cluster and an Azure cluster.\n",
    "- We can list all contexts with the command `kubectl config get-contexts`.\n",
    "  - In this case, `minikube` is a Minikube cluster and `tsfn14g00` is an Azure cluster.\n",
    "  - The `*` shows us the `current context`, i.e. the cluster that `kubectl` commands are run against."
   ]
  },
  {
   "cell_type": "code",
   "execution_count": 2,
   "metadata": {
    "vscode": {
     "languageId": "shellscript"
    }
   },
   "outputs": [
    {
     "name": "stdout",
     "output_type": "stream",
     "text": [
      "CURRENT   NAME        CLUSTER     AUTHINFO                          NAMESPACE\n",
      "*         minikube    minikube    minikube                          default\n",
      "          tsfn14g00   tsfn14g00   clusterUser_tsfn14g00_tsfn14g00   \n"
     ]
    }
   ],
   "source": [
    "!kubectl config get-contexts"
   ]
  },
  {
   "cell_type": "markdown",
   "metadata": {},
   "source": [
    "## Change context\n",
    "\n",
    "- We can change context using the command `kubectl config use-context [ContextName]`\n",
    "  - `[contextname]` is the name of the context we want to change to.\n",
    "  - In this case the current context was already `minikube`, but we could have switched to `tsfn14g00`."
   ]
  },
  {
   "cell_type": "code",
   "execution_count": 3,
   "metadata": {
    "vscode": {
     "languageId": "shellscript"
    }
   },
   "outputs": [
    {
     "name": "stdout",
     "output_type": "stream",
     "text": [
      "Switched to context \"minikube\".\n"
     ]
    }
   ],
   "source": [
    "!kubectl config use-context minikube"
   ]
  },
  {
   "cell_type": "markdown",
   "metadata": {},
   "source": [
    "## Rename context\n",
    "\n",
    "- A context can be renamed with the command `kubectl config rename-context [OldContextName] [NewContextName]`.\n"
   ]
  },
  {
   "cell_type": "code",
   "execution_count": 4,
   "metadata": {
    "vscode": {
     "languageId": "shellscript"
    }
   },
   "outputs": [
    {
     "name": "stdout",
     "output_type": "stream",
     "text": [
      "Context \"minikube\" renamed to \"minikube2\".\n",
      "Context \"minikube2\" renamed to \"minikube\".\n"
     ]
    }
   ],
   "source": [
    "!kubectl config rename-context minikube minikube2\n",
    "!kubectl config rename-context minikube2 minikube"
   ]
  },
  {
   "cell_type": "markdown",
   "metadata": {},
   "source": [
    "## Delete context\n",
    "\n",
    "- A context can be deleted from the config file with the command `kubectl config delete-context [contextName]`.\n",
    "  - In this case the context `some-other-cluster` doesn't exits in the config file (but we don't want to delete any context)."
   ]
  },
  {
   "cell_type": "code",
   "execution_count": 5,
   "metadata": {
    "vscode": {
     "languageId": "shellscript"
    }
   },
   "outputs": [
    {
     "name": "stdout",
     "output_type": "stream",
     "text": [
      "error: cannot delete context some-other-cluster, not in /home/patrick/.kube/config\n"
     ]
    }
   ],
   "source": [
    "!kubectl config delete-context some-other-cluster"
   ]
  },
  {
   "cell_type": "code",
   "execution_count": null,
   "metadata": {
    "vscode": {
     "languageId": "shellscript"
    }
   },
   "outputs": [],
   "source": []
  }
 ],
 "metadata": {
  "kernelspec": {
   "display_name": "Python 3",
   "language": "python",
   "name": "python3"
  },
  "language_info": {
   "codemirror_mode": {
    "name": "ipython",
    "version": 3
   },
   "file_extension": ".py",
   "mimetype": "text/x-python",
   "name": "python",
   "nbconvert_exporter": "python",
   "pygments_lexer": "ipython3",
   "version": "3.10.13"
  }
 },
 "nbformat": 4,
 "nbformat_minor": 2
}
