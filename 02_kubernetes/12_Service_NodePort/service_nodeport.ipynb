{
 "cells": [
  {
   "cell_type": "markdown",
   "metadata": {},
   "source": [
    "## Ensure a Minikube cluster is running\n",
    "\n",
    "- If you created a Minikube cluster with the command `minikube start --nodes 3` and it is still running:\n",
    "  - Do nothing\n",
    "- If you have a stopped (not deleted) Minikube cluster that was created with the command `minikube start --nodes 3`:\n",
    "  - Run the command `minikube start`\n",
    "- If you don't have a Minikube cluster (or deleted your previous one):\n",
    "  - Run the command `minikube start --nodes 3`  "
   ]
  },
  {
   "cell_type": "markdown",
   "metadata": {},
   "source": [
    "## Deploy a Deployment\n",
    "\n",
    "- The Deployment definition is in the YAML file `manifests/deploy-app.yaml`."
   ]
  },
  {
   "cell_type": "code",
   "execution_count": 1,
   "metadata": {},
   "outputs": [
    {
     "name": "stdout",
     "output_type": "stream",
     "text": [
      "deployment.apps/deploy-nginx created\n"
     ]
    }
   ],
   "source": [
    "!kubectl apply -f manifests/deploy-app.yaml"
   ]
  },
  {
   "cell_type": "markdown",
   "metadata": {},
   "source": [
    "## Let's look at the Deployment's YAML\n",
    "\n",
    "**Note:**\n",
    "\n",
    "- The number of `replicas` is set to 3.\n",
    "- The `revisionHistoryLimit` is set to 3.\n",
    "- The Pod template's container is listening on `containerPort` 80.\n",
    "- The Pod template's `labels` are `app: nginx` and `env: prod`\n",
    "  - The Deployment's `matchLabels` match these labels\n",
    "    - Therefore, the Deployment will create 3 replicas from the Pod template.\n",
    "  - The Service's `selector` matches these labels\n",
    "    - Therefore, the Service will load balance between the three Pod replicas.\n",
    "\n",
    "```bash\n",
    "apiVersion: apps/v1\n",
    "kind: Deployment\n",
    "metadata:\n",
    "  name: deploy-nginx         # the deployment is named deploy-nginx\n",
    "spec:\n",
    "  replicas: 3                 # the deployment defines three replicas\n",
    "  revisionHistoryLimit: 3     # the deployment defines a maximum of three ReplicaSet revisions to store in history\n",
    "  selector:\n",
    "    matchLabels:\n",
    "      app: nginx              # the deployment has two matchLabels that match the Pod template's labels below\n",
    "      env: prod               # app = nginx and env = prod\n",
    "  template:\n",
    "    metadata:\n",
    "      name: myapp-pod\n",
    "      labels:\n",
    "        app: nginx             # the Pod template has two labels defined (the Service's selector matches these two labels):\n",
    "        env: prod              # app = nginx and env = prod\n",
    "    spec:\n",
    "      containers:\n",
    "      - name: nginx\n",
    "        image: nginx:alpine    # the container is based on the nginx:alpine image\n",
    "        resources:\n",
    "          requests:\n",
    "            cpu: 100m\n",
    "            memory: 128Mi\n",
    "          limits:\n",
    "            cpu: 250m\n",
    "            memory: 256Mi    \n",
    "        ports:\n",
    "        - containerPort: 80    # the Pod template's container is listening on containerPort 80\n",
    "```"
   ]
  },
  {
   "cell_type": "code",
   "execution_count": 2,
   "metadata": {},
   "outputs": [
    {
     "name": "stdout",
     "output_type": "stream",
     "text": [
      "apiVersion: apps/v1\n",
      "kind: Deployment\n",
      "metadata:\n",
      "  name: deploy-nginx\n",
      "  labels:\n",
      "    app: nginx\n",
      "    env: prod\n",
      "spec:\n",
      "  replicas: 3\n",
      "  revisionHistoryLimit: 3\n",
      "  selector:\n",
      "    matchLabels:\n",
      "      app: nginx\n",
      "      env: prod\n",
      "  template:\n",
      "    metadata:\n",
      "      labels:\n",
      "        app: nginx\n",
      "        env: prod\n",
      "    spec:\n",
      "      containers:\n",
      "      - name: nginx\n",
      "        image: nginx:alpine\n",
      "        resources:\n",
      "          requests:\n",
      "            cpu: 100m\n",
      "            memory: 128Mi\n",
      "          limits:\n",
      "            cpu: 250m\n",
      "            memory: 256Mi\n",
      "        ports:\n",
      "        - containerPort: 80"
     ]
    }
   ],
   "source": [
    "#!type manifests/deploy-app.yaml #use this on Windows\n",
    "!cat manifests/deploy-app.yaml"
   ]
  },
  {
   "cell_type": "markdown",
   "metadata": {},
   "source": [
    "## Deploy a Service\n",
    "\n",
    "- The Service definition is in the YAML file `manifests/nodeport.yaml`."
   ]
  },
  {
   "cell_type": "code",
   "execution_count": 3,
   "metadata": {},
   "outputs": [
    {
     "name": "stdout",
     "output_type": "stream",
     "text": [
      "service/svc-example created\n"
     ]
    }
   ],
   "source": [
    "!kubectl apply -f manifests/nodeport.yaml"
   ]
  },
  {
   "cell_type": "markdown",
   "metadata": {},
   "source": [
    "## Let's look at the Service's YAML\n",
    "\n",
    "**Note:**\n",
    "\n",
    "- The service's name is `svc-example`.\n",
    "- The service's is:\n",
    "  - Listening for external (public) traffic on `nodePort` 32410.\n",
    "  - Listening for internal (private) traffic on `port` 80.\n",
    "  - Redirecting traffic to `targetPort` 80.\n",
    "- The servie's `selector` defines two labels (that match the Pod template's labels for the Deployment):\n",
    "  - `app: nginx` and `env: prod`\n",
    "  - This means the Service will (round robin) load balance between the three Pods in the Deployment's ReplicaSet.\n",
    "\n",
    "```bash\n",
    "apiVersion: v1\n",
    "kind: Service\n",
    "metadata:\n",
    "  name: svc-example    # the Service's name is svc-example\n",
    "spec:\n",
    "  type: NodePort       # the Service's type is NodePort\n",
    "  selector:\n",
    "    app: nginx         # the Service's selector defines two labels (the Service's selector matches the Pod template's two labels):\n",
    "    env: prod          # app = nginx and env = prod\n",
    "  ports:\n",
    "  - nodePort: 32410    # the Service is listening for external (public) traffic on nodePort 32410\n",
    "    protocol: TCP      # the Service's protocol is TCP\n",
    "    port: 80           # the Service is listening for internal (private) traffic on port 80\n",
    "    targetPort: 80     # the Service is redirecting traffic to targetPort 80\n",
    "```"
   ]
  },
  {
   "cell_type": "code",
   "execution_count": 4,
   "metadata": {},
   "outputs": [
    {
     "name": "stdout",
     "output_type": "stream",
     "text": [
      "apiVersion: v1\n",
      "kind: Service\n",
      "metadata:\n",
      "  name: svc-example\n",
      "spec:\n",
      "  type: NodePort\n",
      "  selector:\n",
      "    app: nginx\n",
      "    env: prod\n",
      "  ports:\n",
      "  - nodePort: 32410\n",
      "    protocol: TCP\n",
      "    port: 80\n",
      "    targetPort: 80"
     ]
    }
   ],
   "source": [
    "#!type manifests/nodeport.yaml #use this on Windows\n",
    "!cat manifests/nodeport.yaml"
   ]
  },
  {
   "cell_type": "markdown",
   "metadata": {},
   "source": [
    "## List Pods\n",
    "\n",
    "- We see that three Pods are running."
   ]
  },
  {
   "cell_type": "code",
   "execution_count": 5,
   "metadata": {},
   "outputs": [
    {
     "name": "stdout",
     "output_type": "stream",
     "text": [
      "NAME                            READY   STATUS    RESTARTS   AGE   IP           NODE           NOMINATED NODE   READINESS GATES\n",
      "deploy-nginx-7b944585d7-78n7r   1/1     Running   0          16s   10.244.1.8   minikube-m02   <none>           <none>\n",
      "deploy-nginx-7b944585d7-fpqp7   1/1     Running   0          16s   10.244.2.7   minikube-m03   <none>           <none>\n",
      "deploy-nginx-7b944585d7-x9tl5   1/1     Running   0          16s   10.244.0.9   minikube       <none>           <none>\n"
     ]
    }
   ],
   "source": [
    "#!kubectl get po -o wide\n",
    "!kubectl get pods -o wide"
   ]
  },
  {
   "cell_type": "markdown",
   "metadata": {},
   "source": [
    "## List Services\n",
    "\n",
    "- Notice the `TYPE` is `NodePort` for the `svc-example` Service (with `nodePort` = `32410`).\n",
    "  - This means any of the nodes' IP addreses can be used to access the cluster externally (publicly) using port `32410`."
   ]
  },
  {
   "cell_type": "code",
   "execution_count": 6,
   "metadata": {},
   "outputs": [
    {
     "name": "stdout",
     "output_type": "stream",
     "text": [
      "NAME          TYPE        CLUSTER-IP       EXTERNAL-IP   PORT(S)        AGE   SELECTOR\n",
      "kubernetes    ClusterIP   10.96.0.1        <none>        443/TCP        11h   <none>\n",
      "svc-example   NodePort    10.106.244.119   <none>        80:32410/TCP   16s   app=nginx,env=prod\n"
     ]
    }
   ],
   "source": [
    "#!kubectl get svc -o wide\n",
    "!kubectl get services -o wide"
   ]
  },
  {
   "cell_type": "markdown",
   "metadata": {},
   "source": [
    "## List Nodes\n",
    "\n",
    "- Since we have a `NodePort` Service:\n",
    "  - Any of the nodes' IP addresses (`INTERNAL-IP`) provide public access to the cluster using `nodePort` `32410`."
   ]
  },
  {
   "cell_type": "code",
   "execution_count": 7,
   "metadata": {},
   "outputs": [
    {
     "name": "stdout",
     "output_type": "stream",
     "text": [
      "NAME           STATUS   ROLES           AGE   VERSION   INTERNAL-IP    EXTERNAL-IP   OS-IMAGE             KERNEL-VERSION                       CONTAINER-RUNTIME\n",
      "minikube       Ready    control-plane   11h   v1.28.3   192.168.49.2   <none>        Ubuntu 22.04.3 LTS   5.15.133.1-microsoft-standard-WSL2   docker://24.0.7\n",
      "minikube-m02   Ready    <none>          12m   v1.28.3   192.168.49.3   <none>        Ubuntu 22.04.3 LTS   5.15.133.1-microsoft-standard-WSL2   docker://24.0.7\n",
      "minikube-m03   Ready    <none>          12m   v1.28.3   192.168.49.4   <none>        Ubuntu 22.04.3 LTS   5.15.133.1-microsoft-standard-WSL2   docker://24.0.7\n"
     ]
    }
   ],
   "source": [
    "!kubectl get nodes -o wide"
   ]
  },
  {
   "cell_type": "markdown",
   "metadata": {},
   "source": [
    "## Access Service\n",
    "\n",
    "- Use any node's IP address (`INTERNAL-IP`) and the NodePort number: `http://IP:NodePort`\n",
    "  - If the NodePort number was not explicitly defined, you can get the assigned NodePort number with the command below:\n",
    "    - `kubectl get service svc-example --output='jsonpath=\"{.spec.ports[0].nodePort}\"`\n",
    "  - Alternatively, you can run the command below in a terminal (keep it open) to use localhost with the returned port number:\n",
    "    - `minikube service svc-example --url`\n",
    "- When using a cloud provider, you would use the cloud provider node's public IP address (`EXTERNAL-IP`) and NodePort."
   ]
  },
  {
   "cell_type": "code",
   "execution_count": 8,
   "metadata": {},
   "outputs": [
    {
     "name": "stdout",
     "output_type": "stream",
     "text": [
      "<!DOCTYPE html>\n",
      "<html>\n",
      "<head>\n",
      "<title>Welcome to nginx!</title>\n",
      "<style>\n",
      "html { color-scheme: light dark; }\n",
      "body { width: 35em; margin: 0 auto;\n",
      "font-family: Tahoma, Verdana, Arial, sans-serif; }\n",
      "</style>\n",
      "</head>\n",
      "<body>\n",
      "<h1>Welcome to nginx!</h1>\n",
      "<p>If you see this page, the nginx web server is successfully installed and\n",
      "working. Further configuration is required.</p>\n",
      "\n",
      "<p>For online documentation and support please refer to\n",
      "<a href=\"http://nginx.org/\">nginx.org</a>.<br/>\n",
      "Commercial support is available at\n",
      "<a href=\"http://nginx.com/\">nginx.com</a>.</p>\n",
      "\n",
      "<p><em>Thank you for using nginx.</em></p>\n",
      "</body>\n",
      "</html>\n"
     ]
    }
   ],
   "source": [
    "!curl http://192.168.49.2:32410"
   ]
  },
  {
   "cell_type": "markdown",
   "metadata": {},
   "source": [
    "## Delete the Service and Deployment"
   ]
  },
  {
   "cell_type": "code",
   "execution_count": 9,
   "metadata": {},
   "outputs": [
    {
     "name": "stdout",
     "output_type": "stream",
     "text": [
      "service \"svc-example\" deleted\n",
      "deployment.apps \"deploy-nginx\" deleted\n"
     ]
    }
   ],
   "source": [
    "!kubectl delete -f manifests/nodeport.yaml\n",
    "!kubectl delete -f manifests/deploy-app.yaml"
   ]
  },
  {
   "cell_type": "markdown",
   "metadata": {},
   "source": [
    "## List Services, Deployments and Pods\n",
    "\n",
    "- We see that the Service and Deployment (with its three Pods) have been deleted."
   ]
  },
  {
   "cell_type": "code",
   "execution_count": 10,
   "metadata": {},
   "outputs": [
    {
     "name": "stdout",
     "output_type": "stream",
     "text": [
      "NAME         TYPE        CLUSTER-IP   EXTERNAL-IP   PORT(S)   AGE   SELECTOR\n",
      "kubernetes   ClusterIP   10.96.0.1    <none>        443/TCP   11h   <none>\n",
      "No resources found in default namespace.\n",
      "No resources found in default namespace.\n"
     ]
    }
   ],
   "source": [
    "#!kubectl get svc -o wide\n",
    "#!kubectl get deploy -o wide\n",
    "#!kubectl get po -o wide\n",
    "!kubectl get services -o wide\n",
    "!kubectl get deployments -o wide\n",
    "!kubectl get pods -o wide"
   ]
  },
  {
   "cell_type": "code",
   "execution_count": null,
   "metadata": {},
   "outputs": [],
   "source": []
  }
 ],
 "metadata": {
  "kernelspec": {
   "display_name": "Python 3",
   "language": "python",
   "name": "python3"
  },
  "language_info": {
   "codemirror_mode": {
    "name": "ipython",
    "version": 3
   },
   "file_extension": ".py",
   "mimetype": "text/x-python",
   "name": "python",
   "nbconvert_exporter": "python",
   "pygments_lexer": "ipython3",
   "version": "3.10.13"
  }
 },
 "nbformat": 4,
 "nbformat_minor": 2
}
