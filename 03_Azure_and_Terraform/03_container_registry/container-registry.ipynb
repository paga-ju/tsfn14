{
 "cells": [
  {
   "cell_type": "markdown",
   "metadata": {},
   "source": [
    "## Initialize Terraform"
   ]
  },
  {
   "cell_type": "code",
   "execution_count": 1,
   "metadata": {
    "vscode": {
     "languageId": "shellscript"
    }
   },
   "outputs": [
    {
     "name": "stdout",
     "output_type": "stream",
     "text": [
      "\n",
      "\u001b[0m\u001b[1mInitializing the backend...\u001b[0m\n",
      "\n",
      "\u001b[0m\u001b[1mInitializing provider plugins...\u001b[0m\n",
      "- Finding hashicorp/azurerm versions matching \"3.90.0\"...\n",
      "- Installing hashicorp/azurerm v3.90.0...\n",
      "- Installed hashicorp/azurerm v3.90.0 (signed by HashiCorp)\n",
      "\n",
      "Terraform has created a lock file \u001b[1m.terraform.lock.hcl\u001b[0m to record the provider\n",
      "selections it made above. Include this file in your version control repository\n",
      "so that Terraform can guarantee to make the same selections by default when\n",
      "you run \"terraform init\" in the future.\u001b[0m\n",
      "\n",
      "\u001b[0m\u001b[1m\u001b[32mTerraform has been successfully initialized!\u001b[0m\u001b[32m\u001b[0m\n",
      "\u001b[0m\u001b[32m\n",
      "You may now begin working with Terraform. Try running \"terraform plan\" to see\n",
      "any changes that are required for your infrastructure. All Terraform commands\n",
      "should now work.\n",
      "\n",
      "If you ever set or change modules or backend configuration for Terraform,\n",
      "rerun this command to reinitialize your working directory. If you forget, other\n",
      "commands will detect it and remind you to do so if necessary.\u001b[0m\n"
     ]
    }
   ],
   "source": [
    "#rm -rf .terraform rm .terraform.lock.hcl terraform.tfstate terraform.tfstate.backup\n",
    "!terraform init"
   ]
  },
  {
   "cell_type": "markdown",
   "metadata": {},
   "source": [
    "## View `resource-group.tf`"
   ]
  },
  {
   "cell_type": "code",
   "execution_count": 2,
   "metadata": {
    "vscode": {
     "languageId": "shellscript"
    }
   },
   "outputs": [
    {
     "name": "stdout",
     "output_type": "stream",
     "text": [
      "# Creates a resource group in your Azure account.\n",
      "\n",
      "resource \"azurerm_resource_group\" \"main\" {\n",
      "  name     = var.app_name\n",
      "  location = var.location\n",
      "}\n"
     ]
    }
   ],
   "source": [
    "!type resource-group.tf #use this on WIndows\n",
    "!cat resource-group.tf"
   ]
  },
  {
   "cell_type": "markdown",
   "metadata": {},
   "source": [
    "## View `container-registry.tf`"
   ]
  },
  {
   "cell_type": "code",
   "execution_count": 3,
   "metadata": {
    "vscode": {
     "languageId": "shellscript"
    }
   },
   "outputs": [
    {
     "name": "stdout",
     "output_type": "stream",
     "text": [
      "# Creates a container registry in Azure (for Docker images).\n",
      "# Note!\n",
      "# - Resource \"azurerm_resource_group.main\" with a property \"name\" is defined in the file \"resource-group.tf\".\n",
      "# - The value for \"resource_group_name\" below is set using property \"name\" in resource \"azurerm_resource_group.main\":\n",
      "#   - resource_group_name = azurerm_resource_group.main.name\n",
      "# - \"name\" and \"location\" below are set from Terraform variables defined in the file \"variables.tf\".\n",
      "\n",
      "\n",
      "resource \"azurerm_container_registry\" \"main\" {\n",
      "  name                = var.app_name\n",
      "  resource_group_name = azurerm_resource_group.main.name\n",
      "  location            = var.location\n",
      "  admin_enabled       = true\n",
      "  sku                 = \"Basic\"\n",
      "}\n"
     ]
    }
   ],
   "source": [
    "!type container-registry.tf #use this on Windows\n",
    "!cat container-registry.tf"
   ]
  },
  {
   "cell_type": "markdown",
   "metadata": {},
   "source": [
    "## Terraform Apply"
   ]
  },
  {
   "cell_type": "code",
   "execution_count": 4,
   "metadata": {
    "vscode": {
     "languageId": "shellscript"
    }
   },
   "outputs": [
    {
     "name": "stdout",
     "output_type": "stream",
     "text": [
      "\n",
      "Terraform used the selected providers to generate the following execution plan.\n",
      "Resource actions are indicated with the following symbols:\n",
      "  \u001b[32m+\u001b[0m create\u001b[0m\n",
      "\n",
      "Terraform will perform the following actions:\n",
      "\n",
      "\u001b[1m  # azurerm_container_registry.main\u001b[0m will be created\n",
      "\u001b[0m  \u001b[32m+\u001b[0m\u001b[0m resource \"azurerm_container_registry\" \"main\" {\n",
      "      \u001b[32m+\u001b[0m\u001b[0m admin_enabled                 = true\n",
      "      \u001b[32m+\u001b[0m\u001b[0m admin_password                = (sensitive value)\n",
      "      \u001b[32m+\u001b[0m\u001b[0m admin_username                = (known after apply)\n",
      "      \u001b[32m+\u001b[0m\u001b[0m encryption                    = (known after apply)\n",
      "      \u001b[32m+\u001b[0m\u001b[0m export_policy_enabled         = true\n",
      "      \u001b[32m+\u001b[0m\u001b[0m id                            = (known after apply)\n",
      "      \u001b[32m+\u001b[0m\u001b[0m location                      = \"westeurope\"\n",
      "      \u001b[32m+\u001b[0m\u001b[0m login_server                  = (known after apply)\n",
      "      \u001b[32m+\u001b[0m\u001b[0m name                          = \"tsfn14g00\"\n",
      "      \u001b[32m+\u001b[0m\u001b[0m network_rule_bypass_option    = \"AzureServices\"\n",
      "      \u001b[32m+\u001b[0m\u001b[0m network_rule_set              = (known after apply)\n",
      "      \u001b[32m+\u001b[0m\u001b[0m public_network_access_enabled = true\n",
      "      \u001b[32m+\u001b[0m\u001b[0m resource_group_name           = \"tsfn14g00\"\n",
      "      \u001b[32m+\u001b[0m\u001b[0m retention_policy              = (known after apply)\n",
      "      \u001b[32m+\u001b[0m\u001b[0m sku                           = \"Basic\"\n",
      "      \u001b[32m+\u001b[0m\u001b[0m trust_policy                  = (known after apply)\n",
      "      \u001b[32m+\u001b[0m\u001b[0m zone_redundancy_enabled       = false\n",
      "    }\n",
      "\n",
      "\u001b[1m  # azurerm_resource_group.main\u001b[0m will be created\n",
      "\u001b[0m  \u001b[32m+\u001b[0m\u001b[0m resource \"azurerm_resource_group\" \"main\" {\n",
      "      \u001b[32m+\u001b[0m\u001b[0m id       = (known after apply)\n",
      "      \u001b[32m+\u001b[0m\u001b[0m location = \"westeurope\"\n",
      "      \u001b[32m+\u001b[0m\u001b[0m name     = \"tsfn14g00\"\n",
      "    }\n",
      "\n",
      "\u001b[1mPlan:\u001b[0m 2 to add, 0 to change, 0 to destroy.\n",
      "\u001b[0m\u001b[0m\u001b[1mazurerm_resource_group.main: Creating...\u001b[0m\u001b[0m\n",
      "\u001b[0m\u001b[1mazurerm_resource_group.main: Creation complete after 2s [id=/subscriptions/dc438970-aa32-41b3-8fe2-f587309a0208/resourceGroups/tsfn14g00]\u001b[0m\n",
      "\u001b[0m\u001b[1mazurerm_container_registry.main: Creating...\u001b[0m\u001b[0m\n",
      "\u001b[0m\u001b[1mazurerm_container_registry.main: Still creating... [10s elapsed]\u001b[0m\u001b[0m\n",
      "\u001b[0m\u001b[1mazurerm_container_registry.main: Still creating... [20s elapsed]\u001b[0m\u001b[0m\n",
      "\u001b[0m\u001b[1mazurerm_container_registry.main: Creation complete after 21s [id=/subscriptions/dc438970-aa32-41b3-8fe2-f587309a0208/resourceGroups/tsfn14g00/providers/Microsoft.ContainerRegistry/registries/tsfn14g00]\u001b[0m\n",
      "\u001b[0m\u001b[1m\u001b[32m\n",
      "Apply complete! Resources: 2 added, 0 changed, 0 destroyed.\n",
      "\u001b[0m\n"
     ]
    }
   ],
   "source": [
    "!terraform apply -auto-approve"
   ]
  },
  {
   "cell_type": "markdown",
   "metadata": {},
   "source": [
    "## List Azure Resource Groups"
   ]
  },
  {
   "cell_type": "code",
   "execution_count": 5,
   "metadata": {
    "vscode": {
     "languageId": "shellscript"
    }
   },
   "outputs": [
    {
     "name": "stdout",
     "output_type": "stream",
     "text": [
      "Name       Location    Status\n",
      "---------  ----------  ---------\n",
      "tsfn14g00  westeurope  Succeeded\n"
     ]
    }
   ],
   "source": [
    "!az group list -o table"
   ]
  },
  {
   "cell_type": "markdown",
   "metadata": {},
   "source": [
    "## List Azure Container Registries"
   ]
  },
  {
   "cell_type": "code",
   "execution_count": 6,
   "metadata": {
    "vscode": {
     "languageId": "shellscript"
    }
   },
   "outputs": [
    {
     "name": "stdout",
     "output_type": "stream",
     "text": [
      "NAME       RESOURCE GROUP    LOCATION    SKU    LOGIN SERVER          CREATION DATE         ADMIN ENABLED\n",
      "---------  ----------------  ----------  -----  --------------------  --------------------  ---------------\n",
      "tsfn14g00  tsfn14g00         westeurope  Basic  tsfn14g00.azurecr.io  2024-02-02T17:10:55Z  True\n"
     ]
    }
   ],
   "source": [
    "!az acr list -o table"
   ]
  },
  {
   "cell_type": "markdown",
   "metadata": {},
   "source": [
    "## List Images in Container Registry `tsfn14g00 `"
   ]
  },
  {
   "cell_type": "code",
   "execution_count": 7,
   "metadata": {
    "vscode": {
     "languageId": "shellscript"
    }
   },
   "outputs": [
    {
     "name": "stdout",
     "output_type": "stream",
     "text": [
      "\n"
     ]
    }
   ],
   "source": [
    "!az acr repository list -n tsfn14g00 --top 10 -o table"
   ]
  },
  {
   "cell_type": "markdown",
   "metadata": {},
   "source": [
    "## Show Information about Azure Container Registry `tsfn14g00`\n",
    "\n",
    "- You can use this command to get the `LOGIN SERVER` which is the URL to your Container Registry on Azure.\n",
    "  - This is the URL you would use to upload Docker Containers to the Azure Container Registry."
   ]
  },
  {
   "cell_type": "code",
   "execution_count": 8,
   "metadata": {
    "vscode": {
     "languageId": "shellscript"
    }
   },
   "outputs": [
    {
     "name": "stdout",
     "output_type": "stream",
     "text": [
      "NAME       RESOURCE GROUP    LOCATION    SKU    LOGIN SERVER          CREATION DATE         ADMIN ENABLED\n",
      "---------  ----------------  ----------  -----  --------------------  --------------------  ---------------\n",
      "tsfn14g00  tsfn14g00         westeurope  Basic  tsfn14g00.azurecr.io  2024-02-02T17:10:55Z  True\n",
      "\n",
      "CONTAINER_REGISTRY_LOGIN_SERVER: tsfn14g00.azurecr.io\n"
     ]
    }
   ],
   "source": [
    "!az acr show -n tsfn14g00 -o table"
   ]
  },
  {
   "cell_type": "markdown",
   "metadata": {},
   "source": [
    "## Show Credentials for Azure Container Registry `tsfn14g00`\n",
    "\n",
    "- You can use this command to get the `USERBAME` and `PASSWORD` to use to authenticate with your Azure Container Registry."
   ]
  },
  {
   "cell_type": "code",
   "execution_count": 9,
   "metadata": {
    "vscode": {
     "languageId": "shellscript"
    }
   },
   "outputs": [
    {
     "name": "stdout",
     "output_type": "stream",
     "text": [
      "USERNAME    PASSWORD                                              PASSWORD2\n",
      "----------  ----------------------------------------------------  ----------------------------------------------------\n",
      "tsfn14g00   IqzyfIYZTRJOYFe+amTGQGdomW5nPfgqZMLon6MG2Z+ACRAMjKNe  yhL5NskBFWSUHMzyNmgy6pefO6qSxfnI8vsEuGTQfZ+ACRB8Y8bw\n",
      "\n",
      "CONTAINER_REGISTRY_USERNAME: tsfn14g00\n",
      "CONTAINER_REGISTRY_PASSWORD: IqzyfIYZTRJOYFe+amTGQGdomW5nPfgqZMLon6MG2Z+ACRAMjKNe\n"
     ]
    }
   ],
   "source": [
    "!az acr credential show -n tsfn14g00 -o table"
   ]
  },
  {
   "cell_type": "markdown",
   "metadata": {},
   "source": [
    "## Login to Azure Container Registry via Docker\n",
    "\n",
    "- Replace the variables below with your `LOGIN_SERVER`, `USERNAME` and `PASSWORD`."
   ]
  },
  {
   "cell_type": "code",
   "execution_count": 10,
   "metadata": {
    "vscode": {
     "languageId": "shellscript"
    }
   },
   "outputs": [],
   "source": [
    "!echo $PASSWORD | docker login $LOGIN_SERVER -u $USERNAME --password-stdin  > /dev/null 2>&1"
   ]
  },
  {
   "cell_type": "markdown",
   "metadata": {},
   "source": [
    "## Build and Push Docker Image to Azure Container Registry\n",
    "\n",
    "- Note, this code has only been tested on Ubuntu."
   ]
  },
  {
   "cell_type": "code",
   "execution_count": 11,
   "metadata": {
    "vscode": {
     "languageId": "shellscript"
    }
   },
   "outputs": [
    {
     "name": "stdout",
     "output_type": "stream",
     "text": [
      "Wrote to /home/patrick/projects/tsfn14/03_container_registry/video-streaming/package.json:\n",
      "\n",
      "{\n",
      "  \"name\": \"video-streaming\",\n",
      "  \"version\": \"1.0.0\",\n",
      "  \"description\": \"\",\n",
      "  \"main\": \"index.js\",\n",
      "  \"scripts\": {\n",
      "    \"test\": \"echo \\\"Error: no test specified\\\" && exit 1\"\n",
      "  },\n",
      "  \"keywords\": [],\n",
      "  \"author\": \"\",\n",
      "  \"license\": \"ISC\"\n",
      "}\n",
      "\n",
      "\n",
      "(\u001b[107;97m##################\u001b[0m) ⠹ reify:nodemon: \u001b[32;40mtiming\u001b[0m \u001b[35mreifyNode:node_modules/semver\u001b[0m Comp\u001b[0m\u001b[Kul\u001b[0m\u001b[Km\u001b[K[?25h\u001b[?25l(\u001b[100;90m⠂⠂⠂⠂⠂⠂⠂⠂⠂⠂⠂⠂⠂⠂⠂⠂⠂⠂\u001b[0m) ⠦ idealTree:video-streaming: \u001b[7msill\u001b[0m \u001b[35midealTree\u001b[0m buildDeps\u001b[0m\u001b[K\u001b[K\u001b[?25h\n",
      "failed to fetch metadata: fork/exec /usr/local/lib/docker/cli-plugins/docker-buildx: no such file or directory\n",
      "\n",
      "DEPRECATED: The legacy builder is deprecated and will be removed in a future release.\n",
      "            Install the buildx component to build images with BuildKit:\n",
      "            https://docs.docker.com/go/buildx/\n",
      "\n",
      "sha256:3ca223f84f9be92120d070261a7e96ef36ecc0d74f5aa2d36c5e50bd49003708\n",
      "The push refers to repository [tsfn14g00.azurecr.io/video-streaming]\n",
      "\n",
      "\u001b[1B7c64522f: Preparing \n",
      "\u001b[1B1416c0e3: Preparing \n",
      "\u001b[1B5ef28cc8: Preparing \n",
      "\u001b[1Bd5af7785: Preparing \n",
      "\u001b[1Bf9e986db: Preparing \n",
      "\u001b[1Bb5a78515: Preparing \n",
      "\u001b[2Bb5a78515: Waiting g \n",
      "\u001b[1Bfe81adaa: Preparing \n",
      "\u001b[2Blatest: digest: sha256:61bd97058495742153b841265eeeb39204ba70b02a23975fddb1847976cb9fff size: 2203\n",
      "\u001b[01;31m\u001b[KREPOSITORY\u001b[m\u001b[K                    TAG             IMAGE ID       CREATED         SIZE\n"
     ]
    }
   ],
   "source": [
    "# Prepare Nodejs Application\n",
    "#rm -rf ./video-streaming/node_modules ./video-streaming/package.json ./video-streaming/package-lock.json\n",
    "cd ./video-streaming && \\\n",
    "npm init -y && \\\n",
    "npm pkg set 'main'='./src/index.js' && \\\n",
    "npm pkg set 'scripts.start'='node ./src/index.js' && \\\n",
    "npm pkg set 'scripts.start:dev'='nodemon ./src/index.js' && \\\n",
    "npm pkg delete 'scripts.test' && \\\n",
    "npm install --silent --save express@5.0.0-beta.1 && \\\n",
    "npm install --silent --save-dev nodemon@3.0.3 && \\\n",
    "cd ..\n",
    "\n",
    "# Build Docker image with Nodejs Application\n",
    "docker build -q -t video-streaming:1 -f ./video-streaming/Dockerfile ./video-streaming\n",
    "docker tag video-streaming:1 $CONTAINER_REGISTRY_LOGIN_SERVER/video-streaming:1\n",
    "\n",
    "# Push Docker Image to Azure Container Registry\n",
    "docker push $CONTAINER_REGISTRY_LOGIN_SERVER/video-streaming:1\n",
    "\n",
    "# Clean up\n",
    "docker rmi video-streaming:1 > /dev/null 2>&1\n",
    "docker rmi $CONTAINER_REGISTRY_LOGIN_SERVER/video-streaming:1 > /dev/null 2>&1\n",
    "docker image list | grep -i -E 'REPOSITORY|video-streaming'"
   ]
  },
  {
   "cell_type": "markdown",
   "metadata": {},
   "source": [
    "## List Images in Container Registry `tsfn14g00 `"
   ]
  },
  {
   "cell_type": "code",
   "execution_count": 12,
   "metadata": {
    "vscode": {
     "languageId": "shellscript"
    }
   },
   "outputs": [
    {
     "name": "stdout",
     "output_type": "stream",
     "text": [
      "Result\n",
      "---------------\n",
      "video-streaming\n"
     ]
    }
   ],
   "source": [
    "!az acr repository list -n tsfn14g00 --top 10 -o table"
   ]
  },
  {
   "cell_type": "markdown",
   "metadata": {},
   "source": [
    "## Show Info. about Image `video-streaming` in Azure Container Registry"
   ]
  },
  {
   "cell_type": "code",
   "execution_count": 13,
   "metadata": {
    "vscode": {
     "languageId": "shellscript"
    }
   },
   "outputs": [
    {
     "name": "stdout",
     "output_type": "stream",
     "text": [
      "CreatedTime                  Digest                                                                   LastUpdateTime               Name    Signed\n",
      "---------------------------  -----------------------------------------------------------------------  ---------------------------  ------  --------\n",
      "2024-02-02T17:12:25.800828Z  sha256:61bd97058495742153b841265eeeb39204ba70b02a23975fddb1847976cb9fff  2024-02-02T17:12:25.800828Z  latest  False\n",
      "\n",
      "CreatedTime                   ImageName        LastUpdateTime                ManifestCount    Registry              TagCount\n",
      "----------------------------  ---------------  ----------------------------  ---------------  --------------------  ----------\n",
      "2024-02-02T17:12:25.6611897Z  video-streaming  2024-02-02T17:12:25.7665149Z  1                tsfn14g00.azurecr.io  1\n",
      "\n",
      "Result\n",
      "--------\n",
      "latest\n"
     ]
    }
   ],
   "source": [
    "!az acr repository show -n tsfn14g00 --image video-streaming:1 -o table\n",
    "!echo ''\n",
    "!az acr repository show -n tsfn14g00 --repository video-streaming -o table\n",
    "!echo ''\n",
    "!az acr repository show-tags -n tsfn14g00 --repository video-streaming --top 10 -o table"
   ]
  },
  {
   "cell_type": "markdown",
   "metadata": {},
   "source": [
    "## Show Azure Container Registry Usage"
   ]
  },
  {
   "cell_type": "code",
   "execution_count": 14,
   "metadata": {
    "vscode": {
     "languageId": "shellscript"
    }
   },
   "outputs": [
    {
     "name": "stdout",
     "output_type": "stream",
     "text": [
      "NAME       LIMIT        CURRENT VALUE    UNIT\n",
      "---------  -----------  ---------------  ------\n",
      "Size       10737418240  56542045         Bytes\n",
      "Webhooks   2            0                Count\n",
      "ScopeMaps  100          0                Count\n",
      "Tokens     100          0                Count\n"
     ]
    }
   ],
   "source": [
    "!az acr show-usage -n tsfn14g00 -o table"
   ]
  },
  {
   "cell_type": "markdown",
   "metadata": {},
   "source": [
    "## Pull and Run Docker Image from Azure Container Registry"
   ]
  },
  {
   "cell_type": "code",
   "execution_count": 15,
   "metadata": {
    "vscode": {
     "languageId": "shellscript"
    }
   },
   "outputs": [
    {
     "name": "stdout",
     "output_type": "stream",
     "text": [
      "Unable to find image 'tsfn14g00.azurecr.io/video-streaming:latest' locally\n",
      "latest: Pulling from video-streaming\n",
      "\n",
      "\u001b[1Bfdb3b6a5: Already exists \n",
      "\u001b[1B750296b3: Already exists \n",
      "\u001b[1Bbc07f19b: Already exists \n",
      "\u001b[1B83a79857: Already exists \n",
      "\u001b[1Bb12b63f4: Pulling fs layer \n",
      "\u001b[1Bf42ac151: Pulling fs layer \n",
      "\u001b[1B0b73d6d3: Pulling fs layer \n",
      "\u001b[1B3de62452: Pulling fs layer \n",
      "\u001b[1BDigest: sha256:61bd97058495742153b841265eeeb39204ba70b02a23975fddb1847976cb9fff\n",
      "Status: Downloaded newer image for tsfn14g00.azurecr.io/video-streaming:latest\n",
      "e0aedca03cd0d48eaeb5c15a777efd5529272c0143f5706771ccecb0edb0b0eb\n",
      "CONTAINER ID   IMAGE                                         COMMAND                  CREATED        STATUS                  PORTS                                       NAMES\n",
      "e0aedca03cd0   tsfn14g00.azurecr.io/video-streaming:latest   \"docker-entrypoint.s…\"   1 second ago   Up Less than a second   0.0.0.0:3000->3000/tcp, :::3000->3000/tcp   video-streaming\n",
      "[GFX1-]: glxtest: ManageChildProcess failed\n",
      "\n"
     ]
    }
   ],
   "source": [
    "!docker run --name video-streaming  -d -p 3000:3000 -e PORT=3000 $CONTAINER_REGISTRY_LOGIN_SERVER/video-streaming:1\n",
    "!docker ps\n",
    "!docker logs video-streaming\n",
    "#!docker exec -it video-streaming /bin/sh\n",
    "\n",
    "## Open URL `http://localhost:3000/video` in Firefox browser\n",
    "!firefox http://localhost:3000/video"
   ]
  },
  {
   "cell_type": "markdown",
   "metadata": {},
   "source": [
    "## Stop and Remove Container and Local Image"
   ]
  },
  {
   "cell_type": "code",
   "execution_count": 16,
   "metadata": {
    "vscode": {
     "languageId": "shellscript"
    }
   },
   "outputs": [
    {
     "name": "stdout",
     "output_type": "stream",
     "text": [
      "video-streaming\n",
      "video-streaming\n",
      "CONTAINER ID   \u001b[01;31m\u001b[KIMAGE\u001b[m\u001b[K                                 COMMAND                  CREATED      STATUS                    PORTS                                                                                                                                  NAMES\n",
      "\u001b[01;31m\u001b[KREPOSITORY\u001b[m\u001b[K                    TAG             IMAGE ID       CREATED         SIZE\n"
     ]
    }
   ],
   "source": [
    "!docker stop video-streaming\n",
    "!docker rm video-streaming\n",
    "!docker ps -a | grep -i -E 'IMAGE|video-streaming'\n",
    "!docker rmi $CONTAINER_REGISTRY_LOGIN_SERVER/video-streaming:1 > /dev/null 2>&1\n",
    "!docker image list | grep -i -E 'REPOSITORY|video-streaming'"
   ]
  },
  {
   "cell_type": "markdown",
   "metadata": {},
   "source": [
    "## Logout from Azure Container Registry via Docker"
   ]
  },
  {
   "cell_type": "code",
   "execution_count": 17,
   "metadata": {
    "vscode": {
     "languageId": "shellscript"
    }
   },
   "outputs": [],
   "source": [
    "!docker logout $CONTAINER_REGISTRY_LOGIN_SERVER > /dev/null 2>&1"
   ]
  },
  {
   "cell_type": "markdown",
   "metadata": {},
   "source": [
    "## Delete Image `video-streaming` from Azure Container Registry"
   ]
  },
  {
   "cell_type": "code",
   "execution_count": 18,
   "metadata": {
    "vscode": {
     "languageId": "shellscript"
    }
   },
   "outputs": [
    {
     "name": "stdout",
     "output_type": "stream",
     "text": [
      "\n"
     ]
    }
   ],
   "source": [
    "#!az acr repository delete -y -n tsfn14g00 --image video-streaming:1 -table\n",
    "!az acr repository delete -y -n tsfn14g00 --repository video-streaming -o table"
   ]
  },
  {
   "cell_type": "markdown",
   "metadata": {},
   "source": [
    "## List Images in Container Registry `tsfn14g00 `"
   ]
  },
  {
   "cell_type": "code",
   "execution_count": 19,
   "metadata": {
    "vscode": {
     "languageId": "shellscript"
    }
   },
   "outputs": [
    {
     "name": "stdout",
     "output_type": "stream",
     "text": [
      "\n"
     ]
    }
   ],
   "source": [
    "!az acr repository list -n tsfn14g00 --top 10 -o table"
   ]
  },
  {
   "cell_type": "markdown",
   "metadata": {},
   "source": [
    "## Terraform Destroy"
   ]
  },
  {
   "cell_type": "code",
   "execution_count": 20,
   "metadata": {
    "vscode": {
     "languageId": "shellscript"
    }
   },
   "outputs": [
    {
     "name": "stdout",
     "output_type": "stream",
     "text": [
      "\u001b[0m\u001b[1mazurerm_resource_group.main: Refreshing state... [id=/subscriptions/dc438970-aa32-41b3-8fe2-f587309a0208/resourceGroups/tsfn14g00]\u001b[0m\n",
      "\u001b[0m\u001b[1mazurerm_container_registry.main: Refreshing state... [id=/subscriptions/dc438970-aa32-41b3-8fe2-f587309a0208/resourceGroups/tsfn14g00/providers/Microsoft.ContainerRegistry/registries/tsfn14g00]\u001b[0m\n",
      "\n",
      "Terraform used the selected providers to generate the following execution plan.\n",
      "Resource actions are indicated with the following symbols:\n",
      "  \u001b[31m-\u001b[0m destroy\u001b[0m\n",
      "\n",
      "Terraform will perform the following actions:\n",
      "\n",
      "\u001b[1m  # azurerm_container_registry.main\u001b[0m will be \u001b[1m\u001b[31mdestroyed\u001b[0m\n",
      "\u001b[0m  \u001b[31m-\u001b[0m\u001b[0m resource \"azurerm_container_registry\" \"main\" {\n",
      "      \u001b[31m-\u001b[0m\u001b[0m admin_enabled                 = true \u001b[90m-> null\u001b[0m\u001b[0m\n",
      "      \u001b[31m-\u001b[0m\u001b[0m admin_password                = (sensitive value) \u001b[90m-> null\u001b[0m\u001b[0m\n",
      "      \u001b[31m-\u001b[0m\u001b[0m admin_username                = \"tsfn14g00\" \u001b[90m-> null\u001b[0m\u001b[0m\n",
      "      \u001b[31m-\u001b[0m\u001b[0m anonymous_pull_enabled        = false \u001b[90m-> null\u001b[0m\u001b[0m\n",
      "      \u001b[31m-\u001b[0m\u001b[0m data_endpoint_enabled         = false \u001b[90m-> null\u001b[0m\u001b[0m\n",
      "      \u001b[31m-\u001b[0m\u001b[0m encryption                    = [\n",
      "          \u001b[31m-\u001b[0m\u001b[0m {\n",
      "              \u001b[31m-\u001b[0m\u001b[0m enabled            = false\n",
      "              \u001b[31m-\u001b[0m\u001b[0m identity_client_id = \"\"\n",
      "              \u001b[31m-\u001b[0m\u001b[0m key_vault_key_id   = \"\"\n",
      "            },\n",
      "        ] \u001b[90m-> null\u001b[0m\u001b[0m\n",
      "      \u001b[31m-\u001b[0m\u001b[0m export_policy_enabled         = true \u001b[90m-> null\u001b[0m\u001b[0m\n",
      "      \u001b[31m-\u001b[0m\u001b[0m id                            = \"/subscriptions/dc438970-aa32-41b3-8fe2-f587309a0208/resourceGroups/tsfn14g00/providers/Microsoft.ContainerRegistry/registries/tsfn14g00\" \u001b[90m-> null\u001b[0m\u001b[0m\n",
      "      \u001b[31m-\u001b[0m\u001b[0m location                      = \"westeurope\" \u001b[90m-> null\u001b[0m\u001b[0m\n",
      "      \u001b[31m-\u001b[0m\u001b[0m login_server                  = \"tsfn14g00.azurecr.io\" \u001b[90m-> null\u001b[0m\u001b[0m\n",
      "      \u001b[31m-\u001b[0m\u001b[0m name                          = \"tsfn14g00\" \u001b[90m-> null\u001b[0m\u001b[0m\n",
      "      \u001b[31m-\u001b[0m\u001b[0m network_rule_bypass_option    = \"AzureServices\" \u001b[90m-> null\u001b[0m\u001b[0m\n",
      "      \u001b[31m-\u001b[0m\u001b[0m network_rule_set              = [] \u001b[90m-> null\u001b[0m\u001b[0m\n",
      "      \u001b[31m-\u001b[0m\u001b[0m public_network_access_enabled = true \u001b[90m-> null\u001b[0m\u001b[0m\n",
      "      \u001b[31m-\u001b[0m\u001b[0m quarantine_policy_enabled     = false \u001b[90m-> null\u001b[0m\u001b[0m\n",
      "      \u001b[31m-\u001b[0m\u001b[0m resource_group_name           = \"tsfn14g00\" \u001b[90m-> null\u001b[0m\u001b[0m\n",
      "      \u001b[31m-\u001b[0m\u001b[0m retention_policy              = [\n",
      "          \u001b[31m-\u001b[0m\u001b[0m {\n",
      "              \u001b[31m-\u001b[0m\u001b[0m days    = 7\n",
      "              \u001b[31m-\u001b[0m\u001b[0m enabled = false\n",
      "            },\n",
      "        ] \u001b[90m-> null\u001b[0m\u001b[0m\n",
      "      \u001b[31m-\u001b[0m\u001b[0m sku                           = \"Basic\" \u001b[90m-> null\u001b[0m\u001b[0m\n",
      "      \u001b[31m-\u001b[0m\u001b[0m tags                          = {} \u001b[90m-> null\u001b[0m\u001b[0m\n",
      "      \u001b[31m-\u001b[0m\u001b[0m trust_policy                  = [\n",
      "          \u001b[31m-\u001b[0m\u001b[0m {\n",
      "              \u001b[31m-\u001b[0m\u001b[0m enabled = false\n",
      "            },\n",
      "        ] \u001b[90m-> null\u001b[0m\u001b[0m\n",
      "      \u001b[31m-\u001b[0m\u001b[0m zone_redundancy_enabled       = false \u001b[90m-> null\u001b[0m\u001b[0m\n",
      "    }\n",
      "\n",
      "\u001b[1m  # azurerm_resource_group.main\u001b[0m will be \u001b[1m\u001b[31mdestroyed\u001b[0m\n",
      "\u001b[0m  \u001b[31m-\u001b[0m\u001b[0m resource \"azurerm_resource_group\" \"main\" {\n",
      "      \u001b[31m-\u001b[0m\u001b[0m id       = \"/subscriptions/dc438970-aa32-41b3-8fe2-f587309a0208/resourceGroups/tsfn14g00\" \u001b[90m-> null\u001b[0m\u001b[0m\n",
      "      \u001b[31m-\u001b[0m\u001b[0m location = \"westeurope\" \u001b[90m-> null\u001b[0m\u001b[0m\n",
      "      \u001b[31m-\u001b[0m\u001b[0m name     = \"tsfn14g00\" \u001b[90m-> null\u001b[0m\u001b[0m\n",
      "      \u001b[31m-\u001b[0m\u001b[0m tags     = {} \u001b[90m-> null\u001b[0m\u001b[0m\n",
      "    }\n",
      "\n",
      "\u001b[1mPlan:\u001b[0m 0 to add, 0 to change, 2 to destroy.\n",
      "\u001b[0m\u001b[0m\u001b[1mazurerm_container_registry.main: Destroying... [id=/subscriptions/dc438970-aa32-41b3-8fe2-f587309a0208/resourceGroups/tsfn14g00/providers/Microsoft.ContainerRegistry/registries/tsfn14g00]\u001b[0m\u001b[0m\n",
      "\u001b[0m\u001b[1mazurerm_container_registry.main: Still destroying... [id=/subscriptions/dc438970-aa32-41b3-8fe2-...ContainerRegistry/registries/tsfn14g00, 10s elapsed]\u001b[0m\u001b[0m\n",
      "\u001b[0m\u001b[1mazurerm_container_registry.main: Destruction complete after 15s\u001b[0m\n",
      "\u001b[0m\u001b[1mazurerm_resource_group.main: Destroying... [id=/subscriptions/dc438970-aa32-41b3-8fe2-f587309a0208/resourceGroups/tsfn14g00]\u001b[0m\u001b[0m\n",
      "\u001b[0m\u001b[1mazurerm_resource_group.main: Still destroying... [id=/subscriptions/dc438970-aa32-41b3-8fe2-f587309a0208/resourceGroups/tsfn14g00, 10s elapsed]\u001b[0m\u001b[0m\n",
      "\u001b[0m\u001b[1mazurerm_resource_group.main: Still destroying... [id=/subscriptions/dc438970-aa32-41b3-8fe2-f587309a0208/resourceGroups/tsfn14g00, 20s elapsed]\u001b[0m\u001b[0m\n",
      "\u001b[0m\u001b[1mazurerm_resource_group.main: Still destroying... [id=/subscriptions/dc438970-aa32-41b3-8fe2-f587309a0208/resourceGroups/tsfn14g00, 30s elapsed]\u001b[0m\u001b[0m\n",
      "\u001b[0m\u001b[1mazurerm_resource_group.main: Still destroying... [id=/subscriptions/dc438970-aa32-41b3-8fe2-f587309a0208/resourceGroups/tsfn14g00, 40s elapsed]\u001b[0m\u001b[0m\n",
      "\u001b[0m\u001b[1mazurerm_resource_group.main: Still destroying... [id=/subscriptions/dc438970-aa32-41b3-8fe2-f587309a0208/resourceGroups/tsfn14g00, 50s elapsed]\u001b[0m\u001b[0m\n",
      "\u001b[0m\u001b[1mazurerm_resource_group.main: Still destroying... [id=/subscriptions/dc438970-aa32-41b3-8fe2-f587309a0208/resourceGroups/tsfn14g00, 1m0s elapsed]\u001b[0m\u001b[0m\n",
      "\u001b[0m\u001b[1mazurerm_resource_group.main: Destruction complete after 1m5s\u001b[0m\n",
      "\u001b[0m\u001b[1m\u001b[32m\n",
      "Destroy complete! Resources: 2 destroyed.\n",
      "\u001b[0m\n"
     ]
    }
   ],
   "source": [
    "!terraform destroy -auto-approve"
   ]
  },
  {
   "cell_type": "markdown",
   "metadata": {},
   "source": [
    "## List Azure Container Registries"
   ]
  },
  {
   "cell_type": "code",
   "execution_count": 21,
   "metadata": {
    "vscode": {
     "languageId": "shellscript"
    }
   },
   "outputs": [
    {
     "name": "stdout",
     "output_type": "stream",
     "text": [
      "\n"
     ]
    }
   ],
   "source": [
    "!az acr list -o table"
   ]
  },
  {
   "cell_type": "markdown",
   "metadata": {},
   "source": [
    "## List Azure Resource Groups"
   ]
  },
  {
   "cell_type": "code",
   "execution_count": 22,
   "metadata": {
    "vscode": {
     "languageId": "shellscript"
    }
   },
   "outputs": [
    {
     "name": "stdout",
     "output_type": "stream",
     "text": [
      "\n"
     ]
    }
   ],
   "source": [
    "!az group list -o table"
   ]
  },
  {
   "cell_type": "code",
   "execution_count": null,
   "metadata": {
    "vscode": {
     "languageId": "shellscript"
    }
   },
   "outputs": [],
   "source": []
  }
 ],
 "metadata": {
  "kernelspec": {
   "display_name": "Bash",
   "language": "bash",
   "name": "bash"
  },
  "language_info": {
   "codemirror_mode": "shell",
   "file_extension": ".sh",
   "mimetype": "text/x-sh",
   "name": "bash"
  }
 },
 "nbformat": 4,
 "nbformat_minor": 2
}
