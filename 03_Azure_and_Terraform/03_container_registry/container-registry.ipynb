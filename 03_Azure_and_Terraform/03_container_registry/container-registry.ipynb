{
 "cells": [
  {
   "cell_type": "markdown",
   "metadata": {},
   "source": [
    "## Create and Destroy a Container Registry in Azure using Terraform\n",
    "\n",
    "- An Azure Container Registry is used to store Images (similar to DockerHub).\n",
    "  - Since an Azure Container Registry is an Azure resource, it must be placed in an Azure Resource Group.\n",
    "- This Terraform Project consists of the Terraform files listed below:"
   ]
  },
  {
   "cell_type": "code",
   "execution_count": 1,
   "metadata": {
    "vscode": {
     "languageId": "shellscript"
    }
   },
   "outputs": [
    {
     "name": "stdout",
     "output_type": "stream",
     "text": [
      "container-registry.tf  providers.tf  resource-group.tf\tvariables.tf\n"
     ]
    }
   ],
   "source": [
    "#!dir *.tf # use this on Windows\n",
    "!ls *.tf"
   ]
  },
  {
   "cell_type": "markdown",
   "metadata": {},
   "source": [
    "## Terraform providers\n",
    "\n",
    "- We are using the same Terraform proviers as before (i.e. the `azurerm` provider for Azure)."
   ]
  },
  {
   "cell_type": "code",
   "execution_count": 2,
   "metadata": {
    "vscode": {
     "languageId": "shellscript"
    }
   },
   "outputs": [
    {
     "name": "stdout",
     "output_type": "stream",
     "text": [
      "# Initialises Terraform providers and sets their version numbers.\n",
      "\n",
      "terraform {\n",
      "  required_providers {\n",
      "    azurerm = {\n",
      "      source  = \"hashicorp/azurerm\"\n",
      "      version = \"3.90.0\"\n",
      "    }\n",
      "  }\n",
      "\n",
      "  required_version = \"~> 1.7.0\"\n",
      "}\n",
      "\n",
      "provider \"azurerm\" {\n",
      "  features {}\n",
      "}"
     ]
    }
   ],
   "source": [
    "#!type providers.tf # use this on Windows\n",
    "!cat providers.tf"
   ]
  },
  {
   "cell_type": "markdown",
   "metadata": {},
   "source": [
    "## Terraform variables\n",
    "\n",
    "- We are using the same Terraform variables as before.\n",
    "\n",
    "**Note! Make sure you change the value for the variable `app_name` to something unique!**"
   ]
  },
  {
   "cell_type": "code",
   "execution_count": 3,
   "metadata": {
    "vscode": {
     "languageId": "shellscript"
    }
   },
   "outputs": [
    {
     "name": "stdout",
     "output_type": "stream",
     "text": [
      "# Sets global variables for this Terraform project.\n",
      "\n",
      "variable app_name {\n",
      "  default = \"tsfn14g00\"\n",
      "}\n",
      "\n",
      "variable location {\n",
      "  default = \"westeurope\"\n",
      "}"
     ]
    }
   ],
   "source": [
    "#!type variables.tf # use this on Windows\n",
    "!cat variables.tf"
   ]
  },
  {
   "cell_type": "markdown",
   "metadata": {},
   "source": [
    "## Azure Resource Group\n",
    "\n",
    "- We are using the same Azure Resoure Group as before."
   ]
  },
  {
   "cell_type": "code",
   "execution_count": 4,
   "metadata": {
    "vscode": {
     "languageId": "shellscript"
    }
   },
   "outputs": [
    {
     "name": "stdout",
     "output_type": "stream",
     "text": [
      "# Creates a resource group in your Azure account.\n",
      "\n",
      "resource \"azurerm_resource_group\" \"main\" {\n",
      "  name     = var.app_name\n",
      "  location = var.location\n",
      "}"
     ]
    }
   ],
   "source": [
    "#!type resource-group.tf # use this on Windows\n",
    "!cat resource-group.tf"
   ]
  },
  {
   "cell_type": "markdown",
   "metadata": {},
   "source": [
    "## Let's view the contents of the file `container-registry.tf`\n",
    "\n",
    "- Here we are defining an Azure Resource Group\n",
    "  - The Block Type is `resource`.\n",
    "  - The first Block Label is `azurerm_container_registry`\n",
    "    - `azurerm` is the name of the provider (i.e. the provider for Azure defined in the file `providers.tf`).\n",
    "    - `container_registry` is the name of the Azure resource (i.e. an Azure Container Registry defined in the `azurerm` provider/plugin).\n",
    "  - The first Argument sets the Azure Container Registry's name\n",
    "    - `name` is the argument's name\n",
    "    - Its value is retrieved from the Terraform variable `app_name` (defined in the file `variables.tf`).\n",
    "  - The second Argument sets the Azure Resource Group in which the Azure Container Registry will be created\n",
    "    - `resource_group_name` is the argument's name\n",
    "    - Its value is retrieved from the Terraform Expression `azurerm_resource_group.main.name`.\n",
    "      - The `azurerm_resource_group.main` Block is defined in `resource-group.tf` as `resource \"azurerm_resource_group\" \"main\"`.\n",
    "      - In this Block, there is an Argument with a name of `name` who's value is defined as `var.app_name`.\n",
    "      - This is the value that is assigned to `resource_group_name`.\n",
    "  - The third Argument sets the Azure Container Registry's Location\n",
    "    - `location` is the argument's name\n",
    "    - Its value is retrieved from the Terraform variable `location` (defined in the file `variables.tf`).\n",
    "  - The fourth Argument enables the Azure Container Registry's Amin Account\n",
    "    - `locaadmin_enabledtion` is the argument's name\n",
    "    - Its value is set to `true`.\n",
    "    - For more information about the Azure Container Registry's Admin accoun, see:\n",
    "      - https://learn.microsoft.com/en-us/azure/container-registry/container-registry-authentication?tabs=azure-cli\n",
    "  - The fifth Argument sets the Azure Container Registry's service tier (also known as SKU).\n",
    "    - `sku` is the argument's name\n",
    "    - Its value is set to `\"Basic\"`.\n",
    "    - For more information about Azure Container Registry SKUs, see:\n",
    "      - https://learn.microsoft.com/en-us/azure/container-registry/container-registry-skus."
   ]
  },
  {
   "cell_type": "code",
   "execution_count": 5,
   "metadata": {
    "vscode": {
     "languageId": "shellscript"
    }
   },
   "outputs": [
    {
     "name": "stdout",
     "output_type": "stream",
     "text": [
      "# Creates a container registry in Azure (for Docker images).\n",
      "# Note!\n",
      "# - Resource \"azurerm_resource_group.main\" with a property \"name\" is defined in the file \"resource-group.tf\".\n",
      "# - The value for \"resource_group_name\" below is set using property \"name\" in resource \"azurerm_resource_group.main\":\n",
      "#   - resource_group_name = azurerm_resource_group.main.name\n",
      "# - \"name\" and \"location\" below are set from Terraform variables defined in the file \"variables.tf\".\n",
      "\n",
      "\n",
      "resource \"azurerm_container_registry\" \"main\" {\n",
      "  name                = var.app_name\n",
      "  resource_group_name = azurerm_resource_group.main.name\n",
      "  location            = var.location\n",
      "  admin_enabled       = true\n",
      "  sku                 = \"Basic\"\n",
      "}"
     ]
    }
   ],
   "source": [
    "#!type container-registry.tf # use this on Windows\n",
    "!cat container-registry.tf"
   ]
  },
  {
   "cell_type": "markdown",
   "metadata": {},
   "source": [
    "## Initialize Terraform\n",
    "\n",
    "- The Terraform CLI command `terraform init` initializes the Terraform Project."
   ]
  },
  {
   "cell_type": "code",
   "execution_count": 6,
   "metadata": {
    "vscode": {
     "languageId": "shellscript"
    }
   },
   "outputs": [
    {
     "name": "stdout",
     "output_type": "stream",
     "text": [
      "\n",
      "\u001b[0m\u001b[1mInitializing the backend...\u001b[0m\n",
      "\n",
      "\u001b[0m\u001b[1mInitializing provider plugins...\u001b[0m\n",
      "- Finding hashicorp/azurerm versions matching \"3.90.0\"...\n",
      "- Installing hashicorp/azurerm v3.90.0...\n",
      "- Installed hashicorp/azurerm v3.90.0 (signed by HashiCorp)\n",
      "\n",
      "Terraform has created a lock file \u001b[1m.terraform.lock.hcl\u001b[0m to record the provider\n",
      "selections it made above. Include this file in your version control repository\n",
      "so that Terraform can guarantee to make the same selections by default when\n",
      "you run \"terraform init\" in the future.\u001b[0m\n",
      "\n",
      "\u001b[0m\u001b[1m\u001b[32mTerraform has been successfully initialized!\u001b[0m\u001b[32m\u001b[0m\n",
      "\u001b[0m\u001b[32m\n",
      "You may now begin working with Terraform. Try running \"terraform plan\" to see\n",
      "any changes that are required for your infrastructure. All Terraform commands\n",
      "should now work.\n",
      "\n",
      "If you ever set or change modules or backend configuration for Terraform,\n",
      "rerun this command to reinitialize your working directory. If you forget, other\n",
      "commands will detect it and remind you to do so if necessary.\u001b[0m\n"
     ]
    }
   ],
   "source": [
    "#rm -rf .terraform rm .terraform.lock.hcl terraform.tfstate terraform.tfstate.backup\n",
    "!terraform init"
   ]
  },
  {
   "cell_type": "markdown",
   "metadata": {},
   "source": [
    "## Terraform Apply\n",
    "\n",
    "- The Terraform CLI command `terraform apply -auto-approve` applies (creates/updates) the resources defined in the Terraform project."
   ]
  },
  {
   "cell_type": "code",
   "execution_count": 7,
   "metadata": {
    "vscode": {
     "languageId": "shellscript"
    }
   },
   "outputs": [
    {
     "name": "stdout",
     "output_type": "stream",
     "text": [
      "\n",
      "Terraform used the selected providers to generate the following execution plan.\n",
      "Resource actions are indicated with the following symbols:\n",
      "  \u001b[32m+\u001b[0m create\u001b[0m\n",
      "\n",
      "Terraform will perform the following actions:\n",
      "\n",
      "\u001b[1m  # azurerm_container_registry.main\u001b[0m will be created\n",
      "\u001b[0m  \u001b[32m+\u001b[0m\u001b[0m resource \"azurerm_container_registry\" \"main\" {\n",
      "      \u001b[32m+\u001b[0m\u001b[0m admin_enabled                 = true\n",
      "      \u001b[32m+\u001b[0m\u001b[0m admin_password                = (sensitive value)\n",
      "      \u001b[32m+\u001b[0m\u001b[0m admin_username                = (known after apply)\n",
      "      \u001b[32m+\u001b[0m\u001b[0m encryption                    = (known after apply)\n",
      "      \u001b[32m+\u001b[0m\u001b[0m export_policy_enabled         = true\n",
      "      \u001b[32m+\u001b[0m\u001b[0m id                            = (known after apply)\n",
      "      \u001b[32m+\u001b[0m\u001b[0m location                      = \"westeurope\"\n",
      "      \u001b[32m+\u001b[0m\u001b[0m login_server                  = (known after apply)\n",
      "      \u001b[32m+\u001b[0m\u001b[0m name                          = \"tsfn14g00\"\n",
      "      \u001b[32m+\u001b[0m\u001b[0m network_rule_bypass_option    = \"AzureServices\"\n",
      "      \u001b[32m+\u001b[0m\u001b[0m network_rule_set              = (known after apply)\n",
      "      \u001b[32m+\u001b[0m\u001b[0m public_network_access_enabled = true\n",
      "      \u001b[32m+\u001b[0m\u001b[0m resource_group_name           = \"tsfn14g00\"\n",
      "      \u001b[32m+\u001b[0m\u001b[0m retention_policy              = (known after apply)\n",
      "      \u001b[32m+\u001b[0m\u001b[0m sku                           = \"Basic\"\n",
      "      \u001b[32m+\u001b[0m\u001b[0m trust_policy                  = (known after apply)\n",
      "      \u001b[32m+\u001b[0m\u001b[0m zone_redundancy_enabled       = false\n",
      "    }\n",
      "\n",
      "\u001b[1m  # azurerm_resource_group.main\u001b[0m will be created\n",
      "\u001b[0m  \u001b[32m+\u001b[0m\u001b[0m resource \"azurerm_resource_group\" \"main\" {\n",
      "      \u001b[32m+\u001b[0m\u001b[0m id       = (known after apply)\n",
      "      \u001b[32m+\u001b[0m\u001b[0m location = \"westeurope\"\n",
      "      \u001b[32m+\u001b[0m\u001b[0m name     = \"tsfn14g00\"\n",
      "    }\n",
      "\n",
      "\u001b[1mPlan:\u001b[0m 2 to add, 0 to change, 0 to destroy.\n",
      "\u001b[0m\u001b[0m\u001b[1mazurerm_resource_group.main: Creating...\u001b[0m\u001b[0m\n",
      "\u001b[0m\u001b[1mazurerm_resource_group.main: Creation complete after 0s [id=/subscriptions/dc438970-aa32-41b3-8fe2-f587309a0208/resourceGroups/tsfn14g00]\u001b[0m\n",
      "\u001b[0m\u001b[1mazurerm_container_registry.main: Creating...\u001b[0m\u001b[0m\n",
      "\u001b[0m\u001b[1mazurerm_container_registry.main: Still creating... [10s elapsed]\u001b[0m\u001b[0m\n",
      "\u001b[0m\u001b[1mazurerm_container_registry.main: Creation complete after 20s [id=/subscriptions/dc438970-aa32-41b3-8fe2-f587309a0208/resourceGroups/tsfn14g00/providers/Microsoft.ContainerRegistry/registries/tsfn14g00]\u001b[0m\n",
      "\u001b[0m\u001b[1m\u001b[32m\n",
      "Apply complete! Resources: 2 added, 0 changed, 0 destroyed.\n",
      "\u001b[0m"
     ]
    }
   ],
   "source": [
    "!terraform apply -auto-approve"
   ]
  },
  {
   "cell_type": "markdown",
   "metadata": {},
   "source": [
    "## List Azure Resource Groups\n",
    "\n",
    "- The Azure CLI command `az group list -o table` lists all Resource Groups in Azure.\n",
    "- We see that the Resource Group defined in the Terraform project has been created."
   ]
  },
  {
   "cell_type": "code",
   "execution_count": 8,
   "metadata": {
    "vscode": {
     "languageId": "shellscript"
    }
   },
   "outputs": [
    {
     "name": "stdout",
     "output_type": "stream",
     "text": [
      "Name       Location    Status\n",
      "---------  ----------  ---------\n",
      "tsfn14g00  westeurope  Succeeded\n"
     ]
    }
   ],
   "source": [
    "!az group list -o table"
   ]
  },
  {
   "cell_type": "markdown",
   "metadata": {},
   "source": [
    "## List Resources in Resource Group `tsfn14g00`\n",
    "\n",
    "- The Azure CLI command `az resource list -n tsfn14g00 -o table` lists resources in Resource Group `tsfn14g00`.\n",
    "- We see that the Resource Group contains the Container Registry."
   ]
  },
  {
   "cell_type": "code",
   "execution_count": 9,
   "metadata": {
    "vscode": {
     "languageId": "shellscript"
    }
   },
   "outputs": [
    {
     "name": "stdout",
     "output_type": "stream",
     "text": [
      "Name       ResourceGroup    Location    Type                                    Status\n",
      "---------  ---------------  ----------  --------------------------------------  --------\n",
      "tsfn14g00  tsfn14g00        westeurope  Microsoft.ContainerRegistry/registries\n"
     ]
    }
   ],
   "source": [
    "!az resource list -n tsfn14g00 -o table"
   ]
  },
  {
   "cell_type": "markdown",
   "metadata": {},
   "source": [
    "## List Azure Container Registries\n",
    "\n",
    "- The Azure CLI command `az acr list -o table` lists all Container Registries in Azure.\n",
    "- We see that the Container Registry defined in the Terraform project has been created."
   ]
  },
  {
   "cell_type": "code",
   "execution_count": 10,
   "metadata": {
    "vscode": {
     "languageId": "shellscript"
    }
   },
   "outputs": [
    {
     "name": "stdout",
     "output_type": "stream",
     "text": [
      "NAME       RESOURCE GROUP    LOCATION    SKU    LOGIN SERVER          CREATION DATE         ADMIN ENABLED\n",
      "---------  ----------------  ----------  -----  --------------------  --------------------  ---------------\n",
      "tsfn14g00  tsfn14g00         westeurope  Basic  tsfn14g00.azurecr.io  2024-02-09T22:52:15Z  True\n"
     ]
    }
   ],
   "source": [
    "!az acr list -o table"
   ]
  },
  {
   "cell_type": "markdown",
   "metadata": {},
   "source": [
    "## List Repositories in Container Registry `tsfn14g00 `\n",
    "\n",
    "- The Azure CLI command `az acr repository list -n tsfn14g00 --top 10 -o table` lists Repositories in a Azure Container Registry `tsfn14g00`.\n",
    "  - The `-n` option is manditory and specifies the `NAME` of the Container Registry.\n",
    "  - The `--top 10` limits the list to the first 10 Repositories (remove to see all Repositories).\n",
    "- We see that Container Registry `tsfn14g00` doesn't contain any Repositories."
   ]
  },
  {
   "cell_type": "code",
   "execution_count": 11,
   "metadata": {
    "vscode": {
     "languageId": "shellscript"
    }
   },
   "outputs": [
    {
     "name": "stdout",
     "output_type": "stream",
     "text": [
      "\n"
     ]
    }
   ],
   "source": [
    "!az acr repository list -n tsfn14g00 --top 10 -o table"
   ]
  },
  {
   "cell_type": "markdown",
   "metadata": {},
   "source": [
    "## Show Information about Azure Container Registry `tsfn14g00`\n",
    "\n",
    "- The Azure CLI command `az acr show -n tsfn14g00 -o table` shows information about Container Registry `tsfn14g00`.\n",
    "- It shows the Container Registry's `LOGIN SERVER` which is the URL to your Container Registry on Azure.\n",
    "  - **This is the URL you would use to upload Docker Images to the Azure Container Registry.**"
   ]
  },
  {
   "cell_type": "code",
   "execution_count": 12,
   "metadata": {
    "vscode": {
     "languageId": "shellscript"
    }
   },
   "outputs": [
    {
     "name": "stdout",
     "output_type": "stream",
     "text": [
      "NAME       RESOURCE GROUP    LOCATION    SKU    LOGIN SERVER          CREATION DATE         ADMIN ENABLED\n",
      "---------  ----------------  ----------  -----  --------------------  --------------------  ---------------\n",
      "tsfn14g00  tsfn14g00         westeurope  Basic  tsfn14g00.azurecr.io  2024-02-09T22:52:15Z  True\n"
     ]
    }
   ],
   "source": [
    "!az acr show -n tsfn14g00 -o table\n",
    "\n",
    "# Let's store the LOGIN SERVER in a Python variable so we can use it later in this notebook\n",
    "CONTAINER_REGISTRY_LOGIN_SERVER=!az acr show -n tsfn14g00 --query loginServer -o tsv\n",
    "CONTAINER_REGISTRY_LOGIN_SERVER=CONTAINER_REGISTRY_LOGIN_SERVER[0]"
   ]
  },
  {
   "cell_type": "markdown",
   "metadata": {},
   "source": [
    "## Show Credentials for Azure Container Registry `tsfn14g00`\n",
    "\n",
    "- The Azure CLI command `az acr credential show -n tsfn14g00 -o table` shows credentials about Container Registry `tsfn14g00`.\n",
    "- It shows the Container Registry's `USERNAME` and  `PASSWORD` to use to authenticate with your Azure Container Registry.\n",
    "  - **This is the USERNAME and PASSWORD you would use to login to Docker to upload Images to the Azure Container Registry.**"
   ]
  },
  {
   "cell_type": "code",
   "execution_count": 13,
   "metadata": {
    "vscode": {
     "languageId": "shellscript"
    }
   },
   "outputs": [
    {
     "name": "stdout",
     "output_type": "stream",
     "text": [
      "USERNAME    PASSWORD                                              PASSWORD2\n",
      "----------  ----------------------------------------------------  ----------------------------------------------------\n",
      "tsfn14g00   J1E8NJMcMh9HeVq9RyQxV4lH+/2A3mUB5Rn8L+FyqX+ACRDXHkVM  tzkfV4ihviN3Anq5hmBIHAscd5/ZogCBtyPRlr60X7+ACRC3Fy90\n"
     ]
    }
   ],
   "source": [
    "!az acr credential show -n tsfn14g00 -o table\n",
    "\n",
    "# Let's store the USERNAME and PASSWORD in Python variables so we can use them later in this notebook\n",
    "CONTAINER_REGISTRY_USERNAME=!az acr credential show -n tsfn14g00 --query username -o tsv\n",
    "CONTAINER_REGISTRY_USERNAME=CONTAINER_REGISTRY_USERNAME[0]\n",
    "CONTAINER_REGISTRY_PASSWORD=!az acr credential show -n tsfn14g00 --query passwords[0].value -o tsv\n",
    "CONTAINER_REGISTRY_PASSWORD=CONTAINER_REGISTRY_PASSWORD[0]"
   ]
  },
  {
   "cell_type": "markdown",
   "metadata": {},
   "source": [
    "## Login to Azure Container Registry via Docker\n",
    "\n",
    "- Replace the variables below with your `LOGIN_SERVER`, `USERNAME` and `PASSWORD`."
   ]
  },
  {
   "cell_type": "code",
   "execution_count": 15,
   "metadata": {
    "vscode": {
     "languageId": "shellscript"
    }
   },
   "outputs": [
    {
     "name": "stdout",
     "output_type": "stream",
     "text": [
      "WARNING! Using --password via the CLI is insecure. Use --password-stdin.\n",
      "Login Succeeded\n"
     ]
    }
   ],
   "source": [
    "!docker login $CONTAINER_REGISTRY_LOGIN_SERVER -u $CONTAINER_REGISTRY_USERNAME -p $CONTAINER_REGISTRY_PASSWORD\n",
    "\n",
    "# In Ubuntu with environment variables CONTAINER_REGISTRY_LOGIN_SERVER, CONTAINER_REGISTRY_USERNAME and CONTAINER_REGISTRY_USERNAME\n",
    "#!echo $PASSWORD | docker login $LOGIN_SERVER -u $USERNAME --password-stdin  > /dev/null 2>&1"
   ]
  },
  {
   "cell_type": "markdown",
   "metadata": {},
   "source": [
    "## Let's view the code in `video-streaming/src/index.js`\n",
    "\n",
    "- The file contains code for creating a simple Node.js application, including the steps:\n",
    "  1. Require the NPM package \"express\".\n",
    "  2. Read the environment variable PORT to use as the Express web server's listen port.\n",
    "  3. Creates an instance of an Express web server.\n",
    "  4. Define a GET route for the \"/video\" path.\n",
    "     1. Read information about the video file \"videos/SampleVideo_1280x720_1mb.mp4\".\n",
    "     2. Write the HTTP response header including information about the file size in bytes and content type (video/mp4).\n",
    "     3. Stream the file contents to the HTTP GET response.\n",
    "  5. Start the Express web server listening on the port stored in environment variable PORT.\n",
    "- As we see, this code produces a simple microservice that streams a video file from the file system to an HTTP GET response."
   ]
  },
  {
   "cell_type": "code",
   "execution_count": 16,
   "metadata": {
    "vscode": {
     "languageId": "shellscript"
    }
   },
   "outputs": [
    {
     "name": "stdout",
     "output_type": "stream",
     "text": [
      "const express = require(\"express\");\n",
      "const fs = require(\"fs\");\n",
      "\n",
      "if (!process.env.PORT) {\n",
      "    throw new Error(\"Please specify the port number for the HTTP server with the environment variable PORT.\");\n",
      "}\n",
      "\n",
      "const PORT = process.env.PORT;\n",
      "\n",
      "//\n",
      "// Application entry point.\n",
      "//\n",
      "async function main() {\n",
      "\n",
      "    const app = express();\n",
      "\n",
      "    app.get(\"/video\", async (req, res) => { // Route for streaming video.\n",
      "        \n",
      "        const videoPath = \"./videos/SampleVideo_1280x720_1mb.mp4\";\n",
      "        const stats = await fs.promises.stat(videoPath);\n",
      "    \n",
      "        res.writeHead(200, {\n",
      "            \"Content-Length\": stats.size,\n",
      "            \"Content-Type\": \"video/mp4\",\n",
      "        });\n",
      "\n",
      "        fs.createReadStream(videoPath).pipe(res);\n",
      "    });\n",
      "\n",
      "    app.listen(PORT, () => {\n",
      "        console.log(\"Microservice online.\");\n",
      "    });\n",
      "}\n",
      "\n",
      "main()\n",
      "    .catch(err => {\n",
      "        console.error(\"Microservice failed to start.\");\n",
      "        console.error(err && err.stack || err);\n",
      "    });"
     ]
    }
   ],
   "source": [
    "cat video-streaming/src/index.js"
   ]
  },
  {
   "cell_type": "markdown",
   "metadata": {},
   "source": [
    "## Initialize the Node.js project\n",
    "\n",
    "- Let's initialise the Node.js project for the microservice by:\n",
    "  - Running `npm init`.\n",
    "  - Running `npm pkg` to configure `package.json`.\n",
    "  - Running `npm install` to install the required NPM packages."
   ]
  },
  {
   "cell_type": "code",
   "execution_count": 17,
   "metadata": {
    "vscode": {
     "languageId": "shellscript"
    }
   },
   "outputs": [
    {
     "data": {
      "text/plain": [
       "['Wrote to /home/patrick/projects/tsfn14/tsfn14/03_Azure_and_Terraform/03_container_registry/video-streaming/package.json:',\n",
       " '',\n",
       " '{',\n",
       " '  \"name\": \"video-streaming\",',\n",
       " '  \"version\": \"1.0.0\",',\n",
       " '  \"description\": \"\",',\n",
       " '  \"main\": \"index.js\",',\n",
       " '  \"scripts\": {',\n",
       " '    \"test\": \"echo \\\\\"Error: no test specified\\\\\" && exit 1\"',\n",
       " '  },',\n",
       " '  \"keywords\": [],',\n",
       " '  \"author\": \"\",',\n",
       " '  \"license\": \"ISC\"',\n",
       " '}',\n",
       " '',\n",
       " '']"
      ]
     },
     "execution_count": 17,
     "metadata": {},
     "output_type": "execute_result"
    }
   ],
   "source": [
    "%%system\n",
    "#rm -rf ./video-streaming/node_modules ./video-streaming/package.json ./video-streaming/package-lock.json\n",
    "cd video-streaming\n",
    "npm init -y\n",
    "npm pkg set 'main'='./src/index.js'\n",
    "npm pkg set 'scripts.start'='node ./src/index.js'\n",
    "npm pkg set 'scripts.start:dev'='nodemon ./src/index.js'\n",
    "npm pkg delete 'scripts.test'\n",
    "npm install --silent --save express@5.0.0-beta.1\n",
    "npm install --silent --save-dev nodemon@3.0.3\n",
    "cd .."
   ]
  },
  {
   "cell_type": "markdown",
   "metadata": {},
   "source": [
    "## Let's look at the Docker file used to build an image of the Node.js project\n",
    "\n",
    "- Our image is based on the slimmed-down `alpine` version of `node:19.9.0`.\n",
    "- The working directory in the image is `/usr/src/app`.\n",
    "- The files `package.json` and `package-lock.json` are copied from the host computer to the image's working directory.\n",
    "- The command `npm ci --omit-dev` is run in the image's working directory which installs non-dev NPM packages from `package.json`.\n",
    "- The file `index.js` is copied from the host computer's `src` folder to the image's working directory's `src` folder.\n",
    "- The file `SampleVideo_1280x720_1mb.mp4` is copied from the host computer's `videos` folder to the image's working directory's `videos` folder.\n",
    "- The command `npm start` will be run in the working directory when an image container is started."
   ]
  },
  {
   "cell_type": "code",
   "execution_count": 18,
   "metadata": {
    "vscode": {
     "languageId": "shellscript"
    }
   },
   "outputs": [
    {
     "name": "stdout",
     "output_type": "stream",
     "text": [
      "FROM node:19.9.0-alpine\n",
      "\n",
      "WORKDIR /usr/src/app\n",
      "COPY package*.json ./\n",
      "RUN npm ci --omit=dev\n",
      "COPY ./src ./src\n",
      "COPY ./videos ./videos\n",
      "\n",
      "CMD npm start"
     ]
    }
   ],
   "source": [
    "#!type video-streaming/Dockerfile # use this on Windows\n",
    "!cat video-streaming/Dockerfile"
   ]
  },
  {
   "cell_type": "markdown",
   "metadata": {},
   "source": [
    "## Build and Push a Docker Image to Azure Container Registry\n",
    "\n",
    "- Here we are building an image of the Node.js application (microservice).\n",
    "- We are tagging the image as `tsfn14g00.azurecr.io/video-streaming:1,`where:\n",
    "  - `tsfn14g00.azurecr.io` is the URL (LOGIN SERVER) to our Container Registry.\n",
    "  - `video-streaming` is the name of our image (repository).\n",
    "  - `1` is the version of the image (tag).\n",
    "- Then the image is pushed to the Azure Container Registry.\n",
    "- Finally, the local image is removed from the host computer."
   ]
  },
  {
   "cell_type": "code",
   "execution_count": 19,
   "metadata": {
    "vscode": {
     "languageId": "shellscript"
    }
   },
   "outputs": [
    {
     "data": {
      "text/plain": [
       "['failed to fetch metadata: fork/exec /usr/local/lib/docker/cli-plugins/docker-buildx: no such file or directory',\n",
       " '',\n",
       " 'DEPRECATED: The legacy builder is deprecated and will be removed in a future release.',\n",
       " '            Install the buildx component to build images with BuildKit:',\n",
       " '            https://docs.docker.com/go/buildx/',\n",
       " '',\n",
       " 'sha256:73789e685819ffc37dbe32f7286ad311c23747c9a1c6eb446dc63d7d2b6472ee',\n",
       " 'The push refers to repository [tsfn14g00.azurecr.io/video-streaming]',\n",
       " '1e40cca48f0d: Preparing',\n",
       " 'cc739988f1f4: Preparing',\n",
       " '294e44ad6e13: Preparing',\n",
       " '64cbb0cf5f3d: Preparing',\n",
       " 'efab73490ce2: Preparing',\n",
       " 'e394b5a78515: Preparing',\n",
       " '9b2d5af7f709: Preparing',\n",
       " 'b240fe81adaa: Preparing',\n",
       " 'bb01bd7e32b5: Preparing',\n",
       " 'e394b5a78515: Waiting',\n",
       " 'bb01bd7e32b5: Waiting',\n",
       " '9b2d5af7f709: Waiting',\n",
       " 'efab73490ce2: Pushed',\n",
       " 'cc739988f1f4: Pushed',\n",
       " '64cbb0cf5f3d: Pushed',\n",
       " '294e44ad6e13: Pushed',\n",
       " '1e40cca48f0d: Pushed',\n",
       " 'e394b5a78515: Pushed',\n",
       " '9b2d5af7f709: Pushed',\n",
       " 'bb01bd7e32b5: Pushed',\n",
       " 'b240fe81adaa: Pushed',\n",
       " '1: digest: sha256:b6799df61b875afeb217a5c610fee236d7ebc80c806051905641000c7cc70b61 size: 2203',\n",
       " 'Untagged: tsfn14g00.azurecr.io/video-streaming:1',\n",
       " 'Untagged: tsfn14g00.azurecr.io/video-streaming@sha256:b6799df61b875afeb217a5c610fee236d7ebc80c806051905641000c7cc70b61',\n",
       " 'Deleted: sha256:73789e685819ffc37dbe32f7286ad311c23747c9a1c6eb446dc63d7d2b6472ee',\n",
       " 'Deleted: sha256:2318fbc5ab7115497f5aa5c9efe2fa3c6ab06a11300009bba9b8fdfce4f81a05',\n",
       " 'Deleted: sha256:a377240bf99c8c856959aa17459440cc87420125d249a0bf18501d0cab364522',\n",
       " 'Deleted: sha256:30096ba5f0c6b06448b04e303117781850cad6e27cd23337f2e66b47e0d2ba52',\n",
       " 'Deleted: sha256:65ba23a159f50dc7f8970b80a04e446d73da6d84bca2e52558376bb0a27df7d1',\n",
       " 'Deleted: sha256:8bef0c22ceda6832d256bf8dcdfb8cb7af754f2cad34070186240311255c9f70',\n",
       " 'Deleted: sha256:b74831dfb96b4f02b72aaa80db843698e5924252172cc9609b9b1aecf13d35bc',\n",
       " 'Deleted: sha256:f9d3f0da9c6c9caf789e2c730c5032a7f37f4118fca9f2798c87c91d397b678b',\n",
       " 'Deleted: sha256:214cc8a32e48279af14ac92f495d7002797fd92445989adb4dd500d642d69405',\n",
       " 'Deleted: sha256:c7ea031527c2a6d492f168409af49b79b832c26e6101741d0da0e210ba333ea7',\n",
       " 'Deleted: sha256:cb3a616826bab0dda9186eeb9cd167cbe6dc9ff05962a8d5791bd067043b48b9',\n",
       " 'REPOSITORY   TAG       IMAGE ID   CREATED   SIZE']"
      ]
     },
     "execution_count": 19,
     "metadata": {},
     "output_type": "execute_result"
    }
   ],
   "source": [
    "%%system\n",
    "\n",
    "# Build Docker image with Nodejs Application\n",
    "docker build -q -t {CONTAINER_REGISTRY_LOGIN_SERVER}/video-streaming:1 -f ./video-streaming/Dockerfile ./video-streaming\n",
    "\n",
    "# Push Docker Image to Azure Container Registry\n",
    "docker push {CONTAINER_REGISTRY_LOGIN_SERVER}/video-streaming:1\n",
    "\n",
    "# Clean up\n",
    "docker rmi {CONTAINER_REGISTRY_LOGIN_SERVER}/video-streaming:1\n",
    "docker images {CONTAINER_REGISTRY_LOGIN_SERVER}/video-streaming:1"
   ]
  },
  {
   "cell_type": "markdown",
   "metadata": {},
   "source": [
    "## List Repositories in Container Registry `tsfn14g00 `\n",
    "\n",
    "- We see that the Repository `video-streaming` has been created in Container Registry `tsfn14g00`."
   ]
  },
  {
   "cell_type": "code",
   "execution_count": 20,
   "metadata": {
    "vscode": {
     "languageId": "shellscript"
    }
   },
   "outputs": [
    {
     "name": "stdout",
     "output_type": "stream",
     "text": [
      "Result\n",
      "---------------\n",
      "video-streaming\n"
     ]
    }
   ],
   "source": [
    "!az acr repository list -n tsfn14g00 --top 10 -o table"
   ]
  },
  {
   "cell_type": "markdown",
   "metadata": {},
   "source": [
    "## Show Information about Repository `video-streaming`\n",
    "\n",
    "- The Azure CLI command `az acr repository show -n tsfn14g00 --repository video-streaming -o table`\n",
    "  - Shows information about Repository `video-streaming` in Container Registry `tsfn14g00`.\n",
    "    - It contains images named `video-streaming` (ImageName).\n",
    "    - It has a tag count of `1` (TagCount), i.e. currently there is only one tag for the `video-streaming` image."
   ]
  },
  {
   "cell_type": "code",
   "execution_count": 21,
   "metadata": {
    "vscode": {
     "languageId": "shellscript"
    }
   },
   "outputs": [
    {
     "name": "stdout",
     "output_type": "stream",
     "text": [
      "CreatedTime                  ImageName        LastUpdateTime                ManifestCount    Registry              TagCount\n",
      "---------------------------  ---------------  ----------------------------  ---------------  --------------------  ----------\n",
      "2024-02-09T23:14:19.067442Z  video-streaming  2024-02-09T23:14:19.1462558Z  1                tsfn14g00.azurecr.io  1\n"
     ]
    }
   ],
   "source": [
    "!az acr repository show -n tsfn14g00 --repository video-streaming -o table"
   ]
  },
  {
   "cell_type": "markdown",
   "metadata": {},
   "source": [
    "## List Tags in Repository `video-streaming`\n",
    "\n",
    "- The Azure CLI command `az acr repository show-tags -n tsfn14g00 --repository video-streaming --top 10 -o table`:\n",
    "  - Lists the tags in Repository `video-streaming` in Container Registry `tsfn14g00`.\n",
    "    - Currently there is only one tag.\n",
    "    - The tag has the value `1`."
   ]
  },
  {
   "cell_type": "code",
   "execution_count": 22,
   "metadata": {
    "vscode": {
     "languageId": "shellscript"
    }
   },
   "outputs": [
    {
     "name": "stdout",
     "output_type": "stream",
     "text": [
      "Result\n",
      "--------\n",
      "1\n"
     ]
    }
   ],
   "source": [
    "!az acr repository show-tags -n tsfn14g00 --repository video-streaming --top 10 -o table"
   ]
  },
  {
   "cell_type": "markdown",
   "metadata": {},
   "source": [
    "## Show Information about Image `video-streaming:1`\n",
    "\n",
    "- The Azure CLI command `az acr repository show -n tsfn14g00 --image video-streaming:1 -o table`:\n",
    "  - Shows information about image `video-streaming:1` in Container Registry `tsfn14g00`.\n",
    "    - The information includes the Digest for the image."
   ]
  },
  {
   "cell_type": "code",
   "execution_count": 23,
   "metadata": {
    "vscode": {
     "languageId": "shellscript"
    }
   },
   "outputs": [
    {
     "name": "stdout",
     "output_type": "stream",
     "text": [
      "CreatedTime                   Digest                                                                   LastUpdateTime                Name    Signed\n",
      "----------------------------  -----------------------------------------------------------------------  ----------------------------  ------  --------\n",
      "2024-02-09T23:14:19.1754364Z  sha256:b6799df61b875afeb217a5c610fee236d7ebc80c806051905641000c7cc70b61  2024-02-09T23:14:19.1754364Z  1       False\n"
     ]
    }
   ],
   "source": [
    "!az acr repository show -n tsfn14g00 --image video-streaming:1 -o table"
   ]
  },
  {
   "cell_type": "markdown",
   "metadata": {},
   "source": [
    "## Show Azure Container Registry Usage\n",
    "\n",
    "- The command `az acr show-usage -n tsfn14g00 -o table` shows the usage of Container Registry `tsfn14g00`.\n",
    "  - We can see the maximum number of allowed bytes in the `LIMIT` column (first row).\n",
    "  - We can see the current number of bytes in the `CURRENT VALUE` column (first row)."
   ]
  },
  {
   "cell_type": "code",
   "execution_count": 24,
   "metadata": {
    "vscode": {
     "languageId": "shellscript"
    }
   },
   "outputs": [
    {
     "name": "stdout",
     "output_type": "stream",
     "text": [
      "NAME       LIMIT        CURRENT VALUE    UNIT\n",
      "---------  -----------  ---------------  ------\n",
      "Size       10737418240  56544649         Bytes\n",
      "Webhooks   2            0                Count\n",
      "ScopeMaps  100          0                Count\n",
      "Tokens     100          0                Count\n"
     ]
    }
   ],
   "source": [
    "!az acr show-usage -n tsfn14g00 -o table"
   ]
  },
  {
   "cell_type": "markdown",
   "metadata": {},
   "source": [
    "## Pull and Run an Image from the Azure Container Registry\n",
    "\n",
    "- The image `video-streaming:1` will be pulled from the Azure Container Registry to the host computer.\n",
    "- Then a Container is created from the Image, where:\n",
    "  - The host computer's port 3000 is mapped to the container's port 3000.\n",
    "  - An environment variable PORT is created in the container with the value 3000."
   ]
  },
  {
   "cell_type": "code",
   "execution_count": 25,
   "metadata": {
    "vscode": {
     "languageId": "shellscript"
    }
   },
   "outputs": [
    {
     "data": {
      "text/plain": [
       "[\"Unable to find image 'tsfn14g00.azurecr.io/video-streaming:1' locally\",\n",
       " '1: Pulling from video-streaming',\n",
       " '8a49fdb3b6a5: Already exists',\n",
       " '1197750296b3: Already exists',\n",
       " 'f352bc07f19b: Already exists',\n",
       " '47be83a79857: Already exists',\n",
       " '7c392e84349e: Pulling fs layer',\n",
       " '7a544e00f2c1: Pulling fs layer',\n",
       " '2983b1db984a: Pulling fs layer',\n",
       " '3ec43100824d: Pulling fs layer',\n",
       " '9fc130cc4c7b: Pulling fs layer',\n",
       " '9fc130cc4c7b: Waiting',\n",
       " '3ec43100824d: Waiting',\n",
       " '7c392e84349e: Verifying Checksum',\n",
       " '7c392e84349e: Download complete',\n",
       " '7a544e00f2c1: Verifying Checksum',\n",
       " '7a544e00f2c1: Download complete',\n",
       " '7c392e84349e: Pull complete',\n",
       " '7a544e00f2c1: Pull complete',\n",
       " '2983b1db984a: Verifying Checksum',\n",
       " '2983b1db984a: Download complete',\n",
       " '3ec43100824d: Download complete',\n",
       " '9fc130cc4c7b: Verifying Checksum',\n",
       " '9fc130cc4c7b: Download complete',\n",
       " '2983b1db984a: Pull complete',\n",
       " '3ec43100824d: Pull complete',\n",
       " '9fc130cc4c7b: Pull complete',\n",
       " 'Digest: sha256:b6799df61b875afeb217a5c610fee236d7ebc80c806051905641000c7cc70b61',\n",
       " 'Status: Downloaded newer image for tsfn14g00.azurecr.io/video-streaming:1',\n",
       " 'ce59ee95c442d0fb8904cd863f1d115e28e327c591a48bd9804d2d2d1adc9f1c',\n",
       " 'CONTAINER ID   IMAGE                                    COMMAND                  CREATED                  STATUS                  PORTS                                       NAMES',\n",
       " 'ce59ee95c442   tsfn14g00.azurecr.io/video-streaming:1   \"docker-entrypoint.s…\"   Less than a second ago   Up Less than a second   0.0.0.0:3000->3000/tcp, :::3000->3000/tcp   video-streaming']"
      ]
     },
     "execution_count": 25,
     "metadata": {},
     "output_type": "execute_result"
    }
   ],
   "source": [
    "%%system\n",
    "\n",
    "docker run --name video-streaming -d -p 3000:3000 -e PORT=3000 {CONTAINER_REGISTRY_LOGIN_SERVER}/video-streaming:1\n",
    "docker ps\n",
    "docker logs video-streaming\n",
    "#docker exec -it video-streaming /bin/sh"
   ]
  },
  {
   "cell_type": "markdown",
   "metadata": {},
   "source": [
    "## Access the Microservice from a Web Browser\n",
    "\n",
    "- Open a web browser and enter the URL `http://localhost:3000/video`\n",
    "  - This will send an HTTP GET request to the microservice's GET route for the \"/video\" path.\n",
    "  - The video stored in the microservice's container will be streamed to the web browser."
   ]
  },
  {
   "cell_type": "code",
   "execution_count": 26,
   "metadata": {
    "vscode": {
     "languageId": "shellscript"
    }
   },
   "outputs": [],
   "source": [
    "#!firefox http://localhost:3000/video"
   ]
  },
  {
   "cell_type": "markdown",
   "metadata": {},
   "source": [
    "## Stop and Remove the Docker Container and Image from your computer\n",
    "\n",
    "- The Container `video-streaming` is stopped and removed from the host computer.\n",
    "- Then the Image `video-streaming:1` is removed from the host computer."
   ]
  },
  {
   "cell_type": "code",
   "execution_count": 27,
   "metadata": {
    "vscode": {
     "languageId": "shellscript"
    }
   },
   "outputs": [
    {
     "data": {
      "text/plain": [
       "['video-streaming',\n",
       " 'video-streaming',\n",
       " 'CONTAINER ID   IMAGE     COMMAND   CREATED   STATUS    PORTS     NAMES',\n",
       " 'Untagged: tsfn14g00.azurecr.io/video-streaming:1',\n",
       " 'Untagged: tsfn14g00.azurecr.io/video-streaming@sha256:b6799df61b875afeb217a5c610fee236d7ebc80c806051905641000c7cc70b61',\n",
       " 'Deleted: sha256:73789e685819ffc37dbe32f7286ad311c23747c9a1c6eb446dc63d7d2b6472ee',\n",
       " 'Deleted: sha256:a377240bf99c8c856959aa17459440cc87420125d249a0bf18501d0cab364522',\n",
       " 'Deleted: sha256:65ba23a159f50dc7f8970b80a04e446d73da6d84bca2e52558376bb0a27df7d1',\n",
       " 'Deleted: sha256:b74831dfb96b4f02b72aaa80db843698e5924252172cc9609b9b1aecf13d35bc',\n",
       " 'Deleted: sha256:214cc8a32e48279af14ac92f495d7002797fd92445989adb4dd500d642d69405',\n",
       " 'Deleted: sha256:cb3a616826bab0dda9186eeb9cd167cbe6dc9ff05962a8d5791bd067043b48b9',\n",
       " 'REPOSITORY   TAG       IMAGE ID   CREATED   SIZE']"
      ]
     },
     "execution_count": 27,
     "metadata": {},
     "output_type": "execute_result"
    }
   ],
   "source": [
    "%%system\n",
    "\n",
    "docker stop video-streaming\n",
    "docker rm video-streaming\n",
    "docker ps -a\n",
    "docker rmi {CONTAINER_REGISTRY_LOGIN_SERVER}/video-streaming:1\n",
    "docker images {CONTAINER_REGISTRY_LOGIN_SERVER}/video-streaming:1"
   ]
  },
  {
   "cell_type": "markdown",
   "metadata": {},
   "source": [
    "## Logout from the Azure Container Registry via Docker"
   ]
  },
  {
   "cell_type": "code",
   "execution_count": 30,
   "metadata": {
    "vscode": {
     "languageId": "shellscript"
    }
   },
   "outputs": [
    {
     "name": "stdout",
     "output_type": "stream",
     "text": [
      "Removing login credentials for tsfn14g00.azurecr.io\n"
     ]
    }
   ],
   "source": [
    "!docker logout $CONTAINER_REGISTRY_LOGIN_SERVER"
   ]
  },
  {
   "cell_type": "markdown",
   "metadata": {},
   "source": [
    "## Delete Repository `video-streaming` from Azure Container Registry\n",
    "\n",
    "- The Azure CLI command `az acr repository delete -y -n tsfn14g00 --repository video-streaming -o table`\n",
    "  - Deletes the Repository `video-streaming` in Container Registry `tsfn14g00`.\n",
    "  - Use this command to delete all images in Repository `video-streaming`.\n",
    "- The Azure CLI command `az acr repository delete -y -n tsfn14g00 --image video-streaming:1 -table`\n",
    "  - Deletes the Image `video-streaming:1` in Container Registry `tsfn14g00`.\n",
    "  - Use this command to delete one image from Repository `video-streaming`."
   ]
  },
  {
   "cell_type": "code",
   "execution_count": 29,
   "metadata": {
    "vscode": {
     "languageId": "shellscript"
    }
   },
   "outputs": [
    {
     "name": "stdout",
     "output_type": "stream",
     "text": [
      "\n"
     ]
    }
   ],
   "source": [
    "#!az acr repository delete -y -n tsfn14g00 --image video-streaming:1 -table\n",
    "!az acr repository delete -y -n tsfn14g00 --repository video-streaming -o table"
   ]
  },
  {
   "cell_type": "markdown",
   "metadata": {},
   "source": [
    "## List Repositories in Container Registry `tsfn14g00 `\n",
    "\n",
    "- We see that the Repository `video-streaming` has been deleted from Container Registry `tsfn14g00`."
   ]
  },
  {
   "cell_type": "code",
   "execution_count": 31,
   "metadata": {
    "vscode": {
     "languageId": "shellscript"
    }
   },
   "outputs": [
    {
     "name": "stdout",
     "output_type": "stream",
     "text": [
      "\n"
     ]
    }
   ],
   "source": [
    "!az acr repository list -n tsfn14g00 --top 10 -o table"
   ]
  },
  {
   "cell_type": "markdown",
   "metadata": {},
   "source": [
    "## Terraform Destroy\n",
    "\n",
    "- The Terraform CLI command `terraform destroy -auto-approve` destroys the resources defined in the Terraform project."
   ]
  },
  {
   "cell_type": "code",
   "execution_count": 32,
   "metadata": {
    "vscode": {
     "languageId": "shellscript"
    }
   },
   "outputs": [
    {
     "name": "stdout",
     "output_type": "stream",
     "text": [
      "\u001b[0m\u001b[1mazurerm_resource_group.main: Refreshing state... [id=/subscriptions/dc438970-aa32-41b3-8fe2-f587309a0208/resourceGroups/tsfn14g00]\u001b[0m\n",
      "\u001b[0m\u001b[1mazurerm_container_registry.main: Refreshing state... [id=/subscriptions/dc438970-aa32-41b3-8fe2-f587309a0208/resourceGroups/tsfn14g00/providers/Microsoft.ContainerRegistry/registries/tsfn14g00]\u001b[0m\n",
      "\n",
      "Terraform used the selected providers to generate the following execution plan.\n",
      "Resource actions are indicated with the following symbols:\n",
      "  \u001b[31m-\u001b[0m destroy\u001b[0m\n",
      "\n",
      "Terraform will perform the following actions:\n",
      "\n",
      "\u001b[1m  # azurerm_container_registry.main\u001b[0m will be \u001b[1m\u001b[31mdestroyed\u001b[0m\n",
      "\u001b[0m  \u001b[31m-\u001b[0m\u001b[0m resource \"azurerm_container_registry\" \"main\" {\n",
      "      \u001b[31m-\u001b[0m\u001b[0m admin_enabled                 = true \u001b[90m-> null\u001b[0m\u001b[0m\n",
      "      \u001b[31m-\u001b[0m\u001b[0m admin_password                = (sensitive value) \u001b[90m-> null\u001b[0m\u001b[0m\n",
      "      \u001b[31m-\u001b[0m\u001b[0m admin_username                = \"tsfn14g00\" \u001b[90m-> null\u001b[0m\u001b[0m\n",
      "      \u001b[31m-\u001b[0m\u001b[0m anonymous_pull_enabled        = false \u001b[90m-> null\u001b[0m\u001b[0m\n",
      "      \u001b[31m-\u001b[0m\u001b[0m data_endpoint_enabled         = false \u001b[90m-> null\u001b[0m\u001b[0m\n",
      "      \u001b[31m-\u001b[0m\u001b[0m encryption                    = [\n",
      "          \u001b[31m-\u001b[0m\u001b[0m {\n",
      "              \u001b[31m-\u001b[0m\u001b[0m enabled            = false\n",
      "              \u001b[31m-\u001b[0m\u001b[0m identity_client_id = \"\"\n",
      "              \u001b[31m-\u001b[0m\u001b[0m key_vault_key_id   = \"\"\n",
      "            },\n",
      "        ] \u001b[90m-> null\u001b[0m\u001b[0m\n",
      "      \u001b[31m-\u001b[0m\u001b[0m export_policy_enabled         = true \u001b[90m-> null\u001b[0m\u001b[0m\n",
      "      \u001b[31m-\u001b[0m\u001b[0m id                            = \"/subscriptions/dc438970-aa32-41b3-8fe2-f587309a0208/resourceGroups/tsfn14g00/providers/Microsoft.ContainerRegistry/registries/tsfn14g00\" \u001b[90m-> null\u001b[0m\u001b[0m\n",
      "      \u001b[31m-\u001b[0m\u001b[0m location                      = \"westeurope\" \u001b[90m-> null\u001b[0m\u001b[0m\n",
      "      \u001b[31m-\u001b[0m\u001b[0m login_server                  = \"tsfn14g00.azurecr.io\" \u001b[90m-> null\u001b[0m\u001b[0m\n",
      "      \u001b[31m-\u001b[0m\u001b[0m name                          = \"tsfn14g00\" \u001b[90m-> null\u001b[0m\u001b[0m\n",
      "      \u001b[31m-\u001b[0m\u001b[0m network_rule_bypass_option    = \"AzureServices\" \u001b[90m-> null\u001b[0m\u001b[0m\n",
      "      \u001b[31m-\u001b[0m\u001b[0m network_rule_set              = [] \u001b[90m-> null\u001b[0m\u001b[0m\n",
      "      \u001b[31m-\u001b[0m\u001b[0m public_network_access_enabled = true \u001b[90m-> null\u001b[0m\u001b[0m\n",
      "      \u001b[31m-\u001b[0m\u001b[0m quarantine_policy_enabled     = false \u001b[90m-> null\u001b[0m\u001b[0m\n",
      "      \u001b[31m-\u001b[0m\u001b[0m resource_group_name           = \"tsfn14g00\" \u001b[90m-> null\u001b[0m\u001b[0m\n",
      "      \u001b[31m-\u001b[0m\u001b[0m retention_policy              = [\n",
      "          \u001b[31m-\u001b[0m\u001b[0m {\n",
      "              \u001b[31m-\u001b[0m\u001b[0m days    = 7\n",
      "              \u001b[31m-\u001b[0m\u001b[0m enabled = false\n",
      "            },\n",
      "        ] \u001b[90m-> null\u001b[0m\u001b[0m\n",
      "      \u001b[31m-\u001b[0m\u001b[0m sku                           = \"Basic\" \u001b[90m-> null\u001b[0m\u001b[0m\n",
      "      \u001b[31m-\u001b[0m\u001b[0m tags                          = {} \u001b[90m-> null\u001b[0m\u001b[0m\n",
      "      \u001b[31m-\u001b[0m\u001b[0m trust_policy                  = [\n",
      "          \u001b[31m-\u001b[0m\u001b[0m {\n",
      "              \u001b[31m-\u001b[0m\u001b[0m enabled = false\n",
      "            },\n",
      "        ] \u001b[90m-> null\u001b[0m\u001b[0m\n",
      "      \u001b[31m-\u001b[0m\u001b[0m zone_redundancy_enabled       = false \u001b[90m-> null\u001b[0m\u001b[0m\n",
      "    }\n",
      "\n",
      "\u001b[1m  # azurerm_resource_group.main\u001b[0m will be \u001b[1m\u001b[31mdestroyed\u001b[0m\n",
      "\u001b[0m  \u001b[31m-\u001b[0m\u001b[0m resource \"azurerm_resource_group\" \"main\" {\n",
      "      \u001b[31m-\u001b[0m\u001b[0m id       = \"/subscriptions/dc438970-aa32-41b3-8fe2-f587309a0208/resourceGroups/tsfn14g00\" \u001b[90m-> null\u001b[0m\u001b[0m\n",
      "      \u001b[31m-\u001b[0m\u001b[0m location = \"westeurope\" \u001b[90m-> null\u001b[0m\u001b[0m\n",
      "      \u001b[31m-\u001b[0m\u001b[0m name     = \"tsfn14g00\" \u001b[90m-> null\u001b[0m\u001b[0m\n",
      "      \u001b[31m-\u001b[0m\u001b[0m tags     = {} \u001b[90m-> null\u001b[0m\u001b[0m\n",
      "    }\n",
      "\n",
      "\u001b[1mPlan:\u001b[0m 0 to add, 0 to change, 2 to destroy.\n",
      "\u001b[0m\u001b[0m\u001b[1mazurerm_container_registry.main: Destroying... [id=/subscriptions/dc438970-aa32-41b3-8fe2-f587309a0208/resourceGroups/tsfn14g00/providers/Microsoft.ContainerRegistry/registries/tsfn14g00]\u001b[0m\u001b[0m\n",
      "\u001b[0m\u001b[1mazurerm_container_registry.main: Still destroying... [id=/subscriptions/dc438970-aa32-41b3-8fe2-...ContainerRegistry/registries/tsfn14g00, 10s elapsed]\u001b[0m\u001b[0m\n",
      "\u001b[0m\u001b[1mazurerm_container_registry.main: Destruction complete after 13s\u001b[0m\n",
      "\u001b[0m\u001b[1mazurerm_resource_group.main: Destroying... [id=/subscriptions/dc438970-aa32-41b3-8fe2-f587309a0208/resourceGroups/tsfn14g00]\u001b[0m\u001b[0m\n",
      "\u001b[0m\u001b[1mazurerm_resource_group.main: Still destroying... [id=/subscriptions/dc438970-aa32-41b3-8fe2-f587309a0208/resourceGroups/tsfn14g00, 10s elapsed]\u001b[0m\u001b[0m\n",
      "\u001b[0m\u001b[1mazurerm_resource_group.main: Destruction complete after 16s\u001b[0m\n",
      "\u001b[0m\u001b[1m\u001b[32m\n",
      "Destroy complete! Resources: 2 destroyed.\n",
      "\u001b[0m"
     ]
    }
   ],
   "source": [
    "!terraform destroy -auto-approve"
   ]
  },
  {
   "cell_type": "markdown",
   "metadata": {},
   "source": [
    "## List Azure Container Registries\n",
    "\n",
    "- The Azure CLI command `az acr list -o table` lists all Container Registries in Azure.\n",
    "- We see that the Container Registry defined in the Terraform project has been destroyed."
   ]
  },
  {
   "cell_type": "code",
   "execution_count": 33,
   "metadata": {
    "vscode": {
     "languageId": "shellscript"
    }
   },
   "outputs": [
    {
     "name": "stdout",
     "output_type": "stream",
     "text": [
      "\n"
     ]
    }
   ],
   "source": [
    "!az acr list -o table"
   ]
  },
  {
   "cell_type": "markdown",
   "metadata": {},
   "source": [
    "## List Azure Resource Groups\n",
    "\n",
    "- The Azure CLI command `az group list -o table` lists all Resource Groups in Azure.\n",
    "- We see that the Resource Group defined in the Terraform project has been destroyed."
   ]
  },
  {
   "cell_type": "code",
   "execution_count": 34,
   "metadata": {
    "vscode": {
     "languageId": "shellscript"
    }
   },
   "outputs": [
    {
     "name": "stdout",
     "output_type": "stream",
     "text": [
      "\n"
     ]
    }
   ],
   "source": [
    "!az group list -o table"
   ]
  },
  {
   "cell_type": "code",
   "execution_count": null,
   "metadata": {
    "vscode": {
     "languageId": "shellscript"
    }
   },
   "outputs": [],
   "source": []
  }
 ],
 "metadata": {
  "kernelspec": {
   "display_name": "Python 3",
   "language": "python",
   "name": "python3"
  },
  "language_info": {
   "codemirror_mode": {
    "name": "ipython",
    "version": 3
   },
   "file_extension": ".py",
   "mimetype": "text/x-python",
   "name": "python",
   "nbconvert_exporter": "python",
   "pygments_lexer": "ipython3",
   "version": "3.10.13"
  }
 },
 "nbformat": 4,
 "nbformat_minor": 2
}
