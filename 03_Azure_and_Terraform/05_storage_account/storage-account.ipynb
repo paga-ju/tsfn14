{
 "cells": [
  {
   "cell_type": "markdown",
   "metadata": {},
   "source": [
    "## Initialize Terraform"
   ]
  },
  {
   "cell_type": "code",
   "execution_count": 59,
   "metadata": {
    "vscode": {
     "languageId": "shellscript"
    }
   },
   "outputs": [],
   "source": [
    "#rm -rf .terraform rm .terraform.lock.hcl terraform.tfstate terraform.tfstate.backup\n",
    "!terraform init"
   ]
  },
  {
   "cell_type": "markdown",
   "metadata": {},
   "source": [
    "## View `resource-group.tf`"
   ]
  },
  {
   "cell_type": "code",
   "execution_count": 56,
   "metadata": {
    "vscode": {
     "languageId": "shellscript"
    }
   },
   "outputs": [
    {
     "name": "stdout",
     "output_type": "stream",
     "text": [
      "# Creates a resource group in your Azure account.\n",
      "\n",
      "resource \"azurerm_resource_group\" \"main\" {\n",
      "  name     = var.app_name\n",
      "  location = var.location\n",
      "}\n"
     ]
    }
   ],
   "source": [
    "#!type resource-group.tf #use this on Windows\n",
    "!cat resource-group.tf"
   ]
  },
  {
   "cell_type": "markdown",
   "metadata": {},
   "source": [
    "## View `container-storage-account.tf`"
   ]
  },
  {
   "cell_type": "code",
   "execution_count": 57,
   "metadata": {
    "vscode": {
     "languageId": "shellscript"
    }
   },
   "outputs": [
    {
     "name": "stdout",
     "output_type": "stream",
     "text": [
      "# Create a storage account and storage container in Azure (for BLoBs, i.e. arbitrary files)\n",
      "\n",
      "# Note!\n",
      "# - Resource \"azurerm_resource_group.main\" with a property \"name\" is defined in the file \"resource-group.tf\".\n",
      "# - The value for \"resource_group_name\" below is set using property \"name\" in resource \"azurerm_resource_group.main\":\n",
      "#   - resource_group_name = azurerm_resource_group.main.name\n",
      "# - \"name\" and \"location\" below are set from Terraform variables defined in the file \"variables.tf\".\n",
      "# - The value for \"storage_account_name\" below is set using property \"name\" in resource \"azurerm_storage_account.main\":\n",
      "#   - storage_account_name = azurerm_storage_account.main.name\n",
      "\n",
      "resource \"azurerm_storage_account\" \"main\" {\n",
      "  name                     = var.app_name\n",
      "  resource_group_name      = azurerm_resource_group.main.name\n",
      "  location                 = var.location\n",
      "  account_kind             = \"StorageV2\"\n",
      "  account_tier             = \"Standard\"\n",
      "  account_replication_type = \"LRS\"\n",
      "}\n",
      "\n",
      "resource \"azurerm_storage_container\" \"main\" {\n",
      "  name                  = \"videos\"\n",
      "  storage_account_name  = azurerm_storage_account.main.name\n",
      "  container_access_type = \"private\"\n",
      "}\n"
     ]
    }
   ],
   "source": [
    "#!type container-storage-account.tf #use this on Windows\n",
    "!cat container-storage-account.tf"
   ]
  },
  {
   "cell_type": "markdown",
   "metadata": {},
   "source": [
    "## View `container-registry.tf`"
   ]
  },
  {
   "cell_type": "code",
   "execution_count": 58,
   "metadata": {
    "vscode": {
     "languageId": "shellscript"
    }
   },
   "outputs": [
    {
     "name": "stdout",
     "output_type": "stream",
     "text": [
      "# Creates a container registry in Azure (for Docker images).\n",
      "# Note!\n",
      "# - Resource \"azurerm_resource_group.main\" with a property \"name\" is defined in the file \"resource-group.tf\".\n",
      "# - The value for \"resource_group_name\" below is set using property \"name\" in resource \"azurerm_resource_group.main\":\n",
      "#   - resource_group_name = azurerm_resource_group.main.name\n",
      "# - \"name\" and \"location\" below are set from Terraform variables defined in the file \"variables.tf\".\n",
      "\n",
      "\n",
      "resource \"azurerm_container_registry\" \"main\" {\n",
      "  name                = var.app_name\n",
      "  resource_group_name = azurerm_resource_group.main.name\n",
      "  location            = var.location\n",
      "  admin_enabled       = true\n",
      "  sku                 = \"Basic\"\n",
      "}\n"
     ]
    }
   ],
   "source": [
    "#!type container-registry.tf #use this on Windows\n",
    "!cat container-registry.tf"
   ]
  },
  {
   "cell_type": "markdown",
   "metadata": {},
   "source": [
    "## Terraform Apply"
   ]
  },
  {
   "cell_type": "code",
   "execution_count": 5,
   "metadata": {
    "vscode": {
     "languageId": "shellscript"
    }
   },
   "outputs": [
    {
     "name": "stdout",
     "output_type": "stream",
     "text": [
      "\n",
      "Terraform used the selected providers to generate the following execution plan.\n",
      "Resource actions are indicated with the following symbols:\n",
      "  \u001b[32m+\u001b[0m create\u001b[0m\n",
      "\n",
      "Terraform will perform the following actions:\n",
      "\n",
      "\u001b[1m  # azurerm_container_registry.main\u001b[0m will be created\n",
      "\u001b[0m  \u001b[32m+\u001b[0m\u001b[0m resource \"azurerm_container_registry\" \"main\" {\n",
      "      \u001b[32m+\u001b[0m\u001b[0m admin_enabled                 = true\n",
      "      \u001b[32m+\u001b[0m\u001b[0m admin_password                = (sensitive value)\n",
      "      \u001b[32m+\u001b[0m\u001b[0m admin_username                = (known after apply)\n",
      "      \u001b[32m+\u001b[0m\u001b[0m encryption                    = (known after apply)\n",
      "      \u001b[32m+\u001b[0m\u001b[0m export_policy_enabled         = true\n",
      "      \u001b[32m+\u001b[0m\u001b[0m id                            = (known after apply)\n",
      "      \u001b[32m+\u001b[0m\u001b[0m location                      = \"westeurope\"\n",
      "      \u001b[32m+\u001b[0m\u001b[0m login_server                  = (known after apply)\n",
      "      \u001b[32m+\u001b[0m\u001b[0m name                          = \"tsfn14g00\"\n",
      "      \u001b[32m+\u001b[0m\u001b[0m network_rule_bypass_option    = \"AzureServices\"\n",
      "      \u001b[32m+\u001b[0m\u001b[0m network_rule_set              = (known after apply)\n",
      "      \u001b[32m+\u001b[0m\u001b[0m public_network_access_enabled = true\n",
      "      \u001b[32m+\u001b[0m\u001b[0m resource_group_name           = \"tsfn14g00\"\n",
      "      \u001b[32m+\u001b[0m\u001b[0m retention_policy              = (known after apply)\n",
      "      \u001b[32m+\u001b[0m\u001b[0m sku                           = \"Basic\"\n",
      "      \u001b[32m+\u001b[0m\u001b[0m trust_policy                  = (known after apply)\n",
      "      \u001b[32m+\u001b[0m\u001b[0m zone_redundancy_enabled       = false\n",
      "    }\n",
      "\n",
      "\u001b[1m  # azurerm_resource_group.main\u001b[0m will be created\n",
      "\u001b[0m  \u001b[32m+\u001b[0m\u001b[0m resource \"azurerm_resource_group\" \"main\" {\n",
      "      \u001b[32m+\u001b[0m\u001b[0m id       = (known after apply)\n",
      "      \u001b[32m+\u001b[0m\u001b[0m location = \"westeurope\"\n",
      "      \u001b[32m+\u001b[0m\u001b[0m name     = \"tsfn14g00\"\n",
      "    }\n",
      "\n",
      "\u001b[1m  # azurerm_storage_account.main\u001b[0m will be created\n",
      "\u001b[0m  \u001b[32m+\u001b[0m\u001b[0m resource \"azurerm_storage_account\" \"main\" {\n",
      "      \u001b[32m+\u001b[0m\u001b[0m access_tier                        = (known after apply)\n",
      "      \u001b[32m+\u001b[0m\u001b[0m account_kind                       = \"StorageV2\"\n",
      "      \u001b[32m+\u001b[0m\u001b[0m account_replication_type           = \"LRS\"\n",
      "      \u001b[32m+\u001b[0m\u001b[0m account_tier                       = \"Standard\"\n",
      "      \u001b[32m+\u001b[0m\u001b[0m allow_nested_items_to_be_public    = true\n",
      "      \u001b[32m+\u001b[0m\u001b[0m cross_tenant_replication_enabled   = true\n",
      "      \u001b[32m+\u001b[0m\u001b[0m default_to_oauth_authentication    = false\n",
      "      \u001b[32m+\u001b[0m\u001b[0m enable_https_traffic_only          = true\n",
      "      \u001b[32m+\u001b[0m\u001b[0m id                                 = (known after apply)\n",
      "      \u001b[32m+\u001b[0m\u001b[0m infrastructure_encryption_enabled  = false\n",
      "      \u001b[32m+\u001b[0m\u001b[0m is_hns_enabled                     = false\n",
      "      \u001b[32m+\u001b[0m\u001b[0m large_file_share_enabled           = (known after apply)\n",
      "      \u001b[32m+\u001b[0m\u001b[0m location                           = \"westeurope\"\n",
      "      \u001b[32m+\u001b[0m\u001b[0m min_tls_version                    = \"TLS1_2\"\n",
      "      \u001b[32m+\u001b[0m\u001b[0m name                               = \"tsfn14g00\"\n",
      "      \u001b[32m+\u001b[0m\u001b[0m nfsv3_enabled                      = false\n",
      "      \u001b[32m+\u001b[0m\u001b[0m primary_access_key                 = (sensitive value)\n",
      "      \u001b[32m+\u001b[0m\u001b[0m primary_blob_connection_string     = (sensitive value)\n",
      "      \u001b[32m+\u001b[0m\u001b[0m primary_blob_endpoint              = (known after apply)\n",
      "      \u001b[32m+\u001b[0m\u001b[0m primary_blob_host                  = (known after apply)\n",
      "      \u001b[32m+\u001b[0m\u001b[0m primary_blob_internet_endpoint     = (known after apply)\n",
      "      \u001b[32m+\u001b[0m\u001b[0m primary_blob_internet_host         = (known after apply)\n",
      "      \u001b[32m+\u001b[0m\u001b[0m primary_blob_microsoft_endpoint    = (known after apply)\n",
      "      \u001b[32m+\u001b[0m\u001b[0m primary_blob_microsoft_host        = (known after apply)\n",
      "      \u001b[32m+\u001b[0m\u001b[0m primary_connection_string          = (sensitive value)\n",
      "      \u001b[32m+\u001b[0m\u001b[0m primary_dfs_endpoint               = (known after apply)\n",
      "      \u001b[32m+\u001b[0m\u001b[0m primary_dfs_host                   = (known after apply)\n",
      "      \u001b[32m+\u001b[0m\u001b[0m primary_dfs_internet_endpoint      = (known after apply)\n",
      "      \u001b[32m+\u001b[0m\u001b[0m primary_dfs_internet_host          = (known after apply)\n",
      "      \u001b[32m+\u001b[0m\u001b[0m primary_dfs_microsoft_endpoint     = (known after apply)\n",
      "      \u001b[32m+\u001b[0m\u001b[0m primary_dfs_microsoft_host         = (known after apply)\n",
      "      \u001b[32m+\u001b[0m\u001b[0m primary_file_endpoint              = (known after apply)\n",
      "      \u001b[32m+\u001b[0m\u001b[0m primary_file_host                  = (known after apply)\n",
      "      \u001b[32m+\u001b[0m\u001b[0m primary_file_internet_endpoint     = (known after apply)\n",
      "      \u001b[32m+\u001b[0m\u001b[0m primary_file_internet_host         = (known after apply)\n",
      "      \u001b[32m+\u001b[0m\u001b[0m primary_file_microsoft_endpoint    = (known after apply)\n",
      "      \u001b[32m+\u001b[0m\u001b[0m primary_file_microsoft_host        = (known after apply)\n",
      "      \u001b[32m+\u001b[0m\u001b[0m primary_location                   = (known after apply)\n",
      "      \u001b[32m+\u001b[0m\u001b[0m primary_queue_endpoint             = (known after apply)\n",
      "      \u001b[32m+\u001b[0m\u001b[0m primary_queue_host                 = (known after apply)\n",
      "      \u001b[32m+\u001b[0m\u001b[0m primary_queue_microsoft_endpoint   = (known after apply)\n",
      "      \u001b[32m+\u001b[0m\u001b[0m primary_queue_microsoft_host       = (known after apply)\n",
      "      \u001b[32m+\u001b[0m\u001b[0m primary_table_endpoint             = (known after apply)\n",
      "      \u001b[32m+\u001b[0m\u001b[0m primary_table_host                 = (known after apply)\n",
      "      \u001b[32m+\u001b[0m\u001b[0m primary_table_microsoft_endpoint   = (known after apply)\n",
      "      \u001b[32m+\u001b[0m\u001b[0m primary_table_microsoft_host       = (known after apply)\n",
      "      \u001b[32m+\u001b[0m\u001b[0m primary_web_endpoint               = (known after apply)\n",
      "      \u001b[32m+\u001b[0m\u001b[0m primary_web_host                   = (known after apply)\n",
      "      \u001b[32m+\u001b[0m\u001b[0m primary_web_internet_endpoint      = (known after apply)\n",
      "      \u001b[32m+\u001b[0m\u001b[0m primary_web_internet_host          = (known after apply)\n",
      "      \u001b[32m+\u001b[0m\u001b[0m primary_web_microsoft_endpoint     = (known after apply)\n",
      "      \u001b[32m+\u001b[0m\u001b[0m primary_web_microsoft_host         = (known after apply)\n",
      "      \u001b[32m+\u001b[0m\u001b[0m public_network_access_enabled      = true\n",
      "      \u001b[32m+\u001b[0m\u001b[0m queue_encryption_key_type          = \"Service\"\n",
      "      \u001b[32m+\u001b[0m\u001b[0m resource_group_name                = \"tsfn14g00\"\n",
      "      \u001b[32m+\u001b[0m\u001b[0m secondary_access_key               = (sensitive value)\n",
      "      \u001b[32m+\u001b[0m\u001b[0m secondary_blob_connection_string   = (sensitive value)\n",
      "      \u001b[32m+\u001b[0m\u001b[0m secondary_blob_endpoint            = (known after apply)\n",
      "      \u001b[32m+\u001b[0m\u001b[0m secondary_blob_host                = (known after apply)\n",
      "      \u001b[32m+\u001b[0m\u001b[0m secondary_blob_internet_endpoint   = (known after apply)\n",
      "      \u001b[32m+\u001b[0m\u001b[0m secondary_blob_internet_host       = (known after apply)\n",
      "      \u001b[32m+\u001b[0m\u001b[0m secondary_blob_microsoft_endpoint  = (known after apply)\n",
      "      \u001b[32m+\u001b[0m\u001b[0m secondary_blob_microsoft_host      = (known after apply)\n",
      "      \u001b[32m+\u001b[0m\u001b[0m secondary_connection_string        = (sensitive value)\n",
      "      \u001b[32m+\u001b[0m\u001b[0m secondary_dfs_endpoint             = (known after apply)\n",
      "      \u001b[32m+\u001b[0m\u001b[0m secondary_dfs_host                 = (known after apply)\n",
      "      \u001b[32m+\u001b[0m\u001b[0m secondary_dfs_internet_endpoint    = (known after apply)\n",
      "      \u001b[32m+\u001b[0m\u001b[0m secondary_dfs_internet_host        = (known after apply)\n",
      "      \u001b[32m+\u001b[0m\u001b[0m secondary_dfs_microsoft_endpoint   = (known after apply)\n",
      "      \u001b[32m+\u001b[0m\u001b[0m secondary_dfs_microsoft_host       = (known after apply)\n",
      "      \u001b[32m+\u001b[0m\u001b[0m secondary_file_endpoint            = (known after apply)\n",
      "      \u001b[32m+\u001b[0m\u001b[0m secondary_file_host                = (known after apply)\n",
      "      \u001b[32m+\u001b[0m\u001b[0m secondary_file_internet_endpoint   = (known after apply)\n",
      "      \u001b[32m+\u001b[0m\u001b[0m secondary_file_internet_host       = (known after apply)\n",
      "      \u001b[32m+\u001b[0m\u001b[0m secondary_file_microsoft_endpoint  = (known after apply)\n",
      "      \u001b[32m+\u001b[0m\u001b[0m secondary_file_microsoft_host      = (known after apply)\n",
      "      \u001b[32m+\u001b[0m\u001b[0m secondary_location                 = (known after apply)\n",
      "      \u001b[32m+\u001b[0m\u001b[0m secondary_queue_endpoint           = (known after apply)\n",
      "      \u001b[32m+\u001b[0m\u001b[0m secondary_queue_host               = (known after apply)\n",
      "      \u001b[32m+\u001b[0m\u001b[0m secondary_queue_microsoft_endpoint = (known after apply)\n",
      "      \u001b[32m+\u001b[0m\u001b[0m secondary_queue_microsoft_host     = (known after apply)\n",
      "      \u001b[32m+\u001b[0m\u001b[0m secondary_table_endpoint           = (known after apply)\n",
      "      \u001b[32m+\u001b[0m\u001b[0m secondary_table_host               = (known after apply)\n",
      "      \u001b[32m+\u001b[0m\u001b[0m secondary_table_microsoft_endpoint = (known after apply)\n",
      "      \u001b[32m+\u001b[0m\u001b[0m secondary_table_microsoft_host     = (known after apply)\n",
      "      \u001b[32m+\u001b[0m\u001b[0m secondary_web_endpoint             = (known after apply)\n",
      "      \u001b[32m+\u001b[0m\u001b[0m secondary_web_host                 = (known after apply)\n",
      "      \u001b[32m+\u001b[0m\u001b[0m secondary_web_internet_endpoint    = (known after apply)\n",
      "      \u001b[32m+\u001b[0m\u001b[0m secondary_web_internet_host        = (known after apply)\n",
      "      \u001b[32m+\u001b[0m\u001b[0m secondary_web_microsoft_endpoint   = (known after apply)\n",
      "      \u001b[32m+\u001b[0m\u001b[0m secondary_web_microsoft_host       = (known after apply)\n",
      "      \u001b[32m+\u001b[0m\u001b[0m sftp_enabled                       = false\n",
      "      \u001b[32m+\u001b[0m\u001b[0m shared_access_key_enabled          = true\n",
      "      \u001b[32m+\u001b[0m\u001b[0m table_encryption_key_type          = \"Service\"\n",
      "    }\n",
      "\n",
      "\u001b[1m  # azurerm_storage_container.main\u001b[0m will be created\n",
      "\u001b[0m  \u001b[32m+\u001b[0m\u001b[0m resource \"azurerm_storage_container\" \"main\" {\n",
      "      \u001b[32m+\u001b[0m\u001b[0m container_access_type   = \"private\"\n",
      "      \u001b[32m+\u001b[0m\u001b[0m has_immutability_policy = (known after apply)\n",
      "      \u001b[32m+\u001b[0m\u001b[0m has_legal_hold          = (known after apply)\n",
      "      \u001b[32m+\u001b[0m\u001b[0m id                      = (known after apply)\n",
      "      \u001b[32m+\u001b[0m\u001b[0m metadata                = (known after apply)\n",
      "      \u001b[32m+\u001b[0m\u001b[0m name                    = \"videos\"\n",
      "      \u001b[32m+\u001b[0m\u001b[0m resource_manager_id     = (known after apply)\n",
      "      \u001b[32m+\u001b[0m\u001b[0m storage_account_name    = \"tsfn14g00\"\n",
      "    }\n",
      "\n",
      "\u001b[1mPlan:\u001b[0m 4 to add, 0 to change, 0 to destroy.\n",
      "\u001b[0m\u001b[0m\u001b[1mazurerm_resource_group.main: Creating...\u001b[0m\u001b[0m\n",
      "\u001b[0m\u001b[1mazurerm_resource_group.main: Creation complete after 1s [id=/subscriptions/dc438970-aa32-41b3-8fe2-f587309a0208/resourceGroups/tsfn14g00]\u001b[0m\n",
      "\u001b[0m\u001b[1mazurerm_container_registry.main: Creating...\u001b[0m\u001b[0m\n",
      "\u001b[0m\u001b[1mazurerm_storage_account.main: Creating...\u001b[0m\u001b[0m\n",
      "\u001b[0m\u001b[1mazurerm_container_registry.main: Still creating... [10s elapsed]\u001b[0m\u001b[0m\n",
      "\u001b[0m\u001b[1mazurerm_storage_account.main: Still creating... [10s elapsed]\u001b[0m\u001b[0m\n",
      "\u001b[0m\u001b[1mazurerm_container_registry.main: Still creating... [20s elapsed]\u001b[0m\u001b[0m\n",
      "\u001b[0m\u001b[1mazurerm_storage_account.main: Still creating... [20s elapsed]\u001b[0m\u001b[0m\n",
      "\u001b[0m\u001b[1mazurerm_container_registry.main: Creation complete after 22s [id=/subscriptions/dc438970-aa32-41b3-8fe2-f587309a0208/resourceGroups/tsfn14g00/providers/Microsoft.ContainerRegistry/registries/tsfn14g00]\u001b[0m\n",
      "\u001b[0m\u001b[1mazurerm_storage_account.main: Creation complete after 25s [id=/subscriptions/dc438970-aa32-41b3-8fe2-f587309a0208/resourceGroups/tsfn14g00/providers/Microsoft.Storage/storageAccounts/tsfn14g00]\u001b[0m\n",
      "\u001b[0m\u001b[1mazurerm_storage_container.main: Creating...\u001b[0m\u001b[0m\n",
      "\u001b[0m\u001b[1mazurerm_storage_container.main: Creation complete after 0s [id=https://tsfn14g00.blob.core.windows.net/videos]\u001b[0m\n",
      "\u001b[0m\u001b[1m\u001b[32m\n",
      "Apply complete! Resources: 4 added, 0 changed, 0 destroyed.\n",
      "\u001b[0m\n"
     ]
    }
   ],
   "source": [
    "!terraform apply -auto-approve"
   ]
  },
  {
   "cell_type": "markdown",
   "metadata": {},
   "source": [
    "## List Azure Resource Groups"
   ]
  },
  {
   "cell_type": "code",
   "execution_count": 6,
   "metadata": {
    "vscode": {
     "languageId": "shellscript"
    }
   },
   "outputs": [
    {
     "name": "stdout",
     "output_type": "stream",
     "text": [
      "Name       Location    Status\n",
      "---------  ----------  ---------\n",
      "tsfn14g00  westeurope  Succeeded\n"
     ]
    }
   ],
   "source": [
    "!az group list -o table"
   ]
  },
  {
   "cell_type": "markdown",
   "metadata": {},
   "source": [
    "## List Azure Storage Accounts"
   ]
  },
  {
   "cell_type": "code",
   "execution_count": 8,
   "metadata": {
    "vscode": {
     "languageId": "shellscript"
    }
   },
   "outputs": [
    {
     "name": "stdout",
     "output_type": "stream",
     "text": [
      "AccessTier    AllowBlobPublicAccess    AllowCrossTenantReplication    AllowSharedKeyAccess    CreationTime                      DefaultToOAuthAuthentication    EnableHttpsTrafficOnly    EnableNfsV3    IsHnsEnabled    IsSftpEnabled    Kind       Location    MinimumTlsVersion    Name       PrimaryLocation    ProvisioningState    PublicNetworkAccess    ResourceGroup    StatusOfPrimary\n",
      "------------  -----------------------  -----------------------------  ----------------------  --------------------------------  ------------------------------  ------------------------  -------------  --------------  ---------------  ---------  ----------  -------------------  ---------  -----------------  -------------------  ---------------------  ---------------  -----------------\n",
      "Hot           True                     True                           True                    2024-02-03T08:19:17.256509+00:00  False                           True                      False          False           False            StorageV2  westeurope  TLS1_2               tsfn14g00  westeurope         Succeeded            Enabled                tsfn14g00        available\n"
     ]
    }
   ],
   "source": [
    "#!az storage account list --resource-group $RESOURCE_GROUP -o table\n",
    "!az storage account list -o table"
   ]
  },
  {
   "cell_type": "markdown",
   "metadata": {},
   "source": [
    "## List Resources in Resource Group `tsfn14g00`"
   ]
  },
  {
   "cell_type": "code",
   "execution_count": 9,
   "metadata": {
    "vscode": {
     "languageId": "shellscript"
    }
   },
   "outputs": [
    {
     "name": "stdout",
     "output_type": "stream",
     "text": [
      "Name       ResourceGroup    Location    Type                                    Status\n",
      "---------  ---------------  ----------  --------------------------------------  --------\n",
      "tsfn14g00  tsfn14g00        westeurope  Microsoft.ContainerRegistry/registries\n",
      "tsfn14g00  tsfn14g00        westeurope  Microsoft.Storage/storageAccounts\n"
     ]
    }
   ],
   "source": [
    "!az resource list --resource-group tsfn14g00 -o table"
   ]
  },
  {
   "cell_type": "markdown",
   "metadata": {},
   "source": [
    "## List Storage Account Access Keys for Storage Account `tsfn14g00`\n",
    "\n",
    "- Note that we store the Storage Account name and access key in environment variables so we can use them in the notebook\n",
    "  - `STORAGE_ACCOUNT_NAME`\n",
    "  - `STORAGE_ACCESS_KEY`\n",
    "- Note, this code has only been tested on Ubuntu."
   ]
  },
  {
   "cell_type": "code",
   "execution_count": 2,
   "metadata": {
    "vscode": {
     "languageId": "shellscript"
    }
   },
   "outputs": [
    {
     "name": "stdout",
     "output_type": "stream",
     "text": [
      "CreationTime                      KeyName    Permissions    Value\n",
      "--------------------------------  ---------  -------------  ----------------------------------------------------------------------------------------\n",
      "2024-02-03T08:19:17.397136+00:00  key1       FULL           wr5ji3c9ceRaQjv3Wsmzgb/NWVeg0YqNNyErNm0v5p/c4oObYGctCC+rpTbzWc4PXanrFCBC7/CZ+AStkg1pZQ==\n",
      "2024-02-03T08:19:17.397136+00:00  key2       FULL           f3qwpAJv+iGoJMEnzPlZIgb5OtY9c2VgFD9E7WtBqvh0as2Erv2mPWeK6KXPH1aLW3QWz6a/pXLV+ASt1bVlKA==\n",
      "\n",
      "STORAGE_ACCOUNT_NAME: tsfn14g00\n",
      "STORAGE_ACCESS_KEY: wr5ji3c9ceRaQjv3Wsmzgb/NWVeg0YqNNyErNm0v5p/c4oObYGctCC+rpTbzWc4PXanrFCBC7/CZ+AStkg1pZQ==\n"
     ]
    }
   ],
   "source": [
    "#!az storage account keys list --account-name tsfn14g00 --resource-group tsfn14g00 -o table\n",
    "!az storage account keys list --account-name tsfn14g00 -o table\n",
    "\n",
    "!export STORAGE_ACCOUNT_NAME=tsfn14g00\n",
    "!export STORAGE_ACCESS_KEY=$(az storage account keys list --account-name tsfn14g00 --resource-group tsfn14g00 --query [0].value -o tsv)\n",
    "!echo -e \"\\nSTORAGE_ACCOUNT_NAME: $STORAGE_ACCOUNT_NAME\"\n",
    "!echo -e \"STORAGE_ACCESS_KEY: $STORAGE_ACCESS_KEY\""
   ]
  },
  {
   "cell_type": "markdown",
   "metadata": {},
   "source": [
    "## List Containers in Storage Account `tsfn14g00`"
   ]
  },
  {
   "cell_type": "code",
   "execution_count": 15,
   "metadata": {
    "vscode": {
     "languageId": "shellscript"
    }
   },
   "outputs": [
    {
     "name": "stdout",
     "output_type": "stream",
     "text": [
      "Name    Lease Status    Last Modified\n",
      "------  --------------  -------------------------\n",
      "videos                  2024-02-03T08:19:40+00:00\n"
     ]
    }
   ],
   "source": [
    "!az storage container list --account-name $STORAGE_ACCOUNT_NAME --account-key $STORAGE_ACCESS_KEY -o table"
   ]
  },
  {
   "cell_type": "markdown",
   "metadata": {},
   "source": [
    "## Create Container `videos2` in Storage Container `tsfn14g00`"
   ]
  },
  {
   "cell_type": "code",
   "execution_count": 16,
   "metadata": {
    "vscode": {
     "languageId": "shellscript"
    }
   },
   "outputs": [
    {
     "name": "stdout",
     "output_type": "stream",
     "text": [
      "Created\n",
      "---------\n",
      "True\n"
     ]
    }
   ],
   "source": [
    "!az storage container create --name videos2 --account-name $STORAGE_ACCOUNT_NAME --account-key $STORAGE_ACCESS_KEY -o table"
   ]
  },
  {
   "cell_type": "markdown",
   "metadata": {},
   "source": [
    "## List Containers in Storage Container `tsfn14g00`"
   ]
  },
  {
   "cell_type": "code",
   "execution_count": 17,
   "metadata": {
    "vscode": {
     "languageId": "shellscript"
    }
   },
   "outputs": [
    {
     "name": "stdout",
     "output_type": "stream",
     "text": [
      "Name     Lease Status    Last Modified\n",
      "-------  --------------  -------------------------\n",
      "videos                   2024-02-03T08:19:40+00:00\n",
      "videos2                  2024-02-03T08:26:01+00:00\n"
     ]
    }
   ],
   "source": [
    "!az storage container list --account-name $STORAGE_ACCOUNT_NAME --account-key $STORAGE_ACCESS_KEY -o table"
   ]
  },
  {
   "cell_type": "markdown",
   "metadata": {},
   "source": [
    "## Delete Container `videos2` in Storage Container `tsfn14g00`"
   ]
  },
  {
   "cell_type": "code",
   "execution_count": 18,
   "metadata": {
    "vscode": {
     "languageId": "shellscript"
    }
   },
   "outputs": [
    {
     "name": "stdout",
     "output_type": "stream",
     "text": [
      "Deleted\n",
      "---------\n",
      "True\n"
     ]
    }
   ],
   "source": [
    "!az storage container delete --name videos2 --account-name $STORAGE_ACCOUNT_NAME --account-key $STORAGE_ACCESS_KEY -o table"
   ]
  },
  {
   "cell_type": "markdown",
   "metadata": {},
   "source": [
    "## List Containers in Storage Container `tsfn14g00`"
   ]
  },
  {
   "cell_type": "code",
   "execution_count": 19,
   "metadata": {
    "vscode": {
     "languageId": "shellscript"
    }
   },
   "outputs": [
    {
     "name": "stdout",
     "output_type": "stream",
     "text": [
      "Name    Lease Status    Last Modified\n",
      "------  --------------  -------------------------\n",
      "videos                  2024-02-03T08:19:40+00:00\n"
     ]
    }
   ],
   "source": [
    "!az storage container list --account-name $STORAGE_ACCOUNT_NAME --account-key $STORAGE_ACCESS_KEY -o table"
   ]
  },
  {
   "cell_type": "markdown",
   "metadata": {},
   "source": [
    "## List Blobs (Files) in Container `videos` in Storage Container `tsfn14g00`"
   ]
  },
  {
   "cell_type": "code",
   "execution_count": 20,
   "metadata": {
    "vscode": {
     "languageId": "shellscript"
    }
   },
   "outputs": [
    {
     "name": "stdout",
     "output_type": "stream",
     "text": [
      "\n"
     ]
    }
   ],
   "source": [
    "!az storage blob list --container-name videos --account-name $STORAGE_ACCOUNT_NAME --account-key $STORAGE_ACCESS_KEY -o table "
   ]
  },
  {
   "cell_type": "markdown",
   "metadata": {},
   "source": [
    "## List Local Video File"
   ]
  },
  {
   "cell_type": "code",
   "execution_count": 26,
   "metadata": {
    "vscode": {
     "languageId": "shellscript"
    }
   },
   "outputs": [
    {
     "name": "stdout",
     "output_type": "stream",
     "text": [
      "total 1040\n",
      "drwxr-xr-x 2 patrick patrick    4096 Feb  3 09:30 \u001b[0m\u001b[01;34m.\u001b[0m\n",
      "drwxr-xr-x 4 patrick patrick    4096 Feb  2 21:49 \u001b[01;34m..\u001b[0m\n",
      "-rw-r--r-- 1 patrick patrick 1055736 Feb  3 09:30 \u001b[01;35mSampleVideo_1280x720_1mb.mp4\u001b[0m\n"
     ]
    }
   ],
   "source": [
    "!ls -al video-storage/videos"
   ]
  },
  {
   "cell_type": "markdown",
   "metadata": {},
   "source": [
    "## Upload a file to Container `videos` in Storage Container `tsfn14g00`"
   ]
  },
  {
   "cell_type": "code",
   "execution_count": 21,
   "metadata": {
    "vscode": {
     "languageId": "shellscript"
    }
   },
   "outputs": [
    {
     "name": "stdout",
     "output_type": "stream",
     "text": [
      "Finished[#############################################################]  100.0000%\n",
      "Client_request_id                     Content_md5               Date                       LastModified               Request_id                            Request_server_encrypted    Version\n",
      "------------------------------------  ------------------------  -------------------------  -------------------------  ------------------------------------  --------------------------  ----------\n",
      "3588db10-c26e-11ee-8632-9769618040bb  1Vvd+NYpEIee2fYFUiFJqA==  2024-02-03T08:28:30+00:00  2024-02-03T08:28:30+00:00  51562d73-501e-002b-3e7a-56f3ca000000  True                        2022-11-02\n"
     ]
    }
   ],
   "source": [
    "!az storage blob upload --container-name videos --name SampleVideo_1280x720_1mb.mp4 --file video-storage/videos/SampleVideo_1280x720_1mb.mp4 --account-name $STORAGE_ACCOUNT_NAME --account-key $STORAGE_ACCESS_KEY -o table"
   ]
  },
  {
   "cell_type": "markdown",
   "metadata": {},
   "source": [
    "## List Blobs (Files) in Container `videos` in Storage Container `tsfn14g00`"
   ]
  },
  {
   "cell_type": "code",
   "execution_count": 22,
   "metadata": {
    "vscode": {
     "languageId": "shellscript"
    }
   },
   "outputs": [
    {
     "name": "stdout",
     "output_type": "stream",
     "text": [
      "Name                          Blob Type    Blob Tier    Length    Content Type    Last Modified              Snapshot\n",
      "----------------------------  -----------  -----------  --------  --------------  -------------------------  ----------\n",
      "SampleVideo_1280x720_1mb.mp4  BlockBlob    Hot          1055736   video/mp4       2024-02-03T08:28:30+00:00\n"
     ]
    }
   ],
   "source": [
    "!az storage blob list --container-name videos --account-name $STORAGE_ACCOUNT_NAME --account-key $STORAGE_ACCESS_KEY -o table "
   ]
  },
  {
   "cell_type": "markdown",
   "metadata": {},
   "source": [
    "## Delete Local Video File"
   ]
  },
  {
   "cell_type": "code",
   "execution_count": 23,
   "metadata": {
    "vscode": {
     "languageId": "shellscript"
    }
   },
   "outputs": [
    {
     "name": "stdout",
     "output_type": "stream",
     "text": [
      "total 8\n",
      "drwxr-xr-x 2 patrick patrick 4096 Feb  3 09:30 \u001b[0m\u001b[01;34m.\u001b[0m\n",
      "drwxr-xr-x 4 patrick patrick 4096 Feb  2 21:49 \u001b[01;34m..\u001b[0m\n"
     ]
    }
   ],
   "source": [
    "!rm video-storage/videos/SampleVideo_1280x720_1mb.mp4\n",
    "!ls -al video-storage/videos"
   ]
  },
  {
   "cell_type": "markdown",
   "metadata": {},
   "source": [
    "## Download a file from Container `videos` in Storage Account `tsfn14g00`"
   ]
  },
  {
   "cell_type": "code",
   "execution_count": 24,
   "metadata": {
    "vscode": {
     "languageId": "shellscript"
    }
   },
   "outputs": [
    {
     "name": "stdout",
     "output_type": "stream",
     "text": [
      "Finished[#############################################################]  100.0000%\n",
      "Name                          Blob Type    Blob Tier    Length    Content Type    Last Modified              Snapshot\n",
      "----------------------------  -----------  -----------  --------  --------------  -------------------------  ----------\n",
      "SampleVideo_1280x720_1mb.mp4  BlockBlob                 1055736   video/mp4       2024-02-03T08:28:30+00:00\n"
     ]
    }
   ],
   "source": [
    "!az storage blob download --container-name videos --name SampleVideo_1280x720_1mb.mp4 --file video-storage/videos/SampleVideo_1280x720_1mb.mp4 --account-name $STORAGE_ACCOUNT_NAME --account-key $STORAGE_ACCESS_KEY -o table"
   ]
  },
  {
   "cell_type": "markdown",
   "metadata": {},
   "source": [
    "## List Local Video File"
   ]
  },
  {
   "cell_type": "code",
   "execution_count": 25,
   "metadata": {
    "vscode": {
     "languageId": "shellscript"
    }
   },
   "outputs": [
    {
     "name": "stdout",
     "output_type": "stream",
     "text": [
      "total 1040\n",
      "drwxr-xr-x 2 patrick patrick    4096 Feb  3 09:30 \u001b[0m\u001b[01;34m.\u001b[0m\n",
      "drwxr-xr-x 4 patrick patrick    4096 Feb  2 21:49 \u001b[01;34m..\u001b[0m\n",
      "-rw-r--r-- 1 patrick patrick 1055736 Feb  3 09:30 \u001b[01;35mSampleVideo_1280x720_1mb.mp4\u001b[0m\n"
     ]
    }
   ],
   "source": [
    "!ls -al video-storage/videos"
   ]
  },
  {
   "cell_type": "markdown",
   "metadata": {},
   "source": [
    "## Delete a file from Container `videos` in Storage Container `tsfn14g00`"
   ]
  },
  {
   "cell_type": "code",
   "execution_count": 27,
   "metadata": {
    "vscode": {
     "languageId": "shellscript"
    }
   },
   "outputs": [],
   "source": [
    "!az storage blob delete --container-name videos --name SampleVideo_1280x720_1mb.mp4 --account-name $STORAGE_ACCOUNT_NAME --account-key $STORAGE_ACCESS_KEY -o table"
   ]
  },
  {
   "cell_type": "markdown",
   "metadata": {},
   "source": [
    "## List Blobs (Files) in Container `videos` in Storage Container `tsfn14g00`"
   ]
  },
  {
   "cell_type": "code",
   "execution_count": 28,
   "metadata": {
    "vscode": {
     "languageId": "shellscript"
    }
   },
   "outputs": [
    {
     "name": "stdout",
     "output_type": "stream",
     "text": [
      "\n"
     ]
    }
   ],
   "source": [
    "!az storage blob list --container-name videos --account-name $STORAGE_ACCOUNT_NAME --account-key $STORAGE_ACCESS_KEY -o table "
   ]
  },
  {
   "cell_type": "markdown",
   "metadata": {},
   "source": [
    "## Upload file again to Container `videos` in Storage Container `tsfn14g00`"
   ]
  },
  {
   "cell_type": "code",
   "execution_count": 41,
   "metadata": {
    "vscode": {
     "languageId": "shellscript"
    }
   },
   "outputs": [
    {
     "name": "stdout",
     "output_type": "stream",
     "text": [
      "Finished[#############################################################]  100.0000%\n",
      "Client_request_id                     Content_md5               Date                       LastModified               Request_id                            Request_server_encrypted    Version\n",
      "------------------------------------  ------------------------  -------------------------  -------------------------  ------------------------------------  --------------------------  ----------\n",
      "65bee378-c274-11ee-8632-9769618040bb  1Vvd+NYpEIee2fYFUiFJqA==  2024-02-03T09:12:48+00:00  2024-02-03T09:12:48+00:00  2e27203b-f01e-0040-6e81-56743e000000  True                        2022-11-02\n",
      "Name                          Blob Type    Blob Tier    Length    Content Type    Last Modified              Snapshot\n",
      "----------------------------  -----------  -----------  --------  --------------  -------------------------  ----------\n",
      "SampleVideo_1280x720_1mb.mp4  BlockBlob    Hot          1055736   video/mp4       2024-02-03T09:12:48+00:00\n"
     ]
    }
   ],
   "source": [
    "!az storage blob upload --container-name videos --name SampleVideo_1280x720_1mb.mp4 --file video-storage/videos/SampleVideo_1280x720_1mb.mp4 --account-name $STORAGE_ACCOUNT_NAME --account-key $STORAGE_ACCESS_KEY -o table\n",
    "!az storage blob list --container-name videos --account-name $STORAGE_ACCOUNT_NAME --account-key $STORAGE_ACCESS_KEY -o table "
   ]
  },
  {
   "cell_type": "markdown",
   "metadata": {},
   "source": [
    "## List Azure Container Registries"
   ]
  },
  {
   "cell_type": "code",
   "execution_count": 29,
   "metadata": {
    "vscode": {
     "languageId": "shellscript"
    }
   },
   "outputs": [
    {
     "name": "stdout",
     "output_type": "stream",
     "text": [
      "NAME       RESOURCE GROUP    LOCATION    SKU    LOGIN SERVER          CREATION DATE         ADMIN ENABLED\n",
      "---------  ----------------  ----------  -----  --------------------  --------------------  ---------------\n",
      "tsfn14g00  tsfn14g00         westeurope  Basic  tsfn14g00.azurecr.io  2024-02-03T08:19:18Z  True\n"
     ]
    }
   ],
   "source": [
    "!az acr list -o table"
   ]
  },
  {
   "cell_type": "markdown",
   "metadata": {},
   "source": [
    "## List Images in Container Registry `tsfn14g00 `"
   ]
  },
  {
   "cell_type": "code",
   "execution_count": 30,
   "metadata": {
    "vscode": {
     "languageId": "shellscript"
    }
   },
   "outputs": [
    {
     "name": "stdout",
     "output_type": "stream",
     "text": [
      "\n"
     ]
    }
   ],
   "source": [
    "!az acr repository list -n tsfn14g00 --top 10 -o table"
   ]
  },
  {
   "cell_type": "markdown",
   "metadata": {},
   "source": [
    "## Show Information about Azure Container Registry `tsfn14g00`\n",
    "\n",
    "- Note that we store the Container Registry URL in an environment variable so we can use it in the notebook\n",
    "  - `CONTAINER_REGISTRY_LOGIN_SERVER`\n",
    "- Note, this code has only been tested on Ubuntu."
   ]
  },
  {
   "cell_type": "code",
   "execution_count": 43,
   "metadata": {
    "vscode": {
     "languageId": "shellscript"
    }
   },
   "outputs": [
    {
     "name": "stdout",
     "output_type": "stream",
     "text": [
      "NAME       RESOURCE GROUP    LOCATION    SKU    LOGIN SERVER          CREATION DATE         ADMIN ENABLED\n",
      "---------  ----------------  ----------  -----  --------------------  --------------------  ---------------\n",
      "tsfn14g00  tsfn14g00         westeurope  Basic  tsfn14g00.azurecr.io  2024-02-03T08:19:18Z  True\n",
      "\n",
      "CONTAINER_REGISTRY_LOGIN_SERVER: tsfn14g00.azurecr.io\n"
     ]
    }
   ],
   "source": [
    "!az acr show -n tsfn14g00 -o table\n",
    "\n",
    "!export CONTAINER_REGISTRY_LOGIN_SERVER=$(az acr show -n tsfn14g00 --query loginServer | sed 's/^\"//;s/\"$//')\n",
    "!echo -e \"\\nCONTAINER_REGISTRY_LOGIN_SERVER: $CONTAINER_REGISTRY_LOGIN_SERVER\""
   ]
  },
  {
   "cell_type": "markdown",
   "metadata": {},
   "source": [
    "## Show Credentials for Azure Container Registry `tsfn14g00`\n",
    "\n",
    "- Note that we store the Container Registry Username and Password in environment variables so we can use them in the notebook\n",
    "  - `CONTAINER_REGISTRY_USERNAME`\n",
    "  - `CONTAINER_REGISTRY_PASSWORD`\n",
    "- Note, this code has only been tested on Ubuntu."
   ]
  },
  {
   "cell_type": "code",
   "execution_count": 44,
   "metadata": {
    "vscode": {
     "languageId": "shellscript"
    }
   },
   "outputs": [
    {
     "name": "stdout",
     "output_type": "stream",
     "text": [
      "USERNAME    PASSWORD                                              PASSWORD2\n",
      "----------  ----------------------------------------------------  ----------------------------------------------------\n",
      "tsfn14g00   z7yOQz9XYiBJDVBULymhYbo4j43m3PYv8r208xjdwD+ACRBe6j9B  LJCLDvMK2h7BTupHezY9ThxHW8jaN4qqjNo0GDiyn9+ACRCZION9\n",
      "\n",
      "CONTAINER_REGISTRY_USERNAME: tsfn14g00\n",
      "CONTAINER_REGISTRY_PASSWORD: z7yOQz9XYiBJDVBULymhYbo4j43m3PYv8r208xjdwD+ACRBe6j9B\n"
     ]
    }
   ],
   "source": [
    "!az acr credential show -n tsfn14g00 -o table\n",
    "\n",
    "!export CONTAINER_REGISTRY_USERNAME=$(az acr credential show -n tsfn14g00 --query username | sed 's/^\"//;s/\"$//')\n",
    "!export CONTAINER_REGISTRY_PASSWORD=$(az acr credential show -n tsfn14g00 --query passwords[0].value | sed 's/^\"//;s/\"$//')\n",
    "!echo -e \"\\nCONTAINER_REGISTRY_USERNAME: $CONTAINER_REGISTRY_USERNAME\"\n",
    "!echo \"CONTAINER_REGISTRY_PASSWORD: $CONTAINER_REGISTRY_PASSWORD\""
   ]
  },
  {
   "cell_type": "markdown",
   "metadata": {},
   "source": [
    "## Login to Azure Container Registry via Docker"
   ]
  },
  {
   "cell_type": "code",
   "execution_count": 33,
   "metadata": {
    "vscode": {
     "languageId": "shellscript"
    }
   },
   "outputs": [],
   "source": [
    "!echo $CONTAINER_REGISTRY_PASSWORD | docker login $CONTAINER_REGISTRY_LOGIN_SERVER -u $CONTAINER_REGISTRY_USERNAME --password-stdin  > /dev/null 2>&1"
   ]
  },
  {
   "cell_type": "markdown",
   "metadata": {},
   "source": [
    "## Build and Push Docker Image to Azure Container Registry\n",
    "\n",
    "- Note, this code has only been tested on Ubuntu."
   ]
  },
  {
   "cell_type": "code",
   "execution_count": 34,
   "metadata": {
    "vscode": {
     "languageId": "shellscript"
    }
   },
   "outputs": [
    {
     "name": "stdout",
     "output_type": "stream",
     "text": [
      "Wrote to /home/patrick/projects/tsfn14/05_storage_account/video-storage/package.json:\n",
      "\n",
      "{\n",
      "  \"name\": \"video-storage\",\n",
      "  \"version\": \"1.0.0\",\n",
      "  \"description\": \"\",\n",
      "  \"main\": \"index.js\",\n",
      "  \"scripts\": {\n",
      "    \"test\": \"echo \\\"Error: no test specified\\\" && exit 1\"\n",
      "  },\n",
      "  \"keywords\": [],\n",
      "  \"author\": \"\",\n",
      "  \"license\": \"ISC\"\n",
      "}\n",
      "\n",
      "\n",
      "(\u001b[107;97m##################\u001b[0m) ⠼ reify:nodemon: \u001b[32;40mtiming\u001b[0m \u001b[35mreifyNode:node_modules/semver\u001b[0m Comp\u001b[0m\u001b[Kpd\u001b[0m\u001b[Km\u001b[K[?25h\u001b[?25l(\u001b[100;90m⠂⠂⠂⠂⠂⠂⠂⠂⠂⠂⠂⠂⠂⠂⠂⠂⠂⠂\u001b[0m) ⠦ idealTree:video-storage: \u001b[7msill\u001b[0m \u001b[35midealTree\u001b[0m buildDeps\u001b[0m\u001b[K\u001b[K\u001b[?25h\u001b[?25l(\u001b[100;90m⠂⠂⠂⠂⠂⠂⠂⠂⠂⠂⠂⠂⠂⠂⠂⠂⠂⠂\u001b[0m) ⠦ idealTree:video-storage: \u001b[7msill\u001b[0m \u001b[35midealTree\u001b[0m buildDeps\u001b[0m\u001b[K\u001b[K\u001b[?25h\n",
      "failed to fetch metadata: fork/exec /usr/local/lib/docker/cli-plugins/docker-buildx: no such file or directory\n",
      "\n",
      "DEPRECATED: The legacy builder is deprecated and will be removed in a future release.\n",
      "            Install the buildx component to build images with BuildKit:\n",
      "            https://docs.docker.com/go/buildx/\n",
      "\n",
      "sha256:21f7d21166bc82955537727e0ceabedc98194996be3a04c2747b5c387f4e76cf\n",
      "The push refers to repository [tsfn14g00.azurecr.io/video-storage]\n",
      "\n",
      "\u001b[1B3f9ca63b: Preparing \n",
      "\u001b[1B10ffde6a: Preparing \n",
      "\u001b[1Bd1b082d5: Preparing \n",
      "\u001b[1Bd131da4f: Preparing \n",
      "\u001b[1Bb5a78515: Preparing \n",
      "\u001b[1B5af7f709: Preparing \n",
      "\u001b[1Bfe81adaa: Preparing \n",
      "\u001b[2B1: digest: sha256:65bac33804523d4ad30423d7c871e438511f8788ec9f9b12324e75f9f527cb0e size: 1993\n",
      "\u001b[01;31m\u001b[KREPOSITORY\u001b[m\u001b[K                    TAG             IMAGE ID       CREATED         SIZE\n"
     ]
    }
   ],
   "source": [
    "# Prepare Nodejs Application\n",
    "#rm -rf ./video-storage/node_modules ./video-storage/package.json ./video-storage/package-lock.json\n",
    "cd ./video-storage && \\\n",
    "npm init -y && \\\n",
    "npm pkg set 'main'='./src/index.js' && \\\n",
    "npm pkg set 'scripts.start'='node ./src/index.js' && \\\n",
    "npm pkg set 'scripts.start:dev'='nodemon ./src/index.js' && \\\n",
    "npm pkg delete 'scripts.test' && \\\n",
    "npm install --silent --save express@5.0.0-beta.1 && \\\n",
    "npm install --silent --save @azure/storage-blob@12.17.0 && \\\n",
    "npm install --silent --save-dev nodemon@3.0.3 && \\\n",
    "cd ..\n",
    "\n",
    "# Build Docker image with Nodejs Application\n",
    "docker build -q -t video-storage:1 -f ./video-storage/Dockerfile ./video-storage\n",
    "docker tag video-storage:1 $CONTAINER_REGISTRY_LOGIN_SERVER/video-storage:1\n",
    "\n",
    "# Push Docker Image to Azure Container Registry\n",
    "docker push $CONTAINER_REGISTRY_LOGIN_SERVER/video-storage:1\n",
    "\n",
    "# Clean up\n",
    "docker rmi video-storage:1 > /dev/null 2>&1\n",
    "docker rmi $CONTAINER_REGISTRY_LOGIN_SERVER/video-storage:1 > /dev/null 2>&1\n",
    "docker image list | grep -i -E 'REPOSITORY|video-storage'"
   ]
  },
  {
   "cell_type": "markdown",
   "metadata": {},
   "source": [
    "## List Images in Container Registry `tsfn14g00 `"
   ]
  },
  {
   "cell_type": "code",
   "execution_count": 35,
   "metadata": {
    "vscode": {
     "languageId": "shellscript"
    }
   },
   "outputs": [
    {
     "name": "stdout",
     "output_type": "stream",
     "text": [
      "Result\n",
      "-------------\n",
      "video-storage\n"
     ]
    }
   ],
   "source": [
    "!az acr repository list -n tsfn14g00 --top 10 -o table"
   ]
  },
  {
   "cell_type": "markdown",
   "metadata": {},
   "source": [
    "## Show Info. about Image `video-storage` in Azure Container Registry"
   ]
  },
  {
   "cell_type": "code",
   "execution_count": 36,
   "metadata": {
    "vscode": {
     "languageId": "shellscript"
    }
   },
   "outputs": [
    {
     "name": "stdout",
     "output_type": "stream",
     "text": [
      "CreatedTime                   Digest                                                                   LastUpdateTime                Name    Signed\n",
      "----------------------------  -----------------------------------------------------------------------  ----------------------------  ------  --------\n",
      "2024-02-03T08:58:08.4789932Z  sha256:65bac33804523d4ad30423d7c871e438511f8788ec9f9b12324e75f9f527cb0e  2024-02-03T08:58:08.4789932Z  1       False\n",
      "\n",
      "CreatedTime                  ImageName      LastUpdateTime                ManifestCount    Registry              TagCount\n",
      "---------------------------  -------------  ----------------------------  ---------------  --------------------  ----------\n",
      "2024-02-03T08:58:08.315909Z  video-storage  2024-02-03T08:58:08.4220751Z  1                tsfn14g00.azurecr.io  1\n",
      "\n",
      "Result\n",
      "--------\n",
      "1\n"
     ]
    }
   ],
   "source": [
    "!az acr repository show -n tsfn14g00 --image video-storage:1 -o table\n",
    "!echo ''\n",
    "!az acr repository show -n tsfn14g00 --repository video-storage -o table\n",
    "!echo ''\n",
    "!az acr repository show-tags -n tsfn14g00 --repository video-storage --top 10 -o table"
   ]
  },
  {
   "cell_type": "markdown",
   "metadata": {},
   "source": [
    "## Show Azure Container Registry Usage"
   ]
  },
  {
   "cell_type": "code",
   "execution_count": 37,
   "metadata": {
    "vscode": {
     "languageId": "shellscript"
    }
   },
   "outputs": [
    {
     "name": "stdout",
     "output_type": "stream",
     "text": [
      "NAME       LIMIT        CURRENT VALUE    UNIT\n",
      "---------  -----------  ---------------  ------\n",
      "Size       10737418240  60569775         Bytes\n",
      "Webhooks   2            0                Count\n",
      "ScopeMaps  100          0                Count\n",
      "Tokens     100          0                Count\n"
     ]
    }
   ],
   "source": [
    "!az acr show-usage -n tsfn14g00 -o table"
   ]
  },
  {
   "cell_type": "markdown",
   "metadata": {},
   "source": [
    "## Pull and Run Docker Image from Azure Container Registry\n",
    "\n",
    "- Note, this code has only been tested on Ubuntu."
   ]
  },
  {
   "cell_type": "code",
   "execution_count": 45,
   "metadata": {
    "vscode": {
     "languageId": "shellscript"
    }
   },
   "outputs": [
    {
     "name": "stdout",
     "output_type": "stream",
     "text": [
      "a432c68649855a7f0beee4797f72c81e6ab1df07a4c75baaf40d27ff77ce71ee\n",
      "CONTAINER ID   IMAGE                                  COMMAND                  CREATED                  STATUS                  PORTS                                       NAMES\n",
      "a432c6864985   tsfn14g00.azurecr.io/video-storage:1   \"docker-entrypoint.s…\"   Less than a second ago   Up Less than a second   0.0.0.0:3000->3000/tcp, :::3000->3000/tcp   video-storage\n",
      "[GFX1-]: glxtest: ManageChildProcess failed\n",
      "\n"
     ]
    }
   ],
   "source": [
    "docker run --name video-storage -d -p 3000:3000 \\\n",
    "           -e PORT=3000 \\\n",
    "           -e STORAGE_ACCOUNT_NAME=$STORAGE_ACCOUNT_NAME \\\n",
    "           -e STORAGE_ACCESS_KEY=$STORAGE_ACCESS_KEY \\\n",
    "           $CONTAINER_REGISTRY_LOGIN_SERVER/video-storage:1\n",
    "\n",
    "docker ps\n",
    "docker logs video-storage\n",
    "#docker exec -it video-storage /bin/sh\n",
    "\n",
    "# Open URL `http://localhost:3000/video` in Firefox browser\n",
    "firefox http://localhost:3000/video?path=SampleVideo_1280x720_1mb.mp4"
   ]
  },
  {
   "cell_type": "markdown",
   "metadata": {},
   "source": [
    "## Stop and Remove Container and Local Image"
   ]
  },
  {
   "cell_type": "code",
   "execution_count": 46,
   "metadata": {
    "vscode": {
     "languageId": "shellscript"
    }
   },
   "outputs": [
    {
     "name": "stdout",
     "output_type": "stream",
     "text": [
      "video-storage\n",
      "video-storage\n",
      "CONTAINER ID   \u001b[01;31m\u001b[KIMAGE\u001b[m\u001b[K                                 COMMAND                  CREATED      STATUS                    PORTS                                                                                                                                  NAMES\n",
      "\u001b[01;31m\u001b[KREPOSITORY\u001b[m\u001b[K                    TAG             IMAGE ID       CREATED         SIZE\n"
     ]
    }
   ],
   "source": [
    "!docker stop video-storage\n",
    "!docker rm video-storage\n",
    "!docker ps -a | grep -i -E 'IMAGE|video-storage'\n",
    "!docker rmi $CONTAINER_REGISTRY_LOGIN_SERVER/video-storage:1 > /dev/null 2>&1\n",
    "!docker image list | grep -i -E 'REPOSITORY|video-storage'"
   ]
  },
  {
   "cell_type": "markdown",
   "metadata": {},
   "source": [
    "## Logout from Azure Container Registry via Docker"
   ]
  },
  {
   "cell_type": "code",
   "execution_count": 47,
   "metadata": {
    "vscode": {
     "languageId": "shellscript"
    }
   },
   "outputs": [],
   "source": [
    "!docker logout $CONTAINER_REGISTRY_LOGIN_SERVER > /dev/null 2>&1"
   ]
  },
  {
   "cell_type": "markdown",
   "metadata": {},
   "source": [
    "## Delete Image `video-storage` from Azure Container Registry"
   ]
  },
  {
   "cell_type": "code",
   "execution_count": 48,
   "metadata": {
    "vscode": {
     "languageId": "shellscript"
    }
   },
   "outputs": [
    {
     "name": "stdout",
     "output_type": "stream",
     "text": [
      "\n"
     ]
    }
   ],
   "source": [
    "#!az acr repository delete -y -n tsfn14g00 --image video-storage:1 -table\n",
    "!az acr repository delete -y -n tsfn14g00 --repository video-storage -o table"
   ]
  },
  {
   "cell_type": "markdown",
   "metadata": {},
   "source": [
    "## List Images in Container Registry `tsfn14g00 `"
   ]
  },
  {
   "cell_type": "code",
   "execution_count": 49,
   "metadata": {
    "vscode": {
     "languageId": "shellscript"
    }
   },
   "outputs": [
    {
     "name": "stdout",
     "output_type": "stream",
     "text": [
      "\n"
     ]
    }
   ],
   "source": [
    "!az acr repository list -n tsfn14g00 --top 10 -o table"
   ]
  },
  {
   "cell_type": "markdown",
   "metadata": {},
   "source": [
    "## Terraform Destroy"
   ]
  },
  {
   "cell_type": "code",
   "execution_count": 50,
   "metadata": {
    "vscode": {
     "languageId": "shellscript"
    }
   },
   "outputs": [
    {
     "name": "stdout",
     "output_type": "stream",
     "text": [
      "\u001b[0m\u001b[1mazurerm_resource_group.main: Refreshing state... [id=/subscriptions/dc438970-aa32-41b3-8fe2-f587309a0208/resourceGroups/tsfn14g00]\u001b[0m\n",
      "\u001b[0m\u001b[1mazurerm_container_registry.main: Refreshing state... [id=/subscriptions/dc438970-aa32-41b3-8fe2-f587309a0208/resourceGroups/tsfn14g00/providers/Microsoft.ContainerRegistry/registries/tsfn14g00]\u001b[0m\n",
      "\u001b[0m\u001b[1mazurerm_storage_account.main: Refreshing state... [id=/subscriptions/dc438970-aa32-41b3-8fe2-f587309a0208/resourceGroups/tsfn14g00/providers/Microsoft.Storage/storageAccounts/tsfn14g00]\u001b[0m\n",
      "\u001b[0m\u001b[1mazurerm_storage_container.main: Refreshing state... [id=https://tsfn14g00.blob.core.windows.net/videos]\u001b[0m\n",
      "\n",
      "Terraform used the selected providers to generate the following execution plan.\n",
      "Resource actions are indicated with the following symbols:\n",
      "  \u001b[31m-\u001b[0m destroy\u001b[0m\n",
      "\n",
      "Terraform will perform the following actions:\n",
      "\n",
      "\u001b[1m  # azurerm_container_registry.main\u001b[0m will be \u001b[1m\u001b[31mdestroyed\u001b[0m\n",
      "\u001b[0m  \u001b[31m-\u001b[0m\u001b[0m resource \"azurerm_container_registry\" \"main\" {\n",
      "      \u001b[31m-\u001b[0m\u001b[0m admin_enabled                 = true \u001b[90m-> null\u001b[0m\u001b[0m\n",
      "      \u001b[31m-\u001b[0m\u001b[0m admin_password                = (sensitive value) \u001b[90m-> null\u001b[0m\u001b[0m\n",
      "      \u001b[31m-\u001b[0m\u001b[0m admin_username                = \"tsfn14g00\" \u001b[90m-> null\u001b[0m\u001b[0m\n",
      "      \u001b[31m-\u001b[0m\u001b[0m anonymous_pull_enabled        = false \u001b[90m-> null\u001b[0m\u001b[0m\n",
      "      \u001b[31m-\u001b[0m\u001b[0m data_endpoint_enabled         = false \u001b[90m-> null\u001b[0m\u001b[0m\n",
      "      \u001b[31m-\u001b[0m\u001b[0m encryption                    = [\n",
      "          \u001b[31m-\u001b[0m\u001b[0m {\n",
      "              \u001b[31m-\u001b[0m\u001b[0m enabled            = false\n",
      "              \u001b[31m-\u001b[0m\u001b[0m identity_client_id = \"\"\n",
      "              \u001b[31m-\u001b[0m\u001b[0m key_vault_key_id   = \"\"\n",
      "            },\n",
      "        ] \u001b[90m-> null\u001b[0m\u001b[0m\n",
      "      \u001b[31m-\u001b[0m\u001b[0m export_policy_enabled         = true \u001b[90m-> null\u001b[0m\u001b[0m\n",
      "      \u001b[31m-\u001b[0m\u001b[0m id                            = \"/subscriptions/dc438970-aa32-41b3-8fe2-f587309a0208/resourceGroups/tsfn14g00/providers/Microsoft.ContainerRegistry/registries/tsfn14g00\" \u001b[90m-> null\u001b[0m\u001b[0m\n",
      "      \u001b[31m-\u001b[0m\u001b[0m location                      = \"westeurope\" \u001b[90m-> null\u001b[0m\u001b[0m\n",
      "      \u001b[31m-\u001b[0m\u001b[0m login_server                  = \"tsfn14g00.azurecr.io\" \u001b[90m-> null\u001b[0m\u001b[0m\n",
      "      \u001b[31m-\u001b[0m\u001b[0m name                          = \"tsfn14g00\" \u001b[90m-> null\u001b[0m\u001b[0m\n",
      "      \u001b[31m-\u001b[0m\u001b[0m network_rule_bypass_option    = \"AzureServices\" \u001b[90m-> null\u001b[0m\u001b[0m\n",
      "      \u001b[31m-\u001b[0m\u001b[0m network_rule_set              = [] \u001b[90m-> null\u001b[0m\u001b[0m\n",
      "      \u001b[31m-\u001b[0m\u001b[0m public_network_access_enabled = true \u001b[90m-> null\u001b[0m\u001b[0m\n",
      "      \u001b[31m-\u001b[0m\u001b[0m quarantine_policy_enabled     = false \u001b[90m-> null\u001b[0m\u001b[0m\n",
      "      \u001b[31m-\u001b[0m\u001b[0m resource_group_name           = \"tsfn14g00\" \u001b[90m-> null\u001b[0m\u001b[0m\n",
      "      \u001b[31m-\u001b[0m\u001b[0m retention_policy              = [\n",
      "          \u001b[31m-\u001b[0m\u001b[0m {\n",
      "              \u001b[31m-\u001b[0m\u001b[0m days    = 7\n",
      "              \u001b[31m-\u001b[0m\u001b[0m enabled = false\n",
      "            },\n",
      "        ] \u001b[90m-> null\u001b[0m\u001b[0m\n",
      "      \u001b[31m-\u001b[0m\u001b[0m sku                           = \"Basic\" \u001b[90m-> null\u001b[0m\u001b[0m\n",
      "      \u001b[31m-\u001b[0m\u001b[0m tags                          = {} \u001b[90m-> null\u001b[0m\u001b[0m\n",
      "      \u001b[31m-\u001b[0m\u001b[0m trust_policy                  = [\n",
      "          \u001b[31m-\u001b[0m\u001b[0m {\n",
      "              \u001b[31m-\u001b[0m\u001b[0m enabled = false\n",
      "            },\n",
      "        ] \u001b[90m-> null\u001b[0m\u001b[0m\n",
      "      \u001b[31m-\u001b[0m\u001b[0m zone_redundancy_enabled       = false \u001b[90m-> null\u001b[0m\u001b[0m\n",
      "    }\n",
      "\n",
      "\u001b[1m  # azurerm_resource_group.main\u001b[0m will be \u001b[1m\u001b[31mdestroyed\u001b[0m\n",
      "\u001b[0m  \u001b[31m-\u001b[0m\u001b[0m resource \"azurerm_resource_group\" \"main\" {\n",
      "      \u001b[31m-\u001b[0m\u001b[0m id       = \"/subscriptions/dc438970-aa32-41b3-8fe2-f587309a0208/resourceGroups/tsfn14g00\" \u001b[90m-> null\u001b[0m\u001b[0m\n",
      "      \u001b[31m-\u001b[0m\u001b[0m location = \"westeurope\" \u001b[90m-> null\u001b[0m\u001b[0m\n",
      "      \u001b[31m-\u001b[0m\u001b[0m name     = \"tsfn14g00\" \u001b[90m-> null\u001b[0m\u001b[0m\n",
      "      \u001b[31m-\u001b[0m\u001b[0m tags     = {} \u001b[90m-> null\u001b[0m\u001b[0m\n",
      "    }\n",
      "\n",
      "\u001b[1m  # azurerm_storage_account.main\u001b[0m will be \u001b[1m\u001b[31mdestroyed\u001b[0m\n",
      "\u001b[0m  \u001b[31m-\u001b[0m\u001b[0m resource \"azurerm_storage_account\" \"main\" {\n",
      "      \u001b[31m-\u001b[0m\u001b[0m access_tier                       = \"Hot\" \u001b[90m-> null\u001b[0m\u001b[0m\n",
      "      \u001b[31m-\u001b[0m\u001b[0m account_kind                      = \"StorageV2\" \u001b[90m-> null\u001b[0m\u001b[0m\n",
      "      \u001b[31m-\u001b[0m\u001b[0m account_replication_type          = \"LRS\" \u001b[90m-> null\u001b[0m\u001b[0m\n",
      "      \u001b[31m-\u001b[0m\u001b[0m account_tier                      = \"Standard\" \u001b[90m-> null\u001b[0m\u001b[0m\n",
      "      \u001b[31m-\u001b[0m\u001b[0m allow_nested_items_to_be_public   = true \u001b[90m-> null\u001b[0m\u001b[0m\n",
      "      \u001b[31m-\u001b[0m\u001b[0m cross_tenant_replication_enabled  = true \u001b[90m-> null\u001b[0m\u001b[0m\n",
      "      \u001b[31m-\u001b[0m\u001b[0m default_to_oauth_authentication   = false \u001b[90m-> null\u001b[0m\u001b[0m\n",
      "      \u001b[31m-\u001b[0m\u001b[0m enable_https_traffic_only         = true \u001b[90m-> null\u001b[0m\u001b[0m\n",
      "      \u001b[31m-\u001b[0m\u001b[0m id                                = \"/subscriptions/dc438970-aa32-41b3-8fe2-f587309a0208/resourceGroups/tsfn14g00/providers/Microsoft.Storage/storageAccounts/tsfn14g00\" \u001b[90m-> null\u001b[0m\u001b[0m\n",
      "      \u001b[31m-\u001b[0m\u001b[0m infrastructure_encryption_enabled = false \u001b[90m-> null\u001b[0m\u001b[0m\n",
      "      \u001b[31m-\u001b[0m\u001b[0m is_hns_enabled                    = false \u001b[90m-> null\u001b[0m\u001b[0m\n",
      "      \u001b[31m-\u001b[0m\u001b[0m location                          = \"westeurope\" \u001b[90m-> null\u001b[0m\u001b[0m\n",
      "      \u001b[31m-\u001b[0m\u001b[0m min_tls_version                   = \"TLS1_2\" \u001b[90m-> null\u001b[0m\u001b[0m\n",
      "      \u001b[31m-\u001b[0m\u001b[0m name                              = \"tsfn14g00\" \u001b[90m-> null\u001b[0m\u001b[0m\n",
      "      \u001b[31m-\u001b[0m\u001b[0m nfsv3_enabled                     = false \u001b[90m-> null\u001b[0m\u001b[0m\n",
      "      \u001b[31m-\u001b[0m\u001b[0m primary_access_key                = (sensitive value) \u001b[90m-> null\u001b[0m\u001b[0m\n",
      "      \u001b[31m-\u001b[0m\u001b[0m primary_blob_connection_string    = (sensitive value) \u001b[90m-> null\u001b[0m\u001b[0m\n",
      "      \u001b[31m-\u001b[0m\u001b[0m primary_blob_endpoint             = \"https://tsfn14g00.blob.core.windows.net/\" \u001b[90m-> null\u001b[0m\u001b[0m\n",
      "      \u001b[31m-\u001b[0m\u001b[0m primary_blob_host                 = \"tsfn14g00.blob.core.windows.net\" \u001b[90m-> null\u001b[0m\u001b[0m\n",
      "      \u001b[31m-\u001b[0m\u001b[0m primary_connection_string         = (sensitive value) \u001b[90m-> null\u001b[0m\u001b[0m\n",
      "      \u001b[31m-\u001b[0m\u001b[0m primary_dfs_endpoint              = \"https://tsfn14g00.dfs.core.windows.net/\" \u001b[90m-> null\u001b[0m\u001b[0m\n",
      "      \u001b[31m-\u001b[0m\u001b[0m primary_dfs_host                  = \"tsfn14g00.dfs.core.windows.net\" \u001b[90m-> null\u001b[0m\u001b[0m\n",
      "      \u001b[31m-\u001b[0m\u001b[0m primary_file_endpoint             = \"https://tsfn14g00.file.core.windows.net/\" \u001b[90m-> null\u001b[0m\u001b[0m\n",
      "      \u001b[31m-\u001b[0m\u001b[0m primary_file_host                 = \"tsfn14g00.file.core.windows.net\" \u001b[90m-> null\u001b[0m\u001b[0m\n",
      "      \u001b[31m-\u001b[0m\u001b[0m primary_location                  = \"westeurope\" \u001b[90m-> null\u001b[0m\u001b[0m\n",
      "      \u001b[31m-\u001b[0m\u001b[0m primary_queue_endpoint            = \"https://tsfn14g00.queue.core.windows.net/\" \u001b[90m-> null\u001b[0m\u001b[0m\n",
      "      \u001b[31m-\u001b[0m\u001b[0m primary_queue_host                = \"tsfn14g00.queue.core.windows.net\" \u001b[90m-> null\u001b[0m\u001b[0m\n",
      "      \u001b[31m-\u001b[0m\u001b[0m primary_table_endpoint            = \"https://tsfn14g00.table.core.windows.net/\" \u001b[90m-> null\u001b[0m\u001b[0m\n",
      "      \u001b[31m-\u001b[0m\u001b[0m primary_table_host                = \"tsfn14g00.table.core.windows.net\" \u001b[90m-> null\u001b[0m\u001b[0m\n",
      "      \u001b[31m-\u001b[0m\u001b[0m primary_web_endpoint              = \"https://tsfn14g00.z6.web.core.windows.net/\" \u001b[90m-> null\u001b[0m\u001b[0m\n",
      "      \u001b[31m-\u001b[0m\u001b[0m primary_web_host                  = \"tsfn14g00.z6.web.core.windows.net\" \u001b[90m-> null\u001b[0m\u001b[0m\n",
      "      \u001b[31m-\u001b[0m\u001b[0m public_network_access_enabled     = true \u001b[90m-> null\u001b[0m\u001b[0m\n",
      "      \u001b[31m-\u001b[0m\u001b[0m queue_encryption_key_type         = \"Service\" \u001b[90m-> null\u001b[0m\u001b[0m\n",
      "      \u001b[31m-\u001b[0m\u001b[0m resource_group_name               = \"tsfn14g00\" \u001b[90m-> null\u001b[0m\u001b[0m\n",
      "      \u001b[31m-\u001b[0m\u001b[0m secondary_access_key              = (sensitive value) \u001b[90m-> null\u001b[0m\u001b[0m\n",
      "      \u001b[31m-\u001b[0m\u001b[0m secondary_connection_string       = (sensitive value) \u001b[90m-> null\u001b[0m\u001b[0m\n",
      "      \u001b[31m-\u001b[0m\u001b[0m sftp_enabled                      = false \u001b[90m-> null\u001b[0m\u001b[0m\n",
      "      \u001b[31m-\u001b[0m\u001b[0m shared_access_key_enabled         = true \u001b[90m-> null\u001b[0m\u001b[0m\n",
      "      \u001b[31m-\u001b[0m\u001b[0m table_encryption_key_type         = \"Service\" \u001b[90m-> null\u001b[0m\u001b[0m\n",
      "      \u001b[31m-\u001b[0m\u001b[0m tags                              = {} \u001b[90m-> null\u001b[0m\u001b[0m\n",
      "\n",
      "      \u001b[31m-\u001b[0m\u001b[0m blob_properties {\n",
      "          \u001b[31m-\u001b[0m\u001b[0m change_feed_enabled           = false \u001b[90m-> null\u001b[0m\u001b[0m\n",
      "          \u001b[31m-\u001b[0m\u001b[0m change_feed_retention_in_days = 0 \u001b[90m-> null\u001b[0m\u001b[0m\n",
      "          \u001b[31m-\u001b[0m\u001b[0m last_access_time_enabled      = false \u001b[90m-> null\u001b[0m\u001b[0m\n",
      "          \u001b[31m-\u001b[0m\u001b[0m versioning_enabled            = false \u001b[90m-> null\u001b[0m\u001b[0m\n",
      "        }\n",
      "\n",
      "      \u001b[31m-\u001b[0m\u001b[0m network_rules {\n",
      "          \u001b[31m-\u001b[0m\u001b[0m bypass                     = [\n",
      "              \u001b[31m-\u001b[0m\u001b[0m \"AzureServices\",\n",
      "            ] \u001b[90m-> null\u001b[0m\u001b[0m\n",
      "          \u001b[31m-\u001b[0m\u001b[0m default_action             = \"Allow\" \u001b[90m-> null\u001b[0m\u001b[0m\n",
      "          \u001b[31m-\u001b[0m\u001b[0m ip_rules                   = [] \u001b[90m-> null\u001b[0m\u001b[0m\n",
      "          \u001b[31m-\u001b[0m\u001b[0m virtual_network_subnet_ids = [] \u001b[90m-> null\u001b[0m\u001b[0m\n",
      "        }\n",
      "\n",
      "      \u001b[31m-\u001b[0m\u001b[0m queue_properties {\n",
      "          \u001b[31m-\u001b[0m\u001b[0m hour_metrics {\n",
      "              \u001b[31m-\u001b[0m\u001b[0m enabled               = true \u001b[90m-> null\u001b[0m\u001b[0m\n",
      "              \u001b[31m-\u001b[0m\u001b[0m include_apis          = true \u001b[90m-> null\u001b[0m\u001b[0m\n",
      "              \u001b[31m-\u001b[0m\u001b[0m retention_policy_days = 7 \u001b[90m-> null\u001b[0m\u001b[0m\n",
      "              \u001b[31m-\u001b[0m\u001b[0m version               = \"1.0\" \u001b[90m-> null\u001b[0m\u001b[0m\n",
      "            }\n",
      "          \u001b[31m-\u001b[0m\u001b[0m logging {\n",
      "              \u001b[31m-\u001b[0m\u001b[0m delete                = false \u001b[90m-> null\u001b[0m\u001b[0m\n",
      "              \u001b[31m-\u001b[0m\u001b[0m read                  = false \u001b[90m-> null\u001b[0m\u001b[0m\n",
      "              \u001b[31m-\u001b[0m\u001b[0m retention_policy_days = 0 \u001b[90m-> null\u001b[0m\u001b[0m\n",
      "              \u001b[31m-\u001b[0m\u001b[0m version               = \"1.0\" \u001b[90m-> null\u001b[0m\u001b[0m\n",
      "              \u001b[31m-\u001b[0m\u001b[0m write                 = false \u001b[90m-> null\u001b[0m\u001b[0m\n",
      "            }\n",
      "          \u001b[31m-\u001b[0m\u001b[0m minute_metrics {\n",
      "              \u001b[31m-\u001b[0m\u001b[0m enabled               = false \u001b[90m-> null\u001b[0m\u001b[0m\n",
      "              \u001b[31m-\u001b[0m\u001b[0m include_apis          = false \u001b[90m-> null\u001b[0m\u001b[0m\n",
      "              \u001b[31m-\u001b[0m\u001b[0m retention_policy_days = 0 \u001b[90m-> null\u001b[0m\u001b[0m\n",
      "              \u001b[31m-\u001b[0m\u001b[0m version               = \"1.0\" \u001b[90m-> null\u001b[0m\u001b[0m\n",
      "            }\n",
      "        }\n",
      "\n",
      "      \u001b[31m-\u001b[0m\u001b[0m share_properties {\n",
      "          \u001b[31m-\u001b[0m\u001b[0m retention_policy {\n",
      "              \u001b[31m-\u001b[0m\u001b[0m days = 7 \u001b[90m-> null\u001b[0m\u001b[0m\n",
      "            }\n",
      "        }\n",
      "    }\n",
      "\n",
      "\u001b[1m  # azurerm_storage_container.main\u001b[0m will be \u001b[1m\u001b[31mdestroyed\u001b[0m\n",
      "\u001b[0m  \u001b[31m-\u001b[0m\u001b[0m resource \"azurerm_storage_container\" \"main\" {\n",
      "      \u001b[31m-\u001b[0m\u001b[0m container_access_type   = \"private\" \u001b[90m-> null\u001b[0m\u001b[0m\n",
      "      \u001b[31m-\u001b[0m\u001b[0m has_immutability_policy = false \u001b[90m-> null\u001b[0m\u001b[0m\n",
      "      \u001b[31m-\u001b[0m\u001b[0m has_legal_hold          = false \u001b[90m-> null\u001b[0m\u001b[0m\n",
      "      \u001b[31m-\u001b[0m\u001b[0m id                      = \"https://tsfn14g00.blob.core.windows.net/videos\" \u001b[90m-> null\u001b[0m\u001b[0m\n",
      "      \u001b[31m-\u001b[0m\u001b[0m metadata                = {} \u001b[90m-> null\u001b[0m\u001b[0m\n",
      "      \u001b[31m-\u001b[0m\u001b[0m name                    = \"videos\" \u001b[90m-> null\u001b[0m\u001b[0m\n",
      "      \u001b[31m-\u001b[0m\u001b[0m resource_manager_id     = \"/subscriptions/dc438970-aa32-41b3-8fe2-f587309a0208/resourceGroups/tsfn14g00/providers/Microsoft.Storage/storageAccounts/tsfn14g00/blobServices/default/containers/videos\" \u001b[90m-> null\u001b[0m\u001b[0m\n",
      "      \u001b[31m-\u001b[0m\u001b[0m storage_account_name    = \"tsfn14g00\" \u001b[90m-> null\u001b[0m\u001b[0m\n",
      "    }\n",
      "\n",
      "\u001b[1mPlan:\u001b[0m 0 to add, 0 to change, 4 to destroy.\n",
      "\u001b[0m\u001b[0m\u001b[1mazurerm_storage_container.main: Destroying... [id=https://tsfn14g00.blob.core.windows.net/videos]\u001b[0m\u001b[0m\n",
      "\u001b[0m\u001b[1mazurerm_container_registry.main: Destroying... [id=/subscriptions/dc438970-aa32-41b3-8fe2-f587309a0208/resourceGroups/tsfn14g00/providers/Microsoft.ContainerRegistry/registries/tsfn14g00]\u001b[0m\u001b[0m\n",
      "\u001b[0m\u001b[1mazurerm_storage_container.main: Destruction complete after 1s\u001b[0m\n",
      "\u001b[0m\u001b[1mazurerm_storage_account.main: Destroying... [id=/subscriptions/dc438970-aa32-41b3-8fe2-f587309a0208/resourceGroups/tsfn14g00/providers/Microsoft.Storage/storageAccounts/tsfn14g00]\u001b[0m\u001b[0m\n",
      "\u001b[0m\u001b[1mazurerm_storage_account.main: Destruction complete after 4s\u001b[0m\n",
      "\u001b[0m\u001b[1mazurerm_container_registry.main: Still destroying... [id=/subscriptions/dc438970-aa32-41b3-8fe2-...ContainerRegistry/registries/tsfn14g00, 10s elapsed]\u001b[0m\u001b[0m\n",
      "\u001b[0m\u001b[1mazurerm_container_registry.main: Destruction complete after 15s\u001b[0m\n",
      "\u001b[0m\u001b[1mazurerm_resource_group.main: Destroying... [id=/subscriptions/dc438970-aa32-41b3-8fe2-f587309a0208/resourceGroups/tsfn14g00]\u001b[0m\u001b[0m\n",
      "\u001b[0m\u001b[1mazurerm_resource_group.main: Still destroying... [id=/subscriptions/dc438970-aa32-41b3-8fe2-f587309a0208/resourceGroups/tsfn14g00, 10s elapsed]\u001b[0m\u001b[0m\n",
      "\u001b[0m\u001b[1mazurerm_resource_group.main: Still destroying... [id=/subscriptions/dc438970-aa32-41b3-8fe2-f587309a0208/resourceGroups/tsfn14g00, 20s elapsed]\u001b[0m\u001b[0m\n",
      "\u001b[0m\u001b[1mazurerm_resource_group.main: Still destroying... [id=/subscriptions/dc438970-aa32-41b3-8fe2-f587309a0208/resourceGroups/tsfn14g00, 30s elapsed]\u001b[0m\u001b[0m\n",
      "\u001b[0m\u001b[1mazurerm_resource_group.main: Still destroying... [id=/subscriptions/dc438970-aa32-41b3-8fe2-f587309a0208/resourceGroups/tsfn14g00, 40s elapsed]\u001b[0m\u001b[0m\n",
      "\u001b[0m\u001b[1mazurerm_resource_group.main: Still destroying... [id=/subscriptions/dc438970-aa32-41b3-8fe2-f587309a0208/resourceGroups/tsfn14g00, 50s elapsed]\u001b[0m\u001b[0m\n",
      "\u001b[0m\u001b[1mazurerm_resource_group.main: Still destroying... [id=/subscriptions/dc438970-aa32-41b3-8fe2-f587309a0208/resourceGroups/tsfn14g00, 1m0s elapsed]\u001b[0m\u001b[0m\n",
      "\u001b[0m\u001b[1mazurerm_resource_group.main: Still destroying... [id=/subscriptions/dc438970-aa32-41b3-8fe2-f587309a0208/resourceGroups/tsfn14g00, 1m10s elapsed]\u001b[0m\u001b[0m\n",
      "\u001b[0m\u001b[1mazurerm_resource_group.main: Destruction complete after 1m18s\u001b[0m\n",
      "\u001b[0m\u001b[1m\u001b[32m\n",
      "Destroy complete! Resources: 4 destroyed.\n",
      "\u001b[0m\n"
     ]
    }
   ],
   "source": [
    "!terraform destroy -auto-approve"
   ]
  },
  {
   "cell_type": "markdown",
   "metadata": {},
   "source": [
    "## List Azure Container Registries"
   ]
  },
  {
   "cell_type": "code",
   "execution_count": 51,
   "metadata": {
    "vscode": {
     "languageId": "shellscript"
    }
   },
   "outputs": [
    {
     "name": "stdout",
     "output_type": "stream",
     "text": [
      "\n"
     ]
    }
   ],
   "source": [
    "!az acr list -o table"
   ]
  },
  {
   "cell_type": "markdown",
   "metadata": {},
   "source": [
    "## List Azure Storage Accounts"
   ]
  },
  {
   "cell_type": "code",
   "execution_count": 52,
   "metadata": {
    "vscode": {
     "languageId": "shellscript"
    }
   },
   "outputs": [
    {
     "name": "stdout",
     "output_type": "stream",
     "text": [
      "\n"
     ]
    }
   ],
   "source": [
    "#!az storage account list --resource-group $RESOURCE_GROUP -o table\n",
    "!az storage account list -o table"
   ]
  },
  {
   "cell_type": "markdown",
   "metadata": {},
   "source": [
    "## List Azure Resource Groups"
   ]
  },
  {
   "cell_type": "code",
   "execution_count": 53,
   "metadata": {
    "vscode": {
     "languageId": "shellscript"
    }
   },
   "outputs": [
    {
     "name": "stdout",
     "output_type": "stream",
     "text": [
      "\n"
     ]
    }
   ],
   "source": [
    "!az group list -o table"
   ]
  },
  {
   "cell_type": "code",
   "execution_count": null,
   "metadata": {
    "vscode": {
     "languageId": "shellscript"
    }
   },
   "outputs": [],
   "source": []
  }
 ],
 "metadata": {
  "kernelspec": {
   "display_name": "Bash",
   "language": "bash",
   "name": "bash"
  },
  "language_info": {
   "codemirror_mode": "shell",
   "file_extension": ".sh",
   "mimetype": "text/x-sh",
   "name": "bash"
  }
 },
 "nbformat": 4,
 "nbformat_minor": 2
}
