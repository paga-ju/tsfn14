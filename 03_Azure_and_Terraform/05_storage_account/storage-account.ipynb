{
 "cells": [
  {
   "cell_type": "markdown",
   "metadata": {},
   "source": [
    "## Create and Destroy a Storage Account & Container in Azure via Terraform\n",
    "\n",
    "- An Azure Storage Account is used to store various types of data in Azure.\n",
    "  - Since an Azure Storage Account is an Azure resource, it must be placed in an Azure Resource Group.\n",
    "- A Storage Container is a specific storage type taht can be created under an Azure Storage Account.\n",
    "  - A Storage Container is used to store BLOBs (Binary Large OBjects), i.e. an arbitrarty file (e.g. video file).\n",
    "- This Terraform Project consists of the Terraform files listed below:"
   ]
  },
  {
   "cell_type": "code",
   "execution_count": 1,
   "metadata": {
    "vscode": {
     "languageId": "shellscript"
    }
   },
   "outputs": [
    {
     "name": "stdout",
     "output_type": "stream",
     "text": [
      "container-registry.tf  resource-group.tf   storage-container.tf\n",
      "providers.tf\t       storage-account.tf  variables.tf\n"
     ]
    }
   ],
   "source": [
    "#!dir *.tf # use this on Windows\n",
    "!ls *.tf"
   ]
  },
  {
   "cell_type": "markdown",
   "metadata": {},
   "source": [
    "## Terraform providers\n",
    "\n",
    "- We are using the same Terraform proviers as before (i.e. the `azurerm` provider for Azure)."
   ]
  },
  {
   "cell_type": "code",
   "execution_count": 2,
   "metadata": {
    "vscode": {
     "languageId": "shellscript"
    }
   },
   "outputs": [
    {
     "name": "stdout",
     "output_type": "stream",
     "text": [
      "# Initialises Terraform providers and sets their version numbers.\n",
      "\n",
      "terraform {\n",
      "  required_providers {\n",
      "    azurerm = {\n",
      "      source  = \"hashicorp/azurerm\"\n",
      "      version = \"3.90.0\"\n",
      "    }\n",
      "  }\n",
      "\n",
      "  required_version = \"~> 1.7.2\"\n",
      "}\n",
      "\n",
      "provider \"azurerm\" {\n",
      "  features {}\n",
      "}"
     ]
    }
   ],
   "source": [
    "#!type providers.tf # use this on Windows\n",
    "!cat providers.tf"
   ]
  },
  {
   "cell_type": "markdown",
   "metadata": {},
   "source": [
    "## Terraform variables\n",
    "\n",
    "- We are using the same Terraform variables as before (no variable for a kubernetes cluster this time).\n",
    "\n",
    "**Note! Make sure you change the value for the variable `app_name` to something unique!**"
   ]
  },
  {
   "cell_type": "code",
   "execution_count": 3,
   "metadata": {
    "vscode": {
     "languageId": "shellscript"
    }
   },
   "outputs": [
    {
     "name": "stdout",
     "output_type": "stream",
     "text": [
      "# Sets global variables for this Terraform project.\n",
      "\n",
      "variable \"app_name\" {\n",
      "  default = \"tsfn14g00\"\n",
      "}\n",
      "\n",
      "variable \"location\" {\n",
      "  default = \"westeurope\"\n",
      "}"
     ]
    }
   ],
   "source": [
    "#!type variables.tf # use this on Windows\n",
    "!cat variables.tf"
   ]
  },
  {
   "cell_type": "markdown",
   "metadata": {},
   "source": [
    "## Azure Resource Group\n",
    "\n",
    "- We are using the same Azure Resoure Group as before."
   ]
  },
  {
   "cell_type": "code",
   "execution_count": 4,
   "metadata": {
    "vscode": {
     "languageId": "shellscript"
    }
   },
   "outputs": [
    {
     "name": "stdout",
     "output_type": "stream",
     "text": [
      "# Creates a resource group in your Azure account.\n",
      "\n",
      "resource \"azurerm_resource_group\" \"main\" {\n",
      "  name     = var.app_name\n",
      "  location = var.location\n",
      "}"
     ]
    }
   ],
   "source": [
    "#!type resource-group.tf # use this on Windows\n",
    "!cat resource-group.tf"
   ]
  },
  {
   "cell_type": "markdown",
   "metadata": {},
   "source": [
    "## Azure Container Registry\n",
    "\n",
    "- We are using the same Azure Container Registry as before."
   ]
  },
  {
   "cell_type": "code",
   "execution_count": 5,
   "metadata": {
    "vscode": {
     "languageId": "shellscript"
    }
   },
   "outputs": [
    {
     "name": "stdout",
     "output_type": "stream",
     "text": [
      "# Creates a container registry in Azure (for Docker images).\n",
      "\n",
      "resource \"azurerm_container_registry\" \"main\" {\n",
      "  name                = var.app_name\n",
      "  resource_group_name = azurerm_resource_group.main.name\n",
      "  location            = var.location\n",
      "  admin_enabled       = true\n",
      "  sku                 = \"Basic\"\n",
      "}"
     ]
    }
   ],
   "source": [
    "#!type container-registry.tf # use this on Windows\n",
    "!cat container-registry.tf"
   ]
  },
  {
   "cell_type": "markdown",
   "metadata": {},
   "source": [
    "## Let's view the contents of the file `storage-account.tf`\n",
    "\n",
    "- Here we are defining an Azure Storage Account\n",
    "  - The Block Type is `resource`.\n",
    "  - The first Block Label is `azurerm_storage_account`\n",
    "    - `azurerm` is the name of the provider (i.e. the provider for Azure defined in the file `providers.tf`).\n",
    "    - `storage_account` is the name of the Azure resource (i.e. an Azure Storage Account defined in the `azurerm` provider/plugin).\n",
    "  - The second Block Label is `main`, which is used to uniquely identify the resource in the Terraform files.\n",
    "  - The first Argument sets the Azure Storage Account's name\n",
    "    - `name` is the argument's name\n",
    "    - Its value is retrieved from the Terraform variable `app_name` (defined in the file `variables.tf`).\n",
    "  - The second Argument sets the Azure Resource Group in which the Azure Storage Account will be created\n",
    "    - `resource_group_name` is the argument's name\n",
    "    - Its value is retrieved from the Terraform Expression `azurerm_resource_group.main.name`.\n",
    "      - The `azurerm_resource_group.main` Block is defined in `resource-group.tf` as `resource \"azurerm_resource_group\" \"main\"`.\n",
    "      - In this Block, there is an Argument with a name of `name` who's value is defined as `var.app_name`.\n",
    "      - This is the value that is assigned to `resource_group_name`.\n",
    "  - The third Argument sets the Azure Storage Account's Location\n",
    "    - `location` is the argument's name\n",
    "    - Its value is retrieved from the Terraform variable `location` (defined in the file `variables.tf`).\n",
    "  - The fourth Argument sets the Storage Account's type of storage\n",
    "    - `account_kind` is the argument's name\n",
    "    - Its value is set to `\"StorageV2\"` (which is what we want if we want to add a Storage Container to the Storage Account).\n",
    "    - For more information about the Azure Storage Account's account type, see:\n",
    "      - https://registry.terraform.io/providers/hashicorp/azurerm/latest/docs/resources/storage_account\n",
    "      - https://learn.microsoft.com/en-us/azure/storage/common/storage-account-overview\n",
    "  - The fifth Argument sets the Storage Account's tier\n",
    "    - `account_tier` is the argument's name\n",
    "    - Its value is set to `\"Standard\"` (i.e. the Standard Tier which is a cheaper alternative).\n",
    "    - For more information about the Azure Storage Account's tier, see:\n",
    "      - https://registry.terraform.io/providers/hashicorp/azurerm/latest/docs/resources/storage_account\n",
    "      - https://learn.microsoft.com/en-us/azure/storage/common/storage-account-overview\n",
    "  - The fifth Argument sets the Storage Account's replication type.\n",
    "    - `account_replication_type` is the argument's name\n",
    "    - Its value is set to `\"LRS\"` (for Local Redundant Storage).\n",
    "    - For more information about the Azure Storage Account's replication type, see:\n",
    "      - https://registry.terraform.io/providers/hashicorp/azurerm/latest/docs/resources/storage_account\n",
    "      - https://learn.microsoft.com/en-us/azure/storage/common/storage-account-overview"
   ]
  },
  {
   "cell_type": "code",
   "execution_count": 6,
   "metadata": {
    "vscode": {
     "languageId": "shellscript"
    }
   },
   "outputs": [
    {
     "name": "stdout",
     "output_type": "stream",
     "text": [
      "# Create a storage account in Azure\n",
      "\n",
      "# Note!\n",
      "# - Resource \"azurerm_resource_group.main\" with a property \"name\" is defined in the file \"resource-group.tf\".\n",
      "# - The value for \"resource_group_name\" below is set using property \"name\" in resource \"azurerm_resource_group.main\":\n",
      "#   - resource_group_name = azurerm_resource_group.main.name\n",
      "# - \"name\" and \"location\" below are set from Terraform variables defined in the file \"variables.tf\".\n",
      "# - The value for \"storage_account_name\" below is set using property \"name\" in resource \"azurerm_storage_account.main\":\n",
      "#   - storage_account_name = azurerm_storage_account.main.name\n",
      "\n",
      "resource \"azurerm_storage_account\" \"main\" {\n",
      "  name                     = var.app_name\n",
      "  resource_group_name      = azurerm_resource_group.main.name\n",
      "  location                 = var.location\n",
      "  account_kind             = \"StorageV2\"\n",
      "  account_tier             = \"Standard\"\n",
      "  account_replication_type = \"LRS\"\n",
      "}"
     ]
    }
   ],
   "source": [
    "#!type storage-account.tf # use this on Windows\n",
    "!cat storage-account.tf"
   ]
  },
  {
   "cell_type": "markdown",
   "metadata": {},
   "source": [
    "## Let's view the contents of the file `storage-container.tf`\n",
    "\n",
    "- Here we are defining an Azure Storage Container (which is used to store data as BLOBs, i.e. arbitrary files)\n",
    "  - The Block Type is `resource`.\n",
    "  - The first Block Label is `azurerm_storage_container`\n",
    "    - `azurerm` is the name of the provider (i.e. the provider for Azure defined in the file `providers.tf`).\n",
    "    - `storage_container` is the name of the Azure resource (i.e. an Azure Storage Container defined in the `azurerm` provider/plugin).\n",
    "  - The second Block Label is `main`, which is used to uniquely identify the resouce in the Terraform files.\n",
    "  - The first Argument sets the Storage Container's name\n",
    "    - `name` is the argument's name\n",
    "    - Its value is set to `videos` (this is equivalent to the name of a folder, which will contain files).\n",
    "  - The second Argument sets the Azure Storage Account in which the Storage Container will be created\n",
    "    - `storage_account_name` is the argument's name\n",
    "    - Its value is retrieved from the Terraform Expression `azurerm_storage_account.main.name`.\n",
    "      - The `azurerm_storage_account.main` Block is defined in `storage-account.tf`\n",
    "        - as `resource \"azurerm_storage_account\" \"main\"`.\n",
    "      - In this Block, there is an Argument with a name of `name` who's value is defined as `var.app_name`.\n",
    "      - This is the value that is assigned to `storage_account_name`.\n",
    "  - The third Argument sets the Storage Container's access type\n",
    "    - `container_access_type` is the argument's name\n",
    "    - Its value is set to `private` (which means public access to the Storage Container is disabled).\n",
    "    - For more information about the Azure Storage Container's acces type, see:\n",
    "      - https://registry.terraform.io/providers/hashicorp/azurerm/latest/docs/resources/storage_container\n",
    "      - https://learn.microsoft.com/en-us/azure/private-link/tutorial-private-endpoint-storage-portal?tabs=dynamic-ip"
   ]
  },
  {
   "cell_type": "code",
   "execution_count": 7,
   "metadata": {
    "vscode": {
     "languageId": "shellscript"
    }
   },
   "outputs": [
    {
     "name": "stdout",
     "output_type": "stream",
     "text": [
      "# Create a storage container in Azure (for BLoBs, i.e. arbitrary files)\n",
      "\n",
      "# Note!\n",
      "# - Resource \"azurerm_storage_account.main\" with a property \"name\" is defined in the file \"storage-account.tf\".\n",
      "# - The value for \"storage_account_name\" below is set using property \"name\" in resource \"azurerm_storage_account.main\":\n",
      "#   - storage_account_name  = azurerm_storage_account.main.name\n",
      "\n",
      "resource \"azurerm_storage_container\" \"main\" {\n",
      "  name                  = \"videos\"\n",
      "  storage_account_name  = azurerm_storage_account.main.name\n",
      "  container_access_type = \"private\"\n",
      "}"
     ]
    }
   ],
   "source": [
    "#!type storage-container.tf # use this on Windows\n",
    "!cat storage-container.tf"
   ]
  },
  {
   "cell_type": "markdown",
   "metadata": {},
   "source": [
    "## Initialize Terraform\n",
    "\n",
    "- We initialize the Terraform Project as before."
   ]
  },
  {
   "cell_type": "code",
   "execution_count": 8,
   "metadata": {
    "vscode": {
     "languageId": "shellscript"
    }
   },
   "outputs": [
    {
     "name": "stdout",
     "output_type": "stream",
     "text": [
      "\n",
      "\u001b[0m\u001b[1mInitializing the backend...\u001b[0m\n",
      "\n",
      "\u001b[0m\u001b[1mInitializing provider plugins...\u001b[0m\n",
      "- Finding hashicorp/azurerm versions matching \"3.90.0\"...\n",
      "- Installing hashicorp/azurerm v3.90.0...\n",
      "- Installed hashicorp/azurerm v3.90.0 (signed by HashiCorp)\n",
      "\n",
      "Terraform has created a lock file \u001b[1m.terraform.lock.hcl\u001b[0m to record the provider\n",
      "selections it made above. Include this file in your version control repository\n",
      "so that Terraform can guarantee to make the same selections by default when\n",
      "you run \"terraform init\" in the future.\u001b[0m\n",
      "\n",
      "\u001b[0m\u001b[1m\u001b[32mTerraform has been successfully initialized!\u001b[0m\u001b[32m\u001b[0m\n",
      "\u001b[0m\u001b[32m\n",
      "You may now begin working with Terraform. Try running \"terraform plan\" to see\n",
      "any changes that are required for your infrastructure. All Terraform commands\n",
      "should now work.\n",
      "\n",
      "If you ever set or change modules or backend configuration for Terraform,\n",
      "rerun this command to reinitialize your working directory. If you forget, other\n",
      "commands will detect it and remind you to do so if necessary.\u001b[0m\n"
     ]
    }
   ],
   "source": [
    "#rm -rf .terraform rm .terraform.lock.hcl terraform.tfstate terraform.tfstate.backup\n",
    "!terraform init"
   ]
  },
  {
   "cell_type": "markdown",
   "metadata": {},
   "source": [
    "## Terraform Apply\n",
    "\n",
    "- We apply the Terraform Project as before."
   ]
  },
  {
   "cell_type": "code",
   "execution_count": 9,
   "metadata": {
    "vscode": {
     "languageId": "shellscript"
    }
   },
   "outputs": [
    {
     "name": "stdout",
     "output_type": "stream",
     "text": [
      "\n",
      "Terraform used the selected providers to generate the following execution plan.\n",
      "Resource actions are indicated with the following symbols:\n",
      "  \u001b[32m+\u001b[0m create\u001b[0m\n",
      "\n",
      "Terraform will perform the following actions:\n",
      "\n",
      "\u001b[1m  # azurerm_container_registry.main\u001b[0m will be created\n",
      "\u001b[0m  \u001b[32m+\u001b[0m\u001b[0m resource \"azurerm_container_registry\" \"main\" {\n",
      "      \u001b[32m+\u001b[0m\u001b[0m admin_enabled                 = true\n",
      "      \u001b[32m+\u001b[0m\u001b[0m admin_password                = (sensitive value)\n",
      "      \u001b[32m+\u001b[0m\u001b[0m admin_username                = (known after apply)\n",
      "      \u001b[32m+\u001b[0m\u001b[0m encryption                    = (known after apply)\n",
      "      \u001b[32m+\u001b[0m\u001b[0m export_policy_enabled         = true\n",
      "      \u001b[32m+\u001b[0m\u001b[0m id                            = (known after apply)\n",
      "      \u001b[32m+\u001b[0m\u001b[0m location                      = \"westeurope\"\n",
      "      \u001b[32m+\u001b[0m\u001b[0m login_server                  = (known after apply)\n",
      "      \u001b[32m+\u001b[0m\u001b[0m name                          = \"tsfn14g00\"\n",
      "      \u001b[32m+\u001b[0m\u001b[0m network_rule_bypass_option    = \"AzureServices\"\n",
      "      \u001b[32m+\u001b[0m\u001b[0m network_rule_set              = (known after apply)\n",
      "      \u001b[32m+\u001b[0m\u001b[0m public_network_access_enabled = true\n",
      "      \u001b[32m+\u001b[0m\u001b[0m resource_group_name           = \"tsfn14g00\"\n",
      "      \u001b[32m+\u001b[0m\u001b[0m retention_policy              = (known after apply)\n",
      "      \u001b[32m+\u001b[0m\u001b[0m sku                           = \"Basic\"\n",
      "      \u001b[32m+\u001b[0m\u001b[0m trust_policy                  = (known after apply)\n",
      "      \u001b[32m+\u001b[0m\u001b[0m zone_redundancy_enabled       = false\n",
      "    }\n",
      "\n",
      "\u001b[1m  # azurerm_resource_group.main\u001b[0m will be created\n",
      "\u001b[0m  \u001b[32m+\u001b[0m\u001b[0m resource \"azurerm_resource_group\" \"main\" {\n",
      "      \u001b[32m+\u001b[0m\u001b[0m id       = (known after apply)\n",
      "      \u001b[32m+\u001b[0m\u001b[0m location = \"westeurope\"\n",
      "      \u001b[32m+\u001b[0m\u001b[0m name     = \"tsfn14g00\"\n",
      "    }\n",
      "\n",
      "\u001b[1m  # azurerm_storage_account.main\u001b[0m will be created\n",
      "\u001b[0m  \u001b[32m+\u001b[0m\u001b[0m resource \"azurerm_storage_account\" \"main\" {\n",
      "      \u001b[32m+\u001b[0m\u001b[0m access_tier                        = (known after apply)\n",
      "      \u001b[32m+\u001b[0m\u001b[0m account_kind                       = \"StorageV2\"\n",
      "      \u001b[32m+\u001b[0m\u001b[0m account_replication_type           = \"LRS\"\n",
      "      \u001b[32m+\u001b[0m\u001b[0m account_tier                       = \"Standard\"\n",
      "      \u001b[32m+\u001b[0m\u001b[0m allow_nested_items_to_be_public    = true\n",
      "      \u001b[32m+\u001b[0m\u001b[0m cross_tenant_replication_enabled   = true\n",
      "      \u001b[32m+\u001b[0m\u001b[0m default_to_oauth_authentication    = false\n",
      "      \u001b[32m+\u001b[0m\u001b[0m enable_https_traffic_only          = true\n",
      "      \u001b[32m+\u001b[0m\u001b[0m id                                 = (known after apply)\n",
      "      \u001b[32m+\u001b[0m\u001b[0m infrastructure_encryption_enabled  = false\n",
      "      \u001b[32m+\u001b[0m\u001b[0m is_hns_enabled                     = false\n",
      "      \u001b[32m+\u001b[0m\u001b[0m large_file_share_enabled           = (known after apply)\n",
      "      \u001b[32m+\u001b[0m\u001b[0m location                           = \"westeurope\"\n",
      "      \u001b[32m+\u001b[0m\u001b[0m min_tls_version                    = \"TLS1_2\"\n",
      "      \u001b[32m+\u001b[0m\u001b[0m name                               = \"tsfn14g00\"\n",
      "      \u001b[32m+\u001b[0m\u001b[0m nfsv3_enabled                      = false\n",
      "      \u001b[32m+\u001b[0m\u001b[0m primary_access_key                 = (sensitive value)\n",
      "      \u001b[32m+\u001b[0m\u001b[0m primary_blob_connection_string     = (sensitive value)\n",
      "      \u001b[32m+\u001b[0m\u001b[0m primary_blob_endpoint              = (known after apply)\n",
      "      \u001b[32m+\u001b[0m\u001b[0m primary_blob_host                  = (known after apply)\n",
      "      \u001b[32m+\u001b[0m\u001b[0m primary_blob_internet_endpoint     = (known after apply)\n",
      "      \u001b[32m+\u001b[0m\u001b[0m primary_blob_internet_host         = (known after apply)\n",
      "      \u001b[32m+\u001b[0m\u001b[0m primary_blob_microsoft_endpoint    = (known after apply)\n",
      "      \u001b[32m+\u001b[0m\u001b[0m primary_blob_microsoft_host        = (known after apply)\n",
      "      \u001b[32m+\u001b[0m\u001b[0m primary_connection_string          = (sensitive value)\n",
      "      \u001b[32m+\u001b[0m\u001b[0m primary_dfs_endpoint               = (known after apply)\n",
      "      \u001b[32m+\u001b[0m\u001b[0m primary_dfs_host                   = (known after apply)\n",
      "      \u001b[32m+\u001b[0m\u001b[0m primary_dfs_internet_endpoint      = (known after apply)\n",
      "      \u001b[32m+\u001b[0m\u001b[0m primary_dfs_internet_host          = (known after apply)\n",
      "      \u001b[32m+\u001b[0m\u001b[0m primary_dfs_microsoft_endpoint     = (known after apply)\n",
      "      \u001b[32m+\u001b[0m\u001b[0m primary_dfs_microsoft_host         = (known after apply)\n",
      "      \u001b[32m+\u001b[0m\u001b[0m primary_file_endpoint              = (known after apply)\n",
      "      \u001b[32m+\u001b[0m\u001b[0m primary_file_host                  = (known after apply)\n",
      "      \u001b[32m+\u001b[0m\u001b[0m primary_file_internet_endpoint     = (known after apply)\n",
      "      \u001b[32m+\u001b[0m\u001b[0m primary_file_internet_host         = (known after apply)\n",
      "      \u001b[32m+\u001b[0m\u001b[0m primary_file_microsoft_endpoint    = (known after apply)\n",
      "      \u001b[32m+\u001b[0m\u001b[0m primary_file_microsoft_host        = (known after apply)\n",
      "      \u001b[32m+\u001b[0m\u001b[0m primary_location                   = (known after apply)\n",
      "      \u001b[32m+\u001b[0m\u001b[0m primary_queue_endpoint             = (known after apply)\n",
      "      \u001b[32m+\u001b[0m\u001b[0m primary_queue_host                 = (known after apply)\n",
      "      \u001b[32m+\u001b[0m\u001b[0m primary_queue_microsoft_endpoint   = (known after apply)\n",
      "      \u001b[32m+\u001b[0m\u001b[0m primary_queue_microsoft_host       = (known after apply)\n",
      "      \u001b[32m+\u001b[0m\u001b[0m primary_table_endpoint             = (known after apply)\n",
      "      \u001b[32m+\u001b[0m\u001b[0m primary_table_host                 = (known after apply)\n",
      "      \u001b[32m+\u001b[0m\u001b[0m primary_table_microsoft_endpoint   = (known after apply)\n",
      "      \u001b[32m+\u001b[0m\u001b[0m primary_table_microsoft_host       = (known after apply)\n",
      "      \u001b[32m+\u001b[0m\u001b[0m primary_web_endpoint               = (known after apply)\n",
      "      \u001b[32m+\u001b[0m\u001b[0m primary_web_host                   = (known after apply)\n",
      "      \u001b[32m+\u001b[0m\u001b[0m primary_web_internet_endpoint      = (known after apply)\n",
      "      \u001b[32m+\u001b[0m\u001b[0m primary_web_internet_host          = (known after apply)\n",
      "      \u001b[32m+\u001b[0m\u001b[0m primary_web_microsoft_endpoint     = (known after apply)\n",
      "      \u001b[32m+\u001b[0m\u001b[0m primary_web_microsoft_host         = (known after apply)\n",
      "      \u001b[32m+\u001b[0m\u001b[0m public_network_access_enabled      = true\n",
      "      \u001b[32m+\u001b[0m\u001b[0m queue_encryption_key_type          = \"Service\"\n",
      "      \u001b[32m+\u001b[0m\u001b[0m resource_group_name                = \"tsfn14g00\"\n",
      "      \u001b[32m+\u001b[0m\u001b[0m secondary_access_key               = (sensitive value)\n",
      "      \u001b[32m+\u001b[0m\u001b[0m secondary_blob_connection_string   = (sensitive value)\n",
      "      \u001b[32m+\u001b[0m\u001b[0m secondary_blob_endpoint            = (known after apply)\n",
      "      \u001b[32m+\u001b[0m\u001b[0m secondary_blob_host                = (known after apply)\n",
      "      \u001b[32m+\u001b[0m\u001b[0m secondary_blob_internet_endpoint   = (known after apply)\n",
      "      \u001b[32m+\u001b[0m\u001b[0m secondary_blob_internet_host       = (known after apply)\n",
      "      \u001b[32m+\u001b[0m\u001b[0m secondary_blob_microsoft_endpoint  = (known after apply)\n",
      "      \u001b[32m+\u001b[0m\u001b[0m secondary_blob_microsoft_host      = (known after apply)\n",
      "      \u001b[32m+\u001b[0m\u001b[0m secondary_connection_string        = (sensitive value)\n",
      "      \u001b[32m+\u001b[0m\u001b[0m secondary_dfs_endpoint             = (known after apply)\n",
      "      \u001b[32m+\u001b[0m\u001b[0m secondary_dfs_host                 = (known after apply)\n",
      "      \u001b[32m+\u001b[0m\u001b[0m secondary_dfs_internet_endpoint    = (known after apply)\n",
      "      \u001b[32m+\u001b[0m\u001b[0m secondary_dfs_internet_host        = (known after apply)\n",
      "      \u001b[32m+\u001b[0m\u001b[0m secondary_dfs_microsoft_endpoint   = (known after apply)\n",
      "      \u001b[32m+\u001b[0m\u001b[0m secondary_dfs_microsoft_host       = (known after apply)\n",
      "      \u001b[32m+\u001b[0m\u001b[0m secondary_file_endpoint            = (known after apply)\n",
      "      \u001b[32m+\u001b[0m\u001b[0m secondary_file_host                = (known after apply)\n",
      "      \u001b[32m+\u001b[0m\u001b[0m secondary_file_internet_endpoint   = (known after apply)\n",
      "      \u001b[32m+\u001b[0m\u001b[0m secondary_file_internet_host       = (known after apply)\n",
      "      \u001b[32m+\u001b[0m\u001b[0m secondary_file_microsoft_endpoint  = (known after apply)\n",
      "      \u001b[32m+\u001b[0m\u001b[0m secondary_file_microsoft_host      = (known after apply)\n",
      "      \u001b[32m+\u001b[0m\u001b[0m secondary_location                 = (known after apply)\n",
      "      \u001b[32m+\u001b[0m\u001b[0m secondary_queue_endpoint           = (known after apply)\n",
      "      \u001b[32m+\u001b[0m\u001b[0m secondary_queue_host               = (known after apply)\n",
      "      \u001b[32m+\u001b[0m\u001b[0m secondary_queue_microsoft_endpoint = (known after apply)\n",
      "      \u001b[32m+\u001b[0m\u001b[0m secondary_queue_microsoft_host     = (known after apply)\n",
      "      \u001b[32m+\u001b[0m\u001b[0m secondary_table_endpoint           = (known after apply)\n",
      "      \u001b[32m+\u001b[0m\u001b[0m secondary_table_host               = (known after apply)\n",
      "      \u001b[32m+\u001b[0m\u001b[0m secondary_table_microsoft_endpoint = (known after apply)\n",
      "      \u001b[32m+\u001b[0m\u001b[0m secondary_table_microsoft_host     = (known after apply)\n",
      "      \u001b[32m+\u001b[0m\u001b[0m secondary_web_endpoint             = (known after apply)\n",
      "      \u001b[32m+\u001b[0m\u001b[0m secondary_web_host                 = (known after apply)\n",
      "      \u001b[32m+\u001b[0m\u001b[0m secondary_web_internet_endpoint    = (known after apply)\n",
      "      \u001b[32m+\u001b[0m\u001b[0m secondary_web_internet_host        = (known after apply)\n",
      "      \u001b[32m+\u001b[0m\u001b[0m secondary_web_microsoft_endpoint   = (known after apply)\n",
      "      \u001b[32m+\u001b[0m\u001b[0m secondary_web_microsoft_host       = (known after apply)\n",
      "      \u001b[32m+\u001b[0m\u001b[0m sftp_enabled                       = false\n",
      "      \u001b[32m+\u001b[0m\u001b[0m shared_access_key_enabled          = true\n",
      "      \u001b[32m+\u001b[0m\u001b[0m table_encryption_key_type          = \"Service\"\n",
      "    }\n",
      "\n",
      "\u001b[1m  # azurerm_storage_container.main\u001b[0m will be created\n",
      "\u001b[0m  \u001b[32m+\u001b[0m\u001b[0m resource \"azurerm_storage_container\" \"main\" {\n",
      "      \u001b[32m+\u001b[0m\u001b[0m container_access_type   = \"private\"\n",
      "      \u001b[32m+\u001b[0m\u001b[0m has_immutability_policy = (known after apply)\n",
      "      \u001b[32m+\u001b[0m\u001b[0m has_legal_hold          = (known after apply)\n",
      "      \u001b[32m+\u001b[0m\u001b[0m id                      = (known after apply)\n",
      "      \u001b[32m+\u001b[0m\u001b[0m metadata                = (known after apply)\n",
      "      \u001b[32m+\u001b[0m\u001b[0m name                    = \"videos\"\n",
      "      \u001b[32m+\u001b[0m\u001b[0m resource_manager_id     = (known after apply)\n",
      "      \u001b[32m+\u001b[0m\u001b[0m storage_account_name    = \"tsfn14g00\"\n",
      "    }\n",
      "\n",
      "\u001b[1mPlan:\u001b[0m 4 to add, 0 to change, 0 to destroy.\n",
      "\u001b[0m\u001b[0m\u001b[1mazurerm_resource_group.main: Creating...\u001b[0m\u001b[0m\n",
      "\u001b[0m\u001b[1mazurerm_resource_group.main: Creation complete after 1s [id=/subscriptions/dc438970-aa32-41b3-8fe2-f587309a0208/resourceGroups/tsfn14g00]\u001b[0m\n",
      "\u001b[0m\u001b[1mazurerm_container_registry.main: Creating...\u001b[0m\u001b[0m\n",
      "\u001b[0m\u001b[1mazurerm_storage_account.main: Creating...\u001b[0m\u001b[0m\n",
      "\u001b[0m\u001b[1mazurerm_container_registry.main: Still creating... [10s elapsed]\u001b[0m\u001b[0m\n",
      "\u001b[0m\u001b[1mazurerm_storage_account.main: Still creating... [10s elapsed]\u001b[0m\u001b[0m\n",
      "\u001b[0m\u001b[1mazurerm_container_registry.main: Still creating... [20s elapsed]\u001b[0m\u001b[0m\n",
      "\u001b[0m\u001b[1mazurerm_storage_account.main: Still creating... [20s elapsed]\u001b[0m\u001b[0m\n",
      "\u001b[0m\u001b[1mazurerm_container_registry.main: Creation complete after 21s [id=/subscriptions/dc438970-aa32-41b3-8fe2-f587309a0208/resourceGroups/tsfn14g00/providers/Microsoft.ContainerRegistry/registries/tsfn14g00]\u001b[0m\n",
      "\u001b[0m\u001b[1mazurerm_storage_account.main: Creation complete after 22s [id=/subscriptions/dc438970-aa32-41b3-8fe2-f587309a0208/resourceGroups/tsfn14g00/providers/Microsoft.Storage/storageAccounts/tsfn14g00]\u001b[0m\n",
      "\u001b[0m\u001b[1mazurerm_storage_container.main: Creating...\u001b[0m\u001b[0m\n",
      "\u001b[0m\u001b[1mazurerm_storage_container.main: Creation complete after 0s [id=https://tsfn14g00.blob.core.windows.net/videos]\u001b[0m\n",
      "\u001b[0m\u001b[1m\u001b[32m\n",
      "Apply complete! Resources: 4 added, 0 changed, 0 destroyed.\n",
      "\u001b[0m"
     ]
    }
   ],
   "source": [
    "!terraform apply -auto-approve"
   ]
  },
  {
   "cell_type": "markdown",
   "metadata": {},
   "source": [
    "## List Azure Resource Groups\n",
    "\n",
    "- The Azure CLI command `az group list -o table` lists all Resource Groups in Azure.\n",
    "- We see that the Resource Group defined in the Terraform project has been created."
   ]
  },
  {
   "cell_type": "code",
   "execution_count": 10,
   "metadata": {
    "vscode": {
     "languageId": "shellscript"
    }
   },
   "outputs": [
    {
     "name": "stdout",
     "output_type": "stream",
     "text": [
      "Name       Location    Status\n",
      "---------  ----------  ---------\n",
      "tsfn14g00  westeurope  Succeeded\n"
     ]
    }
   ],
   "source": [
    "!az group list -o table"
   ]
  },
  {
   "cell_type": "markdown",
   "metadata": {},
   "source": [
    "## List Resources in Resource Group `tsfn14g00`\n",
    "\n",
    "- The Azure CLI command `az resource list -n tsfn14g00 -o table` lists resources in Resource Group `tsfn14g00`.\n",
    "- We see that the Resource Group contains the Storage Account and the Container Registry."
   ]
  },
  {
   "cell_type": "code",
   "execution_count": 11,
   "metadata": {
    "vscode": {
     "languageId": "shellscript"
    }
   },
   "outputs": [
    {
     "name": "stdout",
     "output_type": "stream",
     "text": [
      "Name       ResourceGroup    Location    Type                                    Status\n",
      "---------  ---------------  ----------  --------------------------------------  --------\n",
      "tsfn14g00  tsfn14g00        westeurope  Microsoft.ContainerRegistry/registries\n",
      "tsfn14g00  tsfn14g00        westeurope  Microsoft.Storage/storageAccounts\n"
     ]
    }
   ],
   "source": [
    "!az resource list -n tsfn14g00 -o table"
   ]
  },
  {
   "cell_type": "markdown",
   "metadata": {},
   "source": [
    "## List Azure Storage Accounts\n",
    "\n",
    "- The Azure CLI command `az storage account list -o table` lists all Storage Accounts in Azure.\n",
    "- We see that the Storage Account defined in the Terraform project has been cerated."
   ]
  },
  {
   "cell_type": "code",
   "execution_count": 12,
   "metadata": {
    "vscode": {
     "languageId": "shellscript"
    }
   },
   "outputs": [
    {
     "name": "stdout",
     "output_type": "stream",
     "text": [
      "AccessTier    AllowBlobPublicAccess    AllowCrossTenantReplication    AllowSharedKeyAccess    CreationTime                      DefaultToOAuthAuthentication    EnableHttpsTrafficOnly    EnableNfsV3    IsHnsEnabled    IsSftpEnabled    Kind       Location    MinimumTlsVersion    Name       PrimaryLocation    ProvisioningState    PublicNetworkAccess    ResourceGroup    StatusOfPrimary\n",
      "------------  -----------------------  -----------------------------  ----------------------  --------------------------------  ------------------------------  ------------------------  -------------  --------------  ---------------  ---------  ----------  -------------------  ---------  -----------------  -------------------  ---------------------  ---------------  -----------------\n",
      "Hot           True                     True                           True                    2024-02-10T17:24:12.042778+00:00  False                           True                      False          False           False            StorageV2  westeurope  TLS1_2               tsfn14g00  westeurope         Succeeded            Enabled                tsfn14g00        available\n"
     ]
    }
   ],
   "source": [
    "#!az storage account list --resource-group $RESOURCE_GROUP -o table\n",
    "!az storage account list -o table"
   ]
  },
  {
   "cell_type": "markdown",
   "metadata": {},
   "source": [
    "## List Storage Account Access Keys for Storage Account `tsfn14g00`\n",
    "\n",
    "- The Azure CLI command `az storage account keys list --account-name tsfn14g00 -o table` will\n",
    "  - List Access Keys for the Storage Account named `tsfn14g00`.\n",
    "- It shows the two keys `key1` and `key2` of which any can be used together with the Storage Account `name` to acccess the Storage Account.\n",
    "  - **This is the KEY (key1 or key2) you would use together with the storage account NAME to upload/download/delete files.**"
   ]
  },
  {
   "cell_type": "code",
   "execution_count": 13,
   "metadata": {
    "vscode": {
     "languageId": "shellscript"
    }
   },
   "outputs": [
    {
     "name": "stdout",
     "output_type": "stream",
     "text": [
      "CreationTime                      KeyName    Permissions    Value\n",
      "--------------------------------  ---------  -------------  ----------------------------------------------------------------------------------------\n",
      "2024-02-10T17:24:12.198994+00:00  key1       FULL           cSCfacjAWkSdgweG0pNOvj3G/xCFa9IDY+2Vs1VIYTOBD+KMImk0f0F7GD7J9JXZWUXMkaGL1C1P+AStExxj5A==\n",
      "2024-02-10T17:24:12.198994+00:00  key2       FULL           /qZtPfHBQt5WUQG5VccLw9gpnc5GatYMqa0qhJXBhOn77219Qp/5o35caQA7Gm798a1slqtzZYJ1+ASt+uwT5w==\n"
     ]
    }
   ],
   "source": [
    "#!az storage account keys list --account-name tsfn14g00 --resource-group tsfn14g00 -o table\n",
    "!az storage account keys list --account-name tsfn14g00 -o table\n",
    "\n",
    "# Let's store the STORAGE ACCOUNT NAME and STORAGE ACCES KEY in Python variables so we can use them later in this notebook\n",
    "STORAGE_ACCOUNT_NAME=!az storage account list --query [0].name -o tsv\n",
    "STORAGE_ACCOUNT_NAME=STORAGE_ACCOUNT_NAME[0]\n",
    "STORAGE_ACCESS_KEY=!az storage account keys list --account-name tsfn14g00 --resource-group tsfn14g00 --query [0].value -o tsv\n",
    "STORAGE_ACCESS_KEY=STORAGE_ACCESS_KEY[0]"
   ]
  },
  {
   "cell_type": "markdown",
   "metadata": {},
   "source": [
    "## List Containers in Storage Account `tsfn14g00`\n",
    "\n",
    "- The command `az storage container list --account-name $STORAGE_ACCOUNT_NAME --account-key $STORAGE_ACCESS_KEY -o table`\n",
    "  - Lists the Storage Containers in Storage Account `$STORAGE_ACCOUNT_NAME` (using the Key `$STORAGE_ACCESS_KEY`)."
   ]
  },
  {
   "cell_type": "code",
   "execution_count": 14,
   "metadata": {
    "vscode": {
     "languageId": "shellscript"
    }
   },
   "outputs": [
    {
     "name": "stdout",
     "output_type": "stream",
     "text": [
      "Name    Lease Status    Last Modified\n",
      "------  --------------  -------------------------\n",
      "videos                  2024-02-10T17:24:33+00:00\n"
     ]
    }
   ],
   "source": [
    "!az storage container list --account-name $STORAGE_ACCOUNT_NAME --account-key $STORAGE_ACCESS_KEY -o table"
   ]
  },
  {
   "cell_type": "markdown",
   "metadata": {},
   "source": [
    "## Create Container `videos2` in Storage Container `tsfn14g00`\n",
    "\n",
    "- The command:\n",
    "\n",
    "  ```bash\n",
    "  az storage container create --name videos2 --account-name $STORAGE_ACCOUNT_NAME --account-key $STORAGE_ACCESS_KEY -o table\n",
    "  ```\n",
    "  - Creates a new Storage COntainer named `videos2` in Storage Account `$STORAGE_ACCOUNT_NAME` (using KEY `$STORAGE_ACCESS_KEY`)."
   ]
  },
  {
   "cell_type": "code",
   "execution_count": 15,
   "metadata": {
    "vscode": {
     "languageId": "shellscript"
    }
   },
   "outputs": [
    {
     "name": "stdout",
     "output_type": "stream",
     "text": [
      "Created\n",
      "---------\n",
      "True\n"
     ]
    }
   ],
   "source": [
    "!az storage container create --name videos2 --account-name $STORAGE_ACCOUNT_NAME --account-key $STORAGE_ACCESS_KEY -o table"
   ]
  },
  {
   "cell_type": "markdown",
   "metadata": {},
   "source": [
    "## List Containers in Storage Container `tsfn14g00`\n",
    "\n",
    "- Now when we list the containes in Storage Account `tsfn14g00` again, we see there are two Storage Containers."
   ]
  },
  {
   "cell_type": "code",
   "execution_count": 16,
   "metadata": {
    "vscode": {
     "languageId": "shellscript"
    }
   },
   "outputs": [
    {
     "name": "stdout",
     "output_type": "stream",
     "text": [
      "Name     Lease Status    Last Modified\n",
      "-------  --------------  -------------------------\n",
      "videos                   2024-02-10T17:24:33+00:00\n",
      "videos2                  2024-02-10T17:25:16+00:00\n"
     ]
    }
   ],
   "source": [
    "!az storage container list --account-name $STORAGE_ACCOUNT_NAME --account-key $STORAGE_ACCESS_KEY -o table"
   ]
  },
  {
   "cell_type": "markdown",
   "metadata": {},
   "source": [
    "## Delete Container `videos2` in Storage Container `tsfn14g00`\n",
    "\n",
    "- The command:\n",
    "\n",
    "  ```bash\n",
    "  az storage container delete --name videos2 --account-name $STORAGE_ACCOUNT_NAME --account-key $STORAGE_ACCESS_KEY -o table\n",
    "  ```\n",
    "  - Deletes the Storage COntainer named `videos2` from Storage Account `$STORAGE_ACCOUNT_NAME` (using KEY `$STORAGE_ACCESS_KEY`)."
   ]
  },
  {
   "cell_type": "code",
   "execution_count": 17,
   "metadata": {
    "vscode": {
     "languageId": "shellscript"
    }
   },
   "outputs": [
    {
     "name": "stdout",
     "output_type": "stream",
     "text": [
      "Deleted\n",
      "---------\n",
      "True\n"
     ]
    }
   ],
   "source": [
    "!az storage container delete --name videos2 --account-name $STORAGE_ACCOUNT_NAME --account-key $STORAGE_ACCESS_KEY -o table"
   ]
  },
  {
   "cell_type": "markdown",
   "metadata": {},
   "source": [
    "## List Containers in Storage Container `tsfn14g00`\n",
    "\n",
    "- Now when we list the containes in Storage Account `tsfn14g00` again, we see the Storage Container has been deleted."
   ]
  },
  {
   "cell_type": "code",
   "execution_count": 18,
   "metadata": {
    "vscode": {
     "languageId": "shellscript"
    }
   },
   "outputs": [
    {
     "name": "stdout",
     "output_type": "stream",
     "text": [
      "Name    Lease Status    Last Modified\n",
      "------  --------------  -------------------------\n",
      "videos                  2024-02-10T17:24:33+00:00\n"
     ]
    }
   ],
   "source": [
    "!az storage container list --account-name $STORAGE_ACCOUNT_NAME --account-key $STORAGE_ACCESS_KEY -o table"
   ]
  },
  {
   "cell_type": "markdown",
   "metadata": {},
   "source": [
    "## List Blobs (Files) in Container `videos` in Storage Container `tsfn14g00`\n",
    "\n",
    "- The command:\n",
    "\n",
    "  ```bash\n",
    "  az storage blob list --container-name videos --account-name $STORAGE_ACCOUNT_NAME --account-key $STORAGE_ACCESS_KEY\n",
    "  ```\n",
    "  - Lists files stored in the Storage Container named `videos` in Storage Account `$STORAGE_ACCOUNT_NAME` (using KEY `$STORAGE_ACCESS_KEY`).\n",
    "  - Currently the lsit is empty, since no files are stored in Storage Container `videos`."
   ]
  },
  {
   "cell_type": "code",
   "execution_count": 19,
   "metadata": {
    "vscode": {
     "languageId": "shellscript"
    }
   },
   "outputs": [
    {
     "name": "stdout",
     "output_type": "stream",
     "text": [
      "\n"
     ]
    }
   ],
   "source": [
    "!az storage blob list --container-name videos --account-name $STORAGE_ACCOUNT_NAME --account-key $STORAGE_ACCESS_KEY -o table "
   ]
  },
  {
   "cell_type": "markdown",
   "metadata": {},
   "source": [
    "## List Local Video File\n",
    "\n",
    "- There is a video file stored in the host machine's file system: `video-storage/videos/SampleVideo_1280x720_1mb.mp4`."
   ]
  },
  {
   "cell_type": "code",
   "execution_count": 20,
   "metadata": {
    "vscode": {
     "languageId": "shellscript"
    }
   },
   "outputs": [
    {
     "name": "stdout",
     "output_type": "stream",
     "text": [
      "SampleVideo_1280x720_1mb.mp4\n"
     ]
    }
   ],
   "source": [
    "#!dir video-storage/videos # use this on Widnows\n",
    "!ls video-storage/videos"
   ]
  },
  {
   "cell_type": "markdown",
   "metadata": {},
   "source": [
    "## Upload a file to Container `videos` in Storage Container `tsfn14g00`\n",
    "\n",
    "- The command below:\n",
    "  - Uploads the local file `video-storage/videos/SampleVideo_1280x720_1mb.mp4` (`--file`).\n",
    "  - To the Storage Container `videos` (`--container-name`).\n",
    "  - In Storage Account `$STORAGE_ACCOUNT_NAME` (`--account-name`).\n",
    "  - using Key `$STORAGE_ACCESS_KEY` (`--account-key`)."
   ]
  },
  {
   "cell_type": "code",
   "execution_count": 21,
   "metadata": {
    "vscode": {
     "languageId": "shellscript"
    }
   },
   "outputs": [
    {
     "name": "stdout",
     "output_type": "stream",
     "text": [
      "Finished[#############################################################]  100.0000%\n",
      "Client_request_id                     Content_md5               Date                       LastModified               Request_id                            Request_server_encrypted    Version\n",
      "------------------------------------  ------------------------  -------------------------  -------------------------  ------------------------------------  --------------------------  ----------\n",
      "69f2313c-c839-11ee-a756-256937b67ec7  1Vvd+NYpEIee2fYFUiFJqA==  2024-02-10T17:25:42+00:00  2024-02-10T17:25:42+00:00  eac52aa8-401e-0043-3046-5c9b96000000  True                        2022-11-02\n"
     ]
    }
   ],
   "source": [
    "!az storage blob upload --container-name videos --name SampleVideo_1280x720_1mb.mp4 --file video-storage/videos/SampleVideo_1280x720_1mb.mp4 --account-name $STORAGE_ACCOUNT_NAME --account-key $STORAGE_ACCESS_KEY -o table"
   ]
  },
  {
   "cell_type": "markdown",
   "metadata": {},
   "source": [
    "## List Blobs (Files) in Container `videos` in Storage Container `tsfn14g00`\n",
    "\n",
    "- Now if we list the files in Storage Container `videos` again, we see the video file has been uploaded."
   ]
  },
  {
   "cell_type": "code",
   "execution_count": 22,
   "metadata": {
    "vscode": {
     "languageId": "shellscript"
    }
   },
   "outputs": [
    {
     "name": "stdout",
     "output_type": "stream",
     "text": [
      "Name                          Blob Type    Blob Tier    Length    Content Type    Last Modified              Snapshot\n",
      "----------------------------  -----------  -----------  --------  --------------  -------------------------  ----------\n",
      "SampleVideo_1280x720_1mb.mp4  BlockBlob    Hot          1055736   video/mp4       2024-02-10T17:25:42+00:00\n"
     ]
    }
   ],
   "source": [
    "!az storage blob list --container-name videos --account-name $STORAGE_ACCOUNT_NAME --account-key $STORAGE_ACCESS_KEY -o table "
   ]
  },
  {
   "cell_type": "markdown",
   "metadata": {},
   "source": [
    "## Delete Local Video File\n",
    "\n",
    "- Let's delete the video fil from the host machine."
   ]
  },
  {
   "cell_type": "code",
   "execution_count": 23,
   "metadata": {
    "vscode": {
     "languageId": "shellscript"
    }
   },
   "outputs": [],
   "source": [
    "#!del video-storage/videos/SampleVideo_1280x720_1mb.mp4 # use this on Windows\n",
    "#!dir video-storage/videos # use this on Windows\n",
    "\n",
    "!rm video-storage/videos/SampleVideo_1280x720_1mb.mp4\n",
    "!ls video-storage/videos"
   ]
  },
  {
   "cell_type": "markdown",
   "metadata": {},
   "source": [
    "## Download a file from Container `videos` in Storage Account `tsfn14g00`\n",
    "\n",
    "- The command below:\n",
    "  - Dowloads the file `SampleVideo_1280x720_1mb.mp4` (`--name`).\n",
    "  - From Storage Container `videos` (`--container-name`).\n",
    "  - In Storage Account `$STORAGE_ACCOUNT_NAME` (`--account-name`).\n",
    "  - To the local file `video-storage/videos/SampleVideo_1280x720_1mb.mp4` (`--file`).\n",
    "  - using Key `$STORAGE_ACCESS_KEY` (`--account-key`)."
   ]
  },
  {
   "cell_type": "code",
   "execution_count": 24,
   "metadata": {
    "vscode": {
     "languageId": "shellscript"
    }
   },
   "outputs": [
    {
     "name": "stdout",
     "output_type": "stream",
     "text": [
      "Finished[#############################################################]  100.0000%\n",
      "Name                          Blob Type    Blob Tier    Length    Content Type    Last Modified              Snapshot\n",
      "----------------------------  -----------  -----------  --------  --------------  -------------------------  ----------\n",
      "SampleVideo_1280x720_1mb.mp4  BlockBlob                 1055736   video/mp4       2024-02-10T17:25:42+00:00\n"
     ]
    }
   ],
   "source": [
    "!az storage blob download --container-name videos --name SampleVideo_1280x720_1mb.mp4 --file video-storage/videos/SampleVideo_1280x720_1mb.mp4 --account-name $STORAGE_ACCOUNT_NAME --account-key $STORAGE_ACCESS_KEY -o table"
   ]
  },
  {
   "cell_type": "markdown",
   "metadata": {},
   "source": [
    "## List Local Video File\n",
    "\n",
    "- We see that the file has been downlaoded to the host machine."
   ]
  },
  {
   "cell_type": "code",
   "execution_count": 25,
   "metadata": {
    "vscode": {
     "languageId": "shellscript"
    }
   },
   "outputs": [
    {
     "name": "stdout",
     "output_type": "stream",
     "text": [
      "SampleVideo_1280x720_1mb.mp4\n"
     ]
    }
   ],
   "source": [
    "#!dir video-storage/videos # use this on Windows\n",
    "!ls video-storage/videos"
   ]
  },
  {
   "cell_type": "markdown",
   "metadata": {},
   "source": [
    "## Delete a file from Container `videos` in Storage Container `tsfn14g00`\n",
    "\n",
    "- The command below:\n",
    "  - Deletes the file `SampleVideo_1280x720_1mb.mp4` (`--name`).\n",
    "  - From Storage Container `videos` (`--container-name`).\n",
    "  - In Storage Account `$STORAGE_ACCOUNT_NAME` (`--account-name`).\n",
    "  - using Key `$STORAGE_ACCESS_KEY` (`--account-key`)."
   ]
  },
  {
   "cell_type": "code",
   "execution_count": 26,
   "metadata": {
    "vscode": {
     "languageId": "shellscript"
    }
   },
   "outputs": [],
   "source": [
    "!az storage blob delete --container-name videos --name SampleVideo_1280x720_1mb.mp4 --account-name $STORAGE_ACCOUNT_NAME --account-key $STORAGE_ACCESS_KEY -o table"
   ]
  },
  {
   "cell_type": "markdown",
   "metadata": {},
   "source": [
    "## List Blobs (Files) in Container `videos` in Storage Container `tsfn14g00`\n",
    "\n",
    "- Now if we list the files in Storage Container `videos` again, we see the video file has been deleted."
   ]
  },
  {
   "cell_type": "code",
   "execution_count": 27,
   "metadata": {
    "vscode": {
     "languageId": "shellscript"
    }
   },
   "outputs": [
    {
     "name": "stdout",
     "output_type": "stream",
     "text": [
      "\n"
     ]
    }
   ],
   "source": [
    "!az storage blob list --container-name videos --account-name $STORAGE_ACCOUNT_NAME --account-key $STORAGE_ACCESS_KEY -o table "
   ]
  },
  {
   "cell_type": "markdown",
   "metadata": {},
   "source": [
    "## Upload file again to Container `videos` in Storage Container `tsfn14g00`\n",
    "\n",
    "- Let's upload the video file to the Storage Container again. "
   ]
  },
  {
   "cell_type": "code",
   "execution_count": 28,
   "metadata": {
    "vscode": {
     "languageId": "shellscript"
    }
   },
   "outputs": [
    {
     "name": "stdout",
     "output_type": "stream",
     "text": [
      "Finished[#############################################################]  100.0000%\n",
      "Client_request_id                     Content_md5               Date                       LastModified               Request_id                            Request_server_encrypted    Version\n",
      "------------------------------------  ------------------------  -------------------------  -------------------------  ------------------------------------  --------------------------  ----------\n",
      "7b25f268-c839-11ee-a756-256937b67ec7  1Vvd+NYpEIee2fYFUiFJqA==  2024-02-10T17:26:11+00:00  2024-02-10T17:26:11+00:00  b545a92e-d01e-007e-4346-5ced8d000000  True                        2022-11-02\n",
      "Name                          Blob Type    Blob Tier    Length    Content Type    Last Modified              Snapshot\n",
      "----------------------------  -----------  -----------  --------  --------------  -------------------------  ----------\n",
      "SampleVideo_1280x720_1mb.mp4  BlockBlob    Hot          1055736   video/mp4       2024-02-10T17:26:11+00:00\n"
     ]
    }
   ],
   "source": [
    "!az storage blob upload --container-name videos --name SampleVideo_1280x720_1mb.mp4 --file video-storage/videos/SampleVideo_1280x720_1mb.mp4 --account-name $STORAGE_ACCOUNT_NAME --account-key $STORAGE_ACCESS_KEY -o table\n",
    "!az storage blob list --container-name videos --account-name $STORAGE_ACCOUNT_NAME --account-key $STORAGE_ACCESS_KEY -o table "
   ]
  },
  {
   "cell_type": "markdown",
   "metadata": {},
   "source": [
    "## List Azure Container Registries\n",
    "\n",
    "- The Azure CLI command `az acr list -o table` lists all Container Registries in Azure.\n",
    "- We see that the Container Registry defined in the Terraform project has been created."
   ]
  },
  {
   "cell_type": "code",
   "execution_count": 29,
   "metadata": {
    "vscode": {
     "languageId": "shellscript"
    }
   },
   "outputs": [
    {
     "name": "stdout",
     "output_type": "stream",
     "text": [
      "NAME       RESOURCE GROUP    LOCATION    SKU    LOGIN SERVER          CREATION DATE         ADMIN ENABLED\n",
      "---------  ----------------  ----------  -----  --------------------  --------------------  ---------------\n",
      "tsfn14g00  tsfn14g00         westeurope  Basic  tsfn14g00.azurecr.io  2024-02-10T17:24:12Z  True\n"
     ]
    }
   ],
   "source": [
    "!az acr list -o table"
   ]
  },
  {
   "cell_type": "markdown",
   "metadata": {},
   "source": [
    "## List Repositories in Container Registry `tsfn14g00 `\n",
    "\n",
    "- The Azure CLI command `az acr repository list -n tsfn14g00 --top 10 -o table` lists Repositories in a Azure Container Registry `tsfn14g00`.\n",
    "  - The `-n` option is manditory and specifies the `NAME` of the Container Registry.\n",
    "  - The `--top 10` limits the list to the first 10 Repositories (remove to see all Repositories).\n",
    "- We see that Container Registry `tsfn14g00` doesn't contain any Repositories."
   ]
  },
  {
   "cell_type": "code",
   "execution_count": 30,
   "metadata": {
    "vscode": {
     "languageId": "shellscript"
    }
   },
   "outputs": [
    {
     "name": "stdout",
     "output_type": "stream",
     "text": [
      "\n"
     ]
    }
   ],
   "source": [
    "!az acr repository list -n tsfn14g00 --top 10 -o table"
   ]
  },
  {
   "cell_type": "markdown",
   "metadata": {},
   "source": [
    "## Show Information about Azure Container Registry `tsfn14g00`\n",
    "\n",
    "- The Azure CLI command `az acr show -n tsfn14g00 -o table` shows information about Container Registry `tsfn14g00`.\n",
    "- It shows the Container Registry's `LOGIN SERVER` which is the URL to your Container Registry on Azure.\n",
    "  - **This is the URL you would use to upload Docker Images to the Azure Container Registry.**"
   ]
  },
  {
   "cell_type": "code",
   "execution_count": 31,
   "metadata": {
    "vscode": {
     "languageId": "shellscript"
    }
   },
   "outputs": [
    {
     "name": "stdout",
     "output_type": "stream",
     "text": [
      "NAME       RESOURCE GROUP    LOCATION    SKU    LOGIN SERVER          CREATION DATE         ADMIN ENABLED\n",
      "---------  ----------------  ----------  -----  --------------------  --------------------  ---------------\n",
      "tsfn14g00  tsfn14g00         westeurope  Basic  tsfn14g00.azurecr.io  2024-02-10T17:24:12Z  True\n"
     ]
    }
   ],
   "source": [
    "!az acr show -n tsfn14g00 -o table\n",
    "\n",
    "# Let's store the LOGIN SERVER in a Python variable so we can use it later in this notebook\n",
    "CONTAINER_REGISTRY_LOGIN_SERVER=!az acr show -n tsfn14g00 --query loginServer -o tsv\n",
    "CONTAINER_REGISTRY_LOGIN_SERVER=CONTAINER_REGISTRY_LOGIN_SERVER[0]"
   ]
  },
  {
   "cell_type": "markdown",
   "metadata": {},
   "source": [
    "## Show Credentials for Azure Container Registry `tsfn14g00`\n",
    "\n",
    "- The Azure CLI command `az acr credential show -n tsfn14g00 -o table` shows credentials about Container Registry `tsfn14g00`.\n",
    "- It shows the Container Registry's `USERNAME` and  `PASSWORD` to use to authenticate with your Azure Container Registry.\n",
    "  - **This is the USERNAME and PASSWORD you would use to login to Docker to upload Images to the Azure Container Registry.**"
   ]
  },
  {
   "cell_type": "code",
   "execution_count": 32,
   "metadata": {
    "vscode": {
     "languageId": "shellscript"
    }
   },
   "outputs": [
    {
     "name": "stdout",
     "output_type": "stream",
     "text": [
      "USERNAME    PASSWORD                                              PASSWORD2\n",
      "----------  ----------------------------------------------------  ----------------------------------------------------\n",
      "tsfn14g00   A3Ytz36bV0+JRpX5Lss38bbQTqmIEuk11+AYAhbHl6+ACRCsrNDp  oNc2EjP/cCScm6ZejaawKqld70VEiKg4DUTyxU2aO3+ACRD45Uyg\n"
     ]
    }
   ],
   "source": [
    "!az acr credential show -n tsfn14g00 -o table\n",
    "\n",
    "# Let's store the USERNAME and PASSWORD in Python variables so we can use them later in this notebook\n",
    "CONTAINER_REGISTRY_USERNAME=!az acr credential show -n tsfn14g00 --query username -o tsv\n",
    "CONTAINER_REGISTRY_USERNAME=CONTAINER_REGISTRY_USERNAME[0]\n",
    "CONTAINER_REGISTRY_PASSWORD=!az acr credential show -n tsfn14g00 --query passwords[0].value -o tsv\n",
    "CONTAINER_REGISTRY_PASSWORD=CONTAINER_REGISTRY_PASSWORD[0]"
   ]
  },
  {
   "cell_type": "markdown",
   "metadata": {},
   "source": [
    "## Login to Azure Container Registry via Docker\n",
    "\n",
    "- Replace the variables below with your `LOGIN_SERVER`, `USERNAME` and `PASSWORD`."
   ]
  },
  {
   "cell_type": "code",
   "execution_count": 34,
   "metadata": {
    "vscode": {
     "languageId": "shellscript"
    }
   },
   "outputs": [
    {
     "name": "stdout",
     "output_type": "stream",
     "text": [
      "WARNING! Using --password via the CLI is insecure. Use --password-stdin.\n",
      "Login Succeeded\n"
     ]
    }
   ],
   "source": [
    "!docker login $CONTAINER_REGISTRY_LOGIN_SERVER -u $CONTAINER_REGISTRY_USERNAME -p $CONTAINER_REGISTRY_PASSWORD\n",
    "\n",
    "# In Ubuntu with environment variables CONTAINER_REGISTRY_LOGIN_SERVER, CONTAINER_REGISTRY_USERNAME and CONTAINER_REGISTRY_USERNAME\n",
    "#!echo $CONTAINER_REGISTRY_PASSWORD | docker login $CONTAINER_REGISTRY_LOGIN_SERVER -u $CONTAINER_REGISTRY_USERNAME --password-stdin  > /dev/null 2>&1"
   ]
  },
  {
   "cell_type": "markdown",
   "metadata": {},
   "source": [
    "## Let's view the code in `video-storage/src/index.js`\n",
    "\n",
    "- The file contains code for creating a simple Node.js application, including the steps:\n",
    "  1. Require the NPM package \"express\".\n",
    "  2. Require the classes BlobServiceClient and StorageSharedKeyCredential from NPM packge \"@azure/storage-blob\".\n",
    "  3. Read the environment variable PORT to use as the Express web server's listen port.\n",
    "  4. Read the environment variable STORAGE_ACCOUNT_NAME to login to the Azure Storage Account.\n",
    "  5. Read the environment variable STORAGE_ACCESS_KEY to login to the Azure Storage Account.\n",
    "  6. Create a function createBlobServer() that creates a BlobServiceClient use to comminucate with the Storage Account.\n",
    "  7. Create an instance of an Express web server.\n",
    "  8. Register a GET route for the \"/video\" path.\n",
    "     1. Get the \"path\" from the request's query string (which contains the name of the file in Azure).\n",
    "     2. Create a BlobService instance (which also logs in to the Storage Account).\n",
    "     3. Create a ContainerClient for the \"videos\" Storage Container.\n",
    "     4. Create a BlobClient for the video file in the Storage Container.\n",
    "     5. Get the file properties via the BlobClient.\n",
    "     6. Write the HTTP response header including information about the file size in bytes and content type (video/mp4).\n",
    "     7. Stream the file contents from the Storage Container to the HTTP GET response.\n",
    "  9. Start the Express web server listening on the port stored in environment variable PORT.\n",
    "- As we see, this code produces a simple microservice that streams a video file from the Azure Storage Container to an HTTP GET response."
   ]
  },
  {
   "cell_type": "code",
   "execution_count": 35,
   "metadata": {
    "vscode": {
     "languageId": "shellscript"
    }
   },
   "outputs": [
    {
     "name": "stdout",
     "output_type": "stream",
     "text": [
      "const express = require(\"express\");\n",
      "const { BlobServiceClient, StorageSharedKeyCredential } = require(\"@azure/storage-blob\");\n",
      "\n",
      "//\n",
      "// Throws an error if the any required environment variables are missing.\n",
      "//\n",
      "\n",
      "if (!process.env.PORT) {\n",
      "    throw new Error(\"Please specify the port number for the HTTP server with the environment variable PORT.\");\n",
      "}\n",
      "\n",
      "if (!process.env.STORAGE_ACCOUNT_NAME) {\n",
      "    throw new Error(\"Please specify the name of an Azure storage account in environment variable STORAGE_ACCOUNT_NAME.\");\n",
      "}\n",
      "\n",
      "if (!process.env.STORAGE_ACCESS_KEY) {\n",
      "    throw new Error(\"Please specify the access key to an Azure storage account in environment variable STORAGE_ACCESS_KEY.\");\n",
      "}\n",
      "\n",
      "//\n",
      "// Extracts environment variables to globals for convenience.\n",
      "//\n",
      "\n",
      "const PORT = process.env.PORT;\n",
      "const STORAGE_ACCOUNT_NAME = process.env.STORAGE_ACCOUNT_NAME;\n",
      "const STORAGE_ACCESS_KEY = process.env.STORAGE_ACCESS_KEY;\n",
      "\n",
      "console.log(`Serving videos from Azure storage account ${STORAGE_ACCOUNT_NAME}.`);\n",
      "\n",
      "//\n",
      "// Create the Blob service API to communicate with Azure storage.\n",
      "//\n",
      "function createBlobService() {\n",
      "    const sharedKeyCredential = new StorageSharedKeyCredential(STORAGE_ACCOUNT_NAME, STORAGE_ACCESS_KEY);\n",
      "    const blobService = new BlobServiceClient(\n",
      "        `https://${STORAGE_ACCOUNT_NAME}.blob.core.windows.net`,\n",
      "        sharedKeyCredential\n",
      "    );\n",
      "    return blobService;\n",
      "}\n",
      "\n",
      "const app = express();\n",
      "\n",
      "//\n",
      "// Registers a HTTP GET route to retrieve videos from storage.\n",
      "//\n",
      "app.get(\"/video\", async (req, res) => {\n",
      "\n",
      "    const videoPath = req.query.path;\n",
      "    console.log(`Streaming video from path ${videoPath}.`);\n",
      "    \n",
      "    const blobService = createBlobService();\n",
      "\n",
      "    const containerName = \"videos\";\n",
      "    const containerClient = blobService.getContainerClient(containerName);\n",
      "    const blobClient = containerClient.getBlobClient(videoPath);\n",
      "\n",
      "    const properties = await blobClient.getProperties();\n",
      "\n",
      "    //\n",
      "    // Writes HTTP headers to the response.\n",
      "    //\n",
      "    res.writeHead(200, {\n",
      "        \"Content-Length\": properties.contentLength,\n",
      "        \"Content-Type\": \"video/mp4\",\n",
      "    });\n",
      "\n",
      "    const response = await blobClient.download();\n",
      "    response.readableStreamBody.pipe(res);\n",
      "});\n",
      "\n",
      "//\n",
      "// Starts the HTTP server.\n",
      "//\n",
      "app.listen(PORT, () => {\n",
      "    console.log(`Microservice online`);\n",
      "});\n"
     ]
    }
   ],
   "source": [
    "cat video-storage/src/index.js"
   ]
  },
  {
   "cell_type": "markdown",
   "metadata": {},
   "source": [
    "## Initialize the Node.js project\n",
    "\n",
    "- Let's initialise the Node.js project for the microservice by:\n",
    "  - Running `npm init`.\n",
    "  - Running `npm pkg` to configure `package.json`.\n",
    "  - Running `npm install` to install the required NPM packages."
   ]
  },
  {
   "cell_type": "code",
   "execution_count": 36,
   "metadata": {
    "vscode": {
     "languageId": "shellscript"
    }
   },
   "outputs": [
    {
     "data": {
      "text/plain": [
       "['Wrote to /home/patrick/projects/tsfn14/tsfn14/03_Azure_and_Terraform/05_storage_account/video-storage/package.json:',\n",
       " '',\n",
       " '{',\n",
       " '  \"name\": \"video-storage\",',\n",
       " '  \"version\": \"1.0.0\",',\n",
       " '  \"description\": \"\",',\n",
       " '  \"main\": \"index.js\",',\n",
       " '  \"scripts\": {',\n",
       " '    \"test\": \"echo \\\\\"Error: no test specified\\\\\" && exit 1\"',\n",
       " '  },',\n",
       " '  \"keywords\": [],',\n",
       " '  \"author\": \"\",',\n",
       " '  \"license\": \"ISC\"',\n",
       " '}',\n",
       " '',\n",
       " '']"
      ]
     },
     "execution_count": 36,
     "metadata": {},
     "output_type": "execute_result"
    }
   ],
   "source": [
    "%%system\n",
    "#rm -rf ./video-storage/node_modules ./video-storage/package.json ./video-storage/package-lock.json\n",
    "cd video-storage\n",
    "npm init -y\n",
    "npm pkg set 'main'='./src/index.js'\n",
    "npm pkg set 'scripts.start'='node ./src/index.js'\n",
    "npm pkg set 'scripts.start:dev'='nodemon ./src/index.js'\n",
    "npm pkg delete 'scripts.test'\n",
    "npm install --silent --save express@5.0.0-beta.1\n",
    "npm install --silent --save @azure/storage-blob@12.17.0\n",
    "npm install --silent --save-dev nodemon@3.0.3\n",
    "cd .."
   ]
  },
  {
   "cell_type": "markdown",
   "metadata": {},
   "source": [
    "## Let's look at the Docker file used to build an image of the Node.js project\n",
    "\n",
    "- Our image is based on the slimmed-down `alpine` version of `node:19.9.0`.\n",
    "- The working directory in the image is `/usr/src/app`.\n",
    "- The files `package.json` and `package-lock.json` are copied from the host computer to the image's working directory.\n",
    "- The command `npm ci --omit-dev` is run in the image's working directory which installs non-dev NPM packages from `package.json`.\n",
    "- The file `index.js` is copied from the host computer's `src` folder to the image's working directory's `src` folder.\n",
    "- The command `npm start` will be run in the working directory when an image container is started."
   ]
  },
  {
   "cell_type": "code",
   "execution_count": 37,
   "metadata": {
    "vscode": {
     "languageId": "shellscript"
    }
   },
   "outputs": [
    {
     "name": "stdout",
     "output_type": "stream",
     "text": [
      "FROM node:19.9.0-alpine\n",
      "\n",
      "WORKDIR /usr/src/app\n",
      "COPY package*.json ./\n",
      "RUN npm ci --omit=dev\n",
      "COPY ./src ./src\n",
      "\n",
      "CMD npm start"
     ]
    }
   ],
   "source": [
    "#!type video-storage/Dockerfile # use this on Windows\n",
    "!cat video-storage/Dockerfile"
   ]
  },
  {
   "cell_type": "markdown",
   "metadata": {},
   "source": [
    "## Build and Push a Docker Image to Azure Container Registry\n",
    "\n",
    "- Here we are building an image of the Node.js application (microservice).\n",
    "- We are tagging the image as `tsfn14g00.azurecr.io/video-storage:1,`where:\n",
    "  - `tsfn14g00.azurecr.io` is the URL (LOGIN SERVER) to our Container Registry.\n",
    "  - `video-storage` is the name of our image (repository).\n",
    "  - `1` is the version of the image (tag).\n",
    "- Then the image is pushed to the Azure Container Registry.\n",
    "- Finally, the local image is removed from the host computer."
   ]
  },
  {
   "cell_type": "code",
   "execution_count": 38,
   "metadata": {
    "vscode": {
     "languageId": "shellscript"
    }
   },
   "outputs": [
    {
     "data": {
      "text/plain": [
       "['failed to fetch metadata: fork/exec /usr/local/lib/docker/cli-plugins/docker-buildx: no such file or directory',\n",
       " '',\n",
       " 'DEPRECATED: The legacy builder is deprecated and will be removed in a future release.',\n",
       " '            Install the buildx component to build images with BuildKit:',\n",
       " '            https://docs.docker.com/go/buildx/',\n",
       " '',\n",
       " 'sha256:668d7515881255b99578196e3940ad1e842107fde64c19e305d008caf18af0bc',\n",
       " 'The push refers to repository [tsfn14g00.azurecr.io/video-storage]',\n",
       " 'b320483b5121: Preparing',\n",
       " '56d5ff0e8727: Preparing',\n",
       " 'ddc9fad26382: Preparing',\n",
       " '68c1df7ad2a4: Preparing',\n",
       " 'e394b5a78515: Preparing',\n",
       " '9b2d5af7f709: Preparing',\n",
       " 'b240fe81adaa: Preparing',\n",
       " 'bb01bd7e32b5: Preparing',\n",
       " 'b240fe81adaa: Waiting',\n",
       " 'bb01bd7e32b5: Waiting',\n",
       " '9b2d5af7f709: Waiting',\n",
       " 'b320483b5121: Pushed',\n",
       " '68c1df7ad2a4: Pushed',\n",
       " '56d5ff0e8727: Pushed',\n",
       " 'ddc9fad26382: Pushed',\n",
       " 'e394b5a78515: Pushed',\n",
       " '9b2d5af7f709: Pushed',\n",
       " 'bb01bd7e32b5: Pushed',\n",
       " 'b240fe81adaa: Pushed',\n",
       " '1: digest: sha256:a743d6d948313026694b3289a2e3974ea5329b9c04c3acc772f207e18601c2e1 size: 1993',\n",
       " 'Untagged: tsfn14g00.azurecr.io/video-storage:1',\n",
       " 'Untagged: tsfn14g00.azurecr.io/video-storage@sha256:a743d6d948313026694b3289a2e3974ea5329b9c04c3acc772f207e18601c2e1',\n",
       " 'Deleted: sha256:668d7515881255b99578196e3940ad1e842107fde64c19e305d008caf18af0bc',\n",
       " 'Deleted: sha256:d89dcd7ad37e272f137a5bda27fdfb7650d14a3e38da5a42963b6d6a6ca126d7',\n",
       " 'Deleted: sha256:638d35339eedd0e9c94569dc22fa7fad45c4f3b82e4e65bad2f39c7054fb51f2',\n",
       " 'Deleted: sha256:ccbe0eb015cff61f368cbf02f179fffb86b7241995d129acc3cf77965cfc3f2f',\n",
       " 'Deleted: sha256:55d175abcbca9264982f1ab4d6388863636e794acdf6a99e182b4ad9fcb7e130',\n",
       " 'Deleted: sha256:0753f62086e0ea90b05c6f0abd81f15a3412e80d5a20d1eb91c1cb8d1217a5be',\n",
       " 'Deleted: sha256:768b8aad81b09b6808f98fa2a53d923c83658383dacd41aeb7b5c2177b53b450',\n",
       " 'Deleted: sha256:63e1841d6998f9aae38daaa07450d1535c03265f27749cf0bdd579432722152f',\n",
       " 'Deleted: sha256:be8ae31e3194b8be445211c18195ea4bd54ab32bca70bdcea2213881d0183120',\n",
       " 'REPOSITORY   TAG       IMAGE ID   CREATED   SIZE']"
      ]
     },
     "execution_count": 38,
     "metadata": {},
     "output_type": "execute_result"
    }
   ],
   "source": [
    "%%system\n",
    "\n",
    "# Build Docker image with Nodejs Application\n",
    "docker build -q -t {CONTAINER_REGISTRY_LOGIN_SERVER}/video-storage:1 -f ./video-storage/Dockerfile ./video-storage\n",
    "\n",
    "# Push Docker Image to Azure Container Registry\n",
    "docker push {CONTAINER_REGISTRY_LOGIN_SERVER}/video-storage:1\n",
    "\n",
    "# Clean up\n",
    "docker rmi {CONTAINER_REGISTRY_LOGIN_SERVER}/video-storage:1\n",
    "docker images {CONTAINER_REGISTRY_LOGIN_SERVER}/video-storage:1"
   ]
  },
  {
   "cell_type": "markdown",
   "metadata": {},
   "source": [
    "## List Repositories in Container Registry `tsfn14g00 `\n",
    "\n",
    "- We see that the Repository `video-storage` has been created in Container Registry `tsfn14g00`."
   ]
  },
  {
   "cell_type": "code",
   "execution_count": 39,
   "metadata": {
    "vscode": {
     "languageId": "shellscript"
    }
   },
   "outputs": [
    {
     "name": "stdout",
     "output_type": "stream",
     "text": [
      "Result\n",
      "-------------\n",
      "video-storage\n"
     ]
    }
   ],
   "source": [
    "!az acr repository list -n tsfn14g00 --top 10 -o table"
   ]
  },
  {
   "cell_type": "markdown",
   "metadata": {},
   "source": [
    "## Show Information about Repository `video-storage`\n",
    "\n",
    "- The Azure CLI command `az acr repository show -n tsfn14g00 --repository video-storage -o table`\n",
    "  - Shows information about Repository `video-storage` in Container Registry `tsfn14g00`.\n",
    "    - It contains images named `video-storage` (ImageName).\n",
    "    - It has a tag count of `1` (TagCount), i.e. currently there is only one tag for the `video-storage` image."
   ]
  },
  {
   "cell_type": "code",
   "execution_count": 40,
   "metadata": {
    "vscode": {
     "languageId": "shellscript"
    }
   },
   "outputs": [
    {
     "name": "stdout",
     "output_type": "stream",
     "text": [
      "CreatedTime                   ImageName      LastUpdateTime                ManifestCount    Registry              TagCount\n",
      "----------------------------  -------------  ----------------------------  ---------------  --------------------  ----------\n",
      "2024-02-10T17:28:07.1753421Z  video-storage  2024-02-10T17:28:07.2573167Z  1                tsfn14g00.azurecr.io  1\n"
     ]
    }
   ],
   "source": [
    "!az acr repository show -n tsfn14g00 --repository video-storage -o table"
   ]
  },
  {
   "cell_type": "markdown",
   "metadata": {},
   "source": [
    "## List Tags in Repository `video-storage`\n",
    "\n",
    "- The Azure CLI command `az acr repository show-tags -n tsfn14g00 --repository video-storage --top 10 -o table`:\n",
    "  - Lists the tags in Repository `video-storage` in Container Registry `tsfn14g00`.\n",
    "    - Currently there is only one tag.\n",
    "    - The tag has the value `1`."
   ]
  },
  {
   "cell_type": "code",
   "execution_count": 41,
   "metadata": {
    "vscode": {
     "languageId": "shellscript"
    }
   },
   "outputs": [
    {
     "name": "stdout",
     "output_type": "stream",
     "text": [
      "Result\n",
      "--------\n",
      "1\n"
     ]
    }
   ],
   "source": [
    "!az acr repository show-tags -n tsfn14g00 --repository video-storage --top 10 -o table"
   ]
  },
  {
   "cell_type": "markdown",
   "metadata": {},
   "source": [
    "## Show Information about Image `video-streaming:1`\n",
    "\n",
    "- The Azure CLI command `az acr repository show -n tsfn14g00 --image video-storage:1 -o table`:\n",
    "  - Shows information about image `video-storage:1` in Container Registry `tsfn14g00`.\n",
    "    - The information includes the Digest for the image."
   ]
  },
  {
   "cell_type": "code",
   "execution_count": 42,
   "metadata": {
    "vscode": {
     "languageId": "shellscript"
    }
   },
   "outputs": [
    {
     "name": "stdout",
     "output_type": "stream",
     "text": [
      "CreatedTime                   Digest                                                                   LastUpdateTime                Name    Signed\n",
      "----------------------------  -----------------------------------------------------------------------  ----------------------------  ------  --------\n",
      "2024-02-10T17:28:07.2867885Z  sha256:a743d6d948313026694b3289a2e3974ea5329b9c04c3acc772f207e18601c2e1  2024-02-10T17:28:07.2867885Z  1       False\n"
     ]
    }
   ],
   "source": [
    "!az acr repository show -n tsfn14g00 --image video-storage:1 -o table"
   ]
  },
  {
   "cell_type": "markdown",
   "metadata": {},
   "source": [
    "## Show Azure Container Registry Usage\n",
    "\n",
    "- The command `az acr show-usage -n tsfn14g00 -o table` shows the usage of Container Registry `tsfn14g00`.\n",
    "  - We can see the maximum number of allowed bytes in the `LIMIT` column (first row).\n",
    "  - We can see the current number of bytes in the `CURRENT VALUE` column (first row)."
   ]
  },
  {
   "cell_type": "code",
   "execution_count": 43,
   "metadata": {
    "vscode": {
     "languageId": "shellscript"
    }
   },
   "outputs": [
    {
     "name": "stdout",
     "output_type": "stream",
     "text": [
      "NAME       LIMIT        CURRENT VALUE    UNIT\n",
      "---------  -----------  ---------------  ------\n",
      "Size       10737418240  60578333         Bytes\n",
      "Webhooks   2            0                Count\n",
      "ScopeMaps  100          0                Count\n",
      "Tokens     100          0                Count\n"
     ]
    }
   ],
   "source": [
    "!az acr show-usage -n tsfn14g00 -o table"
   ]
  },
  {
   "cell_type": "markdown",
   "metadata": {},
   "source": [
    "## Pull and Run an Image from the Azure Container Registry\n",
    "\n",
    "- The image `video-storage:1` will be pulled from the Azure Container Registry to the host computer.\n",
    "- Then a Container is created from the Image, where:\n",
    "  - The host computer's port 3000 is mapped to the container's port 3000.\n",
    "  - An environment variable PORT is created in the container with the value 3000.\n",
    "  - An environment variable STORAGE_ACCOUNT_NAME is created in the container with the Storage Account's Name.\n",
    "  - An environment variable STORAGE_ACCESS_KEY is created in the container with the Storage Access Key."
   ]
  },
  {
   "cell_type": "code",
   "execution_count": 44,
   "metadata": {
    "vscode": {
     "languageId": "shellscript"
    }
   },
   "outputs": [
    {
     "data": {
      "text/plain": [
       "[\"Unable to find image 'tsfn14g00.azurecr.io/video-storage:1' locally\",\n",
       " '1: Pulling from video-storage',\n",
       " '8a49fdb3b6a5: Already exists',\n",
       " '1197750296b3: Already exists',\n",
       " 'f352bc07f19b: Already exists',\n",
       " '47be83a79857: Already exists',\n",
       " '5e5985408991: Pulling fs layer',\n",
       " '44104ea2832f: Pulling fs layer',\n",
       " '0efd076f6ac1: Pulling fs layer',\n",
       " '164665fd9637: Pulling fs layer',\n",
       " '164665fd9637: Waiting',\n",
       " '44104ea2832f: Verifying Checksum',\n",
       " '5e5985408991: Download complete',\n",
       " '5e5985408991: Pull complete',\n",
       " '44104ea2832f: Pull complete',\n",
       " '164665fd9637: Verifying Checksum',\n",
       " '164665fd9637: Download complete',\n",
       " '0efd076f6ac1: Verifying Checksum',\n",
       " '0efd076f6ac1: Download complete',\n",
       " '0efd076f6ac1: Pull complete',\n",
       " '164665fd9637: Pull complete',\n",
       " 'Digest: sha256:a743d6d948313026694b3289a2e3974ea5329b9c04c3acc772f207e18601c2e1',\n",
       " 'Status: Downloaded newer image for tsfn14g00.azurecr.io/video-storage:1',\n",
       " '4e88d932fb0133d91eb1aeca26865db117a276b4405d2d754cb0d5ba9e29f191',\n",
       " 'CONTAINER ID   IMAGE                                  COMMAND                  CREATED                  STATUS                  PORTS                                       NAMES',\n",
       " '4e88d932fb01   tsfn14g00.azurecr.io/video-storage:1   \"docker-entrypoint.s…\"   Less than a second ago   Up Less than a second   0.0.0.0:3000->3000/tcp, :::3000->3000/tcp   video-storage']"
      ]
     },
     "execution_count": 44,
     "metadata": {},
     "output_type": "execute_result"
    }
   ],
   "source": [
    "%%system\n",
    "\n",
    "docker run --name video-storage -d -p 3000:3000 -e PORT=3000 -e STORAGE_ACCOUNT_NAME={STORAGE_ACCOUNT_NAME} -e STORAGE_ACCESS_KEY={STORAGE_ACCESS_KEY} {CONTAINER_REGISTRY_LOGIN_SERVER}/video-storage:1\n",
    "docker ps\n",
    "docker logs video-storage\n",
    "#docker exec -it video-storage /bin/sh"
   ]
  },
  {
   "cell_type": "markdown",
   "metadata": {},
   "source": [
    "## Access the Microservice from a Web Browser\n",
    "\n",
    "- Open a web browser and enter the URL `http://localhost:3000/video?path=SampleVideo_1280x720_1mb.mp4`\n",
    "  - This will send an HTTP GET request to the microservice's GET route for the \"/video\" path.\n",
    "    - The query string `path=SampleVideo_1280x720_1mb.mp4` will also be accesible by the GET route.\n",
    "  - The video stored in the storage account's storage container will be streamed to the web browser by the microservice."
   ]
  },
  {
   "cell_type": "code",
   "execution_count": 45,
   "metadata": {
    "vscode": {
     "languageId": "shellscript"
    }
   },
   "outputs": [],
   "source": [
    "#!firefox http://localhost:3000/video?path=SampleVideo_1280x720_1mb.mp4"
   ]
  },
  {
   "cell_type": "markdown",
   "metadata": {},
   "source": [
    "## Stop and Remove the Docker Container and Image from your computer\n",
    "\n",
    "- The Container `video-storage` is stopped and removed from the host computer.\n",
    "- Then the Image `video-storage:1` is removed from the host computer."
   ]
  },
  {
   "cell_type": "code",
   "execution_count": 46,
   "metadata": {
    "vscode": {
     "languageId": "shellscript"
    }
   },
   "outputs": [
    {
     "data": {
      "text/plain": [
       "['video-storage',\n",
       " 'video-storage',\n",
       " 'CONTAINER ID   IMAGE     COMMAND   CREATED   STATUS    PORTS     NAMES',\n",
       " 'Untagged: tsfn14g00.azurecr.io/video-storage:1',\n",
       " 'Untagged: tsfn14g00.azurecr.io/video-storage@sha256:a743d6d948313026694b3289a2e3974ea5329b9c04c3acc772f207e18601c2e1',\n",
       " 'Deleted: sha256:668d7515881255b99578196e3940ad1e842107fde64c19e305d008caf18af0bc',\n",
       " 'Deleted: sha256:638d35339eedd0e9c94569dc22fa7fad45c4f3b82e4e65bad2f39c7054fb51f2',\n",
       " 'Deleted: sha256:55d175abcbca9264982f1ab4d6388863636e794acdf6a99e182b4ad9fcb7e130',\n",
       " 'Deleted: sha256:768b8aad81b09b6808f98fa2a53d923c83658383dacd41aeb7b5c2177b53b450',\n",
       " 'Deleted: sha256:be8ae31e3194b8be445211c18195ea4bd54ab32bca70bdcea2213881d0183120',\n",
       " 'REPOSITORY   TAG       IMAGE ID   CREATED   SIZE']"
      ]
     },
     "execution_count": 46,
     "metadata": {},
     "output_type": "execute_result"
    }
   ],
   "source": [
    "%%system\n",
    "\n",
    "docker stop video-storage\n",
    "docker rm video-storage\n",
    "docker ps -a\n",
    "docker rmi {CONTAINER_REGISTRY_LOGIN_SERVER}/video-storage:1\n",
    "docker images {CONTAINER_REGISTRY_LOGIN_SERVER}/video-storage:1"
   ]
  },
  {
   "cell_type": "markdown",
   "metadata": {},
   "source": [
    "## Logout from the Azure Container Registry via Docker"
   ]
  },
  {
   "cell_type": "code",
   "execution_count": 48,
   "metadata": {
    "vscode": {
     "languageId": "shellscript"
    }
   },
   "outputs": [
    {
     "name": "stdout",
     "output_type": "stream",
     "text": [
      "Removing login credentials for tsfn14g00.azurecr.io\n"
     ]
    }
   ],
   "source": [
    "!docker logout $CONTAINER_REGISTRY_LOGIN_SERVER"
   ]
  },
  {
   "cell_type": "markdown",
   "metadata": {},
   "source": [
    "## Delete Repository `video-storage` from Azure Container Registry\n",
    "\n",
    "- The Azure CLI command `az acr repository delete -y -n tsfn14g00 --repository video-storage -o table`\n",
    "  - Deletes the Repository `video-storage` in Container Registry `tsfn14g00`.\n",
    "  - Use this command to delete all images in Repository `video-storage`.\n",
    "- The Azure CLI command `az acr repository delete -y -n tsfn14g00 --image video-storage:1 -table`\n",
    "  - Deletes the Image `video-storage:1` in Container Registry `tsfn14g00`.\n",
    "  - Use this command to delete one image from Repository `video-storage`."
   ]
  },
  {
   "cell_type": "code",
   "execution_count": 49,
   "metadata": {
    "vscode": {
     "languageId": "shellscript"
    }
   },
   "outputs": [
    {
     "name": "stdout",
     "output_type": "stream",
     "text": [
      "\n"
     ]
    }
   ],
   "source": [
    "#!az acr repository delete -y -n tsfn14g00 --image video-storage:1 -table\n",
    "!az acr repository delete -y -n tsfn14g00 --repository video-storage -o table"
   ]
  },
  {
   "cell_type": "markdown",
   "metadata": {},
   "source": [
    "## List Repositories in Container Registry `tsfn14g00 `\n",
    "\n",
    "- We see that the Repository `video-storage` has been deleted from Container Registry `tsfn14g00`."
   ]
  },
  {
   "cell_type": "code",
   "execution_count": 50,
   "metadata": {
    "vscode": {
     "languageId": "shellscript"
    }
   },
   "outputs": [
    {
     "name": "stdout",
     "output_type": "stream",
     "text": [
      "\n"
     ]
    }
   ],
   "source": [
    "!az acr repository list -n tsfn14g00 --top 10 -o table"
   ]
  },
  {
   "cell_type": "markdown",
   "metadata": {},
   "source": [
    "## Terraform Destroy\n",
    "\n",
    "- We destroy the resources defined in the Terraform project as before."
   ]
  },
  {
   "cell_type": "code",
   "execution_count": 51,
   "metadata": {
    "vscode": {
     "languageId": "shellscript"
    }
   },
   "outputs": [
    {
     "name": "stdout",
     "output_type": "stream",
     "text": [
      "\u001b[0m\u001b[1mazurerm_resource_group.main: Refreshing state... [id=/subscriptions/dc438970-aa32-41b3-8fe2-f587309a0208/resourceGroups/tsfn14g00]\u001b[0m\n",
      "\u001b[0m\u001b[1mazurerm_container_registry.main: Refreshing state... [id=/subscriptions/dc438970-aa32-41b3-8fe2-f587309a0208/resourceGroups/tsfn14g00/providers/Microsoft.ContainerRegistry/registries/tsfn14g00]\u001b[0m\n",
      "\u001b[0m\u001b[1mazurerm_storage_account.main: Refreshing state... [id=/subscriptions/dc438970-aa32-41b3-8fe2-f587309a0208/resourceGroups/tsfn14g00/providers/Microsoft.Storage/storageAccounts/tsfn14g00]\u001b[0m\n",
      "\u001b[0m\u001b[1mazurerm_storage_container.main: Refreshing state... [id=https://tsfn14g00.blob.core.windows.net/videos]\u001b[0m\n",
      "\n",
      "Terraform used the selected providers to generate the following execution plan.\n",
      "Resource actions are indicated with the following symbols:\n",
      "  \u001b[31m-\u001b[0m destroy\u001b[0m\n",
      "\n",
      "Terraform will perform the following actions:\n",
      "\n",
      "\u001b[1m  # azurerm_container_registry.main\u001b[0m will be \u001b[1m\u001b[31mdestroyed\u001b[0m\n",
      "\u001b[0m  \u001b[31m-\u001b[0m\u001b[0m resource \"azurerm_container_registry\" \"main\" {\n",
      "      \u001b[31m-\u001b[0m\u001b[0m admin_enabled                 = true \u001b[90m-> null\u001b[0m\u001b[0m\n",
      "      \u001b[31m-\u001b[0m\u001b[0m admin_password                = (sensitive value) \u001b[90m-> null\u001b[0m\u001b[0m\n",
      "      \u001b[31m-\u001b[0m\u001b[0m admin_username                = \"tsfn14g00\" \u001b[90m-> null\u001b[0m\u001b[0m\n",
      "      \u001b[31m-\u001b[0m\u001b[0m anonymous_pull_enabled        = false \u001b[90m-> null\u001b[0m\u001b[0m\n",
      "      \u001b[31m-\u001b[0m\u001b[0m data_endpoint_enabled         = false \u001b[90m-> null\u001b[0m\u001b[0m\n",
      "      \u001b[31m-\u001b[0m\u001b[0m encryption                    = [\n",
      "          \u001b[31m-\u001b[0m\u001b[0m {\n",
      "              \u001b[31m-\u001b[0m\u001b[0m enabled            = false\n",
      "              \u001b[31m-\u001b[0m\u001b[0m identity_client_id = \"\"\n",
      "              \u001b[31m-\u001b[0m\u001b[0m key_vault_key_id   = \"\"\n",
      "            },\n",
      "        ] \u001b[90m-> null\u001b[0m\u001b[0m\n",
      "      \u001b[31m-\u001b[0m\u001b[0m export_policy_enabled         = true \u001b[90m-> null\u001b[0m\u001b[0m\n",
      "      \u001b[31m-\u001b[0m\u001b[0m id                            = \"/subscriptions/dc438970-aa32-41b3-8fe2-f587309a0208/resourceGroups/tsfn14g00/providers/Microsoft.ContainerRegistry/registries/tsfn14g00\" \u001b[90m-> null\u001b[0m\u001b[0m\n",
      "      \u001b[31m-\u001b[0m\u001b[0m location                      = \"westeurope\" \u001b[90m-> null\u001b[0m\u001b[0m\n",
      "      \u001b[31m-\u001b[0m\u001b[0m login_server                  = \"tsfn14g00.azurecr.io\" \u001b[90m-> null\u001b[0m\u001b[0m\n",
      "      \u001b[31m-\u001b[0m\u001b[0m name                          = \"tsfn14g00\" \u001b[90m-> null\u001b[0m\u001b[0m\n",
      "      \u001b[31m-\u001b[0m\u001b[0m network_rule_bypass_option    = \"AzureServices\" \u001b[90m-> null\u001b[0m\u001b[0m\n",
      "      \u001b[31m-\u001b[0m\u001b[0m network_rule_set              = [] \u001b[90m-> null\u001b[0m\u001b[0m\n",
      "      \u001b[31m-\u001b[0m\u001b[0m public_network_access_enabled = true \u001b[90m-> null\u001b[0m\u001b[0m\n",
      "      \u001b[31m-\u001b[0m\u001b[0m quarantine_policy_enabled     = false \u001b[90m-> null\u001b[0m\u001b[0m\n",
      "      \u001b[31m-\u001b[0m\u001b[0m resource_group_name           = \"tsfn14g00\" \u001b[90m-> null\u001b[0m\u001b[0m\n",
      "      \u001b[31m-\u001b[0m\u001b[0m retention_policy              = [\n",
      "          \u001b[31m-\u001b[0m\u001b[0m {\n",
      "              \u001b[31m-\u001b[0m\u001b[0m days    = 7\n",
      "              \u001b[31m-\u001b[0m\u001b[0m enabled = false\n",
      "            },\n",
      "        ] \u001b[90m-> null\u001b[0m\u001b[0m\n",
      "      \u001b[31m-\u001b[0m\u001b[0m sku                           = \"Basic\" \u001b[90m-> null\u001b[0m\u001b[0m\n",
      "      \u001b[31m-\u001b[0m\u001b[0m tags                          = {} \u001b[90m-> null\u001b[0m\u001b[0m\n",
      "      \u001b[31m-\u001b[0m\u001b[0m trust_policy                  = [\n",
      "          \u001b[31m-\u001b[0m\u001b[0m {\n",
      "              \u001b[31m-\u001b[0m\u001b[0m enabled = false\n",
      "            },\n",
      "        ] \u001b[90m-> null\u001b[0m\u001b[0m\n",
      "      \u001b[31m-\u001b[0m\u001b[0m zone_redundancy_enabled       = false \u001b[90m-> null\u001b[0m\u001b[0m\n",
      "    }\n",
      "\n",
      "\u001b[1m  # azurerm_resource_group.main\u001b[0m will be \u001b[1m\u001b[31mdestroyed\u001b[0m\n",
      "\u001b[0m  \u001b[31m-\u001b[0m\u001b[0m resource \"azurerm_resource_group\" \"main\" {\n",
      "      \u001b[31m-\u001b[0m\u001b[0m id       = \"/subscriptions/dc438970-aa32-41b3-8fe2-f587309a0208/resourceGroups/tsfn14g00\" \u001b[90m-> null\u001b[0m\u001b[0m\n",
      "      \u001b[31m-\u001b[0m\u001b[0m location = \"westeurope\" \u001b[90m-> null\u001b[0m\u001b[0m\n",
      "      \u001b[31m-\u001b[0m\u001b[0m name     = \"tsfn14g00\" \u001b[90m-> null\u001b[0m\u001b[0m\n",
      "      \u001b[31m-\u001b[0m\u001b[0m tags     = {} \u001b[90m-> null\u001b[0m\u001b[0m\n",
      "    }\n",
      "\n",
      "\u001b[1m  # azurerm_storage_account.main\u001b[0m will be \u001b[1m\u001b[31mdestroyed\u001b[0m\n",
      "\u001b[0m  \u001b[31m-\u001b[0m\u001b[0m resource \"azurerm_storage_account\" \"main\" {\n",
      "      \u001b[31m-\u001b[0m\u001b[0m access_tier                       = \"Hot\" \u001b[90m-> null\u001b[0m\u001b[0m\n",
      "      \u001b[31m-\u001b[0m\u001b[0m account_kind                      = \"StorageV2\" \u001b[90m-> null\u001b[0m\u001b[0m\n",
      "      \u001b[31m-\u001b[0m\u001b[0m account_replication_type          = \"LRS\" \u001b[90m-> null\u001b[0m\u001b[0m\n",
      "      \u001b[31m-\u001b[0m\u001b[0m account_tier                      = \"Standard\" \u001b[90m-> null\u001b[0m\u001b[0m\n",
      "      \u001b[31m-\u001b[0m\u001b[0m allow_nested_items_to_be_public   = true \u001b[90m-> null\u001b[0m\u001b[0m\n",
      "      \u001b[31m-\u001b[0m\u001b[0m cross_tenant_replication_enabled  = true \u001b[90m-> null\u001b[0m\u001b[0m\n",
      "      \u001b[31m-\u001b[0m\u001b[0m default_to_oauth_authentication   = false \u001b[90m-> null\u001b[0m\u001b[0m\n",
      "      \u001b[31m-\u001b[0m\u001b[0m enable_https_traffic_only         = true \u001b[90m-> null\u001b[0m\u001b[0m\n",
      "      \u001b[31m-\u001b[0m\u001b[0m id                                = \"/subscriptions/dc438970-aa32-41b3-8fe2-f587309a0208/resourceGroups/tsfn14g00/providers/Microsoft.Storage/storageAccounts/tsfn14g00\" \u001b[90m-> null\u001b[0m\u001b[0m\n",
      "      \u001b[31m-\u001b[0m\u001b[0m infrastructure_encryption_enabled = false \u001b[90m-> null\u001b[0m\u001b[0m\n",
      "      \u001b[31m-\u001b[0m\u001b[0m is_hns_enabled                    = false \u001b[90m-> null\u001b[0m\u001b[0m\n",
      "      \u001b[31m-\u001b[0m\u001b[0m location                          = \"westeurope\" \u001b[90m-> null\u001b[0m\u001b[0m\n",
      "      \u001b[31m-\u001b[0m\u001b[0m min_tls_version                   = \"TLS1_2\" \u001b[90m-> null\u001b[0m\u001b[0m\n",
      "      \u001b[31m-\u001b[0m\u001b[0m name                              = \"tsfn14g00\" \u001b[90m-> null\u001b[0m\u001b[0m\n",
      "      \u001b[31m-\u001b[0m\u001b[0m nfsv3_enabled                     = false \u001b[90m-> null\u001b[0m\u001b[0m\n",
      "      \u001b[31m-\u001b[0m\u001b[0m primary_access_key                = (sensitive value) \u001b[90m-> null\u001b[0m\u001b[0m\n",
      "      \u001b[31m-\u001b[0m\u001b[0m primary_blob_connection_string    = (sensitive value) \u001b[90m-> null\u001b[0m\u001b[0m\n",
      "      \u001b[31m-\u001b[0m\u001b[0m primary_blob_endpoint             = \"https://tsfn14g00.blob.core.windows.net/\" \u001b[90m-> null\u001b[0m\u001b[0m\n",
      "      \u001b[31m-\u001b[0m\u001b[0m primary_blob_host                 = \"tsfn14g00.blob.core.windows.net\" \u001b[90m-> null\u001b[0m\u001b[0m\n",
      "      \u001b[31m-\u001b[0m\u001b[0m primary_connection_string         = (sensitive value) \u001b[90m-> null\u001b[0m\u001b[0m\n",
      "      \u001b[31m-\u001b[0m\u001b[0m primary_dfs_endpoint              = \"https://tsfn14g00.dfs.core.windows.net/\" \u001b[90m-> null\u001b[0m\u001b[0m\n",
      "      \u001b[31m-\u001b[0m\u001b[0m primary_dfs_host                  = \"tsfn14g00.dfs.core.windows.net\" \u001b[90m-> null\u001b[0m\u001b[0m\n",
      "      \u001b[31m-\u001b[0m\u001b[0m primary_file_endpoint             = \"https://tsfn14g00.file.core.windows.net/\" \u001b[90m-> null\u001b[0m\u001b[0m\n",
      "      \u001b[31m-\u001b[0m\u001b[0m primary_file_host                 = \"tsfn14g00.file.core.windows.net\" \u001b[90m-> null\u001b[0m\u001b[0m\n",
      "      \u001b[31m-\u001b[0m\u001b[0m primary_location                  = \"westeurope\" \u001b[90m-> null\u001b[0m\u001b[0m\n",
      "      \u001b[31m-\u001b[0m\u001b[0m primary_queue_endpoint            = \"https://tsfn14g00.queue.core.windows.net/\" \u001b[90m-> null\u001b[0m\u001b[0m\n",
      "      \u001b[31m-\u001b[0m\u001b[0m primary_queue_host                = \"tsfn14g00.queue.core.windows.net\" \u001b[90m-> null\u001b[0m\u001b[0m\n",
      "      \u001b[31m-\u001b[0m\u001b[0m primary_table_endpoint            = \"https://tsfn14g00.table.core.windows.net/\" \u001b[90m-> null\u001b[0m\u001b[0m\n",
      "      \u001b[31m-\u001b[0m\u001b[0m primary_table_host                = \"tsfn14g00.table.core.windows.net\" \u001b[90m-> null\u001b[0m\u001b[0m\n",
      "      \u001b[31m-\u001b[0m\u001b[0m primary_web_endpoint              = \"https://tsfn14g00.z6.web.core.windows.net/\" \u001b[90m-> null\u001b[0m\u001b[0m\n",
      "      \u001b[31m-\u001b[0m\u001b[0m primary_web_host                  = \"tsfn14g00.z6.web.core.windows.net\" \u001b[90m-> null\u001b[0m\u001b[0m\n",
      "      \u001b[31m-\u001b[0m\u001b[0m public_network_access_enabled     = true \u001b[90m-> null\u001b[0m\u001b[0m\n",
      "      \u001b[31m-\u001b[0m\u001b[0m queue_encryption_key_type         = \"Service\" \u001b[90m-> null\u001b[0m\u001b[0m\n",
      "      \u001b[31m-\u001b[0m\u001b[0m resource_group_name               = \"tsfn14g00\" \u001b[90m-> null\u001b[0m\u001b[0m\n",
      "      \u001b[31m-\u001b[0m\u001b[0m secondary_access_key              = (sensitive value) \u001b[90m-> null\u001b[0m\u001b[0m\n",
      "      \u001b[31m-\u001b[0m\u001b[0m secondary_connection_string       = (sensitive value) \u001b[90m-> null\u001b[0m\u001b[0m\n",
      "      \u001b[31m-\u001b[0m\u001b[0m sftp_enabled                      = false \u001b[90m-> null\u001b[0m\u001b[0m\n",
      "      \u001b[31m-\u001b[0m\u001b[0m shared_access_key_enabled         = true \u001b[90m-> null\u001b[0m\u001b[0m\n",
      "      \u001b[31m-\u001b[0m\u001b[0m table_encryption_key_type         = \"Service\" \u001b[90m-> null\u001b[0m\u001b[0m\n",
      "      \u001b[31m-\u001b[0m\u001b[0m tags                              = {} \u001b[90m-> null\u001b[0m\u001b[0m\n",
      "\n",
      "      \u001b[31m-\u001b[0m\u001b[0m blob_properties {\n",
      "          \u001b[31m-\u001b[0m\u001b[0m change_feed_enabled           = false \u001b[90m-> null\u001b[0m\u001b[0m\n",
      "          \u001b[31m-\u001b[0m\u001b[0m change_feed_retention_in_days = 0 \u001b[90m-> null\u001b[0m\u001b[0m\n",
      "          \u001b[31m-\u001b[0m\u001b[0m last_access_time_enabled      = false \u001b[90m-> null\u001b[0m\u001b[0m\n",
      "          \u001b[31m-\u001b[0m\u001b[0m versioning_enabled            = false \u001b[90m-> null\u001b[0m\u001b[0m\n",
      "        }\n",
      "\n",
      "      \u001b[31m-\u001b[0m\u001b[0m network_rules {\n",
      "          \u001b[31m-\u001b[0m\u001b[0m bypass                     = [\n",
      "              \u001b[31m-\u001b[0m\u001b[0m \"AzureServices\",\n",
      "            ] \u001b[90m-> null\u001b[0m\u001b[0m\n",
      "          \u001b[31m-\u001b[0m\u001b[0m default_action             = \"Allow\" \u001b[90m-> null\u001b[0m\u001b[0m\n",
      "          \u001b[31m-\u001b[0m\u001b[0m ip_rules                   = [] \u001b[90m-> null\u001b[0m\u001b[0m\n",
      "          \u001b[31m-\u001b[0m\u001b[0m virtual_network_subnet_ids = [] \u001b[90m-> null\u001b[0m\u001b[0m\n",
      "        }\n",
      "\n",
      "      \u001b[31m-\u001b[0m\u001b[0m queue_properties {\n",
      "          \u001b[31m-\u001b[0m\u001b[0m hour_metrics {\n",
      "              \u001b[31m-\u001b[0m\u001b[0m enabled               = true \u001b[90m-> null\u001b[0m\u001b[0m\n",
      "              \u001b[31m-\u001b[0m\u001b[0m include_apis          = true \u001b[90m-> null\u001b[0m\u001b[0m\n",
      "              \u001b[31m-\u001b[0m\u001b[0m retention_policy_days = 7 \u001b[90m-> null\u001b[0m\u001b[0m\n",
      "              \u001b[31m-\u001b[0m\u001b[0m version               = \"1.0\" \u001b[90m-> null\u001b[0m\u001b[0m\n",
      "            }\n",
      "          \u001b[31m-\u001b[0m\u001b[0m logging {\n",
      "              \u001b[31m-\u001b[0m\u001b[0m delete                = false \u001b[90m-> null\u001b[0m\u001b[0m\n",
      "              \u001b[31m-\u001b[0m\u001b[0m read                  = false \u001b[90m-> null\u001b[0m\u001b[0m\n",
      "              \u001b[31m-\u001b[0m\u001b[0m retention_policy_days = 0 \u001b[90m-> null\u001b[0m\u001b[0m\n",
      "              \u001b[31m-\u001b[0m\u001b[0m version               = \"1.0\" \u001b[90m-> null\u001b[0m\u001b[0m\n",
      "              \u001b[31m-\u001b[0m\u001b[0m write                 = false \u001b[90m-> null\u001b[0m\u001b[0m\n",
      "            }\n",
      "          \u001b[31m-\u001b[0m\u001b[0m minute_metrics {\n",
      "              \u001b[31m-\u001b[0m\u001b[0m enabled               = false \u001b[90m-> null\u001b[0m\u001b[0m\n",
      "              \u001b[31m-\u001b[0m\u001b[0m include_apis          = false \u001b[90m-> null\u001b[0m\u001b[0m\n",
      "              \u001b[31m-\u001b[0m\u001b[0m retention_policy_days = 0 \u001b[90m-> null\u001b[0m\u001b[0m\n",
      "              \u001b[31m-\u001b[0m\u001b[0m version               = \"1.0\" \u001b[90m-> null\u001b[0m\u001b[0m\n",
      "            }\n",
      "        }\n",
      "\n",
      "      \u001b[31m-\u001b[0m\u001b[0m share_properties {\n",
      "          \u001b[31m-\u001b[0m\u001b[0m retention_policy {\n",
      "              \u001b[31m-\u001b[0m\u001b[0m days = 7 \u001b[90m-> null\u001b[0m\u001b[0m\n",
      "            }\n",
      "        }\n",
      "    }\n",
      "\n",
      "\u001b[1m  # azurerm_storage_container.main\u001b[0m will be \u001b[1m\u001b[31mdestroyed\u001b[0m\n",
      "\u001b[0m  \u001b[31m-\u001b[0m\u001b[0m resource \"azurerm_storage_container\" \"main\" {\n",
      "      \u001b[31m-\u001b[0m\u001b[0m container_access_type   = \"private\" \u001b[90m-> null\u001b[0m\u001b[0m\n",
      "      \u001b[31m-\u001b[0m\u001b[0m has_immutability_policy = false \u001b[90m-> null\u001b[0m\u001b[0m\n",
      "      \u001b[31m-\u001b[0m\u001b[0m has_legal_hold          = false \u001b[90m-> null\u001b[0m\u001b[0m\n",
      "      \u001b[31m-\u001b[0m\u001b[0m id                      = \"https://tsfn14g00.blob.core.windows.net/videos\" \u001b[90m-> null\u001b[0m\u001b[0m\n",
      "      \u001b[31m-\u001b[0m\u001b[0m metadata                = {} \u001b[90m-> null\u001b[0m\u001b[0m\n",
      "      \u001b[31m-\u001b[0m\u001b[0m name                    = \"videos\" \u001b[90m-> null\u001b[0m\u001b[0m\n",
      "      \u001b[31m-\u001b[0m\u001b[0m resource_manager_id     = \"/subscriptions/dc438970-aa32-41b3-8fe2-f587309a0208/resourceGroups/tsfn14g00/providers/Microsoft.Storage/storageAccounts/tsfn14g00/blobServices/default/containers/videos\" \u001b[90m-> null\u001b[0m\u001b[0m\n",
      "      \u001b[31m-\u001b[0m\u001b[0m storage_account_name    = \"tsfn14g00\" \u001b[90m-> null\u001b[0m\u001b[0m\n",
      "    }\n",
      "\n",
      "\u001b[1mPlan:\u001b[0m 0 to add, 0 to change, 4 to destroy.\n",
      "\u001b[0m\u001b[0m\u001b[1mazurerm_storage_container.main: Destroying... [id=https://tsfn14g00.blob.core.windows.net/videos]\u001b[0m\u001b[0m\n",
      "\u001b[0m\u001b[1mazurerm_container_registry.main: Destroying... [id=/subscriptions/dc438970-aa32-41b3-8fe2-f587309a0208/resourceGroups/tsfn14g00/providers/Microsoft.ContainerRegistry/registries/tsfn14g00]\u001b[0m\u001b[0m\n",
      "\u001b[0m\u001b[1mazurerm_storage_container.main: Destruction complete after 1s\u001b[0m\n",
      "\u001b[0m\u001b[1mazurerm_storage_account.main: Destroying... [id=/subscriptions/dc438970-aa32-41b3-8fe2-f587309a0208/resourceGroups/tsfn14g00/providers/Microsoft.Storage/storageAccounts/tsfn14g00]\u001b[0m\u001b[0m\n",
      "\u001b[0m\u001b[1mazurerm_storage_account.main: Destruction complete after 3s\u001b[0m\n",
      "\u001b[0m\u001b[1mazurerm_container_registry.main: Still destroying... [id=/subscriptions/dc438970-aa32-41b3-8fe2-...ContainerRegistry/registries/tsfn14g00, 10s elapsed]\u001b[0m\u001b[0m\n",
      "\u001b[0m\u001b[1mazurerm_container_registry.main: Destruction complete after 14s\u001b[0m\n",
      "\u001b[0m\u001b[1mazurerm_resource_group.main: Destroying... [id=/subscriptions/dc438970-aa32-41b3-8fe2-f587309a0208/resourceGroups/tsfn14g00]\u001b[0m\u001b[0m\n",
      "\u001b[0m\u001b[1mazurerm_resource_group.main: Still destroying... [id=/subscriptions/dc438970-aa32-41b3-8fe2-f587309a0208/resourceGroups/tsfn14g00, 10s elapsed]\u001b[0m\u001b[0m\n",
      "\u001b[0m\u001b[1mazurerm_resource_group.main: Destruction complete after 16s\u001b[0m\n",
      "\u001b[0m\u001b[1m\u001b[32m\n",
      "Destroy complete! Resources: 4 destroyed.\n",
      "\u001b[0m"
     ]
    }
   ],
   "source": [
    "!terraform destroy -auto-approve"
   ]
  },
  {
   "cell_type": "markdown",
   "metadata": {},
   "source": [
    "## List Azure Container Registries\n",
    "\n",
    "- The Azure CLI command `az acr list -o table` lists all Container Registries in Azure.\n",
    "- We see that the Container Registry defined in the Terraform project has been destroyed."
   ]
  },
  {
   "cell_type": "code",
   "execution_count": 52,
   "metadata": {
    "vscode": {
     "languageId": "shellscript"
    }
   },
   "outputs": [
    {
     "name": "stdout",
     "output_type": "stream",
     "text": [
      "\n"
     ]
    }
   ],
   "source": [
    "!az acr list -o table"
   ]
  },
  {
   "cell_type": "markdown",
   "metadata": {},
   "source": [
    "## List Azure Storage Accounts\n",
    "\n",
    "- The Azure CLI command `az storage account list -o table` lists all Storage Accounts in Azure.\n",
    "- We see that the Storage Account defined in the Terraform project has been destroyed."
   ]
  },
  {
   "cell_type": "code",
   "execution_count": 53,
   "metadata": {
    "vscode": {
     "languageId": "shellscript"
    }
   },
   "outputs": [
    {
     "name": "stdout",
     "output_type": "stream",
     "text": [
      "\n"
     ]
    }
   ],
   "source": [
    "#!az storage account list --resource-group $RESOURCE_GROUP -o table\n",
    "!az storage account list -o table"
   ]
  },
  {
   "cell_type": "markdown",
   "metadata": {},
   "source": [
    "## List Azure Resource Groups\n",
    "\n",
    "- The Azure CLI command `az group list -o table` lists all Resource Groups in Azure.\n",
    "- We see that the Resource Group defined in the Terraform project has been destroyed."
   ]
  },
  {
   "cell_type": "code",
   "execution_count": 54,
   "metadata": {
    "vscode": {
     "languageId": "shellscript"
    }
   },
   "outputs": [
    {
     "name": "stdout",
     "output_type": "stream",
     "text": [
      "\n"
     ]
    }
   ],
   "source": [
    "!az group list -o table"
   ]
  },
  {
   "cell_type": "code",
   "execution_count": null,
   "metadata": {
    "vscode": {
     "languageId": "shellscript"
    }
   },
   "outputs": [],
   "source": []
  }
 ],
 "metadata": {
  "kernelspec": {
   "display_name": "Python 3",
   "language": "python",
   "name": "python3"
  },
  "language_info": {
   "codemirror_mode": {
    "name": "ipython",
    "version": 3
   },
   "file_extension": ".py",
   "mimetype": "text/x-python",
   "name": "python",
   "nbconvert_exporter": "python",
   "pygments_lexer": "ipython3",
   "version": "3.10.13"
  }
 },
 "nbformat": 4,
 "nbformat_minor": 2
}
