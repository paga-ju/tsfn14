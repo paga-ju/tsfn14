{
 "cells": [
  {
   "cell_type": "markdown",
   "metadata": {},
   "source": [
    "# Terraform\n",
    "\n",
    "- Install:\n",
    "  - https://developer.hashicorp.com/terraform/install\n",
    "- Language:\n",
    "  - https://developer.hashicorp.com/terraform/language\n",
    "  - https://developer.hashicorp.com/terraform/language/providers\n",
    "- Providers\n",
    "  - https://registry.terraform.io/browse/providers\n",
    "  - https://registry.terraform.io/providers/hashicorp/azurerm/latest\n",
    "  - https://registry.terraform.io/providers/hashicorp/kubernetes/latest"
   ]
  },
  {
   "cell_type": "markdown",
   "metadata": {},
   "source": [
    "## Show Terraform version"
   ]
  },
  {
   "cell_type": "code",
   "execution_count": 1,
   "metadata": {
    "vscode": {
     "languageId": "shellscript"
    }
   },
   "outputs": [
    {
     "name": "stdout",
     "output_type": "stream",
     "text": [
      "Terraform v1.7.2\n",
      "on linux_amd64\n"
     ]
    }
   ],
   "source": [
    "!terraform --version"
   ]
  },
  {
   "cell_type": "markdown",
   "metadata": {},
   "source": [
    "## Show Terraform help\n",
    "\n",
    "- The command `terraform --help` shows help about terraform commands.\n",
    "- The command `terraform [Command] --help` shows additional help about a specific command, e.g. `terraform apply --help`."
   ]
  },
  {
   "cell_type": "code",
   "execution_count": 2,
   "metadata": {
    "vscode": {
     "languageId": "shellscript"
    }
   },
   "outputs": [
    {
     "name": "stdout",
     "output_type": "stream",
     "text": [
      "Usage: terraform [global options] <subcommand> [args]\n",
      "\n",
      "The available commands for execution are listed below.\n",
      "The primary workflow commands are given first, followed by\n",
      "less common or more advanced commands.\n",
      "\n",
      "Main commands:\n",
      "  init          Prepare your working directory for other commands\n",
      "  validate      Check whether the configuration is valid\n",
      "  plan          Show changes required by the current configuration\n",
      "  apply         Create or update infrastructure\n",
      "  destroy       Destroy previously-created infrastructure\n",
      "\n",
      "All other commands:\n",
      "  console       Try Terraform expressions at an interactive command prompt\n",
      "  fmt           Reformat your configuration in the standard style\n",
      "  force-unlock  Release a stuck lock on the current workspace\n",
      "  get           Install or upgrade remote Terraform modules\n",
      "  graph         Generate a Graphviz graph of the steps in an operation\n",
      "  import        Associate existing infrastructure with a Terraform resource\n",
      "  login         Obtain and save credentials for a remote host\n",
      "  logout        Remove locally-stored credentials for a remote host\n",
      "  metadata      Metadata related commands\n",
      "  output        Show output values from your root module\n",
      "  providers     Show the providers required for this configuration\n",
      "  refresh       Update the state to match remote systems\n",
      "  show          Show the current state or a saved plan\n",
      "  state         Advanced state management\n",
      "  taint         Mark a resource instance as not fully functional\n",
      "  test          Execute integration tests for Terraform modules\n",
      "  untaint       Remove the 'tainted' state from a resource instance\n",
      "  version       Show the current Terraform version\n",
      "  workspace     Workspace management\n",
      "\n",
      "Global options (use these before the subcommand, if any):\n",
      "  -chdir=DIR    Switch to a different working directory before executing the\n",
      "                given subcommand.\n",
      "  -help         Show this help output, or the help for a specified subcommand.\n",
      "  -version      An alias for the \"version\" subcommand.\n"
     ]
    }
   ],
   "source": [
    "!terraform --help"
   ]
  },
  {
   "cell_type": "markdown",
   "metadata": {},
   "source": [
    "## View  `providers.tf`\n",
    "\n",
    "- This file configures Terraform providers.\n",
    "- A provider can be seen as a plugin with support for defining resources for a specific provider.\n",
    "- In this case, only one provier is configured:\n",
    "  - The `azurerm` provider provides functionality for defining Azure resource."
   ]
  },
  {
   "cell_type": "code",
   "execution_count": 3,
   "metadata": {
    "vscode": {
     "languageId": "shellscript"
    }
   },
   "outputs": [
    {
     "name": "stdout",
     "output_type": "stream",
     "text": [
      "# Initialises Terraform providers and sets their version numbers.\n",
      "# Note:\n",
      "# 1) We require the provider \"hashicorp/azurerm\" version \"3.90.0\" (a specific Azure provider).\n",
      "# 2) We require the version of Terrafor to be \"1.7.2\".\n",
      "# 3) We are using the provider \"azurerm\" (with default features) that we required in (1).\n",
      "\n",
      "terraform {\n",
      "  required_providers {\n",
      "    azurerm = {\n",
      "      source  = \"hashicorp/azurerm\"\n",
      "      version = \"3.90.0\"\n",
      "    }\n",
      "  }\n",
      "\n",
      "  required_version = \"= 1.7.2\"\n",
      "}\n",
      "\n",
      "provider \"azurerm\" {\n",
      "  features {}\n",
      "}"
     ]
    }
   ],
   "source": [
    "# !type providers.tf # use this on Windows\n",
    "!cat providers.tf"
   ]
  },
  {
   "cell_type": "markdown",
   "metadata": {},
   "source": [
    "## Initialize Terraform\n",
    "\n",
    "- This will:\n",
    "  - Download the configured provider `azurerm` (in `providers.tf`) to the folder `.terraform`.\n",
    "  - Store version information about the provider `azurerm` in the file `.terraform.lock.hcl`."
   ]
  },
  {
   "cell_type": "code",
   "execution_count": 4,
   "metadata": {
    "vscode": {
     "languageId": "shellscript"
    }
   },
   "outputs": [
    {
     "name": "stdout",
     "output_type": "stream",
     "text": [
      "\n",
      "\u001b[0m\u001b[1mInitializing the backend...\u001b[0m\n",
      "\n",
      "\u001b[0m\u001b[1mInitializing provider plugins...\u001b[0m\n",
      "- Finding hashicorp/azurerm versions matching \"3.90.0\"...\n",
      "- Installing hashicorp/azurerm v3.90.0...\n",
      "- Installed hashicorp/azurerm v3.90.0 (signed by HashiCorp)\n",
      "\n",
      "Terraform has created a lock file \u001b[1m.terraform.lock.hcl\u001b[0m to record the provider\n",
      "selections it made above. Include this file in your version control repository\n",
      "so that Terraform can guarantee to make the same selections by default when\n",
      "you run \"terraform init\" in the future.\u001b[0m\n",
      "\n",
      "\u001b[0m\u001b[1m\u001b[32mTerraform has been successfully initialized!\u001b[0m\u001b[32m\u001b[0m\n",
      "\u001b[0m\u001b[32m\n",
      "You may now begin working with Terraform. Try running \"terraform plan\" to see\n",
      "any changes that are required for your infrastructure. All Terraform commands\n",
      "should now work.\n",
      "\n",
      "If you ever set or change modules or backend configuration for Terraform,\n",
      "rerun this command to reinitialize your working directory. If you forget, other\n",
      "commands will detect it and remind you to do so if necessary.\u001b[0m\n"
     ]
    }
   ],
   "source": [
    "#!rm -rf .terraform rm .terraform.lock.hcl terraform.tfstate terraform.tfstate.backup\n",
    "!terraform init"
   ]
  },
  {
   "cell_type": "markdown",
   "metadata": {},
   "source": [
    "## Terraform Fmt\n",
    "\n",
    "- This command formats `.tf` files in the current folder (e.g. correct indentation, etc.)."
   ]
  },
  {
   "cell_type": "code",
   "execution_count": 5,
   "metadata": {
    "vscode": {
     "languageId": "shellscript"
    }
   },
   "outputs": [],
   "source": [
    "!terraform fmt"
   ]
  },
  {
   "cell_type": "markdown",
   "metadata": {},
   "source": [
    "## View `variables.tf`\n",
    "\n",
    "- This file defines Terraform variables.\n",
    "- A variable is defined as a name-value pair.\n",
    "- In this case only two variables are defined.\n",
    "  - The variable with name `app_name` and value `tsfn14g00`.\n",
    "    - In this exercise, I'm using this variable to provide a name for an entire Azure application.\n",
    "  - The variable with name `location` and value `westeurope`.\n",
    "    - In this exercise, I'm using this variable to determine what Azure `zone/region` to use for storing my Azure resources.\n",
    "      - A `zone/region` relates to one of Microsoft's data centers (in this case one that is located in Western Europe).\n",
    "\n",
    "**Note**\n",
    "\n",
    "- Change the value of the `app_name` variable from `tsfn14g00` to something unique.\n",
    "  - This is required since it is used to defined URLs that have to be globally unique.\n",
    "  - The pattern I have used is:\n",
    "    - The course code `tsfn14`.\n",
    "    - Followed by a `g` for `group`.\n",
    "    - And finally a `number` representing a `group number` (in my case I am using group `00`)."
   ]
  },
  {
   "cell_type": "code",
   "execution_count": 6,
   "metadata": {
    "vscode": {
     "languageId": "shellscript"
    }
   },
   "outputs": [
    {
     "name": "stdout",
     "output_type": "stream",
     "text": [
      "# Sets global variables for this Terraform project.\n",
      "# Note:\n",
      "# - The block type is \"variable\" since we are defining a Terraform variable.\n",
      "# - \"app_name\" and \"location\" is the names of the Terraform variables.\n",
      "# - \"default\" is used to set the value for a Terraform variable.\n",
      "# - if \"default\" is omitted, Terraform will ask the user to input the value for the variable during \"terraform apply\".\n",
      "\n",
      "variable \"app_name\" {\n",
      "  default = \"tsfn14g00\"\n",
      "}\n",
      "\n",
      "variable \"location\" {\n",
      "  default = \"westeurope\"\n",
      "}"
     ]
    }
   ],
   "source": [
    "#!type variables.tf # use this on Windows\n",
    "!cat variables.tf"
   ]
  },
  {
   "cell_type": "markdown",
   "metadata": {},
   "source": [
    "## View `resource-group.tf`\n",
    "\n",
    "- This file defines an Azure `Resource Group`.\n",
    "  - A `Resource Group` is used as a `namespace` in which various resources can be logically organized.\n",
    "  - All resources contained in a `Resource Group` are destroyed when the `Resource Group` is destroyed.\n",
    "- A resouce is defined using:\n",
    "  - The keyword `resource`.\n",
    "  - Followed by a quoted string containing:\n",
    "    - The name of the provider (in this case `azurerm`).\n",
    "    - Followed by an underscore (`-`).\n",
    "    - Then the name of the provider's resource you want to use (in this case `resource_group` for an Azure Resource Group).\n",
    "  - The next quoted string gives this resource a unique name, used to identify it in this and other Terraform files (in this case `main`).\n",
    "  - Everything within brackets (`{ }`) then configures the resource with resource-specific name-value pairs.\n",
    "    - An Azure Resource Group needs a unqiue `name` and `location`.\n",
    "    - In this case, the variables defined in the file `variables.tf` are used to set these properties.\n",
    "      - You use a variable's value by preceeding the variable's name with the word `var` (then a dot `.` and the variable's name).\n",
    "- This file defines an Azure Resource Group\n",
    "  - With the `name` set to `tsfn14g00` (according to the current value of the variable `app_name` in the file `variables.tf`).\n",
    "  - And the `localtion` et to `westeurope` (according to the current value of the variable `location` in the file `variables.tf`)."
   ]
  },
  {
   "cell_type": "code",
   "execution_count": 7,
   "metadata": {
    "vscode": {
     "languageId": "shellscript"
    }
   },
   "outputs": [
    {
     "name": "stdout",
     "output_type": "stream",
     "text": [
      "# Creates a resource group in your Azure account.\n",
      "# Note:\n",
      "# - The block type is \"resource\" since we are defining a resource.\n",
      "# - The resource we are defining is \"azurerm_resource_group\" (an Azure Resource Group).\n",
      "# - \"main\" is the name used to identify the resource in Terraform as \"azurerm_resource_group.main\"\n",
      "# - \"name\" is the name of the resource group in Azure.\n",
      "# - \"location\" is the region in Azure (where the resource group metadata will be stored).\n",
      "# - Notice how the Terrform variables (defined in the file \"variables.tf\") are used:\n",
      "#   - \"var.app_name\" refers to the variable \"app_name\" and returns its associated value.\n",
      "#   - \"var.location\" refers to the variable \"location\" and returns its associated value.\n",
      "\n",
      "resource \"azurerm_resource_group\" \"main\" {\n",
      "  name     = var.app_name\n",
      "  location = var.location\n",
      "}"
     ]
    }
   ],
   "source": [
    "#!type resource-group.tf #use this on Windows\n",
    "!cat resource-group.tf"
   ]
  },
  {
   "cell_type": "markdown",
   "metadata": {
    "vscode": {
     "languageId": "shellscript"
    }
   },
   "source": [
    "## Terraform Plan\n",
    "\n",
    "- This will show Terraform's execution plan (without executing it) for all `.tf` files in the current directory.\n",
    "  - All Terraform files (`.tf`) in the current directory will be merged in memory by the Terraform CLI.\n",
    "  - Then Terraform calculates what changes need to be make to set up teh infrastructure (resources) defined in the files.\n",
    "  - Finally, Terraform produces an `executation plan` for setting up the infrastructure (on Azure in this case).\n",
    "    - The `executation plan` isn't executed at this time, it is only used to verify everything looks okey."
   ]
  },
  {
   "cell_type": "code",
   "execution_count": 8,
   "metadata": {
    "vscode": {
     "languageId": "shellscript"
    }
   },
   "outputs": [
    {
     "name": "stdout",
     "output_type": "stream",
     "text": [
      "\n",
      "Terraform used the selected providers to generate the following execution plan.\n",
      "Resource actions are indicated with the following symbols:\n",
      "  \u001b[32m+\u001b[0m create\u001b[0m\n",
      "\n",
      "Terraform will perform the following actions:\n",
      "\n",
      "\u001b[1m  # azurerm_resource_group.main\u001b[0m will be created\n",
      "\u001b[0m  \u001b[32m+\u001b[0m\u001b[0m resource \"azurerm_resource_group\" \"main\" {\n",
      "      \u001b[32m+\u001b[0m\u001b[0m id       = (known after apply)\n",
      "      \u001b[32m+\u001b[0m\u001b[0m location = \"westeurope\"\n",
      "      \u001b[32m+\u001b[0m\u001b[0m name     = \"tsfn14g00\"\n",
      "    }\n",
      "\n",
      "\u001b[1mPlan:\u001b[0m 1 to add, 0 to change, 0 to destroy.\n",
      "\u001b[0m\u001b[90m\n",
      "───────────────────────────────────────────────────────────────────────────────\u001b[0m\n",
      "\n",
      "Note: You didn't use the -out option to save this plan, so Terraform can't\n",
      "guarantee to take exactly these actions if you run \"terraform apply\" now.\n"
     ]
    }
   ],
   "source": [
    "!terraform plan"
   ]
  },
  {
   "cell_type": "markdown",
   "metadata": {},
   "source": [
    "## Terraform Apply\n",
    "\n",
    "- This will apply Terraform's execution plan for all `.tf` files in the current directory.\n",
    "- The current Terraform state will be stored in the files `terraform.tfstate` and `.terraform.lock.hcl`.\n",
    "  - Terraform uses these files to compare the current state of the infrastructure with the state in the Terraform files.\n",
    "    - This is how Terraform knows how to update existing infrastructure.\n",
    "\n",
    "### Note!\n",
    "\n",
    "The command `terraform apply` can be used:\n",
    "- Without `-auto-approve`\n",
    "  -  Terraform will ask for a confirmation (`yes` or `no`) before applying.\n",
    "- With `-auto-approve`\n",
    "  - Terrafowm will **not** ask for any confirmation before applying."
   ]
  },
  {
   "cell_type": "code",
   "execution_count": 9,
   "metadata": {
    "vscode": {
     "languageId": "shellscript"
    }
   },
   "outputs": [
    {
     "name": "stdout",
     "output_type": "stream",
     "text": [
      "\n",
      "Terraform used the selected providers to generate the following execution plan.\n",
      "Resource actions are indicated with the following symbols:\n",
      "  \u001b[32m+\u001b[0m create\u001b[0m\n",
      "\n",
      "Terraform will perform the following actions:\n",
      "\n",
      "\u001b[1m  # azurerm_resource_group.main\u001b[0m will be created\n",
      "\u001b[0m  \u001b[32m+\u001b[0m\u001b[0m resource \"azurerm_resource_group\" \"main\" {\n",
      "      \u001b[32m+\u001b[0m\u001b[0m id       = (known after apply)\n",
      "      \u001b[32m+\u001b[0m\u001b[0m location = \"westeurope\"\n",
      "      \u001b[32m+\u001b[0m\u001b[0m name     = \"tsfn14g00\"\n",
      "    }\n",
      "\n",
      "\u001b[1mPlan:\u001b[0m 1 to add, 0 to change, 0 to destroy.\n",
      "\u001b[0m\u001b[0m\u001b[1mazurerm_resource_group.main: Creating...\u001b[0m\u001b[0m\n",
      "\u001b[0m\u001b[1mazurerm_resource_group.main: Creation complete after 1s [id=/subscriptions/dc438970-aa32-41b3-8fe2-f587309a0208/resourceGroups/tsfn14g00]\u001b[0m\n",
      "\u001b[0m\u001b[1m\u001b[32m\n",
      "Apply complete! Resources: 1 added, 0 changed, 0 destroyed.\n",
      "\u001b[0m"
     ]
    }
   ],
   "source": [
    "#!terraform apply -auto-approve\n",
    "!terraform apply -auto-approve"
   ]
  },
  {
   "cell_type": "markdown",
   "metadata": {},
   "source": [
    "## List Azure Resource Groups\n",
    "\n",
    "- The command below can be used to list all resoure groups on Azure."
   ]
  },
  {
   "cell_type": "code",
   "execution_count": 10,
   "metadata": {
    "vscode": {
     "languageId": "shellscript"
    }
   },
   "outputs": [
    {
     "name": "stdout",
     "output_type": "stream",
     "text": [
      "Name       Location    Status\n",
      "---------  ----------  ---------\n",
      "tsfn14g00  westeurope  Succeeded\n"
     ]
    }
   ],
   "source": [
    "!az group list -o table"
   ]
  },
  {
   "cell_type": "markdown",
   "metadata": {},
   "source": [
    "## List Terraform state\n",
    "\n",
    "- This command will list all Terraform state (resources) contained in the file `terraform.state`."
   ]
  },
  {
   "cell_type": "code",
   "execution_count": 11,
   "metadata": {
    "vscode": {
     "languageId": "shellscript"
    }
   },
   "outputs": [
    {
     "name": "stdout",
     "output_type": "stream",
     "text": [
      "azurerm_resource_group.main\n"
     ]
    }
   ],
   "source": [
    "!terraform state list"
   ]
  },
  {
   "cell_type": "markdown",
   "metadata": {},
   "source": [
    "## Show Terraform state for `azurerm_resource_group.main`\n",
    "\n",
    "- This will show the definition for the Terraform's state `azurerm_resource_group.main` in the file `terraform.state`."
   ]
  },
  {
   "cell_type": "code",
   "execution_count": 12,
   "metadata": {
    "vscode": {
     "languageId": "shellscript"
    }
   },
   "outputs": [
    {
     "name": "stdout",
     "output_type": "stream",
     "text": [
      "# azurerm_resource_group.main:\n",
      "resource \"azurerm_resource_group\" \"main\" {\n",
      "    id       = \"/subscriptions/dc438970-aa32-41b3-8fe2-f587309a0208/resourceGroups/tsfn14g00\"\n",
      "    location = \"westeurope\"\n",
      "    name     = \"tsfn14g00\"\n",
      "}\n"
     ]
    }
   ],
   "source": [
    "!terraform state show azurerm_resource_group.main"
   ]
  },
  {
   "cell_type": "markdown",
   "metadata": {},
   "source": [
    "## Show all Terraform state\n",
    "\n",
    "- This will show the definition for all Terraform's state in the file `terraform.state`."
   ]
  },
  {
   "cell_type": "code",
   "execution_count": 13,
   "metadata": {
    "vscode": {
     "languageId": "shellscript"
    }
   },
   "outputs": [
    {
     "name": "stdout",
     "output_type": "stream",
     "text": [
      "# azurerm_resource_group.main:\n",
      "resource \"azurerm_resource_group\" \"main\" {\n",
      "    id       = \"/subscriptions/dc438970-aa32-41b3-8fe2-f587309a0208/resourceGroups/tsfn14g00\"\n",
      "    location = \"westeurope\"\n",
      "    name     = \"tsfn14g00\"\n",
      "}\n"
     ]
    }
   ],
   "source": [
    "!terraform show"
   ]
  },
  {
   "cell_type": "markdown",
   "metadata": {},
   "source": [
    "## Terraform Destroy\n",
    "\n",
    "- This command will:\n",
    "  - Destroy all resources (infrastructure) defined in the Terraform files-\n",
    "  - Backup the old Terraform state to the file `terraform.tfstate.backup`.\n",
    "  - Update the file `terraform.tfstate` with the new Terraform state.\n",
    "\n",
    "### Note!\n",
    "\n",
    "- The command can be executed:\n",
    "  - Without `-auto-approve`\n",
    "    -  Terraform will ask for a confirmation (`yes` or `no`) before destroying.\n",
    "  - With `-auto-approve`\n",
    "    - Terrafowm will **not** ask for any confirmation before destroying."
   ]
  },
  {
   "cell_type": "code",
   "execution_count": 14,
   "metadata": {
    "vscode": {
     "languageId": "shellscript"
    }
   },
   "outputs": [
    {
     "name": "stdout",
     "output_type": "stream",
     "text": [
      "\u001b[0m\u001b[1mazurerm_resource_group.main: Refreshing state... [id=/subscriptions/dc438970-aa32-41b3-8fe2-f587309a0208/resourceGroups/tsfn14g00]\u001b[0m\n",
      "\n",
      "Terraform used the selected providers to generate the following execution plan.\n",
      "Resource actions are indicated with the following symbols:\n",
      "  \u001b[31m-\u001b[0m destroy\u001b[0m\n",
      "\n",
      "Terraform will perform the following actions:\n",
      "\n",
      "\u001b[1m  # azurerm_resource_group.main\u001b[0m will be \u001b[1m\u001b[31mdestroyed\u001b[0m\n",
      "\u001b[0m  \u001b[31m-\u001b[0m\u001b[0m resource \"azurerm_resource_group\" \"main\" {\n",
      "      \u001b[31m-\u001b[0m\u001b[0m id       = \"/subscriptions/dc438970-aa32-41b3-8fe2-f587309a0208/resourceGroups/tsfn14g00\" \u001b[90m-> null\u001b[0m\u001b[0m\n",
      "      \u001b[31m-\u001b[0m\u001b[0m location = \"westeurope\" \u001b[90m-> null\u001b[0m\u001b[0m\n",
      "      \u001b[31m-\u001b[0m\u001b[0m name     = \"tsfn14g00\" \u001b[90m-> null\u001b[0m\u001b[0m\n",
      "      \u001b[31m-\u001b[0m\u001b[0m tags     = {} \u001b[90m-> null\u001b[0m\u001b[0m\n",
      "    }\n",
      "\n",
      "\u001b[1mPlan:\u001b[0m 0 to add, 0 to change, 1 to destroy.\n",
      "\u001b[0m\u001b[0m\u001b[1mazurerm_resource_group.main: Destroying... [id=/subscriptions/dc438970-aa32-41b3-8fe2-f587309a0208/resourceGroups/tsfn14g00]\u001b[0m\u001b[0m\n",
      "\u001b[0m\u001b[1mazurerm_resource_group.main: Still destroying... [id=/subscriptions/dc438970-aa32-41b3-8fe2-f587309a0208/resourceGroups/tsfn14g00, 10s elapsed]\u001b[0m\u001b[0m\n",
      "\u001b[0m\u001b[1mazurerm_resource_group.main: Destruction complete after 17s\u001b[0m\n",
      "\u001b[0m\u001b[1m\u001b[32m\n",
      "Destroy complete! Resources: 1 destroyed.\n",
      "\u001b[0m"
     ]
    }
   ],
   "source": [
    "!terraform destroy -auto-approve"
   ]
  },
  {
   "cell_type": "markdown",
   "metadata": {},
   "source": [
    "## List Azure Resource Groups\n",
    "\n",
    "- After running `terraform destroy`, there shouldn't be any Resource Groups in Azure."
   ]
  },
  {
   "cell_type": "code",
   "execution_count": 15,
   "metadata": {
    "vscode": {
     "languageId": "shellscript"
    }
   },
   "outputs": [
    {
     "name": "stdout",
     "output_type": "stream",
     "text": [
      "\n"
     ]
    }
   ],
   "source": [
    "!az group list -o table"
   ]
  },
  {
   "cell_type": "markdown",
   "metadata": {},
   "source": [
    "## Show all Terraform state\n",
    "\n",
    "- This will show the definition for all Terraform's state in the file `terraform.state`."
   ]
  },
  {
   "cell_type": "code",
   "execution_count": 16,
   "metadata": {
    "vscode": {
     "languageId": "shellscript"
    }
   },
   "outputs": [
    {
     "name": "stdout",
     "output_type": "stream",
     "text": [
      "The state file is empty. No resources are represented.\n"
     ]
    }
   ],
   "source": [
    "!terraform show"
   ]
  },
  {
   "cell_type": "code",
   "execution_count": null,
   "metadata": {
    "vscode": {
     "languageId": "shellscript"
    }
   },
   "outputs": [],
   "source": []
  }
 ],
 "metadata": {
  "kernelspec": {
   "display_name": "Python 3",
   "language": "python",
   "name": "python3"
  },
  "language_info": {
   "codemirror_mode": {
    "name": "ipython",
    "version": 3
   },
   "file_extension": ".py",
   "mimetype": "text/x-python",
   "name": "python",
   "nbconvert_exporter": "python",
   "pygments_lexer": "ipython3",
   "version": "3.10.13"
  }
 },
 "nbformat": 4,
 "nbformat_minor": 2
}
