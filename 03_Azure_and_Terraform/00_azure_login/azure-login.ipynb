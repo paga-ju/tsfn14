{
 "cells": [
  {
   "cell_type": "markdown",
   "metadata": {},
   "source": [
    "## Login to Azure\n",
    "\n",
    "- Before you can communicate with Azure via the Azure CLI (Command Line Interface) tool, you have to login to Azure.\n",
    "- This is done by using the command `az login` which will open your default web browser with further instructions.\n",
    "- Once logged in, you can close your web browser and use the Azure CLI to communicate with Azure.\n"
   ]
  },
  {
   "cell_type": "code",
   "execution_count": 1,
   "metadata": {
    "vscode": {
     "languageId": "shellscript"
    }
   },
   "outputs": [
    {
     "name": "stdout",
     "output_type": "stream",
     "text": [
      "\u001b[93mA web browser has been opened at https://login.microsoftonline.com/organizations/oauth2/v2.0/authorize. Please continue the login in the web browser. If no web browser is available or if the web browser fails to open, use device code flow with `az login --use-device-code`.\u001b[0m\n",
      "\u001b[93mThe following tenants don't contain accessible subscriptions. Use 'az login --allow-no-subscriptions' to have tenant level access.\u001b[0m\n",
      "\u001b[93me67b7062-be5f-4baf-b0bd-3f61695a1c9d 'Science Park Jönköping AB'\u001b[0m\n"
     ]
    }
   ],
   "source": [
    "#!az login\n",
    "!az login -o none\n",
    "#!az account list -o table\n",
    "#!az account show -o table\n",
    "#!az account set --subscription='Azure for Students' -o table"
   ]
  },
  {
   "cell_type": "markdown",
   "metadata": {},
   "source": [
    "## Show Azure CLI version"
   ]
  },
  {
   "cell_type": "code",
   "execution_count": 2,
   "metadata": {
    "vscode": {
     "languageId": "shellscript"
    }
   },
   "outputs": [
    {
     "name": "stdout",
     "output_type": "stream",
     "text": [
      "azure-cli                         2.56.0 *\n",
      "\n",
      "core                              2.56.0 *\n",
      "telemetry                          1.1.0\n",
      "\n",
      "Dependencies:\n",
      "msal                            1.24.0b2\n",
      "azure-mgmt-resource             23.1.0b2\n",
      "\n",
      "Python location '/opt/az/bin/python3'\n",
      "Extensions directory '/home/patrick/.azure/cliextensions'\n",
      "\n",
      "Python (Linux) 3.11.5 (main, Jan  8 2024, 09:08:51) [GCC 9.4.0]\n",
      "\n",
      "Legal docs and information: aka.ms/AzureCliLegal\n",
      "\n",
      "\n",
      "\u001b[93mYou have 2 update(s) available. Consider updating your CLI installation with 'az upgrade'\u001b[0m\n"
     ]
    }
   ],
   "source": [
    "!az --version"
   ]
  },
  {
   "cell_type": "markdown",
   "metadata": {},
   "source": [
    "## Show Azure CLI Help\n",
    "\n",
    "- The command `az --help` shows a list of available Azure CLI commands.\n",
    "- The command `az [command] --help` returns help for a specific command , e.g. `az account --help`.\n",
    "- You can also find additional information using the Azure CLI documentation: https://learn.microsoft.com/en-us/cli/azure"
   ]
  },
  {
   "cell_type": "code",
   "execution_count": 3,
   "metadata": {},
   "outputs": [
    {
     "name": "stdout",
     "output_type": "stream",
     "text": [
      "\n",
      "Group\n",
      "    az\n",
      "\n",
      "Subgroups:\n",
      "    account               : Manage Azure subscription information.\n",
      "    acr                   : Manage private registries with Azure Container Registries.\n",
      "    ad                    : Manage Azure Active Directory Graph entities needed for Role Based\n",
      "                            Access Control.\n",
      "    advisor               : Manage Azure Advisor.\n",
      "    afd         \u001b[36m[Preview]\u001b[0m : Manage Azure Front Door Standard/Premium.\n",
      "    aks                   : Manage Azure Kubernetes Services.\n",
      "    ams                   : Manage Azure Media Services resources.\n",
      "    apim                  : Manage Azure API Management services.\n",
      "    appconfig             : Manage App Configurations.\n",
      "    appservice            : Manage App Service plans.\n",
      "    aro                   : Manage Azure Red Hat OpenShift clusters.\n",
      "    backup                : Manage Azure Backups.\n",
      "    batch                 : Manage Azure Batch.\n",
      "    bicep                 : Bicep CLI command group.\n",
      "    billing               : Manage Azure Billing.\n",
      "    bot                   : Manage Microsoft Azure Bot Service.\n",
      "    cache                 : Commands to manage CLI objects cached using the `--defer` argument.\n",
      "    capacity              : Manage capacity.\n",
      "    cdn                   : Manage Azure Content Delivery Networks (CDNs).\n",
      "    cloud                 : Manage registered Azure clouds.\n",
      "    cognitiveservices     : Manage Azure Cognitive Services accounts.\n",
      "    config \u001b[36m[Experimental]\u001b[0m : Manage Azure CLI configuration.\n",
      "    connection            : Commands to manage Service Connector local connections which allow local\n",
      "                            environment to connect Azure Resource. If you want to manage connection\n",
      "                            for compute service, please run 'az webapp/containerapp/spring\n",
      "                            connection'.\n",
      "    consumption \u001b[36m[Preview]\u001b[0m : Manage consumption of Azure resources.\n",
      "    container             : Manage Azure Container Instances.\n",
      "    containerapp          : Manage Azure Container Apps.\n",
      "    cosmosdb              : Manage Azure Cosmos DB database accounts.\n",
      "    databoxedge \u001b[36m[Preview]\u001b[0m : Support data box edge device and management.\n",
      "    deployment            : Manage Azure Resource Manager template deployment at subscription scope.\n",
      "    deployment-scripts    : Manage deployment scripts at subscription or resource group scope.\n",
      "    disk                  : Manage Azure Managed Disks.\n",
      "    disk-access           : Manage disk access resources.\n",
      "    disk-encryption-set   : Disk Encryption Set resource.\n",
      "    dla         \u001b[36m[Preview]\u001b[0m : Manage Data Lake Analytics accounts, jobs, and catalogs.\n",
      "    dls         \u001b[36m[Preview]\u001b[0m : Manage Data Lake Store accounts and filesystems.\n",
      "    dms                   : Manage Azure Data Migration Service (classic) instances.\n",
      "    eventgrid             : Manage Azure Event Grid topics, domains, domain topics, system topics\n",
      "                            partner topics, event subscriptions, system topic event subscriptions\n",
      "                            and partner topic event subscriptions.\n",
      "    eventhubs             : Eventhubs.\n",
      "    extension             : Manage and update CLI extensions.\n",
      "    feature               : Manage resource provider features.\n",
      "    functionapp           : Manage function apps. To install the Azure Functions Core tools see\n",
      "                            https://github.com/Azure/azure-functions-core-tools.\n",
      "    group                 : Manage resource groups and template deployments.\n",
      "    hdinsight             : Manage HDInsight resources.\n",
      "    identity              : Managed Identities.\n",
      "    image                 : Manage custom virtual machine images.\n",
      "    iot                   : Manage Internet of Things (IoT) assets.\n",
      "    keyvault              : Manage KeyVault keys, secrets, and certificates.\n",
      "    kusto                 : Manage Azure Kusto resources.\n",
      "    lab         \u001b[36m[Preview]\u001b[0m : Manage Azure DevTest Labs.\n",
      "    lock                  : Manage Azure locks.\n",
      "    logicapp              : Manage logic apps.\n",
      "    managed-cassandra     : Azure Managed Cassandra.\n",
      "    managedapp            : Manage template solutions provided and maintained by Independent\n",
      "                            Software Vendors (ISVs).\n",
      "    managedservices       : Manage the registration assignments and definitions in Azure.\n",
      "    maps                  : Manage Azure Maps.\n",
      "    mariadb               : Manage Azure Database for MariaDB servers.\n",
      "    monitor               : Manage the Azure Monitor Service.\n",
      "    mysql                 : Manage Azure Database for MySQL servers.\n",
      "    netappfiles           : Manage Azure NetApp Files (ANF) Resources.\n",
      "    network               : Manage Azure Network resources.\n",
      "    policy                : Manage resource policies.\n",
      "    postgres              : Manage Azure Database for PostgreSQL servers.\n",
      "    ppg                   : Manage Proximity Placement Groups.\n",
      "    private-link          : Private-link association CLI command group.\n",
      "    provider              : Manage resource providers.\n",
      "    redis                 : Manage dedicated Redis caches for your Azure applications.\n",
      "    relay                 : Manage Azure Relay Service namespaces, WCF relays, hybrid connections,\n",
      "                            and rules.\n",
      "    resource              : Manage Azure resources.\n",
      "    resourcemanagement    : Resourcemanagement CLI command group.\n",
      "    restore-point         : Manage restore point with res.\n",
      "    role                  : Manage user roles for access control with Azure Active Directory and\n",
      "                            service principals.\n",
      "    search                : Manage Azure Search services, admin keys and query keys.\n",
      "    security              : Manage your security posture with Microsoft Defender for Cloud.\n",
      "    servicebus            : Servicebus.\n",
      "    sf                    : Manage and administer Azure Service Fabric clusters.\n",
      "    sig                   : Manage shared image gallery.\n",
      "    signalr               : Manage Azure SignalR Service.\n",
      "    snapshot              : Manage point-in-time copies of managed disks, native blobs, or other\n",
      "                            snapshots.\n",
      "    sql                   : Manage Azure SQL Databases and Data Warehouses.\n",
      "    sshkey                : Manage ssh public key with vm.\n",
      "    stack                 : A deployment stack is a native Azure resource type that enables you to\n",
      "                            perform operations on a resource collection as an atomic unit.\n",
      "    staticwebapp          : Manage static apps.\n",
      "    storage               : Manage Azure Cloud Storage resources.\n",
      "    synapse               : Manage and operate Synapse Workspace, Spark Pool, SQL Pool.\n",
      "    tag                   : Tag Management on a resource.\n",
      "    term   \u001b[36m[Experimental]\u001b[0m : Manage marketplace agreement with marketplaceordering.\n",
      "    ts                    : Manage template specs at subscription or resource group scope.\n",
      "    vm                    : Manage Linux or Windows virtual machines.\n",
      "    vmss                  : Manage groupings of virtual machines in an Azure Virtual Machine Scale\n",
      "                            Set (VMSS).\n",
      "    webapp                : Manage web apps.\n",
      "\n",
      "Commands:\n",
      "    configure             : Manage Azure CLI configuration. This command is interactive.\n",
      "    feedback              : Send feedback to the Azure CLI Team.\n",
      "    find                  : I'm an AI robot, my advice is based on our Azure documentation as well\n",
      "                            as the usage patterns of Azure CLI and Azure ARM users. Using me\n",
      "                            improves Azure products and documentation.\n",
      "    interactive \u001b[36m[Preview]\u001b[0m : Start interactive mode. Installs the Interactive extension if\n",
      "                            not installed already.\n",
      "    login                 : Log in to Azure.\n",
      "    logout                : Log out to remove access to Azure subscriptions.\n",
      "    rest                  : Invoke a custom request.\n",
      "    survey                : Take Azure CLI survey.\n",
      "    upgrade     \u001b[36m[Preview]\u001b[0m : Upgrade Azure CLI and extensions.\n",
      "    version               : Show the versions of Azure CLI modules and extensions in JSON format by\n",
      "                            default or format configured by --output.\n",
      "\n",
      "To search AI knowledge base for examples, use: az find \"az \"\n",
      "\n"
     ]
    }
   ],
   "source": [
    "!az --help\n",
    "#!az account --help\n",
    "#!az account list --help"
   ]
  },
  {
   "cell_type": "markdown",
   "metadata": {},
   "source": [
    "## Azure CLI command output format\n",
    "\n",
    "- You can configure the output format for each Azure CLI command using the `--output [Format]` option, where `[Format]` is the desired format.\n",
    "- You can also use the abbreviated version `-o [Format]` instead of `--output [Format]`.\n",
    "- The default output format is `json`, which will be used if no output format is specified for a command:\n",
    "- Allowed values for `[Format]` are:\n",
    "  -  `json`       output is returned as a JSON string\n",
    "  -  `jsonc`      output is returned as a JSON string with color-coded values\n",
    "  -  `none`       no output (except for errors and warnings)\n",
    "  -  `table`      output is returned as an ASCII table of values\n",
    "  -  `tsv`        output is returned as tab-separated values\n",
    "  -  `yaml`       output is returned as a YAML document\n",
    "  -  `yamlc`      output is returned as a YAMLC document with color-coded values\n",
    "- The default output format is `json`, which will be used if no output format is explicitly specified for a command."
   ]
  },
  {
   "cell_type": "code",
   "execution_count": 4,
   "metadata": {},
   "outputs": [
    {
     "name": "stdout",
     "output_type": "stream",
     "text": [
      "Azure-cli    Azure-cli-core    Azure-cli-telemetry\n",
      "-----------  ----------------  ---------------------\n",
      "2.56.0       2.56.0            1.1.0\n"
     ]
    }
   ],
   "source": [
    "#!az version\n",
    "#!az version -o json\n",
    "#!az version -o jsonc\n",
    "#!az version -o none\n",
    "!az version -o table\n",
    "#!az version -o tsv\n",
    "#!az version -o yaml\n",
    "#!az version -o yamlc"
   ]
  },
  {
   "cell_type": "code",
   "execution_count": null,
   "metadata": {},
   "outputs": [],
   "source": []
  }
 ],
 "metadata": {
  "kernelspec": {
   "display_name": "Python 3",
   "language": "python",
   "name": "python3"
  },
  "language_info": {
   "codemirror_mode": {
    "name": "ipython",
    "version": 3
   },
   "file_extension": ".py",
   "mimetype": "text/x-python",
   "name": "python",
   "nbconvert_exporter": "python",
   "pygments_lexer": "ipython3",
   "version": "3.10.13"
  }
 },
 "nbformat": 4,
 "nbformat_minor": 2
}
