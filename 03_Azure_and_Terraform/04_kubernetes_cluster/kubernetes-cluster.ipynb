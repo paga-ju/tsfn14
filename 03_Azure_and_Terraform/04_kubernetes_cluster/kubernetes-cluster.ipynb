{
 "cells": [
  {
   "cell_type": "markdown",
   "metadata": {},
   "source": [
    "## Initialize Terraform"
   ]
  },
  {
   "cell_type": "code",
   "execution_count": 1,
   "metadata": {
    "vscode": {
     "languageId": "shellscript"
    }
   },
   "outputs": [
    {
     "name": "stdout",
     "output_type": "stream",
     "text": [
      "\n",
      "\u001b[0m\u001b[1mInitializing the backend...\u001b[0m\n",
      "\n",
      "\u001b[0m\u001b[1mInitializing provider plugins...\u001b[0m\n",
      "- Finding hashicorp/azurerm versions matching \"3.90.0\"...\n",
      "- Installing hashicorp/azurerm v3.90.0...\n",
      "- Installed hashicorp/azurerm v3.90.0 (signed by HashiCorp)\n",
      "\n",
      "Terraform has created a lock file \u001b[1m.terraform.lock.hcl\u001b[0m to record the provider\n",
      "selections it made above. Include this file in your version control repository\n",
      "so that Terraform can guarantee to make the same selections by default when\n",
      "you run \"terraform init\" in the future.\u001b[0m\n",
      "\n",
      "\u001b[0m\u001b[1m\u001b[32mTerraform has been successfully initialized!\u001b[0m\u001b[32m\u001b[0m\n",
      "\u001b[0m\u001b[32m\n",
      "You may now begin working with Terraform. Try running \"terraform plan\" to see\n",
      "any changes that are required for your infrastructure. All Terraform commands\n",
      "should now work.\n",
      "\n",
      "If you ever set or change modules or backend configuration for Terraform,\n",
      "rerun this command to reinitialize your working directory. If you forget, other\n",
      "commands will detect it and remind you to do so if necessary.\u001b[0m\n"
     ]
    }
   ],
   "source": [
    "#rm -rf .terraform rm .terraform.lock.hcl terraform.tfstate terraform.tfstate.backup\n",
    "!terraform init"
   ]
  },
  {
   "cell_type": "markdown",
   "metadata": {},
   "source": [
    "## View `variables.tf`\n",
    "\n",
    "- Note that we have added a variable for the `kubernetes_version`."
   ]
  },
  {
   "cell_type": "code",
   "execution_count": 2,
   "metadata": {
    "vscode": {
     "languageId": "shellscript"
    }
   },
   "outputs": [
    {
     "name": "stdout",
     "output_type": "stream",
     "text": [
      "# Sets global variables for this Terraform project.\n",
      "# Note:\n",
      "# - The block type is \"variable\" since we are defining a Terraform variable.\n",
      "# - \"app_name\", \"location\" and \"kubernetes_version\" is the names of the Terraform variables.\n",
      "# - \"default\" is used to set the value for a Terraform variable.\n",
      "# - if \"default\" is omitted, Terraform will ask the user to input the value for the variable during \"terraform apply\".\n",
      "\n",
      "variable \"app_name\" {\n",
      "  default = \"tsfn14g00\"\n",
      "}\n",
      "\n",
      "variable \"location\" {\n",
      "  default = \"westeurope\"\n",
      "}\n",
      "\n",
      "variable \"kubernetes_version\" {\n",
      "  default = \"1.27.7\"\n",
      "}\n"
     ]
    }
   ],
   "source": [
    "#!type variables.tf #use this on Windows\n",
    "!cat variables.tf"
   ]
  },
  {
   "cell_type": "markdown",
   "metadata": {},
   "source": [
    "## View `resource-group.tf`"
   ]
  },
  {
   "cell_type": "code",
   "execution_count": 3,
   "metadata": {
    "vscode": {
     "languageId": "shellscript"
    }
   },
   "outputs": [
    {
     "name": "stdout",
     "output_type": "stream",
     "text": [
      "# Creates a resource group in your Azure account.\n",
      "\n",
      "resource \"azurerm_resource_group\" \"main\" {\n",
      "  name     = var.app_name\n",
      "  location = var.location\n",
      "}\n"
     ]
    }
   ],
   "source": [
    "#!type resource-group.tf #sue this on Windows\n",
    "!cat resource-group.tf"
   ]
  },
  {
   "cell_type": "markdown",
   "metadata": {},
   "source": [
    "## View `container-registry.tf`"
   ]
  },
  {
   "cell_type": "code",
   "execution_count": 4,
   "metadata": {
    "vscode": {
     "languageId": "shellscript"
    }
   },
   "outputs": [
    {
     "name": "stdout",
     "output_type": "stream",
     "text": [
      "# Creates a container registry in Azure (for Docker images).\n",
      "# Note!\n",
      "# - Resource \"azurerm_resource_group.main\" with a property \"name\" is defined in the file \"resource-group.tf\".\n",
      "# - The value for \"resource_group_name\" below is set using property \"name\" in resource \"azurerm_resource_group.main\":\n",
      "#   - resource_group_name = azurerm_resource_group.main.name\n",
      "# - \"name\" and \"location\" below are set from Terraform variables defined in the file \"variables.tf\".\n",
      "\n",
      "\n",
      "resource \"azurerm_container_registry\" \"main\" {\n",
      "  name                = var.app_name\n",
      "  resource_group_name = azurerm_resource_group.main.name\n",
      "  location            = var.location\n",
      "  admin_enabled       = true\n",
      "  sku                 = \"Basic\"\n",
      "}\n"
     ]
    }
   ],
   "source": [
    "!type container-registry.tf #use this on Windows\n",
    "!cat container-registry.tf"
   ]
  },
  {
   "cell_type": "markdown",
   "metadata": {},
   "source": [
    "## View `kubernetes-cluster.tf`"
   ]
  },
  {
   "cell_type": "code",
   "execution_count": 5,
   "metadata": {
    "vscode": {
     "languageId": "shellscript"
    }
   },
   "outputs": [
    {
     "name": "stdout",
     "output_type": "stream",
     "text": [
      "# Creates a managed Kubernetes cluster on Azure.\n",
      "# Note!\n",
      "# - Resource \"azurerm_resource_group.main\" with a property \"name\" is defined in the file \"resource-group.tf\".\n",
      "# - The value for \"resource_group_name\" below is set using property \"name\" in resource \"azurerm_resource_group.main\":\n",
      "#   - resource_group_name = azurerm_resource_group.main.name\n",
      "# - \"name\", \"location\" and \"kubernetes_version\" below are set from Terraform variables defined in the file \"variables.tf\".\n",
      "# Note 2!\n",
      "# - We also create a \"networkwatcher\" (in its own Resource Group).\n",
      "#   - This is required when a virtual network is created in Azure.\n",
      "#   - This is automatically created by Azure, but we explicitly create it here.\n",
      "#     - The only reason we do this explicitly is so Terraform Destroy will automatically delete it for us.\n",
      "\n",
      "resource \"azurerm_resource_group\" \"networkwatcher\" {\n",
      "  name     = \"NetworkWatcherRG\"\n",
      "  location = var.location\n",
      "}\n",
      "\n",
      "resource \"azurerm_network_watcher\" \"networkwatcher\" {\n",
      "  name                = \"NetworkWatcher_westeurope\"\n",
      "  location            = var.location\n",
      "  resource_group_name = azurerm_resource_group.networkwatcher.name\n",
      "}\n",
      "\n",
      "resource \"azurerm_kubernetes_cluster\" \"main\" {\n",
      "  name                = var.app_name\n",
      "  location            = var.location\n",
      "  resource_group_name = azurerm_resource_group.main.name\n",
      "  dns_prefix          = var.app_name\n",
      "  kubernetes_version  = var.kubernetes_version\n",
      "\n",
      "  default_node_pool {\n",
      "    name       = \"default\"\n",
      "    node_count = 1\n",
      "    vm_size    = \"Standard_B2s\"\n",
      "  }\n",
      "\n",
      "  # Instead of creating a service principle have the system figure this out.\n",
      "\n",
      "  identity {\n",
      "    type = \"SystemAssigned\"\n",
      "  }\n",
      "}\n",
      "\n",
      "# Attach the Container Registry to the Kubernetes Cluster.\n",
      "# See example here: https://registry.terraform.io/providers/hashicorp/azurerm/latest/docs/resources/container_registry#example-usage-attaching-a-container-registry-to-a-kubernetes-cluster\n",
      "# This ensures the Azure Kubernetes Cluster is allowed to pull images from the Azure Container Registry.\n",
      "\n",
      "resource \"azurerm_role_assignment\" \"main\" {\n",
      "  principal_id                     = azurerm_kubernetes_cluster.main.kubelet_identity[0].object_id\n",
      "  role_definition_name             = \"AcrPull\"\n",
      "  scope                            = azurerm_container_registry.main.id\n",
      "  skip_service_principal_aad_check = true\n",
      "}\n"
     ]
    }
   ],
   "source": [
    "#!type kubernetes-cluster.tf #use this on Windows\n",
    "!cat kubernetes-cluster.tf"
   ]
  },
  {
   "cell_type": "markdown",
   "metadata": {},
   "source": [
    "## Terraform Apply"
   ]
  },
  {
   "cell_type": "code",
   "execution_count": 6,
   "metadata": {
    "vscode": {
     "languageId": "shellscript"
    }
   },
   "outputs": [
    {
     "name": "stdout",
     "output_type": "stream",
     "text": [
      "\n",
      "Terraform used the selected providers to generate the following execution plan.\n",
      "Resource actions are indicated with the following symbols:\n",
      "  \u001b[32m+\u001b[0m create\u001b[0m\n",
      "\n",
      "Terraform will perform the following actions:\n",
      "\n",
      "\u001b[1m  # azurerm_container_registry.main\u001b[0m will be created\n",
      "\u001b[0m  \u001b[32m+\u001b[0m\u001b[0m resource \"azurerm_container_registry\" \"main\" {\n",
      "      \u001b[32m+\u001b[0m\u001b[0m admin_enabled                 = true\n",
      "      \u001b[32m+\u001b[0m\u001b[0m admin_password                = (sensitive value)\n",
      "      \u001b[32m+\u001b[0m\u001b[0m admin_username                = (known after apply)\n",
      "      \u001b[32m+\u001b[0m\u001b[0m encryption                    = (known after apply)\n",
      "      \u001b[32m+\u001b[0m\u001b[0m export_policy_enabled         = true\n",
      "      \u001b[32m+\u001b[0m\u001b[0m id                            = (known after apply)\n",
      "      \u001b[32m+\u001b[0m\u001b[0m location                      = \"westeurope\"\n",
      "      \u001b[32m+\u001b[0m\u001b[0m login_server                  = (known after apply)\n",
      "      \u001b[32m+\u001b[0m\u001b[0m name                          = \"tsfn14g00\"\n",
      "      \u001b[32m+\u001b[0m\u001b[0m network_rule_bypass_option    = \"AzureServices\"\n",
      "      \u001b[32m+\u001b[0m\u001b[0m network_rule_set              = (known after apply)\n",
      "      \u001b[32m+\u001b[0m\u001b[0m public_network_access_enabled = true\n",
      "      \u001b[32m+\u001b[0m\u001b[0m resource_group_name           = \"tsfn14g00\"\n",
      "      \u001b[32m+\u001b[0m\u001b[0m retention_policy              = (known after apply)\n",
      "      \u001b[32m+\u001b[0m\u001b[0m sku                           = \"Basic\"\n",
      "      \u001b[32m+\u001b[0m\u001b[0m trust_policy                  = (known after apply)\n",
      "      \u001b[32m+\u001b[0m\u001b[0m zone_redundancy_enabled       = false\n",
      "    }\n",
      "\n",
      "\u001b[1m  # azurerm_kubernetes_cluster.main\u001b[0m will be created\n",
      "\u001b[0m  \u001b[32m+\u001b[0m\u001b[0m resource \"azurerm_kubernetes_cluster\" \"main\" {\n",
      "      \u001b[32m+\u001b[0m\u001b[0m api_server_authorized_ip_ranges     = (known after apply)\n",
      "      \u001b[32m+\u001b[0m\u001b[0m dns_prefix                          = \"tsfn14g00\"\n",
      "      \u001b[32m+\u001b[0m\u001b[0m fqdn                                = (known after apply)\n",
      "      \u001b[32m+\u001b[0m\u001b[0m http_application_routing_zone_name  = (known after apply)\n",
      "      \u001b[32m+\u001b[0m\u001b[0m id                                  = (known after apply)\n",
      "      \u001b[32m+\u001b[0m\u001b[0m image_cleaner_enabled               = false\n",
      "      \u001b[32m+\u001b[0m\u001b[0m image_cleaner_interval_hours        = 48\n",
      "      \u001b[32m+\u001b[0m\u001b[0m kube_admin_config                   = (sensitive value)\n",
      "      \u001b[32m+\u001b[0m\u001b[0m kube_admin_config_raw               = (sensitive value)\n",
      "      \u001b[32m+\u001b[0m\u001b[0m kube_config                         = (sensitive value)\n",
      "      \u001b[32m+\u001b[0m\u001b[0m kube_config_raw                     = (sensitive value)\n",
      "      \u001b[32m+\u001b[0m\u001b[0m kubernetes_version                  = \"1.27.7\"\n",
      "      \u001b[32m+\u001b[0m\u001b[0m location                            = \"westeurope\"\n",
      "      \u001b[32m+\u001b[0m\u001b[0m name                                = \"tsfn14g00\"\n",
      "      \u001b[32m+\u001b[0m\u001b[0m node_resource_group                 = (known after apply)\n",
      "      \u001b[32m+\u001b[0m\u001b[0m node_resource_group_id              = (known after apply)\n",
      "      \u001b[32m+\u001b[0m\u001b[0m oidc_issuer_url                     = (known after apply)\n",
      "      \u001b[32m+\u001b[0m\u001b[0m portal_fqdn                         = (known after apply)\n",
      "      \u001b[32m+\u001b[0m\u001b[0m private_cluster_enabled             = false\n",
      "      \u001b[32m+\u001b[0m\u001b[0m private_cluster_public_fqdn_enabled = false\n",
      "      \u001b[32m+\u001b[0m\u001b[0m private_dns_zone_id                 = (known after apply)\n",
      "      \u001b[32m+\u001b[0m\u001b[0m private_fqdn                        = (known after apply)\n",
      "      \u001b[32m+\u001b[0m\u001b[0m public_network_access_enabled       = true\n",
      "      \u001b[32m+\u001b[0m\u001b[0m resource_group_name                 = \"tsfn14g00\"\n",
      "      \u001b[32m+\u001b[0m\u001b[0m role_based_access_control_enabled   = true\n",
      "      \u001b[32m+\u001b[0m\u001b[0m run_command_enabled                 = true\n",
      "      \u001b[32m+\u001b[0m\u001b[0m sku_tier                            = \"Free\"\n",
      "      \u001b[32m+\u001b[0m\u001b[0m support_plan                        = \"KubernetesOfficial\"\n",
      "      \u001b[32m+\u001b[0m\u001b[0m workload_identity_enabled           = false\n",
      "\n",
      "      \u001b[32m+\u001b[0m\u001b[0m default_node_pool {\n",
      "          \u001b[32m+\u001b[0m\u001b[0m kubelet_disk_type    = (known after apply)\n",
      "          \u001b[32m+\u001b[0m\u001b[0m max_pods             = (known after apply)\n",
      "          \u001b[32m+\u001b[0m\u001b[0m name                 = \"default\"\n",
      "          \u001b[32m+\u001b[0m\u001b[0m node_count           = 1\n",
      "          \u001b[32m+\u001b[0m\u001b[0m node_labels          = (known after apply)\n",
      "          \u001b[32m+\u001b[0m\u001b[0m orchestrator_version = (known after apply)\n",
      "          \u001b[32m+\u001b[0m\u001b[0m os_disk_size_gb      = (known after apply)\n",
      "          \u001b[32m+\u001b[0m\u001b[0m os_disk_type         = \"Managed\"\n",
      "          \u001b[32m+\u001b[0m\u001b[0m os_sku               = (known after apply)\n",
      "          \u001b[32m+\u001b[0m\u001b[0m scale_down_mode      = \"Delete\"\n",
      "          \u001b[32m+\u001b[0m\u001b[0m type                 = \"VirtualMachineScaleSets\"\n",
      "          \u001b[32m+\u001b[0m\u001b[0m ultra_ssd_enabled    = false\n",
      "          \u001b[32m+\u001b[0m\u001b[0m vm_size              = \"Standard_B2s\"\n",
      "          \u001b[32m+\u001b[0m\u001b[0m workload_runtime     = (known after apply)\n",
      "        }\n",
      "\n",
      "      \u001b[32m+\u001b[0m\u001b[0m identity {\n",
      "          \u001b[32m+\u001b[0m\u001b[0m principal_id = (known after apply)\n",
      "          \u001b[32m+\u001b[0m\u001b[0m tenant_id    = (known after apply)\n",
      "          \u001b[32m+\u001b[0m\u001b[0m type         = \"SystemAssigned\"\n",
      "        }\n",
      "    }\n",
      "\n",
      "\u001b[1m  # azurerm_network_watcher.networkwatcher\u001b[0m will be created\n",
      "\u001b[0m  \u001b[32m+\u001b[0m\u001b[0m resource \"azurerm_network_watcher\" \"networkwatcher\" {\n",
      "      \u001b[32m+\u001b[0m\u001b[0m id                  = (known after apply)\n",
      "      \u001b[32m+\u001b[0m\u001b[0m location            = \"westeurope\"\n",
      "      \u001b[32m+\u001b[0m\u001b[0m name                = \"NetworkWatcher_westeurope\"\n",
      "      \u001b[32m+\u001b[0m\u001b[0m resource_group_name = \"NetworkWatcherRG\"\n",
      "    }\n",
      "\n",
      "\u001b[1m  # azurerm_resource_group.main\u001b[0m will be created\n",
      "\u001b[0m  \u001b[32m+\u001b[0m\u001b[0m resource \"azurerm_resource_group\" \"main\" {\n",
      "      \u001b[32m+\u001b[0m\u001b[0m id       = (known after apply)\n",
      "      \u001b[32m+\u001b[0m\u001b[0m location = \"westeurope\"\n",
      "      \u001b[32m+\u001b[0m\u001b[0m name     = \"tsfn14g00\"\n",
      "    }\n",
      "\n",
      "\u001b[1m  # azurerm_resource_group.networkwatcher\u001b[0m will be created\n",
      "\u001b[0m  \u001b[32m+\u001b[0m\u001b[0m resource \"azurerm_resource_group\" \"networkwatcher\" {\n",
      "      \u001b[32m+\u001b[0m\u001b[0m id       = (known after apply)\n",
      "      \u001b[32m+\u001b[0m\u001b[0m location = \"westeurope\"\n",
      "      \u001b[32m+\u001b[0m\u001b[0m name     = \"NetworkWatcherRG\"\n",
      "    }\n",
      "\n",
      "\u001b[1m  # azurerm_role_assignment.main\u001b[0m will be created\n",
      "\u001b[0m  \u001b[32m+\u001b[0m\u001b[0m resource \"azurerm_role_assignment\" \"main\" {\n",
      "      \u001b[32m+\u001b[0m\u001b[0m id                               = (known after apply)\n",
      "      \u001b[32m+\u001b[0m\u001b[0m name                             = (known after apply)\n",
      "      \u001b[32m+\u001b[0m\u001b[0m principal_id                     = (known after apply)\n",
      "      \u001b[32m+\u001b[0m\u001b[0m principal_type                   = (known after apply)\n",
      "      \u001b[32m+\u001b[0m\u001b[0m role_definition_id               = (known after apply)\n",
      "      \u001b[32m+\u001b[0m\u001b[0m role_definition_name             = \"AcrPull\"\n",
      "      \u001b[32m+\u001b[0m\u001b[0m scope                            = (known after apply)\n",
      "      \u001b[32m+\u001b[0m\u001b[0m skip_service_principal_aad_check = true\n",
      "    }\n",
      "\n",
      "\u001b[1mPlan:\u001b[0m 6 to add, 0 to change, 0 to destroy.\n",
      "\u001b[0m\u001b[0m\u001b[1mazurerm_resource_group.main: Creating...\u001b[0m\u001b[0m\n",
      "\u001b[0m\u001b[1mazurerm_resource_group.networkwatcher: Creating...\u001b[0m\u001b[0m\n",
      "\u001b[0m\u001b[1mazurerm_resource_group.main: Creation complete after 1s [id=/subscriptions/dc438970-aa32-41b3-8fe2-f587309a0208/resourceGroups/tsfn14g00]\u001b[0m\n",
      "\u001b[0m\u001b[1mazurerm_container_registry.main: Creating...\u001b[0m\u001b[0m\n",
      "\u001b[0m\u001b[1mazurerm_kubernetes_cluster.main: Creating...\u001b[0m\u001b[0m\n",
      "\u001b[0m\u001b[1mazurerm_resource_group.networkwatcher: Creation complete after 2s [id=/subscriptions/dc438970-aa32-41b3-8fe2-f587309a0208/resourceGroups/NetworkWatcherRG]\u001b[0m\n",
      "\u001b[0m\u001b[1mazurerm_network_watcher.networkwatcher: Creating...\u001b[0m\u001b[0m\n",
      "\u001b[0m\u001b[1mazurerm_network_watcher.networkwatcher: Creation complete after 1s [id=/subscriptions/dc438970-aa32-41b3-8fe2-f587309a0208/resourceGroups/NetworkWatcherRG/providers/Microsoft.Network/networkWatchers/NetworkWatcher_westeurope]\u001b[0m\n",
      "\u001b[0m\u001b[1mazurerm_container_registry.main: Still creating... [10s elapsed]\u001b[0m\u001b[0m\n",
      "\u001b[0m\u001b[1mazurerm_kubernetes_cluster.main: Still creating... [10s elapsed]\u001b[0m\u001b[0m\n",
      "\u001b[0m\u001b[1mazurerm_container_registry.main: Still creating... [20s elapsed]\u001b[0m\u001b[0m\n",
      "\u001b[0m\u001b[1mazurerm_kubernetes_cluster.main: Still creating... [20s elapsed]\u001b[0m\u001b[0m\n",
      "\u001b[0m\u001b[1mazurerm_container_registry.main: Creation complete after 22s [id=/subscriptions/dc438970-aa32-41b3-8fe2-f587309a0208/resourceGroups/tsfn14g00/providers/Microsoft.ContainerRegistry/registries/tsfn14g00]\u001b[0m\n",
      "\u001b[0m\u001b[1mazurerm_kubernetes_cluster.main: Still creating... [30s elapsed]\u001b[0m\u001b[0m\n",
      "\u001b[0m\u001b[1mazurerm_kubernetes_cluster.main: Still creating... [40s elapsed]\u001b[0m\u001b[0m\n",
      "\u001b[0m\u001b[1mazurerm_kubernetes_cluster.main: Still creating... [50s elapsed]\u001b[0m\u001b[0m\n",
      "\u001b[0m\u001b[1mazurerm_kubernetes_cluster.main: Still creating... [1m0s elapsed]\u001b[0m\u001b[0m\n",
      "\u001b[0m\u001b[1mazurerm_kubernetes_cluster.main: Still creating... [1m10s elapsed]\u001b[0m\u001b[0m\n",
      "\u001b[0m\u001b[1mazurerm_kubernetes_cluster.main: Still creating... [1m20s elapsed]\u001b[0m\u001b[0m\n",
      "\u001b[0m\u001b[1mazurerm_kubernetes_cluster.main: Still creating... [1m30s elapsed]\u001b[0m\u001b[0m\n",
      "\u001b[0m\u001b[1mazurerm_kubernetes_cluster.main: Still creating... [1m40s elapsed]\u001b[0m\u001b[0m\n",
      "\u001b[0m\u001b[1mazurerm_kubernetes_cluster.main: Still creating... [1m50s elapsed]\u001b[0m\u001b[0m\n",
      "\u001b[0m\u001b[1mazurerm_kubernetes_cluster.main: Still creating... [2m0s elapsed]\u001b[0m\u001b[0m\n",
      "\u001b[0m\u001b[1mazurerm_kubernetes_cluster.main: Still creating... [2m10s elapsed]\u001b[0m\u001b[0m\n",
      "\u001b[0m\u001b[1mazurerm_kubernetes_cluster.main: Still creating... [2m20s elapsed]\u001b[0m\u001b[0m\n",
      "\u001b[0m\u001b[1mazurerm_kubernetes_cluster.main: Still creating... [2m30s elapsed]\u001b[0m\u001b[0m\n",
      "\u001b[0m\u001b[1mazurerm_kubernetes_cluster.main: Still creating... [2m40s elapsed]\u001b[0m\u001b[0m\n",
      "\u001b[0m\u001b[1mazurerm_kubernetes_cluster.main: Still creating... [2m50s elapsed]\u001b[0m\u001b[0m\n",
      "\u001b[0m\u001b[1mazurerm_kubernetes_cluster.main: Still creating... [3m0s elapsed]\u001b[0m\u001b[0m\n",
      "\u001b[0m\u001b[1mazurerm_kubernetes_cluster.main: Still creating... [3m10s elapsed]\u001b[0m\u001b[0m\n",
      "\u001b[0m\u001b[1mazurerm_kubernetes_cluster.main: Still creating... [3m20s elapsed]\u001b[0m\u001b[0m\n",
      "\u001b[0m\u001b[1mazurerm_kubernetes_cluster.main: Still creating... [3m30s elapsed]\u001b[0m\u001b[0m\n",
      "\u001b[0m\u001b[1mazurerm_kubernetes_cluster.main: Still creating... [3m40s elapsed]\u001b[0m\u001b[0m\n",
      "\u001b[0m\u001b[1mazurerm_kubernetes_cluster.main: Still creating... [3m50s elapsed]\u001b[0m\u001b[0m\n",
      "\u001b[0m\u001b[1mazurerm_kubernetes_cluster.main: Still creating... [4m0s elapsed]\u001b[0m\u001b[0m\n",
      "\u001b[0m\u001b[1mazurerm_kubernetes_cluster.main: Still creating... [4m10s elapsed]\u001b[0m\u001b[0m\n",
      "\u001b[0m\u001b[1mazurerm_kubernetes_cluster.main: Creation complete after 4m16s [id=/subscriptions/dc438970-aa32-41b3-8fe2-f587309a0208/resourceGroups/tsfn14g00/providers/Microsoft.ContainerService/managedClusters/tsfn14g00]\u001b[0m\n",
      "\u001b[0m\u001b[1mazurerm_role_assignment.main: Creating...\u001b[0m\u001b[0m\n",
      "\u001b[0m\u001b[1mazurerm_role_assignment.main: Still creating... [10s elapsed]\u001b[0m\u001b[0m\n",
      "\u001b[0m\u001b[1mazurerm_role_assignment.main: Still creating... [20s elapsed]\u001b[0m\u001b[0m\n",
      "\u001b[0m\u001b[1mazurerm_role_assignment.main: Creation complete after 26s [id=/subscriptions/dc438970-aa32-41b3-8fe2-f587309a0208/resourceGroups/tsfn14g00/providers/Microsoft.ContainerRegistry/registries/tsfn14g00/providers/Microsoft.Authorization/roleAssignments/37cc7bc5-6d11-47c4-b42d-2ef208803186]\u001b[0m\n",
      "\u001b[0m\u001b[1m\u001b[32m\n",
      "Apply complete! Resources: 6 added, 0 changed, 0 destroyed.\n",
      "\u001b[0m\n"
     ]
    }
   ],
   "source": [
    "!terraform apply -auto-approve"
   ]
  },
  {
   "cell_type": "markdown",
   "metadata": {},
   "source": [
    "## List Azure Resource Groups"
   ]
  },
  {
   "cell_type": "code",
   "execution_count": 7,
   "metadata": {
    "vscode": {
     "languageId": "shellscript"
    }
   },
   "outputs": [
    {
     "name": "stdout",
     "output_type": "stream",
     "text": [
      "Name                               Location    Status\n",
      "---------------------------------  ----------  ---------\n",
      "tsfn14g00                          westeurope  Succeeded\n",
      "NetworkWatcherRG                   westeurope  Succeeded\n",
      "MC_tsfn14g00_tsfn14g00_westeurope  westeurope  Succeeded\n"
     ]
    }
   ],
   "source": [
    "!az group list -o table"
   ]
  },
  {
   "cell_type": "markdown",
   "metadata": {},
   "source": [
    "## List Azure Container Registries"
   ]
  },
  {
   "cell_type": "code",
   "execution_count": 8,
   "metadata": {
    "vscode": {
     "languageId": "shellscript"
    }
   },
   "outputs": [
    {
     "name": "stdout",
     "output_type": "stream",
     "text": [
      "NAME       RESOURCE GROUP    LOCATION    SKU    LOGIN SERVER          CREATION DATE         ADMIN ENABLED\n",
      "---------  ----------------  ----------  -----  --------------------  --------------------  ---------------\n",
      "tsfn14g00  tsfn14g00         westeurope  Basic  tsfn14g00.azurecr.io  2024-02-02T20:30:14Z  True\n"
     ]
    }
   ],
   "source": [
    "!az acr list -o table"
   ]
  },
  {
   "cell_type": "markdown",
   "metadata": {},
   "source": [
    "## Build and Push a Docker Image to the Azure Container Registry\n",
    "\n",
    "- Note, this code has only been tested on Ubuntu."
   ]
  },
  {
   "cell_type": "code",
   "execution_count": 9,
   "metadata": {
    "vscode": {
     "languageId": "shellscript"
    }
   },
   "outputs": [
    {
     "name": "stdout",
     "output_type": "stream",
     "text": [
      "\n",
      "CONTAINER_REGISTRY_LOGIN_SERVER: tsfn14g00.azurecr.io\n",
      "CONTAINER_REGISTRY_USERNAME: tsfn14g00\n",
      "CONTAINER_REGISTRY_PASSWORD: Kk/oMsn+o932FSJ1XGa+Y90u3Tm5IGyREdYh/Nlij5+ACRA3fgko\n",
      "Wrote to /home/patrick/projects/tsfn14/04_Kubernetes_Cluster/video-streaming/package.json:\n",
      "\n",
      "{\n",
      "  \"name\": \"video-streaming\",\n",
      "  \"version\": \"1.0.0\",\n",
      "  \"description\": \"\",\n",
      "  \"main\": \"index.js\",\n",
      "  \"scripts\": {\n",
      "    \"test\": \"echo \\\"Error: no test specified\\\" && exit 1\"\n",
      "  },\n",
      "  \"keywords\": [],\n",
      "  \"author\": \"\",\n",
      "  \"license\": \"ISC\"\n",
      "}\n",
      "\n",
      "\n",
      "(\u001b[107;97m##################\u001b[0m) ⠇ reify:nodemon: \u001b[32;40mtiming\u001b[0m \u001b[35mreifyNode:node_modules/semver\u001b[0m Comp\u001b[0m\u001b[Km Comp\u001b[0m\u001b[K[?25h\u001b[?25l(\u001b[100;90m⠂⠂⠂⠂⠂⠂⠂⠂⠂⠂⠂⠂⠂⠂⠂⠂⠂⠂\u001b[0m) ⠦ idealTree:video-streaming: \u001b[7msill\u001b[0m \u001b[35midealTree\u001b[0m buildDeps\u001b[0m\u001b[K\u001b[K\u001b[?25h\n",
      "failed to fetch metadata: fork/exec /usr/local/lib/docker/cli-plugins/docker-buildx: no such file or directory\n",
      "\n",
      "DEPRECATED: The legacy builder is deprecated and will be removed in a future release.\n",
      "            Install the buildx component to build images with BuildKit:\n",
      "            https://docs.docker.com/go/buildx/\n",
      "\n",
      "sha256:dcc6cbb0f2c19849d5aae497dfb94b20ef525a61e640224bbf29de068fb0e74c\n",
      "The push refers to repository [tsfn14g00.azurecr.io/video-streaming]\n",
      "\n",
      "\u001b[1B9ba00520: Preparing \n",
      "\u001b[1B2e4ec127: Preparing \n",
      "\u001b[1B694d5cb6: Preparing \n",
      "\u001b[1B5bc99c33: Preparing \n",
      "\u001b[1Bd2d54330: Preparing \n",
      "\u001b[1Bb5a78515: Preparing \n",
      "\u001b[1B5af7f709: Preparing \n",
      "\u001b[1Bfe81adaa: Preparing \n",
      "\u001b[2B1: digest: sha256:e0c507cfb7e818621b145db949e04e6d70e63f7291d173332f459d27d9c02776 size: 2203\n",
      "\u001b[01;31m\u001b[KREPOSITORY\u001b[m\u001b[K                    TAG             IMAGE ID       CREATED         SIZE\n",
      "Result\n",
      "---------------\n",
      "video-streaming\n"
     ]
    }
   ],
   "source": [
    "# Get connection information to the Azure Container Registry\n",
    "export CONTAINER_REGISTRY_LOGIN_SERVER=$(az acr show -n tsfn14g00 --query loginServer | sed 's/^\"//;s/\"$//')\n",
    "export CONTAINER_REGISTRY_USERNAME=$(az acr credential show -n tsfn14g00 --query username | sed 's/^\"//;s/\"$//')\n",
    "export CONTAINER_REGISTRY_PASSWORD=$(az acr credential show -n tsfn14g00 --query passwords[0].value | sed 's/^\"//;s/\"$//')\n",
    "echo -e \"\\nCONTAINER_REGISTRY_LOGIN_SERVER: $CONTAINER_REGISTRY_LOGIN_SERVER\"\n",
    "echo -e \"CONTAINER_REGISTRY_USERNAME: $CONTAINER_REGISTRY_USERNAME\"\n",
    "echo -e \"CONTAINER_REGISTRY_PASSWORD: $CONTAINER_REGISTRY_PASSWORD\"\n",
    "\n",
    "# Login to the Azure COntainer Registry via Docker\n",
    "echo $CONTAINER_REGISTRY_PASSWORD | docker login $CONTAINER_REGISTRY_LOGIN_SERVER -u $CONTAINER_REGISTRY_USERNAME --password-stdin  > /dev/null 2>&1\n",
    "\n",
    "# Prepare Nodejs Application\n",
    "#rm -rf ./video-streaming/node_modules ./video-streaming/package.json ./video-streaming/package-lock.json\n",
    "cd ./video-streaming && \\\n",
    "npm init -y && \\\n",
    "npm pkg set 'main'='./src/index.js' && \\\n",
    "npm pkg set 'scripts.start'='node ./src/index.js' && \\\n",
    "npm pkg set 'scripts.start:dev'='nodemon ./src/index.js' && \\\n",
    "npm pkg delete 'scripts.test' && \\\n",
    "npm install --silent --save express@5.0.0-beta.1 && \\\n",
    "npm install --silent --save-dev nodemon@3.0.3 && \\\n",
    "cd ..\n",
    "\n",
    "# Build Docker image with Nodejs Application\n",
    "docker build -q -t $CONTAINER_REGISTRY_LOGIN_SERVER/video-streaming:1 -f ./video-streaming/Dockerfile ./video-streaming\n",
    "\n",
    "# Push Docker Image to Azure Container Registry\n",
    "docker push $CONTAINER_REGISTRY_LOGIN_SERVER/video-streaming:1\n",
    "\n",
    "# Clean up\n",
    "docker rmi $CONTAINER_REGISTRY_LOGIN_SERVER/video-streaming:1 > /dev/null 2>&1\n",
    "docker image list | grep -i -E 'REPOSITORY|video-streaming'\n",
    "\n",
    "# Logout from the Azure COntainer Registry via Docker\n",
    "docker logout $CONTAINER_REGISTRY_LOGIN_SERVER > /dev/null 2>&1\n",
    "\n",
    "# List Images in the Azure Container Registry\n",
    "az acr repository list -n tsfn14g00 --top 10 -o table"
   ]
  },
  {
   "cell_type": "markdown",
   "metadata": {},
   "source": [
    "## List Azure Kubernetes Services"
   ]
  },
  {
   "cell_type": "code",
   "execution_count": 10,
   "metadata": {
    "vscode": {
     "languageId": "shellscript"
    }
   },
   "outputs": [
    {
     "name": "stdout",
     "output_type": "stream",
     "text": [
      "Name       Location    ResourceGroup    KubernetesVersion    CurrentKubernetesVersion    ProvisioningState    Fqdn\n",
      "---------  ----------  ---------------  -------------------  --------------------------  -------------------  -------------------------------------------\n",
      "tsfn14g00  westeurope  tsfn14g00        1.27.7               1.27.7                      Succeeded            tsfn14g00-e5hcd6rd.hcp.westeurope.azmk8s.io\n"
     ]
    }
   ],
   "source": [
    "!az aks list -o table"
   ]
  },
  {
   "cell_type": "markdown",
   "metadata": {},
   "source": [
    "## Add Azure Kubernetes Cluster Info. to Local Kubectl Config File\n",
    "\n",
    "- `~/.kube/config`"
   ]
  },
  {
   "cell_type": "code",
   "execution_count": 11,
   "metadata": {
    "vscode": {
     "languageId": "shellscript"
    }
   },
   "outputs": [
    {
     "name": "stdout",
     "output_type": "stream",
     "text": [
      "\u001b[93mMerged \"tsfn14g00\" as current context in /home/patrick/.kube/config\u001b[0m\n"
     ]
    }
   ],
   "source": [
    "!az aks get-credentials --name tsfn14g00 --resource-group tsfn14g00\n",
    "\n",
    "# The command below attaches the Azure Kubernetes Cluster to the Azure Container Registry so that\n",
    "# the Azure Kubernetes Cluster can pull images from the Azure Container Registry, but we don't\n",
    "# have to do this explicitly here, since we do it in the Terraform file \"kubernetes-cluster.tf\".\n",
    "#az aks update -n tsfn14g00 -g tsfn14g00 --attach-acr tsfn14g00 -o table"
   ]
  },
  {
   "cell_type": "markdown",
   "metadata": {},
   "source": [
    "## Ensure the Kubectl Context is set to the Azure Kubernetes Cluster"
   ]
  },
  {
   "cell_type": "code",
   "execution_count": 12,
   "metadata": {
    "vscode": {
     "languageId": "shellscript"
    }
   },
   "outputs": [
    {
     "name": "stdout",
     "output_type": "stream",
     "text": [
      "CURRENT   NAME                          CLUSTER      AUTHINFO                          NAMESPACE\n",
      "          kubernetes-admin@kubernetes   kubernetes   kubernetes-admin                  \n",
      "          minikube                      minikube     minikube                          default\n",
      "*         tsfn14g00                     tsfn14g00    clusterUser_tsfn14g00_tsfn14g00   \n",
      "tsfn14g00\n"
     ]
    }
   ],
   "source": [
    "!kubectl config get-contexts\n",
    "#!kubectl config use-context tsfn14g00\n",
    "!kubectl config current-context\n",
    "#!kubectl config view"
   ]
  },
  {
   "cell_type": "markdown",
   "metadata": {},
   "source": [
    "## List Deployments, Pods and Services\n",
    "\n",
    "- Notice we have a ClusterIP Service to the Azure Kubernetes Cluster already defined before deploying any resources ourselves."
   ]
  },
  {
   "cell_type": "code",
   "execution_count": 13,
   "metadata": {
    "vscode": {
     "languageId": "shellscript"
    }
   },
   "outputs": [
    {
     "name": "stdout",
     "output_type": "stream",
     "text": [
      "No resources found in default namespace.\n",
      "No resources found in default namespace.\n",
      "NAME         TYPE        CLUSTER-IP   EXTERNAL-IP   PORT(S)   AGE\n",
      "kubernetes   ClusterIP   10.0.0.1     <none>        443/TCP   4m22s\n"
     ]
    }
   ],
   "source": [
    "!kubectl get deployment\n",
    "!kubectl get pods\n",
    "!kubectl get services"
   ]
  },
  {
   "cell_type": "markdown",
   "metadata": {},
   "source": [
    "## Apply Deployment to the Azure Kubernets Cluster"
   ]
  },
  {
   "cell_type": "code",
   "execution_count": 14,
   "metadata": {
    "vscode": {
     "languageId": "shellscript"
    }
   },
   "outputs": [
    {
     "name": "stdout",
     "output_type": "stream",
     "text": [
      "deployment.apps/video-streaming created\n",
      "service/video-streaming created\n"
     ]
    }
   ],
   "source": [
    "!kubectl apply -f manifests/deployment.yaml"
   ]
  },
  {
   "cell_type": "markdown",
   "metadata": {},
   "source": [
    "## List Deployments, Pods and Services\n",
    "\n",
    "- Note that we store the Load Balancer's Public IP in an environment variable so we can use it in the notebook\n",
    "  - `LOADBALANCER_PUBLIC_IP`\n",
    "- Note, this code has only been tested on Ubuntu."
   ]
  },
  {
   "cell_type": "code",
   "execution_count": 15,
   "metadata": {
    "vscode": {
     "languageId": "shellscript"
    }
   },
   "outputs": [
    {
     "name": "stdout",
     "output_type": "stream",
     "text": [
      "NAME              READY   UP-TO-DATE   AVAILABLE   AGE\n",
      "video-streaming   1/1     1            1           21s\n",
      "NAME                               READY   STATUS    RESTARTS   AGE\n",
      "video-streaming-864b6976bf-gptlh   1/1     Running   0          21s\n",
      "NAME              TYPE           CLUSTER-IP   EXTERNAL-IP   PORT(S)        AGE\n",
      "kubernetes        ClusterIP      10.0.0.1     <none>        443/TCP        6m27s\n",
      "video-streaming   LoadBalancer   10.0.18.62   20.86.199.6   80:30001/TCP   22s\n",
      "\n",
      "LOADBALANCER_PUBLIC_IP: 20.86.199.6\n"
     ]
    }
   ],
   "source": [
    "!kubectl get deployment\n",
    "!kubectl get pods\n",
    "!kubectl get services\n",
    "\n",
    "!export LOADBALANCER_PUBLIC_IP=$(kubectl get service video-streaming -o jsonpath='{.status.loadBalancer.ingress[0].ip}')\n",
    "!echo -e \"\\nLOADBALANCER_PUBLIC_IP: $LOADBALANCER_PUBLIC_IP\""
   ]
  },
  {
   "cell_type": "markdown",
   "metadata": {},
   "source": [
    "## Test the Application in the Kubernetes Cluster"
   ]
  },
  {
   "cell_type": "code",
   "execution_count": 16,
   "metadata": {
    "vscode": {
     "languageId": "shellscript"
    }
   },
   "outputs": [
    {
     "name": "stdout",
     "output_type": "stream",
     "text": [
      "[GFX1-]: glxtest: ManageChildProcess failed\n",
      "\n"
     ]
    }
   ],
   "source": [
    "!firefox http://$LOADBALANCER_PUBLIC_IP/video"
   ]
  },
  {
   "cell_type": "markdown",
   "metadata": {},
   "source": [
    "## Delete Deployment in the Azure Kubernets Cluster"
   ]
  },
  {
   "cell_type": "code",
   "execution_count": 17,
   "metadata": {
    "vscode": {
     "languageId": "shellscript"
    }
   },
   "outputs": [
    {
     "name": "stdout",
     "output_type": "stream",
     "text": [
      "deployment.apps \"video-streaming\" deleted\n",
      "service \"video-streaming\" deleted\n"
     ]
    }
   ],
   "source": [
    "!kubectl delete -f manifests/deployment.yaml"
   ]
  },
  {
   "cell_type": "markdown",
   "metadata": {},
   "source": [
    "## List Deployments, Pods and Services"
   ]
  },
  {
   "cell_type": "code",
   "execution_count": 18,
   "metadata": {
    "vscode": {
     "languageId": "shellscript"
    }
   },
   "outputs": [
    {
     "name": "stdout",
     "output_type": "stream",
     "text": [
      "No resources found in default namespace.\n",
      "No resources found in default namespace.\n",
      "NAME         TYPE        CLUSTER-IP   EXTERNAL-IP   PORT(S)   AGE\n",
      "kubernetes   ClusterIP   10.0.0.1     <none>        443/TCP   7m34s\n"
     ]
    }
   ],
   "source": [
    "!kubectl get deployment\n",
    "!kubectl get pods\n",
    "!kubectl get services"
   ]
  },
  {
   "cell_type": "markdown",
   "metadata": {},
   "source": [
    "## Ensure the Kubectl Context is set to the Minikube Cluster"
   ]
  },
  {
   "cell_type": "code",
   "execution_count": 19,
   "metadata": {
    "vscode": {
     "languageId": "shellscript"
    }
   },
   "outputs": [
    {
     "name": "stdout",
     "output_type": "stream",
     "text": [
      "Switched to context \"minikube\".\n",
      "minikube\n"
     ]
    }
   ],
   "source": [
    "!kubectl config use-context minikube\n",
    "!kubectl config current-context"
   ]
  },
  {
   "cell_type": "markdown",
   "metadata": {},
   "source": [
    "## Remove Azure Kubernetes Cluster Info. from Local Kubectl Config File\n",
    "\n",
    "- `~/.kube/config`"
   ]
  },
  {
   "cell_type": "code",
   "execution_count": 20,
   "metadata": {
    "vscode": {
     "languageId": "shellscript"
    }
   },
   "outputs": [
    {
     "name": "stdout",
     "output_type": "stream",
     "text": [
      "deleted cluster tsfn14g00 from /home/patrick/.kube/config\n",
      "deleted context tsfn14g00 from /home/patrick/.kube/config\n",
      "deleted user clusterUser_tsfn14g00_tsfn14g00 from /home/patrick/.kube/config\n"
     ]
    }
   ],
   "source": [
    "!kubectl config delete-cluster tsfn14g00\n",
    "!kubectl config delete-context tsfn14g00\n",
    "!kubectl config delete-user clusterUser_tsfn14g00_tsfn14g00\n",
    "#!kubectl config view"
   ]
  },
  {
   "cell_type": "markdown",
   "metadata": {},
   "source": [
    "## Terraform Destroy"
   ]
  },
  {
   "cell_type": "code",
   "execution_count": 21,
   "metadata": {
    "vscode": {
     "languageId": "shellscript"
    }
   },
   "outputs": [
    {
     "name": "stdout",
     "output_type": "stream",
     "text": [
      "\u001b[0m\u001b[1mazurerm_resource_group.networkwatcher: Refreshing state... [id=/subscriptions/dc438970-aa32-41b3-8fe2-f587309a0208/resourceGroups/NetworkWatcherRG]\u001b[0m\n",
      "\u001b[0m\u001b[1mazurerm_resource_group.main: Refreshing state... [id=/subscriptions/dc438970-aa32-41b3-8fe2-f587309a0208/resourceGroups/tsfn14g00]\u001b[0m\n",
      "\u001b[0m\u001b[1mazurerm_network_watcher.networkwatcher: Refreshing state... [id=/subscriptions/dc438970-aa32-41b3-8fe2-f587309a0208/resourceGroups/NetworkWatcherRG/providers/Microsoft.Network/networkWatchers/NetworkWatcher_westeurope]\u001b[0m\n",
      "\u001b[0m\u001b[1mazurerm_container_registry.main: Refreshing state... [id=/subscriptions/dc438970-aa32-41b3-8fe2-f587309a0208/resourceGroups/tsfn14g00/providers/Microsoft.ContainerRegistry/registries/tsfn14g00]\u001b[0m\n",
      "\u001b[0m\u001b[1mazurerm_kubernetes_cluster.main: Refreshing state... [id=/subscriptions/dc438970-aa32-41b3-8fe2-f587309a0208/resourceGroups/tsfn14g00/providers/Microsoft.ContainerService/managedClusters/tsfn14g00]\u001b[0m\n",
      "\u001b[0m\u001b[1mazurerm_role_assignment.main: Refreshing state... [id=/subscriptions/dc438970-aa32-41b3-8fe2-f587309a0208/resourceGroups/tsfn14g00/providers/Microsoft.ContainerRegistry/registries/tsfn14g00/providers/Microsoft.Authorization/roleAssignments/37cc7bc5-6d11-47c4-b42d-2ef208803186]\u001b[0m\n",
      "\n",
      "Terraform used the selected providers to generate the following execution plan.\n",
      "Resource actions are indicated with the following symbols:\n",
      "  \u001b[31m-\u001b[0m destroy\u001b[0m\n",
      "\n",
      "Terraform will perform the following actions:\n",
      "\n",
      "\u001b[1m  # azurerm_container_registry.main\u001b[0m will be \u001b[1m\u001b[31mdestroyed\u001b[0m\n",
      "\u001b[0m  \u001b[31m-\u001b[0m\u001b[0m resource \"azurerm_container_registry\" \"main\" {\n",
      "      \u001b[31m-\u001b[0m\u001b[0m admin_enabled                 = true \u001b[90m-> null\u001b[0m\u001b[0m\n",
      "      \u001b[31m-\u001b[0m\u001b[0m admin_password                = (sensitive value) \u001b[90m-> null\u001b[0m\u001b[0m\n",
      "      \u001b[31m-\u001b[0m\u001b[0m admin_username                = \"tsfn14g00\" \u001b[90m-> null\u001b[0m\u001b[0m\n",
      "      \u001b[31m-\u001b[0m\u001b[0m anonymous_pull_enabled        = false \u001b[90m-> null\u001b[0m\u001b[0m\n",
      "      \u001b[31m-\u001b[0m\u001b[0m data_endpoint_enabled         = false \u001b[90m-> null\u001b[0m\u001b[0m\n",
      "      \u001b[31m-\u001b[0m\u001b[0m encryption                    = [\n",
      "          \u001b[31m-\u001b[0m\u001b[0m {\n",
      "              \u001b[31m-\u001b[0m\u001b[0m enabled            = false\n",
      "              \u001b[31m-\u001b[0m\u001b[0m identity_client_id = \"\"\n",
      "              \u001b[31m-\u001b[0m\u001b[0m key_vault_key_id   = \"\"\n",
      "            },\n",
      "        ] \u001b[90m-> null\u001b[0m\u001b[0m\n",
      "      \u001b[31m-\u001b[0m\u001b[0m export_policy_enabled         = true \u001b[90m-> null\u001b[0m\u001b[0m\n",
      "      \u001b[31m-\u001b[0m\u001b[0m id                            = \"/subscriptions/dc438970-aa32-41b3-8fe2-f587309a0208/resourceGroups/tsfn14g00/providers/Microsoft.ContainerRegistry/registries/tsfn14g00\" \u001b[90m-> null\u001b[0m\u001b[0m\n",
      "      \u001b[31m-\u001b[0m\u001b[0m location                      = \"westeurope\" \u001b[90m-> null\u001b[0m\u001b[0m\n",
      "      \u001b[31m-\u001b[0m\u001b[0m login_server                  = \"tsfn14g00.azurecr.io\" \u001b[90m-> null\u001b[0m\u001b[0m\n",
      "      \u001b[31m-\u001b[0m\u001b[0m name                          = \"tsfn14g00\" \u001b[90m-> null\u001b[0m\u001b[0m\n",
      "      \u001b[31m-\u001b[0m\u001b[0m network_rule_bypass_option    = \"AzureServices\" \u001b[90m-> null\u001b[0m\u001b[0m\n",
      "      \u001b[31m-\u001b[0m\u001b[0m network_rule_set              = [] \u001b[90m-> null\u001b[0m\u001b[0m\n",
      "      \u001b[31m-\u001b[0m\u001b[0m public_network_access_enabled = true \u001b[90m-> null\u001b[0m\u001b[0m\n",
      "      \u001b[31m-\u001b[0m\u001b[0m quarantine_policy_enabled     = false \u001b[90m-> null\u001b[0m\u001b[0m\n",
      "      \u001b[31m-\u001b[0m\u001b[0m resource_group_name           = \"tsfn14g00\" \u001b[90m-> null\u001b[0m\u001b[0m\n",
      "      \u001b[31m-\u001b[0m\u001b[0m retention_policy              = [\n",
      "          \u001b[31m-\u001b[0m\u001b[0m {\n",
      "              \u001b[31m-\u001b[0m\u001b[0m days    = 7\n",
      "              \u001b[31m-\u001b[0m\u001b[0m enabled = false\n",
      "            },\n",
      "        ] \u001b[90m-> null\u001b[0m\u001b[0m\n",
      "      \u001b[31m-\u001b[0m\u001b[0m sku                           = \"Basic\" \u001b[90m-> null\u001b[0m\u001b[0m\n",
      "      \u001b[31m-\u001b[0m\u001b[0m tags                          = {} \u001b[90m-> null\u001b[0m\u001b[0m\n",
      "      \u001b[31m-\u001b[0m\u001b[0m trust_policy                  = [\n",
      "          \u001b[31m-\u001b[0m\u001b[0m {\n",
      "              \u001b[31m-\u001b[0m\u001b[0m enabled = false\n",
      "            },\n",
      "        ] \u001b[90m-> null\u001b[0m\u001b[0m\n",
      "      \u001b[31m-\u001b[0m\u001b[0m zone_redundancy_enabled       = false \u001b[90m-> null\u001b[0m\u001b[0m\n",
      "    }\n",
      "\n",
      "\u001b[1m  # azurerm_kubernetes_cluster.main\u001b[0m will be \u001b[1m\u001b[31mdestroyed\u001b[0m\n",
      "\u001b[0m  \u001b[31m-\u001b[0m\u001b[0m resource \"azurerm_kubernetes_cluster\" \"main\" {\n",
      "      \u001b[31m-\u001b[0m\u001b[0m api_server_authorized_ip_ranges     = [] \u001b[90m-> null\u001b[0m\u001b[0m\n",
      "      \u001b[31m-\u001b[0m\u001b[0m custom_ca_trust_certificates_base64 = [] \u001b[90m-> null\u001b[0m\u001b[0m\n",
      "      \u001b[31m-\u001b[0m\u001b[0m dns_prefix                          = \"tsfn14g00\" \u001b[90m-> null\u001b[0m\u001b[0m\n",
      "      \u001b[31m-\u001b[0m\u001b[0m enable_pod_security_policy          = false \u001b[90m-> null\u001b[0m\u001b[0m\n",
      "      \u001b[31m-\u001b[0m\u001b[0m fqdn                                = \"tsfn14g00-e5hcd6rd.hcp.westeurope.azmk8s.io\" \u001b[90m-> null\u001b[0m\u001b[0m\n",
      "      \u001b[31m-\u001b[0m\u001b[0m id                                  = \"/subscriptions/dc438970-aa32-41b3-8fe2-f587309a0208/resourceGroups/tsfn14g00/providers/Microsoft.ContainerService/managedClusters/tsfn14g00\" \u001b[90m-> null\u001b[0m\u001b[0m\n",
      "      \u001b[31m-\u001b[0m\u001b[0m image_cleaner_enabled               = false \u001b[90m-> null\u001b[0m\u001b[0m\n",
      "      \u001b[31m-\u001b[0m\u001b[0m image_cleaner_interval_hours        = 48 \u001b[90m-> null\u001b[0m\u001b[0m\n",
      "      \u001b[31m-\u001b[0m\u001b[0m kube_admin_config                   = (sensitive value) \u001b[90m-> null\u001b[0m\u001b[0m\n",
      "      \u001b[31m-\u001b[0m\u001b[0m kube_config                         = (sensitive value) \u001b[90m-> null\u001b[0m\u001b[0m\n",
      "      \u001b[31m-\u001b[0m\u001b[0m kube_config_raw                     = (sensitive value) \u001b[90m-> null\u001b[0m\u001b[0m\n",
      "      \u001b[31m-\u001b[0m\u001b[0m kubernetes_version                  = \"1.27.7\" \u001b[90m-> null\u001b[0m\u001b[0m\n",
      "      \u001b[31m-\u001b[0m\u001b[0m local_account_disabled              = false \u001b[90m-> null\u001b[0m\u001b[0m\n",
      "      \u001b[31m-\u001b[0m\u001b[0m location                            = \"westeurope\" \u001b[90m-> null\u001b[0m\u001b[0m\n",
      "      \u001b[31m-\u001b[0m\u001b[0m name                                = \"tsfn14g00\" \u001b[90m-> null\u001b[0m\u001b[0m\n",
      "      \u001b[31m-\u001b[0m\u001b[0m node_resource_group                 = \"MC_tsfn14g00_tsfn14g00_westeurope\" \u001b[90m-> null\u001b[0m\u001b[0m\n",
      "      \u001b[31m-\u001b[0m\u001b[0m node_resource_group_id              = \"/subscriptions/dc438970-aa32-41b3-8fe2-f587309a0208/resourceGroups/MC_tsfn14g00_tsfn14g00_westeurope\" \u001b[90m-> null\u001b[0m\u001b[0m\n",
      "      \u001b[31m-\u001b[0m\u001b[0m oidc_issuer_enabled                 = false \u001b[90m-> null\u001b[0m\u001b[0m\n",
      "      \u001b[31m-\u001b[0m\u001b[0m portal_fqdn                         = \"tsfn14g00-e5hcd6rd.portal.hcp.westeurope.azmk8s.io\" \u001b[90m-> null\u001b[0m\u001b[0m\n",
      "      \u001b[31m-\u001b[0m\u001b[0m private_cluster_enabled             = false \u001b[90m-> null\u001b[0m\u001b[0m\n",
      "      \u001b[31m-\u001b[0m\u001b[0m private_cluster_public_fqdn_enabled = false \u001b[90m-> null\u001b[0m\u001b[0m\n",
      "      \u001b[31m-\u001b[0m\u001b[0m public_network_access_enabled       = true \u001b[90m-> null\u001b[0m\u001b[0m\n",
      "      \u001b[31m-\u001b[0m\u001b[0m resource_group_name                 = \"tsfn14g00\" \u001b[90m-> null\u001b[0m\u001b[0m\n",
      "      \u001b[31m-\u001b[0m\u001b[0m role_based_access_control_enabled   = true \u001b[90m-> null\u001b[0m\u001b[0m\n",
      "      \u001b[31m-\u001b[0m\u001b[0m run_command_enabled                 = true \u001b[90m-> null\u001b[0m\u001b[0m\n",
      "      \u001b[31m-\u001b[0m\u001b[0m sku_tier                            = \"Free\" \u001b[90m-> null\u001b[0m\u001b[0m\n",
      "      \u001b[31m-\u001b[0m\u001b[0m support_plan                        = \"KubernetesOfficial\" \u001b[90m-> null\u001b[0m\u001b[0m\n",
      "      \u001b[31m-\u001b[0m\u001b[0m tags                                = {} \u001b[90m-> null\u001b[0m\u001b[0m\n",
      "      \u001b[31m-\u001b[0m\u001b[0m workload_identity_enabled           = false \u001b[90m-> null\u001b[0m\u001b[0m\n",
      "\n",
      "      \u001b[31m-\u001b[0m\u001b[0m default_node_pool {\n",
      "          \u001b[31m-\u001b[0m\u001b[0m custom_ca_trust_enabled      = false \u001b[90m-> null\u001b[0m\u001b[0m\n",
      "          \u001b[31m-\u001b[0m\u001b[0m enable_auto_scaling          = false \u001b[90m-> null\u001b[0m\u001b[0m\n",
      "          \u001b[31m-\u001b[0m\u001b[0m enable_host_encryption       = false \u001b[90m-> null\u001b[0m\u001b[0m\n",
      "          \u001b[31m-\u001b[0m\u001b[0m enable_node_public_ip        = false \u001b[90m-> null\u001b[0m\u001b[0m\n",
      "          \u001b[31m-\u001b[0m\u001b[0m fips_enabled                 = false \u001b[90m-> null\u001b[0m\u001b[0m\n",
      "          \u001b[31m-\u001b[0m\u001b[0m kubelet_disk_type            = \"OS\" \u001b[90m-> null\u001b[0m\u001b[0m\n",
      "          \u001b[31m-\u001b[0m\u001b[0m max_count                    = 0 \u001b[90m-> null\u001b[0m\u001b[0m\n",
      "          \u001b[31m-\u001b[0m\u001b[0m max_pods                     = 110 \u001b[90m-> null\u001b[0m\u001b[0m\n",
      "          \u001b[31m-\u001b[0m\u001b[0m min_count                    = 0 \u001b[90m-> null\u001b[0m\u001b[0m\n",
      "          \u001b[31m-\u001b[0m\u001b[0m name                         = \"default\" \u001b[90m-> null\u001b[0m\u001b[0m\n",
      "          \u001b[31m-\u001b[0m\u001b[0m node_count                   = 1 \u001b[90m-> null\u001b[0m\u001b[0m\n",
      "          \u001b[31m-\u001b[0m\u001b[0m node_labels                  = {} \u001b[90m-> null\u001b[0m\u001b[0m\n",
      "          \u001b[31m-\u001b[0m\u001b[0m node_taints                  = [] \u001b[90m-> null\u001b[0m\u001b[0m\n",
      "          \u001b[31m-\u001b[0m\u001b[0m only_critical_addons_enabled = false \u001b[90m-> null\u001b[0m\u001b[0m\n",
      "          \u001b[31m-\u001b[0m\u001b[0m orchestrator_version         = \"1.27.7\" \u001b[90m-> null\u001b[0m\u001b[0m\n",
      "          \u001b[31m-\u001b[0m\u001b[0m os_disk_size_gb              = 128 \u001b[90m-> null\u001b[0m\u001b[0m\n",
      "          \u001b[31m-\u001b[0m\u001b[0m os_disk_type                 = \"Managed\" \u001b[90m-> null\u001b[0m\u001b[0m\n",
      "          \u001b[31m-\u001b[0m\u001b[0m os_sku                       = \"Ubuntu\" \u001b[90m-> null\u001b[0m\u001b[0m\n",
      "          \u001b[31m-\u001b[0m\u001b[0m scale_down_mode              = \"Delete\" \u001b[90m-> null\u001b[0m\u001b[0m\n",
      "          \u001b[31m-\u001b[0m\u001b[0m tags                         = {} \u001b[90m-> null\u001b[0m\u001b[0m\n",
      "          \u001b[31m-\u001b[0m\u001b[0m type                         = \"VirtualMachineScaleSets\" \u001b[90m-> null\u001b[0m\u001b[0m\n",
      "          \u001b[31m-\u001b[0m\u001b[0m ultra_ssd_enabled            = false \u001b[90m-> null\u001b[0m\u001b[0m\n",
      "          \u001b[31m-\u001b[0m\u001b[0m vm_size                      = \"Standard_B2s\" \u001b[90m-> null\u001b[0m\u001b[0m\n",
      "          \u001b[31m-\u001b[0m\u001b[0m zones                        = [] \u001b[90m-> null\u001b[0m\u001b[0m\n",
      "        }\n",
      "\n",
      "      \u001b[31m-\u001b[0m\u001b[0m identity {\n",
      "          \u001b[31m-\u001b[0m\u001b[0m identity_ids = [] \u001b[90m-> null\u001b[0m\u001b[0m\n",
      "          \u001b[31m-\u001b[0m\u001b[0m principal_id = \"695d214d-659f-4d61-9609-2d9df51c3bb1\" \u001b[90m-> null\u001b[0m\u001b[0m\n",
      "          \u001b[31m-\u001b[0m\u001b[0m tenant_id    = \"7564bc8f-3738-4b4d-bd57-5a02ca6215fb\" \u001b[90m-> null\u001b[0m\u001b[0m\n",
      "          \u001b[31m-\u001b[0m\u001b[0m type         = \"SystemAssigned\" \u001b[90m-> null\u001b[0m\u001b[0m\n",
      "        }\n",
      "\n",
      "      \u001b[31m-\u001b[0m\u001b[0m kubelet_identity {\n",
      "          \u001b[31m-\u001b[0m\u001b[0m client_id                 = \"5a97e0ea-0ba3-4516-9a93-ab5f76c53484\" \u001b[90m-> null\u001b[0m\u001b[0m\n",
      "          \u001b[31m-\u001b[0m\u001b[0m object_id                 = \"0fed82eb-aed8-49da-8217-fd2c3b85f70c\" \u001b[90m-> null\u001b[0m\u001b[0m\n",
      "          \u001b[31m-\u001b[0m\u001b[0m user_assigned_identity_id = \"/subscriptions/dc438970-aa32-41b3-8fe2-f587309a0208/resourceGroups/MC_tsfn14g00_tsfn14g00_westeurope/providers/Microsoft.ManagedIdentity/userAssignedIdentities/tsfn14g00-agentpool\" \u001b[90m-> null\u001b[0m\u001b[0m\n",
      "        }\n",
      "\n",
      "      \u001b[31m-\u001b[0m\u001b[0m network_profile {\n",
      "          \u001b[31m-\u001b[0m\u001b[0m dns_service_ip    = \"10.0.0.10\" \u001b[90m-> null\u001b[0m\u001b[0m\n",
      "          \u001b[31m-\u001b[0m\u001b[0m ip_versions       = [\n",
      "              \u001b[31m-\u001b[0m\u001b[0m \"IPv4\",\n",
      "            ] \u001b[90m-> null\u001b[0m\u001b[0m\n",
      "          \u001b[31m-\u001b[0m\u001b[0m load_balancer_sku = \"standard\" \u001b[90m-> null\u001b[0m\u001b[0m\n",
      "          \u001b[31m-\u001b[0m\u001b[0m network_plugin    = \"kubenet\" \u001b[90m-> null\u001b[0m\u001b[0m\n",
      "          \u001b[31m-\u001b[0m\u001b[0m outbound_type     = \"loadBalancer\" \u001b[90m-> null\u001b[0m\u001b[0m\n",
      "          \u001b[31m-\u001b[0m\u001b[0m pod_cidr          = \"10.244.0.0/16\" \u001b[90m-> null\u001b[0m\u001b[0m\n",
      "          \u001b[31m-\u001b[0m\u001b[0m pod_cidrs         = [\n",
      "              \u001b[31m-\u001b[0m\u001b[0m \"10.244.0.0/16\",\n",
      "            ] \u001b[90m-> null\u001b[0m\u001b[0m\n",
      "          \u001b[31m-\u001b[0m\u001b[0m service_cidr      = \"10.0.0.0/16\" \u001b[90m-> null\u001b[0m\u001b[0m\n",
      "          \u001b[31m-\u001b[0m\u001b[0m service_cidrs     = [\n",
      "              \u001b[31m-\u001b[0m\u001b[0m \"10.0.0.0/16\",\n",
      "            ] \u001b[90m-> null\u001b[0m\u001b[0m\n",
      "\n",
      "          \u001b[31m-\u001b[0m\u001b[0m load_balancer_profile {\n",
      "              \u001b[31m-\u001b[0m\u001b[0m effective_outbound_ips      = [\n",
      "                  \u001b[31m-\u001b[0m\u001b[0m \"/subscriptions/dc438970-aa32-41b3-8fe2-f587309a0208/resourceGroups/MC_tsfn14g00_tsfn14g00_westeurope/providers/Microsoft.Network/publicIPAddresses/1736ebab-7977-4b65-996c-e037442e264a\",\n",
      "                ] \u001b[90m-> null\u001b[0m\u001b[0m\n",
      "              \u001b[31m-\u001b[0m\u001b[0m idle_timeout_in_minutes     = 0 \u001b[90m-> null\u001b[0m\u001b[0m\n",
      "              \u001b[31m-\u001b[0m\u001b[0m managed_outbound_ip_count   = 1 \u001b[90m-> null\u001b[0m\u001b[0m\n",
      "              \u001b[31m-\u001b[0m\u001b[0m managed_outbound_ipv6_count = 0 \u001b[90m-> null\u001b[0m\u001b[0m\n",
      "              \u001b[31m-\u001b[0m\u001b[0m outbound_ip_address_ids     = [] \u001b[90m-> null\u001b[0m\u001b[0m\n",
      "              \u001b[31m-\u001b[0m\u001b[0m outbound_ip_prefix_ids      = [] \u001b[90m-> null\u001b[0m\u001b[0m\n",
      "              \u001b[31m-\u001b[0m\u001b[0m outbound_ports_allocated    = 0 \u001b[90m-> null\u001b[0m\u001b[0m\n",
      "            }\n",
      "        }\n",
      "    }\n",
      "\n",
      "\u001b[1m  # azurerm_network_watcher.networkwatcher\u001b[0m will be \u001b[1m\u001b[31mdestroyed\u001b[0m\n",
      "\u001b[0m  \u001b[31m-\u001b[0m\u001b[0m resource \"azurerm_network_watcher\" \"networkwatcher\" {\n",
      "      \u001b[31m-\u001b[0m\u001b[0m id                  = \"/subscriptions/dc438970-aa32-41b3-8fe2-f587309a0208/resourceGroups/NetworkWatcherRG/providers/Microsoft.Network/networkWatchers/NetworkWatcher_westeurope\" \u001b[90m-> null\u001b[0m\u001b[0m\n",
      "      \u001b[31m-\u001b[0m\u001b[0m location            = \"westeurope\" \u001b[90m-> null\u001b[0m\u001b[0m\n",
      "      \u001b[31m-\u001b[0m\u001b[0m name                = \"NetworkWatcher_westeurope\" \u001b[90m-> null\u001b[0m\u001b[0m\n",
      "      \u001b[31m-\u001b[0m\u001b[0m resource_group_name = \"NetworkWatcherRG\" \u001b[90m-> null\u001b[0m\u001b[0m\n",
      "      \u001b[31m-\u001b[0m\u001b[0m tags                = {} \u001b[90m-> null\u001b[0m\u001b[0m\n",
      "    }\n",
      "\n",
      "\u001b[1m  # azurerm_resource_group.main\u001b[0m will be \u001b[1m\u001b[31mdestroyed\u001b[0m\n",
      "\u001b[0m  \u001b[31m-\u001b[0m\u001b[0m resource \"azurerm_resource_group\" \"main\" {\n",
      "      \u001b[31m-\u001b[0m\u001b[0m id       = \"/subscriptions/dc438970-aa32-41b3-8fe2-f587309a0208/resourceGroups/tsfn14g00\" \u001b[90m-> null\u001b[0m\u001b[0m\n",
      "      \u001b[31m-\u001b[0m\u001b[0m location = \"westeurope\" \u001b[90m-> null\u001b[0m\u001b[0m\n",
      "      \u001b[31m-\u001b[0m\u001b[0m name     = \"tsfn14g00\" \u001b[90m-> null\u001b[0m\u001b[0m\n",
      "      \u001b[31m-\u001b[0m\u001b[0m tags     = {} \u001b[90m-> null\u001b[0m\u001b[0m\n",
      "    }\n",
      "\n",
      "\u001b[1m  # azurerm_resource_group.networkwatcher\u001b[0m will be \u001b[1m\u001b[31mdestroyed\u001b[0m\n",
      "\u001b[0m  \u001b[31m-\u001b[0m\u001b[0m resource \"azurerm_resource_group\" \"networkwatcher\" {\n",
      "      \u001b[31m-\u001b[0m\u001b[0m id       = \"/subscriptions/dc438970-aa32-41b3-8fe2-f587309a0208/resourceGroups/NetworkWatcherRG\" \u001b[90m-> null\u001b[0m\u001b[0m\n",
      "      \u001b[31m-\u001b[0m\u001b[0m location = \"westeurope\" \u001b[90m-> null\u001b[0m\u001b[0m\n",
      "      \u001b[31m-\u001b[0m\u001b[0m name     = \"NetworkWatcherRG\" \u001b[90m-> null\u001b[0m\u001b[0m\n",
      "      \u001b[31m-\u001b[0m\u001b[0m tags     = {} \u001b[90m-> null\u001b[0m\u001b[0m\n",
      "    }\n",
      "\n",
      "\u001b[1m  # azurerm_role_assignment.main\u001b[0m will be \u001b[1m\u001b[31mdestroyed\u001b[0m\n",
      "\u001b[0m  \u001b[31m-\u001b[0m\u001b[0m resource \"azurerm_role_assignment\" \"main\" {\n",
      "      \u001b[31m-\u001b[0m\u001b[0m id                               = \"/subscriptions/dc438970-aa32-41b3-8fe2-f587309a0208/resourceGroups/tsfn14g00/providers/Microsoft.ContainerRegistry/registries/tsfn14g00/providers/Microsoft.Authorization/roleAssignments/37cc7bc5-6d11-47c4-b42d-2ef208803186\" \u001b[90m-> null\u001b[0m\u001b[0m\n",
      "      \u001b[31m-\u001b[0m\u001b[0m name                             = \"37cc7bc5-6d11-47c4-b42d-2ef208803186\" \u001b[90m-> null\u001b[0m\u001b[0m\n",
      "      \u001b[31m-\u001b[0m\u001b[0m principal_id                     = \"0fed82eb-aed8-49da-8217-fd2c3b85f70c\" \u001b[90m-> null\u001b[0m\u001b[0m\n",
      "      \u001b[31m-\u001b[0m\u001b[0m principal_type                   = \"ServicePrincipal\" \u001b[90m-> null\u001b[0m\u001b[0m\n",
      "      \u001b[31m-\u001b[0m\u001b[0m role_definition_id               = \"/subscriptions/dc438970-aa32-41b3-8fe2-f587309a0208/providers/Microsoft.Authorization/roleDefinitions/7f951dda-4ed3-4680-a7ca-43fe172d538d\" \u001b[90m-> null\u001b[0m\u001b[0m\n",
      "      \u001b[31m-\u001b[0m\u001b[0m role_definition_name             = \"AcrPull\" \u001b[90m-> null\u001b[0m\u001b[0m\n",
      "      \u001b[31m-\u001b[0m\u001b[0m scope                            = \"/subscriptions/dc438970-aa32-41b3-8fe2-f587309a0208/resourceGroups/tsfn14g00/providers/Microsoft.ContainerRegistry/registries/tsfn14g00\" \u001b[90m-> null\u001b[0m\u001b[0m\n",
      "      \u001b[31m-\u001b[0m\u001b[0m skip_service_principal_aad_check = true \u001b[90m-> null\u001b[0m\u001b[0m\n",
      "    }\n",
      "\n",
      "\u001b[1mPlan:\u001b[0m 0 to add, 0 to change, 6 to destroy.\n",
      "\u001b[0m\u001b[0m\u001b[1mazurerm_network_watcher.networkwatcher: Destroying... [id=/subscriptions/dc438970-aa32-41b3-8fe2-f587309a0208/resourceGroups/NetworkWatcherRG/providers/Microsoft.Network/networkWatchers/NetworkWatcher_westeurope]\u001b[0m\u001b[0m\n",
      "\u001b[0m\u001b[1mazurerm_role_assignment.main: Destroying... [id=/subscriptions/dc438970-aa32-41b3-8fe2-f587309a0208/resourceGroups/tsfn14g00/providers/Microsoft.ContainerRegistry/registries/tsfn14g00/providers/Microsoft.Authorization/roleAssignments/37cc7bc5-6d11-47c4-b42d-2ef208803186]\u001b[0m\u001b[0m\n",
      "\u001b[0m\u001b[1mazurerm_role_assignment.main: Destruction complete after 3s\u001b[0m\n",
      "\u001b[0m\u001b[1mazurerm_container_registry.main: Destroying... [id=/subscriptions/dc438970-aa32-41b3-8fe2-f587309a0208/resourceGroups/tsfn14g00/providers/Microsoft.ContainerRegistry/registries/tsfn14g00]\u001b[0m\u001b[0m\n",
      "\u001b[0m\u001b[1mazurerm_kubernetes_cluster.main: Destroying... [id=/subscriptions/dc438970-aa32-41b3-8fe2-f587309a0208/resourceGroups/tsfn14g00/providers/Microsoft.ContainerService/managedClusters/tsfn14g00]\u001b[0m\u001b[0m\n",
      "\u001b[0m\u001b[1mazurerm_network_watcher.networkwatcher: Still destroying... [id=/subscriptions/dc438970-aa32-41b3-8fe2-...workWatchers/NetworkWatcher_westeurope, 10s elapsed]\u001b[0m\u001b[0m\n",
      "\u001b[0m\u001b[1mazurerm_network_watcher.networkwatcher: Destruction complete after 11s\u001b[0m\n",
      "\u001b[0m\u001b[1mazurerm_resource_group.networkwatcher: Destroying... [id=/subscriptions/dc438970-aa32-41b3-8fe2-f587309a0208/resourceGroups/NetworkWatcherRG]\u001b[0m\u001b[0m\n",
      "\u001b[0m\u001b[1mazurerm_container_registry.main: Still destroying... [id=/subscriptions/dc438970-aa32-41b3-8fe2-...ContainerRegistry/registries/tsfn14g00, 10s elapsed]\u001b[0m\u001b[0m\n",
      "\u001b[0m\u001b[1mazurerm_kubernetes_cluster.main: Still destroying... [id=/subscriptions/dc438970-aa32-41b3-8fe2-...ainerService/managedClusters/tsfn14g00, 10s elapsed]\u001b[0m\u001b[0m\n",
      "\u001b[0m\u001b[1mazurerm_container_registry.main: Destruction complete after 14s\u001b[0m\n",
      "\u001b[0m\u001b[1mazurerm_resource_group.networkwatcher: Still destroying... [id=/subscriptions/dc438970-aa32-41b3-8fe2-...9a0208/resourceGroups/NetworkWatcherRG, 10s elapsed]\u001b[0m\u001b[0m\n",
      "\u001b[0m\u001b[1mazurerm_kubernetes_cluster.main: Still destroying... [id=/subscriptions/dc438970-aa32-41b3-8fe2-...ainerService/managedClusters/tsfn14g00, 20s elapsed]\u001b[0m\u001b[0m\n",
      "\u001b[0m\u001b[1mazurerm_resource_group.networkwatcher: Destruction complete after 16s\u001b[0m\n",
      "\u001b[0m\u001b[1mazurerm_kubernetes_cluster.main: Still destroying... [id=/subscriptions/dc438970-aa32-41b3-8fe2-...ainerService/managedClusters/tsfn14g00, 30s elapsed]\u001b[0m\u001b[0m\n",
      "\u001b[0m\u001b[1mazurerm_kubernetes_cluster.main: Still destroying... [id=/subscriptions/dc438970-aa32-41b3-8fe2-...ainerService/managedClusters/tsfn14g00, 40s elapsed]\u001b[0m\u001b[0m\n",
      "\u001b[0m\u001b[1mazurerm_kubernetes_cluster.main: Still destroying... [id=/subscriptions/dc438970-aa32-41b3-8fe2-...ainerService/managedClusters/tsfn14g00, 50s elapsed]\u001b[0m\u001b[0m\n",
      "\u001b[0m\u001b[1mazurerm_kubernetes_cluster.main: Still destroying... [id=/subscriptions/dc438970-aa32-41b3-8fe2-...ainerService/managedClusters/tsfn14g00, 1m0s elapsed]\u001b[0m\u001b[0m\n",
      "\u001b[0m\u001b[1mazurerm_kubernetes_cluster.main: Still destroying... [id=/subscriptions/dc438970-aa32-41b3-8fe2-...ainerService/managedClusters/tsfn14g00, 1m10s elapsed]\u001b[0m\u001b[0m\n",
      "\u001b[0m\u001b[1mazurerm_kubernetes_cluster.main: Still destroying... [id=/subscriptions/dc438970-aa32-41b3-8fe2-...ainerService/managedClusters/tsfn14g00, 1m20s elapsed]\u001b[0m\u001b[0m\n",
      "\u001b[0m\u001b[1mazurerm_kubernetes_cluster.main: Still destroying... [id=/subscriptions/dc438970-aa32-41b3-8fe2-...ainerService/managedClusters/tsfn14g00, 1m30s elapsed]\u001b[0m\u001b[0m\n",
      "\u001b[0m\u001b[1mazurerm_kubernetes_cluster.main: Still destroying... [id=/subscriptions/dc438970-aa32-41b3-8fe2-...ainerService/managedClusters/tsfn14g00, 1m40s elapsed]\u001b[0m\u001b[0m\n",
      "\u001b[0m\u001b[1mazurerm_kubernetes_cluster.main: Still destroying... [id=/subscriptions/dc438970-aa32-41b3-8fe2-...ainerService/managedClusters/tsfn14g00, 1m50s elapsed]\u001b[0m\u001b[0m\n",
      "\u001b[0m\u001b[1mazurerm_kubernetes_cluster.main: Still destroying... [id=/subscriptions/dc438970-aa32-41b3-8fe2-...ainerService/managedClusters/tsfn14g00, 2m0s elapsed]\u001b[0m\u001b[0m\n",
      "\u001b[0m\u001b[1mazurerm_kubernetes_cluster.main: Still destroying... [id=/subscriptions/dc438970-aa32-41b3-8fe2-...ainerService/managedClusters/tsfn14g00, 2m10s elapsed]\u001b[0m\u001b[0m\n",
      "\u001b[0m\u001b[1mazurerm_kubernetes_cluster.main: Still destroying... [id=/subscriptions/dc438970-aa32-41b3-8fe2-...ainerService/managedClusters/tsfn14g00, 2m20s elapsed]\u001b[0m\u001b[0m\n",
      "\u001b[0m\u001b[1mazurerm_kubernetes_cluster.main: Still destroying... [id=/subscriptions/dc438970-aa32-41b3-8fe2-...ainerService/managedClusters/tsfn14g00, 2m30s elapsed]\u001b[0m\u001b[0m\n",
      "\u001b[0m\u001b[1mazurerm_kubernetes_cluster.main: Still destroying... [id=/subscriptions/dc438970-aa32-41b3-8fe2-...ainerService/managedClusters/tsfn14g00, 2m40s elapsed]\u001b[0m\u001b[0m\n",
      "\u001b[0m\u001b[1mazurerm_kubernetes_cluster.main: Still destroying... [id=/subscriptions/dc438970-aa32-41b3-8fe2-...ainerService/managedClusters/tsfn14g00, 2m50s elapsed]\u001b[0m\u001b[0m\n",
      "\u001b[0m\u001b[1mazurerm_kubernetes_cluster.main: Still destroying... [id=/subscriptions/dc438970-aa32-41b3-8fe2-...ainerService/managedClusters/tsfn14g00, 3m0s elapsed]\u001b[0m\u001b[0m\n",
      "\u001b[0m\u001b[1mazurerm_kubernetes_cluster.main: Still destroying... [id=/subscriptions/dc438970-aa32-41b3-8fe2-...ainerService/managedClusters/tsfn14g00, 3m10s elapsed]\u001b[0m\u001b[0m\n",
      "\u001b[0m\u001b[1mazurerm_kubernetes_cluster.main: Still destroying... [id=/subscriptions/dc438970-aa32-41b3-8fe2-...ainerService/managedClusters/tsfn14g00, 3m20s elapsed]\u001b[0m\u001b[0m\n",
      "\u001b[0m\u001b[1mazurerm_kubernetes_cluster.main: Still destroying... [id=/subscriptions/dc438970-aa32-41b3-8fe2-...ainerService/managedClusters/tsfn14g00, 3m30s elapsed]\u001b[0m\u001b[0m\n",
      "\u001b[0m\u001b[1mazurerm_kubernetes_cluster.main: Still destroying... [id=/subscriptions/dc438970-aa32-41b3-8fe2-...ainerService/managedClusters/tsfn14g00, 3m40s elapsed]\u001b[0m\u001b[0m\n",
      "\u001b[0m\u001b[1mazurerm_kubernetes_cluster.main: Still destroying... [id=/subscriptions/dc438970-aa32-41b3-8fe2-...ainerService/managedClusters/tsfn14g00, 3m50s elapsed]\u001b[0m\u001b[0m\n",
      "\u001b[0m\u001b[1mazurerm_kubernetes_cluster.main: Still destroying... [id=/subscriptions/dc438970-aa32-41b3-8fe2-...ainerService/managedClusters/tsfn14g00, 4m0s elapsed]\u001b[0m\u001b[0m\n",
      "\u001b[0m\u001b[1mazurerm_kubernetes_cluster.main: Destruction complete after 4m4s\u001b[0m\n",
      "\u001b[0m\u001b[1mazurerm_resource_group.main: Destroying... [id=/subscriptions/dc438970-aa32-41b3-8fe2-f587309a0208/resourceGroups/tsfn14g00]\u001b[0m\u001b[0m\n",
      "\u001b[0m\u001b[1mazurerm_resource_group.main: Still destroying... [id=/subscriptions/dc438970-aa32-41b3-8fe2-f587309a0208/resourceGroups/tsfn14g00, 10s elapsed]\u001b[0m\u001b[0m\n",
      "\u001b[0m\u001b[1mazurerm_resource_group.main: Still destroying... [id=/subscriptions/dc438970-aa32-41b3-8fe2-f587309a0208/resourceGroups/tsfn14g00, 20s elapsed]\u001b[0m\u001b[0m\n",
      "\u001b[0m\u001b[1mazurerm_resource_group.main: Still destroying... [id=/subscriptions/dc438970-aa32-41b3-8fe2-f587309a0208/resourceGroups/tsfn14g00, 30s elapsed]\u001b[0m\u001b[0m\n",
      "\u001b[0m\u001b[1mazurerm_resource_group.main: Still destroying... [id=/subscriptions/dc438970-aa32-41b3-8fe2-f587309a0208/resourceGroups/tsfn14g00, 40s elapsed]\u001b[0m\u001b[0m\n",
      "\u001b[0m\u001b[1mazurerm_resource_group.main: Still destroying... [id=/subscriptions/dc438970-aa32-41b3-8fe2-f587309a0208/resourceGroups/tsfn14g00, 50s elapsed]\u001b[0m\u001b[0m\n",
      "\u001b[0m\u001b[1mazurerm_resource_group.main: Still destroying... [id=/subscriptions/dc438970-aa32-41b3-8fe2-f587309a0208/resourceGroups/tsfn14g00, 1m0s elapsed]\u001b[0m\u001b[0m\n",
      "\u001b[0m\u001b[1mazurerm_resource_group.main: Still destroying... [id=/subscriptions/dc438970-aa32-41b3-8fe2-f587309a0208/resourceGroups/tsfn14g00, 1m10s elapsed]\u001b[0m\u001b[0m\n",
      "\u001b[0m\u001b[1mazurerm_resource_group.main: Still destroying... [id=/subscriptions/dc438970-aa32-41b3-8fe2-f587309a0208/resourceGroups/tsfn14g00, 1m20s elapsed]\u001b[0m\u001b[0m\n",
      "\u001b[0m\u001b[1mazurerm_resource_group.main: Still destroying... [id=/subscriptions/dc438970-aa32-41b3-8fe2-f587309a0208/resourceGroups/tsfn14g00, 1m30s elapsed]\u001b[0m\u001b[0m\n",
      "\u001b[0m\u001b[1mazurerm_resource_group.main: Still destroying... [id=/subscriptions/dc438970-aa32-41b3-8fe2-f587309a0208/resourceGroups/tsfn14g00, 1m40s elapsed]\u001b[0m\u001b[0m\n",
      "\u001b[0m\u001b[1mazurerm_resource_group.main: Still destroying... [id=/subscriptions/dc438970-aa32-41b3-8fe2-f587309a0208/resourceGroups/tsfn14g00, 1m50s elapsed]\u001b[0m\u001b[0m\n",
      "\u001b[0m\u001b[1mazurerm_resource_group.main: Still destroying... [id=/subscriptions/dc438970-aa32-41b3-8fe2-f587309a0208/resourceGroups/tsfn14g00, 2m0s elapsed]\u001b[0m\u001b[0m\n",
      "\u001b[0m\u001b[1mazurerm_resource_group.main: Still destroying... [id=/subscriptions/dc438970-aa32-41b3-8fe2-f587309a0208/resourceGroups/tsfn14g00, 2m10s elapsed]\u001b[0m\u001b[0m\n",
      "\u001b[0m\u001b[1mazurerm_resource_group.main: Still destroying... [id=/subscriptions/dc438970-aa32-41b3-8fe2-f587309a0208/resourceGroups/tsfn14g00, 2m20s elapsed]\u001b[0m\u001b[0m\n",
      "\u001b[0m\u001b[1mazurerm_resource_group.main: Still destroying... [id=/subscriptions/dc438970-aa32-41b3-8fe2-f587309a0208/resourceGroups/tsfn14g00, 2m30s elapsed]\u001b[0m\u001b[0m\n",
      "\u001b[0m\u001b[1mazurerm_resource_group.main: Destruction complete after 2m38s\u001b[0m\n",
      "\u001b[0m\u001b[1m\u001b[32m\n",
      "Destroy complete! Resources: 6 destroyed.\n",
      "\u001b[0m\n"
     ]
    }
   ],
   "source": [
    "!terraform destroy -auto-approve"
   ]
  },
  {
   "cell_type": "markdown",
   "metadata": {},
   "source": [
    "## List Azure Kubernetes Services"
   ]
  },
  {
   "cell_type": "code",
   "execution_count": 22,
   "metadata": {
    "vscode": {
     "languageId": "shellscript"
    }
   },
   "outputs": [
    {
     "name": "stdout",
     "output_type": "stream",
     "text": [
      "\n"
     ]
    }
   ],
   "source": [
    "!az aks list -o table"
   ]
  },
  {
   "cell_type": "markdown",
   "metadata": {},
   "source": [
    "## List Azure Container Registries"
   ]
  },
  {
   "cell_type": "code",
   "execution_count": 23,
   "metadata": {
    "vscode": {
     "languageId": "shellscript"
    }
   },
   "outputs": [
    {
     "name": "stdout",
     "output_type": "stream",
     "text": [
      "\n"
     ]
    }
   ],
   "source": [
    "!az acr list -o table"
   ]
  },
  {
   "cell_type": "markdown",
   "metadata": {},
   "source": [
    "## List Azure Resource Groups"
   ]
  },
  {
   "cell_type": "code",
   "execution_count": 24,
   "metadata": {
    "vscode": {
     "languageId": "shellscript"
    }
   },
   "outputs": [
    {
     "name": "stdout",
     "output_type": "stream",
     "text": [
      "\n"
     ]
    }
   ],
   "source": [
    "!az group list -o table"
   ]
  },
  {
   "cell_type": "code",
   "execution_count": null,
   "metadata": {
    "vscode": {
     "languageId": "shellscript"
    }
   },
   "outputs": [],
   "source": []
  }
 ],
 "metadata": {
  "kernelspec": {
   "display_name": "Bash",
   "language": "bash",
   "name": "bash"
  },
  "language_info": {
   "codemirror_mode": "shell",
   "file_extension": ".sh",
   "mimetype": "text/x-sh",
   "name": "bash"
  }
 },
 "nbformat": 4,
 "nbformat_minor": 2
}
