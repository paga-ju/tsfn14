{
 "cells": [
  {
   "cell_type": "markdown",
   "metadata": {},
   "source": [
    "## Create and Destroy an Azure Kubernetes Service in Azure using Terraform\n",
    "\n",
    "- An Azure Kubernetes Service (AKS) is a kubernetes cluster running in Azure.\n",
    "  - Since an Azure Kubernetes Service (AKS) is an Azure resource, it must be placed in an Azure Resource Group.\n",
    "  - Since an Azure Kubernetes Service (AKS) creates a Virtual Network, we also need to create a Network Watcher.\n",
    "  - Since an Azure Kubernetes Service (AKS) needs to pull its images from a Registry, we also create an Azure Container Registry.\n",
    "- This Terraform Project consists of the Terraform files listed below:"
   ]
  },
  {
   "cell_type": "code",
   "execution_count": 1,
   "metadata": {
    "vscode": {
     "languageId": "shellscript"
    }
   },
   "outputs": [
    {
     "name": "stdout",
     "output_type": "stream",
     "text": [
      "container-registry.tf  network-watcher.tf  resource-group.tf\n",
      "kubernetes-cluster.tf  providers.tf\t   variables.tf\n"
     ]
    }
   ],
   "source": [
    "#!dir *.tf # use this on Windows\n",
    "!ls *.tf"
   ]
  },
  {
   "cell_type": "markdown",
   "metadata": {},
   "source": [
    "## Terraform providers\n",
    "\n",
    "- We are using the same Terraform proviers as before (i.e. the `azurerm` provider for Azure)."
   ]
  },
  {
   "cell_type": "code",
   "execution_count": 2,
   "metadata": {
    "vscode": {
     "languageId": "shellscript"
    }
   },
   "outputs": [
    {
     "name": "stdout",
     "output_type": "stream",
     "text": [
      "# Initialises Terraform providers and sets their version numbers.\n",
      "\n",
      "terraform {\n",
      "  required_providers {\n",
      "    azurerm = {\n",
      "      source  = \"hashicorp/azurerm\"\n",
      "      version = \"3.90.0\"\n",
      "    }\n",
      "  }\n",
      "\n",
      "  required_version = \"~> 1.7.2\"\n",
      "}\n",
      "\n",
      "provider \"azurerm\" {\n",
      "  features {}\n",
      "}"
     ]
    }
   ],
   "source": [
    "#!type providers.tf # use this on Windows\n",
    "!cat providers.tf"
   ]
  },
  {
   "cell_type": "markdown",
   "metadata": {},
   "source": [
    "## Terraform variables\n",
    "\n",
    "- We are using the same Terraform variables as before\n",
    "  - But have added an additional variable with the name `kubernetes_version` and the value `1.27.7`.\n",
    "  - This variable is used to set the Kubernetes version to use in the file `kubernetes-cluster.tf`.\n",
    "\n",
    "**Note! Make sure you change the value for the variable `app_name` to something unique!**"
   ]
  },
  {
   "cell_type": "code",
   "execution_count": 3,
   "metadata": {
    "vscode": {
     "languageId": "shellscript"
    }
   },
   "outputs": [
    {
     "name": "stdout",
     "output_type": "stream",
     "text": [
      "# Sets global variables for this Terraform project.\n",
      "\n",
      "variable \"app_name\" {\n",
      "  default = \"tsfn14g00\"\n",
      "}\n",
      "\n",
      "variable \"location\" {\n",
      "  default = \"westeurope\"\n",
      "}\n",
      "\n",
      "variable \"kubernetes_version\" {\n",
      "  default = \"1.27.7\"\n",
      "}"
     ]
    }
   ],
   "source": [
    "#!type variables.tf # use this on Windows\n",
    "!cat variables.tf"
   ]
  },
  {
   "cell_type": "markdown",
   "metadata": {},
   "source": [
    "## Azure Resource Group\n",
    "\n",
    "- We are using the same Azure Resoure Group as before."
   ]
  },
  {
   "cell_type": "code",
   "execution_count": 4,
   "metadata": {
    "vscode": {
     "languageId": "shellscript"
    }
   },
   "outputs": [
    {
     "name": "stdout",
     "output_type": "stream",
     "text": [
      "# Creates a resource group in your Azure account.\n",
      "\n",
      "resource \"azurerm_resource_group\" \"main\" {\n",
      "  name     = var.app_name\n",
      "  location = var.location\n",
      "}"
     ]
    }
   ],
   "source": [
    "#!type resource-group.tf # use this on Windows\n",
    "!cat resource-group.tf"
   ]
  },
  {
   "cell_type": "markdown",
   "metadata": {},
   "source": [
    "## Azure Container Registry\n",
    "\n",
    "- We are using the same Azure Container Registry as before.\n",
    "- We need this to store our Microservices' Images.\n",
    "- When creating Pods in the Azure Kubernetes Service (AKS) cluster, the Images will be pulled from this Azure Container Registry."
   ]
  },
  {
   "cell_type": "code",
   "execution_count": 5,
   "metadata": {
    "vscode": {
     "languageId": "shellscript"
    }
   },
   "outputs": [
    {
     "name": "stdout",
     "output_type": "stream",
     "text": [
      "# Creates a container registry in Azure (for Docker images).\n",
      "\n",
      "resource \"azurerm_container_registry\" \"main\" {\n",
      "  name                = var.app_name\n",
      "  resource_group_name = azurerm_resource_group.main.name\n",
      "  location            = var.location\n",
      "  admin_enabled       = true\n",
      "  sku                 = \"Basic\"\n",
      "}"
     ]
    }
   ],
   "source": [
    "#!type container-registry.tf # use this on Windows\n",
    "!cat container-registry.tf"
   ]
  },
  {
   "cell_type": "markdown",
   "metadata": {},
   "source": [
    "## Let's view the contents of the file `kubernetes-cluster.tf`\n",
    "\n",
    "- Here we are defining an Azure Kubernetes Service (AKS), i.e. a Kubernetes cluster on Azure\n",
    "  - The Block Type is `resource`.\n",
    "  - The first Block Label is `azurerm_kubernetes_cluster`\n",
    "    - `azurerm` is the name of the provider (i.e. the provider for Azure defined in the file `providers.tf`).\n",
    "    - `kubernetes_cluster` is the name of the Azure resource (i.e. an Azure Kubernetes Service defined in the `azurerm` provider/plugin).\n",
    "  - The first Argument sets the Azure Kubernetes Service's name\n",
    "    - `name` is the argument's name\n",
    "    - Its value is retrieved from the Terraform variable `app_name` (defined in the file `variables.tf`).\n",
    "  - The second Argument sets the Azure Kubernetes Service's Location\n",
    "    - `location` is the argument's name\n",
    "    - Its value is retrieved from the Terraform variable `location` (defined in the file `variables.tf`).\n",
    "  - The third Argument sets the Azure Resource Group in which the Azure Kubernetes Service will be created\n",
    "    - `resource_group_name` is the argument's name\n",
    "    - Its value is retrieved from the Terraform Expression `azurerm_resource_group.main.name`.\n",
    "      - The `azurerm_resource_group.main` Block is defined in `resource-group.tf` as `resource \"azurerm_resource_group\" \"main\"`.\n",
    "      - In this Block, there is an Argument with a name of `name` who's value is defined as `var.app_name`.\n",
    "      - This is the value that is assigned to `resource_group_name`.\n",
    "  - The fourth Argument sets the DNS Prefix for the Azure Kubernetes Service\n",
    "    - `dns_prefix` is the argument's name\n",
    "    - Its value is retrieved from the Terraform variable `app_name` (defined in the file `variables.tf`).\n",
    "    - This parameter specifies the prefix to use for hostnames that are created for the DNS service in the cluster.\n",
    "      - If not specified, a hostname is generated using a combination of the cluster's name and the resource group's name.\n",
    "  - The fifth Argument sets version of Kubernetes to use for the cluster.\n",
    "    - `kubernetes_version` is the argument's name\n",
    "    - Its value is retrieved from the Terraform variable `kubernetes_version` (defined in the file `variables.tf`).\n",
    "- The Block also contains two nested Blocks.\n",
    "  - The first nested Block type is `default_node_pool`\n",
    "    - An AKS cluster creates a Virtual Machine for each Node, and uses a \"pool\" for its Nodes, so that they can be scaled when required.\n",
    "    - The first Argument sets the node pool's name\n",
    "      - `name` is the argument's name\n",
    "      - Its value is set to `\"default\"`.\n",
    "    - The second Argument sets the initial number of Nodes in the pool\n",
    "      - `node_count` is the argument's name\n",
    "      - Its value is set to `1`.\n",
    "    - The third Argument sets the size of the Virtual Machine used for each Node in the pool\n",
    "      - `vm_size` is the argument's name\n",
    "      - Its value is set to `\"Standard_B2s\"`.\n",
    "      - For more information about Virtual Machine Sizes, see:\n",
    "        - https://learn.microsoft.com/en-us/azure/virtual-machines/sizes-b-series-burstable\n",
    "  - The second nested Block type is `identity`\n",
    "    - A AKS cluster needs an identity (service principle) which can be created manually or automatically.\n",
    "    - The first and only Argument sets the AKS cluster's identity\n",
    "      - `type` is the argument's name\n",
    "      - Its value is set to `\"SystemAssigned\"`, which means Azure will create an identity (service principle) automatically.\n",
    "      - For more information about Identities, see:\n",
    "        - https://learn.microsoft.com/en-us/entra/identity/managed-identities-azure-resources/overview\n",
    "- Lastly, we are defining an Azure Role Assignment, which automatically gives the AKS cluster access to the Container Registry.\n",
    "  - The Block Type is `resource`.\n",
    "  - The first Block Label is `azurerm_role_assignment`\n",
    "    - `azurerm` is the name of the provider (i.e. the provider for Azure defined in the file `providers.tf`).\n",
    "    - `role_assignment` is the name of the Azure resource (i.e. an Azure Role Assignment defined in the `azurerm` provider/plugin).\n",
    "  - The first Argument sets the identity of the \"principle\" (object) that needs access to the Container Registry (a kubelet in the cluster)\n",
    "    - `principal_id` is the argument's name\n",
    "    - Its value is retrieved from the AKS resource `azurerm_kubernetes_cluster.main` we defined above, where\n",
    "      - `kubelet_identity[0]` accesses the first item in this array property, and `object_id` is the identity of this kubelet.\n",
    "  - The second Argument defines what type of access (authorization) the kubelet needs, which is to pull images from the Container Registry\n",
    "    - `role_definition_name` is the argument's name\n",
    "    - Its value is set to `\"AcrPull\"`, i.e. \"Azure Container Registry Pull\" which means the Kubelet is allowed to pull images.\n",
    "  - The third Argument sets the scope (the identity of the object we are granting access to), which is the Azure Container Registry's identity\n",
    "    - `scope` is the argument's name\n",
    "    - Its value is set to `azurerm_container_registry.main.id`, where\n",
    "      - `azurerm_container_registry.main` is the Azure Container Registry resource defined in the file `container-registry.tf`.\n",
    "      - `id` is the property in that resource that contains the Azure Container Registry's identity.\n",
    "  - The fourth Argument skips checking the kubelet's service principle (identity) in Azure Active Directory\n",
    "    - `skip_service_principal_aad_check` is the argument's name.\n",
    "    - Its value is set to `true`.\n",
    "    - For more information see: https://registry.terraform.io/providers/hashicorp/azurerm/latest/docs/resources/role_assignment"
   ]
  },
  {
   "cell_type": "code",
   "execution_count": 6,
   "metadata": {
    "vscode": {
     "languageId": "shellscript"
    }
   },
   "outputs": [
    {
     "name": "stdout",
     "output_type": "stream",
     "text": [
      "# Creates a managed Kubernetes cluster on Azure.\n",
      "# Note!\n",
      "# - Resource \"azurerm_resource_group.main\" with a property \"name\" is defined in the file \"resource-group.tf\".\n",
      "# - The value for \"resource_group_name\" below is set using property \"name\" in resource \"azurerm_resource_group.main\":\n",
      "#   - resource_group_name = azurerm_resource_group.main.name\n",
      "# - \"name\", \"location\" and \"kubernetes_version\" below are set from Terraform variables defined in the file \"variables.tf\".\n",
      "\n",
      "resource \"azurerm_kubernetes_cluster\" \"main\" {\n",
      "  name                = var.app_name\n",
      "  location            = var.location\n",
      "  resource_group_name = azurerm_resource_group.main.name\n",
      "  dns_prefix          = var.app_name\n",
      "  kubernetes_version  = var.kubernetes_version\n",
      "\n",
      "  default_node_pool {\n",
      "    name       = \"default\"\n",
      "    node_count = 1\n",
      "    vm_size    = \"Standard_B2s\"\n",
      "  }\n",
      "\n",
      "  # Instead of creating a service principle have the system figure this out.\n",
      "\n",
      "  identity {\n",
      "    type = \"SystemAssigned\"\n",
      "  }\n",
      "}\n",
      "\n",
      "# Attach the Container Registry to the Kubernetes Cluster.\n",
      "# See example here: https://registry.terraform.io/providers/hashicorp/azurerm/latest/docs/resources/container_registry#example-usage-attaching-a-container-registry-to-a-kubernetes-cluster\n",
      "# This ensures the Azure Kubernetes Cluster is allowed to pull images from the Azure Container Registry.\n",
      "\n",
      "resource \"azurerm_role_assignment\" \"main\" {\n",
      "  principal_id                     = azurerm_kubernetes_cluster.main.kubelet_identity[0].object_id\n",
      "  role_definition_name             = \"AcrPull\"\n",
      "  scope                            = azurerm_container_registry.main.id\n",
      "  skip_service_principal_aad_check = true\n",
      "}"
     ]
    }
   ],
   "source": [
    "#!type kubernetes-cluster.tf # use this on Windows\n",
    "!cat kubernetes-cluster.tf"
   ]
  },
  {
   "cell_type": "markdown",
   "metadata": {},
   "source": [
    "## Let's view the contents of the file `network-watcher.tf`\n",
    "\n",
    "- Microsoft requires every Virtual Network in Azure to have a Network Watcher.\n",
    "  - Since an Azure Kubernetes Service (AKS) creates a Virtual Network, we also need a Network Watcher.\n",
    "  - A Network Watcher is created automatically for a Virtual Network, but we are creating it manually here.\n",
    "    - The only readson for creating it manually here, is so that a `terraform destroy` will delete it for us.\n",
    "- Here we are defining two resources `azurerm_resource_group` and `azurerm_network_watcher`\n",
    "  - `azurerm_resource_group` is a new Resource Group for the Network Watcher.\n",
    "  - `azurerm_network_watcher` is the Network Watcher (which we place in the new Resource Group).\n",
    "- For the Resource Group\n",
    "  - The Block Type is `resource`.\n",
    "  - The first Block Label is `azurerm_resource_group\"`\n",
    "    - `azurerm` is the name of the provider (i.e. the provider for Azure defined in the file `providers.tf`).\n",
    "    - `resource_group` is the name of the Azure resource (i.e. an Azure Resource Group defined in the `azurerm` provider/plugin).\n",
    "  - The second Block Label is `networkwatcher\"` which is used to uniquely identity this resource in the Terraform files.\n",
    "  - The first Argument sets the Azure Resource Groups's name\n",
    "    - `name` is the argument's name\n",
    "    - Its value is set to `NetworkWatcherRG`.\n",
    "  - The second Argument sets the Azure Resource Group's Location\n",
    "    - `location` is the argument's name\n",
    "    - Its value is retrieved from the Terraform variable `location` (defined in the file `variables.tf`).\n",
    "- For the Network Watcher\n",
    "  - The Block Type is `resource`.\n",
    "  - The first Block Label is `azurerm_network_watcher\"`\n",
    "    - `azurerm` is the name of the provider (i.e. the provider for Azure defined in the file `providers.tf`).\n",
    "    - `network_watcher` is the name of the Azure resource (i.e. an Azure Network Watcher defined in the `azurerm` provider/plugin).\n",
    "  - The second Block Label is `networkwatcher\"` which is used to uniquely identity this resource in the Terraform files.\n",
    "  - The first Argument sets the Azure Network Watcher's name\n",
    "    - `name` is the argument's name\n",
    "    - Its value is set to `NetworkWatcher_westeurope`.\n",
    "  - The second Argument sets the Azure Network Wacther's Location\n",
    "    - `location` is the argument's name\n",
    "    - Its value is retrieved from the Terraform variable `location` (defined in the file `variables.tf`).\n",
    "  - The third Argument places the Network Watcher in the Azure Resource Group we defined above\n",
    "    - `resource_group_name` is the argument's name\n",
    "    - Its value is retrieved from `azurerm_resource_group.networkwatcher.name`, where\n",
    "      - `azurerm_resource_group.networkwatcher` refers to the Azure Resource Group we defined above.\n",
    "      - `name` is the name property in the Azure Resource Group, which returns the name of the Resource Group."
   ]
  },
  {
   "cell_type": "code",
   "execution_count": 7,
   "metadata": {
    "vscode": {
     "languageId": "shellscript"
    }
   },
   "outputs": [
    {
     "name": "stdout",
     "output_type": "stream",
     "text": [
      "# Creates a Network Watcher on Azure.\n",
      "# Note!\n",
      "# - We create a \"networkwatcher\" (in its own Resource Group).\n",
      "#   - This is required when a virtual network is created in Azure.\n",
      "#     - An Azure Kubernetes Service (AKS) will create a virtual network.\n",
      "#   - This is automatically created by Azure, but we explicitly create it here.\n",
      "#     - The only reason we do this explicitly is so Terraform Destroy will automatically delete it for us.\n",
      "\n",
      "resource \"azurerm_resource_group\" \"networkwatcher\" {\n",
      "  name     = \"NetworkWatcherRG\"\n",
      "  location = var.location\n",
      "}\n",
      "\n",
      "resource \"azurerm_network_watcher\" \"networkwatcher\" {\n",
      "  name                = \"NetworkWatcher_westeurope\"\n",
      "  location            = var.location\n",
      "  resource_group_name = azurerm_resource_group.networkwatcher.name\n",
      "}"
     ]
    }
   ],
   "source": [
    "#!type network-watcher.tf # use this on Windows\n",
    "!cat network-watcher.tf"
   ]
  },
  {
   "cell_type": "markdown",
   "metadata": {},
   "source": [
    "## Initialize Terraform\n",
    "\n",
    "- We initialize the Terraform Project as before."
   ]
  },
  {
   "cell_type": "code",
   "execution_count": 8,
   "metadata": {
    "vscode": {
     "languageId": "shellscript"
    }
   },
   "outputs": [
    {
     "name": "stdout",
     "output_type": "stream",
     "text": [
      "\n",
      "\u001b[0m\u001b[1mInitializing the backend...\u001b[0m\n",
      "\n",
      "\u001b[0m\u001b[1mInitializing provider plugins...\u001b[0m\n",
      "- Finding hashicorp/azurerm versions matching \"3.90.0\"...\n",
      "- Installing hashicorp/azurerm v3.90.0...\n",
      "- Installed hashicorp/azurerm v3.90.0 (signed by HashiCorp)\n",
      "\n",
      "Terraform has created a lock file \u001b[1m.terraform.lock.hcl\u001b[0m to record the provider\n",
      "selections it made above. Include this file in your version control repository\n",
      "so that Terraform can guarantee to make the same selections by default when\n",
      "you run \"terraform init\" in the future.\u001b[0m\n",
      "\n",
      "\u001b[0m\u001b[1m\u001b[32mTerraform has been successfully initialized!\u001b[0m\u001b[32m\u001b[0m\n",
      "\u001b[0m\u001b[32m\n",
      "You may now begin working with Terraform. Try running \"terraform plan\" to see\n",
      "any changes that are required for your infrastructure. All Terraform commands\n",
      "should now work.\n",
      "\n",
      "If you ever set or change modules or backend configuration for Terraform,\n",
      "rerun this command to reinitialize your working directory. If you forget, other\n",
      "commands will detect it and remind you to do so if necessary.\u001b[0m\n"
     ]
    }
   ],
   "source": [
    "#rm -rf .terraform rm .terraform.lock.hcl terraform.tfstate terraform.tfstate.backup\n",
    "!terraform init"
   ]
  },
  {
   "cell_type": "markdown",
   "metadata": {},
   "source": [
    "## Terraform Apply\n",
    "\n",
    "- We apply the Terraform Project as before."
   ]
  },
  {
   "cell_type": "code",
   "execution_count": 9,
   "metadata": {
    "vscode": {
     "languageId": "shellscript"
    }
   },
   "outputs": [
    {
     "name": "stdout",
     "output_type": "stream",
     "text": [
      "\n",
      "Terraform used the selected providers to generate the following execution plan.\n",
      "Resource actions are indicated with the following symbols:\n",
      "  \u001b[32m+\u001b[0m create\u001b[0m\n",
      "\n",
      "Terraform will perform the following actions:\n",
      "\n",
      "\u001b[1m  # azurerm_container_registry.main\u001b[0m will be created\n",
      "\u001b[0m  \u001b[32m+\u001b[0m\u001b[0m resource \"azurerm_container_registry\" \"main\" {\n",
      "      \u001b[32m+\u001b[0m\u001b[0m admin_enabled                 = true\n",
      "      \u001b[32m+\u001b[0m\u001b[0m admin_password                = (sensitive value)\n",
      "      \u001b[32m+\u001b[0m\u001b[0m admin_username                = (known after apply)\n",
      "      \u001b[32m+\u001b[0m\u001b[0m encryption                    = (known after apply)\n",
      "      \u001b[32m+\u001b[0m\u001b[0m export_policy_enabled         = true\n",
      "      \u001b[32m+\u001b[0m\u001b[0m id                            = (known after apply)\n",
      "      \u001b[32m+\u001b[0m\u001b[0m location                      = \"westeurope\"\n",
      "      \u001b[32m+\u001b[0m\u001b[0m login_server                  = (known after apply)\n",
      "      \u001b[32m+\u001b[0m\u001b[0m name                          = \"tsfn14g00\"\n",
      "      \u001b[32m+\u001b[0m\u001b[0m network_rule_bypass_option    = \"AzureServices\"\n",
      "      \u001b[32m+\u001b[0m\u001b[0m network_rule_set              = (known after apply)\n",
      "      \u001b[32m+\u001b[0m\u001b[0m public_network_access_enabled = true\n",
      "      \u001b[32m+\u001b[0m\u001b[0m resource_group_name           = \"tsfn14g00\"\n",
      "      \u001b[32m+\u001b[0m\u001b[0m retention_policy              = (known after apply)\n",
      "      \u001b[32m+\u001b[0m\u001b[0m sku                           = \"Basic\"\n",
      "      \u001b[32m+\u001b[0m\u001b[0m trust_policy                  = (known after apply)\n",
      "      \u001b[32m+\u001b[0m\u001b[0m zone_redundancy_enabled       = false\n",
      "    }\n",
      "\n",
      "\u001b[1m  # azurerm_kubernetes_cluster.main\u001b[0m will be created\n",
      "\u001b[0m  \u001b[32m+\u001b[0m\u001b[0m resource \"azurerm_kubernetes_cluster\" \"main\" {\n",
      "      \u001b[32m+\u001b[0m\u001b[0m api_server_authorized_ip_ranges     = (known after apply)\n",
      "      \u001b[32m+\u001b[0m\u001b[0m dns_prefix                          = \"tsfn14g00\"\n",
      "      \u001b[32m+\u001b[0m\u001b[0m fqdn                                = (known after apply)\n",
      "      \u001b[32m+\u001b[0m\u001b[0m http_application_routing_zone_name  = (known after apply)\n",
      "      \u001b[32m+\u001b[0m\u001b[0m id                                  = (known after apply)\n",
      "      \u001b[32m+\u001b[0m\u001b[0m image_cleaner_enabled               = false\n",
      "      \u001b[32m+\u001b[0m\u001b[0m image_cleaner_interval_hours        = 48\n",
      "      \u001b[32m+\u001b[0m\u001b[0m kube_admin_config                   = (sensitive value)\n",
      "      \u001b[32m+\u001b[0m\u001b[0m kube_admin_config_raw               = (sensitive value)\n",
      "      \u001b[32m+\u001b[0m\u001b[0m kube_config                         = (sensitive value)\n",
      "      \u001b[32m+\u001b[0m\u001b[0m kube_config_raw                     = (sensitive value)\n",
      "      \u001b[32m+\u001b[0m\u001b[0m kubernetes_version                  = \"1.27.7\"\n",
      "      \u001b[32m+\u001b[0m\u001b[0m location                            = \"westeurope\"\n",
      "      \u001b[32m+\u001b[0m\u001b[0m name                                = \"tsfn14g00\"\n",
      "      \u001b[32m+\u001b[0m\u001b[0m node_resource_group                 = (known after apply)\n",
      "      \u001b[32m+\u001b[0m\u001b[0m node_resource_group_id              = (known after apply)\n",
      "      \u001b[32m+\u001b[0m\u001b[0m oidc_issuer_url                     = (known after apply)\n",
      "      \u001b[32m+\u001b[0m\u001b[0m portal_fqdn                         = (known after apply)\n",
      "      \u001b[32m+\u001b[0m\u001b[0m private_cluster_enabled             = false\n",
      "      \u001b[32m+\u001b[0m\u001b[0m private_cluster_public_fqdn_enabled = false\n",
      "      \u001b[32m+\u001b[0m\u001b[0m private_dns_zone_id                 = (known after apply)\n",
      "      \u001b[32m+\u001b[0m\u001b[0m private_fqdn                        = (known after apply)\n",
      "      \u001b[32m+\u001b[0m\u001b[0m public_network_access_enabled       = true\n",
      "      \u001b[32m+\u001b[0m\u001b[0m resource_group_name                 = \"tsfn14g00\"\n",
      "      \u001b[32m+\u001b[0m\u001b[0m role_based_access_control_enabled   = true\n",
      "      \u001b[32m+\u001b[0m\u001b[0m run_command_enabled                 = true\n",
      "      \u001b[32m+\u001b[0m\u001b[0m sku_tier                            = \"Free\"\n",
      "      \u001b[32m+\u001b[0m\u001b[0m support_plan                        = \"KubernetesOfficial\"\n",
      "      \u001b[32m+\u001b[0m\u001b[0m workload_identity_enabled           = false\n",
      "\n",
      "      \u001b[32m+\u001b[0m\u001b[0m default_node_pool {\n",
      "          \u001b[32m+\u001b[0m\u001b[0m kubelet_disk_type    = (known after apply)\n",
      "          \u001b[32m+\u001b[0m\u001b[0m max_pods             = (known after apply)\n",
      "          \u001b[32m+\u001b[0m\u001b[0m name                 = \"default\"\n",
      "          \u001b[32m+\u001b[0m\u001b[0m node_count           = 1\n",
      "          \u001b[32m+\u001b[0m\u001b[0m node_labels          = (known after apply)\n",
      "          \u001b[32m+\u001b[0m\u001b[0m orchestrator_version = (known after apply)\n",
      "          \u001b[32m+\u001b[0m\u001b[0m os_disk_size_gb      = (known after apply)\n",
      "          \u001b[32m+\u001b[0m\u001b[0m os_disk_type         = \"Managed\"\n",
      "          \u001b[32m+\u001b[0m\u001b[0m os_sku               = (known after apply)\n",
      "          \u001b[32m+\u001b[0m\u001b[0m scale_down_mode      = \"Delete\"\n",
      "          \u001b[32m+\u001b[0m\u001b[0m type                 = \"VirtualMachineScaleSets\"\n",
      "          \u001b[32m+\u001b[0m\u001b[0m ultra_ssd_enabled    = false\n",
      "          \u001b[32m+\u001b[0m\u001b[0m vm_size              = \"Standard_B2s\"\n",
      "          \u001b[32m+\u001b[0m\u001b[0m workload_runtime     = (known after apply)\n",
      "        }\n",
      "\n",
      "      \u001b[32m+\u001b[0m\u001b[0m identity {\n",
      "          \u001b[32m+\u001b[0m\u001b[0m principal_id = (known after apply)\n",
      "          \u001b[32m+\u001b[0m\u001b[0m tenant_id    = (known after apply)\n",
      "          \u001b[32m+\u001b[0m\u001b[0m type         = \"SystemAssigned\"\n",
      "        }\n",
      "    }\n",
      "\n",
      "\u001b[1m  # azurerm_network_watcher.networkwatcher\u001b[0m will be created\n",
      "\u001b[0m  \u001b[32m+\u001b[0m\u001b[0m resource \"azurerm_network_watcher\" \"networkwatcher\" {\n",
      "      \u001b[32m+\u001b[0m\u001b[0m id                  = (known after apply)\n",
      "      \u001b[32m+\u001b[0m\u001b[0m location            = \"westeurope\"\n",
      "      \u001b[32m+\u001b[0m\u001b[0m name                = \"NetworkWatcher_westeurope\"\n",
      "      \u001b[32m+\u001b[0m\u001b[0m resource_group_name = \"NetworkWatcherRG\"\n",
      "    }\n",
      "\n",
      "\u001b[1m  # azurerm_resource_group.main\u001b[0m will be created\n",
      "\u001b[0m  \u001b[32m+\u001b[0m\u001b[0m resource \"azurerm_resource_group\" \"main\" {\n",
      "      \u001b[32m+\u001b[0m\u001b[0m id       = (known after apply)\n",
      "      \u001b[32m+\u001b[0m\u001b[0m location = \"westeurope\"\n",
      "      \u001b[32m+\u001b[0m\u001b[0m name     = \"tsfn14g00\"\n",
      "    }\n",
      "\n",
      "\u001b[1m  # azurerm_resource_group.networkwatcher\u001b[0m will be created\n",
      "\u001b[0m  \u001b[32m+\u001b[0m\u001b[0m resource \"azurerm_resource_group\" \"networkwatcher\" {\n",
      "      \u001b[32m+\u001b[0m\u001b[0m id       = (known after apply)\n",
      "      \u001b[32m+\u001b[0m\u001b[0m location = \"westeurope\"\n",
      "      \u001b[32m+\u001b[0m\u001b[0m name     = \"NetworkWatcherRG\"\n",
      "    }\n",
      "\n",
      "\u001b[1m  # azurerm_role_assignment.main\u001b[0m will be created\n",
      "\u001b[0m  \u001b[32m+\u001b[0m\u001b[0m resource \"azurerm_role_assignment\" \"main\" {\n",
      "      \u001b[32m+\u001b[0m\u001b[0m id                               = (known after apply)\n",
      "      \u001b[32m+\u001b[0m\u001b[0m name                             = (known after apply)\n",
      "      \u001b[32m+\u001b[0m\u001b[0m principal_id                     = (known after apply)\n",
      "      \u001b[32m+\u001b[0m\u001b[0m principal_type                   = (known after apply)\n",
      "      \u001b[32m+\u001b[0m\u001b[0m role_definition_id               = (known after apply)\n",
      "      \u001b[32m+\u001b[0m\u001b[0m role_definition_name             = \"AcrPull\"\n",
      "      \u001b[32m+\u001b[0m\u001b[0m scope                            = (known after apply)\n",
      "      \u001b[32m+\u001b[0m\u001b[0m skip_service_principal_aad_check = true\n",
      "    }\n",
      "\n",
      "\u001b[1mPlan:\u001b[0m 6 to add, 0 to change, 0 to destroy.\n",
      "\u001b[0m\u001b[0m\u001b[1mazurerm_resource_group.networkwatcher: Creating...\u001b[0m\u001b[0m\n",
      "\u001b[0m\u001b[1mazurerm_resource_group.main: Creating...\u001b[0m\u001b[0m\n",
      "\u001b[0m\u001b[1mazurerm_resource_group.main: Creation complete after 1s [id=/subscriptions/dc438970-aa32-41b3-8fe2-f587309a0208/resourceGroups/tsfn14g00]\u001b[0m\n",
      "\u001b[0m\u001b[1mazurerm_container_registry.main: Creating...\u001b[0m\u001b[0m\n",
      "\u001b[0m\u001b[1mazurerm_kubernetes_cluster.main: Creating...\u001b[0m\u001b[0m\n",
      "\u001b[0m\u001b[1mazurerm_resource_group.networkwatcher: Creation complete after 1s [id=/subscriptions/dc438970-aa32-41b3-8fe2-f587309a0208/resourceGroups/NetworkWatcherRG]\u001b[0m\n",
      "\u001b[0m\u001b[1mazurerm_network_watcher.networkwatcher: Creating...\u001b[0m\u001b[0m\n",
      "\u001b[0m\u001b[1mazurerm_network_watcher.networkwatcher: Creation complete after 1s [id=/subscriptions/dc438970-aa32-41b3-8fe2-f587309a0208/resourceGroups/NetworkWatcherRG/providers/Microsoft.Network/networkWatchers/NetworkWatcher_westeurope]\u001b[0m\n",
      "\u001b[0m\u001b[1mazurerm_container_registry.main: Still creating... [10s elapsed]\u001b[0m\u001b[0m\n",
      "\u001b[0m\u001b[1mazurerm_kubernetes_cluster.main: Still creating... [10s elapsed]\u001b[0m\u001b[0m\n",
      "\u001b[0m\u001b[1mazurerm_container_registry.main: Creation complete after 15s [id=/subscriptions/dc438970-aa32-41b3-8fe2-f587309a0208/resourceGroups/tsfn14g00/providers/Microsoft.ContainerRegistry/registries/tsfn14g00]\u001b[0m\n",
      "\u001b[0m\u001b[1mazurerm_kubernetes_cluster.main: Still creating... [20s elapsed]\u001b[0m\u001b[0m\n",
      "\u001b[0m\u001b[1mazurerm_kubernetes_cluster.main: Still creating... [30s elapsed]\u001b[0m\u001b[0m\n",
      "\u001b[0m\u001b[1mazurerm_kubernetes_cluster.main: Still creating... [40s elapsed]\u001b[0m\u001b[0m\n",
      "\u001b[0m\u001b[1mazurerm_kubernetes_cluster.main: Still creating... [50s elapsed]\u001b[0m\u001b[0m\n",
      "\u001b[0m\u001b[1mazurerm_kubernetes_cluster.main: Still creating... [1m0s elapsed]\u001b[0m\u001b[0m\n",
      "\u001b[0m\u001b[1mazurerm_kubernetes_cluster.main: Still creating... [1m10s elapsed]\u001b[0m\u001b[0m\n",
      "\u001b[0m\u001b[1mazurerm_kubernetes_cluster.main: Still creating... [1m20s elapsed]\u001b[0m\u001b[0m\n",
      "\u001b[0m\u001b[1mazurerm_kubernetes_cluster.main: Still creating... [1m30s elapsed]\u001b[0m\u001b[0m\n",
      "\u001b[0m\u001b[1mazurerm_kubernetes_cluster.main: Still creating... [1m40s elapsed]\u001b[0m\u001b[0m\n",
      "\u001b[0m\u001b[1mazurerm_kubernetes_cluster.main: Still creating... [1m50s elapsed]\u001b[0m\u001b[0m\n",
      "\u001b[0m\u001b[1mazurerm_kubernetes_cluster.main: Still creating... [2m0s elapsed]\u001b[0m\u001b[0m\n",
      "\u001b[0m\u001b[1mazurerm_kubernetes_cluster.main: Still creating... [2m10s elapsed]\u001b[0m\u001b[0m\n",
      "\u001b[0m\u001b[1mazurerm_kubernetes_cluster.main: Still creating... [2m20s elapsed]\u001b[0m\u001b[0m\n",
      "\u001b[0m\u001b[1mazurerm_kubernetes_cluster.main: Still creating... [2m30s elapsed]\u001b[0m\u001b[0m\n",
      "\u001b[0m\u001b[1mazurerm_kubernetes_cluster.main: Still creating... [2m40s elapsed]\u001b[0m\u001b[0m\n",
      "\u001b[0m\u001b[1mazurerm_kubernetes_cluster.main: Still creating... [2m50s elapsed]\u001b[0m\u001b[0m\n",
      "\u001b[0m\u001b[1mazurerm_kubernetes_cluster.main: Still creating... [3m0s elapsed]\u001b[0m\u001b[0m\n",
      "\u001b[0m\u001b[1mazurerm_kubernetes_cluster.main: Still creating... [3m10s elapsed]\u001b[0m\u001b[0m\n",
      "\u001b[0m\u001b[1mazurerm_kubernetes_cluster.main: Still creating... [3m20s elapsed]\u001b[0m\u001b[0m\n",
      "\u001b[0m\u001b[1mazurerm_kubernetes_cluster.main: Still creating... [3m30s elapsed]\u001b[0m\u001b[0m\n",
      "\u001b[0m\u001b[1mazurerm_kubernetes_cluster.main: Still creating... [3m40s elapsed]\u001b[0m\u001b[0m\n",
      "\u001b[0m\u001b[1mazurerm_kubernetes_cluster.main: Still creating... [3m50s elapsed]\u001b[0m\u001b[0m\n",
      "\u001b[0m\u001b[1mazurerm_kubernetes_cluster.main: Still creating... [4m0s elapsed]\u001b[0m\u001b[0m\n",
      "\u001b[0m\u001b[1mazurerm_kubernetes_cluster.main: Still creating... [4m10s elapsed]\u001b[0m\u001b[0m\n",
      "\u001b[0m\u001b[1mazurerm_kubernetes_cluster.main: Creation complete after 4m12s [id=/subscriptions/dc438970-aa32-41b3-8fe2-f587309a0208/resourceGroups/tsfn14g00/providers/Microsoft.ContainerService/managedClusters/tsfn14g00]\u001b[0m\n",
      "\u001b[0m\u001b[1mazurerm_role_assignment.main: Creating...\u001b[0m\u001b[0m\n",
      "\u001b[0m\u001b[1mazurerm_role_assignment.main: Still creating... [10s elapsed]\u001b[0m\u001b[0m\n",
      "\u001b[0m\u001b[1mazurerm_role_assignment.main: Still creating... [20s elapsed]\u001b[0m\u001b[0m\n",
      "\u001b[0m\u001b[1mazurerm_role_assignment.main: Creation complete after 24s [id=/subscriptions/dc438970-aa32-41b3-8fe2-f587309a0208/resourceGroups/tsfn14g00/providers/Microsoft.ContainerRegistry/registries/tsfn14g00/providers/Microsoft.Authorization/roleAssignments/0c577dd5-c0f0-3dd5-ac76-4dcb16bd0e92]\u001b[0m\n",
      "\u001b[0m\u001b[1m\u001b[32m\n",
      "Apply complete! Resources: 6 added, 0 changed, 0 destroyed.\n",
      "\u001b[0m"
     ]
    }
   ],
   "source": [
    "!terraform apply -auto-approve"
   ]
  },
  {
   "cell_type": "markdown",
   "metadata": {},
   "source": [
    "## List Azure Resource Groups\n",
    "\n",
    "- The Azure CLI command `az group list -o table` lists all Resource Groups in Azure.\n",
    "- We see that the two Resource Groups defined in the Terraform project has been created.\n",
    "- We also see an additional Resource Group `MC_tsfn14g00_tsfn14g00_westeurope` that is automatically created by Azure.\n",
    "  - This Resource Group isn't included in the Terraform Project, but will automatically be destroyed by `terraform destroy`."
   ]
  },
  {
   "cell_type": "code",
   "execution_count": 10,
   "metadata": {
    "vscode": {
     "languageId": "shellscript"
    }
   },
   "outputs": [
    {
     "name": "stdout",
     "output_type": "stream",
     "text": [
      "Name                               Location    Status\n",
      "---------------------------------  ----------  ---------\n",
      "tsfn14g00                          westeurope  Succeeded\n",
      "NetworkWatcherRG                   westeurope  Succeeded\n",
      "MC_tsfn14g00_tsfn14g00_westeurope  westeurope  Succeeded\n"
     ]
    }
   ],
   "source": [
    "!az group list -o table"
   ]
  },
  {
   "cell_type": "markdown",
   "metadata": {},
   "source": [
    "## List Resources in Resource Group `tsfn14g00`\n",
    "\n",
    "- The Azure CLI command `az resource list -n tsfn14g00 -o table` lists resources in Resource Group `tsfn14g00`.\n",
    "- We see that the Resource Group contains the Azure Kubernetes Service and the Azure Container Registry."
   ]
  },
  {
   "cell_type": "code",
   "execution_count": 11,
   "metadata": {
    "vscode": {
     "languageId": "shellscript"
    }
   },
   "outputs": [
    {
     "name": "stdout",
     "output_type": "stream",
     "text": [
      "Name       ResourceGroup    Location    Type                                        Status\n",
      "---------  ---------------  ----------  ------------------------------------------  --------\n",
      "tsfn14g00  tsfn14g00        westeurope  Microsoft.ContainerRegistry/registries\n",
      "tsfn14g00  tsfn14g00        westeurope  Microsoft.ContainerService/managedClusters\n"
     ]
    }
   ],
   "source": [
    "!az resource list -n tsfn14g00 -o table"
   ]
  },
  {
   "cell_type": "markdown",
   "metadata": {},
   "source": [
    "## List Azure Container Registries\n",
    "\n",
    "- The Azure CLI command `az acr list -o table` lists all Container Registries in Azure.\n",
    "- We see that the Container Registry defined in the Terraform project has been created."
   ]
  },
  {
   "cell_type": "code",
   "execution_count": 12,
   "metadata": {
    "vscode": {
     "languageId": "shellscript"
    }
   },
   "outputs": [
    {
     "name": "stdout",
     "output_type": "stream",
     "text": [
      "NAME       RESOURCE GROUP    LOCATION    SKU    LOGIN SERVER          CREATION DATE         ADMIN ENABLED\n",
      "---------  ----------------  ----------  -----  --------------------  --------------------  ---------------\n",
      "tsfn14g00  tsfn14g00         westeurope  Basic  tsfn14g00.azurecr.io  2024-02-10T14:05:12Z  True\n"
     ]
    }
   ],
   "source": [
    "!az acr list -o table"
   ]
  },
  {
   "cell_type": "markdown",
   "metadata": {},
   "source": [
    "## List Repositories in Container Registry `tsfn14g00 `\n",
    "\n",
    "- The Azure CLI command `az acr repository list -n tsfn14g00 --top 10 -o table` lists Repositories in a Azure Container Registry `tsfn14g00`.\n",
    "  - The `-n` option is manditory and specifies the `NAME` of the Container Registry.\n",
    "  - The `--top 10` limits the list to the first 10 Repositories (remove to see all Repositories).\n",
    "- We see that Container Registry `tsfn14g00` doesn't contain any Repositories."
   ]
  },
  {
   "cell_type": "code",
   "execution_count": 13,
   "metadata": {
    "vscode": {
     "languageId": "shellscript"
    }
   },
   "outputs": [
    {
     "name": "stdout",
     "output_type": "stream",
     "text": [
      "\n"
     ]
    }
   ],
   "source": [
    "!az acr repository list -n tsfn14g00 --top 10 -o table"
   ]
  },
  {
   "cell_type": "markdown",
   "metadata": {},
   "source": [
    "## Show Information about Azure Container Registry `tsfn14g00`\n",
    "\n",
    "- The Azure CLI command `az acr show -n tsfn14g00 -o table` shows information about Container Registry `tsfn14g00`.\n",
    "- It shows the Container Registry's `LOGIN SERVER` which is the URL to your Container Registry on Azure.\n",
    "  - **This is the URL you would use to upload Docker Images to the Azure Container Registry.**"
   ]
  },
  {
   "cell_type": "code",
   "execution_count": 14,
   "metadata": {
    "vscode": {
     "languageId": "shellscript"
    }
   },
   "outputs": [
    {
     "name": "stdout",
     "output_type": "stream",
     "text": [
      "NAME       RESOURCE GROUP    LOCATION    SKU    LOGIN SERVER          CREATION DATE         ADMIN ENABLED\n",
      "---------  ----------------  ----------  -----  --------------------  --------------------  ---------------\n",
      "tsfn14g00  tsfn14g00         westeurope  Basic  tsfn14g00.azurecr.io  2024-02-10T14:05:12Z  True\n"
     ]
    }
   ],
   "source": [
    "!az acr show -n tsfn14g00 -o table\n",
    "\n",
    "# Let's store the LOGIN SERVER in a Python variable so we can use it later in this notebook\n",
    "CONTAINER_REGISTRY_LOGIN_SERVER=!az acr show -n tsfn14g00 --query loginServer -o tsv\n",
    "CONTAINER_REGISTRY_LOGIN_SERVER=CONTAINER_REGISTRY_LOGIN_SERVER[0]"
   ]
  },
  {
   "cell_type": "markdown",
   "metadata": {},
   "source": [
    "## Show Credentials for Azure Container Registry `tsfn14g00`\n",
    "\n",
    "- The Azure CLI command `az acr credential show -n tsfn14g00 -o table` shows credentials about Container Registry `tsfn14g00`.\n",
    "- It shows the Container Registry's `USERNAME` and  `PASSWORD` to use to authenticate with your Azure Container Registry.\n",
    "  - **This is the USERNAME and PASSWORD you would use to login to Docker to upload Images to the Azure Container Registry.**"
   ]
  },
  {
   "cell_type": "code",
   "execution_count": 15,
   "metadata": {
    "vscode": {
     "languageId": "shellscript"
    }
   },
   "outputs": [
    {
     "name": "stdout",
     "output_type": "stream",
     "text": [
      "USERNAME    PASSWORD                                              PASSWORD2\n",
      "----------  ----------------------------------------------------  ----------------------------------------------------\n",
      "tsfn14g00   Z1lB6wzuValdlIy+kDVrpo9hbySz5E8r9FKxylOTu3+ACRAJDkyl  Wb0dHqFefw+utomWt8vpmelQa/ZlgD1Kd/RS/ucevA+ACRC3uwYO\n"
     ]
    }
   ],
   "source": [
    "!az acr credential show -n tsfn14g00 -o table\n",
    "\n",
    "# Let's store the USERNAME and PASSWORD in Python variables so we can use them later in this notebook\n",
    "CONTAINER_REGISTRY_USERNAME=!az acr credential show -n tsfn14g00 --query username -o tsv\n",
    "CONTAINER_REGISTRY_USERNAME=CONTAINER_REGISTRY_USERNAME[0]\n",
    "CONTAINER_REGISTRY_PASSWORD=!az acr credential show -n tsfn14g00 --query passwords[0].value -o tsv\n",
    "CONTAINER_REGISTRY_PASSWORD=CONTAINER_REGISTRY_PASSWORD[0]"
   ]
  },
  {
   "cell_type": "markdown",
   "metadata": {},
   "source": [
    "## Login to Azure Container Registry via Docker\n",
    "\n",
    "- Replace the variables below with your `LOGIN_SERVER`, `USERNAME` and `PASSWORD`."
   ]
  },
  {
   "cell_type": "code",
   "execution_count": 17,
   "metadata": {
    "vscode": {
     "languageId": "shellscript"
    }
   },
   "outputs": [
    {
     "name": "stdout",
     "output_type": "stream",
     "text": [
      "WARNING! Using --password via the CLI is insecure. Use --password-stdin.\n",
      "Login Succeeded\n"
     ]
    }
   ],
   "source": [
    "!docker login $CONTAINER_REGISTRY_LOGIN_SERVER -u $CONTAINER_REGISTRY_USERNAME -p $CONTAINER_REGISTRY_PASSWORD\n",
    "\n",
    "# In Ubuntu with environment variables CONTAINER_REGISTRY_LOGIN_SERVER, CONTAINER_REGISTRY_USERNAME and CONTAINER_REGISTRY_USERNAME\n",
    "#!echo $PASSWORD | docker login $LOGIN_SERVER -u $USERNAME --password-stdin  > /dev/null 2>&1"
   ]
  },
  {
   "cell_type": "markdown",
   "metadata": {},
   "source": [
    "## Let's view the code in `video-streaming/src/index.js`\n",
    "\n",
    "- The file contains code for creating a simple Node.js application, including the steps:\n",
    "  1. Require the NPM package \"express\".\n",
    "  2. Read the environment variable PORT to use as the Express web server's listen port.\n",
    "  3. Creates an instance of an Express web server.\n",
    "  4. Define a GET route for the \"/video\" path.\n",
    "     1. Read information about the video file \"videos/SampleVideo_1280x720_1mb.mp4\".\n",
    "     2. Write the HTTP response header including information about the file size in bytes and content type (video/mp4).\n",
    "     3. Stream the file contents to the HTTP GET response.\n",
    "  5. Start the Express web server listening on the port stored in environment variable PORT.\n",
    "- As we see, this code produces a simple microservice that streams a video file from the file system to an HTTP GET response."
   ]
  },
  {
   "cell_type": "code",
   "execution_count": 18,
   "metadata": {
    "vscode": {
     "languageId": "shellscript"
    }
   },
   "outputs": [
    {
     "name": "stdout",
     "output_type": "stream",
     "text": [
      "const express = require(\"express\");\n",
      "const fs = require(\"fs\");\n",
      "\n",
      "if (!process.env.PORT) {\n",
      "    throw new Error(\"Please specify the port number for the HTTP server with the environment variable PORT.\");\n",
      "}\n",
      "\n",
      "const PORT = process.env.PORT;\n",
      "\n",
      "//\n",
      "// Application entry point.\n",
      "//\n",
      "async function main() {\n",
      "\n",
      "    const app = express();\n",
      "\n",
      "    app.get(\"/video\", async (req, res) => { // Route for streaming video.\n",
      "        \n",
      "        const videoPath = \"./videos/SampleVideo_1280x720_1mb.mp4\";\n",
      "        const stats = await fs.promises.stat(videoPath);\n",
      "    \n",
      "        res.writeHead(200, {\n",
      "            \"Content-Length\": stats.size,\n",
      "            \"Content-Type\": \"video/mp4\",\n",
      "        });\n",
      "\n",
      "        fs.createReadStream(videoPath).pipe(res);\n",
      "    });\n",
      "\n",
      "    app.listen(PORT, () => {\n",
      "        console.log(\"Microservice online.\");\n",
      "    });\n",
      "}\n",
      "\n",
      "main()\n",
      "    .catch(err => {\n",
      "        console.error(\"Microservice failed to start.\");\n",
      "        console.error(err && err.stack || err);\n",
      "    });"
     ]
    }
   ],
   "source": [
    "cat video-streaming/src/index.js"
   ]
  },
  {
   "cell_type": "markdown",
   "metadata": {},
   "source": [
    "## Initialize the Node.js project\n",
    "\n",
    "- Let's initialise the Node.js project for the microservice by:\n",
    "  - Running `npm init`.\n",
    "  - Running `npm pkg` to configure `package.json`.\n",
    "  - Running `npm install` to install the required NPM packages."
   ]
  },
  {
   "cell_type": "code",
   "execution_count": 19,
   "metadata": {
    "vscode": {
     "languageId": "shellscript"
    }
   },
   "outputs": [
    {
     "data": {
      "text/plain": [
       "['Wrote to /home/patrick/projects/tsfn14/tsfn14/03_Azure_and_Terraform/04_kubernetes_cluster/video-streaming/package.json:',\n",
       " '',\n",
       " '{',\n",
       " '  \"name\": \"video-streaming\",',\n",
       " '  \"version\": \"1.0.0\",',\n",
       " '  \"description\": \"\",',\n",
       " '  \"main\": \"index.js\",',\n",
       " '  \"scripts\": {',\n",
       " '    \"test\": \"echo \\\\\"Error: no test specified\\\\\" && exit 1\"',\n",
       " '  },',\n",
       " '  \"keywords\": [],',\n",
       " '  \"author\": \"\",',\n",
       " '  \"license\": \"ISC\"',\n",
       " '}',\n",
       " '',\n",
       " '']"
      ]
     },
     "execution_count": 19,
     "metadata": {},
     "output_type": "execute_result"
    }
   ],
   "source": [
    "%%system\n",
    "#rm -rf ./video-streaming/node_modules ./video-streaming/package.json ./video-streaming/package-lock.json\n",
    "cd video-streaming\n",
    "npm init -y\n",
    "npm pkg set 'main'='./src/index.js'\n",
    "npm pkg set 'scripts.start'='node ./src/index.js'\n",
    "npm pkg set 'scripts.start:dev'='nodemon ./src/index.js'\n",
    "npm pkg delete 'scripts.test'\n",
    "npm install --silent --save express@5.0.0-beta.1\n",
    "npm install --silent --save-dev nodemon@3.0.3\n",
    "cd .."
   ]
  },
  {
   "cell_type": "markdown",
   "metadata": {},
   "source": [
    "## Let's look at the Docker file used to build an image of the Node.js project\n",
    "\n",
    "- Our image is based on the slimmed-down `alpine` version of `node:19.9.0`.\n",
    "- The working directory in the image is `/usr/src/app`.\n",
    "- The files `package.json` and `package-lock.json` are copied from the host computer to the image's working directory.\n",
    "- The command `npm ci --omit-dev` is run in the image's working directory which installs non-dev NPM packages from `package.json`.\n",
    "- The file `index.js` is copied from the host computer's `src` folder to the image's working directory's `src` folder.\n",
    "- The file `SampleVideo_1280x720_1mb.mp4` is copied from the host computer's `videos` folder to the image's working directory's `videos` folder.\n",
    "- The command `npm start` will be run in the working directory when an image container is started."
   ]
  },
  {
   "cell_type": "code",
   "execution_count": 20,
   "metadata": {
    "vscode": {
     "languageId": "shellscript"
    }
   },
   "outputs": [
    {
     "name": "stdout",
     "output_type": "stream",
     "text": [
      "FROM node:19.9.0-alpine\n",
      "\n",
      "WORKDIR /usr/src/app\n",
      "COPY package*.json ./\n",
      "RUN npm ci --omit=dev\n",
      "COPY ./src ./src\n",
      "COPY ./videos ./videos\n",
      "\n",
      "CMD npm start"
     ]
    }
   ],
   "source": [
    "#!type video-streaming/Dockerfile # use this on Windows\n",
    "!cat video-streaming/Dockerfile"
   ]
  },
  {
   "cell_type": "markdown",
   "metadata": {},
   "source": [
    "## Build and Push a Docker Image to Azure Container Registry\n",
    "\n",
    "- Here we are building an image of the Node.js application (microservice).\n",
    "- We are tagging the image as `tsfn14g00.azurecr.io/video-streaming:1,`where:\n",
    "  - `tsfn14g00.azurecr.io` is the URL (LOGIN SERVER) to our Container Registry.\n",
    "  - `video-streaming` is the name of our image (repository).\n",
    "  - `1` is the version of the image (tag).\n",
    "- Then the image is pushed to the Azure Container Registry.\n",
    "- Finally, the local image is removed from the host computer."
   ]
  },
  {
   "cell_type": "code",
   "execution_count": 21,
   "metadata": {
    "vscode": {
     "languageId": "shellscript"
    }
   },
   "outputs": [
    {
     "data": {
      "text/plain": [
       "['failed to fetch metadata: fork/exec /usr/local/lib/docker/cli-plugins/docker-buildx: no such file or directory',\n",
       " '',\n",
       " 'DEPRECATED: The legacy builder is deprecated and will be removed in a future release.',\n",
       " '            Install the buildx component to build images with BuildKit:',\n",
       " '            https://docs.docker.com/go/buildx/',\n",
       " '',\n",
       " 'sha256:8850cfb97104493c8041d2a667abae785b1fd1c40bc36d12c36aa2405c26fbe7',\n",
       " 'The push refers to repository [tsfn14g00.azurecr.io/video-streaming]',\n",
       " 'afa65e0fe51a: Preparing',\n",
       " '25cb75a35226: Preparing',\n",
       " 'fcee9e1f0ab0: Preparing',\n",
       " 'c37422ff2937: Preparing',\n",
       " '995d88721068: Preparing',\n",
       " 'e394b5a78515: Preparing',\n",
       " '9b2d5af7f709: Preparing',\n",
       " 'b240fe81adaa: Preparing',\n",
       " 'bb01bd7e32b5: Preparing',\n",
       " 'e394b5a78515: Waiting',\n",
       " '9b2d5af7f709: Waiting',\n",
       " 'b240fe81adaa: Waiting',\n",
       " 'bb01bd7e32b5: Waiting',\n",
       " 'c37422ff2937: Pushed',\n",
       " '25cb75a35226: Pushed',\n",
       " '995d88721068: Pushed',\n",
       " 'afa65e0fe51a: Pushed',\n",
       " 'fcee9e1f0ab0: Pushed',\n",
       " 'e394b5a78515: Pushed',\n",
       " '9b2d5af7f709: Pushed',\n",
       " 'bb01bd7e32b5: Pushed',\n",
       " 'b240fe81adaa: Pushed',\n",
       " '1: digest: sha256:07dc63ad37c3031d10b0254e133c41ee93402f3bad2208cafe86dcea1928a5c9 size: 2203',\n",
       " 'Untagged: tsfn14g00.azurecr.io/video-streaming:1',\n",
       " 'Untagged: tsfn14g00.azurecr.io/video-streaming@sha256:07dc63ad37c3031d10b0254e133c41ee93402f3bad2208cafe86dcea1928a5c9',\n",
       " 'Deleted: sha256:8850cfb97104493c8041d2a667abae785b1fd1c40bc36d12c36aa2405c26fbe7',\n",
       " 'Deleted: sha256:a6c7b120a404da4873e3f26ae11a82e9e63daa6a009b6446d06c76d8911bb9ed',\n",
       " 'Deleted: sha256:a304e32fc560b8bf55fdb55a63df8e00246654b8c3357587558c571819525e64',\n",
       " 'Deleted: sha256:8f3ebb2d2a17d4a3c06e076dcacf0007e3a0dc6289dcdd43c2de6abb50355e40',\n",
       " 'Deleted: sha256:23b0dbddb8b7475b141c8061cf9c52094d79fde4738bb0ea91d86e5cf80c6a45',\n",
       " 'Deleted: sha256:e0be1b8514c1dbcc5206286016435fdae3a0ade031bf978f4936e5600142a9a5',\n",
       " 'Deleted: sha256:49f79103c6be409c033a9e8b893c260dea3d250200b7e122cea29a8e59d124e8',\n",
       " 'Deleted: sha256:a0a885f3706a8e3f405744ef0dc926c7becd29a0f2562a77301c188de707fb5f',\n",
       " 'Deleted: sha256:56b7edeeaca5c571a8ca9ce5e37362e1bf3514b06a02889380160fa315bfaa96',\n",
       " 'Deleted: sha256:6731cc4ee670fbd799b3f438f78d46bdf5d13740522f7c94167ba5c69739fea9',\n",
       " 'Deleted: sha256:04d08039e8cd455067b1c60c395092c422b789f17573e4d1a91ceb5b41dd00b2',\n",
       " 'REPOSITORY   TAG       IMAGE ID   CREATED   SIZE']"
      ]
     },
     "execution_count": 21,
     "metadata": {},
     "output_type": "execute_result"
    }
   ],
   "source": [
    "%%system\n",
    "\n",
    "# Build Docker image with Nodejs Application\n",
    "docker build -q -t {CONTAINER_REGISTRY_LOGIN_SERVER}/video-streaming:1 -f ./video-streaming/Dockerfile ./video-streaming\n",
    "\n",
    "# Push Docker Image to Azure Container Registry\n",
    "docker push {CONTAINER_REGISTRY_LOGIN_SERVER}/video-streaming:1\n",
    "\n",
    "# Clean up\n",
    "docker rmi {CONTAINER_REGISTRY_LOGIN_SERVER}/video-streaming:1\n",
    "docker images {CONTAINER_REGISTRY_LOGIN_SERVER}/video-streaming:1"
   ]
  },
  {
   "cell_type": "markdown",
   "metadata": {},
   "source": [
    "## Logout from the Azure Container Registry via Docker"
   ]
  },
  {
   "cell_type": "code",
   "execution_count": 23,
   "metadata": {
    "vscode": {
     "languageId": "shellscript"
    }
   },
   "outputs": [
    {
     "name": "stdout",
     "output_type": "stream",
     "text": [
      "Removing login credentials for tsfn14g00.azurecr.io\n"
     ]
    }
   ],
   "source": [
    "!docker logout $CONTAINER_REGISTRY_LOGIN_SERVER"
   ]
  },
  {
   "cell_type": "markdown",
   "metadata": {},
   "source": [
    "## List Repositories in Container Registry `tsfn14g00 `\n",
    "\n",
    "- We see that the Repository `video-streaming` has been created in Container Registry `tsfn14g00`."
   ]
  },
  {
   "cell_type": "code",
   "execution_count": 24,
   "metadata": {
    "vscode": {
     "languageId": "shellscript"
    }
   },
   "outputs": [
    {
     "name": "stdout",
     "output_type": "stream",
     "text": [
      "Result\n",
      "---------------\n",
      "video-streaming\n"
     ]
    }
   ],
   "source": [
    "!az acr repository list -n tsfn14g00 --top 10 -o table"
   ]
  },
  {
   "cell_type": "markdown",
   "metadata": {},
   "source": [
    "## Show Information about Repository `video-streaming`\n",
    "\n",
    "- The Azure CLI command `az acr repository show -n tsfn14g00 --repository video-streaming -o table`\n",
    "  - Shows information about Repository `video-streaming` in Container Registry `tsfn14g00`.\n",
    "    - It contains images named `video-streaming` (ImageName).\n",
    "    - It has a tag count of `1` (TagCount), i.e. currently there is only one tag for the `video-streaming` image."
   ]
  },
  {
   "cell_type": "code",
   "execution_count": 25,
   "metadata": {
    "vscode": {
     "languageId": "shellscript"
    }
   },
   "outputs": [
    {
     "name": "stdout",
     "output_type": "stream",
     "text": [
      "CreatedTime                   ImageName        LastUpdateTime                ManifestCount    Registry              TagCount\n",
      "----------------------------  ---------------  ----------------------------  ---------------  --------------------  ----------\n",
      "2024-02-10T14:12:06.6669439Z  video-streaming  2024-02-10T14:12:06.7670932Z  1                tsfn14g00.azurecr.io  1\n"
     ]
    }
   ],
   "source": [
    "!az acr repository show -n tsfn14g00 --repository video-streaming -o table"
   ]
  },
  {
   "cell_type": "markdown",
   "metadata": {},
   "source": [
    "## List Tags in Repository `video-streaming`\n",
    "\n",
    "- The Azure CLI command `az acr repository show-tags -n tsfn14g00 --repository video-streaming --top 10 -o table`:\n",
    "  - Lists the tags in Repository `video-streaming` in Container Registry `tsfn14g00`.\n",
    "    - Currently there is only one tag.\n",
    "    - The tag has the value `1`."
   ]
  },
  {
   "cell_type": "code",
   "execution_count": 26,
   "metadata": {
    "vscode": {
     "languageId": "shellscript"
    }
   },
   "outputs": [
    {
     "name": "stdout",
     "output_type": "stream",
     "text": [
      "Result\n",
      "--------\n",
      "1\n"
     ]
    }
   ],
   "source": [
    "!az acr repository show-tags -n tsfn14g00 --repository video-streaming --top 10 -o table"
   ]
  },
  {
   "cell_type": "markdown",
   "metadata": {},
   "source": [
    "## Show Information about Image `video-streaming:1`\n",
    "\n",
    "- The Azure CLI command `az acr repository show -n tsfn14g00 --image video-streaming:1 -o table`:\n",
    "  - Shows information about image `video-streaming:1` in Container Registry `tsfn14g00`.\n",
    "    - The information includes the Digest for the image."
   ]
  },
  {
   "cell_type": "code",
   "execution_count": 27,
   "metadata": {
    "vscode": {
     "languageId": "shellscript"
    }
   },
   "outputs": [
    {
     "name": "stdout",
     "output_type": "stream",
     "text": [
      "CreatedTime                   Digest                                                                   LastUpdateTime                Name    Signed\n",
      "----------------------------  -----------------------------------------------------------------------  ----------------------------  ------  --------\n",
      "2024-02-10T14:12:06.7993853Z  sha256:07dc63ad37c3031d10b0254e133c41ee93402f3bad2208cafe86dcea1928a5c9  2024-02-10T14:12:06.7993853Z  1       False\n"
     ]
    }
   ],
   "source": [
    "!az acr repository show -n tsfn14g00 --image video-streaming:1 -o table"
   ]
  },
  {
   "cell_type": "markdown",
   "metadata": {},
   "source": [
    "## Show Azure Container Registry Usage\n",
    "\n",
    "- The command `az acr show-usage -n tsfn14g00 -o table` shows the usage of Container Registry `tsfn14g00`.\n",
    "  - We can see the maximum number of allowed bytes in the `LIMIT` column (first row).\n",
    "  - We can see the current number of bytes in the `CURRENT VALUE` column (first row)."
   ]
  },
  {
   "cell_type": "code",
   "execution_count": 28,
   "metadata": {
    "vscode": {
     "languageId": "shellscript"
    }
   },
   "outputs": [
    {
     "name": "stdout",
     "output_type": "stream",
     "text": [
      "NAME       LIMIT        CURRENT VALUE    UNIT\n",
      "---------  -----------  ---------------  ------\n",
      "Size       10737418240  56544784         Bytes\n",
      "Webhooks   2            0                Count\n",
      "ScopeMaps  100          0                Count\n",
      "Tokens     100          0                Count\n"
     ]
    }
   ],
   "source": [
    "!az acr show-usage -n tsfn14g00 -o table"
   ]
  },
  {
   "cell_type": "markdown",
   "metadata": {},
   "source": [
    "## List Azure Kubernetes Services\n",
    "\n",
    "- The Azure CLI command `az aks list -o table` lists all Azure Kubernetes Services in Azure.\n",
    "- We see that the Azure Kubernetes Service (AKS) defined in the Terraform project has been created."
   ]
  },
  {
   "cell_type": "code",
   "execution_count": 29,
   "metadata": {
    "vscode": {
     "languageId": "shellscript"
    }
   },
   "outputs": [
    {
     "name": "stdout",
     "output_type": "stream",
     "text": [
      "Name       Location    ResourceGroup    KubernetesVersion    CurrentKubernetesVersion    ProvisioningState    Fqdn\n",
      "---------  ----------  ---------------  -------------------  --------------------------  -------------------  -------------------------------------------\n",
      "tsfn14g00  westeurope  tsfn14g00        1.27.7               1.27.7                      Succeeded            tsfn14g00-9tvl5tf4.hcp.westeurope.azmk8s.io\n"
     ]
    }
   ],
   "source": [
    "!az aks list -o table"
   ]
  },
  {
   "cell_type": "markdown",
   "metadata": {},
   "source": [
    "## Add Azure Kubernetes Cluster Info. to Local Kubectl Config File\n",
    "\n",
    "- The Azure CLI command `az aks get-credentials --name tsfn14g00 --resource-group tsfn14g00` will:\n",
    "  - Get the credentials from the Azure Kubernetes Service `tsfn14g00` in Resource Group `tsfn14g00`.\n",
    "  - Add the credentials to the 'kubectl' CLI tool's `config` file on the host machine.\n",
    "    - The 'kubectl' CLI tool's `config` file is located at  `~/.kube/config` on Linux/macOs.\n",
    "    - The 'kubectl' CLI tool's `config` file is located at  `%USERPROFILE%\\.kube\\config` on Windows."
   ]
  },
  {
   "cell_type": "code",
   "execution_count": 30,
   "metadata": {
    "vscode": {
     "languageId": "shellscript"
    }
   },
   "outputs": [
    {
     "name": "stdout",
     "output_type": "stream",
     "text": [
      "\u001b[93mMerged \"tsfn14g00\" as current context in /home/patrick/.kube/config\u001b[0m\n"
     ]
    }
   ],
   "source": [
    "!az aks get-credentials --name tsfn14g00 --resource-group tsfn14g00\n",
    "\n",
    "# The command below attaches the Azure Kubernetes Cluster to the Azure Container Registry so that\n",
    "# the Azure Kubernetes Cluster can pull images from the Azure Container Registry, but we don't\n",
    "# have to do this explicitly here, since we do it in the Terraform file \"kubernetes-cluster.tf\".\n",
    "#az aks update -n tsfn14g00 -g tsfn14g00 --attach-acr tsfn14g00 -o table"
   ]
  },
  {
   "cell_type": "markdown",
   "metadata": {},
   "source": [
    "## Ensure the Kubectl Context is set to the Azure Kubernetes Cluster\n",
    "\n",
    "- The kubectl CLI command:\n",
    "  - `kubectl config get-contexts` lists all contexts in kubectl's config file.\n",
    "  - `kubectl config use-context [ContextName]` sets the current context to `[ContextName]` in kubectl's config file.\n",
    "  - `kubectl config current-context` returns the current context set in kubectl's config file.\n",
    "  - `kubectl config view` lists the contexts of kubectl's config file.\n",
    "- Here we just want to make sure kubectl's current context is set to the Azure Kubernetes Service's context.\n",
    "  - We see that the current context is `tsfn14g00` (or whatever you set the `app_name` Terraform variable to)."
   ]
  },
  {
   "cell_type": "code",
   "execution_count": 31,
   "metadata": {
    "vscode": {
     "languageId": "shellscript"
    }
   },
   "outputs": [
    {
     "name": "stdout",
     "output_type": "stream",
     "text": [
      "tsfn14g00\n"
     ]
    }
   ],
   "source": [
    "#!kubectl config get-contexts\n",
    "#!kubectl config use-context tsfn14g00\n",
    "!kubectl config current-context\n",
    "#!kubectl config view"
   ]
  },
  {
   "cell_type": "markdown",
   "metadata": {},
   "source": [
    "## List Deployments, Pods and Services\n",
    "\n",
    "- The kubectl command:\n",
    "  - `kubectl get deployments -o wide` lists all Deployments in the kubernetes cluster.\n",
    "  - `kubectl get pods -o wide` lists all Pods in the kubernetes cluster.\n",
    "  - `kubectl get services -o wide` lists all Services in the kubernetes cluster.\n",
    "- Notice we have:\n",
    "  - Not Deployments or Pods in the Azure Kubernetes Cluster.\n",
    "  - One ClusterIP Service in the Azure Kubernetes Cluster already defined before deploying any resources ourselves."
   ]
  },
  {
   "cell_type": "code",
   "execution_count": 32,
   "metadata": {
    "vscode": {
     "languageId": "shellscript"
    }
   },
   "outputs": [
    {
     "name": "stdout",
     "output_type": "stream",
     "text": [
      "No resources found in default namespace.\n",
      "No resources found in default namespace.\n",
      "NAME         TYPE        CLUSTER-IP   EXTERNAL-IP   PORT(S)   AGE     SELECTOR\n",
      "kubernetes   ClusterIP   10.0.0.1     <none>        443/TCP   7m12s   <none>\n"
     ]
    }
   ],
   "source": [
    "!kubectl get deployments -o wide\n",
    "!kubectl get pods -o wide\n",
    "!kubectl get services -o wide"
   ]
  },
  {
   "cell_type": "markdown",
   "metadata": {},
   "source": [
    "## Lets' look at the code in the file `manifests/deployment.yaml`\n",
    "\n",
    "- We see two kubenetes resources defined in the file:\n",
    "  - `kind: Deployment` and `kind: Service`.\n",
    "  - Notice how you can define multiple resources in a YAML file by separating them with three dashes `---`.\n",
    "- Deployment:\n",
    "  - The Deployment's `name` is `video-streaming`, sets `replicas` to `1`, and its `matchLabels` contains `app: video-streaming`.\n",
    "  - The Pod template's `labels` contains `app: video-streaming` and its settings under `containers` are defined as below:\n",
    "    - The container's `name` is `video-streaming`, and it pulls the `image` called `tsfn14g00.azurecr.io/video-streaming:1`\n",
    "      - `tsfn14g00.azurecr.io` is the URL to the Azure Container Registry.\n",
    "      - `video-streaming:1` is the name of the image, including the image's version (tag).\n",
    "    - The container sets one environment variable named `PORT` with the value `4000`.\n",
    "    - The container also `requests` `128m` of the node's `cpu` and `128Mi` of the node's `memory.`\n",
    "    - The container also `limits` the use to `256m` of the node's `cpu` and `256i` o the node's `memory.`\n",
    "- Service:\n",
    "  - The Service's `name` is `video-streaming`, sets it's `type` to `LoadBalancer`, and its `matchLabels` contains `app: video-streaming`.\n",
    "  - The Service is listening on `port` `80` and is redirecting traffic to `targetPort` `4000`."
   ]
  },
  {
   "cell_type": "code",
   "execution_count": 33,
   "metadata": {
    "vscode": {
     "languageId": "shellscript"
    }
   },
   "outputs": [
    {
     "name": "stdout",
     "output_type": "stream",
     "text": [
      "apiVersion: apps/v1\n",
      "kind: Deployment\n",
      "metadata:\n",
      "  name: video-streaming\n",
      "spec:\n",
      "  replicas: 1\n",
      "  selector:\n",
      "    matchLabels:\n",
      "      app: video-streaming\n",
      "  template:\n",
      "    metadata:\n",
      "      labels:\n",
      "        app: video-streaming\n",
      "    spec:\n",
      "      containers: \n",
      "      - name: video-streaming\n",
      "        image: tsfn14g00.azurecr.io/video-streaming:1\n",
      "        imagePullPolicy: IfNotPresent\n",
      "        env:\n",
      "        - name: PORT\n",
      "          value: \"4000\"\n",
      "        resources:\n",
      "          requests:\n",
      "            cpu: 128m\n",
      "            memory: 128Mi\n",
      "          limits:\n",
      "            cpu: 256m\n",
      "            memory: 256Mi\n",
      "---\n",
      "apiVersion: v1\n",
      "kind: Service\n",
      "metadata:\n",
      "  name: video-streaming\n",
      "spec:\n",
      "  selector:\n",
      "    app: video-streaming\n",
      "  type: LoadBalancer\n",
      "  ports:\n",
      "    - protocol: TCP\n",
      "      port: 80\n",
      "      targetPort: 4000"
     ]
    }
   ],
   "source": [
    "#!type manifests/deployment.yaml # use this on Windows\n",
    "!cat manifests/deployment.yaml"
   ]
  },
  {
   "cell_type": "markdown",
   "metadata": {},
   "source": [
    "## Apply Deployment to the Azure Kubernets Cluster\n",
    "\n",
    "- The kubectl command `kubectl apply -f manifests/deployment.yaml` will:\n",
    "  -  Apply the resource definitions in the file `manifests/deployment.yaml` to the kubernetes cluster."
   ]
  },
  {
   "cell_type": "code",
   "execution_count": 34,
   "metadata": {
    "vscode": {
     "languageId": "shellscript"
    }
   },
   "outputs": [
    {
     "name": "stdout",
     "output_type": "stream",
     "text": [
      "deployment.apps/video-streaming created\n",
      "service/video-streaming created\n"
     ]
    }
   ],
   "source": [
    "!kubectl apply -f manifests/deployment.yaml"
   ]
  },
  {
   "cell_type": "markdown",
   "metadata": {},
   "source": [
    "## List Deployments, Pods and Services\n",
    "\n",
    "- The kubectl command:\n",
    "  - `kubectl get deployments -o wide` lists all Deployments in the kubernetes cluster.\n",
    "  - `kubectl get pods -o wide` lists all Pods in the kubernetes cluster.\n",
    "  - `kubectl get services -o wide` lists all Services in the kubernetes cluster.\n",
    "- We see that the Deployment, with associated Pods (1 replica), and Service defined in the applied manifest have been created.\n",
    "- Furhermote, we see the Load Balancer's `EXTERNAL-IP` (public IP) which is the IP address you use to access your Service externally.\n",
    "  - **This is the IP address you would use to access your Service publically over the internet, e.g. http://EXTERNAL-IP**"
   ]
  },
  {
   "cell_type": "code",
   "execution_count": 35,
   "metadata": {
    "vscode": {
     "languageId": "shellscript"
    }
   },
   "outputs": [
    {
     "name": "stdout",
     "output_type": "stream",
     "text": [
      "NAME              READY   UP-TO-DATE   AVAILABLE   AGE\n",
      "video-streaming   1/1     1            1           36s\n",
      "NAME                               READY   STATUS    RESTARTS   AGE\n",
      "video-streaming-864b6976bf-q2fz9   1/1     Running   0          36s\n",
      "NAME              TYPE           CLUSTER-IP     EXTERNAL-IP   PORT(S)        AGE\n",
      "kubernetes        ClusterIP      10.0.0.1       <none>        443/TCP        7m56s\n",
      "video-streaming   LoadBalancer   10.0.101.109   20.82.72.18   80:32258/TCP   36s\n"
     ]
    }
   ],
   "source": [
    "!kubectl get deployments\n",
    "!kubectl get pods\n",
    "!kubectl get services\n",
    "\n",
    "# Let's store the Load Balancer's EXTERNAL-IP (public IP) in a Python variable so we can use it later in this notebook\n",
    "LOADBALANCER_PUBLIC_IP=!kubectl get service video-streaming -o jsonpath='{.status.loadBalancer.ingress[0].ip}'\n",
    "LOADBALANCER_PUBLIC_IP=LOADBALANCER_PUBLIC_IP[0]"
   ]
  },
  {
   "cell_type": "markdown",
   "metadata": {},
   "source": [
    "## Test the Microservice Application in the Kubernetes Cluster\n",
    "\n",
    "- Open a browser and enter the URL `http://EXTERNAL-IP/video`\n",
    "  - This sends an HTTP GET request to the Microservice's GET route for the `/video` path.\n",
    "  - Streams the video `SampleVideo_1280x720_1mb.mp4` stored in the Microservice's container's file system to the browser."
   ]
  },
  {
   "cell_type": "code",
   "execution_count": 36,
   "metadata": {
    "vscode": {
     "languageId": "shellscript"
    }
   },
   "outputs": [],
   "source": [
    "#!firefox http://{LOADBALANCER_PUBLIC_IP}/video"
   ]
  },
  {
   "cell_type": "markdown",
   "metadata": {},
   "source": [
    "## Delete Deployment in the Azure Kubernets Cluster\n",
    "\n",
    "- The kubectl command `kubectl delete -f manifests/deployment.yaml` will:\n",
    "  - Delete the resources defined in the file `manifests/deployment.yaml` from the kubernetes cluster."
   ]
  },
  {
   "cell_type": "code",
   "execution_count": 37,
   "metadata": {
    "vscode": {
     "languageId": "shellscript"
    }
   },
   "outputs": [
    {
     "name": "stdout",
     "output_type": "stream",
     "text": [
      "deployment.apps \"video-streaming\" deleted\n",
      "service \"video-streaming\" deleted\n"
     ]
    }
   ],
   "source": [
    "!kubectl delete -f manifests/deployment.yaml"
   ]
  },
  {
   "cell_type": "markdown",
   "metadata": {},
   "source": [
    "## List Deployments, Pods and Services\n",
    "\n",
    "- The kubectl command:\n",
    "  - `kubectl get deployments -o wide` lists all Deployments in the kubernetes cluster.\n",
    "  - `kubectl get pods -o wide` lists all Pods in the kubernetes cluster.\n",
    "  - `kubectl get services -o wide` lists all Services in the kubernetes cluster.\n",
    "- We see that the Deployment, with associated Pods (1 replica), and Service defined in the manifest file have been deleted."
   ]
  },
  {
   "cell_type": "code",
   "execution_count": 38,
   "metadata": {
    "vscode": {
     "languageId": "shellscript"
    }
   },
   "outputs": [
    {
     "name": "stdout",
     "output_type": "stream",
     "text": [
      "No resources found in default namespace.\n",
      "No resources found in default namespace.\n",
      "NAME         TYPE        CLUSTER-IP   EXTERNAL-IP   PORT(S)   AGE\n",
      "kubernetes   ClusterIP   10.0.0.1     <none>        443/TCP   9m15s\n"
     ]
    }
   ],
   "source": [
    "!kubectl get deployments\n",
    "!kubectl get pods\n",
    "!kubectl get services"
   ]
  },
  {
   "cell_type": "markdown",
   "metadata": {},
   "source": [
    "## Ensure the Kubectl Context is set to the Minikube Cluster\n",
    "\n",
    "**Note!**\n",
    "\n",
    "- Replace `minikube` below with the name of your local (development) kubernetes cluster (mine is called `minikube`).\n",
    "- You can list all contexts defined in kubectls config file using the command `kubectl config get-contexts`.\n",
    "- If you don't have another context in your config file:\n",
    "  - ue the kubectl command `kubectl config unset current-context` instead of `kubectl config use-context minikube`."
   ]
  },
  {
   "cell_type": "code",
   "execution_count": 39,
   "metadata": {
    "vscode": {
     "languageId": "shellscript"
    }
   },
   "outputs": [
    {
     "name": "stdout",
     "output_type": "stream",
     "text": [
      "Switched to context \"minikube\".\n",
      "minikube\n"
     ]
    }
   ],
   "source": [
    "#!kubectl config get-contexts\n",
    "!kubectl config use-context minikube\n",
    "#!kubectl config unset current-context\n",
    "!kubectl config current-context"
   ]
  },
  {
   "cell_type": "markdown",
   "metadata": {},
   "source": [
    "## Remove Azure Kubernetes Cluster Info. from Local Kubectl Config File\n",
    "\n",
    "- The kubectl command:\n",
    "  - `kubectl config delete-cluster tsfn14g00` deletes the cluster called `tsfn14g00` from kubectl's config file.\n",
    "  - `kubectl config delete-context tsfn14g00` deletes the context celled `tsfn14g00` from kubectl's config file.\n",
    "  - `kubectl config delete-user tsfn14g00` deletes the user called `tsfn14g00` from kubectl's config file.\n",
    "  - `kubectl config view` lists the contents of kubectl's config file.\n",
    "- kubectl's config file is located in your host machine's file system.\n",
    "    - The config file is located at `~/.kube/config` on Linux/macOs.\n",
    "    - The config file is located at `%USERPROFILE%\\.kube\\config` on Windows.\n",
    "\n",
    "**Note**\n",
    "\n",
    "- Reaplce `tsfn14g00` with the value you chose for the Terraform variable `app_name` (in the file `variables.tf`)."
   ]
  },
  {
   "cell_type": "code",
   "execution_count": 40,
   "metadata": {
    "vscode": {
     "languageId": "shellscript"
    }
   },
   "outputs": [
    {
     "name": "stdout",
     "output_type": "stream",
     "text": [
      "deleted cluster tsfn14g00 from /home/patrick/.kube/config\n",
      "deleted context tsfn14g00 from /home/patrick/.kube/config\n",
      "deleted user clusterUser_tsfn14g00_tsfn14g00 from /home/patrick/.kube/config\n"
     ]
    }
   ],
   "source": [
    "!kubectl config delete-cluster tsfn14g00\n",
    "!kubectl config delete-context tsfn14g00\n",
    "!kubectl config delete-user clusterUser_tsfn14g00_tsfn14g00\n",
    "#!kubectl config view"
   ]
  },
  {
   "cell_type": "markdown",
   "metadata": {},
   "source": [
    "## Terraform \n",
    "\n",
    "- We destroy the Terraform Project as before."
   ]
  },
  {
   "cell_type": "code",
   "execution_count": 41,
   "metadata": {
    "vscode": {
     "languageId": "shellscript"
    }
   },
   "outputs": [
    {
     "name": "stdout",
     "output_type": "stream",
     "text": [
      "\u001b[0m\u001b[1mazurerm_resource_group.networkwatcher: Refreshing state... [id=/subscriptions/dc438970-aa32-41b3-8fe2-f587309a0208/resourceGroups/NetworkWatcherRG]\u001b[0m\n",
      "\u001b[0m\u001b[1mazurerm_resource_group.main: Refreshing state... [id=/subscriptions/dc438970-aa32-41b3-8fe2-f587309a0208/resourceGroups/tsfn14g00]\u001b[0m\n",
      "\u001b[0m\u001b[1mazurerm_container_registry.main: Refreshing state... [id=/subscriptions/dc438970-aa32-41b3-8fe2-f587309a0208/resourceGroups/tsfn14g00/providers/Microsoft.ContainerRegistry/registries/tsfn14g00]\u001b[0m\n",
      "\u001b[0m\u001b[1mazurerm_kubernetes_cluster.main: Refreshing state... [id=/subscriptions/dc438970-aa32-41b3-8fe2-f587309a0208/resourceGroups/tsfn14g00/providers/Microsoft.ContainerService/managedClusters/tsfn14g00]\u001b[0m\n",
      "\u001b[0m\u001b[1mazurerm_network_watcher.networkwatcher: Refreshing state... [id=/subscriptions/dc438970-aa32-41b3-8fe2-f587309a0208/resourceGroups/NetworkWatcherRG/providers/Microsoft.Network/networkWatchers/NetworkWatcher_westeurope]\u001b[0m\n",
      "\u001b[0m\u001b[1mazurerm_role_assignment.main: Refreshing state... [id=/subscriptions/dc438970-aa32-41b3-8fe2-f587309a0208/resourceGroups/tsfn14g00/providers/Microsoft.ContainerRegistry/registries/tsfn14g00/providers/Microsoft.Authorization/roleAssignments/0c577dd5-c0f0-3dd5-ac76-4dcb16bd0e92]\u001b[0m\n",
      "\n",
      "Terraform used the selected providers to generate the following execution plan.\n",
      "Resource actions are indicated with the following symbols:\n",
      "  \u001b[31m-\u001b[0m destroy\u001b[0m\n",
      "\n",
      "Terraform will perform the following actions:\n",
      "\n",
      "\u001b[1m  # azurerm_container_registry.main\u001b[0m will be \u001b[1m\u001b[31mdestroyed\u001b[0m\n",
      "\u001b[0m  \u001b[31m-\u001b[0m\u001b[0m resource \"azurerm_container_registry\" \"main\" {\n",
      "      \u001b[31m-\u001b[0m\u001b[0m admin_enabled                 = true \u001b[90m-> null\u001b[0m\u001b[0m\n",
      "      \u001b[31m-\u001b[0m\u001b[0m admin_password                = (sensitive value) \u001b[90m-> null\u001b[0m\u001b[0m\n",
      "      \u001b[31m-\u001b[0m\u001b[0m admin_username                = \"tsfn14g00\" \u001b[90m-> null\u001b[0m\u001b[0m\n",
      "      \u001b[31m-\u001b[0m\u001b[0m anonymous_pull_enabled        = false \u001b[90m-> null\u001b[0m\u001b[0m\n",
      "      \u001b[31m-\u001b[0m\u001b[0m data_endpoint_enabled         = false \u001b[90m-> null\u001b[0m\u001b[0m\n",
      "      \u001b[31m-\u001b[0m\u001b[0m encryption                    = [\n",
      "          \u001b[31m-\u001b[0m\u001b[0m {\n",
      "              \u001b[31m-\u001b[0m\u001b[0m enabled            = false\n",
      "              \u001b[31m-\u001b[0m\u001b[0m identity_client_id = \"\"\n",
      "              \u001b[31m-\u001b[0m\u001b[0m key_vault_key_id   = \"\"\n",
      "            },\n",
      "        ] \u001b[90m-> null\u001b[0m\u001b[0m\n",
      "      \u001b[31m-\u001b[0m\u001b[0m export_policy_enabled         = true \u001b[90m-> null\u001b[0m\u001b[0m\n",
      "      \u001b[31m-\u001b[0m\u001b[0m id                            = \"/subscriptions/dc438970-aa32-41b3-8fe2-f587309a0208/resourceGroups/tsfn14g00/providers/Microsoft.ContainerRegistry/registries/tsfn14g00\" \u001b[90m-> null\u001b[0m\u001b[0m\n",
      "      \u001b[31m-\u001b[0m\u001b[0m location                      = \"westeurope\" \u001b[90m-> null\u001b[0m\u001b[0m\n",
      "      \u001b[31m-\u001b[0m\u001b[0m login_server                  = \"tsfn14g00.azurecr.io\" \u001b[90m-> null\u001b[0m\u001b[0m\n",
      "      \u001b[31m-\u001b[0m\u001b[0m name                          = \"tsfn14g00\" \u001b[90m-> null\u001b[0m\u001b[0m\n",
      "      \u001b[31m-\u001b[0m\u001b[0m network_rule_bypass_option    = \"AzureServices\" \u001b[90m-> null\u001b[0m\u001b[0m\n",
      "      \u001b[31m-\u001b[0m\u001b[0m network_rule_set              = [] \u001b[90m-> null\u001b[0m\u001b[0m\n",
      "      \u001b[31m-\u001b[0m\u001b[0m public_network_access_enabled = true \u001b[90m-> null\u001b[0m\u001b[0m\n",
      "      \u001b[31m-\u001b[0m\u001b[0m quarantine_policy_enabled     = false \u001b[90m-> null\u001b[0m\u001b[0m\n",
      "      \u001b[31m-\u001b[0m\u001b[0m resource_group_name           = \"tsfn14g00\" \u001b[90m-> null\u001b[0m\u001b[0m\n",
      "      \u001b[31m-\u001b[0m\u001b[0m retention_policy              = [\n",
      "          \u001b[31m-\u001b[0m\u001b[0m {\n",
      "              \u001b[31m-\u001b[0m\u001b[0m days    = 7\n",
      "              \u001b[31m-\u001b[0m\u001b[0m enabled = false\n",
      "            },\n",
      "        ] \u001b[90m-> null\u001b[0m\u001b[0m\n",
      "      \u001b[31m-\u001b[0m\u001b[0m sku                           = \"Basic\" \u001b[90m-> null\u001b[0m\u001b[0m\n",
      "      \u001b[31m-\u001b[0m\u001b[0m tags                          = {} \u001b[90m-> null\u001b[0m\u001b[0m\n",
      "      \u001b[31m-\u001b[0m\u001b[0m trust_policy                  = [\n",
      "          \u001b[31m-\u001b[0m\u001b[0m {\n",
      "              \u001b[31m-\u001b[0m\u001b[0m enabled = false\n",
      "            },\n",
      "        ] \u001b[90m-> null\u001b[0m\u001b[0m\n",
      "      \u001b[31m-\u001b[0m\u001b[0m zone_redundancy_enabled       = false \u001b[90m-> null\u001b[0m\u001b[0m\n",
      "    }\n",
      "\n",
      "\u001b[1m  # azurerm_kubernetes_cluster.main\u001b[0m will be \u001b[1m\u001b[31mdestroyed\u001b[0m\n",
      "\u001b[0m  \u001b[31m-\u001b[0m\u001b[0m resource \"azurerm_kubernetes_cluster\" \"main\" {\n",
      "      \u001b[31m-\u001b[0m\u001b[0m api_server_authorized_ip_ranges     = [] \u001b[90m-> null\u001b[0m\u001b[0m\n",
      "      \u001b[31m-\u001b[0m\u001b[0m custom_ca_trust_certificates_base64 = [] \u001b[90m-> null\u001b[0m\u001b[0m\n",
      "      \u001b[31m-\u001b[0m\u001b[0m dns_prefix                          = \"tsfn14g00\" \u001b[90m-> null\u001b[0m\u001b[0m\n",
      "      \u001b[31m-\u001b[0m\u001b[0m enable_pod_security_policy          = false \u001b[90m-> null\u001b[0m\u001b[0m\n",
      "      \u001b[31m-\u001b[0m\u001b[0m fqdn                                = \"tsfn14g00-9tvl5tf4.hcp.westeurope.azmk8s.io\" \u001b[90m-> null\u001b[0m\u001b[0m\n",
      "      \u001b[31m-\u001b[0m\u001b[0m id                                  = \"/subscriptions/dc438970-aa32-41b3-8fe2-f587309a0208/resourceGroups/tsfn14g00/providers/Microsoft.ContainerService/managedClusters/tsfn14g00\" \u001b[90m-> null\u001b[0m\u001b[0m\n",
      "      \u001b[31m-\u001b[0m\u001b[0m image_cleaner_enabled               = false \u001b[90m-> null\u001b[0m\u001b[0m\n",
      "      \u001b[31m-\u001b[0m\u001b[0m image_cleaner_interval_hours        = 48 \u001b[90m-> null\u001b[0m\u001b[0m\n",
      "      \u001b[31m-\u001b[0m\u001b[0m kube_admin_config                   = (sensitive value) \u001b[90m-> null\u001b[0m\u001b[0m\n",
      "      \u001b[31m-\u001b[0m\u001b[0m kube_config                         = (sensitive value) \u001b[90m-> null\u001b[0m\u001b[0m\n",
      "      \u001b[31m-\u001b[0m\u001b[0m kube_config_raw                     = (sensitive value) \u001b[90m-> null\u001b[0m\u001b[0m\n",
      "      \u001b[31m-\u001b[0m\u001b[0m kubernetes_version                  = \"1.27.7\" \u001b[90m-> null\u001b[0m\u001b[0m\n",
      "      \u001b[31m-\u001b[0m\u001b[0m local_account_disabled              = false \u001b[90m-> null\u001b[0m\u001b[0m\n",
      "      \u001b[31m-\u001b[0m\u001b[0m location                            = \"westeurope\" \u001b[90m-> null\u001b[0m\u001b[0m\n",
      "      \u001b[31m-\u001b[0m\u001b[0m name                                = \"tsfn14g00\" \u001b[90m-> null\u001b[0m\u001b[0m\n",
      "      \u001b[31m-\u001b[0m\u001b[0m node_resource_group                 = \"MC_tsfn14g00_tsfn14g00_westeurope\" \u001b[90m-> null\u001b[0m\u001b[0m\n",
      "      \u001b[31m-\u001b[0m\u001b[0m node_resource_group_id              = \"/subscriptions/dc438970-aa32-41b3-8fe2-f587309a0208/resourceGroups/MC_tsfn14g00_tsfn14g00_westeurope\" \u001b[90m-> null\u001b[0m\u001b[0m\n",
      "      \u001b[31m-\u001b[0m\u001b[0m oidc_issuer_enabled                 = false \u001b[90m-> null\u001b[0m\u001b[0m\n",
      "      \u001b[31m-\u001b[0m\u001b[0m portal_fqdn                         = \"tsfn14g00-9tvl5tf4.portal.hcp.westeurope.azmk8s.io\" \u001b[90m-> null\u001b[0m\u001b[0m\n",
      "      \u001b[31m-\u001b[0m\u001b[0m private_cluster_enabled             = false \u001b[90m-> null\u001b[0m\u001b[0m\n",
      "      \u001b[31m-\u001b[0m\u001b[0m private_cluster_public_fqdn_enabled = false \u001b[90m-> null\u001b[0m\u001b[0m\n",
      "      \u001b[31m-\u001b[0m\u001b[0m public_network_access_enabled       = true \u001b[90m-> null\u001b[0m\u001b[0m\n",
      "      \u001b[31m-\u001b[0m\u001b[0m resource_group_name                 = \"tsfn14g00\" \u001b[90m-> null\u001b[0m\u001b[0m\n",
      "      \u001b[31m-\u001b[0m\u001b[0m role_based_access_control_enabled   = true \u001b[90m-> null\u001b[0m\u001b[0m\n",
      "      \u001b[31m-\u001b[0m\u001b[0m run_command_enabled                 = true \u001b[90m-> null\u001b[0m\u001b[0m\n",
      "      \u001b[31m-\u001b[0m\u001b[0m sku_tier                            = \"Free\" \u001b[90m-> null\u001b[0m\u001b[0m\n",
      "      \u001b[31m-\u001b[0m\u001b[0m support_plan                        = \"KubernetesOfficial\" \u001b[90m-> null\u001b[0m\u001b[0m\n",
      "      \u001b[31m-\u001b[0m\u001b[0m tags                                = {} \u001b[90m-> null\u001b[0m\u001b[0m\n",
      "      \u001b[31m-\u001b[0m\u001b[0m workload_identity_enabled           = false \u001b[90m-> null\u001b[0m\u001b[0m\n",
      "\n",
      "      \u001b[31m-\u001b[0m\u001b[0m default_node_pool {\n",
      "          \u001b[31m-\u001b[0m\u001b[0m custom_ca_trust_enabled      = false \u001b[90m-> null\u001b[0m\u001b[0m\n",
      "          \u001b[31m-\u001b[0m\u001b[0m enable_auto_scaling          = false \u001b[90m-> null\u001b[0m\u001b[0m\n",
      "          \u001b[31m-\u001b[0m\u001b[0m enable_host_encryption       = false \u001b[90m-> null\u001b[0m\u001b[0m\n",
      "          \u001b[31m-\u001b[0m\u001b[0m enable_node_public_ip        = false \u001b[90m-> null\u001b[0m\u001b[0m\n",
      "          \u001b[31m-\u001b[0m\u001b[0m fips_enabled                 = false \u001b[90m-> null\u001b[0m\u001b[0m\n",
      "          \u001b[31m-\u001b[0m\u001b[0m kubelet_disk_type            = \"OS\" \u001b[90m-> null\u001b[0m\u001b[0m\n",
      "          \u001b[31m-\u001b[0m\u001b[0m max_count                    = 0 \u001b[90m-> null\u001b[0m\u001b[0m\n",
      "          \u001b[31m-\u001b[0m\u001b[0m max_pods                     = 110 \u001b[90m-> null\u001b[0m\u001b[0m\n",
      "          \u001b[31m-\u001b[0m\u001b[0m min_count                    = 0 \u001b[90m-> null\u001b[0m\u001b[0m\n",
      "          \u001b[31m-\u001b[0m\u001b[0m name                         = \"default\" \u001b[90m-> null\u001b[0m\u001b[0m\n",
      "          \u001b[31m-\u001b[0m\u001b[0m node_count                   = 1 \u001b[90m-> null\u001b[0m\u001b[0m\n",
      "          \u001b[31m-\u001b[0m\u001b[0m node_labels                  = {} \u001b[90m-> null\u001b[0m\u001b[0m\n",
      "          \u001b[31m-\u001b[0m\u001b[0m node_taints                  = [] \u001b[90m-> null\u001b[0m\u001b[0m\n",
      "          \u001b[31m-\u001b[0m\u001b[0m only_critical_addons_enabled = false \u001b[90m-> null\u001b[0m\u001b[0m\n",
      "          \u001b[31m-\u001b[0m\u001b[0m orchestrator_version         = \"1.27.7\" \u001b[90m-> null\u001b[0m\u001b[0m\n",
      "          \u001b[31m-\u001b[0m\u001b[0m os_disk_size_gb              = 128 \u001b[90m-> null\u001b[0m\u001b[0m\n",
      "          \u001b[31m-\u001b[0m\u001b[0m os_disk_type                 = \"Managed\" \u001b[90m-> null\u001b[0m\u001b[0m\n",
      "          \u001b[31m-\u001b[0m\u001b[0m os_sku                       = \"Ubuntu\" \u001b[90m-> null\u001b[0m\u001b[0m\n",
      "          \u001b[31m-\u001b[0m\u001b[0m scale_down_mode              = \"Delete\" \u001b[90m-> null\u001b[0m\u001b[0m\n",
      "          \u001b[31m-\u001b[0m\u001b[0m tags                         = {} \u001b[90m-> null\u001b[0m\u001b[0m\n",
      "          \u001b[31m-\u001b[0m\u001b[0m type                         = \"VirtualMachineScaleSets\" \u001b[90m-> null\u001b[0m\u001b[0m\n",
      "          \u001b[31m-\u001b[0m\u001b[0m ultra_ssd_enabled            = false \u001b[90m-> null\u001b[0m\u001b[0m\n",
      "          \u001b[31m-\u001b[0m\u001b[0m vm_size                      = \"Standard_B2s\" \u001b[90m-> null\u001b[0m\u001b[0m\n",
      "          \u001b[31m-\u001b[0m\u001b[0m zones                        = [] \u001b[90m-> null\u001b[0m\u001b[0m\n",
      "        }\n",
      "\n",
      "      \u001b[31m-\u001b[0m\u001b[0m identity {\n",
      "          \u001b[31m-\u001b[0m\u001b[0m identity_ids = [] \u001b[90m-> null\u001b[0m\u001b[0m\n",
      "          \u001b[31m-\u001b[0m\u001b[0m principal_id = \"75ca56d2-8250-45d6-afd0-63fcbdfe22cc\" \u001b[90m-> null\u001b[0m\u001b[0m\n",
      "          \u001b[31m-\u001b[0m\u001b[0m tenant_id    = \"7564bc8f-3738-4b4d-bd57-5a02ca6215fb\" \u001b[90m-> null\u001b[0m\u001b[0m\n",
      "          \u001b[31m-\u001b[0m\u001b[0m type         = \"SystemAssigned\" \u001b[90m-> null\u001b[0m\u001b[0m\n",
      "        }\n",
      "\n",
      "      \u001b[31m-\u001b[0m\u001b[0m kubelet_identity {\n",
      "          \u001b[31m-\u001b[0m\u001b[0m client_id                 = \"5f62a8bb-03ce-4006-9871-a2989e219711\" \u001b[90m-> null\u001b[0m\u001b[0m\n",
      "          \u001b[31m-\u001b[0m\u001b[0m object_id                 = \"272eb680-d0d4-4526-8706-25f1197b7efe\" \u001b[90m-> null\u001b[0m\u001b[0m\n",
      "          \u001b[31m-\u001b[0m\u001b[0m user_assigned_identity_id = \"/subscriptions/dc438970-aa32-41b3-8fe2-f587309a0208/resourceGroups/MC_tsfn14g00_tsfn14g00_westeurope/providers/Microsoft.ManagedIdentity/userAssignedIdentities/tsfn14g00-agentpool\" \u001b[90m-> null\u001b[0m\u001b[0m\n",
      "        }\n",
      "\n",
      "      \u001b[31m-\u001b[0m\u001b[0m network_profile {\n",
      "          \u001b[31m-\u001b[0m\u001b[0m dns_service_ip    = \"10.0.0.10\" \u001b[90m-> null\u001b[0m\u001b[0m\n",
      "          \u001b[31m-\u001b[0m\u001b[0m ip_versions       = [\n",
      "              \u001b[31m-\u001b[0m\u001b[0m \"IPv4\",\n",
      "            ] \u001b[90m-> null\u001b[0m\u001b[0m\n",
      "          \u001b[31m-\u001b[0m\u001b[0m load_balancer_sku = \"standard\" \u001b[90m-> null\u001b[0m\u001b[0m\n",
      "          \u001b[31m-\u001b[0m\u001b[0m network_plugin    = \"kubenet\" \u001b[90m-> null\u001b[0m\u001b[0m\n",
      "          \u001b[31m-\u001b[0m\u001b[0m outbound_type     = \"loadBalancer\" \u001b[90m-> null\u001b[0m\u001b[0m\n",
      "          \u001b[31m-\u001b[0m\u001b[0m pod_cidr          = \"10.244.0.0/16\" \u001b[90m-> null\u001b[0m\u001b[0m\n",
      "          \u001b[31m-\u001b[0m\u001b[0m pod_cidrs         = [\n",
      "              \u001b[31m-\u001b[0m\u001b[0m \"10.244.0.0/16\",\n",
      "            ] \u001b[90m-> null\u001b[0m\u001b[0m\n",
      "          \u001b[31m-\u001b[0m\u001b[0m service_cidr      = \"10.0.0.0/16\" \u001b[90m-> null\u001b[0m\u001b[0m\n",
      "          \u001b[31m-\u001b[0m\u001b[0m service_cidrs     = [\n",
      "              \u001b[31m-\u001b[0m\u001b[0m \"10.0.0.0/16\",\n",
      "            ] \u001b[90m-> null\u001b[0m\u001b[0m\n",
      "\n",
      "          \u001b[31m-\u001b[0m\u001b[0m load_balancer_profile {\n",
      "              \u001b[31m-\u001b[0m\u001b[0m effective_outbound_ips      = [\n",
      "                  \u001b[31m-\u001b[0m\u001b[0m \"/subscriptions/dc438970-aa32-41b3-8fe2-f587309a0208/resourceGroups/MC_tsfn14g00_tsfn14g00_westeurope/providers/Microsoft.Network/publicIPAddresses/905284b9-f3e5-4ec5-a129-0758d9ff67b0\",\n",
      "                ] \u001b[90m-> null\u001b[0m\u001b[0m\n",
      "              \u001b[31m-\u001b[0m\u001b[0m idle_timeout_in_minutes     = 0 \u001b[90m-> null\u001b[0m\u001b[0m\n",
      "              \u001b[31m-\u001b[0m\u001b[0m managed_outbound_ip_count   = 1 \u001b[90m-> null\u001b[0m\u001b[0m\n",
      "              \u001b[31m-\u001b[0m\u001b[0m managed_outbound_ipv6_count = 0 \u001b[90m-> null\u001b[0m\u001b[0m\n",
      "              \u001b[31m-\u001b[0m\u001b[0m outbound_ip_address_ids     = [] \u001b[90m-> null\u001b[0m\u001b[0m\n",
      "              \u001b[31m-\u001b[0m\u001b[0m outbound_ip_prefix_ids      = [] \u001b[90m-> null\u001b[0m\u001b[0m\n",
      "              \u001b[31m-\u001b[0m\u001b[0m outbound_ports_allocated    = 0 \u001b[90m-> null\u001b[0m\u001b[0m\n",
      "            }\n",
      "        }\n",
      "    }\n",
      "\n",
      "\u001b[1m  # azurerm_network_watcher.networkwatcher\u001b[0m will be \u001b[1m\u001b[31mdestroyed\u001b[0m\n",
      "\u001b[0m  \u001b[31m-\u001b[0m\u001b[0m resource \"azurerm_network_watcher\" \"networkwatcher\" {\n",
      "      \u001b[31m-\u001b[0m\u001b[0m id                  = \"/subscriptions/dc438970-aa32-41b3-8fe2-f587309a0208/resourceGroups/NetworkWatcherRG/providers/Microsoft.Network/networkWatchers/NetworkWatcher_westeurope\" \u001b[90m-> null\u001b[0m\u001b[0m\n",
      "      \u001b[31m-\u001b[0m\u001b[0m location            = \"westeurope\" \u001b[90m-> null\u001b[0m\u001b[0m\n",
      "      \u001b[31m-\u001b[0m\u001b[0m name                = \"NetworkWatcher_westeurope\" \u001b[90m-> null\u001b[0m\u001b[0m\n",
      "      \u001b[31m-\u001b[0m\u001b[0m resource_group_name = \"NetworkWatcherRG\" \u001b[90m-> null\u001b[0m\u001b[0m\n",
      "      \u001b[31m-\u001b[0m\u001b[0m tags                = {} \u001b[90m-> null\u001b[0m\u001b[0m\n",
      "    }\n",
      "\n",
      "\u001b[1m  # azurerm_resource_group.main\u001b[0m will be \u001b[1m\u001b[31mdestroyed\u001b[0m\n",
      "\u001b[0m  \u001b[31m-\u001b[0m\u001b[0m resource \"azurerm_resource_group\" \"main\" {\n",
      "      \u001b[31m-\u001b[0m\u001b[0m id       = \"/subscriptions/dc438970-aa32-41b3-8fe2-f587309a0208/resourceGroups/tsfn14g00\" \u001b[90m-> null\u001b[0m\u001b[0m\n",
      "      \u001b[31m-\u001b[0m\u001b[0m location = \"westeurope\" \u001b[90m-> null\u001b[0m\u001b[0m\n",
      "      \u001b[31m-\u001b[0m\u001b[0m name     = \"tsfn14g00\" \u001b[90m-> null\u001b[0m\u001b[0m\n",
      "      \u001b[31m-\u001b[0m\u001b[0m tags     = {} \u001b[90m-> null\u001b[0m\u001b[0m\n",
      "    }\n",
      "\n",
      "\u001b[1m  # azurerm_resource_group.networkwatcher\u001b[0m will be \u001b[1m\u001b[31mdestroyed\u001b[0m\n",
      "\u001b[0m  \u001b[31m-\u001b[0m\u001b[0m resource \"azurerm_resource_group\" \"networkwatcher\" {\n",
      "      \u001b[31m-\u001b[0m\u001b[0m id       = \"/subscriptions/dc438970-aa32-41b3-8fe2-f587309a0208/resourceGroups/NetworkWatcherRG\" \u001b[90m-> null\u001b[0m\u001b[0m\n",
      "      \u001b[31m-\u001b[0m\u001b[0m location = \"westeurope\" \u001b[90m-> null\u001b[0m\u001b[0m\n",
      "      \u001b[31m-\u001b[0m\u001b[0m name     = \"NetworkWatcherRG\" \u001b[90m-> null\u001b[0m\u001b[0m\n",
      "      \u001b[31m-\u001b[0m\u001b[0m tags     = {} \u001b[90m-> null\u001b[0m\u001b[0m\n",
      "    }\n",
      "\n",
      "\u001b[1m  # azurerm_role_assignment.main\u001b[0m will be \u001b[1m\u001b[31mdestroyed\u001b[0m\n",
      "\u001b[0m  \u001b[31m-\u001b[0m\u001b[0m resource \"azurerm_role_assignment\" \"main\" {\n",
      "      \u001b[31m-\u001b[0m\u001b[0m id                               = \"/subscriptions/dc438970-aa32-41b3-8fe2-f587309a0208/resourceGroups/tsfn14g00/providers/Microsoft.ContainerRegistry/registries/tsfn14g00/providers/Microsoft.Authorization/roleAssignments/0c577dd5-c0f0-3dd5-ac76-4dcb16bd0e92\" \u001b[90m-> null\u001b[0m\u001b[0m\n",
      "      \u001b[31m-\u001b[0m\u001b[0m name                             = \"0c577dd5-c0f0-3dd5-ac76-4dcb16bd0e92\" \u001b[90m-> null\u001b[0m\u001b[0m\n",
      "      \u001b[31m-\u001b[0m\u001b[0m principal_id                     = \"272eb680-d0d4-4526-8706-25f1197b7efe\" \u001b[90m-> null\u001b[0m\u001b[0m\n",
      "      \u001b[31m-\u001b[0m\u001b[0m principal_type                   = \"ServicePrincipal\" \u001b[90m-> null\u001b[0m\u001b[0m\n",
      "      \u001b[31m-\u001b[0m\u001b[0m role_definition_id               = \"/subscriptions/dc438970-aa32-41b3-8fe2-f587309a0208/providers/Microsoft.Authorization/roleDefinitions/7f951dda-4ed3-4680-a7ca-43fe172d538d\" \u001b[90m-> null\u001b[0m\u001b[0m\n",
      "      \u001b[31m-\u001b[0m\u001b[0m role_definition_name             = \"AcrPull\" \u001b[90m-> null\u001b[0m\u001b[0m\n",
      "      \u001b[31m-\u001b[0m\u001b[0m scope                            = \"/subscriptions/dc438970-aa32-41b3-8fe2-f587309a0208/resourceGroups/tsfn14g00/providers/Microsoft.ContainerRegistry/registries/tsfn14g00\" \u001b[90m-> null\u001b[0m\u001b[0m\n",
      "      \u001b[31m-\u001b[0m\u001b[0m skip_service_principal_aad_check = true \u001b[90m-> null\u001b[0m\u001b[0m\n",
      "    }\n",
      "\n",
      "\u001b[1mPlan:\u001b[0m 0 to add, 0 to change, 6 to destroy.\n",
      "\u001b[0m\u001b[0m\u001b[1mazurerm_network_watcher.networkwatcher: Destroying... [id=/subscriptions/dc438970-aa32-41b3-8fe2-f587309a0208/resourceGroups/NetworkWatcherRG/providers/Microsoft.Network/networkWatchers/NetworkWatcher_westeurope]\u001b[0m\u001b[0m\n",
      "\u001b[0m\u001b[1mazurerm_role_assignment.main: Destroying... [id=/subscriptions/dc438970-aa32-41b3-8fe2-f587309a0208/resourceGroups/tsfn14g00/providers/Microsoft.ContainerRegistry/registries/tsfn14g00/providers/Microsoft.Authorization/roleAssignments/0c577dd5-c0f0-3dd5-ac76-4dcb16bd0e92]\u001b[0m\u001b[0m\n",
      "\u001b[0m\u001b[1mazurerm_role_assignment.main: Destruction complete after 4s\u001b[0m\n",
      "\u001b[0m\u001b[1mazurerm_container_registry.main: Destroying... [id=/subscriptions/dc438970-aa32-41b3-8fe2-f587309a0208/resourceGroups/tsfn14g00/providers/Microsoft.ContainerRegistry/registries/tsfn14g00]\u001b[0m\u001b[0m\n",
      "\u001b[0m\u001b[1mazurerm_kubernetes_cluster.main: Destroying... [id=/subscriptions/dc438970-aa32-41b3-8fe2-f587309a0208/resourceGroups/tsfn14g00/providers/Microsoft.ContainerService/managedClusters/tsfn14g00]\u001b[0m\u001b[0m\n",
      "\u001b[0m\u001b[1mazurerm_network_watcher.networkwatcher: Still destroying... [id=/subscriptions/dc438970-aa32-41b3-8fe2-...workWatchers/NetworkWatcher_westeurope, 10s elapsed]\u001b[0m\u001b[0m\n",
      "\u001b[0m\u001b[1mazurerm_network_watcher.networkwatcher: Destruction complete after 11s\u001b[0m\n",
      "\u001b[0m\u001b[1mazurerm_resource_group.networkwatcher: Destroying... [id=/subscriptions/dc438970-aa32-41b3-8fe2-f587309a0208/resourceGroups/NetworkWatcherRG]\u001b[0m\u001b[0m\n",
      "\u001b[0m\u001b[1mazurerm_container_registry.main: Still destroying... [id=/subscriptions/dc438970-aa32-41b3-8fe2-...ContainerRegistry/registries/tsfn14g00, 10s elapsed]\u001b[0m\u001b[0m\n",
      "\u001b[0m\u001b[1mazurerm_kubernetes_cluster.main: Still destroying... [id=/subscriptions/dc438970-aa32-41b3-8fe2-...ainerService/managedClusters/tsfn14g00, 10s elapsed]\u001b[0m\u001b[0m\n",
      "\u001b[0m\u001b[1mazurerm_container_registry.main: Destruction complete after 14s\u001b[0m\n",
      "\u001b[0m\u001b[1mazurerm_resource_group.networkwatcher: Still destroying... [id=/subscriptions/dc438970-aa32-41b3-8fe2-...9a0208/resourceGroups/NetworkWatcherRG, 10s elapsed]\u001b[0m\u001b[0m\n",
      "\u001b[0m\u001b[1mazurerm_kubernetes_cluster.main: Still destroying... [id=/subscriptions/dc438970-aa32-41b3-8fe2-...ainerService/managedClusters/tsfn14g00, 20s elapsed]\u001b[0m\u001b[0m\n",
      "\u001b[0m\u001b[1mazurerm_resource_group.networkwatcher: Destruction complete after 16s\u001b[0m\n",
      "\u001b[0m\u001b[1mazurerm_kubernetes_cluster.main: Still destroying... [id=/subscriptions/dc438970-aa32-41b3-8fe2-...ainerService/managedClusters/tsfn14g00, 30s elapsed]\u001b[0m\u001b[0m\n",
      "\u001b[0m\u001b[1mazurerm_kubernetes_cluster.main: Still destroying... [id=/subscriptions/dc438970-aa32-41b3-8fe2-...ainerService/managedClusters/tsfn14g00, 40s elapsed]\u001b[0m\u001b[0m\n",
      "\u001b[0m\u001b[1mazurerm_kubernetes_cluster.main: Still destroying... [id=/subscriptions/dc438970-aa32-41b3-8fe2-...ainerService/managedClusters/tsfn14g00, 50s elapsed]\u001b[0m\u001b[0m\n",
      "\u001b[0m\u001b[1mazurerm_kubernetes_cluster.main: Still destroying... [id=/subscriptions/dc438970-aa32-41b3-8fe2-...ainerService/managedClusters/tsfn14g00, 1m0s elapsed]\u001b[0m\u001b[0m\n",
      "\u001b[0m\u001b[1mazurerm_kubernetes_cluster.main: Still destroying... [id=/subscriptions/dc438970-aa32-41b3-8fe2-...ainerService/managedClusters/tsfn14g00, 1m10s elapsed]\u001b[0m\u001b[0m\n",
      "\u001b[0m\u001b[1mazurerm_kubernetes_cluster.main: Still destroying... [id=/subscriptions/dc438970-aa32-41b3-8fe2-...ainerService/managedClusters/tsfn14g00, 1m20s elapsed]\u001b[0m\u001b[0m\n",
      "\u001b[0m\u001b[1mazurerm_kubernetes_cluster.main: Still destroying... [id=/subscriptions/dc438970-aa32-41b3-8fe2-...ainerService/managedClusters/tsfn14g00, 1m30s elapsed]\u001b[0m\u001b[0m\n",
      "\u001b[0m\u001b[1mazurerm_kubernetes_cluster.main: Still destroying... [id=/subscriptions/dc438970-aa32-41b3-8fe2-...ainerService/managedClusters/tsfn14g00, 1m40s elapsed]\u001b[0m\u001b[0m\n",
      "\u001b[0m\u001b[1mazurerm_kubernetes_cluster.main: Still destroying... [id=/subscriptions/dc438970-aa32-41b3-8fe2-...ainerService/managedClusters/tsfn14g00, 1m50s elapsed]\u001b[0m\u001b[0m\n",
      "\u001b[0m\u001b[1mazurerm_kubernetes_cluster.main: Still destroying... [id=/subscriptions/dc438970-aa32-41b3-8fe2-...ainerService/managedClusters/tsfn14g00, 2m0s elapsed]\u001b[0m\u001b[0m\n",
      "\u001b[0m\u001b[1mazurerm_kubernetes_cluster.main: Still destroying... [id=/subscriptions/dc438970-aa32-41b3-8fe2-...ainerService/managedClusters/tsfn14g00, 2m10s elapsed]\u001b[0m\u001b[0m\n",
      "\u001b[0m\u001b[1mazurerm_kubernetes_cluster.main: Still destroying... [id=/subscriptions/dc438970-aa32-41b3-8fe2-...ainerService/managedClusters/tsfn14g00, 2m20s elapsed]\u001b[0m\u001b[0m\n",
      "\u001b[0m\u001b[1mazurerm_kubernetes_cluster.main: Still destroying... [id=/subscriptions/dc438970-aa32-41b3-8fe2-...ainerService/managedClusters/tsfn14g00, 2m30s elapsed]\u001b[0m\u001b[0m\n",
      "\u001b[0m\u001b[1mazurerm_kubernetes_cluster.main: Still destroying... [id=/subscriptions/dc438970-aa32-41b3-8fe2-...ainerService/managedClusters/tsfn14g00, 2m40s elapsed]\u001b[0m\u001b[0m\n",
      "\u001b[0m\u001b[1mazurerm_kubernetes_cluster.main: Still destroying... [id=/subscriptions/dc438970-aa32-41b3-8fe2-...ainerService/managedClusters/tsfn14g00, 2m50s elapsed]\u001b[0m\u001b[0m\n",
      "\u001b[0m\u001b[1mazurerm_kubernetes_cluster.main: Still destroying... [id=/subscriptions/dc438970-aa32-41b3-8fe2-...ainerService/managedClusters/tsfn14g00, 3m0s elapsed]\u001b[0m\u001b[0m\n",
      "\u001b[0m\u001b[1mazurerm_kubernetes_cluster.main: Still destroying... [id=/subscriptions/dc438970-aa32-41b3-8fe2-...ainerService/managedClusters/tsfn14g00, 3m10s elapsed]\u001b[0m\u001b[0m\n",
      "\u001b[0m\u001b[1mazurerm_kubernetes_cluster.main: Still destroying... [id=/subscriptions/dc438970-aa32-41b3-8fe2-...ainerService/managedClusters/tsfn14g00, 3m20s elapsed]\u001b[0m\u001b[0m\n",
      "\u001b[0m\u001b[1mazurerm_kubernetes_cluster.main: Still destroying... [id=/subscriptions/dc438970-aa32-41b3-8fe2-...ainerService/managedClusters/tsfn14g00, 3m30s elapsed]\u001b[0m\u001b[0m\n",
      "\u001b[0m\u001b[1mazurerm_kubernetes_cluster.main: Still destroying... [id=/subscriptions/dc438970-aa32-41b3-8fe2-...ainerService/managedClusters/tsfn14g00, 3m40s elapsed]\u001b[0m\u001b[0m\n",
      "\u001b[0m\u001b[1mazurerm_kubernetes_cluster.main: Still destroying... [id=/subscriptions/dc438970-aa32-41b3-8fe2-...ainerService/managedClusters/tsfn14g00, 3m50s elapsed]\u001b[0m\u001b[0m\n",
      "\u001b[0m\u001b[1mazurerm_kubernetes_cluster.main: Still destroying... [id=/subscriptions/dc438970-aa32-41b3-8fe2-...ainerService/managedClusters/tsfn14g00, 4m0s elapsed]\u001b[0m\u001b[0m\n",
      "\u001b[0m\u001b[1mazurerm_kubernetes_cluster.main: Still destroying... [id=/subscriptions/dc438970-aa32-41b3-8fe2-...ainerService/managedClusters/tsfn14g00, 4m10s elapsed]\u001b[0m\u001b[0m\n",
      "\u001b[0m\u001b[1mazurerm_kubernetes_cluster.main: Destruction complete after 4m11s\u001b[0m\n",
      "\u001b[0m\u001b[1mazurerm_resource_group.main: Destroying... [id=/subscriptions/dc438970-aa32-41b3-8fe2-f587309a0208/resourceGroups/tsfn14g00]\u001b[0m\u001b[0m\n",
      "\u001b[0m\u001b[1mazurerm_resource_group.main: Still destroying... [id=/subscriptions/dc438970-aa32-41b3-8fe2-f587309a0208/resourceGroups/tsfn14g00, 10s elapsed]\u001b[0m\u001b[0m\n",
      "\u001b[0m\u001b[1mazurerm_resource_group.main: Still destroying... [id=/subscriptions/dc438970-aa32-41b3-8fe2-f587309a0208/resourceGroups/tsfn14g00, 20s elapsed]\u001b[0m\u001b[0m\n",
      "\u001b[0m\u001b[1mazurerm_resource_group.main: Still destroying... [id=/subscriptions/dc438970-aa32-41b3-8fe2-f587309a0208/resourceGroups/tsfn14g00, 30s elapsed]\u001b[0m\u001b[0m\n",
      "\u001b[0m\u001b[1mazurerm_resource_group.main: Still destroying... [id=/subscriptions/dc438970-aa32-41b3-8fe2-f587309a0208/resourceGroups/tsfn14g00, 40s elapsed]\u001b[0m\u001b[0m\n",
      "\u001b[0m\u001b[1mazurerm_resource_group.main: Still destroying... [id=/subscriptions/dc438970-aa32-41b3-8fe2-f587309a0208/resourceGroups/tsfn14g00, 50s elapsed]\u001b[0m\u001b[0m\n",
      "\u001b[0m\u001b[1mazurerm_resource_group.main: Still destroying... [id=/subscriptions/dc438970-aa32-41b3-8fe2-f587309a0208/resourceGroups/tsfn14g00, 1m0s elapsed]\u001b[0m\u001b[0m\n",
      "\u001b[0m\u001b[1mazurerm_resource_group.main: Destruction complete after 1m4s\u001b[0m\n",
      "\u001b[0m\u001b[1m\u001b[32m\n",
      "Destroy complete! Resources: 6 destroyed.\n",
      "\u001b[0m"
     ]
    }
   ],
   "source": [
    "!terraform destroy -auto-approve"
   ]
  },
  {
   "cell_type": "markdown",
   "metadata": {},
   "source": [
    "## List Azure Kubernetes Services\n",
    "\n",
    "- The Azure CLI command `az aks list -o table` lists all Azure Kubernetes Services in Azure.\n",
    "- We see that the Azure Kubernetes Service (AKS) defined in the Terraform project has been destroyed."
   ]
  },
  {
   "cell_type": "code",
   "execution_count": 42,
   "metadata": {
    "vscode": {
     "languageId": "shellscript"
    }
   },
   "outputs": [
    {
     "name": "stdout",
     "output_type": "stream",
     "text": [
      "\n"
     ]
    }
   ],
   "source": [
    "!az aks list -o table"
   ]
  },
  {
   "cell_type": "markdown",
   "metadata": {},
   "source": [
    "## List Azure Container Registries\n",
    "\n",
    "- The Azure CLI command `az acr list -o table` lists all Container Registries in Azure.\n",
    "- We see that the Container Registry defined in the Terraform project has been destroyed."
   ]
  },
  {
   "cell_type": "code",
   "execution_count": 43,
   "metadata": {
    "vscode": {
     "languageId": "shellscript"
    }
   },
   "outputs": [
    {
     "name": "stdout",
     "output_type": "stream",
     "text": [
      "\n"
     ]
    }
   ],
   "source": [
    "!az acr list -o table"
   ]
  },
  {
   "cell_type": "markdown",
   "metadata": {},
   "source": [
    "## List Azure Resource Groups\n",
    "\n",
    "- The Azure CLI command `az group list -o table` lists all Resource Groups in Azure.\n",
    "- We see that the two Resource Groups defined in the Terraform project has been destroyed."
   ]
  },
  {
   "cell_type": "code",
   "execution_count": 44,
   "metadata": {
    "vscode": {
     "languageId": "shellscript"
    }
   },
   "outputs": [
    {
     "name": "stdout",
     "output_type": "stream",
     "text": [
      "\n"
     ]
    }
   ],
   "source": [
    "!az group list -o table"
   ]
  },
  {
   "cell_type": "code",
   "execution_count": null,
   "metadata": {
    "vscode": {
     "languageId": "shellscript"
    }
   },
   "outputs": [],
   "source": []
  }
 ],
 "metadata": {
  "kernelspec": {
   "display_name": "Python 3",
   "language": "python",
   "name": "python3"
  },
  "language_info": {
   "codemirror_mode": {
    "name": "ipython",
    "version": 3
   },
   "file_extension": ".py",
   "mimetype": "text/x-python",
   "name": "python",
   "nbconvert_exporter": "python",
   "pygments_lexer": "ipython3",
   "version": "3.10.13"
  }
 },
 "nbformat": 4,
 "nbformat_minor": 2
}
