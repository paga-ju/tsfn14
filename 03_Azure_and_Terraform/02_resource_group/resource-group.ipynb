{
 "cells": [
  {
   "cell_type": "markdown",
   "metadata": {},
   "source": [
    "## Create and Destroy a Resource Group in Azure using Terraform\n",
    "\n",
    "- An Azure Resource Group is used to logically group various Azure resources, such as Virtual Machines and Kubernetes CLusters.\n",
    "  - All Azure resources must be placed in an Azure Resource Group.\n",
    "  - When an Azure Resource Group is destroyed, all resources it contains are also destroyed.\n",
    "- This Terraform Project consists of the Terraform files listed below:"
   ]
  },
  {
   "cell_type": "code",
   "execution_count": 1,
   "metadata": {
    "vscode": {
     "languageId": "shellscript"
    }
   },
   "outputs": [
    {
     "name": "stdout",
     "output_type": "stream",
     "text": [
      "providers.tf  resource-group.tf  variables.tf\n"
     ]
    }
   ],
   "source": [
    "#!dir *.tf # use this on Windows\n",
    "!ls *.tf"
   ]
  },
  {
   "cell_type": "markdown",
   "metadata": {},
   "source": [
    "## Terraform providers\n",
    "\n",
    "- We are using the same Terraform proviers as before (i.e. the `azurerm` provider for Azure)."
   ]
  },
  {
   "cell_type": "code",
   "execution_count": 2,
   "metadata": {
    "vscode": {
     "languageId": "shellscript"
    }
   },
   "outputs": [
    {
     "name": "stdout",
     "output_type": "stream",
     "text": [
      "# Initialises Terraform providers for this Terraform project and sets their version numbers.\n",
      "\n",
      "terraform {\n",
      "  required_providers {\n",
      "    azurerm = {\n",
      "      source  = \"hashicorp/azurerm\"\n",
      "      version = \"3.90.0\"\n",
      "    }\n",
      "  }\n",
      "\n",
      "  required_version = \"~> 1.7.0\"\n",
      "}\n",
      "\n",
      "provider \"azurerm\" {\n",
      "  features {}\n",
      "}"
     ]
    }
   ],
   "source": [
    "#!type providers.tf # use this on Windows\n",
    "!cat providers.tf"
   ]
  },
  {
   "cell_type": "markdown",
   "metadata": {},
   "source": [
    "## Terraform variables\n",
    "\n",
    "- We are using the same Terraform variables as before.\n",
    "\n",
    "**Note! Make sure you change the value for the variable `app_name` to something unique!**"
   ]
  },
  {
   "cell_type": "code",
   "execution_count": 3,
   "metadata": {
    "vscode": {
     "languageId": "shellscript"
    }
   },
   "outputs": [
    {
     "name": "stdout",
     "output_type": "stream",
     "text": [
      "# Sets global variables for this Terraform project.\n",
      "\n",
      "variable app_name {\n",
      "  default = \"tsfn14g00\"\n",
      "}\n",
      "\n",
      "variable location {\n",
      "  default = \"westeurope\"\n",
      "}"
     ]
    }
   ],
   "source": [
    "#!type variables.tf # use this on Windows\n",
    "!cat variables.tf"
   ]
  },
  {
   "cell_type": "markdown",
   "metadata": {},
   "source": [
    "## Let's view the contents of the file `resource-group.tf`\n",
    "\n",
    "- Here we are defining an Azure Resource Group\n",
    "  - The Block Type is `resource`.\n",
    "  - The first Block Label is `azurerm_resource_group`\n",
    "    - `azurerm` is the name of the provider (i.e. the provider for Azure defined in the file `providers.tf`).\n",
    "    - `resource_group` is the name of the Azure resource (i.e. an Azure Resource Group defined in the `azurerm` provider/plugin).\n",
    "  - The first Argument sets the Azure Resource Group's name\n",
    "    - `name` is the argument's name\n",
    "    - Its value is retrieved from the Terraform variable `app_name` (defined in the file `variables.tf`).\n",
    "  - The second Argument sets the Resource Group's location\n",
    "    - `location` is the argument's name\n",
    "    - Its value is retrieved from the Terraform variable `location` (defined in the file `variables.tf`)."
   ]
  },
  {
   "cell_type": "code",
   "execution_count": 4,
   "metadata": {
    "vscode": {
     "languageId": "shellscript"
    }
   },
   "outputs": [
    {
     "name": "stdout",
     "output_type": "stream",
     "text": [
      "# Creates a resource group in your Azure account.\n",
      "\n",
      "resource \"azurerm_resource_group\" \"main\" {\n",
      "  name     = var.app_name\n",
      "  location = var.location\n",
      "}"
     ]
    }
   ],
   "source": [
    "#!type resource-group.tf # use this on Windows\n",
    "!cat resource-group.tf"
   ]
  },
  {
   "cell_type": "markdown",
   "metadata": {},
   "source": [
    "## Initialize Terraform\n",
    "\n",
    "- The Terraform CLI command `terraform init` initializes the Terraform Project."
   ]
  },
  {
   "cell_type": "code",
   "execution_count": 5,
   "metadata": {
    "vscode": {
     "languageId": "shellscript"
    }
   },
   "outputs": [
    {
     "name": "stdout",
     "output_type": "stream",
     "text": [
      "\n",
      "\u001b[0m\u001b[1mInitializing the backend...\u001b[0m\n",
      "\n",
      "\u001b[0m\u001b[1mInitializing provider plugins...\u001b[0m\n",
      "- Finding hashicorp/azurerm versions matching \"3.90.0\"...\n",
      "- Installing hashicorp/azurerm v3.90.0...\n",
      "- Installed hashicorp/azurerm v3.90.0 (signed by HashiCorp)\n",
      "\n",
      "Terraform has created a lock file \u001b[1m.terraform.lock.hcl\u001b[0m to record the provider\n",
      "selections it made above. Include this file in your version control repository\n",
      "so that Terraform can guarantee to make the same selections by default when\n",
      "you run \"terraform init\" in the future.\u001b[0m\n",
      "\n",
      "\u001b[0m\u001b[1m\u001b[32mTerraform has been successfully initialized!\u001b[0m\u001b[32m\u001b[0m\n",
      "\u001b[0m\u001b[32m\n",
      "You may now begin working with Terraform. Try running \"terraform plan\" to see\n",
      "any changes that are required for your infrastructure. All Terraform commands\n",
      "should now work.\n",
      "\n",
      "If you ever set or change modules or backend configuration for Terraform,\n",
      "rerun this command to reinitialize your working directory. If you forget, other\n",
      "commands will detect it and remind you to do so if necessary.\u001b[0m\n"
     ]
    }
   ],
   "source": [
    "#rm -rf .terraform rm .terraform.lock.hcl terraform.tfstate terraform.tfstate.backup\n",
    "!terraform init"
   ]
  },
  {
   "cell_type": "markdown",
   "metadata": {},
   "source": [
    "## Terraform Apply\n",
    "\n",
    "- The Terraform CLI command `terraform apply -auto-approve` applies (creates/updates) the resources defined in the Terraform project."
   ]
  },
  {
   "cell_type": "code",
   "execution_count": 6,
   "metadata": {
    "vscode": {
     "languageId": "shellscript"
    }
   },
   "outputs": [
    {
     "name": "stdout",
     "output_type": "stream",
     "text": [
      "\n",
      "Terraform used the selected providers to generate the following execution plan.\n",
      "Resource actions are indicated with the following symbols:\n",
      "  \u001b[32m+\u001b[0m create\u001b[0m\n",
      "\n",
      "Terraform will perform the following actions:\n",
      "\n",
      "\u001b[1m  # azurerm_resource_group.main\u001b[0m will be created\n",
      "\u001b[0m  \u001b[32m+\u001b[0m\u001b[0m resource \"azurerm_resource_group\" \"main\" {\n",
      "      \u001b[32m+\u001b[0m\u001b[0m id       = (known after apply)\n",
      "      \u001b[32m+\u001b[0m\u001b[0m location = \"westeurope\"\n",
      "      \u001b[32m+\u001b[0m\u001b[0m name     = \"tsfn14g00\"\n",
      "    }\n",
      "\n",
      "\u001b[1mPlan:\u001b[0m 1 to add, 0 to change, 0 to destroy.\n",
      "\u001b[0m\u001b[0m\u001b[1mazurerm_resource_group.main: Creating...\u001b[0m\u001b[0m\n",
      "\u001b[0m\u001b[1mazurerm_resource_group.main: Creation complete after 3s [id=/subscriptions/dc438970-aa32-41b3-8fe2-f587309a0208/resourceGroups/tsfn14g00]\u001b[0m\n",
      "\u001b[0m\u001b[1m\u001b[32m\n",
      "Apply complete! Resources: 1 added, 0 changed, 0 destroyed.\n",
      "\u001b[0m"
     ]
    }
   ],
   "source": [
    "!terraform apply -auto-approve"
   ]
  },
  {
   "cell_type": "markdown",
   "metadata": {},
   "source": [
    "## List Azure Resource Groups\n",
    "\n",
    "- The Azure CLI command `az group list -o table` lists all Resource Groups in Azure.\n",
    "- We see that the Resource Group defined in the Terraform project has been created."
   ]
  },
  {
   "cell_type": "code",
   "execution_count": 7,
   "metadata": {
    "vscode": {
     "languageId": "shellscript"
    }
   },
   "outputs": [
    {
     "name": "stdout",
     "output_type": "stream",
     "text": [
      "Name       Location    Status\n",
      "---------  ----------  ---------\n",
      "tsfn14g00  westeurope  Succeeded\n"
     ]
    }
   ],
   "source": [
    "!az group list -o table"
   ]
  },
  {
   "cell_type": "markdown",
   "metadata": {},
   "source": [
    "## Terraform Destroy\n",
    "\n",
    "- The Terraform CLI command `terraform destroy -auto-approve` destroys the resources defined in the Terraform project."
   ]
  },
  {
   "cell_type": "code",
   "execution_count": 8,
   "metadata": {
    "vscode": {
     "languageId": "shellscript"
    }
   },
   "outputs": [
    {
     "name": "stdout",
     "output_type": "stream",
     "text": [
      "\u001b[0m\u001b[1mazurerm_resource_group.main: Refreshing state... [id=/subscriptions/dc438970-aa32-41b3-8fe2-f587309a0208/resourceGroups/tsfn14g00]\u001b[0m\n",
      "\n",
      "Terraform used the selected providers to generate the following execution plan.\n",
      "Resource actions are indicated with the following symbols:\n",
      "  \u001b[31m-\u001b[0m destroy\u001b[0m\n",
      "\n",
      "Terraform will perform the following actions:\n",
      "\n",
      "\u001b[1m  # azurerm_resource_group.main\u001b[0m will be \u001b[1m\u001b[31mdestroyed\u001b[0m\n",
      "\u001b[0m  \u001b[31m-\u001b[0m\u001b[0m resource \"azurerm_resource_group\" \"main\" {\n",
      "      \u001b[31m-\u001b[0m\u001b[0m id       = \"/subscriptions/dc438970-aa32-41b3-8fe2-f587309a0208/resourceGroups/tsfn14g00\" \u001b[90m-> null\u001b[0m\u001b[0m\n",
      "      \u001b[31m-\u001b[0m\u001b[0m location = \"westeurope\" \u001b[90m-> null\u001b[0m\u001b[0m\n",
      "      \u001b[31m-\u001b[0m\u001b[0m name     = \"tsfn14g00\" \u001b[90m-> null\u001b[0m\u001b[0m\n",
      "      \u001b[31m-\u001b[0m\u001b[0m tags     = {} \u001b[90m-> null\u001b[0m\u001b[0m\n",
      "    }\n",
      "\n",
      "\u001b[1mPlan:\u001b[0m 0 to add, 0 to change, 1 to destroy.\n",
      "\u001b[0m\u001b[0m\u001b[1mazurerm_resource_group.main: Destroying... [id=/subscriptions/dc438970-aa32-41b3-8fe2-f587309a0208/resourceGroups/tsfn14g00]\u001b[0m\u001b[0m\n",
      "\u001b[0m\u001b[1mazurerm_resource_group.main: Still destroying... [id=/subscriptions/dc438970-aa32-41b3-8fe2-f587309a0208/resourceGroups/tsfn14g00, 10s elapsed]\u001b[0m\u001b[0m\n",
      "\u001b[0m\u001b[1mazurerm_resource_group.main: Destruction complete after 17s\u001b[0m\n",
      "\u001b[0m\u001b[1m\u001b[32m\n",
      "Destroy complete! Resources: 1 destroyed.\n",
      "\u001b[0m"
     ]
    }
   ],
   "source": [
    "!terraform destroy -auto-approve"
   ]
  },
  {
   "cell_type": "markdown",
   "metadata": {},
   "source": [
    "## List Azure Resource Groups\n",
    "\n",
    "- The Azure CLI command `az group list -o table` lists all Resource Groups in Azure.\n",
    "- We see that the Resource Group defined in the Terraform project has been destroyed."
   ]
  },
  {
   "cell_type": "code",
   "execution_count": 9,
   "metadata": {
    "vscode": {
     "languageId": "shellscript"
    }
   },
   "outputs": [
    {
     "name": "stdout",
     "output_type": "stream",
     "text": [
      "\n"
     ]
    }
   ],
   "source": [
    "!az group list -o table"
   ]
  },
  {
   "cell_type": "code",
   "execution_count": null,
   "metadata": {
    "vscode": {
     "languageId": "shellscript"
    }
   },
   "outputs": [],
   "source": []
  }
 ],
 "metadata": {
  "kernelspec": {
   "display_name": "Python 3",
   "language": "python",
   "name": "python3"
  },
  "language_info": {
   "codemirror_mode": {
    "name": "ipython",
    "version": 3
   },
   "file_extension": ".py",
   "mimetype": "text/x-python",
   "name": "python",
   "nbconvert_exporter": "python",
   "pygments_lexer": "ipython3",
   "version": "3.10.13"
  }
 },
 "nbformat": 4,
 "nbformat_minor": 2
}
