{
 "cells": [
  {
   "cell_type": "markdown",
   "metadata": {},
   "source": [
    "# Install Minikube (if not already installed)\n",
    "\n",
    "### Minikube is a Kubernetes distribution often used for local development purposes.\n",
    "\n",
    "- Documentation: https://minikube.sigs.k8s.io/docs\n",
    "\n",
    "- Install: https://minikube.sigs.k8s.io/docs/start\n",
    "\n",
    "  - **Windows** (if you have [Chocolatey](https://chocolatey.org/install) installed): `choco install minikube`\n",
    "  - **macOS** (if you have [Brew](https://brew.sh) installed): `brew install minikube`\n",
    "  - **Ubuntu/WSL2**:\n",
    "\n",
    "    ```bash\n",
    "    curl -LO https://storage.googleapis.com/minikube/releases/latest/minikube_latest_amd64.deb \\\n",
    "    && sudo dpkg -i minikube_latest_amd64.deb && rm minikube_latest_amd64.deb\n",
    "    ```"
   ]
  },
  {
   "cell_type": "markdown",
   "metadata": {},
   "source": [
    "## Show Minikube version"
   ]
  },
  {
   "cell_type": "code",
   "execution_count": 1,
   "metadata": {
    "vscode": {
     "languageId": "shellscript"
    }
   },
   "outputs": [
    {
     "name": "stdout",
     "output_type": "stream",
     "text": [
      "minikube version: v1.32.0\n",
      "commit: 8220a6eb95f0a4d75f7f2d7b14cef975f050512d\n"
     ]
    }
   ],
   "source": [
    "!minikube version"
   ]
  },
  {
   "cell_type": "markdown",
   "metadata": {},
   "source": [
    "## Show Minikube help\n",
    "\n",
    "- `minikube --help` shows what commands minikube can run.\n",
    "- `minikube <command> --help` shows additional help for the command `<command>`.\n",
    "  - E.g. `minikube start --help` shows additional help for the command `start`."
   ]
  },
  {
   "cell_type": "code",
   "execution_count": 2,
   "metadata": {
    "vscode": {
     "languageId": "shellscript"
    }
   },
   "outputs": [
    {
     "name": "stdout",
     "output_type": "stream",
     "text": [
      "minikube provisions and manages local Kubernetes clusters optimized for\n",
      "development workflows.\n",
      "\n",
      "Basic Commands:\n",
      "  start            Starts a local Kubernetes cluster\n",
      "  status           Gets the status of a local Kubernetes cluster\n",
      "  stop             Stops a running local Kubernetes cluster\n",
      "  delete           Deletes a local Kubernetes cluster\n",
      "  dashboard        Access the Kubernetes dashboard running within the minikube\n",
      "cluster\n",
      "  pause            pause Kubernetes\n",
      "  unpause          unpause Kubernetes\n",
      "\n",
      "Images Commands:\n",
      "  docker-env       Provides instructions to point your terminal's docker-cli to\n",
      "the Docker Engine inside minikube. (Useful for building docker images directly\n",
      "inside minikube)\n",
      "  podman-env       Configure environment to use minikube's Podman service\n",
      "  cache            Manage cache for images\n",
      "  image            Manage images\n",
      "\n",
      "Configuration and Management Commands:\n",
      "  addons           Enable or disable a minikube addon\n",
      "  config           Modify persistent configuration values\n",
      "  profile          Get or list the current profiles (clusters)\n",
      "  update-context   Update kubeconfig in case of an IP or port change\n",
      "\n",
      "Networking and Connectivity Commands:\n",
      "  service          Returns a URL to connect to a service\n",
      "  tunnel           Connect to LoadBalancer services\n",
      "\n",
      "Advanced Commands:\n",
      "  mount            Mounts the specified directory into minikube\n",
      "  ssh              Log into the minikube environment (for debugging)\n",
      "  kubectl          Run a kubectl binary matching the cluster version\n",
      "  node             Add, remove, or list additional nodes\n",
      "  cp               Copy the specified file into minikube\n",
      "\n",
      "Troubleshooting Commands:\n",
      "  ssh-key          Retrieve the ssh identity key path of the specified node\n",
      "  ssh-host         Retrieve the ssh host key of the specified node\n",
      "  ip               Retrieves the IP address of the specified node\n",
      "  logs             Returns logs to debug a local Kubernetes cluster\n",
      "  update-check     Print current and latest version number\n",
      "  version          Print the version of minikube\n",
      "  options          Show a list of global command-line options (applies to all\n",
      "commands).\n",
      "\n",
      "Other Commands:\n",
      "  completion       Generate command completion for a shell\n",
      "  license          Outputs the licenses of dependencies to a directory\n",
      "\n",
      "Use \"minikube <command> --help\" for more information about a given command.\n"
     ]
    }
   ],
   "source": [
    "#!minikube start --help\n",
    "!minikube --help"
   ]
  },
  {
   "cell_type": "markdown",
   "metadata": {},
   "source": [
    "## Start a Minikube cluster with 3 nodes\n",
    "\n",
    "- The `--nodes` option specifies the number of Minikube nodes that will be created.\n",
    "- The `-p` option creates a cluster with a specific name (where `p` stands for `profile`).\n",
    "  - If no `-p` option is specified, the cluster will be called `minikube` as default.\n",
    "- Multiple clusters with different names (profiles) can be created."
   ]
  },
  {
   "cell_type": "code",
   "execution_count": 3,
   "metadata": {
    "vscode": {
     "languageId": "shellscript"
    }
   },
   "outputs": [
    {
     "name": "stdout",
     "output_type": "stream",
     "text": [
      "😄  minikube v1.32.0 on Ubuntu 20.04 (amd64)\n",
      "✨  Automatically selected the docker driver. Other choices: qemu2, ssh\n",
      "📌  Using Docker driver with root privileges\n",
      "👍  Starting control plane node minikube in cluster minikube\n",
      "🚜  Pulling base image ...\n",
      "🔥  Creating docker container (CPUs=2, Memory=2200MB) ...\u001b[K\u001b[K\u001b[K\u001b[K\u001b[K\u001b[K\u001b[K\u001b[K\u001b[K\u001b[K\u001b[K\u001b[K\u001b[K\u001b[K\u001b[K\u001b[K\u001b[K\u001b[K\u001b[K\u001b[K\u001b[K\u001b[K\u001b[K\u001b[K\u001b[K\u001b[K\u001b[K\u001b[K\u001b[K\u001b[K\u001b[K\u001b[K\u001b[K\u001b[K\u001b[K\u001b[K\u001b[K\u001b[K\u001b[K\u001b[K\u001b[K\u001b[K\u001b[K\u001b[K\u001b[K\u001b[K\u001b[K\u001b[K\u001b[K\u001b[K\u001b[K\u001b[K\u001b[K\u001b[K\u001b[K\u001b[K\u001b[K\u001b[K\u001b[K\u001b[K\u001b[K\u001b[K\u001b[K\u001b[K\u001b[K\u001b[K\u001b[K\u001b[K\u001b[K\u001b[K\u001b[K\u001b[K\u001b[K\u001b[K\u001b[K\u001b[K\u001b[K\u001b[K\u001b[K\u001b[K\u001b[K\u001b[K\u001b[K\u001b[K\u001b[K\u001b[K\u001b[K\u001b[K\u001b[K\u001b[K\u001b[K\u001b[K\u001b[K\u001b[K\u001b[K\u001b[K\u001b[K\u001b[K\u001b[K\u001b[K\u001b[K\u001b[K\u001b[K\u001b[K\u001b[K\u001b[K\u001b[K\u001b[K\u001b[K\u001b[K\u001b[K\u001b[K\u001b[K\u001b[K\u001b[K\u001b[K\u001b[K\u001b[K\u001b[K\u001b[K\u001b[K\u001b[K\u001b[K\u001b[K\u001b[K\u001b[K\u001b[K\u001b[K\u001b[K\u001b[K\u001b[K\u001b[K\u001b[K\u001b[K\u001b[K\u001b[K\u001b[K\u001b[K\u001b[K\u001b[K\u001b[K\u001b[K\u001b[K\u001b[K\u001b[K\u001b[K\u001b[K\u001b[K\u001b[K\u001b[K\u001b[K\u001b[K\u001b[K\u001b[K\u001b[K\u001b[K\u001b[K\u001b[K\u001b[K\u001b[K\u001b[K\u001b[K\u001b[K\u001b[K\u001b[K\u001b[K\u001b[K\u001b[K\u001b[K\u001b[K\u001b[K\u001b[K\u001b[K\u001b[K\u001b[K\u001b[K\u001b[K\u001b[K\u001b[K\u001b[K\u001b[K\u001b[K\u001b[K\u001b[K\u001b[K\u001b[K\u001b[K\u001b[K\u001b[K\u001b[K\u001b[K\u001b[K\u001b[K\u001b[K\u001b[K\u001b[K\u001b[K\u001b[K\u001b[K\u001b[K\u001b[K\u001b[K\u001b[K\u001b[K\u001b[K\u001b[K\u001b[K\u001b[K\u001b[K\u001b[K\u001b[K\u001b[K\u001b[K\u001b[K\u001b[K\u001b[K\u001b[K\u001b[K\u001b[K\u001b[K\u001b[K\u001b[K\u001b[K\u001b[K\u001b[K\u001b[K\u001b[K\u001b[K\u001b[K\u001b[K\u001b[K\u001b[K\u001b[K\u001b[K\u001b[K\u001b[K\u001b[K\u001b[K\u001b[K\u001b[K\u001b[K\u001b[K\u001b[K\u001b[K\u001b[K\u001b[K\u001b[K\u001b[K\u001b[K\u001b[K\u001b[K\u001b[K\u001b[K\u001b[K\u001b[K\u001b[K\u001b[K\u001b[K\u001b[K\u001b[K\u001b[K\u001b[K\u001b[K\u001b[K\u001b[K\u001b[K\u001b[K\u001b[K\u001b[K\u001b[K\u001b[K\u001b[K\u001b[K\u001b[K\u001b[K\u001b[K\n",
      "🐳  Preparing Kubernetes v1.28.3 on Docker 24.0.7 ...\u001b[K\u001b[K\u001b[K\u001b[K\u001b[K\u001b[K\u001b[K\u001b[K\u001b[K\u001b[K\u001b[K\u001b[K\u001b[K\u001b[K\u001b[K\u001b[K\u001b[K\u001b[K\u001b[K\u001b[K\u001b[K\u001b[K\u001b[K\u001b[K\u001b[K\u001b[K\u001b[K\u001b[K\n",
      "    ▪ Generating certificates and keys ...\u001b[K\u001b[K\u001b[K\u001b[K\u001b[K\u001b[K\u001b[K\u001b[K\u001b[K\u001b[K\u001b[K\u001b[K\u001b[K\u001b[K\u001b[K\u001b[K\u001b[K\u001b[K\u001b[K\u001b[K\u001b[K\u001b[K\u001b[K\u001b[K\u001b[K\u001b[K\u001b[K\u001b[K\u001b[K\u001b[K\u001b[K\u001b[K\u001b[K\u001b[K\u001b[K\u001b[K\u001b[K\u001b[K\u001b[K\u001b[K\u001b[K\u001b[K\u001b[K\u001b[K\u001b[K\u001b[K\u001b[K\u001b[K\u001b[K\u001b[K\u001b[K\u001b[K\n",
      "    ▪ Booting up control plane ...\u001b[K\u001b[K\u001b[K\u001b[K\u001b[K\u001b[K\u001b[K\u001b[K\u001b[K\u001b[K\u001b[K\u001b[K\u001b[K\u001b[K\u001b[K\u001b[K\u001b[K\u001b[K\u001b[K\u001b[K\u001b[K\u001b[K\u001b[K\u001b[K\u001b[K\u001b[K\u001b[K\u001b[K\u001b[K\u001b[K\u001b[K\u001b[K\u001b[K\u001b[K\u001b[K\u001b[K\u001b[K\u001b[K\u001b[K\u001b[K\u001b[K\u001b[K\u001b[K\u001b[K\u001b[K\u001b[K\u001b[K\u001b[K\u001b[K\u001b[K\u001b[K\u001b[K\u001b[K\u001b[K\u001b[K\u001b[K\u001b[K\u001b[K\u001b[K\u001b[K\u001b[K\u001b[K\u001b[K\u001b[K\u001b[K\u001b[K\u001b[K\u001b[K\u001b[K\u001b[K\u001b[K\u001b[K\u001b[K\u001b[K\u001b[K\u001b[K\u001b[K\u001b[K\u001b[K\u001b[K\u001b[K\u001b[K\u001b[K\u001b[K\u001b[K\u001b[K\u001b[K\u001b[K\u001b[K\u001b[K\u001b[K\u001b[K\u001b[K\u001b[K\u001b[K\u001b[K\u001b[K\u001b[K\u001b[K\u001b[K\u001b[K\u001b[K\u001b[K\u001b[K\u001b[K\u001b[K\u001b[K\u001b[K\u001b[K\u001b[K\u001b[K\u001b[K\u001b[K\u001b[K\u001b[K\u001b[K\u001b[K\u001b[K\u001b[K\u001b[K\u001b[K\u001b[K\u001b[K\u001b[K\u001b[K\u001b[K\u001b[K\u001b[K\u001b[K\u001b[K\u001b[K\u001b[K\n",
      "    ▪ Configuring RBAC rules ...\u001b[K\u001b[K\u001b[K\u001b[K\u001b[K\u001b[K\u001b[K\u001b[K\u001b[K\u001b[K\n",
      "🔗  Configuring CNI (Container Networking Interface) ...\n",
      "    ▪ Using image gcr.io/k8s-minikube/storage-provisioner:v5\n",
      "🔎  Verifying Kubernetes components...\n",
      "🌟  Enabled addons: storage-provisioner, default-storageclass\n",
      "\n",
      "👍  Starting worker node minikube-m02 in cluster minikube\n",
      "🚜  Pulling base image ...\n",
      "🔥  Creating docker container (CPUs=2, Memory=2200MB) ...\u001b[K\u001b[K\u001b[K\u001b[K\u001b[K\u001b[K\u001b[K\u001b[K\u001b[K\u001b[K\u001b[K\u001b[K\u001b[K\u001b[K\u001b[K\u001b[K\u001b[K\u001b[K\u001b[K\u001b[K\u001b[K\u001b[K\u001b[K\u001b[K\u001b[K\u001b[K\u001b[K\u001b[K\u001b[K\u001b[K\u001b[K\u001b[K\u001b[K\u001b[K\u001b[K\u001b[K\u001b[K\u001b[K\u001b[K\u001b[K\u001b[K\u001b[K\u001b[K\u001b[K\u001b[K\u001b[K\u001b[K\u001b[K\u001b[K\u001b[K\u001b[K\u001b[K\u001b[K\u001b[K\u001b[K\u001b[K\u001b[K\u001b[K\u001b[K\u001b[K\u001b[K\u001b[K\u001b[K\u001b[K\u001b[K\u001b[K\u001b[K\u001b[K\u001b[K\u001b[K\u001b[K\u001b[K\u001b[K\u001b[K\u001b[K\u001b[K\u001b[K\u001b[K\u001b[K\u001b[K\u001b[K\u001b[K\u001b[K\u001b[K\u001b[K\u001b[K\u001b[K\u001b[K\u001b[K\u001b[K\u001b[K\u001b[K\u001b[K\u001b[K\u001b[K\u001b[K\u001b[K\u001b[K\u001b[K\u001b[K\u001b[K\u001b[K\u001b[K\u001b[K\u001b[K\u001b[K\u001b[K\u001b[K\u001b[K\u001b[K\u001b[K\u001b[K\u001b[K\u001b[K\u001b[K\u001b[K\u001b[K\u001b[K\u001b[K\u001b[K\u001b[K\u001b[K\u001b[K\u001b[K\u001b[K\u001b[K\u001b[K\u001b[K\u001b[K\u001b[K\u001b[K\u001b[K\u001b[K\u001b[K\u001b[K\u001b[K\u001b[K\u001b[K\u001b[K\u001b[K\u001b[K\u001b[K\u001b[K\u001b[K\u001b[K\u001b[K\u001b[K\u001b[K\u001b[K\u001b[K\u001b[K\u001b[K\n",
      "🌐  Found network options:\n",
      "    ▪ NO_PROXY=192.168.49.2\n",
      "🐳  Preparing Kubernetes v1.28.3 on Docker 24.0.7 ...\u001b[K\u001b[K\n",
      "    ▪ env NO_PROXY=192.168.49.2\n",
      "🔎  Verifying Kubernetes components...\n",
      "\n",
      "👍  Starting worker node minikube-m03 in cluster minikube\n",
      "🚜  Pulling base image ...\n",
      "🔥  Creating docker container (CPUs=2, Memory=2200MB) ...\u001b[K\u001b[K\u001b[K\u001b[K\u001b[K\u001b[K\u001b[K\u001b[K\u001b[K\u001b[K\u001b[K\u001b[K\u001b[K\u001b[K\u001b[K\u001b[K\u001b[K\u001b[K\u001b[K\u001b[K\u001b[K\u001b[K\u001b[K\u001b[K\u001b[K\u001b[K\u001b[K\u001b[K\u001b[K\u001b[K\u001b[K\u001b[K\u001b[K\u001b[K\u001b[K\u001b[K\u001b[K\u001b[K\u001b[K\u001b[K\u001b[K\u001b[K\u001b[K\u001b[K\u001b[K\u001b[K\u001b[K\u001b[K\u001b[K\u001b[K\u001b[K\u001b[K\u001b[K\u001b[K\u001b[K\u001b[K\u001b[K\u001b[K\u001b[K\u001b[K\u001b[K\u001b[K\u001b[K\u001b[K\u001b[K\u001b[K\u001b[K\u001b[K\u001b[K\u001b[K\u001b[K\u001b[K\u001b[K\u001b[K\u001b[K\u001b[K\u001b[K\u001b[K\u001b[K\u001b[K\u001b[K\u001b[K\u001b[K\u001b[K\u001b[K\u001b[K\u001b[K\u001b[K\u001b[K\u001b[K\u001b[K\u001b[K\u001b[K\u001b[K\u001b[K\u001b[K\u001b[K\u001b[K\u001b[K\u001b[K\u001b[K\u001b[K\u001b[K\u001b[K\u001b[K\u001b[K\u001b[K\u001b[K\u001b[K\u001b[K\u001b[K\u001b[K\u001b[K\u001b[K\u001b[K\u001b[K\u001b[K\u001b[K\u001b[K\u001b[K\u001b[K\u001b[K\u001b[K\u001b[K\u001b[K\u001b[K\u001b[K\u001b[K\u001b[K\u001b[K\u001b[K\u001b[K\u001b[K\u001b[K\u001b[K\u001b[K\u001b[K\u001b[K\u001b[K\u001b[K\u001b[K\u001b[K\u001b[K\u001b[K\u001b[K\u001b[K\u001b[K\u001b[K\u001b[K\u001b[K\u001b[K\u001b[K\u001b[K\u001b[K\u001b[K\u001b[K\u001b[K\u001b[K\u001b[K\u001b[K\u001b[K\u001b[K\u001b[K\u001b[K\u001b[K\u001b[K\u001b[K\u001b[K\u001b[K\u001b[K\u001b[K\u001b[K\u001b[K\u001b[K\u001b[K\u001b[K\u001b[K\u001b[K\u001b[K\u001b[K\u001b[K\u001b[K\u001b[K\u001b[K\u001b[K\u001b[K\u001b[K\u001b[K\u001b[K\u001b[K\u001b[K\u001b[K\u001b[K\u001b[K\u001b[K\u001b[K\u001b[K\u001b[K\u001b[K\u001b[K\u001b[K\u001b[K\u001b[K\u001b[K\u001b[K\u001b[K\u001b[K\u001b[K\u001b[K\u001b[K\u001b[K\u001b[K\u001b[K\u001b[K\u001b[K\u001b[K\u001b[K\u001b[K\u001b[K\u001b[K\u001b[K\u001b[K\u001b[K\u001b[K\u001b[K\u001b[K\u001b[K\u001b[K\u001b[K\u001b[K\u001b[K\u001b[K\u001b[K\u001b[K\n",
      "🌐  Found network options:\n",
      "    ▪ NO_PROXY=192.168.49.2,192.168.49.3\n",
      "🐳  Preparing Kubernetes v1.28.3 on Docker 24.0.7 ...\u001b[K\u001b[K\n",
      "    ▪ env NO_PROXY=192.168.49.2\n",
      "    ▪ env NO_PROXY=192.168.49.2,192.168.49.3\n",
      "🔎  Verifying Kubernetes components...\n",
      "🏄  Done! kubectl is now configured to use \"minikube\" cluster and \"default\" namespace by default\n"
     ]
    }
   ],
   "source": [
    "#!minikube start --nodes 3 -p minikube\n",
    "!minikube start --nodes 3"
   ]
  },
  {
   "cell_type": "markdown",
   "metadata": {},
   "source": [
    "## List Minikube profiles\n",
    "- A profile is a Minikube cluster with a specific name.\n",
    "- Multiple clusters can exist at the same time, each with a different name (profile).\n",
    "- Notice the `minikube` profile (cluster) has 3 nodes."
   ]
  },
  {
   "cell_type": "code",
   "execution_count": 4,
   "metadata": {
    "vscode": {
     "languageId": "shellscript"
    }
   },
   "outputs": [
    {
     "name": "stdout",
     "output_type": "stream",
     "text": [
      "|----------|-----------|---------|--------------|------|---------|---------|-------|--------|\n",
      "| Profile  | VM Driver | Runtime |      IP      | Port | Version | Status  | Nodes | Active |\n",
      "|----------|-----------|---------|--------------|------|---------|---------|-------|--------|\n",
      "| minikube | docker    | docker  | 192.168.49.2 | 8443 | v1.28.3 | Running |     3 | *      |\n",
      "|----------|-----------|---------|--------------|------|---------|---------|-------|--------|\n"
     ]
    }
   ],
   "source": [
    "!minikube profile list"
   ]
  },
  {
   "cell_type": "markdown",
   "metadata": {},
   "source": [
    "## List Minikube nodes\n",
    "\n",
    "- Minikube always has one `control plane` node (called `minikube` below).\n",
    "- Additional nodes are `worker` nodes (called `minikube-m02` and `minikube-m03` below)."
   ]
  },
  {
   "cell_type": "code",
   "execution_count": 5,
   "metadata": {
    "vscode": {
     "languageId": "shellscript"
    }
   },
   "outputs": [
    {
     "name": "stdout",
     "output_type": "stream",
     "text": [
      "minikube\t192.168.49.2\n",
      "minikube-m02\t192.168.49.3\n",
      "minikube-m03\t192.168.49.4\n"
     ]
    }
   ],
   "source": [
    "!minikube node list"
   ]
  },
  {
   "cell_type": "markdown",
   "metadata": {},
   "source": [
    "## List Running Docker Containers on your computer (host machine)\n",
    "\n",
    "- Minikube nodes are run as Docker Containers (when Docker is used as the \"driver\").\n",
    "  - We see that the Docker Containers for the Minikube nodes have a `STATUS` of `Up`."
   ]
  },
  {
   "cell_type": "code",
   "execution_count": 6,
   "metadata": {
    "vscode": {
     "languageId": "shellscript"
    }
   },
   "outputs": [
    {
     "name": "stdout",
     "output_type": "stream",
     "text": [
      "CONTAINER ID   IMAGE                                 COMMAND                  CREATED              STATUS              PORTS                                                                                                                                  NAMES\n",
      "56fbdaa6bff2   gcr.io/k8s-minikube/kicbase:v0.0.42   \"/usr/local/bin/entr…\"   17 seconds ago       Up 17 seconds       127.0.0.1:32887->22/tcp, 127.0.0.1:32886->2376/tcp, 127.0.0.1:32885->5000/tcp, 127.0.0.1:32884->8443/tcp, 127.0.0.1:32883->32443/tcp   minikube-m03\n",
      "c81e01024188   gcr.io/k8s-minikube/kicbase:v0.0.42   \"/usr/local/bin/entr…\"   37 seconds ago       Up 37 seconds       127.0.0.1:32882->22/tcp, 127.0.0.1:32881->2376/tcp, 127.0.0.1:32880->5000/tcp, 127.0.0.1:32879->8443/tcp, 127.0.0.1:32878->32443/tcp   minikube-m02\n",
      "1fb7ea6a8b02   gcr.io/k8s-minikube/kicbase:v0.0.42   \"/usr/local/bin/entr…\"   About a minute ago   Up About a minute   127.0.0.1:32877->22/tcp, 127.0.0.1:32876->2376/tcp, 127.0.0.1:32875->5000/tcp, 127.0.0.1:32874->8443/tcp, 127.0.0.1:32873->32443/tcp   minikube\n"
     ]
    }
   ],
   "source": [
    "#!docker ps --format 'table {{ .ID }}\\t{{.Image}}\\t{{ .Names }}'\n",
    "!docker ps"
   ]
  },
  {
   "cell_type": "markdown",
   "metadata": {},
   "source": [
    "## Remote into a Minikube node\n",
    "\n",
    "- We can open a Secure SHell (SSH) to a Minikube node with the command `minikube ssh --node <node>`.\n",
    "  - `<node>` is the name of he Minikube node.  \n",
    "- For example:\n",
    "  - `minikube ssh --node minikube`\n",
    "  - `minikube ssh --node minikube-m02`\n",
    "  - `minikube ssh --node minikube-m03`\n",
    "\n",
    "- This can be useful for debugging purposes since, within a Minikube node, we:\n",
    "  - Have access to the internal (private) Kubernetes network.\n",
    "  - Can see what Docker containers have been pulled into a Node (e.g. for a Pod running on a worker node).\n",
    "\n",
    "### Run the commands below in a separate terminal (the Notebook cell won't terminate otherwise).\n",
    "\n",
    "```bash\n",
    "# Remote into the master node\n",
    "minikube ssh --node minikube\n",
    "\n",
    "# List kubernets system components (processes) running on the master node\n",
    "ps -e | grep -i -E 'etcd|kube| dockerd'\n",
    "\n",
    "# dockerd         : this is the container runtime engine that manages containers on a node.\n",
    "# etcd            : this is the etcd key-value database that stores a Kubernetes cluster's state (\"single source of truth\").\n",
    "# kube-apiserver  : this is the kube-apiserver that communicates with the etcd database and exposes a REST API.\n",
    "# kube-scheduler  : this is kube-scheduler that schedules new resources on specific nodes.\n",
    "# kube-controller : this is the kube-controller-manager that controls various resources' controller managers.\n",
    "# kubelet         : this is the kubelet that communicates with the kube-apiserver and manages pods on a node.\n",
    "# kube-proxy      : this is the kube-proxy that maintains a network routing table and maps Service IPs Pod IPs.\n",
    "\n",
    "# Exit from the master node\n",
    "exit\n",
    "\n",
    "# Remote into a worker node\n",
    "minikube ssh --node minikube-m02\n",
    "\n",
    "# List kubernets system components (processes) running on the worker node\n",
    "ps -e | grep -i -E 'etcd|kube| dockerd'\n",
    "\n",
    "# dockerd         : this is the container runtime engine that manages containers on a node.\n",
    "# kubelet         : this is the kubelet that communicates with the kube-apiserver and manages pods on a node.\n",
    "# kube-proxy      : this is the kube-proxy that maintains a network routing table and maps Service IPs Pod IPs.\n",
    "\n",
    "# Exit from the worker node\n",
    "exit\n",
    "```"
   ]
  },
  {
   "cell_type": "markdown",
   "metadata": {},
   "source": [
    "## Enable addons\n",
    "\n",
    "- Addons are additional resources that can be added to a specific Minikube cluster.\n",
    "  - Usually you would have to install these yourself in a normal Kubernetes cluster, but Minikube Addons makes this easy.\n",
    "\n",
    "- Addons can be enabled with the command `minikube addons enable <addon>`, where `<addon>` is the name of the addon.\n",
    "  - The `metrics-server` is needed by e.g. the `horizontal-pod-autoscaler`.\n",
    "  - The `dashboard` is a Web UI tool for managing a cluster (as an aternative to the CLI tool `kubectl`).\n",
    "  - The `csi-hostpath-driver` is needed for `hostpath` storage when using multi-node Minikube clusters.\n",
    "  - The `volumesnapshots` is needed by the `csi-hostpath-driver` for full functionality.\n",
    "  - The `metallb` is a `load balancer` (layer 4 load balancer) for enabling external access (via the internet) to the Minikube cluster.\n",
    "  - The `ingress` is an `nginx-ingress` (layer 7 load balancer) for enabling external access (via the internet) to the Minikube cluster.\n",
    "- Addons can be disabled with the command `minikube addons disable <addon>`."
   ]
  },
  {
   "cell_type": "code",
   "execution_count": 7,
   "metadata": {
    "vscode": {
     "languageId": "shellscript"
    }
   },
   "outputs": [
    {
     "name": "stdout",
     "output_type": "stream",
     "text": [
      "💡  metrics-server is an addon maintained by Kubernetes. For any concerns contact minikube on GitHub.\n",
      "You can view the list of minikube maintainers at: https://github.com/kubernetes/minikube/blob/master/OWNERS\n",
      "    ▪ Using image registry.k8s.io/metrics-server/metrics-server:v0.6.4\n",
      "🌟  The 'metrics-server' addon is enabled\n",
      "💡  dashboard is an addon maintained by Kubernetes. For any concerns contact minikube on GitHub.\n",
      "You can view the list of minikube maintainers at: https://github.com/kubernetes/minikube/blob/master/OWNERS\n",
      "    ▪ Using image docker.io/kubernetesui/dashboard:v2.7.0\n",
      "    ▪ Using image docker.io/kubernetesui/metrics-scraper:v1.0.8\n",
      "💡  Some dashboard features require the metrics-server addon. To enable all features please run:\n",
      "\n",
      "\tminikube addons enable metrics-server\t\n",
      "\n",
      "\n",
      "🌟  The 'dashboard' addon is enabled\n",
      "💡  csi-hostpath-driver is an addon maintained by Kubernetes. For any concerns contact minikube on GitHub.\n",
      "You can view the list of minikube maintainers at: https://github.com/kubernetes/minikube/blob/master/OWNERS\n",
      "❗  [WARNING] For full functionality, the 'csi-hostpath-driver' addon requires the 'volumesnapshots' addon to be enabled.\n",
      "\n",
      "You can enable 'volumesnapshots' addon by running: 'minikube addons enable volumesnapshots'\n",
      "\n",
      "    ▪ Using image registry.k8s.io/sig-storage/livenessprobe:v2.8.0\n",
      "    ▪ Using image registry.k8s.io/sig-storage/csi-resizer:v1.6.0\n",
      "    ▪ Using image registry.k8s.io/sig-storage/csi-snapshotter:v6.1.0\n",
      "    ▪ Using image registry.k8s.io/sig-storage/csi-provisioner:v3.3.0\n",
      "    ▪ Using image registry.k8s.io/sig-storage/csi-attacher:v4.0.0\n",
      "    ▪ Using image registry.k8s.io/sig-storage/csi-external-health-monitor-controller:v0.7.0\n",
      "    ▪ Using image registry.k8s.io/sig-storage/csi-node-driver-registrar:v2.6.0\n",
      "    ▪ Using image registry.k8s.io/sig-storage/hostpathplugin:v1.9.0\n",
      "🔎  Verifying csi-hostpath-driver addon...\n",
      "🌟  The 'csi-hostpath-driver' addon is enabled\n",
      "💡  volumesnapshots is an addon maintained by Kubernetes. For any concerns contact minikube on GitHub.\n",
      "You can view the list of minikube maintainers at: https://github.com/kubernetes/minikube/blob/master/OWNERS\n",
      "    ▪ Using image registry.k8s.io/sig-storage/snapshot-controller:v6.1.0\n",
      "🌟  The 'volumesnapshots' addon is enabled\n",
      "❗  metallb is a 3rd party addon and is not maintained or verified by minikube maintainers, enable at your own risk.\n",
      "❗  metallb does not currently have an associated maintainer.\n",
      "    ▪ Using image quay.io/metallb/speaker:v0.9.6\n",
      "    ▪ Using image quay.io/metallb/controller:v0.9.6\n",
      "🌟  The 'metallb' addon is enabled\n",
      "💡  ingress is an addon maintained by Kubernetes. For any concerns contact minikube on GitHub.\n",
      "You can view the list of minikube maintainers at: https://github.com/kubernetes/minikube/blob/master/OWNERS\n",
      "    ▪ Using image registry.k8s.io/ingress-nginx/controller:v1.9.4\n",
      "    ▪ Using image registry.k8s.io/ingress-nginx/kube-webhook-certgen:v20231011-8b53cabe0\n",
      "    ▪ Using image registry.k8s.io/ingress-nginx/kube-webhook-certgen:v20231011-8b53cabe0\n",
      "🔎  Verifying ingress addon...\n",
      "🌟  The 'ingress' addon is enabled\n"
     ]
    }
   ],
   "source": [
    "#!minikube addons enable metrics-server -p minikube\n",
    "!minikube addons enable metrics-server\n",
    "!minikube addons enable dashboard\n",
    "!minikube addons enable csi-hostpath-driver\n",
    "!minikube addons enable volumesnapshots\n",
    "!minikube addons enable metallb\n",
    "!minikube addons enable ingress"
   ]
  },
  {
   "cell_type": "markdown",
   "metadata": {},
   "source": [
    "## List Minikube Addons\n",
    "\n",
    "- The command `minikube addons list` shows what addons are enabled/disabled for a specific Minikube cluster.\n",
    "  - The `STATUS` column shows if an addon is enabled or disabled."
   ]
  },
  {
   "cell_type": "code",
   "execution_count": 8,
   "metadata": {
    "vscode": {
     "languageId": "shellscript"
    }
   },
   "outputs": [
    {
     "name": "stdout",
     "output_type": "stream",
     "text": [
      "|-----------------------------|----------|--------------|--------------------------------|\n",
      "|         ADDON NAME          | PROFILE  |    STATUS    |           MAINTAINER           |\n",
      "|-----------------------------|----------|--------------|--------------------------------|\n",
      "| ambassador                  | minikube | disabled     | 3rd party (Ambassador)         |\n",
      "| auto-pause                  | minikube | disabled     | minikube                       |\n",
      "| cloud-spanner               | minikube | disabled     | Google                         |\n",
      "| csi-hostpath-driver         | minikube | enabled ✅   | Kubernetes                     |\n",
      "| dashboard                   | minikube | enabled ✅   | Kubernetes                     |\n",
      "| default-storageclass        | minikube | disabled     | Kubernetes                     |\n",
      "| efk                         | minikube | disabled     | 3rd party (Elastic)            |\n",
      "| freshpod                    | minikube | disabled     | Google                         |\n",
      "| gcp-auth                    | minikube | disabled     | Google                         |\n",
      "| gvisor                      | minikube | disabled     | minikube                       |\n",
      "| headlamp                    | minikube | disabled     | 3rd party (kinvolk.io)         |\n",
      "| helm-tiller                 | minikube | disabled     | 3rd party (Helm)               |\n",
      "| inaccel                     | minikube | disabled     | 3rd party (InAccel             |\n",
      "|                             |          |              | [info@inaccel.com])            |\n",
      "| ingress                     | minikube | enabled ✅   | Kubernetes                     |\n",
      "| ingress-dns                 | minikube | disabled     | minikube                       |\n",
      "| inspektor-gadget            | minikube | disabled     | 3rd party                      |\n",
      "|                             |          |              | (inspektor-gadget.io)          |\n",
      "| istio                       | minikube | disabled     | 3rd party (Istio)              |\n",
      "| istio-provisioner           | minikube | disabled     | 3rd party (Istio)              |\n",
      "| kong                        | minikube | disabled     | 3rd party (Kong HQ)            |\n",
      "| kubeflow                    | minikube | disabled     | 3rd party                      |\n",
      "| kubevirt                    | minikube | disabled     | 3rd party (KubeVirt)           |\n",
      "| logviewer                   | minikube | disabled     | 3rd party (unknown)            |\n",
      "| metallb                     | minikube | enabled ✅   | 3rd party (MetalLB)            |\n",
      "| metrics-server              | minikube | enabled ✅   | Kubernetes                     |\n",
      "| nvidia-device-plugin        | minikube | disabled     | 3rd party (NVIDIA)             |\n",
      "| nvidia-driver-installer     | minikube | disabled     | 3rd party (Nvidia)             |\n",
      "| nvidia-gpu-device-plugin    | minikube | disabled     | 3rd party (Nvidia)             |\n",
      "| olm                         | minikube | disabled     | 3rd party (Operator Framework) |\n",
      "| pod-security-policy         | minikube | disabled     | 3rd party (unknown)            |\n",
      "| portainer                   | minikube | disabled     | 3rd party (Portainer.io)       |\n",
      "| registry                    | minikube | disabled     | minikube                       |\n",
      "| registry-aliases            | minikube | disabled     | 3rd party (unknown)            |\n",
      "| registry-creds              | minikube | disabled     | 3rd party (UPMC Enterprises)   |\n",
      "| storage-provisioner         | minikube | disabled     | minikube                       |\n",
      "| storage-provisioner-gluster | minikube | disabled     | 3rd party (Gluster)            |\n",
      "| storage-provisioner-rancher | minikube | disabled     | 3rd party (Rancher)            |\n",
      "| volumesnapshots             | minikube | enabled ✅   | Kubernetes                     |\n",
      "|-----------------------------|----------|--------------|--------------------------------|\n"
     ]
    }
   ],
   "source": [
    "#!minikube addons list -p minikube\n",
    "!minikube addons list"
   ]
  },
  {
   "cell_type": "markdown",
   "metadata": {},
   "source": [
    "## Open the Dashboard\n",
    "\n",
    "- The `dashboard` is a Web UI tool for managing a cluster (as an aternative to the CLI tool `kubectl`).\n",
    "- When the `dashboard` addon is enabled, we can open the dashboard with the command `minikube dashboard`.\n",
    "- This will:\n",
    "  - Create a proxy from our host machine into the Minikube Kubernetes cluster.\n",
    "  - Open the Dashboard Web UI in your default browser. \n",
    "\n",
    "### Run the command below in a separate terminal (the Notebook cell won't terminate otherwise).\n",
    "\n",
    "```bash\n",
    "minikube dashboard\n",
    "```\n",
    "\n",
    "<img src=\"dashboard.png\" alt=\"dashboard\" width=\"1000\" height=\"500\"/>\n",
    "\n",
    "Under **Workloads** in the left margin\n",
    "- Click on **Deployments** to see the cluster's Deployments (you won't see any at the moment).\n",
    "- Click on **Pods** to see the cluster's Pods (you won't see any at the moment).\n",
    "- Click on **Replica Sets** to see the cluster's ReplicaSets (you won't see any at the moment).\n",
    "\n",
    "Under **Service** in the left margin\n",
    "- Click on **Ingresses** to see the cluster's Ingresses (you won't see any at the moment).\n",
    "- Click on **Services** to see the cluster's Services (you will see one service here at the moment).\n",
    "  - The `kubernetes` service is used within the cluster to access the kube-apiserver, so **never delete it**.\n",
    "\n",
    "Under **Cluster** in the left margin\n",
    "- Click on **Namespaces** to see the cluster's Namespaces (you will see five namespaces here at the moment).\n",
    "  - The namespaces `kube-node-lease`, `kube-public` and `kube-system` contain kubernetes system resources, so **never delete them**.\n",
    "  - The namespace `kubernetes-dashboard` contains resources for the Dashboard.\n",
    "  - The namesapce `default` is where new resources will be added by default.\n",
    "- Click on **Nodes** to see the cluster's Nodes (you will see three nodes here).\n",
    "  - The `minikube` node is the master node.\n",
    "  - The `minikube-m02` node is a worker node.\n",
    "  - The `minikube-m03` node is a worker node.\n",
    "\n",
    "Notice the three vertical dots `:` in the far right of every listed resource.\n",
    "- You can click this and choose\n",
    "  - `Edit` to edit the YAML for this resouce (when saved, it will update the resource in the cluster).\n",
    "  - `Delete` to delete the resouce from the cluster.\n",
    "\n",
    "Notice the `+` icon in the top right of the Web UI.\n",
    "- You can click this to add a resource to the cluster, e.g. via YAML (when saved, it till add the resouce to the cluster).\n",
    "\n",
    "Notice the conmo box in the top left of the Web UI\n",
    "- You can use this to choose the namespace that is used to display the various resources above.\n",
    "  - Choose a specific namespace (e.g. `default`) to only see resources in that namespace.\n",
    "  - Choose `All namespaces` to see resources in all namesapces.\n",
    "\n",
    "**Press `Ctrl + C` in the terminal when you are done using the `dashboard` to stop and remove the proxy to it.**"
   ]
  },
  {
   "cell_type": "markdown",
   "metadata": {},
   "source": [
    "## Stop the Minikube cluster\n",
    "\n",
    "- This stops the Minikube cluster, but doesn't delete it.\n",
    "  - It just stops the Docker containers for the Minikube nodes.\n",
    "  - A stopped (but not deleted) Minikube cluster, can be restarted with the command `minikube start -p <profile>`\n",
    "    - Where `<profile>` is the name of the Minikube profile, e.g. `minikube start -p minikube`\n",
    "    - Or just `minikube start` for the default profile.\n",
    "    - This will restart the Minikube cluster with the same configuration it had when it was stopped."
   ]
  },
  {
   "cell_type": "code",
   "execution_count": 9,
   "metadata": {
    "vscode": {
     "languageId": "shellscript"
    }
   },
   "outputs": [
    {
     "name": "stdout",
     "output_type": "stream",
     "text": [
      "✋  Stopping node \"minikube\"  ...\n",
      "🛑  Powering off \"minikube\" via SSH ...\n",
      "✋  Stopping node \"minikube-m02\"  ...\n",
      "🛑  Powering off \"minikube-m02\" via SSH ...\n",
      "✋  Stopping node \"minikube-m03\"  ...\n",
      "🛑  Powering off \"minikube-m03\" via SSH ...\n",
      "🛑  3 nodes stopped.\n"
     ]
    }
   ],
   "source": [
    "#!minikube stop -p minikube\n",
    "!minikube stop"
   ]
  },
  {
   "cell_type": "markdown",
   "metadata": {},
   "source": [
    "## List Running Docker Containers on your computer (host machine)\n",
    "\n",
    "- Minikube nodes are run as Docker Containers (when Docker is used as the \"driver\").\n",
    "  - We see that the Docker Containers for the Minikube nodes have a `STATUS` of `Exited`."
   ]
  },
  {
   "cell_type": "code",
   "execution_count": 10,
   "metadata": {
    "vscode": {
     "languageId": "shellscript"
    }
   },
   "outputs": [
    {
     "name": "stdout",
     "output_type": "stream",
     "text": [
      "CONTAINER ID   IMAGE                                 COMMAND                  CREATED         STATUS                       PORTS     NAMES\n",
      "56fbdaa6bff2   gcr.io/k8s-minikube/kicbase:v0.0.42   \"/usr/local/bin/entr…\"   3 minutes ago   Exited (130) 2 seconds ago             minikube-m03\n",
      "c81e01024188   gcr.io/k8s-minikube/kicbase:v0.0.42   \"/usr/local/bin/entr…\"   3 minutes ago   Exited (130) 4 seconds ago             minikube-m02\n",
      "1fb7ea6a8b02   gcr.io/k8s-minikube/kicbase:v0.0.42   \"/usr/local/bin/entr…\"   4 minutes ago   Exited (130) 5 seconds ago             minikube\n"
     ]
    }
   ],
   "source": [
    "!docker ps -a"
   ]
  },
  {
   "cell_type": "markdown",
   "metadata": {},
   "source": [
    "## Delete the Minikube cluster\n",
    "\n",
    "- This deletes the Minikube cluster.\n",
    "  - It deletes the Docker containers for the Minikube nodes.\n",
    "  - A deleted Minikube cluster can't be restarted (it must be reconfigured from scratch)."
   ]
  },
  {
   "cell_type": "code",
   "execution_count": 11,
   "metadata": {
    "vscode": {
     "languageId": "shellscript"
    }
   },
   "outputs": [
    {
     "name": "stdout",
     "output_type": "stream",
     "text": [
      "🔥  Deleting \"minikube\" in docker ...\n",
      "🔥  Deleting container \"minikube\" ...\n",
      "🔥  Deleting container \"minikube-m02\" ...\n",
      "🔥  Deleting container \"minikube-m03\" ...\n",
      "🔥  Removing /home/patrick/.minikube/machines/minikube ...\n",
      "🔥  Removing /home/patrick/.minikube/machines/minikube-m02 ...\n",
      "🔥  Removing /home/patrick/.minikube/machines/minikube-m03 ...\n",
      "💀  Removed all traces of the \"minikube\" cluster.\n"
     ]
    }
   ],
   "source": [
    "#!minikube delete -p minikube\n",
    "!minikube delete"
   ]
  },
  {
   "cell_type": "markdown",
   "metadata": {
    "vscode": {
     "languageId": "shellscript"
    }
   },
   "source": [
    "## List Running Docker Containers on your computer (host machine)\n",
    "\n",
    "- Minikube nodes are run as Docker Containers (when Docker is used as the \"driver\").\n",
    "  - We see that the Docker Containers for the Minikube nodes have been deleted."
   ]
  },
  {
   "cell_type": "code",
   "execution_count": 12,
   "metadata": {
    "vscode": {
     "languageId": "shellscript"
    }
   },
   "outputs": [
    {
     "name": "stdout",
     "output_type": "stream",
     "text": [
      "CONTAINER ID   IMAGE     COMMAND   CREATED   STATUS    PORTS     NAMES\n"
     ]
    }
   ],
   "source": [
    "!docker ps -a"
   ]
  },
  {
   "cell_type": "code",
   "execution_count": null,
   "metadata": {
    "vscode": {
     "languageId": "shellscript"
    }
   },
   "outputs": [],
   "source": []
  }
 ],
 "metadata": {
  "kernelspec": {
   "display_name": "Python 3",
   "language": "python",
   "name": "python3"
  },
  "language_info": {
   "codemirror_mode": {
    "name": "ipython",
    "version": 3
   },
   "file_extension": ".py",
   "mimetype": "text/x-python",
   "name": "python",
   "nbconvert_exporter": "python",
   "pygments_lexer": "ipython3",
   "version": "3.10.13"
  }
 },
 "nbformat": 4,
 "nbformat_minor": 2
}
